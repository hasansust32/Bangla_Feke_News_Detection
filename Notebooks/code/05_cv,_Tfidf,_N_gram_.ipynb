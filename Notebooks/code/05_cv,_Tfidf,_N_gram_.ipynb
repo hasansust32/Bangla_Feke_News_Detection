{
  "nbformat": 4,
  "nbformat_minor": 0,
  "metadata": {
    "kernelspec": {
      "name": "python3",
      "display_name": "Python 3",
      "language": "python"
    },
    "language_info": {
      "name": "python",
      "version": "3.7.6",
      "mimetype": "text/x-python",
      "codemirror_mode": {
        "name": "ipython",
        "version": 3
      },
      "pygments_lexer": "ipython3",
      "nbconvert_exporter": "python",
      "file_extension": ".py"
    },
    "colab": {
      "name": "05_cv,_Tfidf,_N_gram_.ipynb",
      "provenance": [],
      "collapsed_sections": []
    }
  },
  "cells": [
    {
      "cell_type": "code",
      "metadata": {
        "_uuid": "8f2839f25d086af736a60e9eeb907d3b93b6e0e5",
        "_cell_guid": "b1076dfc-b9ad-4769-8c92-a6c4dae69d19",
        "trusted": true,
        "id": "CtZQBmXJRAJi"
      },
      "source": [
        "# This Python 3 environment comes with many helpful analytics libraries installed\n",
        "# It is defined by the kaggle/python Docker image: https://github.com/kaggle/docker-python\n",
        "# For example, here's several helpful packages to load\n",
        "\n",
        "import numpy as np # linear algebra\n",
        "import pandas as pd # data processing, CSV file I/O (e.g. pd.read_csv)\n",
        "\n",
        "# Input data files are available in the read-only \"../input/\" directory\n",
        "# For example, running this (by clicking run or pressing Shift+Enter) will list all files under the input directory\n",
        "\n",
        "import os\n",
        "\n",
        "# You can write up to 5GB to the current directory (/kaggle/working/) that gets preserved as output when you create a version using \"Save & Run All\" \n",
        "# You can also write temporary files to /kaggle/temp/, but they won't be saved outside of the current session"
      ],
      "execution_count": null,
      "outputs": []
    },
    {
      "cell_type": "code",
      "metadata": {
        "colab": {
          "base_uri": "https://localhost:8080/"
        },
        "id": "HOnEkgYkRpnF",
        "outputId": "46e757eb-60ce-4e84-9fd1-a51b257cfeae"
      },
      "source": [
        "from google.colab import drive\n",
        "drive.mount('/content/drive')"
      ],
      "execution_count": null,
      "outputs": [
        {
          "output_type": "stream",
          "text": [
            "Mounted at /content/drive\n"
          ],
          "name": "stdout"
        }
      ]
    },
    {
      "cell_type": "markdown",
      "metadata": {
        "id": "wvomtXYcRAJo"
      },
      "source": [
        "Importing required libraries"
      ]
    },
    {
      "cell_type": "code",
      "metadata": {
        "_uuid": "d629ff2d2480ee46fbb7e2d37f6b5fab8052498a",
        "_cell_guid": "79c7e3d0-c299-4dcb-8224-4455121ee9b0",
        "trusted": true,
        "id": "boNI2YHPRAJp"
      },
      "source": [
        "import pandas as pd\n",
        "import matplotlib.pyplot as plt\n",
        "import numpy as np\n",
        "import seaborn as sns\n",
        "from mpl_toolkits.mplot3d import Axes3D"
      ],
      "execution_count": null,
      "outputs": []
    },
    {
      "cell_type": "code",
      "metadata": {
        "trusted": true,
        "id": "ClgE1LttRAJp"
      },
      "source": [
        "import plotly.offline as pyoff\n",
        "import plotly.graph_objs as go"
      ],
      "execution_count": null,
      "outputs": []
    },
    {
      "cell_type": "code",
      "metadata": {
        "trusted": true,
        "id": "3p24XjZERAJq"
      },
      "source": [
        "import plotly.graph_objs as go"
      ],
      "execution_count": null,
      "outputs": []
    },
    {
      "cell_type": "markdown",
      "metadata": {
        "id": "EfQXu6OqRAJq"
      },
      "source": [
        "Reading Files"
      ]
    },
    {
      "cell_type": "code",
      "metadata": {
        "trusted": true,
        "id": "7MMEY3JmRAJr"
      },
      "source": [
        "fake = pd.read_csv('/content/drive/MyDrive/research/Fake-Final.csv')\n",
        "real = pd.read_csv('/content/drive/MyDrive/research/Authentic-10K.csv')"
      ],
      "execution_count": null,
      "outputs": []
    },
    {
      "cell_type": "markdown",
      "metadata": {
        "id": "tatKu-y9RAJr"
      },
      "source": [
        "Data Cleaning"
      ]
    },
    {
      "cell_type": "code",
      "metadata": {
        "trusted": true,
        "id": "X0Rt0atSRAJt"
      },
      "source": [
        "frames = [fake, real]\n",
        "\n",
        "df = pd.concat(frames)"
      ],
      "execution_count": null,
      "outputs": []
    },
    {
      "cell_type": "code",
      "metadata": {
        "trusted": true,
        "colab": {
          "base_uri": "https://localhost:8080/",
          "height": 932
        },
        "id": "KkZzg52yRAJt",
        "outputId": "e9d6f8de-b489-4b03-936b-890b00e127ff"
      },
      "source": [
        "df"
      ],
      "execution_count": null,
      "outputs": [
        {
          "output_type": "execute_result",
          "data": {
            "text/html": [
              "<div>\n",
              "<style scoped>\n",
              "    .dataframe tbody tr th:only-of-type {\n",
              "        vertical-align: middle;\n",
              "    }\n",
              "\n",
              "    .dataframe tbody tr th {\n",
              "        vertical-align: top;\n",
              "    }\n",
              "\n",
              "    .dataframe thead th {\n",
              "        text-align: right;\n",
              "    }\n",
              "</style>\n",
              "<table border=\"1\" class=\"dataframe\">\n",
              "  <thead>\n",
              "    <tr style=\"text-align: right;\">\n",
              "      <th></th>\n",
              "      <th>Unnamed: 0</th>\n",
              "      <th>F-type</th>\n",
              "      <th>articleID</th>\n",
              "      <th>category</th>\n",
              "      <th>content</th>\n",
              "      <th>date</th>\n",
              "      <th>domain</th>\n",
              "      <th>headline</th>\n",
              "      <th>label</th>\n",
              "      <th>relation</th>\n",
              "      <th>source</th>\n",
              "    </tr>\n",
              "  </thead>\n",
              "  <tbody>\n",
              "    <tr>\n",
              "      <th>0</th>\n",
              "      <td>0</td>\n",
              "      <td>Satire</td>\n",
              "      <td>1</td>\n",
              "      <td>International</td>\n",
              "      <td>বাংলায় একটা প্রবাদ আছে, শেয়ালের কাছে মুরগী বর্...</td>\n",
              "      <td>2019-03-14T13:34:14+00:00</td>\n",
              "      <td>channeldhaka.news</td>\n",
              "      <td>মুরগির হামলায় শেয়াল নিহত</td>\n",
              "      <td>0</td>\n",
              "      <td>Unrelated</td>\n",
              "      <td>Reporter</td>\n",
              "    </tr>\n",
              "    <tr>\n",
              "      <th>1</th>\n",
              "      <td>1</td>\n",
              "      <td>Satire</td>\n",
              "      <td>2</td>\n",
              "      <td>Miscellaneous</td>\n",
              "      <td>BTV থেকে লোকজন আসছে, ইন্টারভিউ নিবে।চারজনের টি...</td>\n",
              "      <td>সেম্বর ১৭, ২০১৮</td>\n",
              "      <td>earki.com</td>\n",
              "      <td>বিটিভিতে যেবার আমি ইন্টারভিউ দিতে গেলাম</td>\n",
              "      <td>0</td>\n",
              "      <td>Unrelated</td>\n",
              "      <td>Reporter</td>\n",
              "    </tr>\n",
              "    <tr>\n",
              "      <th>2</th>\n",
              "      <td>2</td>\n",
              "      <td>Satire</td>\n",
              "      <td>3</td>\n",
              "      <td>Miscellaneous</td>\n",
              "      <td>অদ্ভুত বিরোধীদলহীনতায় ভুগছে সরকার। এ এক অন্যরক...</td>\n",
              "      <td>২০:৩৯, জানুয়ারি ১৪, ২০১৯</td>\n",
              "      <td>earki.com</td>\n",
              "      <td>বিদেশ থেকে উন্নতমানের বিরোধীদল আমদানি করার পরা...</td>\n",
              "      <td>0</td>\n",
              "      <td>Unrelated</td>\n",
              "      <td>Reporter</td>\n",
              "    </tr>\n",
              "    <tr>\n",
              "      <th>3</th>\n",
              "      <td>3</td>\n",
              "      <td>Satire</td>\n",
              "      <td>4</td>\n",
              "      <td>Sports</td>\n",
              "      <td>রাশিয়া বিশ্বকাপ নকআউট পর্বে ফ্রান্সের সাথে ৪-৩...</td>\n",
              "      <td>2018-06-30T15:56:47+00:00</td>\n",
              "      <td>channeldhaka.news</td>\n",
              "      <td>অবসর নেয়ার ঘোষণা দিলেন মেসি !</td>\n",
              "      <td>0</td>\n",
              "      <td>Unrelated</td>\n",
              "      <td>Reporter</td>\n",
              "    </tr>\n",
              "    <tr>\n",
              "      <th>4</th>\n",
              "      <td>4</td>\n",
              "      <td>Satire</td>\n",
              "      <td>5</td>\n",
              "      <td>Miscellaneous</td>\n",
              "      <td>নিজস্ব মতিবেদক‘মাদারফাকার নহে, আমি ব্রাদারফাকা...</td>\n",
              "      <td>2013-03-05T21:55:45+00:00</td>\n",
              "      <td>motikontho.wordpress.com</td>\n",
              "      <td>মাদারফাকার নহে, ব্রাদারফাকার: সাকা | দৈনিক মতি...</td>\n",
              "      <td>0</td>\n",
              "      <td>Unrelated</td>\n",
              "      <td>Reporter</td>\n",
              "    </tr>\n",
              "    <tr>\n",
              "      <th>...</th>\n",
              "      <td>...</td>\n",
              "      <td>...</td>\n",
              "      <td>...</td>\n",
              "      <td>...</td>\n",
              "      <td>...</td>\n",
              "      <td>...</td>\n",
              "      <td>...</td>\n",
              "      <td>...</td>\n",
              "      <td>...</td>\n",
              "      <td>...</td>\n",
              "      <td>...</td>\n",
              "    </tr>\n",
              "    <tr>\n",
              "      <th>9995</th>\n",
              "      <td>9995</td>\n",
              "      <td>NaN</td>\n",
              "      <td>12573</td>\n",
              "      <td>Entertainment</td>\n",
              "      <td>♦          গোলাপজলে আছে অ্যান্টি অক্সিডেন্ট, য...</td>\n",
              "      <td>2018-09-24 02:14:06</td>\n",
              "      <td>kalerkantho.com</td>\n",
              "      <td>ত্বকের বন্ধু গোলাপজল</td>\n",
              "      <td>1</td>\n",
              "      <td>NaN</td>\n",
              "      <td>NaN</td>\n",
              "    </tr>\n",
              "    <tr>\n",
              "      <th>9996</th>\n",
              "      <td>9996</td>\n",
              "      <td>NaN</td>\n",
              "      <td>12574</td>\n",
              "      <td>Entertainment</td>\n",
              "      <td>ঘরের পুরনো আসবাবের সঙ্গে মিশে থাকে নানা স্মৃতি...</td>\n",
              "      <td>2018-09-24 02:14:01</td>\n",
              "      <td>kalerkantho.com</td>\n",
              "      <td>ওল্ড ইজ গোল্ড</td>\n",
              "      <td>1</td>\n",
              "      <td>NaN</td>\n",
              "      <td>NaN</td>\n",
              "    </tr>\n",
              "    <tr>\n",
              "      <th>9997</th>\n",
              "      <td>9997</td>\n",
              "      <td>NaN</td>\n",
              "      <td>12575</td>\n",
              "      <td>Entertainment</td>\n",
              "      <td>ধনেপাতার পাকোড়া উপকরণ ধনেপাতা ১ আঁটি, ময়দা আধা...</td>\n",
              "      <td>2018-09-24 03:26:17</td>\n",
              "      <td>kalerkantho.com</td>\n",
              "      <td>ধন্যি ধনেপাতা</td>\n",
              "      <td>1</td>\n",
              "      <td>NaN</td>\n",
              "      <td>NaN</td>\n",
              "    </tr>\n",
              "    <tr>\n",
              "      <th>9998</th>\n",
              "      <td>9998</td>\n",
              "      <td>NaN</td>\n",
              "      <td>12576</td>\n",
              "      <td>Entertainment</td>\n",
              "      <td>ফিট থাকতে যা যা করা দরকার তার সব করে উঠতে পারি...</td>\n",
              "      <td>2018-09-24 02:14:08</td>\n",
              "      <td>kalerkantho.com</td>\n",
              "      <td>ফাস্ট ফুড এড়িয়ে চলি</td>\n",
              "      <td>1</td>\n",
              "      <td>NaN</td>\n",
              "      <td>NaN</td>\n",
              "    </tr>\n",
              "    <tr>\n",
              "      <th>9999</th>\n",
              "      <td>9999</td>\n",
              "      <td>NaN</td>\n",
              "      <td>12577</td>\n",
              "      <td>Entertainment</td>\n",
              "      <td>জিমে কেন যাবেন জিমের প্রয়োজনীয়তা নিয়ে রেড জিমে...</td>\n",
              "      <td>2018-09-24 01:38:30</td>\n",
              "      <td>kalerkantho.com</td>\n",
              "      <td>জিম</td>\n",
              "      <td>1</td>\n",
              "      <td>NaN</td>\n",
              "      <td>NaN</td>\n",
              "    </tr>\n",
              "  </tbody>\n",
              "</table>\n",
              "<p>11434 rows × 11 columns</p>\n",
              "</div>"
            ],
            "text/plain": [
              "      Unnamed: 0  F-type  articleID  ... label   relation    source\n",
              "0              0  Satire          1  ...     0  Unrelated  Reporter\n",
              "1              1  Satire          2  ...     0  Unrelated  Reporter\n",
              "2              2  Satire          3  ...     0  Unrelated  Reporter\n",
              "3              3  Satire          4  ...     0  Unrelated  Reporter\n",
              "4              4  Satire          5  ...     0  Unrelated  Reporter\n",
              "...          ...     ...        ...  ...   ...        ...       ...\n",
              "9995        9995     NaN      12573  ...     1        NaN       NaN\n",
              "9996        9996     NaN      12574  ...     1        NaN       NaN\n",
              "9997        9997     NaN      12575  ...     1        NaN       NaN\n",
              "9998        9998     NaN      12576  ...     1        NaN       NaN\n",
              "9999        9999     NaN      12577  ...     1        NaN       NaN\n",
              "\n",
              "[11434 rows x 11 columns]"
            ]
          },
          "metadata": {
            "tags": []
          },
          "execution_count": 7
        }
      ]
    },
    {
      "cell_type": "markdown",
      "metadata": {
        "id": "CzPNdit1RAJu"
      },
      "source": [
        "removing urls"
      ]
    },
    {
      "cell_type": "code",
      "metadata": {
        "trusted": true,
        "id": "zjrzAmLgRAJv"
      },
      "source": [
        "df_sub=df.groupby(['category', 'label'])['content'].count()"
      ],
      "execution_count": null,
      "outputs": []
    },
    {
      "cell_type": "code",
      "metadata": {
        "trusted": true,
        "colab": {
          "base_uri": "https://localhost:8080/"
        },
        "id": "SJ7G_v1eRAJv",
        "outputId": "c58d63a5-70b2-4cb6-cb8c-bceb2b975dac"
      },
      "source": [
        "df_sub"
      ],
      "execution_count": null,
      "outputs": [
        {
          "output_type": "execute_result",
          "data": {
            "text/plain": [
              "category       label\n",
              "Crime          0          43\n",
              "               1         144\n",
              "Editorial      1         673\n",
              "Education      0          30\n",
              "               1         181\n",
              "Entertainment  0         112\n",
              "               1         551\n",
              "Finance        0           3\n",
              "               1         236\n",
              "International  0         134\n",
              "               1        1392\n",
              "Lifestyle      0         108\n",
              "               1         176\n",
              "Miscellaneous  0         663\n",
              "               1         444\n",
              "National       0         152\n",
              "               1        3814\n",
              "Politics       0         100\n",
              "               1         644\n",
              "Sports         0          60\n",
              "               1        1600\n",
              "Technology     0          29\n",
              "               1         145\n",
              "Name: content, dtype: int64"
            ]
          },
          "metadata": {
            "tags": []
          },
          "execution_count": 10
        }
      ]
    },
    {
      "cell_type": "code",
      "metadata": {
        "trusted": true,
        "colab": {
          "base_uri": "https://localhost:8080/",
          "height": 452
        },
        "id": "hKim9FuCRAJw",
        "outputId": "89b6cca6-4af6-4e74-fc24-78064a4d9074"
      },
      "source": [
        "df_sub = df_sub.unstack().fillna(0)\n",
        "df_sub"
      ],
      "execution_count": null,
      "outputs": [
        {
          "output_type": "execute_result",
          "data": {
            "text/html": [
              "<div>\n",
              "<style scoped>\n",
              "    .dataframe tbody tr th:only-of-type {\n",
              "        vertical-align: middle;\n",
              "    }\n",
              "\n",
              "    .dataframe tbody tr th {\n",
              "        vertical-align: top;\n",
              "    }\n",
              "\n",
              "    .dataframe thead th {\n",
              "        text-align: right;\n",
              "    }\n",
              "</style>\n",
              "<table border=\"1\" class=\"dataframe\">\n",
              "  <thead>\n",
              "    <tr style=\"text-align: right;\">\n",
              "      <th>label</th>\n",
              "      <th>0</th>\n",
              "      <th>1</th>\n",
              "    </tr>\n",
              "    <tr>\n",
              "      <th>category</th>\n",
              "      <th></th>\n",
              "      <th></th>\n",
              "    </tr>\n",
              "  </thead>\n",
              "  <tbody>\n",
              "    <tr>\n",
              "      <th>Crime</th>\n",
              "      <td>43.0</td>\n",
              "      <td>144.0</td>\n",
              "    </tr>\n",
              "    <tr>\n",
              "      <th>Editorial</th>\n",
              "      <td>0.0</td>\n",
              "      <td>673.0</td>\n",
              "    </tr>\n",
              "    <tr>\n",
              "      <th>Education</th>\n",
              "      <td>30.0</td>\n",
              "      <td>181.0</td>\n",
              "    </tr>\n",
              "    <tr>\n",
              "      <th>Entertainment</th>\n",
              "      <td>112.0</td>\n",
              "      <td>551.0</td>\n",
              "    </tr>\n",
              "    <tr>\n",
              "      <th>Finance</th>\n",
              "      <td>3.0</td>\n",
              "      <td>236.0</td>\n",
              "    </tr>\n",
              "    <tr>\n",
              "      <th>International</th>\n",
              "      <td>134.0</td>\n",
              "      <td>1392.0</td>\n",
              "    </tr>\n",
              "    <tr>\n",
              "      <th>Lifestyle</th>\n",
              "      <td>108.0</td>\n",
              "      <td>176.0</td>\n",
              "    </tr>\n",
              "    <tr>\n",
              "      <th>Miscellaneous</th>\n",
              "      <td>663.0</td>\n",
              "      <td>444.0</td>\n",
              "    </tr>\n",
              "    <tr>\n",
              "      <th>National</th>\n",
              "      <td>152.0</td>\n",
              "      <td>3814.0</td>\n",
              "    </tr>\n",
              "    <tr>\n",
              "      <th>Politics</th>\n",
              "      <td>100.0</td>\n",
              "      <td>644.0</td>\n",
              "    </tr>\n",
              "    <tr>\n",
              "      <th>Sports</th>\n",
              "      <td>60.0</td>\n",
              "      <td>1600.0</td>\n",
              "    </tr>\n",
              "    <tr>\n",
              "      <th>Technology</th>\n",
              "      <td>29.0</td>\n",
              "      <td>145.0</td>\n",
              "    </tr>\n",
              "  </tbody>\n",
              "</table>\n",
              "</div>"
            ],
            "text/plain": [
              "label              0       1\n",
              "category                    \n",
              "Crime           43.0   144.0\n",
              "Editorial        0.0   673.0\n",
              "Education       30.0   181.0\n",
              "Entertainment  112.0   551.0\n",
              "Finance          3.0   236.0\n",
              "International  134.0  1392.0\n",
              "Lifestyle      108.0   176.0\n",
              "Miscellaneous  663.0   444.0\n",
              "National       152.0  3814.0\n",
              "Politics       100.0   644.0\n",
              "Sports          60.0  1600.0\n",
              "Technology      29.0   145.0"
            ]
          },
          "metadata": {
            "tags": []
          },
          "execution_count": 11
        }
      ]
    },
    {
      "cell_type": "code",
      "metadata": {
        "trusted": true,
        "colab": {
          "base_uri": "https://localhost:8080/",
          "height": 508
        },
        "id": "p94wZ4eRRAJw",
        "outputId": "4ba84c5f-e5fb-4877-e136-0eebde832262"
      },
      "source": [
        "# Visualize this data in bar plot\n",
        "ax = (df_sub).plot(\n",
        "kind='bar',\n",
        "figsize=(10, 7),\n",
        "grid=True\n",
        ")\n",
        "ax.set_ylabel('Count')\n",
        "plt.show()"
      ],
      "execution_count": null,
      "outputs": [
        {
          "output_type": "display_data",
          "data": {
            "image/png": "[encoded data removed]",
            "text/plain": [
              "<Figure size 720x504 with 1 Axes>"
            ]
          },
          "metadata": {
            "tags": [],
            "needs_background": "light"
          }
        }
      ]
    },
    {
      "cell_type": "markdown",
      "metadata": {
        "id": "uBBukcDORAJw"
      },
      "source": [
        "Now it can be said that true news is from subjects like politicsNews and worldnews."
      ]
    },
    {
      "cell_type": "code",
      "metadata": {
        "trusted": true,
        "id": "TQmQr31-RAJx"
      },
      "source": [
        "df_sub['Count']=df_sub[0]+df_sub[1]"
      ],
      "execution_count": null,
      "outputs": []
    },
    {
      "cell_type": "markdown",
      "metadata": {
        "id": "950o6KihRAJx"
      },
      "source": [
        "Pie chart for Subjects"
      ]
    },
    {
      "cell_type": "code",
      "metadata": {
        "trusted": true,
        "colab": {
          "base_uri": "https://localhost:8080/",
          "height": 542
        },
        "id": "yFqeTtdmRAJx",
        "outputId": "759e0893-3086-408a-b865-920e39838c2b"
      },
      "source": [
        "import plotly.graph_objects as go\n",
        "\n",
        "labels = df_sub.index\n",
        "values = df_sub['Count']\n",
        "\n",
        "fig = go.Figure(data=[go.Pie(labels=labels, values=values)])\n",
        "fig.show()"
      ],
      "execution_count": null,
      "outputs": [
        {
          "output_type": "display_data",
          "data": {
            "text/html": [
              "<html>\n",
              "<head><meta charset=\"utf-8\" /></head>\n",
              "<body>\n",
              "    <div>\n",
              "            <script src=\"https://cdnjs.cloudflare.com/ajax/libs/mathjax/2.7.5/MathJax.js?config=TeX-AMS-MML_SVG\"></script><script type=\"text/javascript\">if (window.MathJax) {MathJax.Hub.Config({SVG: {font: \"STIX-Web\"}});}</script>\n",
              "                <script type=\"text/javascript\">window.PlotlyConfig = {MathJaxConfig: 'local'};</script>\n",
              "        <script src=\"https://cdn.plot.ly/plotly-latest.min.js\"></script>    \n",
              "            <div id=\"083390ad-c121-4531-b4bd-4f38cf46f634\" class=\"plotly-graph-div\" style=\"height:525px; width:100%;\"></div>\n",
              "            <script type=\"text/javascript\">\n",
              "                \n",
              "                    window.PLOTLYENV=window.PLOTLYENV || {};\n",
              "                    \n",
              "                if (document.getElementById(\"083390ad-c121-4531-b4bd-4f38cf46f634\")) {\n",
              "                    Plotly.newPlot(\n",
              "                        '083390ad-c121-4531-b4bd-4f38cf46f634',\n",
              "                        [{\"labels\": [\"Crime\", \"Editorial\", \"Education\", \"Entertainment\", \"Finance\", \"International\", \"Lifestyle\", \"Miscellaneous\", \"National\", \"Politics\", \"Sports\", \"Technology\"], \"type\": \"pie\", \"values\": [187.0, 673.0, 211.0, 663.0, 239.0, 1526.0, 284.0, 1107.0, 3966.0, 744.0, 1660.0, 174.0]}],\n",
              "                        {\"template\": {\"data\": {\"bar\": [{\"error_x\": {\"color\": \"#2a3f5f\"}, \"error_y\": {\"color\": \"#2a3f5f\"}, \"marker\": {\"line\": {\"color\": \"#E5ECF6\", \"width\": 0.5}}, \"type\": \"bar\"}], \"barpolar\": [{\"marker\": {\"line\": {\"color\": \"#E5ECF6\", \"width\": 0.5}}, \"type\": \"barpolar\"}], \"carpet\": [{\"aaxis\": {\"endlinecolor\": \"#2a3f5f\", \"gridcolor\": \"white\", \"linecolor\": \"white\", \"minorgridcolor\": \"white\", \"startlinecolor\": \"#2a3f5f\"}, \"baxis\": {\"endlinecolor\": \"#2a3f5f\", \"gridcolor\": \"white\", \"linecolor\": \"white\", \"minorgridcolor\": \"white\", \"startlinecolor\": \"#2a3f5f\"}, \"type\": \"carpet\"}], \"choropleth\": [{\"colorbar\": {\"outlinewidth\": 0, \"ticks\": \"\"}, \"type\": \"choropleth\"}], \"contour\": [{\"colorbar\": {\"outlinewidth\": 0, \"ticks\": \"\"}, \"colorscale\": [[0.0, \"#0d0887\"], [0.1111111111111111, \"#46039f\"], [0.2222222222222222, \"#7201a8\"], [0.3333333333333333, \"#9c179e\"], [0.4444444444444444, \"#bd3786\"], [0.5555555555555556, \"#d8576b\"], [0.6666666666666666, \"#ed7953\"], [0.7777777777777778, \"#fb9f3a\"], [0.8888888888888888, \"#fdca26\"], [1.0, \"#f0f921\"]], \"type\": \"contour\"}], \"contourcarpet\": [{\"colorbar\": {\"outlinewidth\": 0, \"ticks\": \"\"}, \"type\": \"contourcarpet\"}], \"heatmap\": [{\"colorbar\": {\"outlinewidth\": 0, \"ticks\": \"\"}, \"colorscale\": [[0.0, \"#0d0887\"], [0.1111111111111111, \"#46039f\"], [0.2222222222222222, \"#7201a8\"], [0.3333333333333333, \"#9c179e\"], [0.4444444444444444, \"#bd3786\"], [0.5555555555555556, \"#d8576b\"], [0.6666666666666666, \"#ed7953\"], [0.7777777777777778, \"#fb9f3a\"], [0.8888888888888888, \"#fdca26\"], [1.0, \"#f0f921\"]], \"type\": \"heatmap\"}], \"heatmapgl\": [{\"colorbar\": {\"outlinewidth\": 0, \"ticks\": \"\"}, \"colorscale\": [[0.0, \"#0d0887\"], [0.1111111111111111, \"#46039f\"], [0.2222222222222222, \"#7201a8\"], [0.3333333333333333, \"#9c179e\"], [0.4444444444444444, \"#bd3786\"], [0.5555555555555556, \"#d8576b\"], [0.6666666666666666, \"#ed7953\"], [0.7777777777777778, \"#fb9f3a\"], [0.8888888888888888, \"#fdca26\"], [1.0, \"#f0f921\"]], \"type\": \"heatmapgl\"}], \"histogram\": [{\"marker\": {\"colorbar\": {\"outlinewidth\": 0, \"ticks\": \"\"}}, \"type\": \"histogram\"}], \"histogram2d\": [{\"colorbar\": {\"outlinewidth\": 0, \"ticks\": \"\"}, \"colorscale\": [[0.0, \"#0d0887\"], [0.1111111111111111, \"#46039f\"], [0.2222222222222222, \"#7201a8\"], [0.3333333333333333, \"#9c179e\"], [0.4444444444444444, \"#bd3786\"], [0.5555555555555556, \"#d8576b\"], [0.6666666666666666, \"#ed7953\"], [0.7777777777777778, \"#fb9f3a\"], [0.8888888888888888, \"#fdca26\"], [1.0, \"#f0f921\"]], \"type\": \"histogram2d\"}], \"histogram2dcontour\": [{\"colorbar\": {\"outlinewidth\": 0, \"ticks\": \"\"}, \"colorscale\": [[0.0, \"#0d0887\"], [0.1111111111111111, \"#46039f\"], [0.2222222222222222, \"#7201a8\"], [0.3333333333333333, \"#9c179e\"], [0.4444444444444444, \"#bd3786\"], [0.5555555555555556, \"#d8576b\"], [0.6666666666666666, \"#ed7953\"], [0.7777777777777778, \"#fb9f3a\"], [0.8888888888888888, \"#fdca26\"], [1.0, \"#f0f921\"]], \"type\": \"histogram2dcontour\"}], \"mesh3d\": [{\"colorbar\": {\"outlinewidth\": 0, \"ticks\": \"\"}, \"type\": \"mesh3d\"}], \"parcoords\": [{\"line\": {\"colorbar\": {\"outlinewidth\": 0, \"ticks\": \"\"}}, \"type\": \"parcoords\"}], \"pie\": [{\"automargin\": true, \"type\": \"pie\"}], \"scatter\": [{\"marker\": {\"colorbar\": {\"outlinewidth\": 0, \"ticks\": \"\"}}, \"type\": \"scatter\"}], \"scatter3d\": [{\"line\": {\"colorbar\": {\"outlinewidth\": 0, \"ticks\": \"\"}}, \"marker\": {\"colorbar\": {\"outlinewidth\": 0, \"ticks\": \"\"}}, \"type\": \"scatter3d\"}], \"scattercarpet\": [{\"marker\": {\"colorbar\": {\"outlinewidth\": 0, \"ticks\": \"\"}}, \"type\": \"scattercarpet\"}], \"scattergeo\": [{\"marker\": {\"colorbar\": {\"outlinewidth\": 0, \"ticks\": \"\"}}, \"type\": \"scattergeo\"}], \"scattergl\": [{\"marker\": {\"colorbar\": {\"outlinewidth\": 0, \"ticks\": \"\"}}, \"type\": \"scattergl\"}], \"scattermapbox\": [{\"marker\": {\"colorbar\": {\"outlinewidth\": 0, \"ticks\": \"\"}}, \"type\": \"scattermapbox\"}], \"scatterpolar\": [{\"marker\": {\"colorbar\": {\"outlinewidth\": 0, \"ticks\": \"\"}}, \"type\": \"scatterpolar\"}], \"scatterpolargl\": [{\"marker\": {\"colorbar\": {\"outlinewidth\": 0, \"ticks\": \"\"}}, \"type\": \"scatterpolargl\"}], \"scatterternary\": [{\"marker\": {\"colorbar\": {\"outlinewidth\": 0, \"ticks\": \"\"}}, \"type\": \"scatterternary\"}], \"surface\": [{\"colorbar\": {\"outlinewidth\": 0, \"ticks\": \"\"}, \"colorscale\": [[0.0, \"#0d0887\"], [0.1111111111111111, \"#46039f\"], [0.2222222222222222, \"#7201a8\"], [0.3333333333333333, \"#9c179e\"], [0.4444444444444444, \"#bd3786\"], [0.5555555555555556, \"#d8576b\"], [0.6666666666666666, \"#ed7953\"], [0.7777777777777778, \"#fb9f3a\"], [0.8888888888888888, \"#fdca26\"], [1.0, \"#f0f921\"]], \"type\": \"surface\"}], \"table\": [{\"cells\": {\"fill\": {\"color\": \"#EBF0F8\"}, \"line\": {\"color\": \"white\"}}, \"header\": {\"fill\": {\"color\": \"#C8D4E3\"}, \"line\": {\"color\": \"white\"}}, \"type\": \"table\"}]}, \"layout\": {\"annotationdefaults\": {\"arrowcolor\": \"#2a3f5f\", \"arrowhead\": 0, \"arrowwidth\": 1}, \"coloraxis\": {\"colorbar\": {\"outlinewidth\": 0, \"ticks\": \"\"}}, \"colorscale\": {\"diverging\": [[0, \"#8e0152\"], [0.1, \"#c51b7d\"], [0.2, \"#de77ae\"], [0.3, \"#f1b6da\"], [0.4, \"#fde0ef\"], [0.5, \"#f7f7f7\"], [0.6, \"#e6f5d0\"], [0.7, \"#b8e186\"], [0.8, \"#7fbc41\"], [0.9, \"#4d9221\"], [1, \"#276419\"]], \"sequential\": [[0.0, \"#0d0887\"], [0.1111111111111111, \"#46039f\"], [0.2222222222222222, \"#7201a8\"], [0.3333333333333333, \"#9c179e\"], [0.4444444444444444, \"#bd3786\"], [0.5555555555555556, \"#d8576b\"], [0.6666666666666666, \"#ed7953\"], [0.7777777777777778, \"#fb9f3a\"], [0.8888888888888888, \"#fdca26\"], [1.0, \"#f0f921\"]], \"sequentialminus\": [[0.0, \"#0d0887\"], [0.1111111111111111, \"#46039f\"], [0.2222222222222222, \"#7201a8\"], [0.3333333333333333, \"#9c179e\"], [0.4444444444444444, \"#bd3786\"], [0.5555555555555556, \"#d8576b\"], [0.6666666666666666, \"#ed7953\"], [0.7777777777777778, \"#fb9f3a\"], [0.8888888888888888, \"#fdca26\"], [1.0, \"#f0f921\"]]}, \"colorway\": [\"#636efa\", \"#EF553B\", \"#00cc96\", \"#ab63fa\", \"#FFA15A\", \"#19d3f3\", \"#FF6692\", \"#B6E880\", \"#FF97FF\", \"#FECB52\"], \"font\": {\"color\": \"#2a3f5f\"}, \"geo\": {\"bgcolor\": \"white\", \"lakecolor\": \"white\", \"landcolor\": \"#E5ECF6\", \"showlakes\": true, \"showland\": true, \"subunitcolor\": \"white\"}, \"hoverlabel\": {\"align\": \"left\"}, \"hovermode\": \"closest\", \"mapbox\": {\"style\": \"light\"}, \"paper_bgcolor\": \"white\", \"plot_bgcolor\": \"#E5ECF6\", \"polar\": {\"angularaxis\": {\"gridcolor\": \"white\", \"linecolor\": \"white\", \"ticks\": \"\"}, \"bgcolor\": \"#E5ECF6\", \"radialaxis\": {\"gridcolor\": \"white\", \"linecolor\": \"white\", \"ticks\": \"\"}}, \"scene\": {\"xaxis\": {\"backgroundcolor\": \"#E5ECF6\", \"gridcolor\": \"white\", \"gridwidth\": 2, \"linecolor\": \"white\", \"showbackground\": true, \"ticks\": \"\", \"zerolinecolor\": \"white\"}, \"yaxis\": {\"backgroundcolor\": \"#E5ECF6\", \"gridcolor\": \"white\", \"gridwidth\": 2, \"linecolor\": \"white\", \"showbackground\": true, \"ticks\": \"\", \"zerolinecolor\": \"white\"}, \"zaxis\": {\"backgroundcolor\": \"#E5ECF6\", \"gridcolor\": \"white\", \"gridwidth\": 2, \"linecolor\": \"white\", \"showbackground\": true, \"ticks\": \"\", \"zerolinecolor\": \"white\"}}, \"shapedefaults\": {\"line\": {\"color\": \"#2a3f5f\"}}, \"ternary\": {\"aaxis\": {\"gridcolor\": \"white\", \"linecolor\": \"white\", \"ticks\": \"\"}, \"baxis\": {\"gridcolor\": \"white\", \"linecolor\": \"white\", \"ticks\": \"\"}, \"bgcolor\": \"#E5ECF6\", \"caxis\": {\"gridcolor\": \"white\", \"linecolor\": \"white\", \"ticks\": \"\"}}, \"title\": {\"x\": 0.05}, \"xaxis\": {\"automargin\": true, \"gridcolor\": \"white\", \"linecolor\": \"white\", \"ticks\": \"\", \"title\": {\"standoff\": 15}, \"zerolinecolor\": \"white\", \"zerolinewidth\": 2}, \"yaxis\": {\"automargin\": true, \"gridcolor\": \"white\", \"linecolor\": \"white\", \"ticks\": \"\", \"title\": {\"standoff\": 15}, \"zerolinecolor\": \"white\", \"zerolinewidth\": 2}}}},\n",
              "                        {\"responsive\": true}\n",
              "                    ).then(function(){\n",
              "                            \n",
              "var gd = document.getElementById('083390ad-c121-4531-b4bd-4f38cf46f634');\n",
              "var x = new MutationObserver(function (mutations, observer) {{\n",
              "        var display = window.getComputedStyle(gd).display;\n",
              "        if (!display || display === 'none') {{\n",
              "            console.log([gd, 'removed!']);\n",
              "            Plotly.purge(gd);\n",
              "            observer.disconnect();\n",
              "        }}\n",
              "}});\n",
              "\n",
              "// Listen for the removal of the full notebook cells\n",
              "var notebookContainer = gd.closest('#notebook-container');\n",
              "if (notebookContainer) {{\n",
              "    x.observe(notebookContainer, {childList: true});\n",
              "}}\n",
              "\n",
              "// Listen for the clearing of the current output cell\n",
              "var outputEl = gd.closest('.output');\n",
              "if (outputEl) {{\n",
              "    x.observe(outputEl, {childList: true});\n",
              "}}\n",
              "\n",
              "                        })\n",
              "                };\n",
              "                \n",
              "            </script>\n",
              "        </div>\n",
              "</body>\n",
              "</html>"
            ]
          },
          "metadata": {
            "tags": []
          }
        }
      ]
    },
    {
      "cell_type": "code",
      "metadata": {
        "trusted": true,
        "id": "6_aDqwt0RAJx"
      },
      "source": [
        "df_=df.copy()"
      ],
      "execution_count": null,
      "outputs": []
    },
    {
      "cell_type": "code",
      "metadata": {
        "trusted": true,
        "id": "TGUzM7xqRAJy"
      },
      "source": [
        "df_1=df_[df_['label']==1]"
      ],
      "execution_count": null,
      "outputs": []
    },
    {
      "cell_type": "code",
      "metadata": {
        "trusted": true,
        "id": "eY_3hBz7RAJy"
      },
      "source": [
        "df_1=df_1.groupby(['date'])['label'].count()"
      ],
      "execution_count": null,
      "outputs": []
    },
    {
      "cell_type": "code",
      "metadata": {
        "trusted": true,
        "id": "WdgwSd42RAJy"
      },
      "source": [
        "df_1=pd.DataFrame(df_1)"
      ],
      "execution_count": null,
      "outputs": []
    },
    {
      "cell_type": "code",
      "metadata": {
        "trusted": true,
        "colab": {
          "base_uri": "https://localhost:8080/"
        },
        "id": "GwcEXdBpRAJz",
        "outputId": "41126b97-0e90-4404-f913-7ea4ee4cb376"
      },
      "source": [
        "df_1['label']"
      ],
      "execution_count": null,
      "outputs": [
        {
          "output_type": "execute_result",
          "data": {
            "text/plain": [
              "date\n",
              "2018-09-19 17:48:18    1\n",
              "2018-09-19 17:48:19    1\n",
              "2018-09-19 17:48:20    1\n",
              "2018-09-19 17:48:21    2\n",
              "2018-09-19 17:48:23    2\n",
              "                      ..\n",
              "2018-09-29 17:37:48    1\n",
              "2018-09-29 17:37:51    1\n",
              "2018-09-29 17:37:54    1\n",
              "2018-09-29 17:37:56    1\n",
              "2018-09-29 17:37:59    1\n",
              "Name: label, Length: 8384, dtype: int64"
            ]
          },
          "metadata": {
            "tags": []
          },
          "execution_count": 19
        }
      ]
    },
    {
      "cell_type": "code",
      "metadata": {
        "trusted": true,
        "id": "C-L1garPRAJz"
      },
      "source": [
        "df_0=df_[df_['label']==0]"
      ],
      "execution_count": null,
      "outputs": []
    },
    {
      "cell_type": "code",
      "metadata": {
        "trusted": true,
        "id": "tHfaUWY4RAJz"
      },
      "source": [
        "df_0=df_0.groupby(['date'])['label'].count()"
      ],
      "execution_count": null,
      "outputs": []
    },
    {
      "cell_type": "code",
      "metadata": {
        "trusted": true,
        "id": "tJe5JCgZRAJz"
      },
      "source": [
        "df_0=pd.DataFrame(df_0)"
      ],
      "execution_count": null,
      "outputs": []
    },
    {
      "cell_type": "markdown",
      "metadata": {
        "id": "Ip3dG9hDRAJz"
      },
      "source": [
        "Day-wise count of Fake and Real News"
      ]
    },
    {
      "cell_type": "code",
      "metadata": {
        "trusted": true,
        "colab": {
          "base_uri": "https://localhost:8080/",
          "height": 542
        },
        "id": "ie78phwSRAJz",
        "outputId": "0608be5a-53f0-4bf2-9920-a05ce6c8837e"
      },
      "source": [
        "plot_data = [\n",
        "    go.Scatter(\n",
        "        x=df_0.index,\n",
        "        y=df_0['label'],\n",
        "        name='True',\n",
        "        #x_axis=\"OTI\",\n",
        "        #y_axis=\"time\",\n",
        "    ),\n",
        "    go.Scatter(\n",
        "        x=df_1.index,\n",
        "        y=df_1['label'],\n",
        "        name='Fake'\n",
        "    )\n",
        "    \n",
        "]\n",
        "plot_layout = go.Layout(\n",
        "        title='Day-wise',\n",
        "        yaxis_title='Count',\n",
        "        xaxis_title='Time',\n",
        "        plot_bgcolor='rgba(0,0,0,0)'\n",
        "    )\n",
        "fig = go.Figure(data=plot_data, layout=plot_layout)\n",
        "pyoff.iplot(fig)"
      ],
      "execution_count": null,
      "outputs": [
        {
          "output_type": "display_data",
          "data": {
            "text/html": [
              "<html>\n",
              "<head><meta charset=\"utf-8\" /></head>\n",
              "<body>\n",
              "    <div>\n",
              "            <script src=\"https://cdnjs.cloudflare.com/ajax/libs/mathjax/2.7.5/MathJax.js?config=TeX-AMS-MML_SVG\"></script><script type=\"text/javascript\">if (window.MathJax) {MathJax.Hub.Config({SVG: {font: \"STIX-Web\"}});}</script>\n",
              "                <script type=\"text/javascript\">window.PlotlyConfig = {MathJaxConfig: 'local'};</script>\n",
              "        <script src=\"https://cdn.plot.ly/plotly-latest.min.js\"></script>    \n",
              "            <div id=\"b094f0c9-45a3-4701-bfc2-7e6ce45af843\" class=\"plotly-graph-div\" style=\"height:525px; width:100%;\"></div>\n",
              "            <script type=\"text/javascript\">\n",
              "                \n",
              "                    window.PLOTLYENV=window.PLOTLYENV || {};\n",
              "                    \n",
              "                if (document.getElementById(\"b094f0c9-45a3-4701-bfc2-7e6ce45af843\")) {\n",
              "                    Plotly.newPlot(\n",
              "                        'b094f0c9-45a3-4701-bfc2-7e6ce45af843',\n",
              "                        [{\"name\": \"True\", \"type\": \"scatter\", \"x\": [\"1496247442\", \"1537293248\", \"1537294537\", \"1537377018\", \"1537816506\", \"1538687057\", \"1566588292\", \"1566590405\", \"1566594714\", \"2011-03-31T07:15:03+00:00\", \"2011-03-31T09:30:43+00:00\", \"2011-03-31T11:22:54+00:00\", \"2011-03-31T14:41:59+00:00\", \"2011-04-25T05:45:09+00:00\", \"2011-04-27T00:59:22+00:00\", \"2011-04-27T13:17:06+00:00\", \"2011-04-27T13:39:27+00:00\", \"2011-05-29T15:01:18+00:00\", \"2011-05-29T17:29:36+00:00\", \"2011-05-31T08:07:28+00:00\", \"2011-05-31T13:47:17+00:00\", \"2011-06-19T07:12:21+00:00\", \"2011-06-22T06:14:00+00:00\", \"2011-06-25T23:18:40+00:00\", \"2011-06-28T16:47:14+00:00\", \"2011-07-02T17:17:42+00:00\", \"2011-07-29T04:47:04+00:00\", \"2011-07-31T02:45:12+00:00\", \"2011-08-02T05:21:51+00:00\", \"2011-08-04T11:36:48+00:00\", \"2011-08-25T14:58:47+00:00\", \"2011-10-29T13:51:41+00:00\", \"2011-10-31T14:52:59+00:00\", \"2011-10-31T14:53:51+00:00\", \"2011-11-29T08:25:27+00:00\", \"2011-11-29T08:35:23+00:00\", \"2011-11-30T07:01:40+00:00\", \"2011-11-30T12:20:53+00:00\", \"2011-12-27T13:13:05+00:00\", \"2011-12-29T07:39:36+00:00\", \"2011-12-30T12:18:07+00:00\", \"2012-01-30T03:29:40+00:00\", \"2012-01-30T08:41:02+00:00\", \"2012-01-31T13:57:24+00:00\", \"2012-01-31T17:16:36+00:00\", \"2012-02-25T08:14:17+00:00\", \"2012-02-26T01:13:36+00:00\", \"2012-02-28T01:09:21+00:00\", \"2012-02-28T13:23:12+00:00\", \"2012-03-07T10:16:48+00:00\", \"2012-03-28T03:12:38+00:00\", \"2012-03-29T13:14:36+00:00\", \"2012-03-31T13:42:35+00:00\", \"2012-03-31T17:38:33+00:00\", \"2012-04-13T14:49:28+00:00\", \"2012-04-26T20:18:58+00:00\", \"2012-04-29T17:46:19+00:00\", \"2012-04-29T17:55:36+00:00\", \"2012-05-20T06:34:51+00:00\", \"2012-05-20T11:35:07+00:00\", \"2012-05-25T13:18:18+00:00\", \"2012-05-26T11:51:03+00:00\", \"2012-06-19T13:52:31+00:00\", \"2012-06-20T14:00:23+00:00\", \"2012-06-21T14:27:02+00:00\", \"2012-06-29T20:59:42+00:00\", \"2012-07-05T15:20:28+00:00\", \"2012-08-27T04:14:15+00:00\", \"2012-08-28T11:25:25+00:00\", \"2012-08-29T08:56:19+00:00\", \"2012-08-31T07:22:51+00:00\", \"2012-08-31T17:08:57+00:00\", \"2012-09-26T18:16:16+00:00\", \"2012-09-28T04:57:35+00:00\", \"2012-09-30T09:10:50+00:00\", \"2012-09-30T12:11:16+00:00\", \"2012-10-28T21:36:22+00:00\", \"2012-10-30T11:33:15+00:00\", \"2012-10-31T16:58:43+00:00\", \"2012-10-31T17:11:40+00:00\", \"2012-11-21T16:53:43+00:00\", \"2012-11-23T23:33:09+00:00\", \"2012-11-27T08:38:55+00:00\", \"2012-11-30T07:16:30+00:00\", \"2012-12-29T13:35:54+00:00\", \"2012-12-30T11:13:49+00:00\", \"2012-12-30T16:15:22+00:00\", \"2012-12-31T02:58:55+00:00\", \"2012-12-31T12:50:14+00:00\", \"2012-12-31T15:04:58+00:00\", \"2013-01-30T14:00:03+00:00\", \"2013-01-30T17:04:46+00:00\", \"2013-01-31T06:40:30+00:00\", \"2013-02-26T18:26:57+00:00\", \"2013-02-27T01:38:37+00:00\", \"2013-02-28T05:26:29+00:00\", \"2013-03-05T21:55:45+00:00\", \"2013-03-28T22:25:53+00:00\", \"2013-03-30T04:23:40+00:00\", \"2013-03-31T11:09:01+00:00\", \"2013-03-31T11:39:29+00:00\", \"2013-04-08T12:16:35+00:00\", \"2013-04-25T23:52:19+00:00\", \"2013-04-29T03:10:34+00:00\", \"2013-04-29T03:47:35+00:00\", \"2013-05-05T12:38:35+00:00\", \"2013-05-30T12:30:51+00:00\", \"2013-05-30T12:52:03+00:00\", \"2013-05-31T12:23:47+00:00\", \"2013-06-28T13:20:29+00:00\", \"2013-06-29T07:38:35+00:00\", \"2013-06-29T13:38:47+00:00\", \"2013-06-30T15:38:27+00:00\", \"2013-07-29T22:48:25+00:00\", \"2013-07-30T12:46:53+00:00\", \"2013-07-30T13:06:43+00:00\", \"2013-07-31T10:55:24+00:00\", \"2013-08-30T18:29:35+00:00\", \"2013-08-31T13:43:02+00:00\", \"2013-09-21T21:58:28+00:00\", \"2013-09-29T11:50:17+00:00\", \"2013-10-17T13:16:15+00:00\", \"2013-10-27T21:13:03+00:00\", \"2013-10-28T04:03:55+00:00\", \"2013-10-28T12:21:26+00:00\", \"2013-10-31T16:22:00+00:00\", \"2013-10-31T18:24:52+00:00\", \"2013-11-27T17:43:45+00:00\", \"2013-11-29T21:33:42+00:00\", \"2013-11-30T11:56:19+00:00\", \"2013-11-30T15:30:19+00:00\", \"2013-11-30T16:54:19+00:00\", \"2013-12-30T13:21:41+00:00\", \"2013-12-30T14:49:24+00:00\", \"2013-12-31T13:41:43+00:00\", \"2013-12-31T16:55:15+00:00\", \"2014-01-28T14:39:53+00:00\", \"2014-01-29T15:14:35+00:00\", \"2014-01-31T13:24:28+00:00\", \"2014-02-08T14:20:35+00:00\", \"2014-02-23T12:42:15+00:00\", \"2014-02-24T18:48:42+00:00\", \"2014-02-25T15:54:40+00:00\", \"2014-03-27T18:13:39+00:00\", \"2014-03-28T09:00:59+00:00\", \"2014-03-29T11:11:23+00:00\", \"2014-04-15T15:32:53+00:00\", \"2014-04-21T13:54:43+00:00\", \"2014-04-22T14:25:13+00:00\", \"2014-05-28T12:18:37+00:00\", \"2014-05-29T11:41:40+00:00\", \"2014-05-30T15:32:26+00:00\", \"2014-06-18T15:39:27+00:00\", \"2014-06-24T11:47:46+00:00\", \"2014-06-24T18:29:25+00:00\", \"2014-06-25T15:16:27+00:00\", \"2014-07-27T10:04:08+00:00\", \"2014-07-27T14:02:54+00:00\", \"2014-07-29T12:37:46+00:00\", \"2014-07-30T13:39:37+00:00\", \"2014-08-25T14:16:41+00:00\", \"2014-08-27T19:11:33+00:00\", \"2014-08-30T14:27:13+00:00\", \"2014-08-31T11:30:11+00:00\", \"2014-09-17T15:21:04+00:00\", \"2014-09-20T14:42:06+00:00\", \"2014-09-27T15:52:56+00:00\", \"2014-09-29T09:24:34+00:00\", \"2014-10-25T10:30:33+00:00\", \"2014-10-28T21:02:52+00:00\", \"2014-10-29T12:17:40+00:00\", \"2014-10-29T17:59:49+00:00\", \"2014-11-01T11:41:18+00:00\", \"2014-11-25T15:00:30+00:00\", \"2014-11-26T13:20:06+00:00\", \"2014-11-28T13:03:55+00:00\", \"2014-11-30T14:27:15+00:00\", \"2014-12-18T13:34:40+00:00\", \"2014-12-21T20:35:34+00:00\", \"2014-12-22T20:35:19+00:00\", \"2014-12-26T22:05:33+00:00\", \"2015-01-27T17:15:08+00:00\", \"2015-01-29T05:00:35+00:00\", \"2015-01-29T15:47:02+00:00\", \"2015-01-31T14:43:37+00:00\", \"2015-02-15T16:06:32+00:00\", \"2015-02-21T13:36:04+00:00\", \"2015-02-22T14:45:30+00:00\", \"2015-02-24T12:32:45+00:00\", \"2015-02-25T09:45:02+00:00\", \"2015-02-25T11:43:12+00:00\", \"2015-03-03T18:32:58+00:00\", \"2015-03-11 00:00:00\", \"2015-04-27 09:28:00\", \"2015-06-16T09:47:48+00:00\", \"2015-07-29T15:02:46+00:00\", \"2015-10-28T18:19:15+00:00\", \"2015-10-29T20:59:16+00:00\", \"2015-10-30T18:08:20+00:00\", \"2015-11-03 11:29:00\", \"2015-11-18T19:04:42+00:00\", \"2015-11-19T17:30:36+00:00\", \"2015-11-21T16:45:17+00:00\", \"2015-11-22T17:25:17+00:00\", \"2015-11-3 10:56:00\", \"2015-12-02T20:19:35+00:00\", \"2015-12-08T20:30:21+00:00\", \"2015-12-09T21:23:59+00:00\", \"2016-11-2 12:00:00\", \"2017-03-24 00:00:00\", \"2017-05-29 01:42:37\", \"2017-05-31 03:27:00\", \"2017-06-12 02:06:00\", \"2017-07-01 17:58:00\", \"2017-07-02 03:56:00\", \"2017-07-02 04:15:00\", \"2017-07-03 07:11:00\", \"2017-07-12 02:47:00\", \"2017-07-12 12:54:00\", \"2017-07-14 12:44:00\", \"2017-08-11 09:28:00\", \"2017-08-22T19:18:22+00:00\", \"2017-08-22T20:10:48+00:00\", \"2017-08-23T06:30:45+00:00\", \"2017-08-23T16:22:04+00:00\", \"2017-08-24 16:56:59+00:00\", \"2017-08-24T16:56:59+00:00\", \"2017-08-24T17:06:15+00:00\", \"2017-08-24T22:56:59+00:00\", \"2017-08-24T23:06:15+00:00\", \"2017-08-25T17:28:37+00:00\", \"2017-08-27T14:44:28+00:00\", \"2017-08-29T17:55:14+00:00\", \"2017-08-30T13:36:57+00:00\", \"2017-08-30T18:09:59+00:00\", \"2017-09-04T14:06:22+00:00\", \"2017-09-05T21:34:27+00:00\", \"2017-09-12T15:21:50+00:00\", \"2017-09-13T11:08:46+00:00\", \"2017-09-17 08:00:00\", \"2017-09-19T12:11:07+00:00\", \"2017-09-22T15:15:23+00:00\", \"2017-09-30T14:26:02+00:00\", \"2017-1-13 01:29:00\", \"2017-10-02T15:44:15+00:00\", \"2017-10-06 13:07:00\", \"2017-10-11 08:19:00\", \"2017-10-15 00:00:00\", \"2017-10-30T10:37:26+00:00\", \"2017-11-10T15:36:04+00:00\", \"2017-11-17T11:50:14+00:00\", \"2017-11-17T17:02:38+00:00\", \"2017-11-21T11:49:33+00:00\", \"2017-11-22 11:44:00\", \"2017-11-22 12:27:00\", \"2017-11-22 12:48:00\", \"2017-11-23 8:35:00\", \"2017-12-17T11:36:11+00:00\", \"2017-12-18T12:31:58+00:00\", \"2017-12-24T11:15:46+00:00\", \"2017-12-24T17:15:46+00:00\", \"2017-12-27T11:15:51+00:00\", \"2017-12-28T16:21:25+00:00\", \"2018-01-03T17:21:14+00:00\", \"2018-01-05T15:52:49+00:00\", \"2018-01-11T14:49:33+00:00\", \"2018-01-11T20:49:33+00:00\", \"2018-01-12T16:01:12+00:00\", \"2018-01-13T16:05:25+00:00\", \"2018-01-13T17:36:31+00:00\", \"2018-01-14 13:18:00\", \"2018-01-16 20:27:00\", \"2018-01-16T06:37:22+00:00\", \"2018-01-16T15:36:12+00:00\", \"2018-01-17T08:50:04+00:00\", \"2018-01-19T10:12:42+00:00\", \"2018-01-21T08:12:41+00:00\", \"2018-01-23T15:35:45+00:00\", \"2018-01-26T08:00:13+00:00\", \"2018-01-26T10:57:54+00:00\", \"2018-01-26T16:57:54+00:00\", \"2018-01-27T14:54:59+00:00\", \"2018-02-08T18:01:06+00:00\", \"2018-02-13T12:07:50+00:00\", \"2018-02-13T16:56:40+00:00\", \"2018-02-14T04:23:28+00:00\", \"2018-02-14T06:55:43+00:00\", \"2018-02-15T16:06:14+00:00\", \"2018-02-20 02:33:29\", \"2018-02-20 05:13:00\", \"2018-02-23 00:00:00\", \"2018-02-26T09:08:00+00:00\", \"2018-02-26T15:08:00+00:00\", \"2018-02-27 10:00:00\", \"2018-03-01T01:38:52+00:00\", \"2018-03-09T15:19:32+00:00\", \"2018-03-12T09:46:43+00:00\", \"2018-03-12T15:46:43+00:00\", \"2018-03-17 11:18:22\", \"2018-03-19 09:58:00\", \"2018-03-19 13:05:00\", \"2018-03-19 18:31:00\", \"2018-03-19 19:00:00\", \"2018-03-20 01:36:30\", \"2018-03-20 07:25:00\", \"2018-03-20 08:54:00\", \"2018-03-20 12:00:00\", \"2018-03-20 15:41:36\", \"2018-03-21 02:41:00\", \"2018-03-21 08:23:42\", \"2018-03-24 20:14:10\", \"2018-04-04T13:32:41+00:00\", \"2018-04-04T19:32:41+00:00\", \"2018-04-05T05:15:46+00:00\", \"2018-04-15T16:49:33+00:00\", \"2018-04-15T22:49:33+00:00\", \"2018-04-23T13:32:36+00:00\", \"2018-04-27 09:46:31\", \"2018-05-14T08:23:38+00:00\", \"2018-05-22T17:06:06+00:00\", \"2018-05-23T07:44:47+00:00\", \"2018-05-29T07:56:25+00:00\", \"2018-05-30T07:35:47+00:00\", \"2018-06-02T18:23:51+00:00\", \"2018-06-03T10:07:58+00:00\", \"2018-06-03T18:05:25+00:00\", \"2018-06-04T00:05:25+00:00\", \"2018-06-05T08:58:14+00:00\", \"2018-06-08T14:48:23+00:00\", \"2018-06-08T20:48:23+00:00\", \"2018-06-09T19:27:15+00:00\", \"2018-06-10T01:27:15+00:00\", \"2018-06-12 02:09:00\", \"2018-06-24 06:19:59\", \"2018-06-24T06:19:59Z\", \"2018-06-30T07:18:58+00:00\", \"2018-06-30T15:56:47+00:00\", \"2018-06-30T17:09:21+00:00\", \"2018-07-02T12:08:26+00:00\", \"2018-07-03T12:00:36+00:00\", \"2018-07-04T14:10:38+00:00\", \"2018-07-04T18:07:11+00:00\", \"2018-07-05T06:57:18+00:00\", \"2018-07-05T12:03:53+00:00\", \"2018-07-08 20:12:20\", \"2018-07-09T22:11:27+00:00\", \"2018-07-10T04:59:33+00:00\", \"2018-07-10T11:32:08+00:00\", \"2018-07-10T17:32:08+00:00\", \"2018-07-12T07:40:54+00:00\", \"2018-07-12T17:20:32+00:00\", \"2018-07-12T23:20:32+00:00\", \"2018-07-13T18:34:56+00:00\", \"2018-07-16T07:19:45+00:00\", \"2018-07-16T18:27:53+00:00\", \"2018-07-17T15:04:14+00:00\", \"2018-07-17T16:04:47+00:00\", \"2018-07-18T11:16:39+00:00\", \"2018-07-18T16:51:47+00:00\", \"2018-07-18T22:51:47+00:00\", \"2018-07-21T17:26:56+00:00\", \"2018-07-21T22:46:51+00:00\", \"2018-07-22T19:12:45+00:00\", \"2018-07-24T15:55:39+00:00\", \"2018-07-25T21:51:22+00:00\", \"2018-07-27T19:42:02+00:00\", \"2018-07-28T15:41:44+00:00\", \"2018-07-28T22:12:20+00:00\", \"2018-08-01T04:35:32+00:00\", \"2018-08-07T10:12:26+00:00\", \"2018-08-08T09:26:12Z\", \"2018-08-08T10:30:56+00:00\", \"2018-08-10T09:45:37+00:00\", \"2018-08-10T11:35:27+00:00\", \"2018-08-10T12:50:02+00:00\", \"2018-08-10T15:45:37+00:00\", \"2018-08-10T16:29:27+00:00\", \"2018-08-10T18:00:05+00:00\", \"2018-08-11T13:37:16+00:00\", \"2018-08-12T13:37:55+06:00\", \"2018-08-13T06:50:55+00:00\", \"2018-08-14T07:29:25+00:00\", \"2018-08-14T13:41:54+00:00\", \"2018-08-15T17:21:12+00:00\", \"2018-08-17T11:49:24+00:00\", \"2018-08-17T15:57:22+00:00\", \"2018-08-19T20:01:11+00:00\", \"2018-08-19T20:20:54+00:00\", \"2018-08-19T20:29:32+00:00\", \"2018-08-19T21:09:56+00:00\", \"2018-08-20 23:32:00\", \"2018-08-20T02:20:54+00:00\", \"2018-08-20T02:29:32+00:00\", \"2018-08-20T03:23:11+00:00\", \"2018-08-20T06:17:11+00:00\", \"2018-08-21T19:29:01+00:00\", \"2018-08-31T06:00:56+00:00\", \"2018-08-31T12:00:56+00:00\", \"2018-09-01T16:56:59+00:00\", \"2018-09-03T14:28:48+00:00\", \"2018-09-04 19:38:28\", \"2018-09-04T07:20:36+00:00\", \"2018-09-05T11:17:10+00:00\", \"2018-09-08T07:46:56+00:00\", \"2018-09-09T13:37:59+00:00\", \"2018-09-09T19:37:59+00:00\", \"2018-09-10T12:31:22+00:00\", \"2018-09-10T17:03:10+00:00\", \"2018-09-11T14:56:13+00:00\", \"2018-09-12 12:18:00\", \"2018-09-12 16:43:00\", \"2018-09-12 17:55:00\", \"2018-09-12 20:12:24\", \"2018-09-12T07:27:03+00:00\", \"2018-09-13T06:04:58+00:00\", \"2018-09-13T09:37:29+00:00\", \"2018-09-13T10:08:14+00:00\", \"2018-09-13T15:50:34+00:00\", \"2018-09-14T06:05:06+00:00\", \"2018-09-14T13:08:41+00:00\", \"2018-09-14T13:27:13+00:00\", \"2018-09-14T19:08:41+00:00\", \"2018-09-14T19:27:13+00:00\", \"2018-09-15T07:53:32+00:00\", \"2018-09-15T18:03:44+00:00\", \"2018-09-16T13:02:36+00:00\", \"2018-09-17T04:56:28+00:00\", \"2018-09-17T11:40:00+00:00\", \"2018-09-17T17:40:00+00:00\", \"2018-09-18 20:48:17\", \"2018-09-18T15:07:29+00:00\", \"2018-09-18T19:15:38+00:00\", \"2018-09-18T19:33:25+00:00\", \"2018-09-22T10:42:55+00:00\", \"2018-09-22T23:42:57+00:00\", \"2018-09-23T10:38:48+00:00\", \"2018-09-23T13:41:24+00:00\", \"2018-09-23T19:41:24+00:00\", \"2018-09-24T18:20:34+00:00\", \"2018-09-30T11:41:41+00:00\", \"2018-09-30T16:04:02+00:00\", \"2018-09-30T16:47:44+00:00\", \"2018-10-01T19:00:14+00:00\", \"2018-10-02T14:57:09+00:00\", \"2018-10-02T16:47:17+00:00\", \"2018-10-02T16:56:35+00:00\", \"2018-10-02T19:09:18+00:00\", \"2018-10-02T19:10:02+00:00\", \"2018-10-02T19:13:10+00:00\", \"2018-10-02T19:22:52+00:00\", \"2018-10-02T19:31:03+00:00\", \"2018-10-03T05:00:54Z\", \"2018-10-03T05:13:25Z\", \"2018-10-04T09:14:32Z\", \"2018-10-05T09:30:32+00:00\", \"2018-10-05T13:24:36+00:00\", \"2018-10-05T15:22:31+00:00\", \"2018-10-06T07:17:44+00:00\", \"2018-10-06T12:31:21+00:00\", \"2018-10-06T19:08:53+00:00\", \"2018-10-06T19:11:36+00:00\", \"2018-10-07T17:08:56+00:00\", \"2018-10-08T07:27:01+00:00\", \"2018-10-08T13:27:01+00:00\", \"2018-10-09T11:18:45+00:00\", \"2018-10-09T18:46:08+00:00\", \"2018-10-10T11:55:37+00:00\", \"2018-10-10T15:28:56+00:00\", \"2018-10-11T08:58:35+00:00\", \"2018-10-14T06:04:36+00:00\", \"2018-10-15T04:47:29+00:00\", \"2018-10-15T12:42:41+00:00\", \"2018-10-16T08:21:54+00:00\", \"2018-10-16T14:21:54+00:00\", \"2018-10-16T15:22:14+00:00\", \"2018-10-18T01:30:40+00:00\", \"2018-10-18T07:30:40+00:00\", \"2018-10-19T17:58:26+00:00\", \"2018-10-24T10:36:45+00:00\", \"2018-10-24T13:54:59+00:00\", \"2018-10-27T06:41:37+00:00\", \"2018-10-27T12:00:52+00:00\", \"2018-10-28T09:10:03+00:00\", \"2018-10-28T11:48:57+00:00\", \"2018-10-30T16:38:30+00:00\", \"2018-11-01T17:12:30+00:00\", \"2018-11-02T08:51:44+00:00\", \"2018-11-02T09:27:42+00:00\", \"2018-11-02T12:22:54+00:00\", \"2018-11-02T15:27:42+00:00\", \"2018-11-03T05:45:56+00:00\", \"2018-11-03T21:24:40+00:00\", \"2018-11-10T09:25:42+00:00\", \"2018-11-10T15:25:42+00:00\", \"2018-11-11T15:44:47+00:00\", \"2018-11-12T09:20:55+00:00\", \"2018-11-12T16:24:38+00:00\", \"2018-11-13T16:18:10+00:00\", \"2018-11-14T17:50:32+00:00\", \"2018-11-15T14:12:02+00:00\", \"2018-11-15T14:15:16+00:00\", \"2018-11-16T18:28:17+00:00\", \"2018-11-19T16:35:19+00:00\", \"2018-11-20 00:00:00\", \"2018-11-25T21:20:14+00:00\", \"2018-11-26T18:49:09+00:00\", \"2018-11-28T18:27:31+00:00\", \"2018-11-30 02:21:05+00:00\", \"2018-12-03T18:09:08+00:00\", \"2018-12-04T03:46:49+00:00\", \"2018-12-05T03:18:18+00:00\", \"2018-12-10T15:08:01+00:00\", \"2018-12-11T09:18:05+00:00\", \"2018-12-13T09:25:41+00:00\", \"2018-12-14T02:33:33+00:00\", \"2018-12-21T12:09:09+00:00\", \"2018-12-22T12:13:54+00:00\", \"2018-12-22T13:04:52+00:00\", \"2018-12-23T01:38:31+00:00\", \"2018-12-24T18:17:50+00:00\", \"2018-12-25T13:56:22+00:00\", \"2018-12-27 19:38:28\", \"2018-12-28T00:45:57+00:00\", \"2019-01-06T12:34:41+00:00\", \"2019-01-06T18:34:41+00:00\", \"2019-01-09T21:39:06+00:00\", \"2019-01-10T03:20:35+00:00\", \"2019-01-10T03:23:43+00:00\", \"2019-01-10T03:39:06+00:00\", \"2019-01-10T03:44:12+00:00\", \"2019-01-11T16:42:30+00:00\", \"2019-01-12T13:17:53+00:00\", \"2019-01-13T12:16:27+00:00\", \"2019-01-14T17:48:58+00:00\", \"2019-01-14T18:39:44+00:00\", \"2019-01-15T17:39:34+00:00\", \"2019-01-16T17:20:27+00:00\", \"2019-01-16T17:58:51+00:00\", \"2019-01-16T19:53:13+00:00\", \"2019-01-16T23:20:27+00:00\", \"2019-01-17T10:21:20+00:00\", \"2019-01-20 20:12:24\", \"2019-01-20T21:06:31+00:00\", \"2019-01-20T21:34:14+00:00\", \"2019-01-21T12:25:00+00:00\", \"2019-01-21T17:40:29+00:00\", \"2019-01-21T18:25:00+00:00\", \"2019-01-21T23:40:29+00:00\", \"2019-01-22T12:07:32+00:00\", \"2019-01-22T13:56:19+00:00\", \"2019-01-22T18:07:32+00:00\", \"2019-01-23T01:34:54+00:00\", \"2019-01-26T17:56:16+00:00\", \"2019-01-27T19:30:32+00:00\", \"2019-01-28T09:27:27+00:00\", \"2019-01-29T11:47:40+00:00\", \"2019-01-29T12:48:23+00:00\", \"2019-01-29T16:17:30+00:00\", \"2019-01-29T17:17:50+00:00\", \"2019-01-29T18:48:23+00:00\", \"2019-01-29T23:17:50+00:00\", \"2019-01-30T15:32:18+00:00\", \"2019-02-01T22:17:01+00:00\", \"2019-02-05T12:15:10+00:00\", \"2019-02-05T15:06:54+00:00\", \"2019-02-05T18:40:39+00:00\", \"2019-02-05T23:12:56+00:00\", \"2019-02-06T21:02:18+00:00\", \"2019-02-06T21:03:32+00:00\", \"2019-02-07T10:41:21+00:00\", \"2019-02-07T16:37:52+00:00\", \"2019-02-07T17:01:10+00:00\", \"2019-02-07T17:19:34+00:00\", \"2019-02-07T17:27:02+00:00\", \"2019-02-09T15:10:06+00:00\", \"2019-02-09T18:45:09+00:00\", \"2019-02-09T21:16:41+00:00\", \"2019-02-09T23:06:33+00:00\", \"2019-02-09T23:11:15+00:00\", \"2019-02-09T23:18:16+00:00\", \"2019-02-1 00:00:00\", \"2019-02-10T01:23:57+00:00\", \"2019-02-10T15:39:24+00:00\", \"2019-02-10T18:45:26+00:00\", \"2019-02-11T01:54:21+00:00\", \"2019-02-11T20:19:10+00:00\", \"2019-02-11T20:26:48+00:00\", \"2019-02-11T21:07:00+00:00\", \"2019-02-12T06:12:48+00:00\", \"2019-02-12T21:00:00+00:00\", \"2019-02-12T21:20:33+00:00\", \"2019-02-13T13:17:46+00:00\", \"2019-02-14T16:33:32+00:00\", \"2019-02-14T22:32:32+00:00\", \"2019-02-14T22:51:15+00:00\", \"2019-02-14T23:17:53+00:00\", \"2019-02-16T12:59:23+00:00\", \"2019-02-16T19:42:55+00:00\", \"2019-02-16T20:51:06+00:00\", \"2019-02-17T13:47:16+00:00\", \"2019-02-17T19:11:35+00:00\", \"2019-02-18T12:36:11+00:00\", \"2019-02-19T15:18:33+00:00\", \"2019-02-19T15:22:30+00:00\", \"2019-02-19T18:23:36+00:00\", \"2019-02-20T19:47:49+00:00\", \"2019-02-20T21:05:36+00:00\", \"2019-02-20T21:46:02+00:00\", \"2019-02-22T14:50:20+00:00\", \"2019-02-23 12:46:00\", \"2019-02-23T22:26:42+00:00\", \"2019-02-24T14:46:52+00:00\", \"2019-02-25T18:39:28+00:00\", \"2019-02-25T20:47:23+00:00\", \"2019-02-25T22:50:51+00:00\", \"2019-02-26T20:58:36+00:00\", \"2019-02-27T16:59:50+00:00\", \"2019-03-01T22:02:24+00:00\", \"2019-03-02T01:59:31+00:00\", \"2019-03-02T20:47:40+00:00\", \"2019-03-04T15:03:42+00:00\", \"2019-03-04T18:03:45+00:00\", \"2019-03-04T20:49:50+00:00\", \"2019-03-05T14:10:15+00:00\", \"2019-03-06T17:20:45+00:00\", \"2019-03-06T19:35:58+00:00\", \"2019-03-08T17:22:28+00:00\", \"2019-03-09T14:19:38+00:00\", \"2019-03-09T18:22:43+00:00\", \"2019-03-09T23:00:05+00:00\", \"2019-03-10T11:42:34+00:00\", \"2019-03-10T21:11:08+00:00\", \"2019-03-11T15:28:37+00:00\", \"2019-03-11T21:16:19+00:00\", \"2019-03-12T13:35:22+00:00\", \"2019-03-13T12:25:36+00:00\", \"2019-03-13T14:55:17+00:00\", \"2019-03-13T18:24:26+00:00\", \"2019-03-13T19:41:44+00:00\", \"2019-03-14T02:33:32+00:00\", \"2019-03-14T09:51:51+00:00\", \"2019-03-14T11:54:55+00:00\", \"2019-03-14T13:34:14+00:00\", \"2019-03-14T15:27:37+00:00\", \"2019-03-14T17:26:25+00:00\", \"2019-03-14T20:40:26+00:00\", \"2019-03-15T08:58:56+00:00\", \"2019-03-15T20:36:18+00:00\", \"2019-03-16T05:20:44+00:00\", \"2019-03-16T10:31:47+00:00\", \"2019-03-16T12:45:06+00:00\", \"2019-03-16T16:52:34+00:00\", \"2019-03-16T17:44:26+00:00\", \"2019-03-16T18:20:10+00:00\", \"2019-03-17T13:43:28+00:00\", \"2019-03-17T15:34:05+00:00\", \"2019-03-17T21:10:06+00:00\", \"2019-03-17T22:04:59+00:00\", \"2019-03-18T16:45:09+00:00\", \"2019-03-18T18:33:39+00:00\", \"2019-03-18T19:21:32+00:00\", \"2019-03-19T19:37:18+00:00\", \"2019-03-20T11:47:23+00:00\", \"2019-03-20T13:45:08+00:00\", \"2019-03-20T16:19:10+00:00\", \"2019-03-20T21:02:01+00:00\", \"2019-03-21T19:03:28+00:00\", \"2019-03-22T14:03:07+00:00\", \"2019-03-22T14:03:17+00:00\", \"2019-03-22T15:40:56+00:00\", \"2019-03-23T08:35:31+00:00\", \"2019-03-23T13:58:11+00:00\", \"2019-03-24T10:08:07+00:00\", \"2019-03-24T18:40:45+00:00\", \"2019-03-25 09:28:31\", \"2019-03-25T20:32:55+00:00\", \"2019-03-26T22:08:23+00:00\", \"2019-03-27 00:00:00\", \"2019-03-27T23:01:27+00:00\", \"2019-03-28T06:38:28+00:00\", \"2019-03-28T16:56:57+00:00\", \"2019-03-31T10:30:41+00:00\", \"2019-03-31T18:12:19+00:00\", \"2019-03-31T21:34:42+00:00\", \"2019-03-31T21:34:43+00:00\", \"2019-03-9 20:14:10\", \"2019-04-01T10:52:02+00:00\", \"2019-04-01T14:16:23+00:00\", \"2019-04-01T21:28:12+00:00\", \"2019-04-02T20:26:45+00:00\", \"2019-04-02T20:30:12+00:00\", \"2019-04-02T20:57:47+00:00\", \"2019-04-03T22:26:26+00:00\", \"2019-04-03T22:49:17+00:00\", \"2019-04-04T12:29:11+00:00\", \"2019-04-05T04:21:11+00:00\", \"2019-04-07T22:34:05+00:00\", \"2019-04-08T21:18:04+00:00\", \"2019-04-08T22:37:31+00:00\", \"2019-04-08T22:53:17+00:00\", \"2019-04-10T22:56:25+00:00\", \"2019-04-11T10:20:47+00:00\", \"2019-04-11T13:50:36+00:00\", \"2019-04-11T21:09:04+00:00\", \"2019-04-11T21:22:51+00:00\", \"2019-04-12T10:32:14+00:00\", \"2019-04-12T16:50:10+00:00\", \"2019-04-12T17:35:05+00:00\", \"2019-04-12T18:30:44+00:00\", \"2019-04-13T11:25:32+00:00\", \"2019-04-13T12:05:33+00:00\", \"2019-04-13T18:32:14+00:00\", \"2019-04-15T19:43:31+00:00\", \"2019-04-16T14:43:51+00:00\", \"2019-04-16T20:05:35+00:00\", \"2019-04-17T19:06:54+00:00\", \"2019-04-18T21:28:31+00:00\", \"2019-04-18T22:20:16+00:00\", \"2019-04-18T22:31:19+00:00\", \"2019-04-19T17:53:24+00:00\", \"2019-04-20T18:38:14+00:00\", \"2019-04-21T14:17:32+00:00\", \"2019-04-21T14:37:46+00:00\", \"2019-04-21T17:18:52+00:00\", \"2019-04-21T20:33:41+00:00\", \"2019-04-22T17:17:25+00:00\", \"2019-04-23T15:34:33+00:00\", \"2019-04-23T18:49:17+00:00\", \"2019-04-23T20:05:32+00:00\", \"2019-04-23T22:11:20+00:00\", \"2019-04-24T14:52:14+00:00\", \"2019-04-24T17:44:07+00:00\", \"2019-04-24T23:02:34+00:00\", \"2019-04-25T12:32:58+00:00\", \"2019-04-25T15:39:53+00:00\", \"2019-04-25T20:04:22+00:00\", \"2019-04-26T12:46:03+00:00\", \"2019-04-27T14:57:39+00:00\", \"2019-04-27T15:57:55+00:00\", \"2019-04-28T13:03:09+00:00\", \"2019-04-28T13:59:34+00:00\", \"2019-04-28T15:55:06+00:00\", \"2019-04-28T19:05:21+00:00\", \"2019-04-28T19:20:59+00:00\", \"2019-04-29T11:49:46+00:00\", \"2019-04-29T15:22:05+00:00\", \"2019-04-29T16:37:19+00:00\", \"2019-04-29T18:40:34+00:00\", \"2019-04-29T20:14:50+00:00\", \"2019-04-29T23:52:58+00:00\", \"2019-04-30T06:34:21+00:00\", \"2019-04-30T14:24:56+00:00\", \"2019-04-30T22:27:16+00:00\", \"2019-05-01T10:11:46+00:00\", \"2019-05-01T20:47:31+00:00\", \"2019-05-02T09:57:44+00:00\", \"2019-05-02T15:50:47+00:00\", \"2019-05-03T08:24:10+00:00\", \"2019-05-03T09:57:12+00:00\", \"2019-05-03T10:13:45+00:00\", \"2019-05-03T16:00:13+00:00\", \"2019-05-03T18:16:10+00:00\", \"2019-05-04T12:06:06+00:00\", \"2019-05-04T19:39:43+00:00\", \"2019-05-04T19:52:07+00:00\", \"2019-05-04T19:59:48+00:00\", \"2019-05-05T08:35:12+00:00\", \"2019-05-05T15:01:56+00:00\", \"2019-05-05T18:49:41+00:00\", \"2019-05-06T01:46:56+00:00\", \"2019-05-06T09:46:40+00:00\", \"2019-05-06T15:06:09+00:00\", \"2019-05-06T16:11:11+00:00\", \"2019-05-06T20:12:58+00:00\", \"2019-05-07T13:53:12+00:00\", \"2019-05-07T19:18:10+00:00\", \"2019-05-07T19:41:45+00:00\", \"2019-05-08T15:18:51+00:00\", \"2019-05-08T16:41:50+00:00\", \"2019-05-08T19:19:08+00:00\", \"2019-05-09T11:34:26+00:00\", \"2019-05-09T22:03:02+00:00\", \"2019-05-11T12:28:40+00:00\", \"2019-05-11T17:30:53+00:00\", \"2019-05-12T15:08:39+00:00\", \"2019-05-13T10:47:25+00:00\", \"2019-05-13T16:29:31+00:00\", \"2019-05-13T18:08:46+00:00\", \"2019-05-14T20:07:34+00:00\", \"2019-05-15T20:39:34+00:00\", \"2019-05-16T10:04:27+00:00\", \"2019-05-16T20:00:26+00:00\", \"2019-05-17T22:40:37+00:00\", \"2019-05-18T13:51:11+00:00\", \"2019-05-18T14:43:01+00:00\", \"2019-05-18T19:07:55+00:00\", \"2019-05-19T20:06:41+00:00\", \"2019-05-20T03:33:53+00:00\", \"2019-05-20T14:53:40+00:00\", \"2019-05-20T18:20:12+00:00\", \"2019-05-20T19:17:33+00:00\", \"2019-05-21T03:45:29+00:00\", \"2019-05-21T16:38:32+00:00\", \"2019-05-22T17:11:38+00:00\", \"2019-05-22T19:32:02+00:00\", \"2019-05-22T22:35:11+00:00\", \"2019-05-23 20:27:17\", \"2019-05-23T13:57:47+00:00\", \"2019-05-23T14:32:26+00:00\", \"2019-05-23T22:48:51+00:00\", \"2019-05-24T10:24:44+00:00\", \"2019-05-24T17:21:47+00:00\", \"2019-05-24T18:24:42+00:00\", \"2019-05-24T19:25:51+00:00\", \"2019-05-25 00:00:00\", \"2019-05-25T16:12:59+00:00\", \"2019-05-25T18:24:38+00:00\", \"2019-05-26T04:27:49+00:00\", \"2019-05-26T09:18:23+00:00\", \"2019-05-26T16:52:03+00:00\", \"2019-05-27T08:07:44+00:00\", \"2019-05-27T18:12:01+00:00\", \"2019-05-27T20:31:00+00:00\", \"2019-05-28T12:10:03+00:00\", \"2019-05-28T12:58:26+00:00\", \"2019-05-28T17:17:58+00:00\", \"2019-05-28T17:18:02+00:00\", \"2019-05-29T10:20:52+00:00\", \"2019-05-29T11:22:19+00:00\", \"2019-05-29T13:55:28+00:00\", \"2019-05-30T15:31:02+00:00\", \"2019-05-31T16:15:22+00:00\", \"2019-05-31T17:03:21+00:00\", \"2019-05-31T19:14:56+00:00\", \"2019-05-31T21:32:46+00:00\", \"2019-06-01T16:20:20+00:00\", \"2019-06-01T19:20:35+00:00\", \"2019-06-01T20:00:49+00:00\", \"2019-06-02T21:06:59+00:00\", \"2019-06-03T06:01:30+00:00\", \"2019-06-04T16:25:00+00:00\", \"2019-06-05T13:10:13+00:00\", \"2019-06-05T17:59:41+00:00\", \"2019-06-05T20:34:41+00:00\", \"2019-06-06T11:36:37+00:00\", \"2019-06-06T17:57:11+00:00\", \"2019-06-07T14:53:51+00:00\", \"2019-06-07T19:29:24+00:00\", \"2019-06-08T14:06:43+00:00\", \"2019-06-08T15:12:05+00:00\", \"2019-06-09T15:47:06+00:00\", \"2019-06-10T13:36:26+00:00\", \"2019-06-10T16:57:45+00:00\", \"2019-06-10T17:23:29+00:00\", \"2019-06-10T20:20:22+00:00\", \"2019-06-11T08:57:29+00:00\", \"2019-06-11T16:48:37+00:00\", \"2019-06-12T16:24:15+00:00\", \"2019-06-13T12:23:50+00:00\", \"2019-06-13T15:26:00+00:00\", \"2019-06-13T16:39:26+00:00\", \"2019-06-13T18:07:03+00:00\", \"2019-06-15T10:09:34+00:00\", \"2019-06-15T20:05:39+00:00\", \"2019-06-16T14:58:09+00:00\", \"2019-06-17T14:47:30+00:00\", \"2019-06-17T17:21:35+00:00\", \"2019-06-18T10:52:30+00:00\", \"2019-06-18T20:01:51+00:00\", \"2019-06-19T13:32:28+00:00\", \"2019-06-19T16:48:45+00:00\", \"2019-06-19T17:01:22+00:00\", \"2019-06-20T13:00:00+00:00\", \"2019-06-21T17:22:54+00:00\", \"2019-06-24T17:41:45+00:00\", \"2019-06-25T17:16:54+00:00\", \"2019-06-26T17:00:32+00:00\", \"2019-06-27T10:09:32+00:00\", \"2019-06-30T18:30:15+00:00\", \"2019-06-7 20:12:23\", \"2019-07-03T15:39:47+00:00\", \"2019-07-03T18:46:31+00:00\", \"2019-07-04T14:14:03+00:00\", \"2019-07-04T16:10:28+00:00\", \"2019-07-05T14:50:54+00:00\", \"2019-07-06T14:37:57+00:00\", \"2019-07-08T17:40:55+00:00\", \"2019-07-10T20:21:29+00:00\", \"2019-07-10T21:22:24+00:00\", \"2019-07-11 13:31:00\", \"2019-07-11T18:54:11+00:00\", \"2019-07-14T18:00:47+00:00\", \"2019-07-15 00:00:00\", \"2019-07-15T17:03:58+00:00\", \"2019-07-17T15:10:06+00:00\", \"2019-07-18T17:53:04+00:00\", \"2019-07-20T14:15:26+00:00\", \"2019-07-20T16:21:15+00:00\", \"2019-07-22T18:46:45+00:00\", \"2019-07-24T19:12:45+00:00\", \"2019-07-25T18:58:40+00:00\", \"2019-07-28T17:13:24+00:00\", \"2019-07-29T18:26:12+00:00\", \"2019-07-30 20:50:05\", \"2019-07-31T16:27:35+00:00\", \"2019-08-01T16:32:04+00:00\", \"2019-08-04T16:55:59+00:00\", \"2019-08-05T17:02:16+00:00\", \"2019-08-08T15:00:31+00:00\", \"2019-08-08T15:15:17+00:00\", \"2019-08-08T18:23:16+00:00\", \"2019-08-08T18:31:07+00:00\", \"2019-08-10T10:24:41+00:00\", \"2019-08-18T13:34:21+00:00\", \"2019-08-20T12:30:34+00:00\", \"2019-08-21 20:12:20\", \"2019-08-29 14:37:00\", \"2019-08-29 19:51:12\", \"2019-09-30 14:11:00\", \"2019-10-12 08:36:45\", \"2019-10-12 14:21:45\", \"2019-10-12 20:14:10\", \"2019-10-12 20:15:10\", \"2019-10-12 21:38:42\", \"2019-10-12 22:58:22\", \"2019-10-13 20:14:27\", \"2019-10-15 19:38:28\", \"2019-11-17\", \"2020-01-14 00:00:00\", \"2020-03-14 22:46:00\", \"2020-03-22 10:02:00\", \"2020-03-23 11:02:00\", \"2020-03-23 13:31:00\", \"2020-03-23 14:31:00\", \"2020-03-24 00:00:00\", \"2020-03-24 09:56:00\", \"2020-03-26 13:16:00\", \"2020-03-26 19:45:00\", \"2020-03-27 16:35:00\", \"2020-03-27 22:17:00\", \"2020-03-28 00:00:00\", \"2020-03-29 18:38:00\", \"2020-03-31 14:28:00\", \"2020-04-08 00:00:00\", \"2020-04-08 16:15:00\", \"2020-04-09 15:59:00\", \"2020-04-09 16:50:00\", \"2020-04-17 00:00:00\", \"2020-04-18 08:30:00\", \"2020-04-23 12:56:00\", \"2020-04-24 00:00:00\", \"2020-04-28 00:00:00\", \"2020-04-29 10:30:00\", \"2020-05-01 10:54:00\", \"2020-05-01 21:21:00\", \"2020-05-04 14:12:00\", \"2020-05-05 00:00:00\", \"2020-05-05 19:54:00\", \"2020-05-06 10:45:00\", \"2020-05-07 00:00:00\", \"2020-05-07 14:14:00\", \"2020-05-07 14:18:00\", \"2020-05-12 00:00:00\", \"2020-05-12 13:23:00\", \"2020-05-13 12:31:00\", \"2020-05-17 00:00:00\", \"2020-05-18 00:00:00\", \"2020-05-30 18:27:00\", \"2020-05-30 20:19:00\", \"2020-06-02 00:00:00\", \"2020-11-14 00:00:00\", \"\\u09b8\\u09c7\\u09ae\\u09cd\\u09ac\\u09b0 \\u09e6\\u09e7, \\u09e8\\u09e6\\u09e7\\u09ee \", \"\\u09b8\\u09c7\\u09ae\\u09cd\\u09ac\\u09b0 \\u09e6\\u09e8, \\u09e8\\u09e6\\u09e7\\u09ee \", \"\\u09b8\\u09c7\\u09ae\\u09cd\\u09ac\\u09b0 \\u09e6\\u09e9, \\u09e8\\u09e6\\u09e7\\u09ee \", \"\\u09b8\\u09c7\\u09ae\\u09cd\\u09ac\\u09b0 \\u09e6\\u09ea, \\u09e8\\u09e6\\u09e7\\u09ee \", \"\\u09b8\\u09c7\\u09ae\\u09cd\\u09ac\\u09b0 \\u09e6\\u09eb, \\u09e8\\u09e6\\u09e7\\u09ee \", \"\\u09b8\\u09c7\\u09ae\\u09cd\\u09ac\\u09b0 \\u09e6\\u09ec, \\u09e8\\u09e6\\u09e7\\u09ee \", \"\\u09b8\\u09c7\\u09ae\\u09cd\\u09ac\\u09b0 \\u09e6\\u09ee, \\u09e8\\u09e6\\u09e7\\u09ee \", \"\\u09b8\\u09c7\\u09ae\\u09cd\\u09ac\\u09b0 \\u09e6\\u09ef, \\u09e8\\u09e6\\u09e7\\u09ee \", \"\\u09b8\\u09c7\\u09ae\\u09cd\\u09ac\\u09b0 \\u09e7\\u09e6, \\u09e8\\u09e6\\u09e7\\u09ee \", \"\\u09b8\\u09c7\\u09ae\\u09cd\\u09ac\\u09b0 \\u09e7\\u09e7, \\u09e8\\u09e6\\u09e7\\u09ee \", \"\\u09b8\\u09c7\\u09ae\\u09cd\\u09ac\\u09b0 \\u09e7\\u09e8, \\u09e8\\u09e6\\u09e7\\u09ee \", \"\\u09b8\\u09c7\\u09ae\\u09cd\\u09ac\\u09b0 \\u09e7\\u09e9, \\u09e8\\u09e6\\u09e7\\u09ee \", \"\\u09b8\\u09c7\\u09ae\\u09cd\\u09ac\\u09b0 \\u09e7\\u09ea, \\u09e8\\u09e6\\u09e7\\u09ee \", \"\\u09b8\\u09c7\\u09ae\\u09cd\\u09ac\\u09b0 \\u09e7\\u09ec, \\u09e8\\u09e6\\u09e7\\u09ee \", \"\\u09b8\\u09c7\\u09ae\\u09cd\\u09ac\\u09b0 \\u09e7\\u09ed, \\u09e8\\u09e6\\u09e7\\u09ee \", \"\\u09b8\\u09c7\\u09ae\\u09cd\\u09ac\\u09b0 \\u09e7\\u09ee, \\u09e8\\u09e6\\u09e7\\u09ee \", \"\\u09b8\\u09c7\\u09ae\\u09cd\\u09ac\\u09b0 \\u09e7\\u09ef, \\u09e8\\u09e6\\u09e7\\u09ee \", \"\\u09b8\\u09c7\\u09ae\\u09cd\\u09ac\\u09b0 \\u09e8\\u09e6, \\u09e8\\u09e6\\u09e7\\u09ee \", \"\\u09b8\\u09c7\\u09ae\\u09cd\\u09ac\\u09b0 \\u09e8\\u09e8, \\u09e8\\u09e6\\u09e7\\u09ee \", \"\\u09b8\\u09c7\\u09ae\\u09cd\\u09ac\\u09b0 \\u09e8\\u09e9, \\u09e8\\u09e6\\u09e7\\u09ee \", \"\\u09b8\\u09c7\\u09ae\\u09cd\\u09ac\\u09b0 \\u09e8\\u09ea, \\u09e8\\u09e6\\u09e7\\u09ee \", \"\\u09b8\\u09c7\\u09ae\\u09cd\\u09ac\\u09b0 \\u09e8\\u09eb, \\u09e8\\u09e6\\u09e7\\u09ee \", \"\\u09b8\\u09c7\\u09ae\\u09cd\\u09ac\\u09b0 \\u09e8\\u09ec, \\u09e8\\u09e6\\u09e7\\u09ee \", \"\\u09b8\\u09c7\\u09ae\\u09cd\\u09ac\\u09b0 \\u09e8\\u09ed, \\u09e8\\u09e6\\u09e7\\u09ee \", \"\\u09b8\\u09c7\\u09ae\\u09cd\\u09ac\\u09b0 \\u09e8\\u09ee, \\u09e8\\u09e6\\u09e7\\u09ee \", \"\\u09b8\\u09c7\\u09ae\\u09cd\\u09ac\\u09b0 \\u09e8\\u09ef, \\u09e8\\u09e6\\u09e7\\u09ee \", \"\\u09c7\\u09ae\\u09cd\\u09ac\\u09b0 \\u09e6\\u09ec, \\u09e8\\u09e6\\u09e7\\u09ee \", \"\\u09c7\\u09ae\\u09cd\\u09ac\\u09b0 \\u09e7\\u09e6, \\u09e8\\u09e6\\u09e7\\u09ee \", \"\\u09c7\\u09ae\\u09cd\\u09ac\\u09b0 \\u09e7\\u09e7, \\u09e8\\u09e6\\u09e7\\u09ee \", \"\\u09c7\\u09ae\\u09cd\\u09ac\\u09b0 \\u09e7\\u09e9, \\u09e8\\u09e6\\u09e7\\u09ee \", \"\\u09c7\\u09ae\\u09cd\\u09ac\\u09b0 \\u09e7\\u09ea, \\u09e8\\u09e6\\u09e7\\u09ee \", \"\\u09c7\\u09ae\\u09cd\\u09ac\\u09b0 \\u09e7\\u09eb, \\u09e8\\u09e6\\u09e7\\u09ee \", \"\\u09c7\\u09ae\\u09cd\\u09ac\\u09b0 \\u09e7\\u09ed, \\u09e8\\u09e6\\u09e7\\u09ee \", \"\\u09c7\\u09ae\\u09cd\\u09ac\\u09b0 \\u09e8\\u09e6, \\u09e8\\u09e6\\u09e7\\u09ee \", \"\\u09c7\\u09ae\\u09cd\\u09ac\\u09b0 \\u09e8\\u09ea, \\u09e8\\u09e6\\u09e7\\u09ee \", \"\\u09c7\\u09ae\\u09cd\\u09ac\\u09b0 \\u09e8\\u09eb, \\u09e8\\u09e6\\u09e7\\u09ee \", \"\\u09c7\\u09ae\\u09cd\\u09ac\\u09b0 \\u09e8\\u09ec, \\u09e8\\u09e6\\u09e7\\u09ee \", \"\\u09c7\\u09ae\\u09cd\\u09ac\\u09b0 \\u09e8\\u09ed, \\u09e8\\u09e6\\u09e7\\u09ee \", \"\\u09c7\\u09ae\\u09cd\\u09ac\\u09b0 \\u09e8\\u09ee, \\u09e8\\u09e6\\u09e7\\u09ee \", \"\\u09c7\\u09ae\\u09cd\\u09ac\\u09b0 \\u09e8\\u09ef, \\u09e8\\u09e6\\u09e7\\u09ee \", \"\\u09cd\\u099f\\u09cb\\u09ac\\u09b0 \\u09e7\\u09ed, \\u09e8\\u09e6\\u09e7\\u09ee \", \"\\u09cd\\u099f\\u09cb\\u09ac\\u09b0 \\u09e8\\u09e6, \\u09e8\\u09e6\\u09e7\\u09ee \", \"\\u09cd\\u099f\\u09cb\\u09ac\\u09b0 \\u09e8\\u09e9, \\u09e8\\u09e6\\u09e7\\u09ee \", \"\\u09cd\\u099f\\u09cb\\u09ac\\u09b0 \\u09e8\\u09eb, \\u09e8\\u09e6\\u09e7\\u09ee \", \"\\u09cd\\u099f\\u09cb\\u09ac\\u09b0 \\u09e8\\u09ec, \\u09e8\\u09e6\\u09e7\\u09ee \", \"\\u09cd\\u099f\\u09cb\\u09ac\\u09b0 \\u09e8\\u09ed, \\u09e8\\u09e6\\u09e7\\u09ee \", \"\\u09cd\\u099f\\u09cb\\u09ac\\u09b0 \\u09e8\\u09ee, \\u09e8\\u09e6\\u09e7\\u09ee \", \"\\u09cd\\u099f\\u09cb\\u09ac\\u09b0 \\u09e8\\u09ef, \\u09e8\\u09e6\\u09e7\\u09ee \", \"\\u09cd\\u099f\\u09cb\\u09ac\\u09b0 \\u09e9\\u09e6, \\u09e8\\u09e6\\u09e7\\u09ee \", \"\\u09e6\\u09e6:\\u09eb\\u09e9, \\u099c\\u09be\\u09a8\\u09c1\\u09af\\u09bc\\u09be\\u09b0\\u09bf \\u09e7\\u09ef, \\u09e8\\u09e6\\u09e7\\u09ef \", \"\\u09e6\\u09e8:\\u09e7\\u09eb, \\u099c\\u09be\\u09a8\\u09c1\\u09af\\u09bc\\u09be\\u09b0\\u09bf \\u09e6\\u09e9, \\u09e8\\u09e6\\u09e7\\u09ef \", \"\\u09e6\\u09e8:\\u09e8\\u09eb, \\u099c\\u09be\\u09a8\\u09c1\\u09af\\u09bc\\u09be\\u09b0\\u09bf \\u09e6\\u09e9, \\u09e8\\u09e6\\u09e7\\u09ef \", \"\\u09e6\\u09e8:\\u09e9\\u09eb, \\u099c\\u09be\\u09a8\\u09c1\\u09af\\u09bc\\u09be\\u09b0\\u09bf \\u09e7\\u09e6, \\u09e8\\u09e6\\u09e7\\u09ef \", \"\\u09e6\\u09ea:\\u09e8\\u09ea, \\u099c\\u09be\\u09a8\\u09c1\\u09af\\u09bc\\u09be\\u09b0\\u09bf \\u09e6\\u09ec, \\u09e8\\u09e6\\u09e7\\u09ef \", \"\\u09e6\\u09ea:\\u09e8\\u09ec, \\u09ab\\u09c7\\u09ac\\u09cd\\u09b0\\u09c1\\u09af\\u09bc\\u09be\\u09b0\\u09bf \\u09e6\\u09eb, \\u09e8\\u09e6\\u09e7\\u09ef \", \"\\u09e6\\u09ec:\\u09e6\\u09ea, \\u09a8\\u09ad\\u09c7\\u09ae\\u09cd\\u09ac\\u09b0 \\u09e7\\u09e7, \\u09e8\\u09e6\\u09e7\\u09ee \", \"\\u09e7\\u09e9:\\u09e8\\u09ea, \\u099c\\u09be\\u09a8\\u09c1\\u09af\\u09bc\\u09be\\u09b0\\u09bf \\u09e7\\u09e9, \\u09e8\\u09e6\\u09e7\\u09ef \", \"\\u09e7\\u09e9:\\u09e9\\u09eb, \\u099c\\u09be\\u09a8\\u09c1\\u09af\\u09bc\\u09be\\u09b0\\u09bf \\u09e8\\u09ef, \\u09e8\\u09e6\\u09e7\\u09ef \", \"\\u09e7\\u09ea:\\u09e7\\u09eb, \\u09ab\\u09c7\\u09ac\\u09cd\\u09b0\\u09c1\\u09af\\u09bc\\u09be\\u09b0\\u09bf \\u09e6\\u09e9, \\u09e8\\u09e6\\u09e7\\u09ef \", \"\\u09e7\\u09ea:\\u09e9\\u09e8, \\u09a8\\u09ad\\u09c7\\u09ae\\u09cd\\u09ac\\u09b0 \\u09e7\\u09eb, \\u09e8\\u09e6\\u09e7\\u09ee \", \"\\u09e7\\u09ea:\\u09eb\\u09e8, \\u099c\\u09be\\u09a8\\u09c1\\u09af\\u09bc\\u09be\\u09b0\\u09bf \\u09e8\\u09ef, \\u09e8\\u09e6\\u09e7\\u09ef \", \"\\u09e7\\u09eb:\\u09e6\\u09e6, \\u09ab\\u09c7\\u09ac\\u09cd\\u09b0\\u09c1\\u09af\\u09bc\\u09be\\u09b0\\u09bf \\u09e6\\u09e9, \\u09e8\\u09e6\\u09e7\\u09ef \", \"\\u09e7\\u09eb:\\u09e6\\u09e9, \\u099c\\u09be\\u09a8\\u09c1\\u09af\\u09bc\\u09be\\u09b0\\u09bf \\u09e8\\u09e9, \\u09e8\\u09e6\\u09e7\\u09ef \", \"\\u09e7\\u09eb:\\u09e7\\u09e6, \\u099c\\u09be\\u09a8\\u09c1\\u09af\\u09bc\\u09be\\u09b0\\u09bf \\u09e8\\u09ef, \\u09e8\\u09e6\\u09e7\\u09ef \", \"\\u09e7\\u09eb:\\u09e8\\u09e6, \\u099c\\u09be\\u09a8\\u09c1\\u09af\\u09bc\\u09be\\u09b0\\u09bf \\u09e8\\u09e6, \\u09e8\\u09e6\\u09e7\\u09ef \", \"\\u09e7\\u09eb:\\u09e9\\u09e8, \\u099c\\u09be\\u09a8\\u09c1\\u09af\\u09bc\\u09be\\u09b0\\u09bf \\u09e8\\u09ec, \\u09e8\\u09e6\\u09e7\\u09ef \", \"\\u09e7\\u09eb:\\u09e9\\u09e9, \\u09ab\\u09c7\\u09ac\\u09cd\\u09b0\\u09c1\\u09af\\u09bc\\u09be\\u09b0\\u09bf \\u09e6\\u09ea, \\u09e8\\u09e6\\u09e7\\u09ef \", \"\\u09e7\\u09eb:\\u09e9\\u09ee, \\u099c\\u09be\\u09a8\\u09c1\\u09af\\u09bc\\u09be\\u09b0\\u09bf \\u09e7\\u09ea, \\u09e8\\u09e6\\u09e7\\u09ef \", \"\\u09e7\\u09eb:\\u09e9\\u09ee, \\u099c\\u09be\\u09a8\\u09c1\\u09af\\u09bc\\u09be\\u09b0\\u09bf \\u09e9\\u09e7, \\u09e8\\u09e6\\u09e7\\u09ef \", \"\\u09e7\\u09eb:\\u09ea\\u09e7, \\u099c\\u09be\\u09a8\\u09c1\\u09af\\u09bc\\u09be\\u09b0\\u09bf \\u09e7\\u09ec, \\u09e8\\u09e6\\u09e7\\u09ef \", \"\\u09e7\\u09ec:\\u09e6\\u09ed, \\u099c\\u09be\\u09a8\\u09c1\\u09af\\u09bc\\u09be\\u09b0\\u09bf \\u09e8\\u09ec, \\u09e8\\u09e6\\u09e7\\u09ef \", \"\\u09e7\\u09ec:\\u09e6\\u09ee, \\u099c\\u09be\\u09a8\\u09c1\\u09af\\u09bc\\u09be\\u09b0\\u09bf \\u09e6\\u09e7, \\u09e8\\u09e6\\u09e7\\u09ef \", \"\\u09e7\\u09ec:\\u09e7\\u09ec, \\u099c\\u09be\\u09a8\\u09c1\\u09af\\u09bc\\u09be\\u09b0\\u09bf \\u09e7\\u09eb, \\u09e8\\u09e6\\u09e7\\u09ef \", \"\\u09e7\\u09ec:\\u09e8\\u09ea, \\u099c\\u09be\\u09a8\\u09c1\\u09af\\u09bc\\u09be\\u09b0\\u09bf \\u09e8\\u09e8, \\u09e8\\u09e6\\u09e7\\u09ef \", \"\\u09e7\\u09ec:\\u09e8\\u09ea, \\u099c\\u09be\\u09a8\\u09c1\\u09af\\u09bc\\u09be\\u09b0\\u09bf \\u09e9\\u09e7, \\u09e8\\u09e6\\u09e7\\u09ef \", \"\\u09e7\\u09ec:\\u09e8\\u09eb, \\u0985\\u0995\\u09cd\\u099f\\u09cb\\u09ac\\u09b0 \\u09e8\\u09eb, \\u09e8\\u09e6\\u09e7\\u09ee \", \"\\u09e7\\u09ec:\\u09e8\\u09eb, \\u099c\\u09be\\u09a8\\u09c1\\u09af\\u09bc\\u09be\\u09b0\\u09bf \\u09e6\\u09e8, \\u09e8\\u09e6\\u09e7\\u09ef \", \"\\u09e7\\u09ec:\\u09e9\\u09e7, \\u099c\\u09be\\u09a8\\u09c1\\u09af\\u09bc\\u09be\\u09b0\\u09bf \\u09e7\\u09e7, \\u09e8\\u09e6\\u09e7\\u09ef \", \"\\u09e7\\u09ec:\\u09e9\\u09e9, \\u099c\\u09be\\u09a8\\u09c1\\u09af\\u09bc\\u09be\\u09b0\\u09bf \\u09e6\\u09ec, \\u09e8\\u09e6\\u09e7\\u09ef \", \"\\u09e7\\u09ec:\\u09e9\\u09eb, \\u099c\\u09be\\u09a8\\u09c1\\u09af\\u09bc\\u09be\\u09b0\\u09bf \\u09e7\\u09e6, \\u09e8\\u09e6\\u09e7\\u09ef \", \"\\u09e7\\u09ec:\\u09e9\\u09ee, \\u0985\\u0995\\u09cd\\u099f\\u09cb\\u09ac\\u09b0 \\u09e8\\u09eb, \\u09e8\\u09e6\\u09e7\\u09ee \", \"\\u09e7\\u09ec:\\u09e9\\u09ee, \\u099c\\u09be\\u09a8\\u09c1\\u09af\\u09bc\\u09be\\u09b0\\u09bf \\u09e6\\u09eb, \\u09e8\\u09e6\\u09e7\\u09ef \", \"\\u09e7\\u09ec:\\u09e9\\u09ee, \\u099c\\u09be\\u09a8\\u09c1\\u09af\\u09bc\\u09be\\u09b0\\u09bf \\u09e9\\u09e7, \\u09e8\\u09e6\\u09e7\\u09ef \", \"\\u09e7\\u09ec:\\u09e9\\u09ef, \\u099c\\u09be\\u09a8\\u09c1\\u09af\\u09bc\\u09be\\u09b0\\u09bf \\u09e6\\u09ed, \\u09e8\\u09e6\\u09e7\\u09ef \", \"\\u09e7\\u09ec:\\u09e9\\u09ef, \\u099c\\u09be\\u09a8\\u09c1\\u09af\\u09bc\\u09be\\u09b0\\u09bf \\u09e7\\u09ea, \\u09e8\\u09e6\\u09e7\\u09ef \", \"\\u09e7\\u09ec:\\u09ea\\u09ea, \\u099c\\u09be\\u09a8\\u09c1\\u09af\\u09bc\\u09be\\u09b0\\u09bf \\u09e7\\u09eb, \\u09e8\\u09e6\\u09e7\\u09ef \", \"\\u09e7\\u09ec:\\u09ea\\u09ee, \\u099c\\u09be\\u09a8\\u09c1\\u09af\\u09bc\\u09be\\u09b0\\u09bf \\u09e7\\u09ef, \\u09e8\\u09e6\\u09e7\\u09ef \", \"\\u09e7\\u09ec:\\u09eb\\u09e8, \\u099c\\u09be\\u09a8\\u09c1\\u09af\\u09bc\\u09be\\u09b0\\u09bf \\u09e8\\u09e6, \\u09e8\\u09e6\\u09e7\\u09ef \", \"\\u09e7\\u09ed:\\u09e6\\u09e7, \\u099c\\u09be\\u09a8\\u09c1\\u09af\\u09bc\\u09be\\u09b0\\u09bf \\u09e6\\u09e9, \\u09e8\\u09e6\\u09e7\\u09ef \", \"\\u09e7\\u09ed:\\u09e6\\u09e7, \\u099c\\u09be\\u09a8\\u09c1\\u09af\\u09bc\\u09be\\u09b0\\u09bf \\u09e8\\u09ec, \\u09e8\\u09e6\\u09e7\\u09ef \", \"\\u09e7\\u09ed:\\u09e8\\u09e7, \\u09ab\\u09c7\\u09ac\\u09cd\\u09b0\\u09c1\\u09af\\u09bc\\u09be\\u09b0\\u09bf \\u09e6\\u09e9, \\u09e8\\u09e6\\u09e7\\u09ef \", \"\\u09e7\\u09ed:\\u09e9\\u09e6, \\u099c\\u09be\\u09a8\\u09c1\\u09af\\u09bc\\u09be\\u09b0\\u09bf \\u09e8\\u09ec, \\u09e8\\u09e6\\u09e7\\u09ef \", \"\\u09e7\\u09ed:\\u09e9\\u09e7, \\u09ab\\u09c7\\u09ac\\u09cd\\u09b0\\u09c1\\u09af\\u09bc\\u09be\\u09b0\\u09bf \\u09e6\\u09ed, \\u09e8\\u09e6\\u09e7\\u09ef \", \"\\u09e7\\u09ed:\\u09e9\\u09ec, \\u099c\\u09be\\u09a8\\u09c1\\u09af\\u09bc\\u09be\\u09b0\\u09bf \\u09e6\\u09ed, \\u09e8\\u09e6\\u09e7\\u09ef \", \"\\u09e7\\u09ed:\\u09e9\\u09ed, \\u099c\\u09be\\u09a8\\u09c1\\u09af\\u09bc\\u09be\\u09b0\\u09bf \\u09e7\\u09e8, \\u09e8\\u09e6\\u09e7\\u09ef \", \"\\u09e7\\u09ed:\\u09e9\\u09ee, \\u099c\\u09be\\u09a8\\u09c1\\u09af\\u09bc\\u09be\\u09b0\\u09bf \\u09e8\\u09e8, \\u09e8\\u09e6\\u09e7\\u09ef \", \"\\u09e7\\u09ed:\\u09ea\\u09ee, \\u099c\\u09be\\u09a8\\u09c1\\u09af\\u09bc\\u09be\\u09b0\\u09bf \\u09e8\\u09ea, \\u09e8\\u09e6\\u09e7\\u09ef \", \"\\u09e7\\u09ed:\\u09eb\\u09e7, \\u099c\\u09be\\u09a8\\u09c1\\u09af\\u09bc\\u09be\\u09b0\\u09bf \\u09e8\\u09ea, \\u09e8\\u09e6\\u09e7\\u09ef \", \"\\u09e7\\u09ed:\\u09eb\\u09eb, \\u099c\\u09be\\u09a8\\u09c1\\u09af\\u09bc\\u09be\\u09b0\\u09bf \\u09e8\\u09e9, \\u09e8\\u09e6\\u09e7\\u09ef \", \"\\u09e7\\u09ee:\\u09e6\\u09e9, \\u099c\\u09be\\u09a8\\u09c1\\u09af\\u09bc\\u09be\\u09b0\\u09bf \\u09e8\\u09e8, \\u09e8\\u09e6\\u09e7\\u09ef \", \"\\u09e7\\u09ee:\\u09e6\\u09ea, \\u099c\\u09be\\u09a8\\u09c1\\u09af\\u09bc\\u09be\\u09b0\\u09bf \\u09e9\\u09e6, \\u09e8\\u09e6\\u09e7\\u09ef \", \"\\u09e7\\u09ee:\\u09e6\\u09ed, \\u099c\\u09be\\u09a8\\u09c1\\u09af\\u09bc\\u09be\\u09b0\\u09bf \\u09e8\\u09ea, \\u09e8\\u09e6\\u09e7\\u09ef \", \"\\u09e7\\u09ee:\\u09e6\\u09ef, \\u099c\\u09be\\u09a8\\u09c1\\u09af\\u09bc\\u09be\\u09b0\\u09bf \\u09e8\\u09e8, \\u09e8\\u09e6\\u09e7\\u09ef \", \"\\u09e7\\u09ee:\\u09e7\\u09ed, \\u099c\\u09be\\u09a8\\u09c1\\u09af\\u09bc\\u09be\\u09b0\\u09bf \\u09e9\\u09e7, \\u09e8\\u09e6\\u09e7\\u09ef \", \"\\u09e7\\u09ee:\\u09e8\\u09ed, \\u099c\\u09be\\u09a8\\u09c1\\u09af\\u09bc\\u09be\\u09b0\\u09bf \\u09e8\\u09e8, \\u09e8\\u09e6\\u09e7\\u09ef \", \"\\u09e7\\u09ee:\\u09e8\\u09ee, \\u099c\\u09be\\u09a8\\u09c1\\u09af\\u09bc\\u09be\\u09b0\\u09bf \\u09e9\\u09e6, \\u09e8\\u09e6\\u09e7\\u09ef \", \"\\u09e7\\u09ee:\\u09e9\\u09e8, \\u099c\\u09be\\u09a8\\u09c1\\u09af\\u09bc\\u09be\\u09b0\\u09bf \\u09e6\\u09ef, \\u09e8\\u09e6\\u09e7\\u09ef \", \"\\u09e7\\u09ee:\\u09e9\\u09e8, \\u099c\\u09be\\u09a8\\u09c1\\u09af\\u09bc\\u09be\\u09b0\\u09bf \\u09e8\\u09ea, \\u09e8\\u09e6\\u09e7\\u09ef \", \"\\u09e7\\u09ee:\\u09e9\\u09ea, \\u099c\\u09be\\u09a8\\u09c1\\u09af\\u09bc\\u09be\\u09b0\\u09bf \\u09e7\\u09eb, \\u09e8\\u09e6\\u09e7\\u09ef \", \"\\u09e7\\u09ee:\\u09e9\\u09eb, \\u099c\\u09be\\u09a8\\u09c1\\u09af\\u09bc\\u09be\\u09b0\\u09bf \\u09e7\\u09ec, \\u09e8\\u09e6\\u09e7\\u09ef \", \"\\u09e7\\u09ee:\\u09e9\\u09ec, \\u099c\\u09be\\u09a8\\u09c1\\u09af\\u09bc\\u09be\\u09b0\\u09bf \\u09e6\\u09e8, \\u09e8\\u09e6\\u09e7\\u09ef \", \"\\u09e7\\u09ee:\\u09ea\\u09eb, \\u099c\\u09be\\u09a8\\u09c1\\u09af\\u09bc\\u09be\\u09b0\\u09bf \\u09e8\\u09ea, \\u09e8\\u09e6\\u09e7\\u09ef \", \"\\u09e7\\u09ee:\\u09ea\\u09ed, \\u099c\\u09be\\u09a8\\u09c1\\u09af\\u09bc\\u09be\\u09b0\\u09bf \\u09e8\\u09e6, \\u09e8\\u09e6\\u09e7\\u09ef \", \"\\u09e7\\u09ee:\\u09ea\\u09ef, \\u099c\\u09be\\u09a8\\u09c1\\u09af\\u09bc\\u09be\\u09b0\\u09bf \\u09e7\\u09e8, \\u09e8\\u09e6\\u09e7\\u09ef \", \"\\u09e7\\u09ee:\\u09eb\\u09e6, \\u09a8\\u09ad\\u09c7\\u09ae\\u09cd\\u09ac\\u09b0 \\u09e7\\u09ea, \\u09e8\\u09e6\\u09e7\\u09ee \", \"\\u09e7\\u09ee:\\u09eb\\u09eb, \\u099c\\u09be\\u09a8\\u09c1\\u09af\\u09bc\\u09be\\u09b0\\u09bf \\u09e6\\u09e8, \\u09e8\\u09e6\\u09e7\\u09ef \", \"\\u09e7\\u09ee:\\u09eb\\u09ec, \\u099c\\u09be\\u09a8\\u09c1\\u09af\\u09bc\\u09be\\u09b0\\u09bf \\u09e9\\u09e7, \\u09e8\\u09e6\\u09e7\\u09ef \", \"\\u09e7\\u09ee:\\u09eb\\u09ee, \\u099c\\u09be\\u09a8\\u09c1\\u09af\\u09bc\\u09be\\u09b0\\u09bf \\u09e7\\u09e7, \\u09e8\\u09e6\\u09e7\\u09ef \", \"\\u09e7\\u09ef:\\u09e6\\u09e7, \\u099c\\u09be\\u09a8\\u09c1\\u09af\\u09bc\\u09be\\u09b0\\u09bf \\u09e8\\u09ef, \\u09e8\\u09e6\\u09e7\\u09ef \", \"\\u09e7\\u09ef:\\u09e6\\u09e9, \\u099c\\u09be\\u09a8\\u09c1\\u09af\\u09bc\\u09be\\u09b0\\u09bf \\u09e6\\u09e8, \\u09e8\\u09e6\\u09e7\\u09ef \", \"\\u09e7\\u09ef:\\u09e6\\u09ea, \\u09ab\\u09c7\\u09ac\\u09cd\\u09b0\\u09c1\\u09af\\u09bc\\u09be\\u09b0\\u09bf \\u09e6\\u09ed, \\u09e8\\u09e6\\u09e7\\u09ef \", \"\\u09e7\\u09ef:\\u09e7\\u09e6, \\u099c\\u09be\\u09a8\\u09c1\\u09af\\u09bc\\u09be\\u09b0\\u09bf \\u09e6\\u09eb, \\u09e8\\u09e6\\u09e7\\u09ef \", \"\\u09e7\\u09ef:\\u09e7\\u09e8, \\u099c\\u09be\\u09a8\\u09c1\\u09af\\u09bc\\u09be\\u09b0\\u09bf \\u09e7\\u09ec, \\u09e8\\u09e6\\u09e7\\u09ef \", \"\\u09e7\\u09ef:\\u09e7\\u09eb, \\u099c\\u09be\\u09a8\\u09c1\\u09af\\u09bc\\u09be\\u09b0\\u09bf \\u09e7\\u09ee, \\u09e8\\u09e6\\u09e7\\u09ef \", \"\\u09e7\\u09ef:\\u09e8\\u09e8, \\u09a8\\u09ad\\u09c7\\u09ae\\u09cd\\u09ac\\u09b0 \\u09e8\\u09e8, \\u09e8\\u09e6\\u09e7\\u09ee \", \"\\u09e7\\u09ef:\\u09e8\\u09e9, \\u099c\\u09be\\u09a8\\u09c1\\u09af\\u09bc\\u09be\\u09b0\\u09bf \\u09e7\\u09ea, \\u09e8\\u09e6\\u09e7\\u09ef \", \"\\u09e7\\u09ef:\\u09e9\\u09e6, \\u099c\\u09be\\u09a8\\u09c1\\u09af\\u09bc\\u09be\\u09b0\\u09bf \\u09e6\\u09ec, \\u09e8\\u09e6\\u09e7\\u09ef \", \"\\u09e7\\u09ef:\\u09e9\\u09e8, \\u099c\\u09be\\u09a8\\u09c1\\u09af\\u09bc\\u09be\\u09b0\\u09bf \\u09e8\\u09ee, \\u09e8\\u09e6\\u09e7\\u09ef \", \"\\u09e7\\u09ef:\\u09e9\\u09ed, \\u099c\\u09be\\u09a8\\u09c1\\u09af\\u09bc\\u09be\\u09b0\\u09bf \\u09e9\\u09e6, \\u09e8\\u09e6\\u09e7\\u09ef \", \"\\u09e7\\u09ef:\\u09e9\\u09ef, \\u099c\\u09be\\u09a8\\u09c1\\u09af\\u09bc\\u09be\\u09b0\\u09bf \\u09e8\\u09e6, \\u09e8\\u09e6\\u09e7\\u09ef \", \"\\u09e7\\u09ef:\\u09ea\\u09ea, \\u099c\\u09be\\u09a8\\u09c1\\u09af\\u09bc\\u09be\\u09b0\\u09bf \\u09e7\\u09e7, \\u09e8\\u09e6\\u09e7\\u09ef \", \"\\u09e7\\u09ef:\\u09ea\\u09eb, \\u09ab\\u09c7\\u09ac\\u09cd\\u09b0\\u09c1\\u09af\\u09bc\\u09be\\u09b0\\u09bf \\u09e6\\u09ea, \\u09e8\\u09e6\\u09e7\\u09ef \", \"\\u09e7\\u09ef:\\u09ea\\u09ed, \\u09ab\\u09c7\\u09ac\\u09cd\\u09b0\\u09c1\\u09af\\u09bc\\u09be\\u09b0\\u09bf \\u09e6\\u09ed, \\u09e8\\u09e6\\u09e7\\u09ef \", \"\\u09e7\\u09ef:\\u09ea\\u09ee, \\u099c\\u09be\\u09a8\\u09c1\\u09af\\u09bc\\u09be\\u09b0\\u09bf \\u09e8\\u09ed, \\u09e8\\u09e6\\u09e7\\u09ef \", \"\\u09e7\\u09ef:\\u09ea\\u09ef, \\u0985\\u0995\\u09cd\\u099f\\u09cb\\u09ac\\u09b0 \\u09e7\\u09ed, \\u09e8\\u09e6\\u09e7\\u09ee \", \"\\u09e7\\u09ef:\\u09eb\\u09ed, \\u099c\\u09be\\u09a8\\u09c1\\u09af\\u09bc\\u09be\\u09b0\\u09bf \\u09e6\\u09ec, \\u09e8\\u09e6\\u09e7\\u09ef \", \"\\u09e8 \\u0998\\u09a8\\u09cd\\u099f\\u09be \\u09e8\\u09e7 \\u09ae\\u09bf\\u09a8\\u09bf\\u099f \\u0986\\u0997\\u09c7\", \"\\u09e8\\u09e6:\\u09e6\\u09e9, \\u09ab\\u09c7\\u09ac\\u09cd\\u09b0\\u09c1\\u09af\\u09bc\\u09be\\u09b0\\u09bf \\u09e6\\u09ea, \\u09e8\\u09e6\\u09e7\\u09ef \", \"\\u09e8\\u09e6:\\u09e6\\u09eb, \\u099c\\u09be\\u09a8\\u09c1\\u09af\\u09bc\\u09be\\u09b0\\u09bf \\u09e7\\u09e6, \\u09e8\\u09e6\\u09e7\\u09ef \", \"\\u09e8\\u09e6:\\u09e6\\u09eb, \\u09ab\\u09c7\\u09ac\\u09cd\\u09b0\\u09c1\\u09af\\u09bc\\u09be\\u09b0\\u09bf \\u09e6\\u09ec, \\u09e8\\u09e6\\u09e7\\u09ef \", \"\\u09e8\\u09e6:\\u09e6\\u09ec, \\u099c\\u09be\\u09a8\\u09c1\\u09af\\u09bc\\u09be\\u09b0\\u09bf \\u09e8\\u09ee, \\u09e8\\u09e6\\u09e7\\u09ef \", \"\\u09e8\\u09e6:\\u09e7\\u09e7, \\u099c\\u09be\\u09a8\\u09c1\\u09af\\u09bc\\u09be\\u09b0\\u09bf \\u09e8\\u09e7, \\u09e8\\u09e6\\u09e7\\u09ef \", \"\\u09e8\\u09e6:\\u09e7\\u09e8, \\u099c\\u09be\\u09a8\\u09c1\\u09af\\u09bc\\u09be\\u09b0\\u09bf \\u09e8\\u09e7, \\u09e8\\u09e6\\u09e7\\u09ef \", \"\\u09e8\\u09e6:\\u09e7\\u09ea, \\u099c\\u09be\\u09a8\\u09c1\\u09af\\u09bc\\u09be\\u09b0\\u09bf \\u09e7\\u09e8, \\u09e8\\u09e6\\u09e7\\u09ef \", \"\\u09e8\\u09e6:\\u09e7\\u09ea, \\u099c\\u09be\\u09a8\\u09c1\\u09af\\u09bc\\u09be\\u09b0\\u09bf \\u09e8\\u09e9, \\u09e8\\u09e6\\u09e7\\u09ef \", \"\\u09e8\\u09e6:\\u09e7\\u09eb, \\u099c\\u09be\\u09a8\\u09c1\\u09af\\u09bc\\u09be\\u09b0\\u09bf \\u09e9\\u09e6, \\u09e8\\u09e6\\u09e7\\u09ef \", \"\\u09e8\\u09e6:\\u09e8\\u09e7, \\u099c\\u09be\\u09a8\\u09c1\\u09af\\u09bc\\u09be\\u09b0\\u09bf \\u09e7\\u09e6, \\u09e8\\u09e6\\u09e7\\u09ef \", \"\\u09e8\\u09e6:\\u09e8\\u09e9, \\u099c\\u09be\\u09a8\\u09c1\\u09af\\u09bc\\u09be\\u09b0\\u09bf \\u09e6\\u09e9, \\u09e8\\u09e6\\u09e7\\u09ef \", \"\\u09e8\\u09e6:\\u09e8\\u09ea, \\u099c\\u09be\\u09a8\\u09c1\\u09af\\u09bc\\u09be\\u09b0\\u09bf \\u09e9\\u09e7, \\u09e8\\u09e6\\u09e7\\u09ef \", \"\\u09e8\\u09e6:\\u09e9\\u09ea, \\u099c\\u09be\\u09a8\\u09c1\\u09af\\u09bc\\u09be\\u09b0\\u09bf \\u09e8\\u09e8, \\u09e8\\u09e6\\u09e7\\u09ef \", \"\\u09e8\\u09e6:\\u09e9\\u09eb, \\u099c\\u09be\\u09a8\\u09c1\\u09af\\u09bc\\u09be\\u09b0\\u09bf \\u09e6\\u09ee, \\u09e8\\u09e6\\u09e7\\u09ef \", \"\\u09e8\\u09e6:\\u09e9\\u09ec, \\u099c\\u09be\\u09a8\\u09c1\\u09af\\u09bc\\u09be\\u09b0\\u09bf \\u09e7\\u09ee, \\u09e8\\u09e6\\u09e7\\u09ef \", \"\\u09e8\\u09e6:\\u09e9\\u09ed, \\u099c\\u09be\\u09a8\\u09c1\\u09af\\u09bc\\u09be\\u09b0\\u09bf \\u09e8\\u09ef, \\u09e8\\u09e6\\u09e7\\u09ef \", \"\\u09e8\\u09e6:\\u09e9\\u09ee, \\u099c\\u09be\\u09a8\\u09c1\\u09af\\u09bc\\u09be\\u09b0\\u09bf \\u09e7\\u09eb, \\u09e8\\u09e6\\u09e7\\u09ef \", \"\\u09e8\\u09e6:\\u09e9\\u09ef, \\u099c\\u09be\\u09a8\\u09c1\\u09af\\u09bc\\u09be\\u09b0\\u09bf \\u09e7\\u09ea, \\u09e8\\u09e6\\u09e7\\u09ef \", \"\\u09e8\\u09e6:\\u09ea\\u09e7, \\u099c\\u09be\\u09a8\\u09c1\\u09af\\u09bc\\u09be\\u09b0\\u09bf \\u09e7\\u09ea, \\u09e8\\u09e6\\u09e7\\u09ef \", \"\\u09e8\\u09e6:\\u09ea\\u09e8, \\u099c\\u09be\\u09a8\\u09c1\\u09af\\u09bc\\u09be\\u09b0\\u09bf \\u09e8\\u09ef, \\u09e8\\u09e6\\u09e7\\u09ef \", \"\\u09e8\\u09e6:\\u09ea\\u09e9, \\u099c\\u09be\\u09a8\\u09c1\\u09af\\u09bc\\u09be\\u09b0\\u09bf \\u09e8\\u09ec, \\u09e8\\u09e6\\u09e7\\u09ef \", \"\\u09e8\\u09e6:\\u09ea\\u09eb, \\u099c\\u09be\\u09a8\\u09c1\\u09af\\u09bc\\u09be\\u09b0\\u09bf \\u09e8\\u09e8, \\u09e8\\u09e6\\u09e7\\u09ef \", \"\\u09e8\\u09e6:\\u09ea\\u09eb, \\u099c\\u09be\\u09a8\\u09c1\\u09af\\u09bc\\u09be\\u09b0\\u09bf \\u09e8\\u09ea, \\u09e8\\u09e6\\u09e7\\u09ef \", \"\\u09e8\\u09e6:\\u09ea\\u09eb, \\u099c\\u09be\\u09a8\\u09c1\\u09af\\u09bc\\u09be\\u09b0\\u09bf \\u09e9\\u09e6, \\u09e8\\u09e6\\u09e7\\u09ef \", \"\\u09e8\\u09e6:\\u09ea\\u09ed, \\u099c\\u09be\\u09a8\\u09c1\\u09af\\u09bc\\u09be\\u09b0\\u09bf \\u09e6\\u09e7, \\u09e8\\u09e6\\u09e7\\u09ef \", \"\\u09e8\\u09e6:\\u09eb\\u09e6, \\u099c\\u09be\\u09a8\\u09c1\\u09af\\u09bc\\u09be\\u09b0\\u09bf \\u09e8\\u09ed, \\u09e8\\u09e6\\u09e7\\u09ef \", \"\\u09e8\\u09e6:\\u09eb\\u09e7, \\u099c\\u09be\\u09a8\\u09c1\\u09af\\u09bc\\u09be\\u09b0\\u09bf \\u09e8\\u09eb, \\u09e8\\u09e6\\u09e7\\u09ef \", \"\\u09e8\\u09e6:\\u09eb\\u09ea, \\u099c\\u09be\\u09a8\\u09c1\\u09af\\u09bc\\u09be\\u09b0\\u09bf \\u09e8\\u09ed, \\u09e8\\u09e6\\u09e7\\u09ef \", \"\\u09e8\\u09e6:\\u09eb\\u09ef, \\u099c\\u09be\\u09a8\\u09c1\\u09af\\u09bc\\u09be\\u09b0\\u09bf \\u09e7\\u09ec, \\u09e8\\u09e6\\u09e7\\u09ef \", \"\\u09e8\\u09e7:\\u09e6\\u09e6, \\u099c\\u09be\\u09a8\\u09c1\\u09af\\u09bc\\u09be\\u09b0\\u09bf \\u09e6\\u09ee, \\u09e8\\u09e6\\u09e7\\u09ef \", \"\\u09e8\\u09e7:\\u09e6\\u09ec, \\u09ab\\u09c7\\u09ac\\u09cd\\u09b0\\u09c1\\u09af\\u09bc\\u09be\\u09b0\\u09bf \\u09e6\\u09ed, \\u09e8\\u09e6\\u09e7\\u09ef \", \"\\u09e8\\u09e7:\\u09e6\\u09ed, \\u099c\\u09be\\u09a8\\u09c1\\u09af\\u09bc\\u09be\\u09b0\\u09bf \\u09e7\\u09eb, \\u09e8\\u09e6\\u09e7\\u09ef \", \"\\u09e8\\u09e7:\\u09e7\\u09ed, \\u099c\\u09be\\u09a8\\u09c1\\u09af\\u09bc\\u09be\\u09b0\\u09bf \\u09e8\\u09e7, \\u09e8\\u09e6\\u09e7\\u09ef \", \"\\u09e8\\u09e7:\\u09e7\\u09ed, \\u09ab\\u09c7\\u09ac\\u09cd\\u09b0\\u09c1\\u09af\\u09bc\\u09be\\u09b0\\u09bf \\u09e6\\u09e9, \\u09e8\\u09e6\\u09e7\\u09ef \", \"\\u09e8\\u09e7:\\u09e8\\u09e7, \\u099c\\u09be\\u09a8\\u09c1\\u09af\\u09bc\\u09be\\u09b0\\u09bf \\u09e8\\u09e8, \\u09e8\\u09e6\\u09e7\\u09ef \", \"\\u09e8\\u09e7:\\u09e8\\u09e8, \\u099c\\u09be\\u09a8\\u09c1\\u09af\\u09bc\\u09be\\u09b0\\u09bf \\u09e6\\u09ec, \\u09e8\\u09e6\\u09e7\\u09ef \", \"\\u09e8\\u09e7:\\u09e8\\u09e9, \\u09ab\\u09c7\\u09ac\\u09cd\\u09b0\\u09c1\\u09af\\u09bc\\u09be\\u09b0\\u09bf \\u09e6\\u09ec, \\u09e8\\u09e6\\u09e7\\u09ef \", \"\\u09e8\\u09e7:\\u09e8\\u09ef, \\u099c\\u09be\\u09a8\\u09c1\\u09af\\u09bc\\u09be\\u09b0\\u09bf \\u09e7\\u09ea, \\u09e8\\u09e6\\u09e7\\u09ef \", \"\\u09e8\\u09e7:\\u09e8\\u09ef, \\u099c\\u09be\\u09a8\\u09c1\\u09af\\u09bc\\u09be\\u09b0\\u09bf \\u09e7\\u09ee, \\u09e8\\u09e6\\u09e7\\u09ef \", \"\\u09e8\\u09e7:\\u09e9\\u09e7, \\u09ab\\u09c7\\u09ac\\u09cd\\u09b0\\u09c1\\u09af\\u09bc\\u09be\\u09b0\\u09bf \\u09e6\\u09ec, \\u09e8\\u09e6\\u09e7\\u09ef \", \"\\u09e8\\u09e7:\\u09e9\\u09eb, \\u099c\\u09be\\u09a8\\u09c1\\u09af\\u09bc\\u09be\\u09b0\\u09bf \\u09e8\\u09e7, \\u09e8\\u09e6\\u09e7\\u09ef \", \"\\u09e8\\u09e7:\\u09ea\\u09e6, \\u099c\\u09be\\u09a8\\u09c1\\u09af\\u09bc\\u09be\\u09b0\\u09bf \\u09e8\\u09e7, \\u09e8\\u09e6\\u09e7\\u09ef \", \"\\u09e8\\u09e7:\\u09ea\\u09ec, \\u099c\\u09be\\u09a8\\u09c1\\u09af\\u09bc\\u09be\\u09b0\\u09bf \\u09e8\\u09e7, \\u09e8\\u09e6\\u09e7\\u09ef \", \"\\u09e8\\u09e7:\\u09ea\\u09ef, \\u099c\\u09be\\u09a8\\u09c1\\u09af\\u09bc\\u09be\\u09b0\\u09bf \\u09e8\\u09e9, \\u09e8\\u09e6\\u09e7\\u09ef \", \"\\u09e8\\u09e7:\\u09eb\\u09e8, \\u099c\\u09be\\u09a8\\u09c1\\u09af\\u09bc\\u09be\\u09b0\\u09bf \\u09e7\\u09e9, \\u09e8\\u09e6\\u09e7\\u09ef \", \"\\u09e8\\u09e7:\\u09eb\\u09eb, \\u09ab\\u09c7\\u09ac\\u09cd\\u09b0\\u09c1\\u09af\\u09bc\\u09be\\u09b0\\u09bf \\u09e6\\u09ea, \\u09e8\\u09e6\\u09e7\\u09ef \", \"\\u09e8\\u09e8:\\u09e7\\u09ed, \\u099c\\u09be\\u09a8\\u09c1\\u09af\\u09bc\\u09be\\u09b0\\u09bf \\u09e6\\u09ed, \\u09e8\\u09e6\\u09e7\\u09ef \", \"\\u09e8\\u09e8:\\u09e7\\u09ee, \\u099c\\u09be\\u09a8\\u09c1\\u09af\\u09bc\\u09be\\u09b0\\u09bf \\u09e8\\u09eb, \\u09e8\\u09e6\\u09e7\\u09ef \", \"\\u09ea \\u0998\\u09a8\\u09cd\\u099f\\u09be \\u09e7\\u09e7 \\u09ae\\u09bf\\u09a8\\u09bf\\u099f \\u0986\\u0997\\u09c7\", \"\\u09ea \\u0998\\u09a8\\u09cd\\u099f\\u09be \\u09ea\\u09e6 \\u09ae\\u09bf\\u09a8\\u09bf\\u099f \\u0986\\u0997\\u09c7\", \"\\u09eb \\u0998\\u09a8\\u09cd\\u099f\\u09be \\u09e7\\u09e8 \\u09ae\\u09bf\\u09a8\\u09bf\\u099f \\u0986\\u0997\\u09c7\", \"\\u09eb \\u0998\\u09a8\\u09cd\\u099f\\u09be \\u09e8\\u09e9 \\u09ae\\u09bf\\u09a8\\u09bf\\u099f \\u0986\\u0997\\u09c7\"], \"y\": [1, 1, 1, 1, 1, 1, 1, 1, 1, 1, 1, 1, 1, 1, 1, 1, 1, 1, 1, 1, 1, 1, 1, 1, 1, 1, 1, 1, 1, 1, 1, 1, 1, 1, 1, 1, 1, 1, 1, 1, 1, 1, 1, 1, 1, 1, 1, 1, 1, 1, 1, 1, 1, 1, 1, 1, 1, 1, 1, 1, 1, 1, 1, 1, 1, 1, 1, 1, 1, 1, 1, 1, 1, 1, 1, 1, 1, 1, 1, 1, 1, 1, 1, 1, 1, 1, 1, 1, 1, 1, 1, 1, 1, 1, 1, 1, 1, 1, 1, 1, 1, 1, 1, 1, 1, 1, 1, 1, 1, 1, 1, 1, 1, 1, 1, 1, 1, 1, 1, 1, 1, 1, 1, 1, 1, 1, 1, 1, 1, 1, 1, 1, 1, 1, 1, 1, 1, 1, 1, 1, 1, 1, 1, 1, 1, 1, 1, 1, 1, 1, 1, 1, 1, 1, 1, 1, 1, 1, 1, 1, 1, 1, 1, 1, 1, 1, 1, 1, 1, 1, 1, 1, 1, 1, 1, 1, 1, 1, 1, 1, 1, 1, 1, 1, 1, 1, 1, 1, 1, 1, 1, 1, 2, 2, 1, 1, 1, 1, 1, 2, 1, 1, 1, 1, 2, 1, 1, 1, 2, 1, 2, 2, 2, 2, 2, 2, 2, 2, 1, 2, 2, 1, 1, 1, 1, 6, 11, 1, 1, 1, 1, 1, 1, 1, 1, 1, 1, 1, 1, 2, 1, 1, 1, 2, 1, 2, 2, 2, 1, 1, 1, 1, 1, 2, 1, 1, 2, 1, 1, 1, 1, 1, 1, 1, 1, 1, 1, 1, 1, 1, 1, 2, 1, 1, 1, 1, 1, 1, 1, 1, 1, 1, 1, 1, 1, 1, 1, 1, 2, 2, 2, 1, 1, 1, 1, 1, 1, 1, 2, 2, 2, 2, 2, 2, 2, 2, 2, 2, 2, 2, 2, 1, 1, 1, 1, 1, 1, 2, 1, 1, 1, 1, 1, 1, 1, 1, 1, 1, 1, 1, 1, 1, 2, 2, 1, 1, 1, 1, 1, 1, 1, 1, 1, 1, 2, 1, 1, 1, 1, 1, 1, 1, 1, 1, 1, 1, 1, 1, 1, 1, 1, 1, 1, 1, 1, 1, 1, 1, 1, 1, 1, 1, 1, 1, 1, 1, 1, 1, 1, 1, 2, 1, 1, 1, 1, 1, 1, 1, 1, 1, 2, 1, 1, 1, 1, 1, 1, 1, 1, 1, 2, 2, 1, 1, 1, 1, 1, 1, 1, 1, 1, 1, 2, 1, 1, 1, 1, 1, 1, 1, 1, 1, 1, 1, 1, 1, 1, 1, 1, 2, 1, 1, 1, 1, 1, 1, 1, 1, 1, 1, 1, 1, 1, 1, 1, 1, 1, 1, 1, 1, 1, 1, 1, 1, 1, 1, 1, 1, 1, 1, 1, 1, 1, 1, 1, 1, 1, 1, 1, 1, 1, 1, 1, 1, 1, 1, 1, 1, 1, 1, 1, 1, 1, 1, 1, 1, 1, 1, 1, 1, 1, 1, 1, 1, 1, 1, 1, 1, 1, 1, 1, 1, 1, 2, 1, 1, 1, 1, 1, 1, 1, 1, 1, 1, 1, 1, 1, 1, 1, 1, 1, 2, 1, 1, 1, 1, 1, 1, 1, 1, 1, 1, 1, 1, 1, 1, 1, 1, 1, 1, 1, 2, 1, 1, 1, 1, 1, 1, 1, 1, 1, 1, 1, 1, 1, 1, 1, 1, 1, 3, 3, 1, 1, 1, 1, 2, 2, 1, 1, 1, 2, 2, 3, 1, 2, 2, 1, 3, 2, 2, 2, 2, 2, 1, 2, 1, 2, 1, 2, 1, 1, 1, 2, 2, 2, 1, 2, 2, 2, 1, 1, 2, 2, 2, 1, 3, 2, 2, 2, 1, 1, 2, 1, 1, 2, 1, 2, 1, 2, 2, 2, 1, 2, 1, 1, 1, 1, 1, 1, 1, 1, 1, 1, 1, 1, 1, 1, 1, 1, 23, 1, 1, 1, 1, 1, 1, 1, 1, 1, 1, 2, 1, 1, 1, 1, 1, 1, 2, 1, 1, 2, 1, 2, 1, 1, 1, 1, 1, 1, 1, 1, 1, 1, 1, 2, 1, 1, 2, 1, 1, 1, 1, 1, 1, 1, 4, 1, 1, 1, 1, 1, 1, 2, 1, 1, 1, 1, 1, 1, 1, 1, 1, 1, 1, 1, 1, 1, 1, 1, 1, 1, 1, 1, 1, 1, 1, 1, 1, 1, 1, 2, 1, 1, 2, 1, 1, 1, 1, 1, 1, 2, 1, 1, 1, 1, 1, 1, 1, 1, 2, 1, 2, 1, 1, 1, 1, 1, 1, 2, 2, 2, 1, 1, 2, 2, 1, 1, 1, 2, 2, 2, 1, 2, 1, 1, 2, 1, 1, 1, 1, 2, 1, 1, 1, 2, 1, 2, 1, 2, 1, 1, 1, 2, 1, 1, 1, 1, 1, 1, 1, 2, 1, 2, 1, 1, 1, 1, 2, 2, 1, 1, 1, 1, 1, 2, 1, 2, 1, 2, 1, 1, 1, 1, 2, 1, 1, 1, 1, 1, 1, 1, 1, 1, 1, 1, 1, 1, 1, 1, 1, 1, 1, 1, 1, 1, 1, 1, 1, 1, 1, 1, 1, 1, 1, 1, 1, 1, 1, 1, 1, 1, 1, 1, 1, 1, 1, 1, 1, 1, 1, 1, 1, 1, 1, 1, 1, 1, 1, 1, 1, 1, 1, 1, 1, 1, 1, 1, 1, 1, 2, 1, 1, 1, 1, 1, 1, 1, 1, 1, 2, 1, 1, 2, 1, 1, 1, 1, 1, 1, 1, 1, 1, 1, 1, 1, 1, 1, 1, 1, 1, 1, 1, 1, 1, 1, 6, 1, 2, 1, 2, 2, 4, 2, 2, 2, 2, 2, 1, 1, 1, 1, 1, 1, 1, 2, 1, 1, 1, 1, 1, 2, 1, 1, 1, 1, 1, 1, 1, 1, 1, 1, 1, 1, 1, 1, 1, 3, 2, 1, 2, 1, 1, 1, 1, 1, 1, 1, 1, 1, 1, 1, 2, 4, 3, 1, 1, 3, 4, 4, 3, 5, 4, 2, 1, 1, 2, 5, 3, 6, 2, 1, 5, 5, 6, 4, 2, 2, 1, 1, 1, 5, 2, 2, 1, 1, 1, 6, 2, 4, 3, 4, 1, 1, 1, 5, 1, 1, 1, 1, 1, 1, 1, 1, 1, 1, 1, 1, 1, 1, 1, 1, 1, 1, 1, 1, 1, 1, 1, 1, 1, 1, 1, 1, 1, 1, 1, 1, 1, 1, 1, 1, 1, 1, 1, 1, 1, 1, 1, 1, 1, 1, 1, 1, 1, 1, 1, 1, 1, 1, 1, 1, 1, 1, 1, 1, 1, 1, 1, 1, 1, 1, 1, 1, 1, 1, 1, 1, 1, 1, 1, 1, 1, 1, 1, 1, 1, 1, 1, 1, 1, 1, 1, 1, 1, 1, 1, 1, 1, 1, 1, 1, 1, 1, 1, 1, 1, 1, 1, 1, 1, 1, 1, 1, 1, 1, 1, 1, 1, 1, 1, 1, 1, 1, 1, 1, 1, 1, 1, 1, 1, 1, 1, 1, 1, 1, 1, 1, 1, 1, 1, 1, 1, 1, 1, 1, 1, 1, 1, 1, 1]}, {\"name\": \"Fake\", \"type\": \"scatter\", \"x\": [\"2018-09-19 17:48:18\", \"2018-09-19 17:48:19\", \"2018-09-19 17:48:20\", \"2018-09-19 17:48:21\", \"2018-09-19 17:48:23\", \"2018-09-19 17:48:28\", \"2018-09-19 17:48:29\", \"2018-09-19 17:48:30\", \"2018-09-19 17:48:40\", \"2018-09-19 17:48:44\", \"2018-09-19 17:49:10\", \"2018-09-19 17:49:12\", \"2018-09-19 17:49:15\", \"2018-09-19 17:49:17\", \"2018-09-19 17:49:19\", \"2018-09-19 17:49:21\", \"2018-09-19 17:50:28\", \"2018-09-19 17:50:32\", \"2018-09-19 17:50:34\", \"2018-09-19 17:50:35\", \"2018-09-19 17:50:41\", \"2018-09-19 17:50:43\", \"2018-09-19 17:50:45\", \"2018-09-19 17:50:47\", \"2018-09-19 17:50:49\", \"2018-09-19 17:50:58\", \"2018-09-19 17:51:04\", \"2018-09-19 17:51:06\", \"2018-09-19 17:51:09\", \"2018-09-19 17:51:20\", \"2018-09-19 17:51:22\", \"2018-09-19 17:51:24\", \"2018-09-19 17:51:26\", \"2018-09-19 17:51:28\", \"2018-09-19 17:51:30\", \"2018-09-19 17:51:32\", \"2018-09-19 17:52:16\", \"2018-09-19 17:52:18\", \"2018-09-19 17:52:38\", \"2018-09-19 17:52:40\", \"2018-09-19 17:52:43\", \"2018-09-19 17:52:46\", \"2018-09-19 17:52:48\", \"2018-09-19 17:52:51\", \"2018-09-19 17:54:36\", \"2018-09-19 17:54:39\", \"2018-09-19 17:54:41\", \"2018-09-19 17:54:44\", \"2018-09-19 17:54:49\", \"2018-09-19 17:55:37\", \"2018-09-19 17:55:59\", \"2018-09-19 17:56:06\", \"2018-09-19 17:56:08\", \"2018-09-19 17:56:10\", \"2018-09-19 17:56:12\", \"2018-09-19 17:56:14\", \"2018-09-19 17:56:16\", \"2018-09-19 17:56:18\", \"2018-09-19 17:56:21\", \"2018-09-19 17:56:46\", \"2018-09-19 17:56:50\", \"2018-09-19 17:56:54\", \"2018-09-19 17:59:03\", \"2018-09-19 18:00:06\", \"2018-09-19 18:01:44\", \"2018-09-19 18:02:56\", \"2018-09-19 18:12:00\", \"2018-09-19 18:13:43\", \"2018-09-19 18:13:46\", \"2018-09-19 18:14:17\", \"2018-09-19 18:15:19\", \"2018-09-19 18:15:20\", \"2018-09-19 18:15:35\", \"2018-09-19 18:15:43\", \"2018-09-19 18:15:45\", \"2018-09-19 18:15:47\", \"2018-09-19 18:15:49\", \"2018-09-19 18:15:51\", \"2018-09-19 18:15:53\", \"2018-09-19 18:15:55\", \"2018-09-19 18:15:57\", \"2018-09-19 18:15:58\", \"2018-09-19 18:16:01\", \"2018-09-19 18:16:03\", \"2018-09-19 18:16:04\", \"2018-09-19 18:16:06\", \"2018-09-19 18:16:09\", \"2018-09-19 18:16:10\", \"2018-09-19 18:16:13\", \"2018-09-19 18:16:15\", \"2018-09-19 18:16:17\", \"2018-09-19 18:16:18\", \"2018-09-19 18:16:20\", \"2018-09-19 18:16:22\", \"2018-09-19 18:16:24\", \"2018-09-19 18:16:26\", \"2018-09-19 18:16:28\", \"2018-09-19 18:16:30\", \"2018-09-19 18:16:32\", \"2018-09-19 18:16:34\", \"2018-09-19 18:16:36\", \"2018-09-19 18:16:38\", \"2018-09-19 18:16:40\", \"2018-09-19 18:16:41\", \"2018-09-19 18:16:43\", \"2018-09-19 18:16:46\", \"2018-09-19 18:16:48\", \"2018-09-19 18:16:49\", \"2018-09-19 18:16:51\", \"2018-09-19 18:16:53\", \"2018-09-19 18:16:55\", \"2018-09-19 18:16:57\", \"2018-09-19 18:16:59\", \"2018-09-19 18:17:00\", \"2018-09-19 18:17:02\", \"2018-09-19 18:17:04\", \"2018-09-19 18:17:06\", \"2018-09-19 18:17:08\", \"2018-09-19 18:17:10\", \"2018-09-19 18:17:12\", \"2018-09-19 18:17:14\", \"2018-09-19 18:17:16\", \"2018-09-19 18:17:18\", \"2018-09-19 18:17:19\", \"2018-09-19 18:17:21\", \"2018-09-19 18:17:23\", \"2018-09-19 18:17:25\", \"2018-09-19 18:17:27\", \"2018-09-19 18:17:28\", \"2018-09-19 18:17:30\", \"2018-09-19 18:17:32\", \"2018-09-19 18:17:34\", \"2018-09-19 18:17:36\", \"2018-09-19 18:17:38\", \"2018-09-19 18:17:40\", \"2018-09-19 18:17:42\", \"2018-09-19 18:17:44\", \"2018-09-19 18:17:46\", \"2018-09-19 18:17:48\", \"2018-09-19 18:17:50\", \"2018-09-19 18:17:52\", \"2018-09-19 18:17:54\", \"2018-09-19 18:17:55\", \"2018-09-19 18:17:57\", \"2018-09-19 18:18:00\", \"2018-09-19 18:18:02\", \"2018-09-19 18:18:04\", \"2018-09-19 18:18:06\", \"2018-09-19 18:18:08\", \"2018-09-19 18:18:10\", \"2018-09-19 18:18:12\", \"2018-09-19 18:18:14\", \"2018-09-19 18:18:16\", \"2018-09-19 18:18:18\", \"2018-09-19 18:18:20\", \"2018-09-19 18:18:22\", \"2018-09-19 18:18:24\", \"2018-09-19 18:18:26\", \"2018-09-19 18:18:28\", \"2018-09-19 18:18:30\", \"2018-09-19 18:18:32\", \"2018-09-19 18:18:34\", \"2018-09-19 18:18:37\", \"2018-09-19 18:18:38\", \"2018-09-19 18:18:40\", \"2018-09-19 18:18:42\", \"2018-09-19 18:18:44\", \"2018-09-19 18:18:46\", \"2018-09-19 18:18:48\", \"2018-09-19 18:18:50\", \"2018-09-19 18:18:52\", \"2018-09-19 18:18:56\", \"2018-09-19 18:18:57\", \"2018-09-19 18:19:54\", \"2018-09-19 18:19:59\", \"2018-09-19 18:20:02\", \"2018-09-19 18:20:04\", \"2018-09-19 18:20:22\", \"2018-09-19 18:21:03\", \"2018-09-19 18:21:05\", \"2018-09-19 18:21:07\", \"2018-09-19 18:21:10\", \"2018-09-19 18:21:12\", \"2018-09-19 18:21:14\", \"2018-09-19 18:21:16\", \"2018-09-19 18:24:14\", \"2018-09-19 18:24:15\", \"2018-09-19 18:24:18\", \"2018-09-19 18:24:19\", \"2018-09-19 18:24:20\", \"2018-09-19 18:24:21\", \"2018-09-19 18:24:23\", \"2018-09-19 18:24:24\", \"2018-09-19 18:24:32\", \"2018-09-19 18:25:26\", \"2018-09-19 18:25:27\", \"2018-09-19 18:25:28\", \"2018-09-19 18:25:29\", \"2018-09-19 18:25:30\", \"2018-09-19 18:25:32\", \"2018-09-19 18:25:37\", \"2018-09-19 18:25:38\", \"2018-09-19 18:25:40\", \"2018-09-19 18:25:52\", \"2018-09-19 18:25:55\", \"2018-09-19 18:25:57\", \"2018-09-19 18:26:00\", \"2018-09-19 18:26:01\", \"2018-09-19 18:26:38\", \"2018-09-19 18:26:39\", \"2018-09-19 18:27:54\", \"2018-09-19 18:27:55\", \"2018-09-19 18:27:56\", \"2018-09-19 18:27:59\", \"2018-09-19 18:28:15\", \"2018-09-19 18:28:17\", \"2018-09-19 18:28:20\", \"2018-09-19 18:28:30\", \"2018-09-19 18:28:32\", \"2018-09-19 18:28:35\", \"2018-09-19 18:28:36\", \"2018-09-19 18:29:54\", \"2018-09-19 18:29:55\", \"2018-09-19 18:30:46\", \"2018-09-19 18:31:13\", \"2018-09-19 18:31:18\", \"2018-09-19 18:31:21\", \"2018-09-19 18:31:24\", \"2018-09-19 18:31:26\", \"2018-09-19 18:31:28\", \"2018-09-19 18:31:29\", \"2018-09-19 18:31:32\", \"2018-09-19 18:35:11\", \"2018-09-19 18:35:13\", \"2018-09-19 18:35:14\", \"2018-09-19 18:35:16\", \"2018-09-19 18:35:17\", \"2018-09-19 18:36:00\", \"2018-09-19 18:36:34\", \"2018-09-19 18:36:36\", \"2018-09-19 18:36:38\", \"2018-09-19 18:36:40\", \"2018-09-19 18:37:13\", \"2018-09-19 18:37:15\", \"2018-09-19 18:37:17\", \"2018-09-19 18:37:19\", \"2018-09-19 18:37:30\", \"2018-09-19 18:37:32\", \"2018-09-19 18:37:34\", \"2018-09-19 18:37:36\", \"2018-09-19 18:37:48\", \"2018-09-19 18:37:54\", \"2018-09-19 18:37:56\", \"2018-09-19 18:37:58\", \"2018-09-19 18:38:01\", \"2018-09-19 18:38:02\", \"2018-09-19 18:38:10\", \"2018-09-19 18:38:32\", \"2018-09-19 18:38:33\", \"2018-09-19 18:38:34\", \"2018-09-19 18:38:35\", \"2018-09-19 18:38:36\", \"2018-09-19 18:38:37\", \"2018-09-19 18:38:50\", \"2018-09-19 18:38:52\", \"2018-09-19 18:38:55\", \"2018-09-19 18:40:49\", \"2018-09-19 18:40:50\", \"2018-09-19 18:40:51\", \"2018-09-19 18:40:52\", \"2018-09-19 18:40:53\", \"2018-09-19 18:40:54\", \"2018-09-19 19:00:14\", \"2018-09-19 19:00:15\", \"2018-09-19 19:00:16\", \"2018-09-19 19:00:17\", \"2018-09-19 19:00:18\", \"2018-09-19 19:00:21\", \"2018-09-19 19:00:22\", \"2018-09-19 19:00:23\", \"2018-09-19 19:00:30\", \"2018-09-19 19:01:10\", \"2018-09-19 19:01:13\", \"2018-09-19 19:01:17\", \"2018-09-19 19:01:18\", \"2018-09-19 19:01:39\", \"2018-09-19 19:01:40\", \"2018-09-19 19:01:43\", \"2018-09-19 19:01:45\", \"2018-09-19 19:01:48\", \"2018-09-19 19:01:53\", \"2018-09-19 19:01:56\", \"2018-09-19 19:01:59\", \"2018-09-19 19:02:02\", \"2018-09-19 19:02:04\", \"2018-09-19 19:02:10\", \"2018-09-19 19:02:12\", \"2018-09-19 19:02:15\", \"2018-09-19 19:02:17\", \"2018-09-19 19:02:18\", \"2018-09-19 19:02:19\", \"2018-09-19 19:02:47\", \"2018-09-19 19:04:03\", \"2018-09-19 19:04:04\", \"2018-09-19 19:04:05\", \"2018-09-19 19:04:06\", \"2018-09-19 19:04:23\", \"2018-09-19 19:04:25\", \"2018-09-19 19:04:37\", \"2018-09-19 19:04:39\", \"2018-09-19 19:04:41\", \"2018-09-19 19:04:42\", \"2018-09-19 19:04:43\", \"2018-09-19 19:06:03\", \"2018-09-19 19:06:05\", \"2018-09-19 19:06:06\", \"2018-09-19 19:07:19\", \"2018-09-19 19:07:24\", \"2018-09-19 19:07:28\", \"2018-09-19 19:07:30\", \"2018-09-19 19:07:32\", \"2018-09-19 19:07:33\", \"2018-09-19 19:07:35\", \"2018-09-19 19:07:37\", \"2018-09-19 19:07:39\", \"2018-09-19 19:07:40\", \"2018-09-19 19:07:42\", \"2018-09-19 19:07:45\", \"2018-09-19 19:07:52\", \"2018-09-19 19:07:53\", \"2018-09-19 19:11:24\", \"2018-09-19 19:11:38\", \"2018-09-19 19:11:39\", \"2018-09-19 19:11:41\", \"2018-09-19 19:11:42\", \"2018-09-19 19:11:43\", \"2018-09-19 19:11:45\", \"2018-09-19 19:11:46\", \"2018-09-19 19:11:47\", \"2018-09-19 19:11:48\", \"2018-09-19 19:12:10\", \"2018-09-19 19:12:30\", \"2018-09-19 19:13:15\", \"2018-09-19 19:14:19\", \"2018-09-19 19:14:21\", \"2018-09-19 19:14:23\", \"2018-09-19 19:14:25\", \"2018-09-19 19:14:26\", \"2018-09-19 19:14:28\", \"2018-09-19 19:14:30\", \"2018-09-19 19:14:32\", \"2018-09-19 19:14:34\", \"2018-09-19 19:14:36\", \"2018-09-19 19:15:01\", \"2018-09-19 19:15:04\", \"2018-09-19 19:15:08\", \"2018-09-19 19:15:12\", \"2018-09-19 19:15:14\", \"2018-09-19 19:15:16\", \"2018-09-19 19:15:18\", \"2018-09-19 19:15:53\", \"2018-09-19 19:16:01\", \"2018-09-19 19:16:05\", \"2018-09-19 19:16:09\", \"2018-09-19 19:16:12\", \"2018-09-19 19:16:16\", \"2018-09-19 19:16:20\", \"2018-09-19 19:16:21\", \"2018-09-19 19:16:22\", \"2018-09-19 19:16:23\", \"2018-09-19 19:16:24\", \"2018-09-19 19:16:25\", \"2018-09-19 19:16:51\", \"2018-09-19 19:18:22\", \"2018-09-19 19:18:23\", \"2018-09-19 19:18:24\", \"2018-09-19 19:18:25\", \"2018-09-19 19:18:26\", \"2018-09-19 19:18:27\", \"2018-09-19 19:18:28\", \"2018-09-19 19:18:29\", \"2018-09-19 19:18:30\", \"2018-09-19 19:36:14\", \"2018-09-19 19:36:15\", \"2018-09-19 19:36:16\", \"2018-09-19 19:36:17\", \"2018-09-19 19:36:18\", \"2018-09-19 19:36:27\", \"2018-09-19 19:36:28\", \"2018-09-19 19:36:51\", \"2018-09-19 19:36:53\", \"2018-09-19 19:36:55\", \"2018-09-19 19:36:58\", \"2018-09-19 19:37:00\", \"2018-09-19 19:37:06\", \"2018-09-19 19:37:07\", \"2018-09-19 19:37:12\", \"2018-09-19 19:37:13\", \"2018-09-19 19:37:31\", \"2018-09-19 19:37:32\", \"2018-09-19 19:37:33\", \"2018-09-19 19:37:36\", \"2018-09-19 19:37:39\", \"2018-09-19 19:37:41\", \"2018-09-19 19:37:44\", \"2018-09-19 19:37:46\", \"2018-09-19 19:37:48\", \"2018-09-19 19:38:05\", \"2018-09-19 19:38:07\", \"2018-09-19 19:38:09\", \"2018-09-19 19:38:11\", \"2018-09-19 19:38:13\", \"2018-09-19 19:38:39\", \"2018-09-19 19:38:43\", \"2018-09-19 19:38:46\", \"2018-09-19 19:38:47\", \"2018-09-19 19:38:48\", \"2018-09-19 19:38:52\", \"2018-09-19 19:38:53\", \"2018-09-19 19:40:14\", \"2018-09-19 19:40:15\", \"2018-09-19 19:40:16\", \"2018-09-19 19:40:31\", \"2018-09-19 19:40:41\", \"2018-09-19 19:40:51\", \"2018-09-19 19:40:53\", \"2018-09-19 19:40:55\", \"2018-09-19 19:40:56\", \"2018-09-19 19:40:57\", \"2018-09-19 19:41:02\", \"2018-09-19 19:41:23\", \"2018-09-19 19:41:25\", \"2018-09-19 19:42:27\", \"2018-09-19 19:44:02\", \"2018-09-19 19:44:08\", \"2018-09-19 19:44:14\", \"2018-09-19 19:44:18\", \"2018-09-19 19:44:21\", \"2018-09-19 19:44:24\", \"2018-09-19 19:44:26\", \"2018-09-19 19:44:27\", \"2018-09-19 19:44:29\", \"2018-09-19 19:44:31\", \"2018-09-19 19:47:49\", \"2018-09-19 19:48:40\", \"2018-09-19 19:48:41\", \"2018-09-19 19:48:43\", \"2018-09-19 19:48:44\", \"2018-09-19 19:48:46\", \"2018-09-19 19:48:54\", \"2018-09-19 19:48:59\", \"2018-09-19 19:49:33\", \"2018-09-19 19:49:50\", \"2018-09-19 19:49:52\", \"2018-09-19 19:50:00\", \"2018-09-19 19:50:09\", \"2018-09-19 19:50:12\", \"2018-09-19 19:50:13\", \"2018-09-19 19:50:26\", \"2018-09-19 19:50:37\", \"2018-09-19 19:50:45\", \"2018-09-19 19:50:47\", \"2018-09-19 19:50:49\", \"2018-09-19 19:51:06\", \"2018-09-19 19:51:08\", \"2018-09-19 19:51:10\", \"2018-09-19 19:51:12\", \"2018-09-19 19:51:16\", \"2018-09-19 19:51:19\", \"2018-09-19 19:51:21\", \"2018-09-19 19:54:50\", \"2018-09-19 19:54:51\", \"2018-09-19 19:54:54\", \"2018-09-19 19:54:55\", \"2018-09-19 19:57:05\", \"2018-09-19 19:57:06\", \"2018-09-19 19:57:07\", \"2018-09-19 19:57:08\", \"2018-09-19 19:57:09\", \"2018-09-19 19:57:10\", \"2018-09-19 19:57:15\", \"2018-09-19 19:57:16\", \"2018-09-19 19:57:18\", \"2018-09-19 19:57:25\", \"2018-09-19 20:12:14\", \"2018-09-19 20:12:18\", \"2018-09-19 20:12:19\", \"2018-09-19 20:12:20\", \"2018-09-19 20:12:22\", \"2018-09-19 20:12:23\", \"2018-09-19 20:12:24\", \"2018-09-19 20:13:12\", \"2018-09-19 20:13:14\", \"2018-09-19 20:13:23\", \"2018-09-19 20:13:39\", \"2018-09-19 20:13:40\", \"2018-09-19 20:13:41\", \"2018-09-19 20:13:42\", \"2018-09-19 20:13:48\", \"2018-09-19 20:13:51\", \"2018-09-19 20:13:53\", \"2018-09-19 20:14:01\", \"2018-09-19 20:14:07\", \"2018-09-19 20:14:10\", \"2018-09-19 20:14:12\", \"2018-09-19 20:14:14\", \"2018-09-19 20:14:15\", \"2018-09-19 20:14:16\", \"2018-09-19 20:14:17\", \"2018-09-19 20:14:59\", \"2018-09-19 20:15:00\", \"2018-09-19 20:16:23\", \"2018-09-19 20:16:24\", \"2018-09-19 20:16:25\", \"2018-09-19 20:16:30\", \"2018-09-19 20:16:44\", \"2018-09-19 20:16:47\", \"2018-09-19 20:17:06\", \"2018-09-19 20:17:07\", \"2018-09-19 20:17:08\", \"2018-09-19 20:17:09\", \"2018-09-19 20:17:17\", \"2018-09-19 20:17:18\", \"2018-09-19 20:17:35\", \"2018-09-19 20:17:36\", \"2018-09-19 20:17:38\", \"2018-09-19 20:18:26\", \"2018-09-19 20:18:27\", \"2018-09-19 20:18:28\", \"2018-09-19 20:20:19\", \"2018-09-19 20:20:21\", \"2018-09-19 20:20:23\", \"2018-09-19 20:24:13\", \"2018-09-19 20:24:14\", \"2018-09-19 20:24:16\", \"2018-09-19 20:24:17\", \"2018-09-19 20:24:18\", \"2018-09-19 20:24:20\", \"2018-09-19 20:24:21\", \"2018-09-19 20:24:22\", \"2018-09-19 20:24:24\", \"2018-09-19 20:24:26\", \"2018-09-19 20:24:44\", \"2018-09-19 20:25:06\", \"2018-09-19 20:25:08\", \"2018-09-19 20:25:09\", \"2018-09-19 20:25:38\", \"2018-09-19 20:25:42\", \"2018-09-19 20:25:43\", \"2018-09-19 20:26:36\", \"2018-09-19 20:26:38\", \"2018-09-19 20:26:39\", \"2018-09-19 20:26:41\", \"2018-09-19 20:26:44\", \"2018-09-19 20:26:46\", \"2018-09-19 20:26:48\", \"2018-09-19 20:26:50\", \"2018-09-19 20:26:52\", \"2018-09-19 20:26:54\", \"2018-09-19 20:27:15\", \"2018-09-19 20:27:17\", \"2018-09-19 20:27:19\", \"2018-09-19 20:27:21\", \"2018-09-19 20:27:23\", \"2018-09-19 20:27:26\", \"2018-09-19 20:27:28\", \"2018-09-19 20:27:34\", \"2018-09-19 20:27:35\", \"2018-09-19 20:31:04\", \"2018-09-19 20:31:05\", \"2018-09-19 20:31:06\", \"2018-09-19 20:31:07\", \"2018-09-19 20:31:08\", \"2018-09-19 20:31:09\", \"2018-09-19 20:31:10\", \"2018-09-19 20:31:11\", \"2018-09-19 20:33:24\", \"2018-09-19 20:33:25\", \"2018-09-19 20:33:27\", \"2018-09-19 20:33:28\", \"2018-09-19 20:33:29\", \"2018-09-19 20:33:30\", \"2018-09-19 20:33:31\", \"2018-09-19 20:33:32\", \"2018-09-19 20:33:33\", \"2018-09-19 20:33:36\", \"2018-09-19 20:33:59\", \"2018-09-19 20:48:16\", \"2018-09-19 20:48:17\", \"2018-09-19 20:48:19\", \"2018-09-19 20:48:20\", \"2018-09-19 20:48:21\", \"2018-09-19 20:48:54\", \"2018-09-19 20:49:18\", \"2018-09-19 20:49:21\", \"2018-09-19 20:49:24\", \"2018-09-19 20:49:25\", \"2018-09-19 20:49:26\", \"2018-09-19 20:49:30\", \"2018-09-19 20:49:33\", \"2018-09-19 20:49:35\", \"2018-09-19 20:49:39\", \"2018-09-19 20:49:40\", \"2018-09-19 20:49:52\", \"2018-09-19 20:49:54\", \"2018-09-19 20:49:56\", \"2018-09-19 20:49:59\", \"2018-09-19 20:50:01\", \"2018-09-19 20:50:04\", \"2018-09-19 20:50:05\", \"2018-09-19 20:50:41\", \"2018-09-19 20:50:43\", \"2018-09-19 20:50:44\", \"2018-09-19 20:50:46\", \"2018-09-19 20:50:47\", \"2018-09-19 20:52:03\", \"2018-09-19 20:52:05\", \"2018-09-19 20:52:10\", \"2018-09-19 20:52:11\", \"2018-09-19 20:52:12\", \"2018-09-19 20:52:19\", \"2018-09-19 20:52:55\", \"2018-09-19 20:52:56\", \"2018-09-19 20:53:26\", \"2018-09-19 20:53:27\", \"2018-09-19 20:55:49\", \"2018-09-19 20:55:51\", \"2018-09-19 20:55:54\", \"2018-09-19 21:00:20\", \"2018-09-19 21:00:21\", \"2018-09-19 21:00:23\", \"2018-09-19 21:00:25\", \"2018-09-19 21:00:27\", \"2018-09-19 21:00:29\", \"2018-09-19 21:00:59\", \"2018-09-19 21:01:36\", \"2018-09-19 21:02:05\", \"2018-09-19 21:02:06\", \"2018-09-19 21:02:07\", \"2018-09-19 21:02:18\", \"2018-09-19 21:02:19\", \"2018-09-19 21:02:35\", \"2018-09-19 21:02:36\", \"2018-09-19 21:02:37\", \"2018-09-19 21:02:43\", \"2018-09-19 21:02:45\", \"2018-09-19 21:02:59\", \"2018-09-19 21:03:00\", \"2018-09-19 21:03:08\", \"2018-09-19 21:03:10\", \"2018-09-19 21:03:12\", \"2018-09-19 21:03:15\", \"2018-09-19 21:03:18\", \"2018-09-19 21:03:20\", \"2018-09-19 21:04:02\", \"2018-09-19 21:04:03\", \"2018-09-19 21:04:04\", \"2018-09-19 21:04:05\", \"2018-09-19 21:04:07\", \"2018-09-19 21:04:10\", \"2018-09-19 21:04:16\", \"2018-09-19 21:06:11\", \"2018-09-19 21:06:12\", \"2018-09-19 21:06:13\", \"2018-09-19 21:06:14\", \"2018-09-19 21:06:15\", \"2018-09-19 21:06:16\", \"2018-09-19 21:06:17\", \"2018-09-19 21:06:18\", \"2018-09-19 21:06:19\", \"2018-09-19 21:06:20\", \"2018-09-19 21:06:21\", \"2018-09-19 21:06:22\", \"2018-09-19 21:24:15\", \"2018-09-19 21:24:16\", \"2018-09-19 21:24:17\", \"2018-09-19 21:24:18\", \"2018-09-19 21:24:19\", \"2018-09-19 21:24:20\", \"2018-09-19 21:24:26\", \"2018-09-19 21:24:28\", \"2018-09-19 21:24:55\", \"2018-09-19 21:25:04\", \"2018-09-19 21:25:29\", \"2018-09-19 21:25:30\", \"2018-09-19 21:25:34\", \"2018-09-19 21:25:36\", \"2018-09-19 21:25:37\", \"2018-09-19 21:25:40\", \"2018-09-19 21:25:43\", \"2018-09-19 21:25:46\", \"2018-09-19 21:26:02\", \"2018-09-19 21:26:04\", \"2018-09-19 21:26:05\", \"2018-09-19 21:26:06\", \"2018-09-19 21:26:20\", \"2018-09-19 21:26:26\", \"2018-09-19 21:26:28\", \"2018-09-19 21:26:31\", \"2018-09-19 21:26:34\", \"2018-09-19 21:26:38\", \"2018-09-19 21:26:39\", \"2018-09-19 21:26:40\", \"2018-09-19 21:26:41\", \"2018-09-19 21:26:42\", \"2018-09-19 21:28:24\", \"2018-09-19 21:28:25\", \"2018-09-19 21:28:39\", \"2018-09-19 21:28:51\", \"2018-09-19 21:28:52\", \"2018-09-19 21:28:58\", \"2018-09-19 21:30:20\", \"2018-09-19 21:30:21\", \"2018-09-19 21:31:27\", \"2018-09-19 21:31:28\", \"2018-09-19 21:31:30\", \"2018-09-19 21:31:32\", \"2018-09-19 21:31:34\", \"2018-09-19 21:31:36\", \"2018-09-19 21:31:37\", \"2018-09-19 21:31:39\", \"2018-09-19 21:31:40\", \"2018-09-19 21:31:42\", \"2018-09-19 21:31:43\", \"2018-09-19 21:36:07\", \"2018-09-19 21:36:10\", \"2018-09-19 21:36:13\", \"2018-09-19 21:36:16\", \"2018-09-19 21:36:19\", \"2018-09-19 21:36:22\", \"2018-09-19 21:36:25\", \"2018-09-19 21:36:33\", \"2018-09-19 21:36:35\", \"2018-09-19 21:36:37\", \"2018-09-19 21:36:39\", \"2018-09-19 21:37:10\", \"2018-09-19 21:37:51\", \"2018-09-19 21:37:54\", \"2018-09-19 21:38:13\", \"2018-09-19 21:38:14\", \"2018-09-19 21:38:15\", \"2018-09-19 21:38:51\", \"2018-09-19 21:38:53\", \"2018-09-19 21:38:54\", \"2018-09-19 21:38:56\", \"2018-09-19 21:38:58\", \"2018-09-19 21:39:00\", \"2018-09-19 21:39:27\", \"2018-09-19 21:39:30\", \"2018-09-19 21:39:32\", \"2018-09-19 21:39:34\", \"2018-09-19 21:39:36\", \"2018-09-19 21:39:40\", \"2018-09-19 21:39:59\", \"2018-09-19 21:40:00\", \"2018-09-19 21:40:01\", \"2018-09-19 21:40:02\", \"2018-09-19 21:40:03\", \"2018-09-19 21:40:04\", \"2018-09-19 21:40:05\", \"2018-09-19 21:40:06\", \"2018-09-19 21:40:08\", \"2018-09-19 21:40:28\", \"2018-09-19 21:42:43\", \"2018-09-19 21:42:44\", \"2018-09-19 21:42:45\", \"2018-09-19 21:42:46\", \"2018-09-19 21:42:47\", \"2018-09-19 21:42:48\", \"2018-09-19 21:42:49\", \"2018-09-19 21:42:50\", \"2018-09-19 21:42:51\", \"2018-09-19 21:43:22\", \"2018-09-19 22:00:21\", \"2018-09-19 22:00:22\", \"2018-09-19 22:00:23\", \"2018-09-19 22:00:24\", \"2018-09-19 22:00:25\", \"2018-09-19 22:00:26\", \"2018-09-19 22:00:27\", \"2018-09-19 22:00:30\", \"2018-09-19 22:00:39\", \"2018-09-19 22:01:15\", \"2018-09-19 22:01:16\", \"2018-09-19 22:01:20\", \"2018-09-19 22:01:41\", \"2018-09-19 22:01:42\", \"2018-09-19 22:01:53\", \"2018-09-19 22:01:56\", \"2018-09-19 22:01:58\", \"2018-09-19 22:02:01\", \"2018-09-19 22:02:13\", \"2018-09-19 22:02:15\", \"2018-09-19 22:02:19\", \"2018-09-19 22:02:29\", \"2018-09-19 22:02:31\", \"2018-09-19 22:02:32\", \"2018-09-19 22:02:33\", \"2018-09-19 22:03:17\", \"2018-09-19 22:03:21\", \"2018-09-19 22:03:24\", \"2018-09-19 22:03:28\", \"2018-09-19 22:03:31\", \"2018-09-19 22:05:24\", \"2018-09-19 22:05:25\", \"2018-09-19 22:05:26\", \"2018-09-19 22:05:27\", \"2018-09-19 22:05:28\", \"2018-09-19 22:05:30\", \"2018-09-19 22:05:47\", \"2018-09-19 22:05:48\", \"2018-09-19 22:05:49\", \"2018-09-19 22:05:51\", \"2018-09-19 22:05:53\", \"2018-09-19 22:05:55\", \"2018-09-19 22:05:56\", \"2018-09-19 22:05:57\", \"2018-09-19 22:05:58\", \"2018-09-19 22:06:33\", \"2018-09-19 22:07:27\", \"2018-09-19 22:07:28\", \"2018-09-19 22:09:08\", \"2018-09-19 22:09:09\", \"2018-09-19 22:09:11\", \"2018-09-19 22:09:13\", \"2018-09-19 22:09:15\", \"2018-09-19 22:09:17\", \"2018-09-19 22:09:18\", \"2018-09-19 22:09:20\", \"2018-09-19 22:09:21\", \"2018-09-19 22:09:23\", \"2018-09-19 22:13:56\", \"2018-09-19 22:14:01\", \"2018-09-19 22:14:07\", \"2018-09-19 22:14:12\", \"2018-09-19 22:14:16\", \"2018-09-19 22:14:18\", \"2018-09-19 22:14:20\", \"2018-09-19 22:14:59\", \"2018-09-19 22:16:22\", \"2018-09-19 22:16:23\", \"2018-09-19 22:16:25\", \"2018-09-19 22:16:27\", \"2018-09-19 22:16:51\", \"2018-09-19 22:17:35\", \"2018-09-19 22:17:44\", \"2018-09-19 22:20:30\", \"2018-09-19 22:20:31\", \"2018-09-19 22:20:32\", \"2018-09-19 22:20:33\", \"2018-09-19 22:20:37\", \"2018-09-19 22:36:21\", \"2018-09-19 22:37:31\", \"2018-09-19 22:37:32\", \"2018-09-19 22:37:35\", \"2018-09-19 22:37:38\", \"2018-09-19 22:37:46\", \"2018-09-19 22:37:47\", \"2018-09-19 22:37:49\", \"2018-09-19 22:38:05\", \"2018-09-19 22:38:08\", \"2018-09-19 22:38:12\", \"2018-09-19 22:38:14\", \"2018-09-19 22:38:15\", \"2018-09-19 22:38:16\", \"2018-09-19 22:38:31\", \"2018-09-19 22:41:00\", \"2018-09-19 22:41:01\", \"2018-09-19 22:41:10\", \"2018-09-19 22:41:11\", \"2018-09-19 22:41:12\", \"2018-09-19 22:41:13\", \"2018-09-19 22:41:14\", \"2018-09-19 22:41:29\", \"2018-09-19 22:42:33\", \"2018-09-19 22:44:53\", \"2018-09-19 22:44:55\", \"2018-09-19 22:44:58\", \"2018-09-19 22:44:59\", \"2018-09-19 22:45:03\", \"2018-09-19 22:45:04\", \"2018-09-19 22:45:06\", \"2018-09-19 22:45:09\", \"2018-09-19 22:49:40\", \"2018-09-19 22:50:49\", \"2018-09-19 22:51:30\", \"2018-09-19 22:51:31\", \"2018-09-19 22:51:33\", \"2018-09-19 22:52:19\", \"2018-09-19 22:52:35\", \"2018-09-19 22:54:39\", \"2018-09-19 22:54:40\", \"2018-09-19 22:54:41\", \"2018-09-19 22:54:42\", \"2018-09-19 22:54:43\", \"2018-09-19 22:54:44\", \"2018-09-19 22:54:51\", \"2018-09-19 22:54:54\", \"2018-09-19 22:54:59\", \"2018-09-19 22:56:46\", \"2018-09-19 22:56:47\", \"2018-09-19 23:12:20\", \"2018-09-19 23:13:22\", \"2018-09-19 23:13:25\", \"2018-09-19 23:13:28\", \"2018-09-19 23:13:30\", \"2018-09-19 23:13:32\", \"2018-09-19 23:13:34\", \"2018-09-19 23:13:36\", \"2018-09-19 23:13:53\", \"2018-09-19 23:13:54\", \"2018-09-19 23:13:55\", \"2018-09-19 23:16:04\", \"2018-09-19 23:16:28\", \"2018-09-19 23:16:30\", \"2018-09-19 23:16:43\", \"2018-09-19 23:16:44\", \"2018-09-19 23:16:45\", \"2018-09-19 23:16:46\", \"2018-09-19 23:16:47\", \"2018-09-19 23:16:48\", \"2018-09-19 23:18:04\", \"2018-09-19 23:19:55\", \"2018-09-19 23:19:58\", \"2018-09-19 23:20:01\", \"2018-09-19 23:20:04\", \"2018-09-19 23:24:11\", \"2018-09-19 23:24:16\", \"2018-09-19 23:26:46\", \"2018-09-19 23:26:47\", \"2018-09-19 23:27:02\", \"2018-09-19 23:27:06\", \"2018-09-19 23:27:10\", \"2018-09-19 23:29:47\", \"2018-09-19 23:29:48\", \"2018-09-19 23:29:49\", \"2018-09-19 23:29:53\", \"2018-09-19 23:30:07\", \"2018-09-19 23:30:09\", \"2018-09-19 23:30:12\", \"2018-09-19 23:30:22\", \"2018-09-19 23:48:28\", \"2018-09-19 23:48:56\", \"2018-09-19 23:48:57\", \"2018-09-19 23:49:27\", \"2018-09-19 23:49:28\", \"2018-09-19 23:49:29\", \"2018-09-19 23:49:33\", \"2018-09-19 23:49:36\", \"2018-09-19 23:49:41\", \"2018-09-19 23:49:44\", \"2018-09-19 23:49:45\", \"2018-09-19 23:49:59\", \"2018-09-19 23:50:00\", \"2018-09-19 23:50:01\", \"2018-09-19 23:50:02\", \"2018-09-19 23:50:03\", \"2018-09-19 23:50:04\", \"2018-09-19 23:50:05\", \"2018-09-19 23:50:06\", \"2018-09-19 23:50:07\", \"2018-09-19 23:50:08\", \"2018-09-19 23:50:09\", \"2018-09-19 23:50:10\", \"2018-09-19 23:50:11\", \"2018-09-19 23:50:15\", \"2018-09-19 23:50:17\", \"2018-09-19 23:50:18\", \"2018-09-19 23:50:20\", \"2018-09-19 23:50:23\", \"2018-09-19 23:50:25\", \"2018-09-19 23:50:26\", \"2018-09-19 23:50:27\", \"2018-09-19 23:51:41\", \"2018-09-19 23:51:42\", \"2018-09-19 23:51:46\", \"2018-09-19 23:51:47\", \"2018-09-19 23:53:03\", \"2018-09-19 23:53:05\", \"2018-09-19 23:53:06\", \"2018-09-19 23:53:07\", \"2018-09-19 23:53:08\", \"2018-09-19 23:53:09\", \"2018-09-19 23:53:10\", \"2018-09-19 23:53:24\", \"2018-09-19 23:53:25\", \"2018-09-19 23:53:26\", \"2018-09-19 23:53:46\", \"2018-09-19 23:54:17\", \"2018-09-19 23:55:16\", \"2018-09-19 23:58:26\", \"2018-09-19 23:58:29\", \"2018-09-19 23:58:32\", \"2018-09-19 23:58:36\", \"2018-09-19 23:58:39\", \"2018-09-19 23:59:28\", \"2018-09-19 23:59:54\", \"2018-09-20 00:01:24\", \"2018-09-20 00:01:55\", \"2018-09-20 00:03:55\", \"2018-09-20 00:03:59\", \"2018-09-20 00:04:01\", \"2018-09-20 00:05:04\", \"2018-09-20 00:05:07\", \"2018-09-20 00:05:20\", \"2018-09-20 00:05:31\", \"2018-09-20 00:07:09\", \"2018-09-20 00:07:10\", \"2018-09-20 00:07:11\", \"2018-09-20 00:07:19\", \"2018-09-20 00:07:30\", \"2018-09-20 00:24:27\", \"2018-09-20 00:24:28\", \"2018-09-20 00:24:34\", \"2018-09-20 00:24:36\", \"2018-09-20 00:25:30\", \"2018-09-20 00:25:31\", \"2018-09-20 00:25:32\", \"2018-09-20 00:25:37\", \"2018-09-20 00:25:42\", \"2018-09-20 00:25:58\", \"2018-09-20 00:25:59\", \"2018-09-20 00:26:32\", \"2018-09-20 00:26:45\", \"2018-09-20 00:26:47\", \"2018-09-20 00:26:57\", \"2018-09-20 00:28:17\", \"2018-09-20 00:28:18\", \"2018-09-20 00:28:19\", \"2018-09-20 00:28:22\", \"2018-09-20 00:28:45\", \"2018-09-20 00:28:52\", \"2018-09-20 00:28:55\", \"2018-09-20 00:29:21\", \"2018-09-20 00:30:11\", \"2018-09-20 00:30:48\", \"2018-09-20 00:30:49\", \"2018-09-20 00:39:12\", \"2018-09-20 00:39:30\", \"2018-09-20 00:39:48\", \"2018-09-20 00:40:08\", \"2018-09-20 00:40:12\", \"2018-09-20 00:40:16\", \"2018-09-20 00:42:23\", \"2018-09-20 00:42:27\", \"2018-09-20 01:00:22\", \"2018-09-20 01:01:45\", \"2018-09-20 01:02:03\", \"2018-09-20 01:02:04\", \"2018-09-20 01:02:15\", \"2018-09-20 01:02:20\", \"2018-09-20 01:02:21\", \"2018-09-20 01:02:22\", \"2018-09-20 01:02:23\", \"2018-09-20 01:02:24\", \"2018-09-20 01:02:25\", \"2018-09-20 01:04:03\", \"2018-09-20 01:05:03\", \"2018-09-20 01:05:04\", \"2018-09-20 01:05:08\", \"2018-09-20 01:05:09\", \"2018-09-20 01:05:26\", \"2018-09-20 01:05:28\", \"2018-09-20 01:06:55\", \"2018-09-20 01:12:24\", \"2018-09-20 01:12:26\", \"2018-09-20 01:12:28\", \"2018-09-20 01:12:31\", \"2018-09-20 01:12:40\", \"2018-09-20 01:13:02\", \"2018-09-20 01:13:21\", \"2018-09-20 01:13:23\", \"2018-09-20 01:13:25\", \"2018-09-20 01:13:43\", \"2018-09-20 01:13:44\", \"2018-09-20 01:13:45\", \"2018-09-20 01:13:46\", \"2018-09-20 01:14:06\", \"2018-09-20 01:14:07\", \"2018-09-20 01:14:14\", \"2018-09-20 01:16:08\", \"2018-09-20 01:16:09\", \"2018-09-20 01:16:10\", \"2018-09-20 01:36:28\", \"2018-09-20 01:37:33\", \"2018-09-20 01:37:42\", \"2018-09-20 01:37:44\", \"2018-09-20 01:37:45\", \"2018-09-20 01:37:46\", \"2018-09-20 01:38:18\", \"2018-09-20 01:39:38\", \"2018-09-20 01:40:08\", \"2018-09-20 01:48:21\", \"2018-09-20 01:48:22\", \"2018-09-20 01:48:25\", \"2018-09-20 01:48:55\", \"2018-09-20 01:48:57\", \"2018-09-20 01:49:18\", \"2018-09-20 01:49:40\", \"2018-09-20 01:51:51\", \"2018-09-20 01:51:52\", \"2018-09-20 01:52:06\", \"2018-09-20 02:12:28\", \"2018-09-20 02:12:29\", \"2018-09-20 02:13:05\", \"2018-09-20 02:13:25\", \"2018-09-20 02:13:35\", \"2018-09-20 02:13:36\", \"2018-09-20 02:13:37\", \"2018-09-20 02:13:44\", \"2018-09-20 02:13:47\", \"2018-09-20 02:13:48\", \"2018-09-20 02:13:53\", \"2018-09-20 02:13:54\", \"2018-09-20 02:13:55\", \"2018-09-20 02:14:07\", \"2018-09-20 02:14:08\", \"2018-09-20 02:18:48\", \"2018-09-20 02:24:57\", \"2018-09-20 02:24:58\", \"2018-09-20 02:24:59\", \"2018-09-20 02:25:00\", \"2018-09-20 02:25:01\", \"2018-09-20 02:25:24\", \"2018-09-20 02:26:06\", \"2018-09-20 02:28:03\", \"2018-09-20 02:28:04\", \"2018-09-20 02:48:28\", \"2018-09-20 02:49:17\", \"2018-09-20 02:49:18\", \"2018-09-20 02:49:20\", \"2018-09-20 02:49:26\", \"2018-09-20 02:49:40\", \"2018-09-20 02:54:45\", \"2018-09-20 03:00:22\", \"2018-09-20 03:00:24\", \"2018-09-20 03:01:12\", \"2018-09-20 03:01:14\", \"2018-09-20 03:01:17\", \"2018-09-20 03:01:19\", \"2018-09-20 03:01:47\", \"2018-09-20 03:01:48\", \"2018-09-20 03:02:00\", \"2018-09-20 03:03:57\", \"2018-09-20 03:04:16\", \"2018-09-20 03:24:28\", \"2018-09-20 03:25:27\", \"2018-09-20 03:25:46\", \"2018-09-20 03:26:01\", \"2018-09-20 03:30:17\", \"2018-09-20 03:30:26\", \"2018-09-20 03:31:15\", \"2018-09-20 03:36:44\", \"2018-09-20 03:37:07\", \"2018-09-20 03:37:21\", \"2018-09-20 03:37:44\", \"2018-09-20 03:37:45\", \"2018-09-20 03:37:46\", \"2018-09-20 03:38:13\", \"2018-09-20 03:38:14\", \"2018-09-20 03:38:17\", \"2018-09-20 03:40:29\", \"2018-09-20 03:40:30\", \"2018-09-20 03:40:39\", \"2018-09-20 03:40:58\", \"2018-09-20 04:01:25\", \"2018-09-20 04:01:28\", \"2018-09-20 04:01:35\", \"2018-09-20 04:01:36\", \"2018-09-20 04:01:37\", \"2018-09-20 04:01:48\", \"2018-09-20 04:01:51\", \"2018-09-20 04:05:05\", \"2018-09-20 04:06:33\", \"2018-09-20 04:13:02\", \"2018-09-20 04:13:03\", \"2018-09-20 04:36:28\", \"2018-09-20 04:48:08\", \"2018-09-20 05:17:20\", \"2018-09-20 05:26:45\", \"2018-09-20 05:26:46\", \"2018-09-20 05:26:55\", \"2018-09-20 05:27:04\", \"2018-09-20 05:27:11\", \"2018-09-20 05:52:33\", \"2018-09-20 05:52:35\", \"2018-09-20 05:52:36\", \"2018-09-20 05:52:43\", \"2018-09-20 05:59:55\", \"2018-09-20 05:59:57\", \"2018-09-20 06:03:58\", \"2018-09-20 06:04:18\", \"2018-09-20 06:04:33\", \"2018-09-20 06:27:26\", \"2018-09-20 06:29:01\", \"2018-09-20 06:29:12\", \"2018-09-20 06:36:42\", \"2018-09-20 06:36:43\", \"2018-09-20 06:37:10\", \"2018-09-20 06:37:11\", \"2018-09-20 06:39:21\", \"2018-09-20 06:39:24\", \"2018-09-20 06:39:32\", \"2018-09-20 06:39:35\", \"2018-09-20 06:39:45\", \"2018-09-20 06:39:49\", \"2018-09-20 07:02:13\", \"2018-09-20 07:12:39\", \"2018-09-20 07:13:07\", \"2018-09-20 07:15:03\", \"2018-09-20 07:15:24\", \"2018-09-20 07:37:44\", \"2018-09-20 07:40:51\", \"2018-09-20 07:41:06\", \"2018-09-20 07:45:50\", \"2018-09-20 07:45:52\", \"2018-09-20 07:45:58\", \"2018-09-20 07:46:12\", \"2018-09-20 07:46:22\", \"2018-09-20 07:48:16\", \"2018-09-20 07:48:24\", \"2018-09-20 07:48:25\", \"2018-09-20 07:48:26\", \"2018-09-20 07:48:40\", \"2018-09-20 07:51:23\", \"2018-09-20 07:51:28\", \"2018-09-20 08:12:27\", \"2018-09-20 08:12:28\", \"2018-09-20 08:13:06\", \"2018-09-20 08:13:09\", \"2018-09-20 08:13:16\", \"2018-09-20 08:13:17\", \"2018-09-20 08:13:19\", \"2018-09-20 08:15:03\", \"2018-09-20 08:15:04\", \"2018-09-20 08:15:05\", \"2018-09-20 08:15:10\", \"2018-09-20 08:15:29\", \"2018-09-20 08:15:46\", \"2018-09-20 08:15:47\", \"2018-09-20 08:16:43\", \"2018-09-20 08:16:44\", \"2018-09-20 08:16:45\", \"2018-09-20 08:16:46\", \"2018-09-20 08:16:57\", \"2018-09-20 08:22:18\", \"2018-09-20 08:22:20\", \"2018-09-20 08:22:41\", \"2018-09-20 08:23:50\", \"2018-09-20 08:24:50\", \"2018-09-20 08:25:14\", \"2018-09-20 08:25:15\", \"2018-09-20 08:25:19\", \"2018-09-20 08:25:43\", \"2018-09-20 08:48:27\", \"2018-09-20 08:49:17\", \"2018-09-20 08:49:31\", \"2018-09-20 08:49:35\", \"2018-09-20 08:49:36\", \"2018-09-20 08:49:41\", \"2018-09-20 08:49:42\", \"2018-09-20 08:51:21\", \"2018-09-20 08:51:22\", \"2018-09-20 08:51:23\", \"2018-09-20 08:51:27\", \"2018-09-20 08:51:52\", \"2018-09-20 08:53:16\", \"2018-09-20 08:53:18\", \"2018-09-20 08:53:55\", \"2018-09-20 08:54:29\", \"2018-09-20 08:58:28\", \"2018-09-20 08:58:29\", \"2018-09-20 08:58:31\", \"2018-09-20 08:59:57\", \"2018-09-20 08:59:59\", \"2018-09-20 09:01:03\", \"2018-09-20 09:01:12\", \"2018-09-20 09:01:27\", \"2018-09-20 09:01:33\", \"2018-09-20 09:01:34\", \"2018-09-20 09:01:55\", \"2018-09-20 09:04:03\", \"2018-09-20 09:04:05\", \"2018-09-20 09:04:32\", \"2018-09-20 09:24:27\", \"2018-09-20 09:24:28\", \"2018-09-20 09:24:29\", \"2018-09-20 09:24:30\", \"2018-09-20 09:25:17\", \"2018-09-20 09:25:18\", \"2018-09-20 09:25:21\", \"2018-09-20 09:25:24\", \"2018-09-20 09:25:31\", \"2018-09-20 09:25:42\", \"2018-09-20 09:25:43\", \"2018-09-20 09:25:44\", \"2018-09-20 09:26:06\", \"2018-09-20 09:26:07\", \"2018-09-20 09:26:09\", \"2018-09-20 09:27:32\", \"2018-09-20 09:27:33\", \"2018-09-20 09:27:34\", \"2018-09-20 09:28:01\", \"2018-09-20 09:29:20\", \"2018-09-20 09:29:58\", \"2018-09-20 09:30:33\", \"2018-09-20 09:34:48\", \"2018-09-20 09:34:53\", \"2018-09-20 09:34:55\", \"2018-09-20 09:34:58\", \"2018-09-20 09:38:26\", \"2018-09-20 09:38:28\", \"2018-09-20 09:38:34\", \"2018-09-20 09:38:35\", \"2018-09-20 09:38:36\", \"2018-09-20 09:38:37\", \"2018-09-20 09:38:46\", \"2018-09-20 09:38:56\", \"2018-09-20 09:38:57\", \"2018-09-20 09:39:04\", \"2018-09-20 09:39:16\", \"2018-09-20 09:39:17\", \"2018-09-20 09:39:18\", \"2018-09-20 09:39:19\", \"2018-09-20 09:39:23\", \"2018-09-20 09:40:02\", \"2018-09-20 09:40:05\", \"2018-09-20 09:41:26\", \"2018-09-20 09:41:27\", \"2018-09-20 10:00:24\", \"2018-09-20 10:00:25\", \"2018-09-20 10:00:26\", \"2018-09-20 10:00:27\", \"2018-09-20 10:00:28\", \"2018-09-20 10:00:29\", \"2018-09-20 10:01:12\", \"2018-09-20 10:01:20\", \"2018-09-20 10:01:21\", \"2018-09-20 10:01:24\", \"2018-09-20 10:01:29\", \"2018-09-20 10:01:31\", \"2018-09-20 10:01:32\", \"2018-09-20 10:01:33\", \"2018-09-20 10:01:44\", \"2018-09-20 10:01:45\", \"2018-09-20 10:01:46\", \"2018-09-20 10:01:47\", \"2018-09-20 10:01:57\", \"2018-09-20 10:02:10\", \"2018-09-20 10:02:11\", \"2018-09-20 10:02:12\", \"2018-09-20 10:03:29\", \"2018-09-20 10:03:48\", \"2018-09-20 10:03:57\", \"2018-09-20 10:05:10\", \"2018-09-20 10:05:45\", \"2018-09-20 10:06:13\", \"2018-09-20 10:06:14\", \"2018-09-20 10:07:32\", \"2018-09-20 10:07:34\", \"2018-09-20 10:07:36\", \"2018-09-20 10:11:58\", \"2018-09-20 10:12:00\", \"2018-09-20 10:12:03\", \"2018-09-20 10:12:05\", \"2018-09-20 10:14:37\", \"2018-09-20 10:15:18\", \"2018-09-20 10:15:20\", \"2018-09-20 10:15:22\", \"2018-09-20 10:15:23\", \"2018-09-20 10:15:26\", \"2018-09-20 10:15:28\", \"2018-09-20 10:15:29\", \"2018-09-20 10:15:52\", \"2018-09-20 10:15:53\", \"2018-09-20 10:15:54\", \"2018-09-20 10:16:00\", \"2018-09-20 10:17:36\", \"2018-09-20 10:17:37\", \"2018-09-20 10:18:30\", \"2018-09-20 10:20:43\", \"2018-09-20 10:20:48\", \"2018-09-20 10:21:09\", \"2018-09-20 10:36:31\", \"2018-09-20 10:36:32\", \"2018-09-20 10:36:33\", \"2018-09-20 10:37:29\", \"2018-09-20 10:37:31\", \"2018-09-20 10:37:33\", \"2018-09-20 10:37:35\", \"2018-09-20 10:37:40\", \"2018-09-20 10:37:42\", \"2018-09-20 10:37:45\", \"2018-09-20 10:38:02\", \"2018-09-20 10:38:03\", \"2018-09-20 10:38:35\", \"2018-09-20 10:38:36\", \"2018-09-20 10:38:37\", \"2018-09-20 10:38:38\", \"2018-09-20 10:38:39\", \"2018-09-20 10:39:50\", \"2018-09-20 10:40:16\", \"2018-09-20 10:40:17\", \"2018-09-20 10:40:59\", \"2018-09-20 10:41:04\", \"2018-09-20 10:41:05\", \"2018-09-20 10:43:09\", \"2018-09-20 10:43:11\", \"2018-09-20 10:43:14\", \"2018-09-20 10:43:15\", \"2018-09-20 10:47:32\", \"2018-09-20 10:49:38\", \"2018-09-20 10:50:00\", \"2018-09-20 10:50:04\", \"2018-09-20 10:50:14\", \"2018-09-20 10:50:17\", \"2018-09-20 10:50:21\", \"2018-09-20 10:50:35\", \"2018-09-20 10:50:37\", \"2018-09-20 10:50:39\", \"2018-09-20 10:50:41\", \"2018-09-20 10:50:43\", \"2018-09-20 10:50:44\", \"2018-09-20 10:53:46\", \"2018-09-20 10:53:47\", \"2018-09-20 10:53:48\", \"2018-09-20 10:56:19\", \"2018-09-20 10:56:20\", \"2018-09-20 10:56:21\", \"2018-09-20 10:56:22\", \"2018-09-20 10:56:23\", \"2018-09-20 10:56:24\", \"2018-09-20 10:56:36\", \"2018-09-20 11:12:24\", \"2018-09-20 11:12:25\", \"2018-09-20 11:12:26\", \"2018-09-20 11:12:27\", \"2018-09-20 11:12:28\", \"2018-09-20 11:13:15\", \"2018-09-20 11:13:16\", \"2018-09-20 11:13:17\", \"2018-09-20 11:13:36\", \"2018-09-20 11:13:42\", \"2018-09-20 11:13:47\", \"2018-09-20 11:13:50\", \"2018-09-20 11:13:51\", \"2018-09-20 11:13:52\", \"2018-09-20 11:13:53\", \"2018-09-20 11:13:56\", \"2018-09-20 11:13:59\", \"2018-09-20 11:14:00\", \"2018-09-20 11:14:01\", \"2018-09-20 11:14:02\", \"2018-09-20 11:14:03\", \"2018-09-20 11:14:04\", \"2018-09-20 11:14:18\", \"2018-09-20 11:14:35\", \"2018-09-20 11:14:38\", \"2018-09-20 11:14:40\", \"2018-09-20 11:14:41\", \"2018-09-20 11:14:42\", \"2018-09-20 11:14:43\", \"2018-09-20 11:15:50\", \"2018-09-20 11:15:51\", \"2018-09-20 11:15:56\", \"2018-09-20 11:16:11\", \"2018-09-20 11:16:20\", \"2018-09-20 11:16:21\", \"2018-09-20 11:16:34\", \"2018-09-20 11:17:04\", \"2018-09-20 11:17:43\", \"2018-09-20 11:17:44\", \"2018-09-20 11:17:53\", \"2018-09-20 11:19:03\", \"2018-09-20 11:19:06\", \"2018-09-20 11:19:07\", \"2018-09-20 11:19:09\", \"2018-09-20 11:19:13\", \"2018-09-20 11:23:19\", \"2018-09-20 11:23:21\", \"2018-09-20 11:23:23\", \"2018-09-20 11:23:26\", \"2018-09-20 11:23:28\", \"2018-09-20 11:25:07\", \"2018-09-20 11:25:11\", \"2018-09-20 11:25:34\", \"2018-09-20 11:25:59\", \"2018-09-20 11:26:03\", \"2018-09-20 11:26:17\", \"2018-09-20 11:26:25\", \"2018-09-20 11:26:27\", \"2018-09-20 11:26:29\", \"2018-09-20 11:26:31\", \"2018-09-20 11:26:33\", \"2018-09-20 11:27:16\", \"2018-09-20 11:29:13\", \"2018-09-20 11:29:56\", \"2018-09-20 11:31:19\", \"2018-09-20 11:31:20\", \"2018-09-20 11:48:22\", \"2018-09-20 11:48:23\", \"2018-09-20 11:48:28\", \"2018-09-20 11:48:29\", \"2018-09-20 11:48:30\", \"2018-09-20 11:48:33\", \"2018-09-20 11:48:34\", \"2018-09-20 11:48:35\", \"2018-09-20 11:48:43\", \"2018-09-20 11:48:58\", \"2018-09-20 11:49:00\", \"2018-09-20 11:49:03\", \"2018-09-20 11:49:05\", \"2018-09-20 11:49:07\", \"2018-09-20 11:49:08\", \"2018-09-20 11:49:09\", \"2018-09-20 11:49:10\", \"2018-09-20 11:49:25\", \"2018-09-20 11:49:29\", \"2018-09-20 11:49:30\", \"2018-09-20 11:49:32\", \"2018-09-20 11:49:35\", \"2018-09-20 11:49:37\", \"2018-09-20 11:49:58\", \"2018-09-20 11:50:01\", \"2018-09-20 11:50:43\", \"2018-09-20 11:50:44\", \"2018-09-20 11:51:53\", \"2018-09-20 11:51:54\", \"2018-09-20 11:51:57\", \"2018-09-20 11:51:58\", \"2018-09-20 11:52:09\", \"2018-09-20 11:52:22\", \"2018-09-20 11:52:23\", \"2018-09-20 11:53:02\", \"2018-09-20 11:53:56\", \"2018-09-20 11:53:58\", \"2018-09-20 11:55:07\", \"2018-09-20 11:55:09\", \"2018-09-20 11:55:11\", \"2018-09-20 11:55:13\", \"2018-09-20 11:55:16\", \"2018-09-20 11:55:17\", \"2018-09-20 11:55:20\", \"2018-09-20 11:55:22\", \"2018-09-20 11:58:56\", \"2018-09-20 11:59:37\", \"2018-09-20 11:59:39\", \"2018-09-20 11:59:41\", \"2018-09-20 11:59:45\", \"2018-09-20 11:59:48\", \"2018-09-20 11:59:52\", \"2018-09-20 12:02:05\", \"2018-09-20 12:03:52\", \"2018-09-20 12:04:01\", \"2018-09-20 12:04:03\", \"2018-09-20 12:04:05\", \"2018-09-20 12:04:45\", \"2018-09-20 12:04:47\", \"2018-09-20 12:04:48\", \"2018-09-20 12:05:14\", \"2018-09-20 12:05:15\", \"2018-09-20 12:05:16\", \"2018-09-20 12:05:18\", \"2018-09-20 12:07:37\", \"2018-09-20 12:07:38\", \"2018-09-20 12:24:26\", \"2018-09-20 12:24:27\", \"2018-09-20 12:24:28\", \"2018-09-20 12:24:29\", \"2018-09-20 12:24:30\", \"2018-09-20 12:24:31\", \"2018-09-20 12:24:33\", \"2018-09-20 12:24:40\", \"2018-09-20 12:25:13\", \"2018-09-20 12:25:15\", \"2018-09-20 12:25:18\", \"2018-09-20 12:25:22\", \"2018-09-20 12:25:44\", \"2018-09-20 12:25:45\", \"2018-09-20 12:25:49\", \"2018-09-20 12:25:51\", \"2018-09-20 12:25:53\", \"2018-09-20 12:25:56\", \"2018-09-20 12:25:57\", \"2018-09-20 12:25:58\", \"2018-09-20 12:25:59\", \"2018-09-20 12:26:02\", \"2018-09-20 12:26:04\", \"2018-09-20 12:26:06\", \"2018-09-20 12:26:07\", \"2018-09-20 12:26:08\", \"2018-09-20 12:26:09\", \"2018-09-20 12:26:10\", \"2018-09-20 12:26:22\", \"2018-09-20 12:26:36\", \"2018-09-20 12:26:37\", \"2018-09-20 12:28:21\", \"2018-09-20 12:28:39\", \"2018-09-20 12:28:40\", \"2018-09-20 12:29:20\", \"2018-09-20 12:29:21\", \"2018-09-20 12:29:26\", \"2018-09-20 12:29:27\", \"2018-09-20 12:29:29\", \"2018-09-20 12:30:14\", \"2018-09-20 12:30:17\", \"2018-09-20 12:30:18\", \"2018-09-20 12:31:47\", \"2018-09-20 12:36:07\", \"2018-09-20 12:36:09\", \"2018-09-20 12:36:12\", \"2018-09-20 12:36:16\", \"2018-09-20 12:36:18\", \"2018-09-20 12:36:22\", \"2018-09-20 12:36:26\", \"2018-09-20 12:36:28\", \"2018-09-20 12:36:31\", \"2018-09-20 12:39:05\", \"2018-09-20 12:39:07\", \"2018-09-20 12:39:09\", \"2018-09-20 12:39:18\", \"2018-09-20 12:39:20\", \"2018-09-20 12:39:21\", \"2018-09-20 12:39:23\", \"2018-09-20 12:39:25\", \"2018-09-20 12:39:27\", \"2018-09-20 12:39:28\", \"2018-09-20 12:39:36\", \"2018-09-20 12:39:47\", \"2018-09-20 12:39:54\", \"2018-09-20 12:39:56\", \"2018-09-20 12:39:57\", \"2018-09-20 12:39:58\", \"2018-09-20 12:41:20\", \"2018-09-20 12:41:21\", \"2018-09-20 12:41:22\", \"2018-09-20 12:41:42\", \"2018-09-20 12:43:40\", \"2018-09-20 12:43:41\", \"2018-09-20 12:43:58\", \"2018-09-20 12:46:27\", \"2018-09-20 12:46:28\", \"2018-09-20 12:46:31\", \"2018-09-20 12:46:32\", \"2018-09-20 12:46:34\", \"2018-09-20 13:00:22\", \"2018-09-20 13:00:23\", \"2018-09-20 13:00:24\", \"2018-09-20 13:00:25\", \"2018-09-20 13:00:29\", \"2018-09-20 13:00:30\", \"2018-09-20 13:00:31\", \"2018-09-20 13:00:32\", \"2018-09-20 13:00:36\", \"2018-09-20 13:00:59\", \"2018-09-20 13:01:00\", \"2018-09-20 13:01:01\", \"2018-09-20 13:01:02\", \"2018-09-20 13:01:03\", \"2018-09-20 13:01:12\", \"2018-09-20 13:01:25\", \"2018-09-20 13:01:26\", \"2018-09-20 13:01:30\", \"2018-09-20 13:01:32\", \"2018-09-20 13:01:36\", \"2018-09-20 13:01:37\", \"2018-09-20 13:01:38\", \"2018-09-20 13:01:59\", \"2018-09-20 13:02:01\", \"2018-09-20 13:02:03\", \"2018-09-20 13:02:06\", \"2018-09-20 13:02:19\", \"2018-09-20 13:02:30\", \"2018-09-20 13:02:35\", \"2018-09-20 13:02:37\", \"2018-09-20 13:02:38\", \"2018-09-20 13:02:39\", \"2018-09-20 13:02:40\", \"2018-09-20 13:03:53\", \"2018-09-20 13:03:54\", \"2018-09-20 13:03:56\", \"2018-09-20 13:04:08\", \"2018-09-20 13:04:17\", \"2018-09-20 13:04:25\", \"2018-09-20 13:04:26\", \"2018-09-20 13:04:27\", \"2018-09-20 13:05:09\", \"2018-09-20 13:05:12\", \"2018-09-20 13:05:31\", \"2018-09-20 13:07:12\", \"2018-09-20 13:07:14\", \"2018-09-20 13:07:16\", \"2018-09-20 13:07:18\", \"2018-09-20 13:07:19\", \"2018-09-20 13:07:21\", \"2018-09-20 13:11:31\", \"2018-09-20 13:11:34\", \"2018-09-20 13:11:37\", \"2018-09-20 13:11:39\", \"2018-09-20 13:13:13\", \"2018-09-20 13:13:14\", \"2018-09-20 13:13:43\", \"2018-09-20 13:13:44\", \"2018-09-20 13:13:50\", \"2018-09-20 13:13:54\", \"2018-09-20 13:13:56\", \"2018-09-20 13:13:57\", \"2018-09-20 13:14:00\", \"2018-09-20 13:14:19\", \"2018-09-20 13:14:22\", \"2018-09-20 13:14:24\", \"2018-09-20 13:14:25\", \"2018-09-20 13:14:58\", \"2018-09-20 13:14:59\", \"2018-09-20 13:15:00\", \"2018-09-20 13:15:01\", \"2018-09-20 13:22:20\", \"2018-09-20 13:24:25\", \"2018-09-20 13:24:26\", \"2018-09-20 13:24:27\", \"2018-09-20 13:24:28\", \"2018-09-20 13:24:29\", \"2018-09-20 13:36:23\", \"2018-09-20 13:36:26\", \"2018-09-20 13:36:27\", \"2018-09-20 13:36:28\", \"2018-09-20 13:36:32\", \"2018-09-20 13:36:33\", \"2018-09-20 13:36:39\", \"2018-09-20 13:36:40\", \"2018-09-20 13:37:09\", \"2018-09-20 13:37:24\", \"2018-09-20 13:37:25\", \"2018-09-20 13:37:36\", \"2018-09-20 13:37:38\", \"2018-09-20 13:37:42\", \"2018-09-20 13:37:45\", \"2018-09-20 13:37:47\", \"2018-09-20 13:37:55\", \"2018-09-20 13:37:57\", \"2018-09-20 13:37:59\", \"2018-09-20 13:38:00\", \"2018-09-20 13:38:01\", \"2018-09-20 13:38:37\", \"2018-09-20 13:38:38\", \"2018-09-20 13:39:56\", \"2018-09-20 13:40:10\", \"2018-09-20 13:40:31\", \"2018-09-20 13:40:32\", \"2018-09-20 13:40:33\", \"2018-09-20 13:41:18\", \"2018-09-20 13:41:21\", \"2018-09-20 13:42:01\", \"2018-09-20 13:42:02\", \"2018-09-20 13:42:03\", \"2018-09-20 13:43:07\", \"2018-09-20 13:43:26\", \"2018-09-20 13:43:27\", \"2018-09-20 13:43:29\", \"2018-09-20 13:43:31\", \"2018-09-20 13:43:32\", \"2018-09-20 13:43:34\", \"2018-09-20 13:43:36\", \"2018-09-20 13:47:49\", \"2018-09-20 13:47:52\", \"2018-09-20 13:47:54\", \"2018-09-20 13:47:56\", \"2018-09-20 13:49:44\", \"2018-09-20 13:49:57\", \"2018-09-20 13:50:28\", \"2018-09-20 13:50:41\", \"2018-09-20 13:50:42\", \"2018-09-20 13:50:44\", \"2018-09-20 13:50:46\", \"2018-09-20 13:50:48\", \"2018-09-20 13:50:49\", \"2018-09-20 13:50:53\", \"2018-09-20 13:51:17\", \"2018-09-20 13:51:18\", \"2018-09-20 13:53:26\", \"2018-09-20 13:53:28\", \"2018-09-20 13:53:29\", \"2018-09-20 13:53:30\", \"2018-09-20 13:53:45\", \"2018-09-20 13:53:52\", \"2018-09-20 13:58:43\", \"2018-09-20 13:58:44\", \"2018-09-20 13:58:45\", \"2018-09-20 13:58:46\", \"2018-09-20 14:12:33\", \"2018-09-20 14:12:34\", \"2018-09-20 14:12:35\", \"2018-09-20 14:13:16\", \"2018-09-20 14:13:28\", \"2018-09-20 14:13:51\", \"2018-09-20 14:13:52\", \"2018-09-20 14:14:01\", \"2018-09-20 14:14:03\", \"2018-09-20 14:14:06\", \"2018-09-20 14:14:09\", \"2018-09-20 14:14:11\", \"2018-09-20 14:14:12\", \"2018-09-20 14:14:29\", \"2018-09-20 14:14:31\", \"2018-09-20 14:14:32\", \"2018-09-20 14:14:42\", \"2018-09-20 14:14:58\", \"2018-09-20 14:14:59\", \"2018-09-20 14:16:11\", \"2018-09-20 14:16:12\", \"2018-09-20 14:16:13\", \"2018-09-20 14:16:15\", \"2018-09-20 14:16:26\", \"2018-09-20 14:16:38\", \"2018-09-20 14:16:40\", \"2018-09-20 14:16:42\", \"2018-09-20 14:16:44\", \"2018-09-20 14:16:45\", \"2018-09-20 14:16:46\", \"2018-09-20 14:17:30\", \"2018-09-20 14:17:31\", \"2018-09-20 14:24:40\", \"2018-09-20 14:24:42\", \"2018-09-20 14:24:44\", \"2018-09-20 14:28:09\", \"2018-09-20 14:28:11\", \"2018-09-20 14:28:15\", \"2018-09-20 14:28:19\", \"2018-09-20 14:28:21\", \"2018-09-20 14:28:22\", \"2018-09-20 14:28:35\", \"2018-09-20 14:28:43\", \"2018-09-20 14:28:44\", \"2018-09-20 14:28:45\", \"2018-09-20 14:29:59\", \"2018-09-20 14:30:01\", \"2018-09-20 14:30:02\", \"2018-09-20 14:30:03\", \"2018-09-20 14:30:04\", \"2018-09-20 14:48:21\", \"2018-09-20 14:48:22\", \"2018-09-20 14:48:23\", \"2018-09-20 14:48:24\", \"2018-09-20 14:48:25\", \"2018-09-20 14:48:26\", \"2018-09-20 14:48:27\", \"2018-09-20 14:48:28\", \"2018-09-20 14:48:48\", \"2018-09-20 14:48:54\", \"2018-09-20 14:48:59\", \"2018-09-20 14:49:00\", \"2018-09-20 14:49:15\", \"2018-09-20 14:49:29\", \"2018-09-20 14:49:30\", \"2018-09-20 14:49:34\", \"2018-09-20 14:49:45\", \"2018-09-20 14:49:47\", \"2018-09-20 14:49:57\", \"2018-09-20 14:49:58\", \"2018-09-20 14:50:10\", \"2018-09-20 14:50:24\", \"2018-09-20 14:50:25\", \"2018-09-20 14:50:26\", \"2018-09-20 14:50:27\", \"2018-09-20 14:50:28\", \"2018-09-20 14:51:48\", \"2018-09-20 14:51:49\", \"2018-09-20 14:51:50\", \"2018-09-20 14:51:51\", \"2018-09-20 14:51:52\", \"2018-09-20 14:51:53\", \"2018-09-20 14:52:19\", \"2018-09-20 14:52:28\", \"2018-09-20 14:52:30\", \"2018-09-20 14:52:32\", \"2018-09-20 14:52:34\", \"2018-09-20 14:52:36\", \"2018-09-20 14:52:37\", \"2018-09-20 14:53:29\", \"2018-09-20 14:55:04\", \"2018-09-20 14:55:06\", \"2018-09-20 14:55:09\", \"2018-09-20 14:55:12\", \"2018-09-20 14:55:14\", \"2018-09-20 14:55:16\", \"2018-09-20 14:55:17\", \"2018-09-20 14:59:39\", \"2018-09-20 14:59:41\", \"2018-09-20 14:59:43\", \"2018-09-20 14:59:45\", \"2018-09-20 15:01:24\", \"2018-09-20 15:01:26\", \"2018-09-20 15:01:37\", \"2018-09-20 15:02:04\", \"2018-09-20 15:02:07\", \"2018-09-20 15:02:09\", \"2018-09-20 15:02:14\", \"2018-09-20 15:02:16\", \"2018-09-20 15:02:20\", \"2018-09-20 15:02:22\", \"2018-09-20 15:02:25\", \"2018-09-20 15:02:29\", \"2018-09-20 15:02:37\", \"2018-09-20 15:02:38\", \"2018-09-20 15:02:50\", \"2018-09-20 15:02:51\", \"2018-09-20 15:07:45\", \"2018-09-20 15:07:46\", \"2018-09-20 15:07:47\", \"2018-09-20 15:07:49\", \"2018-09-20 15:07:50\", \"2018-09-20 15:07:52\", \"2018-09-20 15:08:03\", \"2018-09-20 15:08:04\", \"2018-09-20 15:12:39\", \"2018-09-20 15:13:05\", \"2018-09-20 15:15:18\", \"2018-09-20 15:15:19\", \"2018-09-20 15:15:20\", \"2018-09-20 15:15:22\", \"2018-09-20 15:15:23\", \"2018-09-20 15:15:24\", \"2018-09-20 15:15:25\", \"2018-09-20 15:15:27\", \"2018-09-20 15:15:28\", \"2018-09-20 15:15:29\", \"2018-09-20 15:15:30\", \"2018-09-20 15:24:22\", \"2018-09-20 15:24:23\", \"2018-09-20 15:24:24\", \"2018-09-20 15:24:25\", \"2018-09-20 15:24:26\", \"2018-09-20 15:24:27\", \"2018-09-20 15:24:28\", \"2018-09-20 15:24:31\", \"2018-09-20 15:25:09\", \"2018-09-20 15:25:11\", \"2018-09-20 15:25:12\", \"2018-09-20 15:25:21\", \"2018-09-20 15:26:00\", \"2018-09-20 15:26:01\", \"2018-09-20 15:26:02\", \"2018-09-20 15:26:36\", \"2018-09-20 15:26:38\", \"2018-09-20 15:26:40\", \"2018-09-20 15:26:46\", \"2018-09-20 15:26:47\", \"2018-09-20 15:26:48\", \"2018-09-20 15:26:59\", \"2018-09-20 15:27:02\", \"2018-09-20 15:27:04\", \"2018-09-20 15:27:05\", \"2018-09-20 15:27:06\", \"2018-09-20 15:27:08\", \"2018-09-20 15:27:53\", \"2018-09-20 15:27:54\", \"2018-09-20 15:28:58\", \"2018-09-20 15:28:59\", \"2018-09-20 15:29:00\", \"2018-09-20 15:29:02\", \"2018-09-20 15:29:39\", \"2018-09-20 15:29:42\", \"2018-09-20 15:29:44\", \"2018-09-20 15:29:47\", \"2018-09-20 15:29:49\", \"2018-09-20 15:29:50\", \"2018-09-20 15:29:51\", \"2018-09-20 15:31:23\", \"2018-09-20 15:33:06\", \"2018-09-20 15:33:09\", \"2018-09-20 15:33:11\", \"2018-09-20 15:38:32\", \"2018-09-20 15:38:33\", \"2018-09-20 15:38:34\", \"2018-09-20 15:38:36\", \"2018-09-20 15:39:56\", \"2018-09-20 15:40:03\", \"2018-09-20 15:40:46\", \"2018-09-20 15:40:53\", \"2018-09-20 15:40:55\", \"2018-09-20 15:40:57\", \"2018-09-20 15:41:00\", \"2018-09-20 15:41:02\", \"2018-09-20 15:41:31\", \"2018-09-20 15:41:40\", \"2018-09-20 15:41:41\", \"2018-09-20 15:43:00\", \"2018-09-20 15:43:01\", \"2018-09-20 15:43:02\", \"2018-09-20 15:43:03\", \"2018-09-20 15:43:04\", \"2018-09-20 15:43:05\", \"2018-09-20 15:43:10\", \"2018-09-20 15:45:18\", \"2018-09-20 15:45:30\", \"2018-09-20 15:45:31\", \"2018-09-20 15:45:32\", \"2018-09-20 15:45:33\", \"2018-09-20 15:45:34\", \"2018-09-20 15:45:35\", \"2018-09-20 16:00:26\", \"2018-09-20 16:00:30\", \"2018-09-20 16:00:31\", \"2018-09-20 16:00:32\", \"2018-09-20 16:00:33\", \"2018-09-20 16:00:38\", \"2018-09-20 16:00:39\", \"2018-09-20 16:01:02\", \"2018-09-20 16:01:05\", \"2018-09-20 16:01:07\", \"2018-09-20 16:01:11\", \"2018-09-20 16:01:13\", \"2018-09-20 16:01:15\", \"2018-09-20 16:01:17\", \"2018-09-20 16:01:18\", \"2018-09-20 16:01:19\", \"2018-09-20 16:01:27\", \"2018-09-20 16:01:51\", \"2018-09-20 16:01:54\", \"2018-09-20 16:01:57\", \"2018-09-20 16:01:58\", \"2018-09-20 16:02:02\", \"2018-09-20 16:02:04\", \"2018-09-20 16:02:22\", \"2018-09-20 16:02:25\", \"2018-09-20 16:02:27\", \"2018-09-20 16:02:30\", \"2018-09-20 16:02:31\", \"2018-09-20 16:03:14\", \"2018-09-20 16:03:16\", \"2018-09-20 16:03:20\", \"2018-09-20 16:03:21\", \"2018-09-20 16:03:23\", \"2018-09-20 16:03:25\", \"2018-09-20 16:05:23\", \"2018-09-20 16:05:24\", \"2018-09-20 16:05:42\", \"2018-09-20 16:05:44\", \"2018-09-20 16:05:45\", \"2018-09-20 16:05:46\", \"2018-09-20 16:07:42\", \"2018-09-20 16:07:54\", \"2018-09-20 16:12:49\", \"2018-09-20 16:12:51\", \"2018-09-20 16:12:52\", \"2018-09-20 16:12:53\", \"2018-09-20 16:14:19\", \"2018-09-20 16:14:25\", \"2018-09-20 16:14:28\", \"2018-09-20 16:14:30\", \"2018-09-20 16:15:07\", \"2018-09-20 16:15:08\", \"2018-09-20 16:15:09\", \"2018-09-20 16:15:15\", \"2018-09-20 16:15:16\", \"2018-09-20 16:15:18\", \"2018-09-20 16:15:20\", \"2018-09-20 16:15:46\", \"2018-09-20 16:15:48\", \"2018-09-20 16:15:49\", \"2018-09-20 16:15:50\", \"2018-09-20 16:16:38\", \"2018-09-20 16:16:39\", \"2018-09-20 16:16:40\", \"2018-09-20 16:16:41\", \"2018-09-20 16:17:17\", \"2018-09-20 16:17:18\", \"2018-09-20 16:17:25\", \"2018-09-20 16:17:44\", \"2018-09-20 16:17:45\", \"2018-09-20 16:20:40\", \"2018-09-20 16:20:41\", \"2018-09-20 16:20:42\", \"2018-09-20 16:20:43\", \"2018-09-20 16:20:44\", \"2018-09-20 16:20:45\", \"2018-09-20 16:20:46\", \"2018-09-20 16:20:47\", \"2018-09-20 16:20:48\", \"2018-09-20 16:36:22\", \"2018-09-20 16:36:23\", \"2018-09-20 16:36:28\", \"2018-09-20 16:36:29\", \"2018-09-20 16:36:30\", \"2018-09-20 16:36:31\", \"2018-09-20 16:36:32\", \"2018-09-20 16:36:52\", \"2018-09-20 16:36:54\", \"2018-09-20 16:36:57\", \"2018-09-20 16:37:22\", \"2018-09-20 16:37:23\", \"2018-09-20 16:37:24\", \"2018-09-20 16:37:30\", \"2018-09-20 16:37:32\", \"2018-09-20 16:37:34\", \"2018-09-20 16:37:38\", \"2018-09-20 16:37:40\", \"2018-09-20 16:37:54\", \"2018-09-20 16:37:55\", \"2018-09-20 16:38:27\", \"2018-09-20 16:38:29\", \"2018-09-20 16:38:30\", \"2018-09-20 16:38:33\", \"2018-09-20 16:38:34\", \"2018-09-20 16:38:36\", \"2018-09-20 16:39:39\", \"2018-09-20 16:39:40\", \"2018-09-20 16:39:41\", \"2018-09-20 16:39:42\", \"2018-09-20 16:40:03\", \"2018-09-20 16:40:05\", \"2018-09-20 16:40:07\", \"2018-09-20 16:40:09\", \"2018-09-20 16:40:10\", \"2018-09-20 16:40:11\", \"2018-09-20 16:40:12\", \"2018-09-20 16:40:13\", \"2018-09-20 16:41:24\", \"2018-09-20 16:41:26\", \"2018-09-20 16:42:36\", \"2018-09-20 16:46:07\", \"2018-09-20 16:46:08\", \"2018-09-20 16:46:09\", \"2018-09-20 16:46:11\", \"2018-09-20 16:46:12\", \"2018-09-20 16:46:13\", \"2018-09-20 16:46:15\", \"2018-09-20 16:46:16\", \"2018-09-20 16:47:36\", \"2018-09-20 16:47:40\", \"2018-09-20 16:47:41\", \"2018-09-20 16:47:51\", \"2018-09-20 16:49:50\", \"2018-09-20 16:49:52\", \"2018-09-20 16:49:56\", \"2018-09-20 16:49:58\", \"2018-09-20 16:50:00\", \"2018-09-20 16:50:02\", \"2018-09-20 16:50:05\", \"2018-09-20 16:50:25\", \"2018-09-20 16:50:26\", \"2018-09-20 16:50:29\", \"2018-09-20 16:50:30\", \"2018-09-20 16:50:33\", \"2018-09-20 16:51:01\", \"2018-09-20 16:51:02\", \"2018-09-20 16:51:03\", \"2018-09-20 16:51:04\", \"2018-09-20 16:51:06\", \"2018-09-20 16:51:07\", \"2018-09-20 16:51:08\", \"2018-09-20 16:51:09\", \"2018-09-20 16:56:17\", \"2018-09-20 16:57:11\", \"2018-09-20 16:57:51\", \"2018-09-20 16:57:52\", \"2018-09-20 16:57:53\", \"2018-09-20 16:57:54\", \"2018-09-20 16:57:55\", \"2018-09-20 16:57:56\", \"2018-09-20 16:57:57\", \"2018-09-20 16:58:14\", \"2018-09-20 17:12:21\", \"2018-09-20 17:12:22\", \"2018-09-20 17:12:24\", \"2018-09-20 17:12:25\", \"2018-09-20 17:12:26\", \"2018-09-20 17:12:27\", \"2018-09-20 17:12:28\", \"2018-09-20 17:12:29\", \"2018-09-20 17:12:37\", \"2018-09-20 17:13:17\", \"2018-09-20 17:13:19\", \"2018-09-20 17:13:42\", \"2018-09-20 17:13:43\", \"2018-09-20 17:13:44\", \"2018-09-20 17:13:48\", \"2018-09-20 17:13:53\", \"2018-09-20 17:13:54\", \"2018-09-20 17:13:58\", \"2018-09-20 17:13:59\", \"2018-09-20 17:14:13\", \"2018-09-20 17:14:14\", \"2018-09-20 17:14:54\", \"2018-09-20 17:14:55\", \"2018-09-20 17:14:58\", \"2018-09-20 17:15:01\", \"2018-09-20 17:15:02\", \"2018-09-20 17:15:04\", \"2018-09-20 17:16:28\", \"2018-09-20 17:16:29\", \"2018-09-20 17:16:30\", \"2018-09-20 17:17:00\", \"2018-09-20 17:17:02\", \"2018-09-20 17:17:05\", \"2018-09-20 17:17:07\", \"2018-09-20 17:17:09\", \"2018-09-20 17:17:12\", \"2018-09-20 17:17:14\", \"2018-09-20 17:17:46\", \"2018-09-20 17:18:34\", \"2018-09-20 17:18:35\", \"2018-09-20 17:19:51\", \"2018-09-20 17:19:53\", \"2018-09-20 17:23:15\", \"2018-09-20 17:23:47\", \"2018-09-20 17:23:48\", \"2018-09-20 17:23:49\", \"2018-09-20 17:25:14\", \"2018-09-20 17:25:16\", \"2018-09-20 17:25:18\", \"2018-09-20 17:26:04\", \"2018-09-20 17:26:06\", \"2018-09-20 17:26:25\", \"2018-09-20 17:26:27\", \"2018-09-20 17:26:29\", \"2018-09-20 17:26:31\", \"2018-09-20 17:26:46\", \"2018-09-20 17:26:51\", \"2018-09-20 17:26:54\", \"2018-09-20 17:26:56\", \"2018-09-20 17:26:58\", \"2018-09-20 17:27:00\", \"2018-09-20 17:27:02\", \"2018-09-20 17:29:33\", \"2018-09-20 17:29:35\", \"2018-09-20 17:29:37\", \"2018-09-20 17:29:39\", \"2018-09-20 17:29:41\", \"2018-09-20 17:29:42\", \"2018-09-20 17:29:43\", \"2018-09-20 17:29:44\", \"2018-09-20 17:29:47\", \"2018-09-20 17:30:27\", \"2018-09-20 17:30:28\", \"2018-09-20 17:32:37\", \"2018-09-20 17:34:24\", \"2018-09-20 17:34:25\", \"2018-09-20 17:34:26\", \"2018-09-20 17:34:27\", \"2018-09-20 17:34:28\", \"2018-09-20 17:34:29\", \"2018-09-20 17:34:30\", \"2018-09-20 17:48:22\", \"2018-09-20 17:48:23\", \"2018-09-20 17:48:24\", \"2018-09-20 17:48:25\", \"2018-09-20 17:48:26\", \"2018-09-20 17:48:27\", \"2018-09-20 17:48:31\", \"2018-09-20 17:50:00\", \"2018-09-20 17:50:01\", \"2018-09-20 17:50:21\", \"2018-09-20 17:50:23\", \"2018-09-20 17:50:25\", \"2018-09-20 17:50:26\", \"2018-09-20 17:50:27\", \"2018-09-20 17:50:28\", \"2018-09-20 17:50:46\", \"2018-09-20 17:50:55\", \"2018-09-20 17:50:56\", \"2018-09-20 17:50:57\", \"2018-09-20 17:50:58\", \"2018-09-20 17:50:59\", \"2018-09-20 17:51:09\", \"2018-09-20 17:51:32\", \"2018-09-20 17:51:33\", \"2018-09-20 17:51:34\", \"2018-09-20 17:51:36\", \"2018-09-20 17:52:47\", \"2018-09-20 17:52:48\", \"2018-09-20 17:52:49\", \"2018-09-20 17:52:50\", \"2018-09-20 17:53:08\", \"2018-09-20 17:53:11\", \"2018-09-20 17:53:13\", \"2018-09-20 17:53:15\", \"2018-09-20 17:53:17\", \"2018-09-20 17:53:19\", \"2018-09-20 17:53:21\", \"2018-09-20 17:53:23\", \"2018-09-20 17:53:24\", \"2018-09-20 17:53:25\", \"2018-09-20 17:54:36\", \"2018-09-20 17:55:54\", \"2018-09-20 17:55:55\", \"2018-09-20 17:55:57\", \"2018-09-20 17:55:59\", \"2018-09-20 18:00:21\", \"2018-09-20 18:00:22\", \"2018-09-20 18:00:23\", \"2018-09-20 18:01:05\", \"2018-09-20 18:01:30\", \"2018-09-20 18:02:27\", \"2018-09-20 18:02:28\", \"2018-09-20 18:02:29\", \"2018-09-20 18:02:33\", \"2018-09-20 18:02:35\", \"2018-09-20 18:02:38\", \"2018-09-20 18:02:39\", \"2018-09-20 18:02:41\", \"2018-09-20 18:02:43\", \"2018-09-20 18:02:45\", \"2018-09-20 18:02:46\", \"2018-09-20 18:04:46\", \"2018-09-20 18:04:56\", \"2018-09-20 18:04:58\", \"2018-09-20 18:05:00\", \"2018-09-20 18:05:04\", \"2018-09-20 18:05:06\", \"2018-09-20 18:05:08\", \"2018-09-20 18:05:16\", \"2018-09-20 18:05:21\", \"2018-09-20 18:05:23\", \"2018-09-20 18:05:25\", \"2018-09-20 18:05:27\", \"2018-09-20 18:05:29\", \"2018-09-20 18:05:32\", \"2018-09-20 18:05:35\", \"2018-09-20 18:07:42\", \"2018-09-20 18:07:44\", \"2018-09-20 18:07:46\", \"2018-09-20 18:07:50\", \"2018-09-20 18:07:52\", \"2018-09-20 18:07:53\", \"2018-09-20 18:07:55\", \"2018-09-20 18:07:57\", \"2018-09-20 18:07:58\", \"2018-09-20 18:07:59\", \"2018-09-20 18:08:00\", \"2018-09-20 18:08:41\", \"2018-09-20 18:08:44\", \"2018-09-20 18:10:33\", \"2018-09-20 18:10:34\", \"2018-09-20 18:10:35\", \"2018-09-20 18:10:36\", \"2018-09-20 18:10:37\", \"2018-09-20 18:10:38\", \"2018-09-20 18:24:22\", \"2018-09-20 18:24:23\", \"2018-09-20 18:24:24\", \"2018-09-20 18:24:28\", \"2018-09-20 18:24:29\", \"2018-09-20 18:24:30\", \"2018-09-20 18:24:31\", \"2018-09-20 18:24:58\", \"2018-09-20 18:25:00\", \"2018-09-20 18:25:01\", \"2018-09-20 18:25:02\", \"2018-09-20 18:25:03\", \"2018-09-20 18:25:29\", \"2018-09-20 18:25:30\", \"2018-09-20 18:25:31\", \"2018-09-20 18:25:37\", \"2018-09-20 18:25:39\", \"2018-09-20 18:25:42\", \"2018-09-20 18:25:45\", \"2018-09-20 18:25:46\", \"2018-09-20 18:25:47\", \"2018-09-20 18:26:00\", \"2018-09-20 18:26:02\", \"2018-09-20 18:26:05\", \"2018-09-20 18:26:07\", \"2018-09-20 18:26:08\", \"2018-09-20 18:26:37\", \"2018-09-20 18:26:38\", \"2018-09-20 18:26:40\", \"2018-09-20 18:26:41\", \"2018-09-20 18:26:43\", \"2018-09-20 18:28:00\", \"2018-09-20 18:28:01\", \"2018-09-20 18:28:35\", \"2018-09-20 18:28:37\", \"2018-09-20 18:28:39\", \"2018-09-20 18:28:42\", \"2018-09-20 18:30:02\", \"2018-09-20 18:31:23\", \"2018-09-20 18:31:25\", \"2018-09-20 18:31:28\", \"2018-09-20 18:31:31\", \"2018-09-20 18:35:13\", \"2018-09-20 18:35:15\", \"2018-09-20 18:35:16\", \"2018-09-20 18:35:17\", \"2018-09-20 18:35:19\", \"2018-09-20 18:36:29\", \"2018-09-20 18:36:42\", \"2018-09-20 18:37:12\", \"2018-09-20 18:37:15\", \"2018-09-20 18:37:23\", \"2018-09-20 18:37:25\", \"2018-09-20 18:37:27\", \"2018-09-20 18:37:30\", \"2018-09-20 18:37:32\", \"2018-09-20 18:37:34\", \"2018-09-20 18:37:36\", \"2018-09-20 18:37:43\", \"2018-09-20 18:37:56\", \"2018-09-20 18:38:11\", \"2018-09-20 18:38:12\", \"2018-09-20 18:40:57\", \"2018-09-20 18:40:58\", \"2018-09-20 18:40:59\", \"2018-09-20 18:41:00\", \"2018-09-20 18:41:08\", \"2018-09-20 18:41:09\", \"2018-09-20 18:41:10\", \"2018-09-20 19:00:25\", \"2018-09-20 19:00:26\", \"2018-09-20 19:00:27\", \"2018-09-20 19:00:33\", \"2018-09-20 19:00:34\", \"2018-09-20 19:00:35\", \"2018-09-20 19:00:36\", \"2018-09-20 19:01:10\", \"2018-09-20 19:01:13\", \"2018-09-20 19:01:15\", \"2018-09-20 19:01:17\", \"2018-09-20 19:01:19\", \"2018-09-20 19:01:27\", \"2018-09-20 19:01:53\", \"2018-09-20 19:01:54\", \"2018-09-20 19:01:55\", \"2018-09-20 19:01:59\", \"2018-09-20 19:02:05\", \"2018-09-20 19:02:07\", \"2018-09-20 19:02:11\", \"2018-09-20 19:02:15\", \"2018-09-20 19:02:17\", \"2018-09-20 19:02:19\", \"2018-09-20 19:02:21\", \"2018-09-20 19:02:24\", \"2018-09-20 19:02:26\", \"2018-09-20 19:02:27\", \"2018-09-20 19:02:28\", \"2018-09-20 19:02:40\", \"2018-09-20 19:02:54\", \"2018-09-20 19:02:57\", \"2018-09-20 19:03:00\", \"2018-09-20 19:03:02\", \"2018-09-20 19:03:04\", \"2018-09-20 19:03:05\", \"2018-09-20 19:03:06\", \"2018-09-20 19:04:21\", \"2018-09-20 19:04:22\", \"2018-09-20 19:04:23\", \"2018-09-20 19:04:24\", \"2018-09-20 19:04:38\", \"2018-09-20 19:04:47\", \"2018-09-20 19:04:48\", \"2018-09-20 19:04:49\", \"2018-09-20 19:04:50\", \"2018-09-20 19:04:51\", \"2018-09-20 19:05:00\", \"2018-09-20 19:05:01\", \"2018-09-20 19:06:14\", \"2018-09-20 19:06:15\", \"2018-09-20 19:06:46\", \"2018-09-20 19:07:24\", \"2018-09-20 19:07:26\", \"2018-09-20 19:07:28\", \"2018-09-20 19:07:29\", \"2018-09-20 19:07:31\", \"2018-09-20 19:07:33\", \"2018-09-20 19:07:35\", \"2018-09-20 19:07:36\", \"2018-09-20 19:07:38\", \"2018-09-20 19:11:33\", \"2018-09-20 19:11:34\", \"2018-09-20 19:11:35\", \"2018-09-20 19:11:37\", \"2018-09-20 19:11:38\", \"2018-09-20 19:11:39\", \"2018-09-20 19:11:40\", \"2018-09-20 19:11:42\", \"2018-09-20 19:11:43\", \"2018-09-20 19:11:45\", \"2018-09-20 19:12:46\", \"2018-09-20 19:12:47\", \"2018-09-20 19:12:48\", \"2018-09-20 19:12:49\", \"2018-09-20 19:13:12\", \"2018-09-20 19:13:16\", \"2018-09-20 19:13:17\", \"2018-09-20 19:13:18\", \"2018-09-20 19:13:22\", \"2018-09-20 19:13:37\", \"2018-09-20 19:13:39\", \"2018-09-20 19:13:40\", \"2018-09-20 19:13:41\", \"2018-09-20 19:16:09\", \"2018-09-20 19:16:10\", \"2018-09-20 19:16:11\", \"2018-09-20 19:16:12\", \"2018-09-20 19:16:13\", \"2018-09-20 19:16:14\", \"2018-09-20 19:16:15\", \"2018-09-20 19:16:16\", \"2018-09-20 19:16:17\", \"2018-09-20 19:16:18\", \"2018-09-20 19:16:19\", \"2018-09-20 19:16:20\", \"2018-09-20 19:16:21\", \"2018-09-20 19:16:22\", \"2018-09-20 19:16:23\", \"2018-09-20 19:16:24\", \"2018-09-20 19:16:25\", \"2018-09-20 19:38:07\", \"2018-09-20 19:38:08\", \"2018-09-20 19:38:09\", \"2018-09-20 19:38:12\", \"2018-09-20 19:38:16\", \"2018-09-20 19:38:17\", \"2018-09-20 19:38:19\", \"2018-09-20 19:43:07\", \"2018-09-20 19:43:08\", \"2018-09-20 20:00:00\", \"2018-09-20 20:00:02\", \"2018-09-20 20:00:04\", \"2018-09-20 20:00:28\", \"2018-09-20 20:00:31\", \"2018-09-20 20:00:43\", \"2018-09-20 20:00:44\", \"2018-09-20 20:01:09\", \"2018-09-20 20:01:51\", \"2018-09-20 20:01:52\", \"2018-09-20 20:04:05\", \"2018-09-20 20:04:06\", \"2018-09-20 20:05:32\", \"2018-09-20 20:07:00\", \"2018-09-20 20:11:32\", \"2018-09-20 20:11:33\", \"2018-09-20 20:11:35\", \"2018-09-20 20:11:37\", \"2018-09-20 20:11:39\", \"2018-09-20 20:12:32\", \"2018-09-20 20:12:33\", \"2018-09-20 20:12:41\", \"2018-09-20 20:13:34\", \"2018-09-20 20:13:35\", \"2018-09-20 20:13:36\", \"2018-09-20 20:13:37\", \"2018-09-20 20:13:41\", \"2018-09-20 20:13:45\", \"2018-09-20 20:13:49\", \"2018-09-20 20:13:51\", \"2018-09-20 20:13:59\", \"2018-09-20 20:14:01\", \"2018-09-20 20:14:02\", \"2018-09-20 20:14:06\", \"2018-09-20 20:14:07\", \"2018-09-20 20:14:08\", \"2018-09-20 20:14:27\", \"2018-09-20 20:14:28\", \"2018-09-20 20:14:29\", \"2018-09-20 20:14:30\", \"2018-09-20 20:14:31\", \"2018-09-20 20:14:32\", \"2018-09-20 20:14:33\", \"2018-09-20 20:14:42\", \"2018-09-20 20:14:44\", \"2018-09-20 20:14:51\", \"2018-09-20 20:14:53\", \"2018-09-20 20:14:55\", \"2018-09-20 20:14:57\", \"2018-09-20 20:14:59\", \"2018-09-20 20:15:02\", \"2018-09-20 20:15:41\", \"2018-09-20 20:15:43\", \"2018-09-20 20:15:59\", \"2018-09-20 20:16:00\", \"2018-09-20 20:16:01\", \"2018-09-20 20:16:18\", \"2018-09-20 20:16:26\", \"2018-09-20 20:16:27\", \"2018-09-20 20:17:51\", \"2018-09-20 20:17:53\", \"2018-09-20 20:17:54\", \"2018-09-20 20:19:03\", \"2018-09-20 20:19:08\", \"2018-09-20 20:19:09\", \"2018-09-20 20:19:10\", \"2018-09-20 20:19:11\", \"2018-09-20 20:20:03\", \"2018-09-20 20:20:06\", \"2018-09-20 20:20:08\", \"2018-09-20 20:20:09\", \"2018-09-20 20:20:11\", \"2018-09-20 20:20:13\", \"2018-09-20 20:20:14\", \"2018-09-20 20:20:16\", \"2018-09-20 20:20:18\", \"2018-09-20 20:20:20\", \"2018-09-20 20:24:48\", \"2018-09-20 20:24:54\", \"2018-09-20 20:24:57\", \"2018-09-20 20:25:00\", \"2018-09-20 20:25:03\", \"2018-09-20 20:25:06\", \"2018-09-20 20:27:13\", \"2018-09-20 20:27:16\", \"2018-09-20 20:27:20\", \"2018-09-20 20:28:08\", \"2018-09-20 20:28:10\", \"2018-09-20 20:28:12\", \"2018-09-20 20:28:27\", \"2018-09-20 20:28:28\", \"2018-09-20 20:28:35\", \"2018-09-20 20:28:37\", \"2018-09-20 20:28:38\", \"2018-09-20 20:28:39\", \"2018-09-20 20:28:49\", \"2018-09-20 20:28:51\", \"2018-09-20 20:29:01\", \"2018-09-20 20:30:52\", \"2018-09-20 20:30:54\", \"2018-09-20 20:30:57\", \"2018-09-20 20:31:12\", \"2018-09-20 20:31:14\", \"2018-09-20 20:31:16\", \"2018-09-20 20:31:44\", \"2018-09-20 20:31:47\", \"2018-09-20 20:33:04\", \"2018-09-20 20:33:07\", \"2018-09-20 20:33:09\", \"2018-09-20 20:33:11\", \"2018-09-20 20:33:19\", \"2018-09-20 20:35:47\", \"2018-09-20 20:36:36\", \"2018-09-20 20:39:17\", \"2018-09-20 20:42:18\", \"2018-09-20 20:46:23\", \"2018-09-20 20:46:24\", \"2018-09-20 20:46:25\", \"2018-09-20 20:48:22\", \"2018-09-20 20:48:23\", \"2018-09-20 20:48:24\", \"2018-09-20 20:48:25\", \"2018-09-20 20:48:26\", \"2018-09-20 20:48:27\", \"2018-09-20 20:48:28\", \"2018-09-20 20:48:50\", \"2018-09-20 20:48:55\", \"2018-09-20 20:49:00\", \"2018-09-20 20:49:01\", \"2018-09-20 20:49:02\", \"2018-09-20 20:49:49\", \"2018-09-20 20:49:50\", \"2018-09-20 20:49:56\", \"2018-09-20 20:50:02\", \"2018-09-20 20:50:04\", \"2018-09-20 20:50:05\", \"2018-09-20 20:50:08\", \"2018-09-20 20:50:26\", \"2018-09-20 20:50:27\", \"2018-09-20 20:51:09\", \"2018-09-20 20:51:11\", \"2018-09-20 20:52:30\", \"2018-09-20 20:52:31\", \"2018-09-20 20:52:32\", \"2018-09-20 20:53:07\", \"2018-09-20 20:53:08\", \"2018-09-20 20:53:09\", \"2018-09-20 20:53:10\", \"2018-09-20 20:54:35\", \"2018-09-20 20:56:10\", \"2018-09-20 20:56:12\", \"2018-09-20 20:56:13\", \"2018-09-20 20:56:15\", \"2018-09-20 21:00:40\", \"2018-09-20 21:00:42\", \"2018-09-20 21:00:44\", \"2018-09-20 21:00:47\", \"2018-09-20 21:02:25\", \"2018-09-20 21:02:28\", \"2018-09-20 21:03:12\", \"2018-09-20 21:03:14\", \"2018-09-20 21:03:25\", \"2018-09-20 21:03:46\", \"2018-09-20 21:03:49\", \"2018-09-20 21:03:52\", \"2018-09-20 21:03:57\", \"2018-09-20 21:04:00\", \"2018-09-20 21:06:43\", \"2018-09-20 21:06:44\", \"2018-09-20 21:06:45\", \"2018-09-20 21:06:46\", \"2018-09-20 21:06:47\", \"2018-09-20 21:06:48\", \"2018-09-20 21:06:49\", \"2018-09-20 21:06:50\", \"2018-09-20 21:24:27\", \"2018-09-20 21:24:29\", \"2018-09-20 21:24:32\", \"2018-09-20 21:24:33\", \"2018-09-20 21:24:34\", \"2018-09-20 21:24:38\", \"2018-09-20 21:25:58\", \"2018-09-20 21:25:59\", \"2018-09-20 21:26:00\", \"2018-09-20 21:26:05\", \"2018-09-20 21:26:07\", \"2018-09-20 21:26:09\", \"2018-09-20 21:26:12\", \"2018-09-20 21:26:16\", \"2018-09-20 21:26:28\", \"2018-09-20 21:26:29\", \"2018-09-20 21:26:47\", \"2018-09-20 21:27:00\", \"2018-09-20 21:27:01\", \"2018-09-20 21:28:27\", \"2018-09-20 21:28:29\", \"2018-09-20 21:28:31\", \"2018-09-20 21:28:32\", \"2018-09-20 21:28:35\", \"2018-09-20 21:28:44\", \"2018-09-20 21:28:46\", \"2018-09-20 21:28:49\", \"2018-09-20 21:28:51\", \"2018-09-20 21:29:06\", \"2018-09-20 21:29:07\", \"2018-09-20 21:30:27\", \"2018-09-20 21:30:54\", \"2018-09-20 21:31:35\", \"2018-09-20 21:31:37\", \"2018-09-20 21:31:38\", \"2018-09-20 21:31:41\", \"2018-09-20 21:31:44\", \"2018-09-20 21:31:46\", \"2018-09-20 21:31:47\", \"2018-09-20 21:31:50\", \"2018-09-20 21:36:12\", \"2018-09-20 21:36:14\", \"2018-09-20 21:36:17\", \"2018-09-20 21:36:18\", \"2018-09-20 21:36:20\", \"2018-09-20 21:36:24\", \"2018-09-20 21:38:35\", \"2018-09-20 21:38:39\", \"2018-09-20 21:39:22\", \"2018-09-20 21:39:36\", \"2018-09-20 21:39:38\", \"2018-09-20 21:39:55\", \"2018-09-20 21:40:10\", \"2018-09-20 21:40:14\", \"2018-09-20 21:40:15\", \"2018-09-20 21:43:15\", \"2018-09-20 21:43:16\", \"2018-09-20 21:43:17\", \"2018-09-20 21:43:18\", \"2018-09-20 22:00:24\", \"2018-09-20 22:00:25\", \"2018-09-20 22:00:28\", \"2018-09-20 22:00:29\", \"2018-09-20 22:00:30\", \"2018-09-20 22:01:30\", \"2018-09-20 22:01:31\", \"2018-09-20 22:01:32\", \"2018-09-20 22:01:39\", \"2018-09-20 22:01:41\", \"2018-09-20 22:01:48\", \"2018-09-20 22:01:50\", \"2018-09-20 22:01:52\", \"2018-09-20 22:02:00\", \"2018-09-20 22:02:02\", \"2018-09-20 22:02:06\", \"2018-09-20 22:02:07\", \"2018-09-20 22:02:08\", \"2018-09-20 22:02:09\", \"2018-09-20 22:03:04\", \"2018-09-20 22:03:10\", \"2018-09-20 22:03:16\", \"2018-09-20 22:04:29\", \"2018-09-20 22:04:30\", \"2018-09-20 22:04:32\", \"2018-09-20 22:05:07\", \"2018-09-20 22:05:08\", \"2018-09-20 22:06:34\", \"2018-09-20 22:07:03\", \"2018-09-20 22:07:07\", \"2018-09-20 22:07:37\", \"2018-09-20 22:07:39\", \"2018-09-20 22:07:41\", \"2018-09-20 22:07:45\", \"2018-09-20 22:07:47\", \"2018-09-20 22:07:48\", \"2018-09-20 22:07:50\", \"2018-09-20 22:07:52\", \"2018-09-20 22:07:53\", \"2018-09-20 22:07:55\", \"2018-09-20 22:07:57\", \"2018-09-20 22:07:58\", \"2018-09-20 22:08:00\", \"2018-09-20 22:11:00\", \"2018-09-20 22:12:16\", \"2018-09-20 22:12:18\", \"2018-09-20 22:12:20\", \"2018-09-20 22:14:27\", \"2018-09-20 22:14:58\", \"2018-09-20 22:15:33\", \"2018-09-20 22:15:34\", \"2018-09-20 22:15:39\", \"2018-09-20 22:15:41\", \"2018-09-20 22:15:43\", \"2018-09-20 22:15:45\", \"2018-09-20 22:15:57\", \"2018-09-20 22:15:58\", \"2018-09-20 22:15:59\", \"2018-09-20 22:16:10\", \"2018-09-20 22:16:11\", \"2018-09-20 22:19:21\", \"2018-09-20 22:36:31\", \"2018-09-20 22:37:35\", \"2018-09-20 22:37:37\", \"2018-09-20 22:37:46\", \"2018-09-20 22:37:52\", \"2018-09-20 22:38:07\", \"2018-09-20 22:38:09\", \"2018-09-20 22:38:11\", \"2018-09-20 22:38:13\", \"2018-09-20 22:38:16\", \"2018-09-20 22:38:17\", \"2018-09-20 22:38:43\", \"2018-09-20 22:39:13\", \"2018-09-20 22:40:50\", \"2018-09-20 22:41:03\", \"2018-09-20 22:41:07\", \"2018-09-20 22:44:18\", \"2018-09-20 22:44:24\", \"2018-09-20 22:44:28\", \"2018-09-20 22:44:34\", \"2018-09-20 22:44:38\", \"2018-09-20 22:44:44\", \"2018-09-20 22:44:47\", \"2018-09-20 22:44:49\", \"2018-09-20 22:44:51\", \"2018-09-20 22:44:52\", \"2018-09-20 22:44:54\", \"2018-09-20 22:44:56\", \"2018-09-20 22:44:57\", \"2018-09-20 22:49:14\", \"2018-09-20 22:49:20\", \"2018-09-20 22:49:23\", \"2018-09-20 22:49:25\", \"2018-09-20 22:49:27\", \"2018-09-20 22:52:09\", \"2018-09-20 22:52:12\", \"2018-09-20 22:52:22\", \"2018-09-20 22:52:46\", \"2018-09-20 22:52:47\", \"2018-09-20 22:58:29\", \"2018-09-20 22:58:30\", \"2018-09-20 22:59:14\", \"2018-09-20 23:12:27\", \"2018-09-20 23:12:28\", \"2018-09-20 23:13:50\", \"2018-09-20 23:13:51\", \"2018-09-20 23:13:55\", \"2018-09-20 23:14:04\", \"2018-09-20 23:14:06\", \"2018-09-20 23:14:23\", \"2018-09-20 23:14:24\", \"2018-09-20 23:14:45\", \"2018-09-20 23:14:48\", \"2018-09-20 23:14:49\", \"2018-09-20 23:14:50\", \"2018-09-20 23:14:51\", \"2018-09-20 23:14:52\", \"2018-09-20 23:14:53\", \"2018-09-20 23:16:20\", \"2018-09-20 23:16:28\", \"2018-09-20 23:16:32\", \"2018-09-20 23:16:34\", \"2018-09-20 23:16:35\", \"2018-09-20 23:16:36\", \"2018-09-20 23:16:47\", \"2018-09-20 23:18:19\", \"2018-09-20 23:19:26\", \"2018-09-20 23:19:28\", \"2018-09-20 23:19:30\", \"2018-09-20 23:24:42\", \"2018-09-20 23:24:46\", \"2018-09-20 23:24:50\", \"2018-09-20 23:27:31\", \"2018-09-20 23:36:46\", \"2018-09-20 23:36:48\", \"2018-09-20 23:36:50\", \"2018-09-20 23:36:52\", \"2018-09-20 23:36:54\", \"2018-09-20 23:36:56\", \"2018-09-20 23:36:59\", \"2018-09-20 23:37:01\", \"2018-09-20 23:37:04\", \"2018-09-20 23:37:14\", \"2018-09-20 23:41:10\", \"2018-09-20 23:43:06\", \"2018-09-20 23:43:07\", \"2018-09-20 23:48:28\", \"2018-09-20 23:48:29\", \"2018-09-20 23:48:56\", \"2018-09-20 23:48:57\", \"2018-09-20 23:48:58\", \"2018-09-20 23:49:23\", \"2018-09-20 23:49:24\", \"2018-09-20 23:49:33\", \"2018-09-20 23:49:44\", \"2018-09-20 23:49:45\", \"2018-09-20 23:49:55\", \"2018-09-20 23:49:56\", \"2018-09-20 23:49:57\", \"2018-09-20 23:49:59\", \"2018-09-20 23:50:00\", \"2018-09-20 23:50:01\", \"2018-09-20 23:50:02\", \"2018-09-20 23:50:04\", \"2018-09-20 23:50:05\", \"2018-09-20 23:50:06\", \"2018-09-20 23:52:09\", \"2018-09-20 23:52:13\", \"2018-09-20 23:52:16\", \"2018-09-20 23:52:17\", \"2018-09-20 23:52:25\", \"2018-09-20 23:52:26\", \"2018-09-20 23:52:28\", \"2018-09-20 23:53:00\", \"2018-09-20 23:53:19\", \"2018-09-20 23:53:20\", \"2018-09-20 23:53:22\", \"2018-09-20 23:53:23\", \"2018-09-20 23:53:25\", \"2018-09-20 23:53:40\", \"2018-09-20 23:53:41\", \"2018-09-20 23:53:42\", \"2018-09-20 23:53:43\", \"2018-09-20 23:53:44\", \"2018-09-20 23:53:45\", \"2018-09-20 23:55:05\", \"2018-09-20 23:55:08\", \"2018-09-20 23:55:10\", \"2018-09-20 23:55:13\", \"2018-09-20 23:55:16\", \"2018-09-21 00:02:11\", \"2018-09-21 00:04:52\", \"2018-09-21 00:04:53\", \"2018-09-21 00:04:58\", \"2018-09-21 00:04:59\", \"2018-09-21 00:07:53\", \"2018-09-21 00:07:54\", \"2018-09-21 00:07:55\", \"2018-09-21 00:07:56\", \"2018-09-21 00:24:28\", \"2018-09-21 00:24:29\", \"2018-09-21 00:25:25\", \"2018-09-21 00:25:26\", \"2018-09-21 00:25:39\", \"2018-09-21 00:25:53\", \"2018-09-21 00:26:30\", \"2018-09-21 00:27:01\", \"2018-09-21 00:28:14\", \"2018-09-21 00:28:15\", \"2018-09-21 00:28:42\", \"2018-09-21 00:28:49\", \"2018-09-21 00:30:07\", \"2018-09-21 00:30:10\", \"2018-09-21 00:30:38\", \"2018-09-21 00:30:49\", \"2018-09-21 00:31:01\", \"2018-09-21 00:32:13\", \"2018-09-21 00:36:31\", \"2018-09-21 00:39:18\", \"2018-09-21 00:39:27\", \"2018-09-21 00:39:53\", \"2018-09-21 00:41:20\", \"2018-09-21 00:43:13\", \"2018-09-21 00:43:14\", \"2018-09-21 01:00:28\", \"2018-09-21 01:01:16\", \"2018-09-21 01:01:40\", \"2018-09-21 01:01:41\", \"2018-09-21 01:01:47\", \"2018-09-21 01:01:58\", \"2018-09-21 01:01:59\", \"2018-09-21 01:02:14\", \"2018-09-21 01:02:26\", \"2018-09-21 01:02:28\", \"2018-09-21 01:02:29\", \"2018-09-21 01:02:30\", \"2018-09-21 01:02:33\", \"2018-09-21 01:02:34\", \"2018-09-21 01:02:35\", \"2018-09-21 01:02:36\", \"2018-09-21 01:02:37\", \"2018-09-21 01:03:51\", \"2018-09-21 01:04:00\", \"2018-09-21 01:04:22\", \"2018-09-21 01:04:23\", \"2018-09-21 01:05:47\", \"2018-09-21 01:06:12\", \"2018-09-21 01:11:46\", \"2018-09-21 01:11:49\", \"2018-09-21 01:13:38\", \"2018-09-21 01:13:41\", \"2018-09-21 01:14:26\", \"2018-09-21 01:14:45\", \"2018-09-21 01:15:20\", \"2018-09-21 01:15:50\", \"2018-09-21 01:19:02\", \"2018-09-21 01:19:04\", \"2018-09-21 01:36:28\", \"2018-09-21 01:37:55\", \"2018-09-21 01:38:03\", \"2018-09-21 01:38:04\", \"2018-09-21 01:38:05\", \"2018-09-21 01:40:00\", \"2018-09-21 01:40:01\", \"2018-09-21 01:41:06\", \"2018-09-21 01:42:46\", \"2018-09-21 01:49:07\", \"2018-09-21 01:49:18\", \"2018-09-21 01:49:28\", \"2018-09-21 01:50:00\", \"2018-09-21 01:50:02\", \"2018-09-21 01:50:04\", \"2018-09-21 01:52:00\", \"2018-09-21 01:53:33\", \"2018-09-21 01:53:35\", \"2018-09-21 02:12:27\", \"2018-09-21 02:13:26\", \"2018-09-21 02:13:29\", \"2018-09-21 02:13:40\", \"2018-09-21 02:13:41\", \"2018-09-21 02:13:48\", \"2018-09-21 02:13:51\", \"2018-09-21 02:13:52\", \"2018-09-21 02:13:54\", \"2018-09-21 02:13:55\", \"2018-09-21 02:13:56\", \"2018-09-21 02:13:57\", \"2018-09-21 02:13:58\", \"2018-09-21 02:14:02\", \"2018-09-21 02:14:09\", \"2018-09-21 02:14:10\", \"2018-09-21 02:15:29\", \"2018-09-21 02:15:38\", \"2018-09-21 02:25:22\", \"2018-09-21 02:25:23\", \"2018-09-21 02:25:50\", \"2018-09-21 02:25:51\", \"2018-09-21 02:25:52\", \"2018-09-21 02:28:34\", \"2018-09-21 02:28:35\", \"2018-09-21 02:28:36\", \"2018-09-21 02:49:28\", \"2018-09-21 02:49:45\", \"2018-09-21 02:49:46\", \"2018-09-21 03:01:26\", \"2018-09-21 03:02:01\", \"2018-09-21 03:03:56\", \"2018-09-21 03:24:28\", \"2018-09-21 03:25:50\", \"2018-09-21 03:30:18\", \"2018-09-21 03:30:20\", \"2018-09-21 03:38:55\", \"2018-09-21 03:38:56\", \"2018-09-21 04:01:35\", \"2018-09-21 04:01:36\", \"2018-09-21 04:06:08\", \"2018-09-21 04:12:44\", \"2018-09-21 04:14:55\", \"2018-09-21 04:14:57\", \"2018-09-21 04:36:29\", \"2018-09-21 04:37:36\", \"2018-09-21 04:37:49\", \"2018-09-21 04:44:44\", \"2018-09-21 05:14:04\", \"2018-09-21 05:18:03\", \"2018-09-21 05:18:04\", \"2018-09-21 05:49:46\", \"2018-09-21 05:54:04\", \"2018-09-21 06:03:54\", \"2018-09-21 06:27:40\", \"2018-09-21 06:27:41\", \"2018-09-21 06:29:04\", \"2018-09-21 06:33:15\", \"2018-09-21 06:33:16\", \"2018-09-21 06:37:09\", \"2018-09-21 06:37:10\", \"2018-09-21 06:37:19\", \"2018-09-21 06:39:05\", \"2018-09-21 07:02:01\", \"2018-09-21 07:09:11\", \"2018-09-21 07:09:12\", \"2018-09-21 07:36:27\", \"2018-09-21 07:36:28\", \"2018-09-21 07:37:35\", \"2018-09-21 07:37:47\", \"2018-09-21 07:37:55\", \"2018-09-21 07:39:17\", \"2018-09-21 07:40:23\", \"2018-09-21 07:40:32\", \"2018-09-21 07:44:41\", \"2018-09-21 07:44:42\", \"2018-09-21 07:45:40\", \"2018-09-21 07:49:02\", \"2018-09-21 07:49:03\", \"2018-09-21 07:49:07\", \"2018-09-21 07:49:29\", \"2018-09-21 07:51:12\", \"2018-09-21 08:12:28\", \"2018-09-21 08:13:09\", \"2018-09-21 08:13:32\", \"2018-09-21 08:13:33\", \"2018-09-21 08:13:34\", \"2018-09-21 08:13:48\", \"2018-09-21 08:15:17\", \"2018-09-21 08:15:18\", \"2018-09-21 08:15:19\", \"2018-09-21 08:15:20\", \"2018-09-21 08:15:21\", \"2018-09-21 08:15:22\", \"2018-09-21 08:15:43\", \"2018-09-21 08:15:45\", \"2018-09-21 08:15:47\", \"2018-09-21 08:15:48\", \"2018-09-21 08:15:49\", \"2018-09-21 08:15:50\", \"2018-09-21 08:15:51\", \"2018-09-21 08:17:19\", \"2018-09-21 08:17:20\", \"2018-09-21 08:18:38\", \"2018-09-21 08:21:25\", \"2018-09-21 08:21:26\", \"2018-09-21 08:22:22\", \"2018-09-21 08:22:25\", \"2018-09-21 08:22:27\", \"2018-09-21 08:22:29\", \"2018-09-21 08:24:55\", \"2018-09-21 08:24:57\", \"2018-09-21 08:25:11\", \"2018-09-21 08:25:17\", \"2018-09-21 08:25:18\", \"2018-09-21 08:25:19\", \"2018-09-21 08:25:41\", \"2018-09-21 08:25:42\", \"2018-09-21 08:27:27\", \"2018-09-21 08:48:23\", \"2018-09-21 08:48:24\", \"2018-09-21 08:48:25\", \"2018-09-21 08:48:26\", \"2018-09-21 08:48:27\", \"2018-09-21 08:48:28\", \"2018-09-21 08:49:21\", \"2018-09-21 08:49:29\", \"2018-09-21 08:49:40\", \"2018-09-21 08:49:42\", \"2018-09-21 08:49:43\", \"2018-09-21 08:51:44\", \"2018-09-21 08:51:45\", \"2018-09-21 08:51:46\", \"2018-09-21 08:52:29\", \"2018-09-21 08:55:13\", \"2018-09-21 08:55:15\", \"2018-09-21 08:55:17\", \"2018-09-21 08:55:20\", \"2018-09-21 08:58:07\", \"2018-09-21 08:58:08\", \"2018-09-21 08:59:35\", \"2018-09-21 08:59:38\", \"2018-09-21 08:59:43\", \"2018-09-21 08:59:46\", \"2018-09-21 09:01:09\", \"2018-09-21 09:02:24\", \"2018-09-21 09:02:35\", \"2018-09-21 09:02:36\", \"2018-09-21 09:02:43\", \"2018-09-21 09:02:45\", \"2018-09-21 09:02:47\", \"2018-09-21 09:02:48\", \"2018-09-21 09:03:11\", \"2018-09-21 09:03:12\", \"2018-09-21 09:03:13\", \"2018-09-21 09:03:14\", \"2018-09-21 09:03:15\", \"2018-09-21 09:03:16\", \"2018-09-21 09:03:44\", \"2018-09-21 09:08:58\", \"2018-09-21 09:08:59\", \"2018-09-21 09:24:27\", \"2018-09-21 09:24:28\", \"2018-09-21 09:24:29\", \"2018-09-21 09:24:30\", \"2018-09-21 09:24:31\", \"2018-09-21 09:25:26\", \"2018-09-21 09:25:35\", \"2018-09-21 09:25:36\", \"2018-09-21 09:25:37\", \"2018-09-21 09:25:40\", \"2018-09-21 09:25:47\", \"2018-09-21 09:25:48\", \"2018-09-21 09:26:04\", \"2018-09-21 09:27:49\", \"2018-09-21 09:27:50\", \"2018-09-21 09:27:51\", \"2018-09-21 09:28:09\", \"2018-09-21 09:28:14\", \"2018-09-21 09:28:15\", \"2018-09-21 09:28:16\", \"2018-09-21 09:28:17\", \"2018-09-21 09:29:39\", \"2018-09-21 09:29:40\", \"2018-09-21 09:29:41\", \"2018-09-21 09:29:42\", \"2018-09-21 09:31:07\", \"2018-09-21 09:33:57\", \"2018-09-21 09:33:58\", \"2018-09-21 09:34:00\", \"2018-09-21 09:35:02\", \"2018-09-21 09:35:05\", \"2018-09-21 09:35:09\", \"2018-09-21 09:35:13\", \"2018-09-21 09:37:34\", \"2018-09-21 09:37:44\", \"2018-09-21 09:37:46\", \"2018-09-21 09:37:47\", \"2018-09-21 09:37:50\", \"2018-09-21 09:37:53\", \"2018-09-21 09:38:18\", \"2018-09-21 09:38:19\", \"2018-09-21 09:41:31\", \"2018-09-21 09:41:32\", \"2018-09-21 09:41:33\", \"2018-09-21 10:00:25\", \"2018-09-21 10:00:26\", \"2018-09-21 10:00:27\", \"2018-09-21 10:00:28\", \"2018-09-21 10:01:12\", \"2018-09-21 10:01:28\", \"2018-09-21 10:01:51\", \"2018-09-21 10:01:52\", \"2018-09-21 10:02:05\", \"2018-09-21 10:02:18\", \"2018-09-21 10:03:41\", \"2018-09-21 10:04:11\", \"2018-09-21 10:04:13\", \"2018-09-21 10:04:14\", \"2018-09-21 10:04:15\", \"2018-09-21 10:04:16\", \"2018-09-21 10:05:46\", \"2018-09-21 10:05:47\", \"2018-09-21 10:09:55\", \"2018-09-21 10:09:57\", \"2018-09-21 10:11:04\", \"2018-09-21 10:11:08\", \"2018-09-21 10:14:00\", \"2018-09-21 10:14:09\", \"2018-09-21 10:14:11\", \"2018-09-21 10:14:25\", \"2018-09-21 10:14:26\", \"2018-09-21 10:17:32\", \"2018-09-21 10:17:33\", \"2018-09-21 10:17:35\", \"2018-09-21 10:36:26\", \"2018-09-21 10:36:27\", \"2018-09-21 10:36:28\", \"2018-09-21 10:36:29\", \"2018-09-21 10:36:30\", \"2018-09-21 10:36:35\", \"2018-09-21 10:37:35\", \"2018-09-21 10:37:38\", \"2018-09-21 10:37:40\", \"2018-09-21 10:37:52\", \"2018-09-21 10:37:53\", \"2018-09-21 10:37:54\", \"2018-09-21 10:37:55\", \"2018-09-21 10:39:34\", \"2018-09-21 10:39:35\", \"2018-09-21 10:39:36\", \"2018-09-21 10:39:47\", \"2018-09-21 10:39:51\", \"2018-09-21 10:40:29\", \"2018-09-21 10:40:45\", \"2018-09-21 10:41:23\", \"2018-09-21 10:41:24\", \"2018-09-21 10:45:35\", \"2018-09-21 10:45:37\", \"2018-09-21 10:45:38\", \"2018-09-21 10:46:11\", \"2018-09-21 10:46:47\", \"2018-09-21 10:46:50\", \"2018-09-21 10:46:54\", \"2018-09-21 10:46:57\", \"2018-09-21 10:49:28\", \"2018-09-21 10:49:29\", \"2018-09-21 10:49:37\", \"2018-09-21 10:49:39\", \"2018-09-21 10:49:41\", \"2018-09-21 10:49:42\", \"2018-09-21 10:49:44\", \"2018-09-21 10:49:46\", \"2018-09-21 10:49:48\", \"2018-09-21 10:49:50\", \"2018-09-21 10:49:51\", \"2018-09-21 10:49:52\", \"2018-09-21 10:50:05\", \"2018-09-21 10:50:07\", \"2018-09-21 10:50:08\", \"2018-09-21 10:50:09\", \"2018-09-21 10:52:59\", \"2018-09-21 10:53:00\", \"2018-09-21 10:53:01\", \"2018-09-21 10:56:46\", \"2018-09-21 10:56:47\", \"2018-09-21 10:56:48\", \"2018-09-21 11:12:30\", \"2018-09-21 11:12:31\", \"2018-09-21 11:13:21\", \"2018-09-21 11:13:22\", \"2018-09-21 11:13:23\", \"2018-09-21 11:13:24\", \"2018-09-21 11:13:51\", \"2018-09-21 11:13:52\", \"2018-09-21 11:14:10\", \"2018-09-21 11:14:37\", \"2018-09-21 11:16:20\", \"2018-09-21 11:16:39\", \"2018-09-21 11:17:25\", \"2018-09-21 11:17:27\", \"2018-09-21 11:17:28\", \"2018-09-21 11:17:53\", \"2018-09-21 11:18:11\", \"2018-09-21 11:19:28\", \"2018-09-21 11:22:19\", \"2018-09-21 11:22:20\", \"2018-09-21 11:23:40\", \"2018-09-21 11:23:44\", \"2018-09-21 11:26:41\", \"2018-09-21 11:27:03\", \"2018-09-21 11:27:04\", \"2018-09-21 11:27:14\", \"2018-09-21 11:27:16\", \"2018-09-21 11:27:17\", \"2018-09-21 11:27:48\", \"2018-09-21 11:27:49\", \"2018-09-21 11:27:50\", \"2018-09-21 11:27:51\", \"2018-09-21 11:27:52\", \"2018-09-21 11:27:54\", \"2018-09-21 11:27:55\", \"2018-09-21 11:31:52\", \"2018-09-21 11:31:53\", \"2018-09-21 11:31:54\", \"2018-09-21 11:48:27\", \"2018-09-21 11:48:28\", \"2018-09-21 11:48:29\", \"2018-09-21 11:48:30\", \"2018-09-21 11:48:31\", \"2018-09-21 11:49:08\", \"2018-09-21 11:49:09\", \"2018-09-21 11:49:23\", \"2018-09-21 11:49:27\", \"2018-09-21 11:49:29\", \"2018-09-21 11:49:31\", \"2018-09-21 11:49:34\", \"2018-09-21 11:49:39\", \"2018-09-21 11:49:40\", \"2018-09-21 11:49:41\", \"2018-09-21 11:49:53\", \"2018-09-21 11:49:54\", \"2018-09-21 11:49:55\", \"2018-09-21 11:50:07\", \"2018-09-21 11:50:22\", \"2018-09-21 11:50:23\", \"2018-09-21 11:50:24\", \"2018-09-21 11:50:25\", \"2018-09-21 11:52:03\", \"2018-09-21 11:52:05\", \"2018-09-21 11:52:12\", \"2018-09-21 11:52:37\", \"2018-09-21 11:52:38\", \"2018-09-21 11:52:40\", \"2018-09-21 11:53:46\", \"2018-09-21 11:55:07\", \"2018-09-21 11:55:08\", \"2018-09-21 11:55:10\", \"2018-09-21 11:58:01\", \"2018-09-21 11:59:12\", \"2018-09-21 12:01:33\", \"2018-09-21 12:01:34\", \"2018-09-21 12:02:03\", \"2018-09-21 12:02:12\", \"2018-09-21 12:02:14\", \"2018-09-21 12:02:18\", \"2018-09-21 12:04:40\", \"2018-09-21 12:07:16\", \"2018-09-21 12:07:17\", \"2018-09-21 12:07:18\", \"2018-09-21 12:07:19\", \"2018-09-21 12:07:21\", \"2018-09-21 12:07:22\", \"2018-09-21 12:24:31\", \"2018-09-21 12:24:32\", \"2018-09-21 12:24:33\", \"2018-09-21 12:25:11\", \"2018-09-21 12:25:12\", \"2018-09-21 12:25:13\", \"2018-09-21 12:25:14\", \"2018-09-21 12:25:36\", \"2018-09-21 12:25:37\", \"2018-09-21 12:25:42\", \"2018-09-21 12:25:45\", \"2018-09-21 12:25:52\", \"2018-09-21 12:25:55\", \"2018-09-21 12:25:58\", \"2018-09-21 12:26:13\", \"2018-09-21 12:26:14\", \"2018-09-21 12:28:10\", \"2018-09-21 12:28:24\", \"2018-09-21 12:28:25\", \"2018-09-21 12:29:17\", \"2018-09-21 12:29:19\", \"2018-09-21 12:29:21\", \"2018-09-21 12:31:49\", \"2018-09-21 12:31:51\", \"2018-09-21 12:34:42\", \"2018-09-21 12:35:45\", \"2018-09-21 12:35:46\", \"2018-09-21 12:35:49\", \"2018-09-21 12:35:51\", \"2018-09-21 12:37:40\", \"2018-09-21 12:37:41\", \"2018-09-21 12:37:52\", \"2018-09-21 12:37:53\", \"2018-09-21 12:37:54\", \"2018-09-21 12:38:00\", \"2018-09-21 12:38:02\", \"2018-09-21 12:38:04\", \"2018-09-21 12:38:05\", \"2018-09-21 12:38:06\", \"2018-09-21 12:38:32\", \"2018-09-21 12:38:33\", \"2018-09-21 12:38:34\", \"2018-09-21 12:42:08\", \"2018-09-21 12:42:09\", \"2018-09-21 12:42:19\", \"2018-09-21 12:42:20\", \"2018-09-21 12:42:37\", \"2018-09-21 12:46:33\", \"2018-09-21 12:46:40\", \"2018-09-21 12:46:41\", \"2018-09-21 12:46:42\", \"2018-09-21 12:46:44\", \"2018-09-21 13:00:28\", \"2018-09-21 13:00:29\", \"2018-09-21 13:00:30\", \"2018-09-21 13:01:14\", \"2018-09-21 13:01:16\", \"2018-09-21 13:01:18\", \"2018-09-21 13:01:20\", \"2018-09-21 13:01:21\", \"2018-09-21 13:01:22\", \"2018-09-21 13:01:23\", \"2018-09-21 13:01:24\", \"2018-09-21 13:01:50\", \"2018-09-21 13:01:51\", \"2018-09-21 13:01:54\", \"2018-09-21 13:02:00\", \"2018-09-21 13:02:03\", \"2018-09-21 13:02:06\", \"2018-09-21 13:02:08\", \"2018-09-21 13:02:09\", \"2018-09-21 13:02:26\", \"2018-09-21 13:04:04\", \"2018-09-21 13:04:33\", \"2018-09-21 13:04:34\", \"2018-09-21 13:05:01\", \"2018-09-21 13:05:04\", \"2018-09-21 13:05:18\", \"2018-09-21 13:05:53\", \"2018-09-21 13:05:54\", \"2018-09-21 13:07:20\", \"2018-09-21 13:07:23\", \"2018-09-21 13:10:07\", \"2018-09-21 13:10:08\", \"2018-09-21 13:10:10\", \"2018-09-21 13:11:21\", \"2018-09-21 13:13:05\", \"2018-09-21 13:13:07\", \"2018-09-21 13:13:08\", \"2018-09-21 13:13:17\", \"2018-09-21 13:13:48\", \"2018-09-21 13:13:49\", \"2018-09-21 13:13:50\", \"2018-09-21 13:13:51\", \"2018-09-21 13:13:56\", \"2018-09-21 13:13:58\", \"2018-09-21 13:14:00\", \"2018-09-21 13:14:01\", \"2018-09-21 13:14:04\", \"2018-09-21 13:14:05\", \"2018-09-21 13:14:20\", \"2018-09-21 13:14:29\", \"2018-09-21 13:14:30\", \"2018-09-21 13:14:55\", \"2018-09-21 13:14:56\", \"2018-09-21 13:14:57\", \"2018-09-21 13:14:58\", \"2018-09-21 13:15:08\", \"2018-09-21 13:17:18\", \"2018-09-21 13:17:19\", \"2018-09-21 13:17:20\", \"2018-09-21 13:17:21\", \"2018-09-21 13:17:22\", \"2018-09-21 13:17:50\", \"2018-09-21 13:36:26\", \"2018-09-21 13:36:27\", \"2018-09-21 13:36:29\", \"2018-09-21 13:36:30\", \"2018-09-21 13:36:58\", \"2018-09-21 13:37:21\", \"2018-09-21 13:37:22\", \"2018-09-21 13:37:27\", \"2018-09-21 13:37:28\", \"2018-09-21 13:37:30\", \"2018-09-21 13:37:33\", \"2018-09-21 13:37:37\", \"2018-09-21 13:37:48\", \"2018-09-21 13:37:50\", \"2018-09-21 13:37:51\", \"2018-09-21 13:37:52\", \"2018-09-21 13:37:53\", \"2018-09-21 13:39:31\", \"2018-09-21 13:39:32\", \"2018-09-21 13:40:31\", \"2018-09-21 13:40:32\", \"2018-09-21 13:40:33\", \"2018-09-21 13:41:30\", \"2018-09-21 13:43:01\", \"2018-09-21 13:45:48\", \"2018-09-21 13:45:50\", \"2018-09-21 13:46:25\", \"2018-09-21 13:46:53\", \"2018-09-21 13:46:56\", \"2018-09-21 13:48:36\", \"2018-09-21 13:49:17\", \"2018-09-21 13:49:20\", \"2018-09-21 13:49:28\", \"2018-09-21 13:49:30\", \"2018-09-21 13:49:32\", \"2018-09-21 13:49:34\", \"2018-09-21 13:49:35\", \"2018-09-21 13:50:00\", \"2018-09-21 13:50:01\", \"2018-09-21 13:50:25\", \"2018-09-21 13:50:26\", \"2018-09-21 13:50:27\", \"2018-09-21 13:50:28\", \"2018-09-21 13:50:30\", \"2018-09-21 13:50:32\", \"2018-09-21 13:52:37\", \"2018-09-21 13:52:38\", \"2018-09-21 13:52:39\", \"2018-09-21 13:52:40\", \"2018-09-21 14:12:37\", \"2018-09-21 14:12:38\", \"2018-09-21 14:13:28\", \"2018-09-21 14:13:29\", \"2018-09-21 14:13:42\", \"2018-09-21 14:13:44\", \"2018-09-21 14:13:57\", \"2018-09-21 14:13:59\", \"2018-09-21 14:14:01\", \"2018-09-21 14:14:02\", \"2018-09-21 14:14:03\", \"2018-09-21 14:14:16\", \"2018-09-21 14:14:17\", \"2018-09-21 14:14:24\", \"2018-09-21 14:15:49\", \"2018-09-21 14:16:02\", \"2018-09-21 14:16:11\", \"2018-09-21 14:16:13\", \"2018-09-21 14:16:14\", \"2018-09-21 14:16:15\", \"2018-09-21 14:16:16\", \"2018-09-21 14:16:17\", \"2018-09-21 14:16:18\", \"2018-09-21 14:16:44\", \"2018-09-21 14:16:47\", \"2018-09-21 14:17:00\", \"2018-09-21 14:17:42\", \"2018-09-21 14:17:43\", \"2018-09-21 14:17:44\", \"2018-09-21 14:19:07\", \"2018-09-21 14:19:08\", \"2018-09-21 14:23:14\", \"2018-09-21 14:23:18\", \"2018-09-21 14:23:23\", \"2018-09-21 14:26:24\", \"2018-09-21 14:26:26\", \"2018-09-21 14:26:32\", \"2018-09-21 14:26:34\", \"2018-09-21 14:26:36\", \"2018-09-21 14:26:38\", \"2018-09-21 14:26:39\", \"2018-09-21 14:26:51\", \"2018-09-21 14:27:02\", \"2018-09-21 14:34:10\", \"2018-09-21 14:34:11\", \"2018-09-21 14:34:12\", \"2018-09-21 14:34:13\", \"2018-09-21 14:35:48\", \"2018-09-21 14:37:24\", \"2018-09-21 14:37:25\", \"2018-09-21 14:37:26\", \"2018-09-21 14:37:27\", \"2018-09-21 14:37:29\", \"2018-09-21 14:48:25\", \"2018-09-21 14:48:26\", \"2018-09-21 14:48:27\", \"2018-09-21 14:48:28\", \"2018-09-21 14:48:29\", \"2018-09-21 14:49:17\", \"2018-09-21 14:49:18\", \"2018-09-21 14:49:21\", \"2018-09-21 14:49:26\", \"2018-09-21 14:49:38\", \"2018-09-21 14:49:43\", \"2018-09-21 14:50:02\", \"2018-09-21 14:50:18\", \"2018-09-21 14:50:29\", \"2018-09-21 14:50:31\", \"2018-09-21 14:51:46\", \"2018-09-21 14:51:47\", \"2018-09-21 14:51:48\", \"2018-09-21 14:52:07\", \"2018-09-21 14:52:10\", \"2018-09-21 14:52:12\", \"2018-09-21 14:52:16\", \"2018-09-21 14:52:59\", \"2018-09-21 14:53:45\", \"2018-09-21 14:55:14\", \"2018-09-21 14:58:02\", \"2018-09-21 14:58:04\", \"2018-09-21 14:58:39\", \"2018-09-21 14:59:23\", \"2018-09-21 14:59:25\", \"2018-09-21 14:59:27\", \"2018-09-21 15:01:30\", \"2018-09-21 15:01:32\", \"2018-09-21 15:01:34\", \"2018-09-21 15:01:40\", \"2018-09-21 15:01:44\", \"2018-09-21 15:02:25\", \"2018-09-21 15:02:28\", \"2018-09-21 15:02:30\", \"2018-09-21 15:02:37\", \"2018-09-21 15:02:41\", \"2018-09-21 15:02:43\", \"2018-09-21 15:02:45\", \"2018-09-21 15:02:47\", \"2018-09-21 15:02:49\", \"2018-09-21 15:02:51\", \"2018-09-21 15:02:53\", \"2018-09-21 15:02:55\", \"2018-09-21 15:03:01\", \"2018-09-21 15:03:02\", \"2018-09-21 15:03:03\", \"2018-09-21 15:03:05\", \"2018-09-21 15:03:09\", \"2018-09-21 15:03:20\", \"2018-09-21 15:04:12\", \"2018-09-21 15:04:24\", \"2018-09-21 15:04:51\", \"2018-09-21 15:06:15\", \"2018-09-21 15:06:27\", \"2018-09-21 15:06:28\", \"2018-09-21 15:07:07\", \"2018-09-21 15:07:11\", \"2018-09-21 15:07:12\", \"2018-09-21 15:07:18\", \"2018-09-21 15:09:38\", \"2018-09-21 15:09:39\", \"2018-09-21 15:10:25\", \"2018-09-21 15:22:32\", \"2018-09-21 15:24:28\", \"2018-09-21 15:24:29\", \"2018-09-21 15:24:30\", \"2018-09-21 15:24:31\", \"2018-09-21 15:24:32\", \"2018-09-21 15:24:36\", \"2018-09-21 15:25:36\", \"2018-09-21 15:25:37\", \"2018-09-21 15:25:47\", \"2018-09-21 15:25:48\", \"2018-09-21 15:25:57\", \"2018-09-21 15:25:58\", \"2018-09-21 15:25:59\", \"2018-09-21 15:26:00\", \"2018-09-21 15:26:12\", \"2018-09-21 15:26:38\", \"2018-09-21 15:26:39\", \"2018-09-21 15:28:01\", \"2018-09-21 15:28:02\", \"2018-09-21 15:28:46\", \"2018-09-21 15:28:48\", \"2018-09-21 15:30:18\", \"2018-09-21 15:30:19\", \"2018-09-21 15:31:41\", \"2018-09-21 15:34:32\", \"2018-09-21 15:35:23\", \"2018-09-21 15:35:26\", \"2018-09-21 15:35:27\", \"2018-09-21 15:35:29\", \"2018-09-21 15:35:30\", \"2018-09-21 15:37:07\", \"2018-09-21 15:37:41\", \"2018-09-21 15:37:43\", \"2018-09-21 15:37:44\", \"2018-09-21 15:37:53\", \"2018-09-21 15:37:54\", \"2018-09-21 15:37:55\", \"2018-09-21 15:38:28\", \"2018-09-21 15:38:29\", \"2018-09-21 15:38:30\", \"2018-09-21 15:38:36\", \"2018-09-21 15:38:37\", \"2018-09-21 15:41:30\", \"2018-09-21 15:41:31\", \"2018-09-21 15:41:43\", \"2018-09-21 15:41:44\", \"2018-09-21 15:41:46\", \"2018-09-21 16:00:29\", \"2018-09-21 16:00:30\", \"2018-09-21 16:00:31\", \"2018-09-21 16:00:32\", \"2018-09-21 16:00:34\", \"2018-09-21 16:00:35\", \"2018-09-21 16:00:38\", \"2018-09-21 16:01:08\", \"2018-09-21 16:01:30\", \"2018-09-21 16:01:37\", \"2018-09-21 16:01:39\", \"2018-09-21 16:01:40\", \"2018-09-21 16:01:43\", \"2018-09-21 16:01:59\", \"2018-09-21 16:02:00\", \"2018-09-21 16:03:39\", \"2018-09-21 16:03:49\", \"2018-09-21 16:03:50\", \"2018-09-21 16:03:51\", \"2018-09-21 16:03:52\", \"2018-09-21 16:04:11\", \"2018-09-21 16:04:26\", \"2018-09-21 16:04:27\", \"2018-09-21 16:10:53\", \"2018-09-21 16:10:56\", \"2018-09-21 16:10:58\", \"2018-09-21 16:10:59\", \"2018-09-21 16:11:01\", \"2018-09-21 16:12:30\", \"2018-09-21 16:12:33\", \"2018-09-21 16:13:33\", \"2018-09-21 16:13:34\", \"2018-09-21 16:13:36\", \"2018-09-21 16:13:41\", \"2018-09-21 16:13:42\", \"2018-09-21 16:13:45\", \"2018-09-21 16:14:00\", \"2018-09-21 16:14:01\", \"2018-09-21 16:14:13\", \"2018-09-21 16:14:14\", \"2018-09-21 16:30:10\", \"2018-09-21 16:30:12\", \"2018-09-21 16:32:46\", \"2018-09-21 16:32:47\", \"2018-09-21 16:36:28\", \"2018-09-21 16:36:29\", \"2018-09-21 16:36:30\", \"2018-09-21 16:36:31\", \"2018-09-21 16:36:37\", \"2018-09-21 16:36:38\", \"2018-09-21 16:36:39\", \"2018-09-21 16:36:41\", \"2018-09-21 16:37:11\", \"2018-09-21 16:37:12\", \"2018-09-21 16:37:41\", \"2018-09-21 16:37:48\", \"2018-09-21 16:37:52\", \"2018-09-21 16:37:54\", \"2018-09-21 16:38:04\", \"2018-09-21 16:38:05\", \"2018-09-21 16:38:06\", \"2018-09-21 16:39:51\", \"2018-09-21 16:40:09\", \"2018-09-21 16:40:14\", \"2018-09-21 16:40:15\", \"2018-09-21 16:40:16\", \"2018-09-21 16:40:17\", \"2018-09-21 16:40:18\", \"2018-09-21 16:41:15\", \"2018-09-21 16:41:43\", \"2018-09-21 16:43:05\", \"2018-09-21 16:43:06\", \"2018-09-21 16:45:47\", \"2018-09-21 16:45:48\", \"2018-09-21 16:46:50\", \"2018-09-21 16:46:52\", \"2018-09-21 16:46:53\", \"2018-09-21 16:47:11\", \"2018-09-21 16:48:03\", \"2018-09-21 16:48:10\", \"2018-09-21 16:48:18\", \"2018-09-21 16:48:41\", \"2018-09-21 16:48:42\", \"2018-09-21 16:48:48\", \"2018-09-21 16:48:50\", \"2018-09-21 16:48:54\", \"2018-09-21 16:48:56\", \"2018-09-21 16:48:58\", \"2018-09-21 16:49:12\", \"2018-09-21 16:49:21\", \"2018-09-21 16:49:24\", \"2018-09-21 16:49:25\", \"2018-09-21 16:49:26\", \"2018-09-21 16:50:58\", \"2018-09-21 16:52:15\", \"2018-09-21 16:52:21\", \"2018-09-21 16:52:23\", \"2018-09-21 16:52:40\", \"2018-09-21 16:52:43\", \"2018-09-21 16:52:45\", \"2018-09-21 16:53:20\", \"2018-09-21 16:55:09\", \"2018-09-21 16:55:10\", \"2018-09-21 16:55:11\", \"2018-09-21 16:55:12\", \"2018-09-21 17:12:23\", \"2018-09-21 17:12:27\", \"2018-09-21 17:12:28\", \"2018-09-21 17:12:29\", \"2018-09-21 17:12:30\", \"2018-09-21 17:12:31\", \"2018-09-21 17:13:14\", \"2018-09-21 17:13:15\", \"2018-09-21 17:13:16\", \"2018-09-21 17:13:27\", \"2018-09-21 17:13:31\", \"2018-09-21 17:13:32\", \"2018-09-21 17:13:33\", \"2018-09-21 17:13:45\", \"2018-09-21 17:13:51\", \"2018-09-21 17:13:54\", \"2018-09-21 17:13:57\", \"2018-09-21 17:14:00\", \"2018-09-21 17:14:02\", \"2018-09-21 17:14:04\", \"2018-09-21 17:14:07\", \"2018-09-21 17:14:09\", \"2018-09-21 17:14:10\", \"2018-09-21 17:14:11\", \"2018-09-21 17:15:50\", \"2018-09-21 17:15:51\", \"2018-09-21 17:15:52\", \"2018-09-21 17:17:15\", \"2018-09-21 17:17:30\", \"2018-09-21 17:17:52\", \"2018-09-21 17:19:20\", \"2018-09-21 17:19:22\", \"2018-09-21 17:19:23\", \"2018-09-21 17:22:10\", \"2018-09-21 17:23:03\", \"2018-09-21 17:24:17\", \"2018-09-21 17:24:19\", \"2018-09-21 17:24:47\", \"2018-09-21 17:24:55\", \"2018-09-21 17:24:57\", \"2018-09-21 17:25:07\", \"2018-09-21 17:25:12\", \"2018-09-21 17:25:18\", \"2018-09-21 17:26:41\", \"2018-09-21 17:27:24\", \"2018-09-21 17:27:25\", \"2018-09-21 17:29:42\", \"2018-09-21 17:29:43\", \"2018-09-21 17:29:44\", \"2018-09-21 17:29:46\", \"2018-09-21 17:29:48\", \"2018-09-21 17:29:50\", \"2018-09-21 17:29:53\", \"2018-09-21 17:31:36\", \"2018-09-21 17:31:37\", \"2018-09-21 17:31:38\", \"2018-09-21 17:31:39\", \"2018-09-21 17:48:26\", \"2018-09-21 17:48:27\", \"2018-09-21 17:48:28\", \"2018-09-21 17:48:29\", \"2018-09-21 17:48:36\", \"2018-09-21 17:49:02\", \"2018-09-21 17:49:03\", \"2018-09-21 17:49:04\", \"2018-09-21 17:49:33\", \"2018-09-21 17:49:34\", \"2018-09-21 17:49:35\", \"2018-09-21 17:49:52\", \"2018-09-21 17:49:55\", \"2018-09-21 17:49:57\", \"2018-09-21 17:49:59\", \"2018-09-21 17:50:02\", \"2018-09-21 17:50:04\", \"2018-09-21 17:50:07\", \"2018-09-21 17:50:09\", \"2018-09-21 17:50:11\", \"2018-09-21 17:50:43\", \"2018-09-21 17:50:46\", \"2018-09-21 17:50:48\", \"2018-09-21 17:51:30\", \"2018-09-21 17:52:12\", \"2018-09-21 17:52:13\", \"2018-09-21 17:52:14\", \"2018-09-21 17:52:39\", \"2018-09-21 17:52:40\", \"2018-09-21 17:52:41\", \"2018-09-21 17:52:42\", \"2018-09-21 17:53:21\", \"2018-09-21 17:53:23\", \"2018-09-21 17:53:24\", \"2018-09-21 17:53:58\", \"2018-09-21 17:53:59\", \"2018-09-21 17:54:41\", \"2018-09-21 17:55:18\", \"2018-09-21 17:55:21\", \"2018-09-21 17:55:24\", \"2018-09-21 17:58:08\", \"2018-09-21 17:58:10\", \"2018-09-21 17:58:11\", \"2018-09-21 17:58:57\", \"2018-09-21 17:58:59\", \"2018-09-21 18:00:01\", \"2018-09-21 18:00:47\", \"2018-09-21 18:00:48\", \"2018-09-21 18:00:55\", \"2018-09-21 18:00:57\", \"2018-09-21 18:00:59\", \"2018-09-21 18:01:00\", \"2018-09-21 18:04:02\", \"2018-09-21 18:04:05\", \"2018-09-21 18:04:08\", \"2018-09-21 18:04:10\", \"2018-09-21 18:04:11\", \"2018-09-21 18:04:25\", \"2018-09-21 18:04:26\", \"2018-09-21 18:12:19\", \"2018-09-21 18:12:20\", \"2018-09-21 18:12:21\", \"2018-09-21 18:16:43\", \"2018-09-21 18:16:44\", \"2018-09-21 18:24:33\", \"2018-09-21 18:24:34\", \"2018-09-21 18:25:09\", \"2018-09-21 18:25:42\", \"2018-09-21 18:25:53\", \"2018-09-21 18:25:56\", \"2018-09-21 18:25:57\", \"2018-09-21 18:26:10\", \"2018-09-21 18:26:13\", \"2018-09-21 18:26:15\", \"2018-09-21 18:26:17\", \"2018-09-21 18:26:19\", \"2018-09-21 18:26:35\", \"2018-09-21 18:26:52\", \"2018-09-21 18:28:16\", \"2018-09-21 18:28:17\", \"2018-09-21 18:28:18\", \"2018-09-21 18:28:51\", \"2018-09-21 18:30:09\", \"2018-09-21 18:31:29\", \"2018-09-21 18:31:31\", \"2018-09-21 18:31:33\", \"2018-09-21 18:31:34\", \"2018-09-21 18:34:25\", \"2018-09-21 18:35:18\", \"2018-09-21 18:35:20\", \"2018-09-21 18:35:21\", \"2018-09-21 18:37:06\", \"2018-09-21 18:37:08\", \"2018-09-21 18:37:14\", \"2018-09-21 18:37:16\", \"2018-09-21 18:37:18\", \"2018-09-21 18:37:20\", \"2018-09-21 18:37:22\", \"2018-09-21 18:37:24\", \"2018-09-21 18:37:26\", \"2018-09-21 18:37:41\", \"2018-09-21 18:37:49\", \"2018-09-21 18:37:50\", \"2018-09-21 18:37:51\", \"2018-09-21 18:38:05\", \"2018-09-21 18:38:09\", \"2018-09-21 18:38:11\", \"2018-09-21 18:38:13\", \"2018-09-21 18:38:16\", \"2018-09-21 18:38:18\", \"2018-09-21 18:38:19\", \"2018-09-21 18:38:20\", \"2018-09-21 18:38:21\", \"2018-09-21 18:38:22\", \"2018-09-21 18:38:23\", \"2018-09-21 18:38:24\", \"2018-09-21 18:38:25\", \"2018-09-21 18:38:26\", \"2018-09-21 18:38:30\", \"2018-09-21 18:38:32\", \"2018-09-21 18:38:40\", \"2018-09-21 18:39:55\", \"2018-09-21 18:39:56\", \"2018-09-21 18:39:57\", \"2018-09-21 18:39:58\", \"2018-09-21 18:40:00\", \"2018-09-21 19:00:24\", \"2018-09-21 19:00:25\", \"2018-09-21 19:00:26\", \"2018-09-21 19:00:27\", \"2018-09-21 19:00:28\", \"2018-09-21 19:00:30\", \"2018-09-21 19:01:10\", \"2018-09-21 19:01:11\", \"2018-09-21 19:01:12\", \"2018-09-21 19:01:13\", \"2018-09-21 19:01:36\", \"2018-09-21 19:01:41\", \"2018-09-21 19:01:45\", \"2018-09-21 19:01:47\", \"2018-09-21 19:01:49\", \"2018-09-21 19:01:50\", \"2018-09-21 19:02:06\", \"2018-09-21 19:02:35\", \"2018-09-21 19:02:36\", \"2018-09-21 19:02:37\", \"2018-09-21 19:04:08\", \"2018-09-21 19:04:09\", \"2018-09-21 19:04:10\", \"2018-09-21 19:04:44\", \"2018-09-21 19:06:16\", \"2018-09-21 19:06:17\", \"2018-09-21 19:06:18\", \"2018-09-21 19:07:47\", \"2018-09-21 19:07:50\", \"2018-09-21 19:07:51\", \"2018-09-21 19:10:45\", \"2018-09-21 19:10:46\", \"2018-09-21 19:11:17\", \"2018-09-21 19:12:39\", \"2018-09-21 19:13:27\", \"2018-09-21 19:13:29\", \"2018-09-21 19:13:31\", \"2018-09-21 19:13:59\", \"2018-09-21 19:14:00\", \"2018-09-21 19:14:01\", \"2018-09-21 19:16:44\", \"2018-09-21 19:16:45\", \"2018-09-21 19:16:46\", \"2018-09-21 19:36:35\", \"2018-09-21 19:36:36\", \"2018-09-21 19:36:37\", \"2018-09-21 19:38:19\", \"2018-09-21 19:38:38\", \"2018-09-21 19:38:39\", \"2018-09-21 19:38:53\", \"2018-09-21 19:38:56\", \"2018-09-21 19:39:05\", \"2018-09-21 19:39:06\", \"2018-09-21 19:39:07\", \"2018-09-21 19:39:39\", \"2018-09-21 19:39:40\", \"2018-09-21 19:40:58\", \"2018-09-21 19:43:14\", \"2018-09-21 19:44:38\", \"2018-09-21 19:44:44\", \"2018-09-21 19:47:30\", \"2018-09-21 19:47:31\", \"2018-09-21 19:48:14\", \"2018-09-21 19:48:15\", \"2018-09-21 19:48:17\", \"2018-09-21 19:48:18\", \"2018-09-21 19:49:02\", \"2018-09-21 19:49:38\", \"2018-09-21 19:49:40\", \"2018-09-21 19:50:13\", \"2018-09-21 19:50:32\", \"2018-09-21 19:50:44\", \"2018-09-21 19:50:45\", \"2018-09-21 19:53:21\", \"2018-09-21 19:53:22\", \"2018-09-21 19:53:23\", \"2018-09-21 19:53:24\", \"2018-09-21 19:53:25\", \"2018-09-21 19:53:26\", \"2018-09-21 19:53:27\", \"2018-09-21 19:53:28\", \"2018-09-21 19:53:30\", \"2018-09-21 20:12:26\", \"2018-09-21 20:12:27\", \"2018-09-21 20:12:28\", \"2018-09-21 20:12:29\", \"2018-09-21 20:12:30\", \"2018-09-21 20:12:31\", \"2018-09-21 20:13:25\", \"2018-09-21 20:13:26\", \"2018-09-21 20:13:30\", \"2018-09-21 20:13:31\", \"2018-09-21 20:13:38\", \"2018-09-21 20:13:51\", \"2018-09-21 20:13:52\", \"2018-09-21 20:13:53\", \"2018-09-21 20:15:44\", \"2018-09-21 20:15:45\", \"2018-09-21 20:16:07\", \"2018-09-21 20:17:52\", \"2018-09-21 20:17:53\", \"2018-09-21 20:19:19\", \"2018-09-21 20:19:21\", \"2018-09-21 20:22:15\", \"2018-09-21 20:22:16\", \"2018-09-21 20:22:17\", \"2018-09-21 20:22:19\", \"2018-09-21 20:22:20\", \"2018-09-21 20:22:53\", \"2018-09-21 20:23:13\", \"2018-09-21 20:23:14\", \"2018-09-21 20:23:16\", \"2018-09-21 20:24:50\", \"2018-09-21 20:25:00\", \"2018-09-21 20:25:38\", \"2018-09-21 20:25:45\", \"2018-09-21 20:25:46\", \"2018-09-21 20:25:47\", \"2018-09-21 20:26:12\", \"2018-09-21 20:26:13\", \"2018-09-21 20:27:48\", \"2018-09-21 20:28:10\", \"2018-09-21 20:29:12\", \"2018-09-21 20:30:03\", \"2018-09-21 20:35:12\", \"2018-09-21 20:37:40\", \"2018-09-21 20:37:41\", \"2018-09-21 20:37:42\", \"2018-09-21 20:37:49\", \"2018-09-21 20:37:50\", \"2018-09-21 20:48:31\", \"2018-09-21 20:48:32\", \"2018-09-21 20:48:33\", \"2018-09-21 20:49:26\", \"2018-09-21 20:49:27\", \"2018-09-21 20:49:38\", \"2018-09-21 20:49:39\", \"2018-09-21 20:49:40\", \"2018-09-21 20:49:56\", \"2018-09-21 20:49:57\", \"2018-09-21 20:50:20\", \"2018-09-21 20:51:40\", \"2018-09-21 20:51:41\", \"2018-09-21 20:51:42\", \"2018-09-21 20:54:06\", \"2018-09-21 20:54:08\", \"2018-09-21 20:54:09\", \"2018-09-21 20:54:10\", \"2018-09-21 20:54:22\", \"2018-09-21 20:55:30\", \"2018-09-21 20:55:32\", \"2018-09-21 20:55:33\", \"2018-09-21 20:58:29\", \"2018-09-21 20:59:14\", \"2018-09-21 20:59:16\", \"2018-09-21 20:59:17\", \"2018-09-21 20:59:19\", \"2018-09-21 20:59:20\", \"2018-09-21 20:59:22\", \"2018-09-21 21:00:40\", \"2018-09-21 21:01:23\", \"2018-09-21 21:01:29\", \"2018-09-21 21:01:31\", \"2018-09-21 21:01:34\", \"2018-09-21 21:01:36\", \"2018-09-21 21:01:39\", \"2018-09-21 21:02:03\", \"2018-09-21 21:02:04\", \"2018-09-21 21:05:18\", \"2018-09-21 21:05:19\", \"2018-09-21 21:05:20\", \"2018-09-21 21:10:04\", \"2018-09-21 21:10:05\", \"2018-09-21 21:10:06\", \"2018-09-21 21:21:50\", \"2018-09-21 21:21:51\", \"2018-09-21 21:21:52\", \"2018-09-21 21:21:53\", \"2018-09-21 21:21:54\", \"2018-09-21 21:24:28\", \"2018-09-21 21:24:29\", \"2018-09-21 21:24:30\", \"2018-09-21 21:24:31\", \"2018-09-21 21:24:40\", \"2018-09-21 21:25:25\", \"2018-09-21 21:25:37\", \"2018-09-21 21:25:48\", \"2018-09-21 21:25:52\", \"2018-09-21 21:25:53\", \"2018-09-21 21:25:54\", \"2018-09-21 21:26:06\", \"2018-09-21 21:26:07\", \"2018-09-21 21:26:27\", \"2018-09-21 21:26:28\", \"2018-09-21 21:26:30\", \"2018-09-21 21:28:10\", \"2018-09-21 21:28:11\", \"2018-09-21 21:28:31\", \"2018-09-21 21:28:36\", \"2018-09-21 21:28:37\", \"2018-09-21 21:28:38\", \"2018-09-21 21:29:10\", \"2018-09-21 21:31:14\", \"2018-09-21 21:32:13\", \"2018-09-21 21:32:42\", \"2018-09-21 21:38:47\", \"2018-09-21 21:38:48\", \"2018-09-21 21:39:36\", \"2018-09-21 21:39:42\", \"2018-09-21 21:39:47\", \"2018-09-21 21:39:51\", \"2018-09-21 21:40:21\", \"2018-09-21 21:40:23\", \"2018-09-21 21:40:24\", \"2018-09-21 21:40:35\", \"2018-09-21 21:40:43\", \"2018-09-21 21:40:45\", \"2018-09-21 21:40:47\", \"2018-09-21 21:40:50\", \"2018-09-21 21:43:52\", \"2018-09-21 21:44:52\", \"2018-09-21 21:44:53\", \"2018-09-21 21:44:54\", \"2018-09-21 21:45:07\", \"2018-09-21 21:45:09\", \"2018-09-21 21:51:05\", \"2018-09-21 21:51:06\", \"2018-09-21 21:52:28\", \"2018-09-21 21:52:29\", \"2018-09-21 21:55:03\", \"2018-09-21 22:00:32\", \"2018-09-21 22:00:34\", \"2018-09-21 22:01:21\", \"2018-09-21 22:01:22\", \"2018-09-21 22:01:23\", \"2018-09-21 22:01:26\", \"2018-09-21 22:01:28\", \"2018-09-21 22:01:33\", \"2018-09-21 22:01:34\", \"2018-09-21 22:01:44\", \"2018-09-21 22:01:45\", \"2018-09-21 22:01:46\", \"2018-09-21 22:01:56\", \"2018-09-21 22:02:22\", \"2018-09-21 22:03:47\", \"2018-09-21 22:03:48\", \"2018-09-21 22:03:49\", \"2018-09-21 22:04:18\", \"2018-09-21 22:06:31\", \"2018-09-21 22:07:17\", \"2018-09-21 22:07:56\", \"2018-09-21 22:10:44\", \"2018-09-21 22:11:25\", \"2018-09-21 22:11:27\", \"2018-09-21 22:11:28\", \"2018-09-21 22:11:30\", \"2018-09-21 22:11:31\", \"2018-09-21 22:11:33\", \"2018-09-21 22:11:34\", \"2018-09-21 22:13:21\", \"2018-09-21 22:14:11\", \"2018-09-21 22:14:37\", \"2018-09-21 22:17:39\", \"2018-09-21 22:17:40\", \"2018-09-21 22:17:41\", \"2018-09-21 22:36:27\", \"2018-09-21 22:36:28\", \"2018-09-21 22:37:48\", \"2018-09-21 22:38:00\", \"2018-09-21 22:38:02\", \"2018-09-21 22:38:03\", \"2018-09-21 22:38:18\", \"2018-09-21 22:38:20\", \"2018-09-21 22:40:37\", \"2018-09-21 22:40:38\", \"2018-09-21 22:41:04\", \"2018-09-21 22:41:05\", \"2018-09-21 22:43:13\", \"2018-09-21 22:43:42\", \"2018-09-21 22:43:44\", \"2018-09-21 22:43:47\", \"2018-09-21 22:47:47\", \"2018-09-21 22:47:49\", \"2018-09-21 22:49:06\", \"2018-09-21 22:49:39\", \"2018-09-21 22:49:40\", \"2018-09-21 22:50:02\", \"2018-09-21 22:52:59\", \"2018-09-21 22:53:00\", \"2018-09-21 22:53:01\", \"2018-09-21 23:12:29\", \"2018-09-21 23:13:30\", \"2018-09-21 23:14:00\", \"2018-09-21 23:14:01\", \"2018-09-21 23:14:16\", \"2018-09-21 23:14:19\", \"2018-09-21 23:14:20\", \"2018-09-21 23:14:33\", \"2018-09-21 23:14:34\", \"2018-09-21 23:14:56\", \"2018-09-21 23:17:12\", \"2018-09-21 23:18:13\", \"2018-09-21 23:18:15\", \"2018-09-21 23:18:16\", \"2018-09-21 23:18:17\", \"2018-09-21 23:18:48\", \"2018-09-21 23:18:51\", \"2018-09-21 23:20:25\", \"2018-09-21 23:24:38\", \"2018-09-21 23:26:53\", \"2018-09-21 23:27:12\", \"2018-09-21 23:30:22\", \"2018-09-21 23:48:30\", \"2018-09-21 23:50:39\", \"2018-09-21 23:50:40\", \"2018-09-21 23:50:44\", \"2018-09-21 23:50:49\", \"2018-09-21 23:50:51\", \"2018-09-21 23:50:53\", \"2018-09-21 23:51:06\", \"2018-09-21 23:51:07\", \"2018-09-21 23:51:09\", \"2018-09-21 23:51:10\", \"2018-09-21 23:51:11\", \"2018-09-21 23:51:12\", \"2018-09-21 23:51:15\", \"2018-09-21 23:51:18\", \"2018-09-21 23:53:29\", \"2018-09-21 23:54:12\", \"2018-09-21 23:54:15\", \"2018-09-21 23:55:00\", \"2018-09-21 23:55:44\", \"2018-09-21 23:55:45\", \"2018-09-21 23:57:12\", \"2018-09-22 00:01:05\", \"2018-09-22 00:03:32\", \"2018-09-22 00:05:56\", \"2018-09-22 00:05:59\", \"2018-09-22 00:11:39\", \"2018-09-22 00:11:46\", \"2018-09-22 00:14:37\", \"2018-09-22 00:14:38\", \"2018-09-22 00:14:40\", \"2018-09-22 00:24:29\", \"2018-09-22 00:25:30\", \"2018-09-22 00:25:38\", \"2018-09-22 00:25:41\", \"2018-09-22 00:25:51\", \"2018-09-22 00:27:20\", \"2018-09-22 00:27:21\", \"2018-09-22 00:27:43\", \"2018-09-22 00:29:00\", \"2018-09-22 00:30:28\", \"2018-09-22 00:34:41\", \"2018-09-22 00:35:52\", \"2018-09-22 00:38:03\", \"2018-09-22 00:38:05\", \"2018-09-22 00:38:24\", \"2018-09-22 00:50:16\", \"2018-09-22 01:00:29\", \"2018-09-22 01:00:37\", \"2018-09-22 01:01:52\", \"2018-09-22 01:02:00\", \"2018-09-22 01:02:01\", \"2018-09-22 01:03:16\", \"2018-09-22 01:03:53\", \"2018-09-22 01:03:54\", \"2018-09-22 01:03:55\", \"2018-09-22 01:03:56\", \"2018-09-22 01:04:16\", \"2018-09-22 01:04:17\", \"2018-09-22 01:04:18\", \"2018-09-22 01:04:19\", \"2018-09-22 01:04:20\", \"2018-09-22 01:04:40\", \"2018-09-22 01:05:59\", \"2018-09-22 01:12:42\", \"2018-09-22 01:12:44\", \"2018-09-22 01:12:46\", \"2018-09-22 01:12:48\", \"2018-09-22 01:13:29\", \"2018-09-22 01:16:04\", \"2018-09-22 01:16:06\", \"2018-09-22 01:37:18\", \"2018-09-22 01:37:19\", \"2018-09-22 01:37:25\", \"2018-09-22 01:37:34\", \"2018-09-22 01:37:47\", \"2018-09-22 01:40:33\", \"2018-09-22 01:43:37\", \"2018-09-22 01:43:39\", \"2018-09-22 01:47:16\", \"2018-09-22 01:49:10\", \"2018-09-22 01:49:12\", \"2018-09-22 01:49:14\", \"2018-09-22 01:50:48\", \"2018-09-22 01:50:49\", \"2018-09-22 01:53:03\", \"2018-09-22 01:53:04\", \"2018-09-22 02:12:29\", \"2018-09-22 02:13:24\", \"2018-09-22 02:13:40\", \"2018-09-22 02:17:43\", \"2018-09-22 02:23:41\", \"2018-09-22 02:24:08\", \"2018-09-22 02:24:09\", \"2018-09-22 02:24:52\", \"2018-09-22 02:24:53\", \"2018-09-22 02:26:55\", \"2018-09-22 02:26:57\", \"2018-09-22 02:49:29\", \"2018-09-22 02:49:30\", \"2018-09-22 02:49:48\", \"2018-09-22 02:49:49\", \"2018-09-22 02:54:01\", \"2018-09-22 02:59:19\", \"2018-09-22 02:59:54\", \"2018-09-22 02:59:55\", \"2018-09-22 02:59:56\", \"2018-09-22 03:00:08\", \"2018-09-22 03:24:28\", \"2018-09-22 03:25:34\", \"2018-09-22 03:25:35\", \"2018-09-22 03:25:47\", \"2018-09-22 03:29:55\", \"2018-09-22 03:36:01\", \"2018-09-22 03:37:57\", \"2018-09-22 03:37:58\", \"2018-09-22 04:01:32\", \"2018-09-22 04:04:10\", \"2018-09-22 04:04:26\", \"2018-09-22 04:08:34\", \"2018-09-22 04:11:20\", \"2018-09-22 04:11:22\", \"2018-09-22 04:13:32\", \"2018-09-22 04:36:29\", \"2018-09-22 04:37:30\", \"2018-09-22 04:37:31\", \"2018-09-22 04:40:04\", \"2018-09-22 04:41:37\", \"2018-09-22 04:46:53\", \"2018-09-22 04:49:32\", \"2018-09-22 05:12:28\", \"2018-09-22 05:17:55\", \"2018-09-22 05:23:36\", \"2018-09-22 05:23:38\", \"2018-09-22 05:23:40\", \"2018-09-22 05:48:29\", \"2018-09-22 05:50:58\", \"2018-09-22 05:52:28\", \"2018-09-22 05:59:12\", \"2018-09-22 05:59:45\", \"2018-09-22 06:02:15\", \"2018-09-22 06:02:30\", \"2018-09-22 06:26:57\", \"2018-09-22 06:26:58\", \"2018-09-22 06:32:11\", \"2018-09-22 06:32:13\", \"2018-09-22 06:35:43\", \"2018-09-22 06:37:48\", \"2018-09-22 07:02:05\", \"2018-09-22 07:03:20\", \"2018-09-22 07:08:40\", \"2018-09-22 07:08:42\", \"2018-09-22 07:13:51\", \"2018-09-22 07:36:27\", \"2018-09-22 07:36:28\", \"2018-09-22 07:44:09\", \"2018-09-22 07:44:11\", \"2018-09-22 07:46:59\", \"2018-09-22 07:47:03\", \"2018-09-22 07:47:23\", \"2018-09-22 07:47:24\", \"2018-09-22 07:47:35\", \"2018-09-22 07:49:24\", \"2018-09-22 08:12:28\", \"2018-09-22 08:12:29\", \"2018-09-22 08:13:20\", \"2018-09-22 08:13:24\", \"2018-09-22 08:14:32\", \"2018-09-22 08:14:33\", \"2018-09-22 08:15:00\", \"2018-09-22 08:16:47\", \"2018-09-22 08:16:58\", \"2018-09-22 08:16:59\", \"2018-09-22 08:17:00\", \"2018-09-22 08:18:18\", \"2018-09-22 08:21:08\", \"2018-09-22 08:21:10\", \"2018-09-22 08:22:08\", \"2018-09-22 08:22:11\", \"2018-09-22 08:22:14\", \"2018-09-22 08:22:46\", \"2018-09-22 08:23:22\", \"2018-09-22 08:24:27\", \"2018-09-22 08:24:28\", \"2018-09-22 08:24:35\", \"2018-09-22 08:24:37\", \"2018-09-22 08:24:39\", \"2018-09-22 08:24:40\", \"2018-09-22 08:24:42\", \"2018-09-22 08:24:54\", \"2018-09-22 08:24:55\", \"2018-09-22 08:25:00\", \"2018-09-22 08:25:01\", \"2018-09-22 08:25:23\", \"2018-09-22 08:27:19\", \"2018-09-22 08:27:20\", \"2018-09-22 08:48:25\", \"2018-09-22 08:48:26\", \"2018-09-22 08:48:27\", \"2018-09-22 08:48:28\", \"2018-09-22 08:49:27\", \"2018-09-22 08:49:28\", \"2018-09-22 08:49:29\", \"2018-09-22 08:50:55\", \"2018-09-22 08:53:04\", \"2018-09-22 08:54:26\", \"2018-09-22 08:54:29\", \"2018-09-22 08:57:20\", \"2018-09-22 08:57:21\", \"2018-09-22 08:58:15\", \"2018-09-22 08:58:17\", \"2018-09-22 08:58:20\", \"2018-09-22 08:58:23\", \"2018-09-22 08:58:25\", \"2018-09-22 09:00:51\", \"2018-09-22 09:00:54\", \"2018-09-22 09:00:56\", \"2018-09-22 09:00:58\", \"2018-09-22 09:01:23\", \"2018-09-22 09:01:24\", \"2018-09-22 09:02:43\", \"2018-09-22 09:03:30\", \"2018-09-22 09:24:24\", \"2018-09-22 09:24:25\", \"2018-09-22 09:24:26\", \"2018-09-22 09:24:27\", \"2018-09-22 09:24:28\", \"2018-09-22 09:24:29\", \"2018-09-22 09:25:29\", \"2018-09-22 09:25:34\", \"2018-09-22 09:25:46\", \"2018-09-22 09:25:47\", \"2018-09-22 09:25:48\", \"2018-09-22 09:27:20\", \"2018-09-22 09:27:21\", \"2018-09-22 09:27:43\", \"2018-09-22 09:27:44\", \"2018-09-22 09:27:45\", \"2018-09-22 09:28:52\", \"2018-09-22 09:29:03\", \"2018-09-22 09:29:04\", \"2018-09-22 09:30:25\", \"2018-09-22 09:30:26\", \"2018-09-22 09:30:28\", \"2018-09-22 09:30:30\", \"2018-09-22 09:33:17\", \"2018-09-22 09:33:18\", \"2018-09-22 09:33:19\", \"2018-09-22 09:34:35\", \"2018-09-22 09:34:38\", \"2018-09-22 09:36:48\", \"2018-09-22 09:37:16\", \"2018-09-22 09:37:19\", \"2018-09-22 09:37:27\", \"2018-09-22 09:37:29\", \"2018-09-22 09:37:43\", \"2018-09-22 09:37:55\", \"2018-09-22 09:37:56\", \"2018-09-22 09:39:03\", \"2018-09-22 09:39:04\", \"2018-09-22 09:41:44\", \"2018-09-22 09:41:45\", \"2018-09-22 09:41:47\", \"2018-09-22 09:41:48\", \"2018-09-22 09:41:49\", \"2018-09-22 10:00:26\", \"2018-09-22 10:00:29\", \"2018-09-22 10:00:30\", \"2018-09-22 10:00:31\", \"2018-09-22 10:01:17\", \"2018-09-22 10:01:18\", \"2018-09-22 10:01:26\", \"2018-09-22 10:01:27\", \"2018-09-22 10:01:28\", \"2018-09-22 10:01:39\", \"2018-09-22 10:01:40\", \"2018-09-22 10:01:58\", \"2018-09-22 10:02:57\", \"2018-09-22 10:02:58\", \"2018-09-22 10:03:19\", \"2018-09-22 10:03:32\", \"2018-09-22 10:03:33\", \"2018-09-22 10:06:22\", \"2018-09-22 10:06:24\", \"2018-09-22 10:06:27\", \"2018-09-22 10:06:29\", \"2018-09-22 10:09:21\", \"2018-09-22 10:09:22\", \"2018-09-22 10:10:21\", \"2018-09-22 10:10:22\", \"2018-09-22 10:12:22\", \"2018-09-22 10:13:18\", \"2018-09-22 10:13:19\", \"2018-09-22 10:13:20\", \"2018-09-22 10:13:30\", \"2018-09-22 10:13:32\", \"2018-09-22 10:13:34\", \"2018-09-22 10:13:36\", \"2018-09-22 10:13:51\", \"2018-09-22 10:13:59\", \"2018-09-22 10:14:00\", \"2018-09-22 10:17:18\", \"2018-09-22 10:19:35\", \"2018-09-22 10:19:36\", \"2018-09-22 10:19:37\", \"2018-09-22 10:19:52\", \"2018-09-22 10:36:22\", \"2018-09-22 10:36:23\", \"2018-09-22 10:36:24\", \"2018-09-22 10:36:25\", \"2018-09-22 10:36:26\", \"2018-09-22 10:36:27\", \"2018-09-22 10:36:28\", \"2018-09-22 10:36:29\", \"2018-09-22 10:37:20\", \"2018-09-22 10:37:21\", \"2018-09-22 10:37:23\", \"2018-09-22 10:37:24\", \"2018-09-22 10:37:31\", \"2018-09-22 10:37:43\", \"2018-09-22 10:38:11\", \"2018-09-22 10:38:12\", \"2018-09-22 10:39:22\", \"2018-09-22 10:39:50\", \"2018-09-22 10:39:51\", \"2018-09-22 10:39:52\", \"2018-09-22 10:40:34\", \"2018-09-22 10:41:09\", \"2018-09-22 10:41:58\", \"2018-09-22 10:42:24\", \"2018-09-22 10:42:25\", \"2018-09-22 10:42:28\", \"2018-09-22 10:42:29\", \"2018-09-22 10:42:30\", \"2018-09-22 10:45:20\", \"2018-09-22 10:45:22\", \"2018-09-22 10:46:35\", \"2018-09-22 10:46:39\", \"2018-09-22 10:46:44\", \"2018-09-22 10:48:32\", \"2018-09-22 10:48:33\", \"2018-09-22 10:49:01\", \"2018-09-22 10:49:02\", \"2018-09-22 10:49:09\", \"2018-09-22 10:49:22\", \"2018-09-22 10:49:31\", \"2018-09-22 10:49:32\", \"2018-09-22 10:52:23\", \"2018-09-22 10:52:24\", \"2018-09-22 10:55:11\", \"2018-09-22 10:55:12\", \"2018-09-22 10:55:13\", \"2018-09-22 10:55:14\", \"2018-09-22 11:12:27\", \"2018-09-22 11:12:28\", \"2018-09-22 11:12:29\", \"2018-09-22 11:12:30\", \"2018-09-22 11:12:32\", \"2018-09-22 11:13:12\", \"2018-09-22 11:13:13\", \"2018-09-22 11:13:14\", \"2018-09-22 11:13:35\", \"2018-09-22 11:13:42\", \"2018-09-22 11:13:44\", \"2018-09-22 11:13:46\", \"2018-09-22 11:13:47\", \"2018-09-22 11:13:59\", \"2018-09-22 11:14:38\", \"2018-09-22 11:14:39\", \"2018-09-22 11:15:40\", \"2018-09-22 11:15:41\", \"2018-09-22 11:15:43\", \"2018-09-22 11:16:09\", \"2018-09-22 11:16:10\", \"2018-09-22 11:17:42\", \"2018-09-22 11:18:20\", \"2018-09-22 11:18:30\", \"2018-09-22 11:20:12\", \"2018-09-22 11:22:58\", \"2018-09-22 11:23:00\", \"2018-09-22 11:23:01\", \"2018-09-22 11:24:05\", \"2018-09-22 11:24:08\", \"2018-09-22 11:26:35\", \"2018-09-22 11:26:36\", \"2018-09-22 11:26:43\", \"2018-09-22 11:27:03\", \"2018-09-22 11:27:06\", \"2018-09-22 11:27:19\", \"2018-09-22 11:27:20\", \"2018-09-22 11:27:40\", \"2018-09-22 11:27:45\", \"2018-09-22 11:27:46\", \"2018-09-22 11:27:47\", \"2018-09-22 11:27:48\", \"2018-09-22 11:29:52\", \"2018-09-22 11:29:53\", \"2018-09-22 11:29:54\", \"2018-09-22 11:29:55\", \"2018-09-22 11:29:56\", \"2018-09-22 11:29:57\", \"2018-09-22 11:29:58\", \"2018-09-22 11:29:59\", \"2018-09-22 11:48:23\", \"2018-09-22 11:48:24\", \"2018-09-22 11:48:25\", \"2018-09-22 11:48:26\", \"2018-09-22 11:48:27\", \"2018-09-22 11:48:55\", \"2018-09-22 11:48:56\", \"2018-09-22 11:48:57\", \"2018-09-22 11:48:58\", \"2018-09-22 11:49:21\", \"2018-09-22 11:49:25\", \"2018-09-22 11:49:28\", \"2018-09-22 11:49:30\", \"2018-09-22 11:49:40\", \"2018-09-22 11:49:41\", \"2018-09-22 11:50:09\", \"2018-09-22 11:50:10\", \"2018-09-22 11:50:11\", \"2018-09-22 11:51:02\", \"2018-09-22 11:51:03\", \"2018-09-22 11:51:22\", \"2018-09-22 11:51:30\", \"2018-09-22 11:51:31\", \"2018-09-22 11:53:04\", \"2018-09-22 11:54:08\", \"2018-09-22 11:54:10\", \"2018-09-22 11:54:12\", \"2018-09-22 11:54:13\", \"2018-09-22 11:54:15\", \"2018-09-22 11:54:16\", \"2018-09-22 11:54:18\", \"2018-09-22 11:54:19\", \"2018-09-22 11:57:10\", \"2018-09-22 11:57:12\", \"2018-09-22 11:57:13\", \"2018-09-22 11:57:14\", \"2018-09-22 11:57:16\", \"2018-09-22 11:58:04\", \"2018-09-22 11:58:06\", \"2018-09-22 11:58:08\", \"2018-09-22 11:58:10\", \"2018-09-22 11:58:12\", \"2018-09-22 11:59:51\", \"2018-09-22 12:00:15\", \"2018-09-22 12:00:24\", \"2018-09-22 12:00:26\", \"2018-09-22 12:00:28\", \"2018-09-22 12:00:29\", \"2018-09-22 12:00:31\", \"2018-09-22 12:00:33\", \"2018-09-22 12:00:34\", \"2018-09-22 12:01:46\", \"2018-09-22 12:01:47\", \"2018-09-22 12:01:48\", \"2018-09-22 12:02:25\", \"2018-09-22 12:02:26\", \"2018-09-22 12:02:27\", \"2018-09-22 12:02:39\", \"2018-09-22 12:05:16\", \"2018-09-22 12:06:45\", \"2018-09-22 12:06:46\", \"2018-09-22 12:06:59\", \"2018-09-22 12:07:00\", \"2018-09-22 12:07:06\", \"2018-09-22 12:07:18\", \"2018-09-22 12:10:10\", \"2018-09-22 12:10:11\", \"2018-09-22 12:10:12\", \"2018-09-22 12:10:13\", \"2018-09-22 12:10:14\", \"2018-09-22 12:10:16\", \"2018-09-22 12:10:25\", \"2018-09-22 12:24:22\", \"2018-09-22 12:24:25\", \"2018-09-22 12:24:26\", \"2018-09-22 12:24:27\", \"2018-09-22 12:24:30\", \"2018-09-22 12:24:31\", \"2018-09-22 12:24:34\", \"2018-09-22 12:24:35\", \"2018-09-22 12:25:17\", \"2018-09-22 12:25:18\", \"2018-09-22 12:25:19\", \"2018-09-22 12:25:35\", \"2018-09-22 12:25:38\", \"2018-09-22 12:25:42\", \"2018-09-22 12:25:45\", \"2018-09-22 12:25:54\", \"2018-09-22 12:25:55\", \"2018-09-22 12:25:56\", \"2018-09-22 12:26:32\", \"2018-09-22 12:26:33\", \"2018-09-22 12:26:34\", \"2018-09-22 12:27:45\", \"2018-09-22 12:27:46\", \"2018-09-22 12:27:47\", \"2018-09-22 12:28:21\", \"2018-09-22 12:28:22\", \"2018-09-22 12:28:23\", \"2018-09-22 12:29:22\", \"2018-09-22 12:29:23\", \"2018-09-22 12:29:44\", \"2018-09-22 12:30:22\", \"2018-09-22 12:31:54\", \"2018-09-22 12:31:56\", \"2018-09-22 12:31:57\", \"2018-09-22 12:31:59\", \"2018-09-22 12:34:55\", \"2018-09-22 12:36:05\", \"2018-09-22 12:36:07\", \"2018-09-22 12:36:10\", \"2018-09-22 12:36:13\", \"2018-09-22 12:38:14\", \"2018-09-22 12:38:40\", \"2018-09-22 12:38:42\", \"2018-09-22 12:38:48\", \"2018-09-22 12:38:50\", \"2018-09-22 12:38:52\", \"2018-09-22 12:38:54\", \"2018-09-22 12:38:56\", \"2018-09-22 12:38:57\", \"2018-09-22 12:39:01\", \"2018-09-22 12:39:23\", \"2018-09-22 12:39:26\", \"2018-09-22 12:39:38\", \"2018-09-22 12:39:39\", \"2018-09-22 12:39:40\", \"2018-09-22 12:43:04\", \"2018-09-22 12:43:05\", \"2018-09-22 12:43:06\", \"2018-09-22 12:43:08\", \"2018-09-22 12:43:09\", \"2018-09-22 12:43:11\", \"2018-09-22 12:43:12\", \"2018-09-22 12:43:13\", \"2018-09-22 12:43:14\", \"2018-09-22 13:00:21\", \"2018-09-22 13:00:22\", \"2018-09-22 13:00:23\", \"2018-09-22 13:00:24\", \"2018-09-22 13:00:25\", \"2018-09-22 13:00:26\", \"2018-09-22 13:00:27\", \"2018-09-22 13:00:28\", \"2018-09-22 13:01:14\", \"2018-09-22 13:01:15\", \"2018-09-22 13:01:16\", \"2018-09-22 13:01:17\", \"2018-09-22 13:01:30\", \"2018-09-22 13:01:31\", \"2018-09-22 13:01:32\", \"2018-09-22 13:01:41\", \"2018-09-22 13:01:43\", \"2018-09-22 13:01:44\", \"2018-09-22 13:01:49\", \"2018-09-22 13:01:51\", \"2018-09-22 13:01:52\", \"2018-09-22 13:02:09\", \"2018-09-22 13:02:10\", \"2018-09-22 13:02:43\", \"2018-09-22 13:02:46\", \"2018-09-22 13:02:48\", \"2018-09-22 13:04:09\", \"2018-09-22 13:04:35\", \"2018-09-22 13:04:36\", \"2018-09-22 13:04:37\", \"2018-09-22 13:04:38\", \"2018-09-22 13:05:28\", \"2018-09-22 13:05:42\", \"2018-09-22 13:06:31\", \"2018-09-22 13:06:32\", \"2018-09-22 13:06:33\", \"2018-09-22 13:06:34\", \"2018-09-22 13:07:42\", \"2018-09-22 13:07:43\", \"2018-09-22 13:07:45\", \"2018-09-22 13:07:47\", \"2018-09-22 13:07:51\", \"2018-09-22 13:07:53\", \"2018-09-22 13:07:56\", \"2018-09-22 13:08:00\", \"2018-09-22 13:08:01\", \"2018-09-22 13:10:45\", \"2018-09-22 13:10:46\", \"2018-09-22 13:10:47\", \"2018-09-22 13:10:49\", \"2018-09-22 13:11:52\", \"2018-09-22 13:11:53\", \"2018-09-22 13:11:55\", \"2018-09-22 13:11:58\", \"2018-09-22 13:12:02\", \"2018-09-22 13:12:04\", \"2018-09-22 13:13:50\", \"2018-09-22 13:13:52\", \"2018-09-22 13:13:55\", \"2018-09-22 13:14:33\", \"2018-09-22 13:14:44\", \"2018-09-22 13:14:45\", \"2018-09-22 13:14:47\", \"2018-09-22 13:14:49\", \"2018-09-22 13:14:51\", \"2018-09-22 13:15:10\", \"2018-09-22 13:15:17\", \"2018-09-22 13:15:19\", \"2018-09-22 13:15:21\", \"2018-09-22 13:15:25\", \"2018-09-22 13:15:26\", \"2018-09-22 13:15:33\", \"2018-09-22 13:17:49\", \"2018-09-22 13:17:50\", \"2018-09-22 13:17:51\", \"2018-09-22 13:17:52\", \"2018-09-22 13:18:06\", \"2018-09-22 13:20:52\", \"2018-09-22 13:20:53\", \"2018-09-22 13:20:54\", \"2018-09-22 13:20:55\", \"2018-09-22 13:20:56\", \"2018-09-22 13:21:03\", \"2018-09-22 13:21:10\", \"2018-09-22 13:21:11\", \"2018-09-22 13:21:12\", \"2018-09-22 13:21:13\", \"2018-09-22 13:36:23\", \"2018-09-22 13:36:24\", \"2018-09-22 13:36:25\", \"2018-09-22 13:36:26\", \"2018-09-22 13:36:27\", \"2018-09-22 13:36:28\", \"2018-09-22 13:36:58\", \"2018-09-22 13:37:00\", \"2018-09-22 13:37:03\", \"2018-09-22 13:37:05\", \"2018-09-22 13:37:07\", \"2018-09-22 13:37:08\", \"2018-09-22 13:37:09\", \"2018-09-22 13:37:21\", \"2018-09-22 13:37:37\", \"2018-09-22 13:37:41\", \"2018-09-22 13:37:51\", \"2018-09-22 13:37:55\", \"2018-09-22 13:37:57\", \"2018-09-22 13:37:58\", \"2018-09-22 13:37:59\", \"2018-09-22 13:38:00\", \"2018-09-22 13:38:01\", \"2018-09-22 13:38:27\", \"2018-09-22 13:38:28\", \"2018-09-22 13:38:29\", \"2018-09-22 13:38:31\", \"2018-09-22 13:39:40\", \"2018-09-22 13:40:03\", \"2018-09-22 13:40:04\", \"2018-09-22 13:40:06\", \"2018-09-22 13:41:16\", \"2018-09-22 13:41:17\", \"2018-09-22 13:41:18\", \"2018-09-22 13:41:19\", \"2018-09-22 13:41:23\", \"2018-09-22 13:41:45\", \"2018-09-22 13:42:12\", \"2018-09-22 13:42:16\", \"2018-09-22 13:43:24\", \"2018-09-22 13:43:59\", \"2018-09-22 13:44:00\", \"2018-09-22 13:44:02\", \"2018-09-22 13:46:55\", \"2018-09-22 13:48:55\", \"2018-09-22 13:49:04\", \"2018-09-22 13:49:11\", \"2018-09-22 13:49:17\", \"2018-09-22 13:49:23\", \"2018-09-22 13:53:20\", \"2018-09-22 13:53:22\", \"2018-09-22 13:53:23\", \"2018-09-22 13:54:15\", \"2018-09-22 13:54:23\", \"2018-09-22 13:54:27\", \"2018-09-22 13:54:29\", \"2018-09-22 13:54:31\", \"2018-09-22 13:54:32\", \"2018-09-22 13:55:01\", \"2018-09-22 13:55:03\", \"2018-09-22 13:58:07\", \"2018-09-22 13:58:08\", \"2018-09-22 13:58:09\", \"2018-09-22 14:00:34\", \"2018-09-22 14:00:35\", \"2018-09-22 14:00:36\", \"2018-09-22 14:00:37\", \"2018-09-22 14:00:38\", \"2018-09-22 14:00:39\", \"2018-09-22 14:00:49\", \"2018-09-22 14:00:51\", \"2018-09-22 14:00:52\", \"2018-09-22 14:00:53\", \"2018-09-22 14:12:31\", \"2018-09-22 14:12:32\", \"2018-09-22 14:12:33\", \"2018-09-22 14:12:34\", \"2018-09-22 14:13:22\", \"2018-09-22 14:13:23\", \"2018-09-22 14:13:32\", \"2018-09-22 14:13:33\", \"2018-09-22 14:13:44\", \"2018-09-22 14:13:47\", \"2018-09-22 14:13:49\", \"2018-09-22 14:13:52\", \"2018-09-22 14:13:54\", \"2018-09-22 14:13:59\", \"2018-09-22 14:14:31\", \"2018-09-22 14:14:32\", \"2018-09-22 14:15:38\", \"2018-09-22 14:15:39\", \"2018-09-22 14:15:40\", \"2018-09-22 14:17:14\", \"2018-09-22 14:19:25\", \"2018-09-22 14:19:27\", \"2018-09-22 14:19:28\", \"2018-09-22 14:19:30\", \"2018-09-22 14:19:32\", \"2018-09-22 14:19:34\", \"2018-09-22 14:22:22\", \"2018-09-22 14:23:12\", \"2018-09-22 14:26:53\", \"2018-09-22 14:26:54\", \"2018-09-22 14:27:01\", \"2018-09-22 14:27:03\", \"2018-09-22 14:27:05\", \"2018-09-22 14:27:07\", \"2018-09-22 14:27:09\", \"2018-09-22 14:27:10\", \"2018-09-22 14:27:11\", \"2018-09-22 14:27:33\", \"2018-09-22 14:27:34\", \"2018-09-22 14:28:38\", \"2018-09-22 14:28:39\", \"2018-09-22 14:28:50\", \"2018-09-22 14:28:52\", \"2018-09-22 14:28:53\", \"2018-09-22 14:28:54\", \"2018-09-22 14:32:51\", \"2018-09-22 14:34:59\", \"2018-09-22 14:35:00\", \"2018-09-22 14:35:01\", \"2018-09-22 14:35:02\", \"2018-09-22 14:35:03\", \"2018-09-22 14:35:04\", \"2018-09-22 14:35:05\", \"2018-09-22 14:35:06\", \"2018-09-22 14:48:26\", \"2018-09-22 14:48:27\", \"2018-09-22 14:48:28\", \"2018-09-22 14:48:29\", \"2018-09-22 14:48:30\", \"2018-09-22 14:49:10\", \"2018-09-22 14:49:32\", \"2018-09-22 14:49:33\", \"2018-09-22 14:49:46\", \"2018-09-22 14:49:48\", \"2018-09-22 14:49:50\", \"2018-09-22 14:50:08\", \"2018-09-22 14:50:22\", \"2018-09-22 14:50:41\", \"2018-09-22 14:51:53\", \"2018-09-22 14:51:54\", \"2018-09-22 14:52:12\", \"2018-09-22 14:52:22\", \"2018-09-22 14:52:23\", \"2018-09-22 14:52:24\", \"2018-09-22 14:54:44\", \"2018-09-22 14:55:16\", \"2018-09-22 14:55:18\", \"2018-09-22 14:55:19\", \"2018-09-22 14:55:21\", \"2018-09-22 14:55:23\", \"2018-09-22 14:55:25\", \"2018-09-22 14:55:27\", \"2018-09-22 14:58:08\", \"2018-09-22 14:58:09\", \"2018-09-22 14:58:11\", \"2018-09-22 14:58:53\", \"2018-09-22 14:58:54\", \"2018-09-22 14:58:56\", \"2018-09-22 14:58:59\", \"2018-09-22 14:59:00\", \"2018-09-22 15:00:25\", \"2018-09-22 15:01:18\", \"2018-09-22 15:01:26\", \"2018-09-22 15:01:40\", \"2018-09-22 15:01:41\", \"2018-09-22 15:01:53\", \"2018-09-22 15:01:54\", \"2018-09-22 15:02:12\", \"2018-09-22 15:02:23\", \"2018-09-22 15:04:38\", \"2018-09-22 15:04:39\", \"2018-09-22 15:04:40\", \"2018-09-22 15:04:41\", \"2018-09-22 15:13:41\", \"2018-09-22 15:13:44\", \"2018-09-22 15:13:45\", \"2018-09-22 15:13:46\", \"2018-09-22 15:13:47\", \"2018-09-22 15:13:48\", \"2018-09-22 15:13:50\", \"2018-09-22 15:13:51\", \"2018-09-22 15:13:52\", \"2018-09-22 15:24:24\", \"2018-09-22 15:24:25\", \"2018-09-22 15:24:26\", \"2018-09-22 15:24:27\", \"2018-09-22 15:24:28\", \"2018-09-22 15:25:08\", \"2018-09-22 15:25:09\", \"2018-09-22 15:25:10\", \"2018-09-22 15:25:30\", \"2018-09-22 15:25:37\", \"2018-09-22 15:25:39\", \"2018-09-22 15:25:42\", \"2018-09-22 15:25:53\", \"2018-09-22 15:25:54\", \"2018-09-22 15:26:16\", \"2018-09-22 15:26:23\", \"2018-09-22 15:27:44\", \"2018-09-22 15:27:45\", \"2018-09-22 15:28:05\", \"2018-09-22 15:28:13\", \"2018-09-22 15:28:14\", \"2018-09-22 15:28:16\", \"2018-09-22 15:29:18\", \"2018-09-22 15:29:49\", \"2018-09-22 15:34:17\", \"2018-09-22 15:35:06\", \"2018-09-22 15:35:31\", \"2018-09-22 15:35:32\", \"2018-09-22 15:35:35\", \"2018-09-22 15:35:36\", \"2018-09-22 15:36:53\", \"2018-09-22 15:36:54\", \"2018-09-22 15:36:55\", \"2018-09-22 15:37:21\", \"2018-09-22 15:37:22\", \"2018-09-22 15:37:24\", \"2018-09-22 15:37:29\", \"2018-09-22 15:37:31\", \"2018-09-22 15:37:33\", \"2018-09-22 15:37:35\", \"2018-09-22 15:37:38\", \"2018-09-22 15:37:53\", \"2018-09-22 15:37:54\", \"2018-09-22 15:38:05\", \"2018-09-22 15:38:31\", \"2018-09-22 15:38:46\", \"2018-09-22 15:42:01\", \"2018-09-22 15:42:05\", \"2018-09-22 15:43:37\", \"2018-09-22 15:43:41\", \"2018-09-22 15:43:51\", \"2018-09-22 15:43:52\", \"2018-09-22 15:44:09\", \"2018-09-22 15:44:11\", \"2018-09-22 15:44:20\", \"2018-09-22 15:46:37\", \"2018-09-22 15:46:38\", \"2018-09-22 15:48:18\", \"2018-09-22 15:48:19\", \"2018-09-22 15:48:20\", \"2018-09-22 15:48:25\", \"2018-09-22 15:52:00\", \"2018-09-22 15:52:01\", \"2018-09-22 16:00:29\", \"2018-09-22 16:00:30\", \"2018-09-22 16:00:34\", \"2018-09-22 16:00:36\", \"2018-09-22 16:00:38\", \"2018-09-22 16:00:39\", \"2018-09-22 16:00:40\", \"2018-09-22 16:00:41\", \"2018-09-22 16:01:07\", \"2018-09-22 16:01:09\", \"2018-09-22 16:01:10\", \"2018-09-22 16:01:11\", \"2018-09-22 16:01:12\", \"2018-09-22 16:01:13\", \"2018-09-22 16:01:36\", \"2018-09-22 16:01:37\", \"2018-09-22 16:01:38\", \"2018-09-22 16:01:42\", \"2018-09-22 16:01:47\", \"2018-09-22 16:02:02\", \"2018-09-22 16:02:03\", \"2018-09-22 16:02:04\", \"2018-09-22 16:02:25\", \"2018-09-22 16:02:28\", \"2018-09-22 16:02:29\", \"2018-09-22 16:02:30\", \"2018-09-22 16:02:31\", \"2018-09-22 16:02:32\", \"2018-09-22 16:02:33\", \"2018-09-22 16:02:34\", \"2018-09-22 16:04:04\", \"2018-09-22 16:04:05\", \"2018-09-22 16:04:06\", \"2018-09-22 16:04:25\", \"2018-09-22 16:04:27\", \"2018-09-22 16:06:18\", \"2018-09-22 16:06:19\", \"2018-09-22 16:07:36\", \"2018-09-22 16:07:38\", \"2018-09-22 16:07:40\", \"2018-09-22 16:07:41\", \"2018-09-22 16:07:45\", \"2018-09-22 16:10:28\", \"2018-09-22 16:11:27\", \"2018-09-22 16:11:29\", \"2018-09-22 16:11:32\", \"2018-09-22 16:11:34\", \"2018-09-22 16:11:37\", \"2018-09-22 16:11:39\", \"2018-09-22 16:11:42\", \"2018-09-22 16:11:47\", \"2018-09-22 16:11:52\", \"2018-09-22 16:13:49\", \"2018-09-22 16:14:34\", \"2018-09-22 16:14:35\", \"2018-09-22 16:14:36\", \"2018-09-22 16:14:41\", \"2018-09-22 16:14:43\", \"2018-09-22 16:14:45\", \"2018-09-22 16:14:47\", \"2018-09-22 16:15:05\", \"2018-09-22 16:15:06\", \"2018-09-22 16:15:07\", \"2018-09-22 16:15:08\", \"2018-09-22 16:15:09\", \"2018-09-22 16:15:13\", \"2018-09-22 16:15:14\", \"2018-09-22 16:15:15\", \"2018-09-22 16:15:16\", \"2018-09-22 16:17:57\", \"2018-09-22 16:17:58\", \"2018-09-22 16:17:59\", \"2018-09-22 16:18:01\", \"2018-09-22 16:18:02\", \"2018-09-22 16:18:04\", \"2018-09-22 16:18:05\", \"2018-09-22 16:18:06\", \"2018-09-22 16:18:09\", \"2018-09-22 16:18:10\", \"2018-09-22 16:36:22\", \"2018-09-22 16:36:23\", \"2018-09-22 16:36:24\", \"2018-09-22 16:36:25\", \"2018-09-22 16:36:26\", \"2018-09-22 16:36:29\", \"2018-09-22 16:36:30\", \"2018-09-22 16:36:31\", \"2018-09-22 16:37:01\", \"2018-09-22 16:37:03\", \"2018-09-22 16:37:06\", \"2018-09-22 16:37:07\", \"2018-09-22 16:37:09\", \"2018-09-22 16:37:12\", \"2018-09-22 16:37:56\", \"2018-09-22 16:38:05\", \"2018-09-22 16:38:08\", \"2018-09-22 16:38:19\", \"2018-09-22 16:38:21\", \"2018-09-22 16:38:23\", \"2018-09-22 16:38:24\", \"2018-09-22 16:39:04\", \"2018-09-22 16:39:07\", \"2018-09-22 16:39:10\", \"2018-09-22 16:39:12\", \"2018-09-22 16:44:36\", \"2018-09-22 16:45:08\", \"2018-09-22 16:45:09\", \"2018-09-22 16:45:10\", \"2018-09-22 16:45:11\", \"2018-09-22 16:47:03\", \"2018-09-22 16:48:29\", \"2018-09-22 16:48:31\", \"2018-09-22 16:48:32\", \"2018-09-22 16:48:34\", \"2018-09-22 16:51:18\", \"2018-09-22 16:51:48\", \"2018-09-22 16:52:04\", \"2018-09-22 16:52:19\", \"2018-09-22 16:52:21\", \"2018-09-22 16:52:22\", \"2018-09-22 16:52:23\", \"2018-09-22 16:53:53\", \"2018-09-22 16:54:35\", \"2018-09-22 16:54:36\", \"2018-09-22 16:54:37\", \"2018-09-22 16:54:42\", \"2018-09-22 16:54:44\", \"2018-09-22 16:54:46\", \"2018-09-22 16:54:48\", \"2018-09-22 16:54:50\", \"2018-09-22 16:54:52\", \"2018-09-22 16:54:54\", \"2018-09-22 16:54:55\", \"2018-09-22 16:54:57\", \"2018-09-22 16:54:59\", \"2018-09-22 16:55:01\", \"2018-09-22 16:55:03\", \"2018-09-22 16:55:06\", \"2018-09-22 16:55:40\", \"2018-09-22 16:55:44\", \"2018-09-22 16:55:46\", \"2018-09-22 16:55:49\", \"2018-09-22 16:55:51\", \"2018-09-22 16:55:53\", \"2018-09-22 16:55:55\", \"2018-09-22 16:55:57\", \"2018-09-22 16:59:10\", \"2018-09-22 16:59:11\", \"2018-09-22 16:59:12\", \"2018-09-22 16:59:13\", \"2018-09-22 16:59:14\", \"2018-09-22 16:59:15\", \"2018-09-22 16:59:16\", \"2018-09-22 16:59:30\", \"2018-09-22 16:59:31\", \"2018-09-22 16:59:32\", \"2018-09-22 16:59:33\", \"2018-09-22 16:59:35\", \"2018-09-22 17:12:22\", \"2018-09-22 17:12:23\", \"2018-09-22 17:12:26\", \"2018-09-22 17:12:27\", \"2018-09-22 17:12:30\", \"2018-09-22 17:12:31\", \"2018-09-22 17:12:32\", \"2018-09-22 17:12:33\", \"2018-09-22 17:12:34\", \"2018-09-22 17:13:28\", \"2018-09-22 17:13:45\", \"2018-09-22 17:13:46\", \"2018-09-22 17:13:47\", \"2018-09-22 17:13:56\", \"2018-09-22 17:14:08\", \"2018-09-22 17:14:09\", \"2018-09-22 17:14:17\", \"2018-09-22 17:14:18\", \"2018-09-22 17:14:55\", \"2018-09-22 17:14:56\", \"2018-09-22 17:14:57\", \"2018-09-22 17:14:58\", \"2018-09-22 17:14:59\", \"2018-09-22 17:15:00\", \"2018-09-22 17:15:01\", \"2018-09-22 17:15:02\", \"2018-09-22 17:16:15\", \"2018-09-22 17:16:16\", \"2018-09-22 17:16:17\", \"2018-09-22 17:16:47\", \"2018-09-22 17:16:48\", \"2018-09-22 17:16:49\", \"2018-09-22 17:18:32\", \"2018-09-22 17:19:50\", \"2018-09-22 17:19:52\", \"2018-09-22 17:19:55\", \"2018-09-22 17:22:41\", \"2018-09-22 17:23:42\", \"2018-09-22 17:23:44\", \"2018-09-22 17:23:45\", \"2018-09-22 17:23:48\", \"2018-09-22 17:25:19\", \"2018-09-22 17:25:56\", \"2018-09-22 17:26:01\", \"2018-09-22 17:26:04\", \"2018-09-22 17:26:13\", \"2018-09-22 17:26:17\", \"2018-09-22 17:27:20\", \"2018-09-22 17:27:23\", \"2018-09-22 17:27:24\", \"2018-09-22 17:27:27\", \"2018-09-22 17:27:29\", \"2018-09-22 17:27:31\", \"2018-09-22 17:27:33\", \"2018-09-22 17:27:35\", \"2018-09-22 17:27:57\", \"2018-09-22 17:28:00\", \"2018-09-22 17:28:03\", \"2018-09-22 17:28:06\", \"2018-09-22 17:28:08\", \"2018-09-22 17:28:10\", \"2018-09-22 17:28:12\", \"2018-09-22 17:37:29\", \"2018-09-22 17:37:32\", \"2018-09-22 17:37:33\", \"2018-09-22 17:37:35\", \"2018-09-22 17:37:37\", \"2018-09-22 17:38:40\", \"2018-09-22 17:39:58\", \"2018-09-22 17:40:00\", \"2018-09-22 17:40:02\", \"2018-09-22 17:43:42\", \"2018-09-22 17:46:17\", \"2018-09-22 17:46:18\", \"2018-09-22 17:46:19\", \"2018-09-22 17:46:20\", \"2018-09-22 17:46:21\", \"2018-09-22 17:46:22\", \"2018-09-22 17:46:23\", \"2018-09-22 17:46:24\", \"2018-09-22 17:48:25\", \"2018-09-22 17:48:26\", \"2018-09-22 17:48:27\", \"2018-09-22 17:48:28\", \"2018-09-22 17:48:31\", \"2018-09-22 17:48:32\", \"2018-09-22 17:48:33\", \"2018-09-22 17:48:55\", \"2018-09-22 17:48:57\", \"2018-09-22 17:48:58\", \"2018-09-22 17:48:59\", \"2018-09-22 17:49:00\", \"2018-09-22 17:49:22\", \"2018-09-22 17:49:23\", \"2018-09-22 17:49:24\", \"2018-09-22 17:49:29\", \"2018-09-22 17:49:30\", \"2018-09-22 17:49:45\", \"2018-09-22 17:49:46\", \"2018-09-22 17:49:47\", \"2018-09-22 17:50:26\", \"2018-09-22 17:50:27\", \"2018-09-22 17:51:43\", \"2018-09-22 17:51:44\", \"2018-09-22 17:51:45\", \"2018-09-22 17:53:23\", \"2018-09-22 17:54:20\", \"2018-09-22 17:55:18\", \"2018-09-22 17:55:20\", \"2018-09-22 17:55:24\", \"2018-09-22 17:55:25\", \"2018-09-22 17:55:27\", \"2018-09-22 17:55:29\", \"2018-09-22 17:55:30\", \"2018-09-22 17:58:13\", \"2018-09-22 17:58:15\", \"2018-09-22 17:58:52\", \"2018-09-22 17:59:17\", \"2018-09-22 17:59:19\", \"2018-09-22 17:59:21\", \"2018-09-22 17:59:23\", \"2018-09-22 18:01:42\", \"2018-09-22 18:01:45\", \"2018-09-22 18:01:48\", \"2018-09-22 18:03:18\", \"2018-09-22 18:03:20\", \"2018-09-22 18:03:22\", \"2018-09-22 18:03:24\", \"2018-09-22 18:04:00\", \"2018-09-22 18:04:15\", \"2018-09-22 18:04:19\", \"2018-09-22 18:04:22\", \"2018-09-22 18:04:25\", \"2018-09-22 18:04:27\", \"2018-09-22 18:05:39\", \"2018-09-22 18:05:40\", \"2018-09-22 18:05:41\", \"2018-09-22 18:05:42\", \"2018-09-22 18:06:41\", \"2018-09-22 18:06:42\", \"2018-09-22 18:06:44\", \"2018-09-22 18:07:52\", \"2018-09-22 18:10:09\", \"2018-09-22 18:10:10\", \"2018-09-22 18:13:12\", \"2018-09-22 18:13:13\", \"2018-09-22 18:13:14\", \"2018-09-22 18:13:15\", \"2018-09-22 18:13:16\", \"2018-09-22 18:13:17\", \"2018-09-22 18:13:18\", \"2018-09-22 18:13:19\", \"2018-09-22 18:24:24\", \"2018-09-22 18:24:25\", \"2018-09-22 18:24:26\", \"2018-09-22 18:24:27\", \"2018-09-22 18:24:28\", \"2018-09-22 18:24:29\", \"2018-09-22 18:24:52\", \"2018-09-22 18:25:29\", \"2018-09-22 18:25:31\", \"2018-09-22 18:25:32\", \"2018-09-22 18:25:33\", \"2018-09-22 18:25:41\", \"2018-09-22 18:25:46\", \"2018-09-22 18:25:47\", \"2018-09-22 18:25:54\", \"2018-09-22 18:25:58\", \"2018-09-22 18:26:01\", \"2018-09-22 18:26:02\", \"2018-09-22 18:26:03\", \"2018-09-22 18:26:32\", \"2018-09-22 18:26:33\", \"2018-09-22 18:27:51\", \"2018-09-22 18:27:52\", \"2018-09-22 18:27:53\", \"2018-09-22 18:28:10\", \"2018-09-22 18:28:11\", \"2018-09-22 18:28:15\", \"2018-09-22 18:28:16\", \"2018-09-22 18:28:17\", \"2018-09-22 18:29:16\", \"2018-09-22 18:29:35\", \"2018-09-22 18:29:53\", \"2018-09-22 18:30:37\", \"2018-09-22 18:30:45\", \"2018-09-22 18:30:46\", \"2018-09-22 18:32:13\", \"2018-09-22 18:34:59\", \"2018-09-22 18:35:00\", \"2018-09-22 18:36:08\", \"2018-09-22 18:36:12\", \"2018-09-22 18:36:15\", \"2018-09-22 18:36:18\", \"2018-09-22 18:36:20\", \"2018-09-22 18:36:23\", \"2018-09-22 18:38:23\", \"2018-09-22 18:38:31\", \"2018-09-22 18:38:45\", \"2018-09-22 18:40:11\", \"2018-09-22 18:40:12\", \"2018-09-22 18:40:13\", \"2018-09-22 18:40:18\", \"2018-09-22 18:40:19\", \"2018-09-22 18:40:21\", \"2018-09-22 18:40:22\", \"2018-09-22 18:40:23\", \"2018-09-22 18:40:35\", \"2018-09-22 18:40:36\", \"2018-09-22 18:40:37\", \"2018-09-22 18:40:43\", \"2018-09-22 18:40:47\", \"2018-09-22 18:40:51\", \"2018-09-22 18:40:53\", \"2018-09-22 18:40:55\", \"2018-09-22 18:40:56\", \"2018-09-22 18:41:07\", \"2018-09-22 18:41:11\", \"2018-09-22 18:41:18\", \"2018-09-22 18:41:28\", \"2018-09-22 18:41:29\", \"2018-09-22 18:41:30\", \"2018-09-22 18:42:33\", \"2018-09-22 18:42:34\", \"2018-09-22 18:42:35\", \"2018-09-22 18:42:36\", \"2018-09-22 18:42:37\", \"2018-09-22 18:44:51\", \"2018-09-22 18:44:52\", \"2018-09-22 18:44:53\", \"2018-09-22 18:44:54\", \"2018-09-22 18:44:55\", \"2018-09-22 18:44:56\", \"2018-09-22 18:44:57\", \"2018-09-22 18:44:58\", \"2018-09-22 18:44:59\", \"2018-09-22 18:45:00\", \"2018-09-22 18:45:01\", \"2018-09-22 18:45:02\", \"2018-09-22 18:45:03\", \"2018-09-22 18:45:04\", \"2018-09-22 18:45:05\", \"2018-09-22 18:45:06\", \"2018-09-22 18:45:07\", \"2018-09-22 19:00:23\", \"2018-09-22 19:00:27\", \"2018-09-22 19:00:28\", \"2018-09-22 19:00:29\", \"2018-09-22 19:00:30\", \"2018-09-22 19:00:31\", \"2018-09-22 19:00:35\", \"2018-09-22 19:01:20\", \"2018-09-22 19:01:21\", \"2018-09-22 19:02:05\", \"2018-09-22 19:02:06\", \"2018-09-22 19:02:07\", \"2018-09-22 19:02:08\", \"2018-09-22 19:02:14\", \"2018-09-22 19:02:18\", \"2018-09-22 19:02:20\", \"2018-09-22 19:02:31\", \"2018-09-22 19:02:33\", \"2018-09-22 19:02:35\", \"2018-09-22 19:02:38\", \"2018-09-22 19:02:40\", \"2018-09-22 19:02:42\", \"2018-09-22 19:02:43\", \"2018-09-22 19:03:23\", \"2018-09-22 19:03:24\", \"2018-09-22 19:04:39\", \"2018-09-22 19:04:40\", \"2018-09-22 19:05:06\", \"2018-09-22 19:05:20\", \"2018-09-22 19:05:21\", \"2018-09-22 19:05:22\", \"2018-09-22 19:06:37\", \"2018-09-22 19:06:53\", \"2018-09-22 19:17:23\", \"2018-09-22 19:21:42\", \"2018-09-22 19:21:45\", \"2018-09-22 19:24:05\", \"2018-09-22 19:24:11\", \"2018-09-22 19:24:49\", \"2018-09-22 19:24:54\", \"2018-09-22 19:24:59\", \"2018-09-22 19:25:06\", \"2018-09-22 19:25:16\", \"2018-09-22 19:25:26\", \"2018-09-22 19:25:39\", \"2018-09-22 19:26:48\", \"2018-09-22 19:26:50\", \"2018-09-22 19:26:52\", \"2018-09-22 19:26:54\", \"2018-09-22 19:26:56\", \"2018-09-22 19:27:04\", \"2018-09-22 19:27:53\", \"2018-09-22 19:27:55\", \"2018-09-22 19:27:58\", \"2018-09-22 19:30:57\", \"2018-09-22 19:30:59\", \"2018-09-22 19:31:20\", \"2018-09-22 19:32:53\", \"2018-09-22 19:35:50\", \"2018-09-22 19:36:24\", \"2018-09-22 19:36:25\", \"2018-09-22 19:36:26\", \"2018-09-22 19:36:27\", \"2018-09-22 19:36:30\", \"2018-09-22 19:36:33\", \"2018-09-22 19:36:34\", \"2018-09-22 19:37:34\", \"2018-09-22 19:37:41\", \"2018-09-22 19:37:44\", \"2018-09-22 19:37:59\", \"2018-09-22 19:38:02\", \"2018-09-22 19:38:03\", \"2018-09-22 19:38:04\", \"2018-09-22 19:38:05\", \"2018-09-22 19:38:39\", \"2018-09-22 19:38:40\", \"2018-09-22 19:39:04\", \"2018-09-22 19:40:10\", \"2018-09-22 19:40:11\", \"2018-09-22 19:40:12\", \"2018-09-22 19:40:13\", \"2018-09-22 19:40:40\", \"2018-09-22 19:40:41\", \"2018-09-22 19:40:42\", \"2018-09-22 19:40:43\", \"2018-09-22 19:41:48\", \"2018-09-22 19:42:27\", \"2018-09-22 19:42:40\", \"2018-09-22 19:43:49\", \"2018-09-22 19:43:50\", \"2018-09-22 19:43:52\", \"2018-09-22 19:43:54\", \"2018-09-22 19:46:20\", \"2018-09-22 19:46:21\", \"2018-09-22 19:46:22\", \"2018-09-22 19:46:36\", \"2018-09-22 19:47:43\", \"2018-09-22 19:49:57\", \"2018-09-22 19:50:12\", \"2018-09-22 19:50:13\", \"2018-09-22 19:50:14\", \"2018-09-22 19:50:35\", \"2018-09-22 19:50:36\", \"2018-09-22 19:50:37\", \"2018-09-22 19:50:38\", \"2018-09-22 19:50:42\", \"2018-09-22 19:50:45\", \"2018-09-22 19:50:56\", \"2018-09-22 19:51:04\", \"2018-09-22 19:51:06\", \"2018-09-22 19:51:09\", \"2018-09-22 19:51:11\", \"2018-09-22 19:51:14\", \"2018-09-22 19:51:15\", \"2018-09-22 19:51:25\", \"2018-09-22 19:52:39\", \"2018-09-22 19:52:42\", \"2018-09-22 19:52:46\", \"2018-09-22 19:52:49\", \"2018-09-22 19:52:52\", \"2018-09-22 19:52:55\", \"2018-09-22 19:53:02\", \"2018-09-22 19:53:07\", \"2018-09-22 19:53:12\", \"2018-09-22 19:53:15\", \"2018-09-22 19:53:17\", \"2018-09-22 19:53:21\", \"2018-09-22 19:53:24\", \"2018-09-22 19:53:29\", \"2018-09-22 19:53:31\", \"2018-09-22 19:53:37\", \"2018-09-22 19:53:41\", \"2018-09-22 19:53:43\", \"2018-09-22 19:53:46\", \"2018-09-22 19:53:49\", \"2018-09-22 19:53:52\", \"2018-09-22 19:53:53\", \"2018-09-22 19:53:54\", \"2018-09-22 19:53:55\", \"2018-09-22 19:53:56\", \"2018-09-22 19:53:57\", \"2018-09-22 19:53:58\", \"2018-09-22 19:53:59\", \"2018-09-22 19:54:00\", \"2018-09-22 19:54:01\", \"2018-09-22 19:54:02\", \"2018-09-22 19:54:03\", \"2018-09-22 19:54:04\", \"2018-09-22 19:54:29\", \"2018-09-22 19:54:30\", \"2018-09-22 20:12:24\", \"2018-09-22 20:12:27\", \"2018-09-22 20:12:30\", \"2018-09-22 20:12:31\", \"2018-09-22 20:12:32\", \"2018-09-22 20:12:33\", \"2018-09-22 20:12:34\", \"2018-09-22 20:14:09\", \"2018-09-22 20:14:10\", \"2018-09-22 20:14:11\", \"2018-09-22 20:14:12\", \"2018-09-22 20:14:13\", \"2018-09-22 20:14:39\", \"2018-09-22 20:14:40\", \"2018-09-22 20:14:49\", \"2018-09-22 20:14:57\", \"2018-09-22 20:15:12\", \"2018-09-22 20:15:13\", \"2018-09-22 20:15:14\", \"2018-09-22 20:15:15\", \"2018-09-22 20:15:52\", \"2018-09-22 20:15:53\", \"2018-09-22 20:18:10\", \"2018-09-22 20:18:11\", \"2018-09-22 20:18:12\", \"2018-09-22 20:18:23\", \"2018-09-22 20:18:26\", \"2018-09-22 20:18:27\", \"2018-09-22 20:18:28\", \"2018-09-22 20:18:31\", \"2018-09-22 20:18:32\", \"2018-09-22 20:18:33\", \"2018-09-22 20:18:48\", \"2018-09-22 20:18:49\", \"2018-09-22 20:19:56\", \"2018-09-22 20:20:25\", \"2018-09-22 20:20:50\", \"2018-09-22 20:20:51\", \"2018-09-22 20:22:16\", \"2018-09-22 20:25:10\", \"2018-09-22 20:25:11\", \"2018-09-22 20:25:13\", \"2018-09-22 20:26:09\", \"2018-09-22 20:26:12\", \"2018-09-22 20:26:13\", \"2018-09-22 20:26:15\", \"2018-09-22 20:26:17\", \"2018-09-22 20:26:19\", \"2018-09-22 20:28:10\", \"2018-09-22 20:28:16\", \"2018-09-22 20:28:22\", \"2018-09-22 20:29:03\", \"2018-09-22 20:29:04\", \"2018-09-22 20:29:11\", \"2018-09-22 20:29:13\", \"2018-09-22 20:29:15\", \"2018-09-22 20:29:17\", \"2018-09-22 20:29:19\", \"2018-09-22 20:29:21\", \"2018-09-22 20:29:23\", \"2018-09-22 20:29:53\", \"2018-09-22 20:29:56\", \"2018-09-22 20:29:58\", \"2018-09-22 20:30:00\", \"2018-09-22 20:30:02\", \"2018-09-22 20:33:58\", \"2018-09-22 20:33:59\", \"2018-09-22 20:34:00\", \"2018-09-22 20:34:01\", \"2018-09-22 20:34:02\", \"2018-09-22 20:34:03\", \"2018-09-22 20:48:22\", \"2018-09-22 20:48:23\", \"2018-09-22 20:48:24\", \"2018-09-22 20:48:25\", \"2018-09-22 20:48:26\", \"2018-09-22 20:48:27\", \"2018-09-22 20:48:28\", \"2018-09-22 20:49:24\", \"2018-09-22 20:49:28\", \"2018-09-22 20:49:30\", \"2018-09-22 20:49:32\", \"2018-09-22 20:49:37\", \"2018-09-22 20:49:39\", \"2018-09-22 20:49:41\", \"2018-09-22 20:49:43\", \"2018-09-22 20:49:44\", \"2018-09-22 20:50:09\", \"2018-09-22 20:50:10\", \"2018-09-22 20:50:15\", \"2018-09-22 20:50:18\", \"2018-09-22 20:50:26\", \"2018-09-22 20:50:28\", \"2018-09-22 20:50:30\", \"2018-09-22 20:50:32\", \"2018-09-22 20:50:34\", \"2018-09-22 20:50:35\", \"2018-09-22 20:50:36\", \"2018-09-22 20:51:14\", \"2018-09-22 20:51:15\", \"2018-09-22 20:51:16\", \"2018-09-22 20:52:51\", \"2018-09-22 20:52:52\", \"2018-09-22 20:52:53\", \"2018-09-22 20:54:07\", \"2018-09-22 20:54:08\", \"2018-09-22 20:54:09\", \"2018-09-22 20:56:54\", \"2018-09-22 20:57:05\", \"2018-09-22 20:57:07\", \"2018-09-22 20:57:08\", \"2018-09-22 20:57:10\", \"2018-09-22 20:58:21\", \"2018-09-22 20:58:23\", \"2018-09-22 20:58:24\", \"2018-09-22 20:58:25\", \"2018-09-22 20:58:27\", \"2018-09-22 21:01:29\", \"2018-09-22 21:01:31\", \"2018-09-22 21:02:58\", \"2018-09-22 21:02:59\", \"2018-09-22 21:04:59\", \"2018-09-22 21:05:00\", \"2018-09-22 21:05:01\", \"2018-09-22 21:05:41\", \"2018-09-22 21:06:06\", \"2018-09-22 21:06:08\", \"2018-09-22 21:06:10\", \"2018-09-22 21:06:12\", \"2018-09-22 21:06:15\", \"2018-09-22 21:06:16\", \"2018-09-22 21:09:23\", \"2018-09-22 21:09:24\", \"2018-09-22 21:09:27\", \"2018-09-22 21:24:22\", \"2018-09-22 21:24:23\", \"2018-09-22 21:24:24\", \"2018-09-22 21:24:25\", \"2018-09-22 21:24:29\", \"2018-09-22 21:24:30\", \"2018-09-22 21:24:31\", \"2018-09-22 21:24:32\", \"2018-09-22 21:25:51\", \"2018-09-22 21:25:54\", \"2018-09-22 21:26:06\", \"2018-09-22 21:26:22\", \"2018-09-22 21:26:23\", \"2018-09-22 21:26:24\", \"2018-09-22 21:26:25\", \"2018-09-22 21:26:32\", \"2018-09-22 21:26:37\", \"2018-09-22 21:26:39\", \"2018-09-22 21:26:52\", \"2018-09-22 21:26:54\", \"2018-09-22 21:26:58\", \"2018-09-22 21:27:01\", \"2018-09-22 21:27:03\", \"2018-09-22 21:27:06\", \"2018-09-22 21:27:07\", \"2018-09-22 21:28:10\", \"2018-09-22 21:28:11\", \"2018-09-22 21:29:33\", \"2018-09-22 21:29:34\", \"2018-09-22 21:29:35\", \"2018-09-22 21:29:36\", \"2018-09-22 21:29:48\", \"2018-09-22 21:29:59\", \"2018-09-22 21:30:01\", \"2018-09-22 21:30:04\", \"2018-09-22 21:30:05\", \"2018-09-22 21:30:06\", \"2018-09-22 21:30:07\", \"2018-09-22 21:31:19\", \"2018-09-22 21:31:20\", \"2018-09-22 21:31:22\", \"2018-09-22 21:31:24\", \"2018-09-22 21:31:59\", \"2018-09-22 21:32:00\", \"2018-09-22 21:32:26\", \"2018-09-22 21:32:29\", \"2018-09-22 21:32:30\", \"2018-09-22 21:32:31\", \"2018-09-22 21:33:18\", \"2018-09-22 21:33:49\", \"2018-09-22 21:33:50\", \"2018-09-22 21:33:52\", \"2018-09-22 21:33:54\", \"2018-09-22 21:33:59\", \"2018-09-22 21:34:01\", \"2018-09-22 21:34:03\", \"2018-09-22 21:34:04\", \"2018-09-22 21:37:25\", \"2018-09-22 21:37:27\", \"2018-09-22 21:38:38\", \"2018-09-22 21:40:28\", \"2018-09-22 21:40:33\", \"2018-09-22 21:41:16\", \"2018-09-22 21:41:18\", \"2018-09-22 21:41:39\", \"2018-09-22 21:41:41\", \"2018-09-22 21:41:43\", \"2018-09-22 21:41:45\", \"2018-09-22 21:41:48\", \"2018-09-22 21:41:51\", \"2018-09-22 21:41:53\", \"2018-09-22 21:45:05\", \"2018-09-22 21:45:06\", \"2018-09-22 21:45:07\", \"2018-09-22 21:45:08\", \"2018-09-22 21:45:09\", \"2018-09-22 21:45:11\", \"2018-09-22 21:45:12\", \"2018-09-22 21:45:13\", \"2018-09-22 21:45:18\", \"2018-09-22 22:00:32\", \"2018-09-22 22:00:43\", \"2018-09-22 22:00:44\", \"2018-09-22 22:00:45\", \"2018-09-22 22:00:46\", \"2018-09-22 22:00:47\", \"2018-09-22 22:02:59\", \"2018-09-22 22:03:00\", \"2018-09-22 22:03:01\", \"2018-09-22 22:03:02\", \"2018-09-22 22:03:11\", \"2018-09-22 22:03:15\", \"2018-09-22 22:03:16\", \"2018-09-22 22:03:19\", \"2018-09-22 22:03:21\", \"2018-09-22 22:03:29\", \"2018-09-22 22:03:32\", \"2018-09-22 22:03:34\", \"2018-09-22 22:03:36\", \"2018-09-22 22:03:39\", \"2018-09-22 22:03:40\", \"2018-09-22 22:03:41\", \"2018-09-22 22:04:12\", \"2018-09-22 22:04:13\", \"2018-09-22 22:07:30\", \"2018-09-22 22:07:31\", \"2018-09-22 22:07:33\", \"2018-09-22 22:08:07\", \"2018-09-22 22:08:08\", \"2018-09-22 22:08:22\", \"2018-09-22 22:09:34\", \"2018-09-22 22:09:41\", \"2018-09-22 22:10:30\", \"2018-09-22 22:11:44\", \"2018-09-22 22:12:07\", \"2018-09-22 22:12:08\", \"2018-09-22 22:12:10\", \"2018-09-22 22:12:12\", \"2018-09-22 22:12:14\", \"2018-09-22 22:15:23\", \"2018-09-22 22:16:30\", \"2018-09-22 22:16:32\", \"2018-09-22 22:17:42\", \"2018-09-22 22:18:25\", \"2018-09-22 22:18:32\", \"2018-09-22 22:18:35\", \"2018-09-22 22:18:37\", \"2018-09-22 22:19:20\", \"2018-09-22 22:19:28\", \"2018-09-22 22:19:31\", \"2018-09-22 22:20:00\", \"2018-09-22 22:20:02\", \"2018-09-22 22:20:04\", \"2018-09-22 22:22:50\", \"2018-09-22 22:22:55\", \"2018-09-22 22:22:57\", \"2018-09-22 22:22:59\", \"2018-09-22 22:23:01\", \"2018-09-22 22:23:03\", \"2018-09-22 22:23:05\", \"2018-09-22 22:23:07\", \"2018-09-22 22:25:03\", \"2018-09-22 22:26:06\", \"2018-09-22 22:26:09\", \"2018-09-22 22:26:13\", \"2018-09-22 22:26:15\", \"2018-09-22 22:26:17\", \"2018-09-22 22:27:20\", \"2018-09-22 22:27:22\", \"2018-09-22 22:27:25\", \"2018-09-22 22:27:26\", \"2018-09-22 22:35:55\", \"2018-09-22 22:35:57\", \"2018-09-22 22:36:35\", \"2018-09-22 22:36:36\", \"2018-09-22 22:39:47\", \"2018-09-22 22:39:48\", \"2018-09-22 22:40:13\", \"2018-09-22 22:40:16\", \"2018-09-22 22:40:34\", \"2018-09-22 22:40:37\", \"2018-09-22 22:40:40\", \"2018-09-22 22:40:43\", \"2018-09-22 22:40:44\", \"2018-09-22 22:41:15\", \"2018-09-22 22:41:19\", \"2018-09-22 22:41:22\", \"2018-09-22 22:41:25\", \"2018-09-22 22:41:27\", \"2018-09-22 22:41:29\", \"2018-09-22 22:41:32\", \"2018-09-22 22:41:34\", \"2018-09-22 22:41:37\", \"2018-09-22 22:41:39\", \"2018-09-22 22:41:43\", \"2018-09-22 22:45:31\", \"2018-09-22 22:45:32\", \"2018-09-22 22:49:17\", \"2018-09-22 22:49:19\", \"2018-09-22 22:49:20\", \"2018-09-22 22:49:22\", \"2018-09-22 22:52:29\", \"2018-09-22 22:56:03\", \"2018-09-22 22:56:36\", \"2018-09-22 23:01:39\", \"2018-09-22 23:12:35\", \"2018-09-22 23:13:46\", \"2018-09-22 23:13:47\", \"2018-09-22 23:14:16\", \"2018-09-22 23:14:19\", \"2018-09-22 23:14:20\", \"2018-09-22 23:14:21\", \"2018-09-22 23:16:42\", \"2018-09-22 23:16:43\", \"2018-09-22 23:16:45\", \"2018-09-22 23:16:47\", \"2018-09-22 23:16:48\", \"2018-09-22 23:16:49\", \"2018-09-22 23:28:37\", \"2018-09-22 23:28:40\", \"2018-09-22 23:32:01\", \"2018-09-22 23:36:01\", \"2018-09-22 23:36:02\", \"2018-09-22 23:36:04\", \"2018-09-22 23:36:07\", \"2018-09-22 23:49:59\", \"2018-09-22 23:50:00\", \"2018-09-22 23:50:01\", \"2018-09-22 23:50:02\", \"2018-09-22 23:50:55\", \"2018-09-22 23:50:56\", \"2018-09-22 23:51:12\", \"2018-09-22 23:51:13\", \"2018-09-22 23:52:48\", \"2018-09-22 23:52:49\", \"2018-09-22 23:53:03\", \"2018-09-22 23:53:05\", \"2018-09-22 23:53:06\", \"2018-09-22 23:53:07\", \"2018-09-22 23:53:10\", \"2018-09-22 23:53:13\", \"2018-09-22 23:53:14\", \"2018-09-22 23:56:22\", \"2018-09-22 23:56:29\", \"2018-09-22 23:56:40\", \"2018-09-22 23:56:41\", \"2018-09-22 23:56:42\", \"2018-09-22 23:56:43\", \"2018-09-22 23:56:44\", \"2018-09-22 23:56:45\", \"2018-09-23 00:14:57\", \"2018-09-23 00:14:58\", \"2018-09-23 00:15:17\", \"2018-09-23 00:18:14\", \"2018-09-23 00:24:29\", \"2018-09-23 00:25:21\", \"2018-09-23 00:25:46\", \"2018-09-23 00:26:27\", \"2018-09-23 00:26:32\", \"2018-09-23 00:26:36\", \"2018-09-23 00:26:39\", \"2018-09-23 00:26:41\", \"2018-09-23 00:26:44\", \"2018-09-23 00:26:47\", \"2018-09-23 00:26:50\", \"2018-09-23 00:26:54\", \"2018-09-23 00:26:57\", \"2018-09-23 00:27:00\", \"2018-09-23 00:28:20\", \"2018-09-23 00:28:54\", \"2018-09-23 00:30:06\", \"2018-09-23 00:30:07\", \"2018-09-23 00:31:00\", \"2018-09-23 00:31:03\", \"2018-09-23 00:32:31\", \"2018-09-23 00:39:33\", \"2018-09-23 00:39:35\", \"2018-09-23 00:39:46\", \"2018-09-23 00:39:50\", \"2018-09-23 00:39:53\", \"2018-09-23 00:39:54\", \"2018-09-23 00:39:59\", \"2018-09-23 00:41:44\", \"2018-09-23 00:41:45\", \"2018-09-23 00:45:06\", \"2018-09-23 01:00:28\", \"2018-09-23 01:06:48\", \"2018-09-23 01:06:53\", \"2018-09-23 01:07:00\", \"2018-09-23 01:07:03\", \"2018-09-23 01:07:04\", \"2018-09-23 01:07:05\", \"2018-09-23 01:10:31\", \"2018-09-23 01:18:25\", \"2018-09-23 01:18:27\", \"2018-09-23 01:18:45\", \"2018-09-23 01:18:46\", \"2018-09-23 01:36:33\", \"2018-09-23 01:58:00\", \"2018-09-23 01:58:01\", \"2018-09-23 01:58:02\", \"2018-09-23 01:58:03\", \"2018-09-23 01:58:05\", \"2018-09-23 01:58:06\", \"2018-09-23 01:58:08\", \"2018-09-23 01:58:09\", \"2018-09-23 01:58:10\", \"2018-09-23 01:58:11\", \"2018-09-23 01:58:12\", \"2018-09-23 01:58:13\", \"2018-09-23 01:58:14\", \"2018-09-23 02:01:15\", \"2018-09-23 02:03:13\", \"2018-09-23 02:08:20\", \"2018-09-23 02:08:22\", \"2018-09-23 02:08:24\", \"2018-09-23 02:08:26\", \"2018-09-23 02:09:53\", \"2018-09-23 02:12:58\", \"2018-09-23 02:13:18\", \"2018-09-23 02:13:26\", \"2018-09-23 02:13:35\", \"2018-09-23 02:13:39\", \"2018-09-23 02:44:17\", \"2018-09-23 02:44:50\", \"2018-09-23 02:45:06\", \"2018-09-23 02:45:07\", \"2018-09-23 02:45:08\", \"2018-09-23 02:49:25\", \"2018-09-23 02:49:30\", \"2018-09-23 02:49:31\", \"2018-09-23 02:49:32\", \"2018-09-23 02:49:43\", \"2018-09-23 02:49:44\", \"2018-09-23 02:56:13\", \"2018-09-23 02:56:14\", \"2018-09-23 02:56:16\", \"2018-09-23 03:24:28\", \"2018-09-23 03:25:35\", \"2018-09-23 03:25:47\", \"2018-09-23 03:25:48\", \"2018-09-23 03:29:09\", \"2018-09-23 03:36:25\", \"2018-09-23 03:36:26\", \"2018-09-23 03:36:27\", \"2018-09-23 03:38:41\", \"2018-09-23 03:38:44\", \"2018-09-23 03:38:59\", \"2018-09-23 04:01:46\", \"2018-09-23 04:12:37\", \"2018-09-23 04:36:28\", \"2018-09-23 04:36:29\", \"2018-09-23 04:37:28\", \"2018-09-23 04:37:29\", \"2018-09-23 04:37:47\", \"2018-09-23 04:41:14\", \"2018-09-23 04:48:17\", \"2018-09-23 04:50:49\", \"2018-09-23 05:12:29\", \"2018-09-23 05:13:58\", \"2018-09-23 05:21:20\", \"2018-09-23 05:25:06\", \"2018-09-23 05:25:07\", \"2018-09-23 05:25:08\", \"2018-09-23 05:48:28\", \"2018-09-23 06:00:31\", \"2018-09-23 06:00:32\", \"2018-09-23 06:24:29\", \"2018-09-23 06:25:36\", \"2018-09-23 06:27:17\", \"2018-09-23 06:32:55\", \"2018-09-23 07:01:50\", \"2018-09-23 07:08:58\", \"2018-09-23 07:09:00\", \"2018-09-23 07:12:12\", \"2018-09-23 07:12:35\", \"2018-09-23 07:14:34\", \"2018-09-23 07:14:57\", \"2018-09-23 07:14:58\", \"2018-09-23 07:36:28\", \"2018-09-23 07:36:29\", \"2018-09-23 07:44:58\", \"2018-09-23 07:46:12\", \"2018-09-23 07:46:17\", \"2018-09-23 07:49:04\", \"2018-09-23 07:49:05\", \"2018-09-23 07:49:31\", \"2018-09-23 08:12:26\", \"2018-09-23 08:12:27\", \"2018-09-23 08:12:28\", \"2018-09-23 08:13:20\", \"2018-09-23 08:13:25\", \"2018-09-23 08:14:52\", \"2018-09-23 08:14:53\", \"2018-09-23 08:15:15\", \"2018-09-23 08:16:51\", \"2018-09-23 08:16:52\", \"2018-09-23 08:20:51\", \"2018-09-23 08:20:53\", \"2018-09-23 08:21:55\", \"2018-09-23 08:21:58\", \"2018-09-23 08:22:02\", \"2018-09-23 08:22:05\", \"2018-09-23 08:22:08\", \"2018-09-23 08:22:10\", \"2018-09-23 08:24:54\", \"2018-09-23 08:25:17\", \"2018-09-23 08:25:19\", \"2018-09-23 08:25:20\", \"2018-09-23 08:25:21\", \"2018-09-23 08:25:22\", \"2018-09-23 08:25:27\", \"2018-09-23 08:25:43\", \"2018-09-23 08:27:39\", \"2018-09-23 08:27:48\", \"2018-09-23 08:48:28\", \"2018-09-23 08:48:29\", \"2018-09-23 08:49:22\", \"2018-09-23 08:49:34\", \"2018-09-23 08:49:35\", \"2018-09-23 08:51:14\", \"2018-09-23 08:51:15\", \"2018-09-23 08:51:42\", \"2018-09-23 08:51:43\", \"2018-09-23 08:54:44\", \"2018-09-23 08:54:45\", \"2018-09-23 08:57:30\", \"2018-09-23 08:58:51\", \"2018-09-23 08:58:55\", \"2018-09-23 08:58:57\", \"2018-09-23 09:01:59\", \"2018-09-23 09:03:13\", \"2018-09-23 09:03:14\", \"2018-09-23 09:03:21\", \"2018-09-23 09:03:23\", \"2018-09-23 09:03:39\", \"2018-09-23 09:03:53\", \"2018-09-23 09:03:54\", \"2018-09-23 09:04:21\", \"2018-09-23 09:04:22\", \"2018-09-23 09:06:48\", \"2018-09-23 09:24:24\", \"2018-09-23 09:24:25\", \"2018-09-23 09:24:26\", \"2018-09-23 09:24:27\", \"2018-09-23 09:24:28\", \"2018-09-23 09:24:37\", \"2018-09-23 09:25:13\", \"2018-09-23 09:25:25\", \"2018-09-23 09:25:32\", \"2018-09-23 09:25:41\", \"2018-09-23 09:26:01\", \"2018-09-23 09:26:30\", \"2018-09-23 09:27:12\", \"2018-09-23 09:27:13\", \"2018-09-23 09:27:27\", \"2018-09-23 09:27:40\", \"2018-09-23 09:30:53\", \"2018-09-23 09:30:55\", \"2018-09-23 09:30:56\", \"2018-09-23 09:33:44\", \"2018-09-23 09:33:45\", \"2018-09-23 09:35:14\", \"2018-09-23 09:35:21\", \"2018-09-23 09:35:27\", \"2018-09-23 09:35:32\", \"2018-09-23 09:35:34\", \"2018-09-23 09:35:38\", \"2018-09-23 09:35:41\", \"2018-09-23 09:38:23\", \"2018-09-23 09:38:24\", \"2018-09-23 09:39:13\", \"2018-09-23 09:39:20\", \"2018-09-23 09:39:22\", \"2018-09-23 09:39:24\", \"2018-09-23 09:39:26\", \"2018-09-23 09:39:27\", \"2018-09-23 09:39:28\", \"2018-09-23 09:39:42\", \"2018-09-23 09:39:43\", \"2018-09-23 09:39:49\", \"2018-09-23 09:39:50\", \"2018-09-23 09:39:51\", \"2018-09-23 09:40:45\", \"2018-09-23 09:40:46\", \"2018-09-23 09:41:00\", \"2018-09-23 09:43:04\", \"2018-09-23 09:46:05\", \"2018-09-23 09:46:07\", \"2018-09-23 09:46:17\", \"2018-09-23 10:00:26\", \"2018-09-23 10:00:27\", \"2018-09-23 10:00:28\", \"2018-09-23 10:00:29\", \"2018-09-23 10:00:30\", \"2018-09-23 10:01:22\", \"2018-09-23 10:01:31\", \"2018-09-23 10:01:32\", \"2018-09-23 10:01:41\", \"2018-09-23 10:01:42\", \"2018-09-23 10:01:43\", \"2018-09-23 10:02:04\", \"2018-09-23 10:03:44\", \"2018-09-23 10:04:46\", \"2018-09-23 10:05:55\", \"2018-09-23 10:06:03\", \"2018-09-23 10:06:04\", \"2018-09-23 10:06:55\", \"2018-09-23 10:08:02\", \"2018-09-23 10:08:43\", \"2018-09-23 10:09:28\", \"2018-09-23 10:12:14\", \"2018-09-23 10:12:15\", \"2018-09-23 10:14:04\", \"2018-09-23 10:14:10\", \"2018-09-23 10:14:14\", \"2018-09-23 10:14:17\", \"2018-09-23 10:14:23\", \"2018-09-23 10:14:30\", \"2018-09-23 10:18:15\", \"2018-09-23 10:18:34\", \"2018-09-23 10:18:41\", \"2018-09-23 10:19:08\", \"2018-09-23 10:19:11\", \"2018-09-23 10:19:12\", \"2018-09-23 10:19:18\", \"2018-09-23 10:19:35\", \"2018-09-23 10:19:36\", \"2018-09-23 10:19:37\", \"2018-09-23 10:19:47\", \"2018-09-23 10:22:28\", \"2018-09-23 10:22:48\", \"2018-09-23 10:36:25\", \"2018-09-23 10:36:26\", \"2018-09-23 10:36:27\", \"2018-09-23 10:36:28\", \"2018-09-23 10:37:20\", \"2018-09-23 10:37:23\", \"2018-09-23 10:37:25\", \"2018-09-23 10:37:38\", \"2018-09-23 10:37:40\", \"2018-09-23 10:37:41\", \"2018-09-23 10:37:42\", \"2018-09-23 10:37:43\", \"2018-09-23 10:37:54\", \"2018-09-23 10:37:55\", \"2018-09-23 10:38:08\", \"2018-09-23 10:38:11\", \"2018-09-23 10:38:12\", \"2018-09-23 10:39:23\", \"2018-09-23 10:39:24\", \"2018-09-23 10:39:49\", \"2018-09-23 10:39:50\", \"2018-09-23 10:39:51\", \"2018-09-23 10:40:04\", \"2018-09-23 10:41:31\", \"2018-09-23 10:42:14\", \"2018-09-23 10:42:15\", \"2018-09-23 10:43:34\", \"2018-09-23 10:46:31\", \"2018-09-23 10:46:32\", \"2018-09-23 10:46:34\", \"2018-09-23 10:46:35\", \"2018-09-23 10:48:38\", \"2018-09-23 10:48:41\", \"2018-09-23 10:53:17\", \"2018-09-23 10:53:20\", \"2018-09-23 10:54:20\", \"2018-09-23 10:54:21\", \"2018-09-23 10:54:28\", \"2018-09-23 10:54:53\", \"2018-09-23 10:54:54\", \"2018-09-23 10:56:57\", \"2018-09-23 10:56:58\", \"2018-09-23 11:12:24\", \"2018-09-23 11:12:25\", \"2018-09-23 11:12:26\", \"2018-09-23 11:12:27\", \"2018-09-23 11:12:28\", \"2018-09-23 11:13:11\", \"2018-09-23 11:13:14\", \"2018-09-23 11:13:16\", \"2018-09-23 11:13:18\", \"2018-09-23 11:13:19\", \"2018-09-23 11:13:20\", \"2018-09-23 11:13:21\", \"2018-09-23 11:13:36\", \"2018-09-23 11:13:39\", \"2018-09-23 11:13:41\", \"2018-09-23 11:13:42\", \"2018-09-23 11:13:46\", \"2018-09-23 11:13:48\", \"2018-09-23 11:13:51\", \"2018-09-23 11:13:53\", \"2018-09-23 11:13:55\", \"2018-09-23 11:13:57\", \"2018-09-23 11:13:58\", \"2018-09-23 11:13:59\", \"2018-09-23 11:14:00\", \"2018-09-23 11:14:33\", \"2018-09-23 11:14:34\", \"2018-09-23 11:15:56\", \"2018-09-23 11:17:15\", \"2018-09-23 11:18:53\", \"2018-09-23 11:18:54\", \"2018-09-23 11:20:11\", \"2018-09-23 11:23:11\", \"2018-09-23 11:24:11\", \"2018-09-23 11:24:14\", \"2018-09-23 11:24:17\", \"2018-09-23 11:24:19\", \"2018-09-23 11:24:21\", \"2018-09-23 11:24:23\", \"2018-09-23 11:26:39\", \"2018-09-23 11:26:46\", \"2018-09-23 11:26:48\", \"2018-09-23 11:27:24\", \"2018-09-23 11:27:25\", \"2018-09-23 11:27:27\", \"2018-09-23 11:27:31\", \"2018-09-23 11:27:33\", \"2018-09-23 11:27:34\", \"2018-09-23 11:27:46\", \"2018-09-23 11:27:47\", \"2018-09-23 11:27:50\", \"2018-09-23 11:27:53\", \"2018-09-23 11:27:55\", \"2018-09-23 11:27:56\", \"2018-09-23 11:27:57\", \"2018-09-23 11:28:23\", \"2018-09-23 11:28:24\", \"2018-09-23 11:28:25\", \"2018-09-23 11:31:58\", \"2018-09-23 11:31:59\", \"2018-09-23 11:32:01\", \"2018-09-23 11:32:02\", \"2018-09-23 11:32:03\", \"2018-09-23 11:32:04\", \"2018-09-23 11:32:06\", \"2018-09-23 11:32:25\", \"2018-09-23 11:32:28\", \"2018-09-23 11:48:25\", \"2018-09-23 11:48:26\", \"2018-09-23 11:48:29\", \"2018-09-23 11:48:33\", \"2018-09-23 11:48:36\", \"2018-09-23 11:48:37\", \"2018-09-23 11:48:38\", \"2018-09-23 11:48:39\", \"2018-09-23 11:49:20\", \"2018-09-23 11:49:41\", \"2018-09-23 11:49:42\", \"2018-09-23 11:49:57\", \"2018-09-23 11:50:05\", \"2018-09-23 11:50:07\", \"2018-09-23 11:50:10\", \"2018-09-23 11:50:12\", \"2018-09-23 11:50:15\", \"2018-09-23 11:50:18\", \"2018-09-23 11:50:21\", \"2018-09-23 11:50:24\", \"2018-09-23 11:50:42\", \"2018-09-23 11:51:08\", \"2018-09-23 11:51:09\", \"2018-09-23 11:51:11\", \"2018-09-23 11:51:12\", \"2018-09-23 11:52:20\", \"2018-09-23 11:52:21\", \"2018-09-23 11:52:41\", \"2018-09-23 11:52:51\", \"2018-09-23 11:52:52\", \"2018-09-23 11:52:53\", \"2018-09-23 11:52:54\", \"2018-09-23 11:55:22\", \"2018-09-23 11:56:21\", \"2018-09-23 11:58:15\", \"2018-09-23 11:59:40\", \"2018-09-23 11:59:42\", \"2018-09-23 11:59:44\", \"2018-09-23 12:02:37\", \"2018-09-23 12:02:40\", \"2018-09-23 12:02:41\", \"2018-09-23 12:02:43\", \"2018-09-23 12:04:03\", \"2018-09-23 12:04:06\", \"2018-09-23 12:06:53\", \"2018-09-23 12:06:59\", \"2018-09-23 12:07:08\", \"2018-09-23 12:07:38\", \"2018-09-23 12:07:39\", \"2018-09-23 12:07:48\", \"2018-09-23 12:07:50\", \"2018-09-23 12:07:52\", \"2018-09-23 12:07:54\", \"2018-09-23 12:07:56\", \"2018-09-23 12:08:41\", \"2018-09-23 12:17:43\", \"2018-09-23 12:17:44\", \"2018-09-23 12:21:38\", \"2018-09-23 12:21:39\", \"2018-09-23 12:21:41\", \"2018-09-23 12:21:42\", \"2018-09-23 12:21:43\", \"2018-09-23 12:24:24\", \"2018-09-23 12:24:27\", \"2018-09-23 12:24:28\", \"2018-09-23 12:24:31\", \"2018-09-23 12:24:33\", \"2018-09-23 12:24:34\", \"2018-09-23 12:24:36\", \"2018-09-23 12:24:37\", \"2018-09-23 12:25:02\", \"2018-09-23 12:25:11\", \"2018-09-23 12:25:12\", \"2018-09-23 12:25:14\", \"2018-09-23 12:25:16\", \"2018-09-23 12:25:17\", \"2018-09-23 12:25:18\", \"2018-09-23 12:25:19\", \"2018-09-23 12:25:20\", \"2018-09-23 12:25:31\", \"2018-09-23 12:25:42\", \"2018-09-23 12:25:56\", \"2018-09-23 12:26:00\", \"2018-09-23 12:26:01\", \"2018-09-23 12:26:19\", \"2018-09-23 12:26:22\", \"2018-09-23 12:26:25\", \"2018-09-23 12:26:27\", \"2018-09-23 12:26:42\", \"2018-09-23 12:26:49\", \"2018-09-23 12:27:06\", \"2018-09-23 12:27:07\", \"2018-09-23 12:28:18\", \"2018-09-23 12:28:19\", \"2018-09-23 12:28:33\", \"2018-09-23 12:28:44\", \"2018-09-23 12:28:46\", \"2018-09-23 12:28:48\", \"2018-09-23 12:28:51\", \"2018-09-23 12:28:52\", \"2018-09-23 12:29:50\", \"2018-09-23 12:30:01\", \"2018-09-23 12:30:02\", \"2018-09-23 12:30:05\", \"2018-09-23 12:31:01\", \"2018-09-23 12:32:15\", \"2018-09-23 12:32:18\", \"2018-09-23 12:32:20\", \"2018-09-23 12:32:23\", \"2018-09-23 12:32:24\", \"2018-09-23 12:35:26\", \"2018-09-23 12:35:29\", \"2018-09-23 12:35:30\", \"2018-09-23 12:36:34\", \"2018-09-23 12:36:36\", \"2018-09-23 12:36:38\", \"2018-09-23 12:36:40\", \"2018-09-23 12:38:48\", \"2018-09-23 12:39:41\", \"2018-09-23 12:39:43\", \"2018-09-23 12:39:48\", \"2018-09-23 12:39:50\", \"2018-09-23 12:39:52\", \"2018-09-23 12:39:54\", \"2018-09-23 12:39:56\", \"2018-09-23 12:40:02\", \"2018-09-23 12:40:14\", \"2018-09-23 12:40:19\", \"2018-09-23 12:40:20\", \"2018-09-23 12:40:21\", \"2018-09-23 12:40:44\", \"2018-09-23 12:40:50\", \"2018-09-23 12:40:51\", \"2018-09-23 12:40:52\", \"2018-09-23 12:40:53\", \"2018-09-23 12:40:54\", \"2018-09-23 12:40:59\", \"2018-09-23 12:41:13\", \"2018-09-23 12:42:48\", \"2018-09-23 12:43:09\", \"2018-09-23 12:44:52\", \"2018-09-23 12:44:53\", \"2018-09-23 12:44:55\", \"2018-09-23 12:44:56\", \"2018-09-23 12:45:05\", \"2018-09-23 13:00:35\", \"2018-09-23 13:00:36\", \"2018-09-23 13:00:37\", \"2018-09-23 13:00:38\", \"2018-09-23 13:00:41\", \"2018-09-23 13:00:42\", \"2018-09-23 13:01:58\", \"2018-09-23 13:02:10\", \"2018-09-23 13:02:12\", \"2018-09-23 13:02:13\", \"2018-09-23 13:02:17\", \"2018-09-23 13:02:19\", \"2018-09-23 13:02:21\", \"2018-09-23 13:02:23\", \"2018-09-23 13:02:25\", \"2018-09-23 13:02:26\", \"2018-09-23 13:02:27\", \"2018-09-23 13:02:28\", \"2018-09-23 13:02:40\", \"2018-09-23 13:03:01\", \"2018-09-23 13:03:02\", \"2018-09-23 13:04:15\", \"2018-09-23 13:04:16\", \"2018-09-23 13:04:30\", \"2018-09-23 13:04:51\", \"2018-09-23 13:04:52\", \"2018-09-23 13:06:33\", \"2018-09-23 13:07:28\", \"2018-09-23 13:08:56\", \"2018-09-23 13:11:50\", \"2018-09-23 13:13:03\", \"2018-09-23 13:13:06\", \"2018-09-23 13:13:09\", \"2018-09-23 13:15:39\", \"2018-09-23 13:15:41\", \"2018-09-23 13:16:34\", \"2018-09-23 13:16:41\", \"2018-09-23 13:16:43\", \"2018-09-23 13:16:45\", \"2018-09-23 13:16:47\", \"2018-09-23 13:17:01\", \"2018-09-23 13:17:02\", \"2018-09-23 13:17:16\", \"2018-09-23 13:17:17\", \"2018-09-23 13:20:20\", \"2018-09-23 13:20:21\", \"2018-09-23 13:20:27\", \"2018-09-23 13:36:30\", \"2018-09-23 13:36:31\", \"2018-09-23 13:36:32\", \"2018-09-23 13:36:55\", \"2018-09-23 13:36:56\", \"2018-09-23 13:36:57\", \"2018-09-23 13:36:58\", \"2018-09-23 13:36:59\", \"2018-09-23 13:37:16\", \"2018-09-23 13:37:27\", \"2018-09-23 13:37:28\", \"2018-09-23 13:37:32\", \"2018-09-23 13:37:46\", \"2018-09-23 13:37:48\", \"2018-09-23 13:37:50\", \"2018-09-23 13:37:52\", \"2018-09-23 13:37:55\", \"2018-09-23 13:37:57\", \"2018-09-23 13:37:59\", \"2018-09-23 13:38:12\", \"2018-09-23 13:38:33\", \"2018-09-23 13:38:34\", \"2018-09-23 13:39:47\", \"2018-09-23 13:39:48\", \"2018-09-23 13:40:04\", \"2018-09-23 13:40:18\", \"2018-09-23 13:40:19\", \"2018-09-23 13:40:20\", \"2018-09-23 13:41:28\", \"2018-09-23 13:41:30\", \"2018-09-23 13:41:31\", \"2018-09-23 13:42:15\", \"2018-09-23 13:43:23\", \"2018-09-23 13:43:25\", \"2018-09-23 13:43:29\", \"2018-09-23 13:43:31\", \"2018-09-23 13:46:19\", \"2018-09-23 13:46:20\", \"2018-09-23 13:47:04\", \"2018-09-23 13:47:06\", \"2018-09-23 13:47:07\", \"2018-09-23 13:47:09\", \"2018-09-23 13:47:10\", \"2018-09-23 13:47:11\", \"2018-09-23 13:47:13\", \"2018-09-23 13:48:56\", \"2018-09-23 13:49:40\", \"2018-09-23 13:49:50\", \"2018-09-23 13:49:52\", \"2018-09-23 13:49:55\", \"2018-09-23 13:50:20\", \"2018-09-23 13:50:21\", \"2018-09-23 13:50:22\", \"2018-09-23 13:53:21\", \"2018-09-23 13:53:23\", \"2018-09-23 13:53:24\", \"2018-09-23 13:53:25\", \"2018-09-23 13:53:26\", \"2018-09-23 13:53:30\", \"2018-09-23 13:53:31\", \"2018-09-23 13:58:43\", \"2018-09-23 13:58:44\", \"2018-09-23 13:58:45\", \"2018-09-23 13:58:59\", \"2018-09-23 13:59:01\", \"2018-09-23 13:59:02\", \"2018-09-23 13:59:04\", \"2018-09-23 13:59:05\", \"2018-09-23 13:59:06\", \"2018-09-23 13:59:07\", \"2018-09-23 14:12:29\", \"2018-09-23 14:12:31\", \"2018-09-23 14:12:32\", \"2018-09-23 14:12:33\", \"2018-09-23 14:12:36\", \"2018-09-23 14:13:28\", \"2018-09-23 14:13:29\", \"2018-09-23 14:13:30\", \"2018-09-23 14:13:36\", \"2018-09-23 14:13:37\", \"2018-09-23 14:13:38\", \"2018-09-23 14:13:53\", \"2018-09-23 14:13:55\", \"2018-09-23 14:13:56\", \"2018-09-23 14:14:20\", \"2018-09-23 14:14:23\", \"2018-09-23 14:14:25\", \"2018-09-23 14:14:26\", \"2018-09-23 14:14:27\", \"2018-09-23 14:14:28\", \"2018-09-23 14:15:54\", \"2018-09-23 14:15:55\", \"2018-09-23 14:16:08\", \"2018-09-23 14:16:27\", \"2018-09-23 14:16:30\", \"2018-09-23 14:16:33\", \"2018-09-23 14:16:34\", \"2018-09-23 14:16:35\", \"2018-09-23 14:16:36\", \"2018-09-23 14:18:32\", \"2018-09-23 14:18:35\", \"2018-09-23 14:19:52\", \"2018-09-23 14:21:14\", \"2018-09-23 14:21:17\", \"2018-09-23 14:21:19\", \"2018-09-23 14:21:21\", \"2018-09-23 14:21:22\", \"2018-09-23 14:24:22\", \"2018-09-23 14:25:30\", \"2018-09-23 14:25:32\", \"2018-09-23 14:25:34\", \"2018-09-23 14:28:29\", \"2018-09-23 14:28:36\", \"2018-09-23 14:28:39\", \"2018-09-23 14:28:41\", \"2018-09-23 14:28:43\", \"2018-09-23 14:28:45\", \"2018-09-23 14:28:47\", \"2018-09-23 14:28:50\", \"2018-09-23 14:28:52\", \"2018-09-23 14:28:55\", \"2018-09-23 14:29:10\", \"2018-09-23 14:29:11\", \"2018-09-23 14:29:21\", \"2018-09-23 14:29:25\", \"2018-09-23 14:29:27\", \"2018-09-23 14:29:28\", \"2018-09-23 14:30:10\", \"2018-09-23 14:30:13\", \"2018-09-23 14:30:15\", \"2018-09-23 14:30:16\", \"2018-09-23 14:30:17\", \"2018-09-23 14:30:41\", \"2018-09-23 14:35:00\", \"2018-09-23 14:35:01\", \"2018-09-23 14:35:02\", \"2018-09-23 14:35:03\", \"2018-09-23 14:35:09\", \"2018-09-23 14:35:11\", \"2018-09-23 14:35:13\", \"2018-09-23 14:35:15\", \"2018-09-23 14:35:18\", \"2018-09-23 14:35:19\", \"2018-09-23 14:35:21\", \"2018-09-23 14:48:22\", \"2018-09-23 14:48:23\", \"2018-09-23 14:48:24\", \"2018-09-23 14:48:27\", \"2018-09-23 14:48:28\", \"2018-09-23 14:48:29\", \"2018-09-23 14:48:30\", \"2018-09-23 14:48:31\", \"2018-09-23 14:49:13\", \"2018-09-23 14:49:14\", \"2018-09-23 14:49:15\", \"2018-09-23 14:49:48\", \"2018-09-23 14:49:49\", \"2018-09-23 14:49:50\", \"2018-09-23 14:49:51\", \"2018-09-23 14:50:23\", \"2018-09-23 14:50:35\", \"2018-09-23 14:50:38\", \"2018-09-23 14:50:52\", \"2018-09-23 14:50:53\", \"2018-09-23 14:51:36\", \"2018-09-23 14:53:21\", \"2018-09-23 14:53:23\", \"2018-09-23 14:53:26\", \"2018-09-23 14:53:27\", \"2018-09-23 14:53:59\", \"2018-09-23 14:54:01\", \"2018-09-23 14:54:04\", \"2018-09-23 14:54:05\", \"2018-09-23 14:54:14\", \"2018-09-23 14:54:16\", \"2018-09-23 14:54:21\", \"2018-09-23 14:54:24\", \"2018-09-23 14:54:27\", \"2018-09-23 14:54:29\", \"2018-09-23 14:54:30\", \"2018-09-23 14:54:31\", \"2018-09-23 14:55:52\", \"2018-09-23 14:55:59\", \"2018-09-23 14:56:00\", \"2018-09-23 14:56:01\", \"2018-09-23 14:56:42\", \"2018-09-23 14:56:44\", \"2018-09-23 14:56:45\", \"2018-09-23 14:58:13\", \"2018-09-23 14:58:15\", \"2018-09-23 15:01:15\", \"2018-09-23 15:01:16\", \"2018-09-23 15:02:04\", \"2018-09-23 15:02:05\", \"2018-09-23 15:02:07\", \"2018-09-23 15:02:08\", \"2018-09-23 15:02:10\", \"2018-09-23 15:03:31\", \"2018-09-23 15:03:40\", \"2018-09-23 15:04:41\", \"2018-09-23 15:05:00\", \"2018-09-23 15:05:02\", \"2018-09-23 15:05:06\", \"2018-09-23 15:05:09\", \"2018-09-23 15:05:12\", \"2018-09-23 15:05:45\", \"2018-09-23 15:05:48\", \"2018-09-23 15:05:49\", \"2018-09-23 15:06:03\", \"2018-09-23 15:10:16\", \"2018-09-23 15:10:17\", \"2018-09-23 15:10:18\", \"2018-09-23 15:10:19\", \"2018-09-23 15:10:20\", \"2018-09-23 15:16:34\", \"2018-09-23 15:16:35\", \"2018-09-23 15:16:36\", \"2018-09-23 15:16:37\", \"2018-09-23 15:16:38\", \"2018-09-23 15:24:22\", \"2018-09-23 15:24:23\", \"2018-09-23 15:24:24\", \"2018-09-23 15:24:25\", \"2018-09-23 15:24:26\", \"2018-09-23 15:24:27\", \"2018-09-23 15:24:28\", \"2018-09-23 15:24:33\", \"2018-09-23 15:25:15\", \"2018-09-23 15:25:16\", \"2018-09-23 15:25:17\", \"2018-09-23 15:25:26\", \"2018-09-23 15:25:55\", \"2018-09-23 15:25:56\", \"2018-09-23 15:26:01\", \"2018-09-23 15:26:12\", \"2018-09-23 15:26:14\", \"2018-09-23 15:26:15\", \"2018-09-23 15:26:40\", \"2018-09-23 15:26:45\", \"2018-09-23 15:26:46\", \"2018-09-23 15:26:47\", \"2018-09-23 15:26:48\", \"2018-09-23 15:26:49\", \"2018-09-23 15:26:50\", \"2018-09-23 15:27:10\", \"2018-09-23 15:27:26\", \"2018-09-23 15:27:31\", \"2018-09-23 15:27:36\", \"2018-09-23 15:27:38\", \"2018-09-23 15:27:40\", \"2018-09-23 15:27:42\", \"2018-09-23 15:27:43\", \"2018-09-23 15:27:45\", \"2018-09-23 15:27:48\", \"2018-09-23 15:27:50\", \"2018-09-23 15:27:52\", \"2018-09-23 15:29:00\", \"2018-09-23 15:29:01\", \"2018-09-23 15:29:17\", \"2018-09-23 15:31:57\", \"2018-09-23 15:38:06\", \"2018-09-23 15:38:07\", \"2018-09-23 15:38:09\", \"2018-09-23 15:38:10\", \"2018-09-23 15:38:12\", \"2018-09-23 15:39:52\", \"2018-09-23 15:40:00\", \"2018-09-23 15:40:02\", \"2018-09-23 15:40:25\", \"2018-09-23 15:40:45\", \"2018-09-23 15:40:47\", \"2018-09-23 15:40:50\", \"2018-09-23 15:40:53\", \"2018-09-23 15:40:55\", \"2018-09-23 15:41:00\", \"2018-09-23 15:41:32\", \"2018-09-23 15:41:33\", \"2018-09-23 15:41:40\", \"2018-09-23 15:41:41\", \"2018-09-23 15:52:39\", \"2018-09-23 15:53:31\", \"2018-09-23 15:53:32\", \"2018-09-23 15:53:33\", \"2018-09-23 15:53:34\", \"2018-09-23 15:53:40\", \"2018-09-23 15:56:05\", \"2018-09-23 15:56:06\", \"2018-09-23 15:56:07\", \"2018-09-23 15:56:08\", \"2018-09-23 15:56:10\", \"2018-09-23 15:56:11\", \"2018-09-23 15:56:12\", \"2018-09-23 15:56:13\", \"2018-09-23 15:56:14\", \"2018-09-23 15:56:15\", \"2018-09-23 15:56:16\", \"2018-09-23 15:56:18\", \"2018-09-23 16:00:30\", \"2018-09-23 16:00:34\", \"2018-09-23 16:00:38\", \"2018-09-23 16:00:39\", \"2018-09-23 16:00:40\", \"2018-09-23 16:00:41\", \"2018-09-23 16:00:42\", \"2018-09-23 16:00:46\", \"2018-09-23 16:00:47\", \"2018-09-23 16:01:13\", \"2018-09-23 16:01:17\", \"2018-09-23 16:01:37\", \"2018-09-23 16:01:38\", \"2018-09-23 16:01:43\", \"2018-09-23 16:01:47\", \"2018-09-23 16:01:59\", \"2018-09-23 16:02:01\", \"2018-09-23 16:02:02\", \"2018-09-23 16:02:07\", \"2018-09-23 16:02:09\", \"2018-09-23 16:02:11\", \"2018-09-23 16:02:14\", \"2018-09-23 16:02:16\", \"2018-09-23 16:02:19\", \"2018-09-23 16:02:21\", \"2018-09-23 16:02:24\", \"2018-09-23 16:02:26\", \"2018-09-23 16:02:27\", \"2018-09-23 16:03:10\", \"2018-09-23 16:03:13\", \"2018-09-23 16:03:16\", \"2018-09-23 16:03:19\", \"2018-09-23 16:04:51\", \"2018-09-23 16:04:52\", \"2018-09-23 16:05:09\", \"2018-09-23 16:05:20\", \"2018-09-23 16:05:21\", \"2018-09-23 16:05:22\", \"2018-09-23 16:05:23\", \"2018-09-23 16:09:42\", \"2018-09-23 16:10:33\", \"2018-09-23 16:10:57\", \"2018-09-23 16:10:58\", \"2018-09-23 16:11:00\", \"2018-09-23 16:11:02\", \"2018-09-23 16:11:05\", \"2018-09-23 16:15:04\", \"2018-09-23 16:15:05\", \"2018-09-23 16:15:46\", \"2018-09-23 16:16:05\", \"2018-09-23 16:16:06\", \"2018-09-23 16:17:32\", \"2018-09-23 16:17:40\", \"2018-09-23 16:18:25\", \"2018-09-23 16:18:26\", \"2018-09-23 16:18:27\", \"2018-09-23 16:18:37\", \"2018-09-23 16:19:20\", \"2018-09-23 16:19:21\", \"2018-09-23 16:19:44\", \"2018-09-23 16:19:45\", \"2018-09-23 16:19:48\", \"2018-09-23 16:19:51\", \"2018-09-23 16:19:52\", \"2018-09-23 16:19:53\", \"2018-09-23 16:20:24\", \"2018-09-23 16:23:02\", \"2018-09-23 16:24:24\", \"2018-09-23 16:25:25\", \"2018-09-23 16:28:03\", \"2018-09-23 16:28:04\", \"2018-09-23 16:28:05\", \"2018-09-23 16:28:06\", \"2018-09-23 16:28:07\", \"2018-09-23 16:28:09\", \"2018-09-23 16:36:22\", \"2018-09-23 16:36:23\", \"2018-09-23 16:36:24\", \"2018-09-23 16:36:25\", \"2018-09-23 16:36:26\", \"2018-09-23 16:36:27\", \"2018-09-23 16:36:28\", \"2018-09-23 16:36:50\", \"2018-09-23 16:36:52\", \"2018-09-23 16:36:54\", \"2018-09-23 16:36:56\", \"2018-09-23 16:36:58\", \"2018-09-23 16:37:00\", \"2018-09-23 16:37:01\", \"2018-09-23 16:37:02\", \"2018-09-23 16:37:03\", \"2018-09-23 16:37:22\", \"2018-09-23 16:37:23\", \"2018-09-23 16:37:24\", \"2018-09-23 16:37:25\", \"2018-09-23 16:37:29\", \"2018-09-23 16:37:34\", \"2018-09-23 16:37:39\", \"2018-09-23 16:37:40\", \"2018-09-23 16:37:43\", \"2018-09-23 16:37:55\", \"2018-09-23 16:37:57\", \"2018-09-23 16:37:59\", \"2018-09-23 16:38:01\", \"2018-09-23 16:38:03\", \"2018-09-23 16:38:06\", \"2018-09-23 16:38:08\", \"2018-09-23 16:38:40\", \"2018-09-23 16:38:41\", \"2018-09-23 16:39:53\", \"2018-09-23 16:39:54\", \"2018-09-23 16:39:55\", \"2018-09-23 16:39:56\", \"2018-09-23 16:40:35\", \"2018-09-23 16:40:36\", \"2018-09-23 16:43:02\", \"2018-09-23 16:43:03\", \"2018-09-23 16:44:14\", \"2018-09-23 16:45:44\", \"2018-09-23 16:45:47\", \"2018-09-23 16:45:48\", \"2018-09-23 16:45:52\", \"2018-09-23 16:45:55\", \"2018-09-23 16:45:57\", \"2018-09-23 16:48:52\", \"2018-09-23 16:49:45\", \"2018-09-23 16:49:47\", \"2018-09-23 16:49:48\", \"2018-09-23 16:50:56\", \"2018-09-23 16:51:00\", \"2018-09-23 16:51:06\", \"2018-09-23 16:51:09\", \"2018-09-23 16:51:15\", \"2018-09-23 16:51:29\", \"2018-09-23 16:52:28\", \"2018-09-23 16:52:35\", \"2018-09-23 16:52:38\", \"2018-09-23 16:52:41\", \"2018-09-23 16:52:44\", \"2018-09-23 16:52:47\", \"2018-09-23 16:52:51\", \"2018-09-23 16:53:16\", \"2018-09-23 16:53:18\", \"2018-09-23 16:53:19\", \"2018-09-23 16:55:39\", \"2018-09-23 16:55:40\", \"2018-09-23 16:55:41\", \"2018-09-23 16:55:42\", \"2018-09-23 16:55:43\", \"2018-09-23 16:55:44\", \"2018-09-23 16:55:45\", \"2018-09-23 16:55:46\", \"2018-09-23 16:55:47\", \"2018-09-23 16:55:51\", \"2018-09-23 17:12:22\", \"2018-09-23 17:12:23\", \"2018-09-23 17:12:26\", \"2018-09-23 17:12:27\", \"2018-09-23 17:12:28\", \"2018-09-23 17:12:31\", \"2018-09-23 17:12:32\", \"2018-09-23 17:13:23\", \"2018-09-23 17:13:25\", \"2018-09-23 17:13:27\", \"2018-09-23 17:13:34\", \"2018-09-23 17:13:54\", \"2018-09-23 17:13:55\", \"2018-09-23 17:13:56\", \"2018-09-23 17:14:12\", \"2018-09-23 17:14:14\", \"2018-09-23 17:14:15\", \"2018-09-23 17:14:16\", \"2018-09-23 17:14:26\", \"2018-09-23 17:14:27\", \"2018-09-23 17:14:34\", \"2018-09-23 17:14:37\", \"2018-09-23 17:14:38\", \"2018-09-23 17:14:39\", \"2018-09-23 17:14:40\", \"2018-09-23 17:14:41\", \"2018-09-23 17:14:42\", \"2018-09-23 17:14:43\", \"2018-09-23 17:14:44\", \"2018-09-23 17:14:45\", \"2018-09-23 17:14:46\", \"2018-09-23 17:16:04\", \"2018-09-23 17:16:05\", \"2018-09-23 17:16:06\", \"2018-09-23 17:16:07\", \"2018-09-23 17:16:27\", \"2018-09-23 17:16:34\", \"2018-09-23 17:16:35\", \"2018-09-23 17:16:36\", \"2018-09-23 17:16:37\", \"2018-09-23 17:17:35\", \"2018-09-23 17:17:37\", \"2018-09-23 17:17:38\", \"2018-09-23 17:18:25\", \"2018-09-23 17:18:26\", \"2018-09-23 17:19:38\", \"2018-09-23 17:19:39\", \"2018-09-23 17:19:41\", \"2018-09-23 17:19:43\", \"2018-09-23 17:19:44\", \"2018-09-23 17:19:48\", \"2018-09-23 17:19:49\", \"2018-09-23 17:19:51\", \"2018-09-23 17:22:13\", \"2018-09-23 17:22:14\", \"2018-09-23 17:22:15\", \"2018-09-23 17:22:17\", \"2018-09-23 17:22:18\", \"2018-09-23 17:22:19\", \"2018-09-23 17:22:21\", \"2018-09-23 17:22:22\", \"2018-09-23 17:22:23\", \"2018-09-23 17:22:25\", \"2018-09-23 17:22:26\", \"2018-09-23 17:22:27\", \"2018-09-23 17:22:29\", \"2018-09-23 17:22:30\", \"2018-09-23 17:22:31\", \"2018-09-23 17:22:33\", \"2018-09-23 17:22:34\", \"2018-09-23 17:23:25\", \"2018-09-23 17:23:26\", \"2018-09-23 17:23:27\", \"2018-09-23 17:24:52\", \"2018-09-23 17:24:57\", \"2018-09-23 17:24:59\", \"2018-09-23 17:25:15\", \"2018-09-23 17:25:41\", \"2018-09-23 17:25:43\", \"2018-09-23 17:25:44\", \"2018-09-23 17:25:54\", \"2018-09-23 17:25:58\", \"2018-09-23 17:26:01\", \"2018-09-23 17:26:05\", \"2018-09-23 17:26:10\", \"2018-09-23 17:26:13\", \"2018-09-23 17:26:15\", \"2018-09-23 17:26:21\", \"2018-09-23 17:26:27\", \"2018-09-23 17:26:47\", \"2018-09-23 17:26:51\", \"2018-09-23 17:26:53\", \"2018-09-23 17:26:55\", \"2018-09-23 17:26:57\", \"2018-09-23 17:26:58\", \"2018-09-23 17:27:10\", \"2018-09-23 17:27:12\", \"2018-09-23 17:27:14\", \"2018-09-23 17:27:18\", \"2018-09-23 17:27:20\", \"2018-09-23 17:27:22\", \"2018-09-23 17:27:24\", \"2018-09-23 17:27:26\", \"2018-09-23 17:27:28\", \"2018-09-23 17:27:30\", \"2018-09-23 17:27:32\", \"2018-09-23 17:27:35\", \"2018-09-23 17:27:37\", \"2018-09-23 17:27:38\", \"2018-09-23 17:27:39\", \"2018-09-23 17:27:40\", \"2018-09-23 17:27:41\", \"2018-09-23 17:27:43\", \"2018-09-23 17:27:44\", \"2018-09-23 17:27:45\", \"2018-09-23 17:27:46\", \"2018-09-23 17:27:49\", \"2018-09-23 17:27:58\", \"2018-09-23 17:28:03\", \"2018-09-23 17:29:55\", \"2018-09-23 17:29:56\", \"2018-09-23 17:29:57\", \"2018-09-23 17:29:58\", \"2018-09-23 17:29:59\", \"2018-09-23 17:30:00\", \"2018-09-23 17:30:01\", \"2018-09-23 17:30:02\", \"2018-09-23 17:30:03\", \"2018-09-23 17:30:04\", \"2018-09-23 17:30:05\", \"2018-09-23 17:48:24\", \"2018-09-23 17:48:25\", \"2018-09-23 17:48:26\", \"2018-09-23 17:48:27\", \"2018-09-23 17:48:31\", \"2018-09-23 17:48:33\", \"2018-09-23 17:48:34\", \"2018-09-23 17:48:44\", \"2018-09-23 17:49:58\", \"2018-09-23 17:49:59\", \"2018-09-23 17:50:04\", \"2018-09-23 17:50:40\", \"2018-09-23 17:50:41\", \"2018-09-23 17:50:42\", \"2018-09-23 17:50:56\", \"2018-09-23 17:50:59\", \"2018-09-23 17:51:05\", \"2018-09-23 17:51:09\", \"2018-09-23 17:51:12\", \"2018-09-23 17:51:14\", \"2018-09-23 17:51:16\", \"2018-09-23 17:51:17\", \"2018-09-23 17:51:18\", \"2018-09-23 17:51:19\", \"2018-09-23 17:52:01\", \"2018-09-23 17:52:05\", \"2018-09-23 17:52:08\", \"2018-09-23 17:52:11\", \"2018-09-23 17:53:41\", \"2018-09-23 17:53:42\", \"2018-09-23 17:54:27\", \"2018-09-23 17:58:02\", \"2018-09-23 17:58:03\", \"2018-09-23 17:58:04\", \"2018-09-23 17:59:42\", \"2018-09-23 17:59:44\", \"2018-09-23 17:59:46\", \"2018-09-23 17:59:48\", \"2018-09-23 18:04:08\", \"2018-09-23 18:04:10\", \"2018-09-23 18:05:32\", \"2018-09-23 18:05:33\", \"2018-09-23 18:06:09\", \"2018-09-23 18:06:10\", \"2018-09-23 18:06:11\", \"2018-09-23 18:06:22\", \"2018-09-23 18:06:25\", \"2018-09-23 18:06:29\", \"2018-09-23 18:06:32\", \"2018-09-23 18:06:36\", \"2018-09-23 18:06:39\", \"2018-09-23 18:06:43\", \"2018-09-23 18:06:46\", \"2018-09-23 18:06:47\", \"2018-09-23 18:07:00\", \"2018-09-23 18:07:01\", \"2018-09-23 18:07:14\", \"2018-09-23 18:07:16\", \"2018-09-23 18:07:21\", \"2018-09-23 18:07:23\", \"2018-09-23 18:09:42\", \"2018-09-23 18:09:43\", \"2018-09-23 18:09:48\", \"2018-09-23 18:09:49\", \"2018-09-23 18:09:50\", \"2018-09-23 18:09:51\", \"2018-09-23 18:09:52\", \"2018-09-23 18:09:53\", \"2018-09-23 18:09:54\", \"2018-09-23 18:09:55\", \"2018-09-23 18:09:56\", \"2018-09-23 18:09:57\", \"2018-09-23 18:24:23\", \"2018-09-23 18:24:24\", \"2018-09-23 18:24:25\", \"2018-09-23 18:24:26\", \"2018-09-23 18:24:27\", \"2018-09-23 18:24:32\", \"2018-09-23 18:24:33\", \"2018-09-23 18:24:34\", \"2018-09-23 18:25:35\", \"2018-09-23 18:25:36\", \"2018-09-23 18:25:37\", \"2018-09-23 18:25:43\", \"2018-09-23 18:25:47\", \"2018-09-23 18:25:48\", \"2018-09-23 18:25:53\", \"2018-09-23 18:26:05\", \"2018-09-23 18:26:08\", \"2018-09-23 18:26:11\", \"2018-09-23 18:26:14\", \"2018-09-23 18:26:17\", \"2018-09-23 18:26:20\", \"2018-09-23 18:26:23\", \"2018-09-23 18:26:27\", \"2018-09-23 18:27:00\", \"2018-09-23 18:27:01\", \"2018-09-23 18:27:04\", \"2018-09-23 18:27:07\", \"2018-09-23 18:27:08\", \"2018-09-23 18:27:09\", \"2018-09-23 18:27:10\", \"2018-09-23 18:27:11\", \"2018-09-23 18:28:30\", \"2018-09-23 18:28:31\", \"2018-09-23 18:28:50\", \"2018-09-23 18:28:59\", \"2018-09-23 18:29:00\", \"2018-09-23 18:29:01\", \"2018-09-23 18:30:34\", \"2018-09-23 18:30:35\", \"2018-09-23 18:31:49\", \"2018-09-23 18:31:51\", \"2018-09-23 18:31:53\", \"2018-09-23 18:31:54\", \"2018-09-23 18:31:56\", \"2018-09-23 18:31:58\", \"2018-09-23 18:32:00\", \"2018-09-23 18:32:03\", \"2018-09-23 18:35:37\", \"2018-09-23 18:35:39\", \"2018-09-23 18:36:50\", \"2018-09-23 18:36:54\", \"2018-09-23 18:39:02\", \"2018-09-23 18:39:07\", \"2018-09-23 18:39:10\", \"2018-09-23 18:39:12\", \"2018-09-23 18:39:13\", \"2018-09-23 18:39:14\", \"2018-09-23 18:41:41\", \"2018-09-23 18:41:42\", \"2018-09-23 18:41:43\", \"2018-09-23 18:41:44\", \"2018-09-23 18:41:45\", \"2018-09-23 18:41:46\", \"2018-09-23 18:41:47\", \"2018-09-23 18:41:48\", \"2018-09-23 19:00:22\", \"2018-09-23 19:00:23\", \"2018-09-23 19:00:24\", \"2018-09-23 19:00:25\", \"2018-09-23 19:00:26\", \"2018-09-23 19:00:32\", \"2018-09-23 19:00:33\", \"2018-09-23 19:00:34\", \"2018-09-23 19:00:35\", \"2018-09-23 19:00:40\", \"2018-09-23 19:01:15\", \"2018-09-23 19:01:16\", \"2018-09-23 19:01:17\", \"2018-09-23 19:01:18\", \"2018-09-23 19:01:48\", \"2018-09-23 19:01:49\", \"2018-09-23 19:01:50\", \"2018-09-23 19:01:51\", \"2018-09-23 19:01:52\", \"2018-09-23 19:01:56\", \"2018-09-23 19:02:08\", \"2018-09-23 19:02:09\", \"2018-09-23 19:02:28\", \"2018-09-23 19:02:31\", \"2018-09-23 19:02:35\", \"2018-09-23 19:02:36\", \"2018-09-23 19:03:12\", \"2018-09-23 19:03:16\", \"2018-09-23 19:03:20\", \"2018-09-23 19:03:25\", \"2018-09-23 19:03:27\", \"2018-09-23 19:03:28\", \"2018-09-23 19:04:36\", \"2018-09-23 19:04:37\", \"2018-09-23 19:04:38\", \"2018-09-23 19:04:39\", \"2018-09-23 19:04:51\", \"2018-09-23 19:05:14\", \"2018-09-23 19:05:15\", \"2018-09-23 19:05:16\", \"2018-09-23 19:05:57\", \"2018-09-23 19:06:41\", \"2018-09-23 19:06:42\", \"2018-09-23 19:08:09\", \"2018-09-23 19:08:11\", \"2018-09-23 19:08:14\", \"2018-09-23 19:08:15\", \"2018-09-23 19:08:17\", \"2018-09-23 19:08:19\", \"2018-09-23 19:08:21\", \"2018-09-23 19:08:22\", \"2018-09-23 19:11:54\", \"2018-09-23 19:11:55\", \"2018-09-23 19:11:56\", \"2018-09-23 19:11:57\", \"2018-09-23 19:11:59\", \"2018-09-23 19:13:25\", \"2018-09-23 19:13:28\", \"2018-09-23 19:13:29\", \"2018-09-23 19:14:20\", \"2018-09-23 19:15:43\", \"2018-09-23 19:15:45\", \"2018-09-23 19:15:48\", \"2018-09-23 19:15:51\", \"2018-09-23 19:15:54\", \"2018-09-23 19:15:57\", \"2018-09-23 19:18:03\", \"2018-09-23 19:18:04\", \"2018-09-23 19:18:05\", \"2018-09-23 19:18:06\", \"2018-09-23 19:36:26\", \"2018-09-23 19:36:27\", \"2018-09-23 19:36:28\", \"2018-09-23 19:36:38\", \"2018-09-23 19:36:40\", \"2018-09-23 19:36:41\", \"2018-09-23 19:37:18\", \"2018-09-23 19:37:20\", \"2018-09-23 19:37:23\", \"2018-09-23 19:37:26\", \"2018-09-23 19:37:27\", \"2018-09-23 19:38:20\", \"2018-09-23 19:38:21\", \"2018-09-23 19:38:22\", \"2018-09-23 19:38:23\", \"2018-09-23 19:38:34\", \"2018-09-23 19:38:37\", \"2018-09-23 19:38:38\", \"2018-09-23 19:38:41\", \"2018-09-23 19:39:03\", \"2018-09-23 19:39:04\", \"2018-09-23 19:39:05\", \"2018-09-23 19:39:51\", \"2018-09-23 19:39:52\", \"2018-09-23 19:39:53\", \"2018-09-23 19:41:09\", \"2018-09-23 19:41:10\", \"2018-09-23 19:41:11\", \"2018-09-23 19:41:46\", \"2018-09-23 19:41:47\", \"2018-09-23 19:41:48\", \"2018-09-23 19:41:49\", \"2018-09-23 19:43:04\", \"2018-09-23 19:43:09\", \"2018-09-23 19:44:33\", \"2018-09-23 19:44:35\", \"2018-09-23 19:44:37\", \"2018-09-23 19:44:38\", \"2018-09-23 19:44:40\", \"2018-09-23 19:44:42\", \"2018-09-23 19:44:43\", \"2018-09-23 19:48:46\", \"2018-09-23 19:48:47\", \"2018-09-23 19:48:49\", \"2018-09-23 19:48:50\", \"2018-09-23 19:48:53\", \"2018-09-23 19:50:30\", \"2018-09-23 19:50:32\", \"2018-09-23 19:50:34\", \"2018-09-23 19:50:41\", \"2018-09-23 19:50:42\", \"2018-09-23 19:50:46\", \"2018-09-23 19:52:01\", \"2018-09-23 19:52:05\", \"2018-09-23 19:52:09\", \"2018-09-23 19:52:13\", \"2018-09-23 19:52:17\", \"2018-09-23 19:52:22\", \"2018-09-23 19:53:11\", \"2018-09-23 19:53:14\", \"2018-09-23 19:53:17\", \"2018-09-23 19:53:18\", \"2018-09-23 19:53:23\", \"2018-09-23 19:55:33\", \"2018-09-23 19:55:35\", \"2018-09-23 19:55:36\", \"2018-09-23 19:55:37\", \"2018-09-23 19:55:38\", \"2018-09-23 20:12:24\", \"2018-09-23 20:12:35\", \"2018-09-23 20:12:37\", \"2018-09-23 20:12:38\", \"2018-09-23 20:12:39\", \"2018-09-23 20:12:40\", \"2018-09-23 20:12:41\", \"2018-09-23 20:12:42\", \"2018-09-23 20:12:43\", \"2018-09-23 20:13:38\", \"2018-09-23 20:13:41\", \"2018-09-23 20:13:42\", \"2018-09-23 20:14:35\", \"2018-09-23 20:14:36\", \"2018-09-23 20:14:37\", \"2018-09-23 20:15:02\", \"2018-09-23 20:15:03\", \"2018-09-23 20:15:22\", \"2018-09-23 20:15:23\", \"2018-09-23 20:15:24\", \"2018-09-23 20:15:33\", \"2018-09-23 20:15:54\", \"2018-09-23 20:15:55\", \"2018-09-23 20:15:56\", \"2018-09-23 20:15:58\", \"2018-09-23 20:17:02\", \"2018-09-23 20:17:03\", \"2018-09-23 20:17:04\", \"2018-09-23 20:17:43\", \"2018-09-23 20:19:06\", \"2018-09-23 20:19:11\", \"2018-09-23 20:20:39\", \"2018-09-23 20:20:41\", \"2018-09-23 20:20:43\", \"2018-09-23 20:20:45\", \"2018-09-23 20:20:47\", \"2018-09-23 20:20:49\", \"2018-09-23 20:24:23\", \"2018-09-23 20:24:24\", \"2018-09-23 20:24:26\", \"2018-09-23 20:24:27\", \"2018-09-23 20:24:28\", \"2018-09-23 20:24:30\", \"2018-09-23 20:24:32\", \"2018-09-23 20:24:33\", \"2018-09-23 20:25:42\", \"2018-09-23 20:25:50\", \"2018-09-23 20:25:54\", \"2018-09-23 20:25:57\", \"2018-09-23 20:26:02\", \"2018-09-23 20:26:04\", \"2018-09-23 20:26:56\", \"2018-09-23 20:26:58\", \"2018-09-23 20:27:05\", \"2018-09-23 20:27:09\", \"2018-09-23 20:27:13\", \"2018-09-23 20:27:14\", \"2018-09-23 20:27:15\", \"2018-09-23 20:27:27\", \"2018-09-23 20:27:28\", \"2018-09-23 20:27:36\", \"2018-09-23 20:27:38\", \"2018-09-23 20:27:45\", \"2018-09-23 20:27:46\", \"2018-09-23 20:27:47\", \"2018-09-23 20:29:59\", \"2018-09-23 20:30:00\", \"2018-09-23 20:30:01\", \"2018-09-23 20:30:02\", \"2018-09-23 20:30:03\", \"2018-09-23 20:30:04\", \"2018-09-23 20:30:05\", \"2018-09-23 20:30:06\", \"2018-09-23 20:48:24\", \"2018-09-23 20:48:29\", \"2018-09-23 20:48:30\", \"2018-09-23 20:48:31\", \"2018-09-23 20:48:32\", \"2018-09-23 20:48:33\", \"2018-09-23 20:48:34\", \"2018-09-23 20:50:20\", \"2018-09-23 20:50:22\", \"2018-09-23 20:50:32\", \"2018-09-23 20:50:35\", \"2018-09-23 20:50:48\", \"2018-09-23 20:51:08\", \"2018-09-23 20:51:10\", \"2018-09-23 20:51:30\", \"2018-09-23 20:51:31\", \"2018-09-23 20:52:13\", \"2018-09-23 20:52:14\", \"2018-09-23 20:53:19\", \"2018-09-23 20:53:20\", \"2018-09-23 20:53:21\", \"2018-09-23 20:53:22\", \"2018-09-23 20:53:23\", \"2018-09-23 20:53:24\", \"2018-09-23 20:53:25\", \"2018-09-23 20:53:45\", \"2018-09-23 20:53:53\", \"2018-09-23 20:56:05\", \"2018-09-23 20:56:06\", \"2018-09-23 20:56:07\", \"2018-09-23 20:56:08\", \"2018-09-23 20:57:49\", \"2018-09-23 20:57:51\", \"2018-09-23 20:57:53\", \"2018-09-23 20:57:55\", \"2018-09-23 20:57:57\", \"2018-09-23 20:57:59\", \"2018-09-23 20:58:01\", \"2018-09-23 20:58:03\", \"2018-09-23 20:58:04\", \"2018-09-23 21:02:15\", \"2018-09-23 21:02:16\", \"2018-09-23 21:02:17\", \"2018-09-23 21:02:19\", \"2018-09-23 21:03:46\", \"2018-09-23 21:03:50\", \"2018-09-23 21:04:10\", \"2018-09-23 21:04:21\", \"2018-09-23 21:05:01\", \"2018-09-23 21:05:02\", \"2018-09-23 21:05:07\", \"2018-09-23 21:06:19\", \"2018-09-23 21:06:20\", \"2018-09-23 21:06:37\", \"2018-09-23 21:06:40\", \"2018-09-23 21:06:47\", \"2018-09-23 21:09:21\", \"2018-09-23 21:09:22\", \"2018-09-23 21:09:23\", \"2018-09-23 21:09:24\", \"2018-09-23 21:09:25\", \"2018-09-23 21:09:26\", \"2018-09-23 21:09:27\", \"2018-09-23 21:09:28\", \"2018-09-23 21:09:29\", \"2018-09-23 21:09:30\", \"2018-09-23 21:24:25\", \"2018-09-23 21:24:26\", \"2018-09-23 21:24:27\", \"2018-09-23 21:24:28\", \"2018-09-23 21:24:33\", \"2018-09-23 21:24:34\", \"2018-09-23 21:24:36\", \"2018-09-23 21:26:11\", \"2018-09-23 21:26:13\", \"2018-09-23 21:26:15\", \"2018-09-23 21:26:17\", \"2018-09-23 21:26:18\", \"2018-09-23 21:26:31\", \"2018-09-23 21:26:35\", \"2018-09-23 21:26:42\", \"2018-09-23 21:27:00\", \"2018-09-23 21:27:01\", \"2018-09-23 21:27:02\", \"2018-09-23 21:27:40\", \"2018-09-23 21:27:41\", \"2018-09-23 21:29:17\", \"2018-09-23 21:29:18\", \"2018-09-23 21:29:29\", \"2018-09-23 21:29:30\", \"2018-09-23 21:29:32\", \"2018-09-23 21:29:34\", \"2018-09-23 21:29:44\", \"2018-09-23 21:29:45\", \"2018-09-23 21:29:46\", \"2018-09-23 21:29:47\", \"2018-09-23 21:29:55\", \"2018-09-23 21:30:28\", \"2018-09-23 21:32:34\", \"2018-09-23 21:32:35\", \"2018-09-23 21:32:42\", \"2018-09-23 21:32:45\", \"2018-09-23 21:32:48\", \"2018-09-23 21:32:52\", \"2018-09-23 21:32:54\", \"2018-09-23 21:32:56\", \"2018-09-23 21:32:58\", \"2018-09-23 21:33:01\", \"2018-09-23 21:33:03\", \"2018-09-23 21:33:05\", \"2018-09-23 21:33:07\", \"2018-09-23 21:36:38\", \"2018-09-23 21:36:39\", \"2018-09-23 21:37:26\", \"2018-09-23 21:37:27\", \"2018-09-23 21:37:28\", \"2018-09-23 21:37:30\", \"2018-09-23 21:37:32\", \"2018-09-23 21:37:33\", \"2018-09-23 21:37:35\", \"2018-09-23 21:37:37\", \"2018-09-23 21:37:38\", \"2018-09-23 21:37:40\", \"2018-09-23 21:37:41\", \"2018-09-23 21:37:48\", \"2018-09-23 21:39:00\", \"2018-09-23 21:39:03\", \"2018-09-23 21:39:08\", \"2018-09-23 21:39:09\", \"2018-09-23 21:39:58\", \"2018-09-23 21:40:10\", \"2018-09-23 21:40:11\", \"2018-09-23 21:40:19\", \"2018-09-23 21:40:23\", \"2018-09-23 21:40:25\", \"2018-09-23 21:40:29\", \"2018-09-23 21:40:32\", \"2018-09-23 21:40:39\", \"2018-09-23 21:40:42\", \"2018-09-23 21:40:47\", \"2018-09-23 21:40:51\", \"2018-09-23 21:40:56\", \"2018-09-23 21:41:38\", \"2018-09-23 21:41:39\", \"2018-09-23 21:43:50\", \"2018-09-23 21:43:51\", \"2018-09-23 21:43:52\", \"2018-09-23 21:43:53\", \"2018-09-23 21:43:54\", \"2018-09-23 21:43:56\", \"2018-09-23 21:43:57\", \"2018-09-23 21:43:58\", \"2018-09-23 22:00:57\", \"2018-09-23 22:00:58\", \"2018-09-23 22:00:59\", \"2018-09-23 22:01:01\", \"2018-09-23 22:01:10\", \"2018-09-23 22:02:42\", \"2018-09-23 22:02:43\", \"2018-09-23 22:02:44\", \"2018-09-23 22:02:46\", \"2018-09-23 22:02:48\", \"2018-09-23 22:02:57\", \"2018-09-23 22:03:03\", \"2018-09-23 22:03:05\", \"2018-09-23 22:03:24\", \"2018-09-23 22:03:25\", \"2018-09-23 22:04:18\", \"2018-09-23 22:04:20\", \"2018-09-23 22:04:21\", \"2018-09-23 22:05:17\", \"2018-09-23 22:05:18\", \"2018-09-23 22:05:31\", \"2018-09-23 22:05:34\", \"2018-09-23 22:08:30\", \"2018-09-23 22:08:31\", \"2018-09-23 22:09:21\", \"2018-09-23 22:10:18\", \"2018-09-23 22:10:24\", \"2018-09-23 22:10:25\", \"2018-09-23 22:10:27\", \"2018-09-23 22:10:29\", \"2018-09-23 22:10:31\", \"2018-09-23 22:10:34\", \"2018-09-23 22:10:35\", \"2018-09-23 22:10:37\", \"2018-09-23 22:14:35\", \"2018-09-23 22:16:06\", \"2018-09-23 22:16:08\", \"2018-09-23 22:16:09\", \"2018-09-23 22:17:53\", \"2018-09-23 22:18:03\", \"2018-09-23 22:18:07\", \"2018-09-23 22:18:10\", \"2018-09-23 22:19:40\", \"2018-09-23 22:19:55\", \"2018-09-23 22:19:58\", \"2018-09-23 22:20:59\", \"2018-09-23 22:21:09\", \"2018-09-23 22:23:56\", \"2018-09-23 22:23:58\", \"2018-09-23 22:23:59\", \"2018-09-23 22:24:00\", \"2018-09-23 22:36:31\", \"2018-09-23 22:36:32\", \"2018-09-23 22:36:33\", \"2018-09-23 22:36:34\", \"2018-09-23 22:37:57\", \"2018-09-23 22:37:58\", \"2018-09-23 22:37:59\", \"2018-09-23 22:38:17\", \"2018-09-23 22:38:21\", \"2018-09-23 22:38:44\", \"2018-09-23 22:38:45\", \"2018-09-23 22:39:54\", \"2018-09-23 22:39:56\", \"2018-09-23 22:41:01\", \"2018-09-23 22:41:02\", \"2018-09-23 22:44:18\", \"2018-09-23 22:44:27\", \"2018-09-23 22:46:15\", \"2018-09-23 22:46:17\", \"2018-09-23 22:46:19\", \"2018-09-23 22:46:21\", \"2018-09-23 22:50:51\", \"2018-09-23 22:51:57\", \"2018-09-23 22:52:00\", \"2018-09-23 22:52:09\", \"2018-09-23 22:54:41\", \"2018-09-23 22:55:15\", \"2018-09-23 22:55:21\", \"2018-09-23 22:55:22\", \"2018-09-23 22:57:53\", \"2018-09-23 22:57:54\", \"2018-09-23 23:12:45\", \"2018-09-23 23:12:46\", \"2018-09-23 23:12:53\", \"2018-09-23 23:16:25\", \"2018-09-23 23:16:26\", \"2018-09-23 23:16:28\", \"2018-09-23 23:16:30\", \"2018-09-23 23:16:35\", \"2018-09-23 23:16:40\", \"2018-09-23 23:16:41\", \"2018-09-23 23:16:42\", \"2018-09-23 23:17:34\", \"2018-09-23 23:17:35\", \"2018-09-23 23:17:36\", \"2018-09-23 23:17:37\", \"2018-09-23 23:18:38\", \"2018-09-23 23:18:42\", \"2018-09-23 23:18:48\", \"2018-09-23 23:19:01\", \"2018-09-23 23:19:09\", \"2018-09-23 23:19:16\", \"2018-09-23 23:19:21\", \"2018-09-23 23:19:33\", \"2018-09-23 23:20:34\", \"2018-09-23 23:20:35\", \"2018-09-23 23:20:36\", \"2018-09-23 23:20:53\", \"2018-09-23 23:20:59\", \"2018-09-23 23:21:07\", \"2018-09-23 23:22:11\", \"2018-09-23 23:22:55\", \"2018-09-23 23:23:09\", \"2018-09-23 23:24:21\", \"2018-09-23 23:24:24\", \"2018-09-23 23:24:26\", \"2018-09-23 23:24:27\", \"2018-09-23 23:24:29\", \"2018-09-23 23:28:51\", \"2018-09-23 23:28:53\", \"2018-09-23 23:28:55\", \"2018-09-23 23:32:04\", \"2018-09-23 23:32:05\", \"2018-09-23 23:32:13\", \"2018-09-23 23:32:19\", \"2018-09-23 23:34:27\", \"2018-09-23 23:48:32\", \"2018-09-23 23:55:19\", \"2018-09-23 23:55:50\", \"2018-09-23 23:55:51\", \"2018-09-23 23:55:52\", \"2018-09-23 23:55:53\", \"2018-09-23 23:55:54\", \"2018-09-23 23:55:55\", \"2018-09-23 23:55:56\", \"2018-09-23 23:55:59\", \"2018-09-23 23:56:00\", \"2018-09-23 23:56:01\", \"2018-09-23 23:56:16\", \"2018-09-23 23:57:45\", \"2018-09-23 23:57:46\", \"2018-09-23 23:57:47\", \"2018-09-23 23:57:48\", \"2018-09-23 23:58:15\", \"2018-09-23 23:58:16\", \"2018-09-23 23:58:17\", \"2018-09-23 23:58:23\", \"2018-09-23 23:58:24\", \"2018-09-23 23:59:25\", \"2018-09-23 23:59:26\", \"2018-09-23 23:59:27\", \"2018-09-23 23:59:30\", \"2018-09-23 23:59:32\", \"2018-09-23 23:59:45\", \"2018-09-23 23:59:46\", \"2018-09-23 23:59:47\", \"2018-09-23 23:59:48\", \"2018-09-24 00:01:29\", \"2018-09-24 00:01:34\", \"2018-09-24 00:04:34\", \"2018-09-24 00:05:41\", \"2018-09-24 00:05:43\", \"2018-09-24 00:08:58\", \"2018-09-24 00:09:23\", \"2018-09-24 00:09:24\", \"2018-09-24 00:09:40\", \"2018-09-24 00:09:41\", \"2018-09-24 00:12:13\", \"2018-09-24 00:12:14\", \"2018-09-24 00:12:15\", \"2018-09-24 00:12:16\", \"2018-09-24 00:12:17\", \"2018-09-24 00:24:29\", \"2018-09-24 00:24:30\", \"2018-09-24 00:24:31\", \"2018-09-24 00:24:39\", \"2018-09-24 00:33:09\", \"2018-09-24 00:33:12\", \"2018-09-24 00:33:13\", \"2018-09-24 00:34:16\", \"2018-09-24 00:34:29\", \"2018-09-24 00:37:03\", \"2018-09-24 00:37:04\", \"2018-09-24 00:37:52\", \"2018-09-24 00:40:05\", \"2018-09-24 00:40:06\", \"2018-09-24 00:41:24\", \"2018-09-24 00:41:26\", \"2018-09-24 00:41:30\", \"2018-09-24 00:45:27\", \"2018-09-24 00:47:09\", \"2018-09-24 00:48:17\", \"2018-09-24 00:48:41\", \"2018-09-24 00:51:24\", \"2018-09-24 01:00:29\", \"2018-09-24 01:02:55\", \"2018-09-24 01:02:56\", \"2018-09-24 01:04:12\", \"2018-09-24 01:06:12\", \"2018-09-24 01:07:36\", \"2018-09-24 01:07:38\", \"2018-09-24 01:07:39\", \"2018-09-24 01:10:39\", \"2018-09-24 01:12:11\", \"2018-09-24 01:13:48\", \"2018-09-24 01:14:34\", \"2018-09-24 01:14:35\", \"2018-09-24 01:14:47\", \"2018-09-24 01:16:57\", \"2018-09-24 01:16:58\", \"2018-09-24 01:36:30\", \"2018-09-24 01:37:54\", \"2018-09-24 01:38:01\", \"2018-09-24 01:38:14\", \"2018-09-24 01:38:30\", \"2018-09-24 01:40:07\", \"2018-09-24 01:40:29\", \"2018-09-24 01:43:02\", \"2018-09-24 01:45:58\", \"2018-09-24 01:47:02\", \"2018-09-24 01:48:45\", \"2018-09-24 01:48:49\", \"2018-09-24 01:48:55\", \"2018-09-24 01:48:57\", \"2018-09-24 01:48:58\", \"2018-09-24 01:49:00\", \"2018-09-24 01:49:04\", \"2018-09-24 01:49:50\", \"2018-09-24 01:50:10\", \"2018-09-24 01:50:22\", \"2018-09-24 01:52:07\", \"2018-09-24 01:52:09\", \"2018-09-24 02:12:27\", \"2018-09-24 02:12:28\", \"2018-09-24 02:13:34\", \"2018-09-24 02:13:41\", \"2018-09-24 02:13:49\", \"2018-09-24 02:13:50\", \"2018-09-24 02:14:00\", \"2018-09-24 02:14:01\", \"2018-09-24 02:14:06\", \"2018-09-24 02:14:07\", \"2018-09-24 02:14:08\", \"2018-09-24 02:14:24\", \"2018-09-24 02:14:25\", \"2018-09-24 02:14:26\", \"2018-09-24 02:17:10\", \"2018-09-24 02:18:22\", \"2018-09-24 02:18:24\", \"2018-09-24 02:22:31\", \"2018-09-24 02:22:33\", \"2018-09-24 02:26:44\", \"2018-09-24 02:28:46\", \"2018-09-24 02:48:30\", \"2018-09-24 02:49:03\", \"2018-09-24 02:49:04\", \"2018-09-24 02:49:29\", \"2018-09-24 02:49:56\", \"2018-09-24 02:50:15\", \"2018-09-24 02:52:07\", \"2018-09-24 02:54:49\", \"2018-09-24 02:58:51\", \"2018-09-24 03:25:44\", \"2018-09-24 03:26:17\", \"2018-09-24 03:28:05\", \"2018-09-24 03:30:45\", \"2018-09-24 03:34:38\", \"2018-09-24 03:36:09\", \"2018-09-24 04:06:38\", \"2018-09-24 04:39:32\", \"2018-09-24 04:42:03\", \"2018-09-24 04:44:52\", \"2018-09-24 04:48:35\", \"2018-09-24 05:18:30\", \"2018-09-24 05:26:23\", \"2018-09-24 05:26:25\", \"2018-09-24 05:54:16\", \"2018-09-24 06:03:44\", \"2018-09-24 06:03:45\", \"2018-09-24 06:27:29\", \"2018-09-24 06:32:47\", \"2018-09-24 06:37:55\", \"2018-09-24 07:09:02\", \"2018-09-24 07:12:05\", \"2018-09-24 07:39:07\", \"2018-09-24 07:39:08\", \"2018-09-24 07:39:09\", \"2018-09-24 07:44:47\", \"2018-09-24 07:44:48\", \"2018-09-24 07:44:49\", \"2018-09-24 07:45:55\", \"2018-09-24 07:45:57\", \"2018-09-24 07:48:28\", \"2018-09-24 07:48:35\", \"2018-09-24 07:48:36\", \"2018-09-24 08:12:31\", \"2018-09-24 08:15:08\", \"2018-09-24 08:15:09\", \"2018-09-24 08:15:40\", \"2018-09-24 08:16:15\", \"2018-09-24 08:18:16\", \"2018-09-24 08:21:09\", \"2018-09-24 08:22:06\", \"2018-09-24 08:22:08\", \"2018-09-24 08:22:10\", \"2018-09-24 08:22:12\", \"2018-09-24 08:22:14\", \"2018-09-24 08:51:13\", \"2018-09-24 08:51:14\", \"2018-09-24 08:51:15\", \"2018-09-24 08:51:42\", \"2018-09-24 08:52:18\", \"2018-09-24 08:57:01\", \"2018-09-24 08:57:02\", \"2018-09-24 09:01:10\", \"2018-09-24 09:03:07\", \"2018-09-24 09:03:08\", \"2018-09-24 09:03:09\", \"2018-09-24 09:03:10\", \"2018-09-24 09:03:11\", \"2018-09-24 09:03:12\", \"2018-09-24 09:03:13\", \"2018-09-24 09:03:15\", \"2018-09-24 09:25:30\", \"2018-09-24 09:25:38\", \"2018-09-24 09:27:51\", \"2018-09-24 09:28:18\", \"2018-09-24 09:29:07\", \"2018-09-24 09:29:09\", \"2018-09-24 09:29:12\", \"2018-09-24 09:31:18\", \"2018-09-24 09:34:04\", \"2018-09-24 09:34:05\", \"2018-09-24 09:38:27\", \"2018-09-24 09:41:41\", \"2018-09-24 10:01:36\", \"2018-09-24 10:03:36\", \"2018-09-24 10:09:36\", \"2018-09-24 10:09:38\", \"2018-09-24 10:09:39\", \"2018-09-24 10:15:13\", \"2018-09-24 10:17:42\", \"2018-09-24 10:17:43\", \"2018-09-24 10:37:43\", \"2018-09-24 10:41:57\", \"2018-09-24 10:42:00\", \"2018-09-24 10:46:53\", \"2018-09-24 10:46:55\", \"2018-09-24 10:46:56\", \"2018-09-24 10:46:57\", \"2018-09-24 10:54:38\", \"2018-09-24 10:54:39\", \"2018-09-24 10:54:40\", \"2018-09-24 10:54:41\", \"2018-09-24 11:13:16\", \"2018-09-24 11:13:18\", \"2018-09-24 11:13:19\", \"2018-09-24 11:13:25\", \"2018-09-24 11:13:26\", \"2018-09-24 11:13:27\", \"2018-09-24 11:14:20\", \"2018-09-24 11:18:04\", \"2018-09-24 11:24:19\", \"2018-09-24 11:24:21\", \"2018-09-24 11:24:22\", \"2018-09-24 11:30:34\", \"2018-09-24 11:30:35\", \"2018-09-24 11:34:26\", \"2018-09-24 11:34:27\", \"2018-09-24 11:34:28\", \"2018-09-24 11:34:29\", \"2018-09-24 11:34:30\", \"2018-09-24 11:55:13\", \"2018-09-24 11:55:14\", \"2018-09-24 11:55:15\", \"2018-09-24 11:55:16\", \"2018-09-24 12:01:41\", \"2018-09-24 12:01:43\", \"2018-09-24 12:10:03\", \"2018-09-24 12:10:04\", \"2018-09-24 12:10:05\", \"2018-09-24 12:10:06\", \"2018-09-24 12:10:07\", \"2018-09-24 12:10:08\", \"2018-09-24 12:33:34\", \"2018-09-24 12:39:19\", \"2018-09-24 12:39:25\", \"2018-09-24 12:39:26\", \"2018-09-24 12:45:02\", \"2018-09-24 12:49:52\", \"2018-09-24 12:49:53\", \"2018-09-24 12:49:54\", \"2018-09-24 12:49:55\", \"2018-09-24 12:49:57\", \"2018-09-24 12:49:58\", \"2018-09-24 12:49:59\", \"2018-09-24 13:00:36\", \"2018-09-24 13:06:41\", \"2018-09-24 13:06:44\", \"2018-09-24 13:06:53\", \"2018-09-24 13:06:54\", \"2018-09-24 13:06:55\", \"2018-09-24 13:12:45\", \"2018-09-24 13:12:46\", \"2018-09-24 13:21:16\", \"2018-09-24 13:21:17\", \"2018-09-24 13:38:12\", \"2018-09-24 13:43:22\", \"2018-09-24 13:44:00\", \"2018-09-24 13:44:03\", \"2018-09-24 13:50:13\", \"2018-09-24 13:57:34\", \"2018-09-24 13:57:35\", \"2018-09-24 13:57:36\", \"2018-09-24 13:57:37\", \"2018-09-24 13:57:38\", \"2018-09-24 13:57:39\", \"2018-09-24 13:57:40\", \"2018-09-24 14:27:54\", \"2018-09-24 14:27:56\", \"2018-09-24 14:36:42\", \"2018-09-24 14:36:43\", \"2018-09-24 14:36:44\", \"2018-09-24 14:36:45\", \"2018-09-24 14:36:46\", \"2018-09-24 14:36:47\", \"2018-09-24 14:36:48\", \"2018-09-24 14:36:49\", \"2018-09-24 14:36:50\", \"2018-09-24 14:36:51\", \"2018-09-24 14:36:52\", \"2018-09-24 14:36:53\", \"2018-09-24 14:36:54\", \"2018-09-24 14:57:19\", \"2018-09-24 14:57:20\", \"2018-09-24 15:04:46\", \"2018-09-24 15:20:42\", \"2018-09-24 15:24:29\", \"2018-09-24 15:24:32\", \"2018-09-24 15:24:33\", \"2018-09-24 15:45:04\", \"2018-09-24 15:45:06\", \"2018-09-24 15:45:11\", \"2018-09-24 15:45:12\", \"2018-09-24 15:45:14\", \"2018-09-24 15:54:01\", \"2018-09-24 15:57:21\", \"2018-09-24 15:57:22\", \"2018-09-24 15:57:23\", \"2018-09-24 15:57:24\", \"2018-09-24 15:57:25\", \"2018-09-24 15:57:26\", \"2018-09-24 15:57:27\", \"2018-09-24 16:16:06\", \"2018-09-24 16:16:07\", \"2018-09-24 16:27:54\", \"2018-09-24 16:30:53\", \"2018-09-24 16:30:55\", \"2018-09-24 16:30:56\", \"2018-09-24 16:30:58\", \"2018-09-24 16:30:59\", \"2018-09-24 16:31:01\", \"2018-09-24 16:47:17\", \"2018-09-24 16:59:58\", \"2018-09-24 17:03:14\", \"2018-09-24 17:03:15\", \"2018-09-24 17:03:16\", \"2018-09-24 17:03:17\", \"2018-09-24 17:03:18\", \"2018-09-24 17:03:19\", \"2018-09-24 17:03:20\", \"2018-09-24 17:03:21\", \"2018-09-24 17:17:43\", \"2018-09-24 17:23:07\", \"2018-09-24 17:23:08\", \"2018-09-24 17:23:10\", \"2018-09-24 17:23:11\", \"2018-09-24 17:42:41\", \"2018-09-24 17:46:00\", \"2018-09-24 17:46:01\", \"2018-09-24 17:46:02\", \"2018-09-24 17:53:40\", \"2018-09-24 17:53:41\", \"2018-09-24 17:58:23\", \"2018-09-24 18:29:12\", \"2018-09-24 18:29:19\", \"2018-09-24 18:29:20\", \"2018-09-24 18:29:21\", \"2018-09-24 18:34:40\", \"2018-09-24 19:06:09\", \"2018-09-24 19:06:10\", \"2018-09-24 19:06:14\", \"2018-09-24 19:11:33\", \"2018-09-24 19:11:34\", \"2018-09-24 19:41:49\", \"2018-09-24 19:46:57\", \"2018-09-24 19:46:59\", \"2018-09-24 20:22:51\", \"2018-09-24 20:53:06\", \"2018-09-24 20:58:36\", \"2018-09-24 21:37:49\", \"2018-09-24 21:37:50\", \"2018-09-24 21:47:32\", \"2018-09-24 22:12:31\", \"2018-09-24 22:12:32\", \"2018-09-24 22:12:34\", \"2018-09-24 22:42:01\", \"2018-09-24 22:42:02\", \"2018-09-24 22:47:57\", \"2018-09-24 22:47:58\", \"2018-09-24 23:17:40\", \"2018-09-24 23:23:09\", \"2018-09-25 00:29:13\", \"2018-09-25 00:29:16\", \"2018-09-25 05:20:47\", \"2018-09-25 05:20:49\", \"2018-09-25 07:46:02\", \"2018-09-25 08:20:44\", \"2018-09-25 08:20:45\", \"2018-09-25 08:20:46\", \"2018-09-25 08:20:48\", \"2018-09-25 08:57:11\", \"2018-09-25 09:33:34\", \"2018-09-25 10:09:15\", \"2018-09-25 10:09:16\", \"2018-09-25 10:09:17\", \"2018-09-25 10:45:57\", \"2018-09-25 11:22:03\", \"2018-09-25 11:22:04\", \"2018-09-25 11:53:53\", \"2018-09-25 11:53:54\", \"2018-09-25 11:59:17\", \"2018-09-25 11:59:18\", \"2018-09-25 11:59:20\", \"2018-09-25 12:36:56\", \"2018-09-25 12:36:58\", \"2018-09-25 12:36:59\", \"2018-09-25 13:06:03\", \"2018-09-25 13:11:12\", \"2018-09-25 13:11:13\", \"2018-09-25 13:46:43\", \"2018-09-25 13:46:44\", \"2018-09-25 13:46:45\", \"2018-09-25 13:46:47\", \"2018-09-25 13:50:52\", \"2018-09-25 14:25:27\", \"2018-09-25 14:25:28\", \"2018-09-25 15:03:20\", \"2018-09-25 15:36:21\", \"2018-09-25 15:36:22\", \"2018-09-25 16:12:47\", \"2018-09-25 16:12:48\", \"2018-09-25 16:12:50\", \"2018-09-25 16:46:53\", \"2018-09-25 16:46:55\", \"2018-09-25 17:21:18\", \"2018-09-25 17:21:19\", \"2018-09-25 17:21:20\", \"2018-09-25 17:21:21\", \"2018-09-25 18:17:06\", \"2018-09-25 18:17:07\", \"2018-09-25 18:17:08\", \"2018-09-25 18:22:41\", \"2018-09-25 18:52:39\", \"2018-09-25 18:57:32\", \"2018-09-25 18:57:33\", \"2018-09-25 19:34:39\", \"2018-09-25 20:10:56\", \"2018-09-25 20:10:59\", \"2018-09-25 20:47:24\", \"2018-09-25 20:47:25\", \"2018-09-25 20:47:27\", \"2018-09-25 20:47:28\", \"2018-09-25 21:23:16\", \"2018-09-25 21:23:18\", \"2018-09-25 21:23:19\", \"2018-09-25 21:23:20\", \"2018-09-25 21:58:58\", \"2018-09-29 16:23:36\", \"2018-09-29 16:23:41\", \"2018-09-29 16:59:35\", \"2018-09-29 16:59:36\", \"2018-09-29 16:59:37\", \"2018-09-29 16:59:38\", \"2018-09-29 16:59:39\", \"2018-09-29 16:59:40\", \"2018-09-29 16:59:41\", \"2018-09-29 16:59:42\", \"2018-09-29 16:59:43\", \"2018-09-29 16:59:44\", \"2018-09-29 17:37:38\", \"2018-09-29 17:37:41\", \"2018-09-29 17:37:44\", \"2018-09-29 17:37:47\", \"2018-09-29 17:37:48\", \"2018-09-29 17:37:51\", \"2018-09-29 17:37:54\", \"2018-09-29 17:37:56\", \"2018-09-29 17:37:59\"], \"y\": [1, 1, 1, 2, 2, 1, 1, 1, 1, 1, 1, 1, 1, 1, 1, 1, 1, 1, 1, 1, 1, 1, 1, 1, 1, 1, 1, 2, 1, 1, 1, 1, 1, 1, 1, 1, 1, 1, 1, 1, 1, 1, 1, 1, 1, 1, 1, 1, 1, 1, 1, 1, 1, 1, 1, 1, 1, 1, 1, 1, 1, 1, 1, 1, 1, 1, 1, 1, 1, 1, 1, 1, 1, 1, 1, 1, 1, 1, 1, 1, 1, 1, 1, 1, 1, 1, 1, 1, 1, 1, 1, 1, 1, 1, 1, 1, 1, 1, 1, 1, 1, 1, 1, 1, 1, 1, 1, 1, 1, 1, 1, 1, 1, 1, 1, 1, 1, 1, 1, 1, 1, 1, 1, 1, 1, 1, 1, 1, 1, 1, 1, 1, 1, 1, 1, 1, 1, 1, 1, 1, 1, 1, 1, 1, 1, 1, 1, 1, 1, 1, 1, 1, 1, 1, 1, 1, 1, 1, 1, 1, 1, 1, 1, 1, 1, 1, 1, 1, 1, 1, 1, 1, 1, 1, 1, 1, 1, 1, 1, 1, 1, 1, 1, 1, 1, 1, 2, 1, 2, 1, 1, 1, 1, 1, 1, 3, 1, 1, 1, 1, 1, 1, 1, 1, 1, 1, 2, 2, 1, 1, 2, 2, 2, 1, 1, 1, 1, 1, 1, 2, 1, 1, 2, 1, 1, 1, 1, 1, 1, 1, 1, 1, 1, 1, 1, 1, 1, 1, 1, 1, 2, 1, 2, 1, 1, 1, 1, 1, 1, 1, 3, 1, 1, 1, 1, 3, 1, 1, 2, 1, 2, 2, 1, 1, 1, 1, 2, 1, 2, 1, 1, 2, 2, 1, 1, 2, 1, 1, 1, 1, 1, 1, 1, 1, 2, 2, 1, 1, 1, 1, 2, 1, 1, 1, 1, 1, 1, 1, 1, 2, 1, 1, 2, 2, 2, 1, 1, 1, 1, 1, 1, 1, 1, 1, 2, 1, 1, 1, 1, 1, 1, 1, 1, 1, 1, 1, 1, 1, 1, 1, 1, 1, 1, 1, 1, 1, 1, 1, 1, 1, 1, 1, 1, 1, 1, 1, 1, 1, 1, 1, 1, 1, 2, 1, 1, 1, 1, 1, 1, 1, 1, 1, 1, 1, 1, 1, 1, 1, 2, 1, 2, 1, 1, 1, 1, 2, 1, 1, 2, 1, 2, 1, 2, 1, 2, 1, 1, 1, 2, 1, 1, 1, 1, 1, 1, 1, 1, 1, 2, 2, 3, 1, 1, 1, 1, 1, 1, 1, 1, 1, 1, 1, 1, 1, 1, 1, 1, 1, 1, 2, 2, 1, 1, 1, 1, 1, 1, 2, 2, 1, 1, 1, 1, 1, 1, 1, 1, 1, 1, 1, 1, 1, 1, 1, 1, 1, 1, 1, 1, 1, 1, 1, 1, 1, 1, 1, 1, 1, 1, 3, 1, 1, 2, 1, 1, 1, 1, 1, 1, 1, 2, 2, 2, 1, 2, 1, 1, 1, 2, 1, 1, 1, 1, 1, 2, 2, 1, 1, 1, 2, 1, 1, 1, 1, 2, 3, 3, 2, 1, 1, 1, 1, 1, 1, 1, 1, 2, 2, 1, 1, 2, 1, 2, 1, 1, 1, 1, 1, 1, 1, 1, 1, 1, 1, 2, 1, 1, 1, 1, 1, 1, 1, 1, 1, 1, 1, 1, 1, 1, 1, 1, 1, 1, 1, 1, 1, 1, 1, 1, 1, 1, 1, 1, 1, 1, 1, 1, 1, 1, 1, 1, 1, 1, 1, 1, 1, 1, 1, 2, 2, 2, 2, 2, 1, 2, 1, 1, 1, 2, 1, 1, 1, 2, 1, 1, 1, 1, 1, 2, 2, 1, 1, 1, 1, 1, 1, 3, 2, 1, 1, 1, 2, 1, 1, 1, 1, 1, 1, 1, 1, 1, 1, 1, 1, 1, 1, 1, 1, 2, 1, 1, 1, 1, 2, 1, 1, 1, 1, 1, 1, 1, 1, 1, 1, 1, 1, 1, 1, 1, 1, 1, 2, 1, 1, 1, 1, 3, 1, 1, 1, 1, 1, 1, 1, 1, 1, 2, 1, 1, 1, 1, 1, 1, 2, 1, 1, 2, 1, 1, 1, 2, 1, 1, 1, 2, 1, 1, 2, 1, 1, 1, 1, 1, 3, 1, 1, 1, 1, 1, 1, 1, 1, 1, 2, 1, 1, 1, 1, 1, 1, 1, 1, 1, 2, 2, 1, 2, 1, 1, 2, 1, 1, 1, 1, 1, 1, 1, 1, 1, 1, 1, 1, 1, 1, 1, 1, 1, 1, 1, 1, 1, 1, 1, 1, 1, 1, 1, 1, 1, 2, 2, 1, 1, 1, 1, 1, 1, 1, 1, 1, 1, 2, 1, 1, 1, 2, 1, 1, 1, 2, 1, 1, 1, 1, 1, 2, 1, 1, 1, 1, 1, 1, 1, 1, 1, 1, 1, 2, 1, 1, 1, 1, 1, 1, 1, 3, 2, 1, 1, 1, 1, 1, 1, 1, 1, 1, 3, 2, 1, 1, 1, 1, 1, 1, 1, 1, 1, 1, 1, 1, 2, 1, 1, 1, 1, 2, 1, 1, 1, 1, 1, 1, 1, 1, 1, 1, 1, 1, 1, 1, 1, 1, 1, 1, 1, 1, 1, 1, 1, 1, 1, 1, 1, 1, 1, 1, 1, 2, 1, 1, 1, 2, 1, 2, 1, 1, 1, 1, 1, 1, 1, 1, 1, 1, 1, 1, 2, 1, 1, 1, 1, 1, 1, 1, 1, 1, 1, 1, 1, 1, 1, 1, 1, 1, 1, 1, 1, 1, 1, 2, 1, 1, 1, 2, 2, 1, 1, 2, 1, 1, 1, 2, 1, 1, 1, 1, 1, 1, 1, 2, 2, 1, 1, 1, 1, 1, 2, 2, 1, 1, 2, 1, 1, 1, 1, 1, 1, 1, 1, 1, 2, 1, 1, 1, 1, 1, 1, 1, 1, 1, 1, 1, 2, 2, 1, 3, 3, 2, 1, 1, 1, 1, 2, 2, 1, 3, 2, 1, 1, 2, 2, 2, 1, 1, 1, 2, 1, 2, 1, 1, 1, 1, 1, 2, 1, 1, 1, 2, 1, 1, 2, 2, 1, 1, 1, 1, 2, 1, 1, 1, 1, 1, 1, 1, 1, 1, 1, 1, 1, 1, 1, 1, 2, 1, 1, 1, 1, 1, 1, 1, 1, 2, 1, 1, 1, 1, 2, 3, 1, 1, 1, 1, 1, 1, 1, 1, 1, 1, 1, 1, 1, 1, 1, 1, 1, 2, 1, 1, 1, 1, 1, 1, 1, 1, 1, 1, 1, 1, 2, 1, 1, 1, 1, 2, 2, 1, 1, 1, 1, 1, 1, 1, 1, 1, 1, 1, 3, 1, 1, 1, 1, 1, 1, 1, 2, 1, 2, 1, 1, 1, 1, 1, 1, 1, 3, 1, 1, 1, 1, 1, 1, 1, 1, 1, 1, 1, 1, 2, 1, 1, 1, 1, 1, 1, 1, 1, 1, 2, 2, 1, 1, 2, 2, 2, 1, 1, 1, 1, 1, 1, 2, 2, 1, 2, 1, 1, 1, 1, 1, 2, 1, 1, 2, 1, 1, 1, 1, 1, 1, 1, 1, 2, 1, 1, 1, 1, 1, 1, 1, 1, 1, 1, 2, 1, 2, 1, 2, 1, 1, 1, 1, 1, 1, 1, 1, 1, 1, 1, 3, 1, 1, 1, 1, 1, 2, 2, 1, 1, 1, 1, 1, 1, 1, 1, 1, 1, 1, 1, 1, 1, 1, 1, 1, 1, 1, 1, 2, 1, 1, 1, 1, 1, 1, 1, 1, 1, 1, 3, 1, 1, 1, 1, 1, 1, 1, 1, 1, 1, 1, 1, 2, 1, 1, 1, 1, 1, 1, 1, 1, 1, 2, 1, 1, 2, 2, 2, 1, 1, 1, 1, 1, 1, 1, 1, 1, 1, 1, 1, 1, 2, 1, 1, 2, 1, 2, 1, 1, 2, 1, 3, 1, 1, 2, 2, 1, 1, 1, 1, 1, 1, 1, 1, 1, 1, 1, 1, 1, 1, 2, 2, 1, 1, 1, 1, 2, 1, 2, 1, 1, 2, 1, 1, 1, 1, 1, 1, 1, 1, 1, 2, 2, 1, 2, 1, 1, 1, 1, 1, 1, 1, 1, 1, 1, 1, 1, 1, 1, 1, 2, 1, 1, 1, 1, 1, 1, 1, 1, 1, 1, 1, 2, 1, 1, 1, 1, 1, 2, 1, 1, 1, 1, 1, 1, 2, 3, 1, 1, 1, 1, 1, 2, 2, 1, 2, 2, 1, 1, 1, 1, 1, 1, 1, 1, 1, 1, 1, 1, 1, 1, 1, 1, 1, 1, 2, 2, 1, 1, 2, 1, 1, 1, 1, 1, 1, 2, 1, 3, 1, 1, 1, 1, 1, 1, 1, 2, 1, 1, 2, 1, 1, 1, 1, 2, 1, 1, 1, 1, 1, 1, 1, 1, 1, 1, 1, 1, 1, 1, 1, 1, 1, 1, 2, 1, 2, 1, 1, 1, 1, 2, 1, 1, 2, 1, 2, 1, 1, 2, 1, 1, 2, 1, 2, 1, 1, 1, 1, 1, 1, 1, 1, 1, 3, 1, 2, 1, 1, 1, 1, 2, 1, 1, 1, 2, 1, 1, 1, 1, 1, 1, 1, 2, 1, 1, 1, 1, 1, 1, 1, 1, 1, 1, 1, 1, 1, 1, 1, 1, 1, 1, 1, 1, 1, 1, 1, 1, 1, 2, 1, 1, 1, 1, 1, 1, 1, 2, 1, 1, 1, 1, 1, 1, 1, 2, 2, 1, 1, 3, 1, 1, 1, 2, 1, 1, 1, 1, 2, 1, 2, 1, 1, 1, 2, 1, 1, 1, 2, 1, 1, 1, 1, 1, 1, 1, 1, 1, 1, 1, 1, 1, 1, 1, 1, 2, 1, 1, 1, 1, 2, 1, 2, 1, 2, 1, 2, 1, 1, 1, 2, 1, 2, 1, 1, 1, 1, 1, 1, 1, 1, 2, 1, 1, 1, 1, 1, 1, 1, 1, 1, 1, 1, 2, 2, 2, 1, 2, 1, 1, 1, 2, 1, 1, 1, 1, 1, 1, 1, 1, 1, 1, 1, 1, 1, 1, 1, 1, 1, 1, 1, 2, 1, 1, 1, 1, 1, 1, 1, 1, 1, 1, 1, 1, 2, 1, 1, 2, 1, 1, 1, 1, 1, 1, 1, 1, 1, 1, 2, 1, 1, 1, 2, 1, 1, 1, 1, 1, 2, 1, 1, 2, 1, 1, 2, 1, 2, 1, 1, 1, 1, 1, 1, 1, 1, 1, 1, 1, 1, 1, 2, 1, 1, 2, 1, 1, 1, 2, 2, 1, 1, 1, 1, 1, 1, 1, 1, 1, 1, 1, 1, 1, 1, 1, 1, 1, 1, 1, 1, 1, 1, 1, 1, 2, 1, 2, 2, 2, 1, 1, 1, 1, 2, 1, 1, 2, 1, 1, 1, 2, 1, 1, 1, 1, 2, 1, 1, 1, 1, 1, 2, 1, 1, 2, 2, 2, 1, 1, 2, 1, 2, 2, 2, 1, 1, 1, 1, 2, 1, 1, 1, 1, 1, 1, 1, 1, 1, 1, 1, 1, 1, 1, 2, 1, 1, 1, 1, 1, 1, 1, 1, 2, 1, 1, 2, 1, 1, 1, 1, 1, 1, 2, 2, 1, 2, 1, 1, 3, 2, 1, 1, 1, 1, 1, 1, 1, 2, 1, 1, 2, 1, 2, 2, 2, 2, 1, 1, 1, 1, 2, 2, 1, 1, 1, 1, 1, 1, 1, 1, 1, 1, 2, 1, 3, 1, 2, 1, 1, 1, 2, 2, 1, 1, 1, 2, 1, 1, 2, 1, 1, 1, 1, 1, 2, 1, 2, 2, 1, 1, 1, 1, 3, 1, 1, 1, 2, 2, 1, 1, 1, 1, 1, 2, 1, 1, 1, 1, 1, 1, 1, 2, 1, 1, 1, 1, 1, 1, 1, 1, 1, 1, 1, 1, 1, 1, 1, 3, 1, 1, 1, 1, 1, 1, 1, 1, 4, 1, 1, 1, 1, 2, 1, 1, 1, 1, 1, 1, 1, 1, 1, 2, 1, 1, 1, 2, 1, 1, 1, 2, 1, 1, 1, 2, 1, 1, 2, 1, 1, 1, 1, 2, 1, 2, 3, 2, 1, 1, 1, 1, 1, 1, 1, 1, 1, 2, 2, 1, 1, 1, 1, 2, 1, 1, 1, 1, 1, 1, 1, 2, 1, 3, 1, 1, 1, 1, 1, 1, 1, 1, 1, 1, 1, 1, 1, 1, 1, 2, 2, 1, 1, 1, 1, 1, 1, 2, 1, 1, 2, 1, 1, 2, 1, 1, 1, 1, 1, 2, 1, 2, 1, 1, 1, 1, 1, 1, 1, 1, 2, 1, 1, 2, 1, 1, 1, 1, 1, 1, 1, 1, 2, 1, 1, 1, 1, 1, 1, 1, 1, 1, 1, 1, 1, 1, 1, 1, 1, 1, 1, 1, 1, 1, 1, 1, 3, 1, 1, 1, 1, 1, 1, 1, 2, 2, 1, 1, 1, 2, 1, 1, 2, 1, 1, 1, 1, 2, 1, 2, 1, 1, 2, 1, 1, 1, 2, 2, 1, 1, 2, 1, 1, 1, 1, 3, 2, 2, 1, 1, 1, 1, 2, 3, 1, 1, 1, 1, 1, 1, 1, 1, 2, 2, 2, 1, 1, 1, 1, 1, 2, 2, 1, 2, 1, 1, 1, 1, 1, 1, 1, 1, 1, 1, 1, 1, 1, 1, 1, 1, 1, 1, 1, 1, 1, 1, 1, 1, 1, 2, 1, 2, 1, 1, 2, 1, 2, 1, 1, 1, 1, 2, 1, 1, 2, 1, 1, 1, 1, 1, 1, 1, 2, 1, 1, 2, 1, 1, 1, 2, 3, 3, 1, 1, 1, 1, 1, 2, 1, 1, 1, 1, 1, 1, 1, 2, 2, 1, 1, 1, 1, 1, 1, 1, 1, 1, 2, 1, 1, 1, 1, 1, 1, 1, 1, 1, 1, 1, 2, 1, 1, 1, 1, 2, 1, 1, 1, 1, 1, 2, 1, 1, 1, 1, 1, 1, 2, 1, 1, 1, 2, 1, 1, 2, 1, 1, 2, 1, 1, 1, 2, 2, 1, 1, 1, 2, 1, 1, 1, 1, 1, 3, 3, 1, 1, 1, 1, 2, 2, 2, 1, 1, 1, 1, 1, 1, 2, 2, 1, 1, 1, 1, 1, 1, 1, 1, 1, 2, 1, 1, 1, 1, 1, 1, 1, 1, 1, 1, 1, 3, 2, 1, 1, 1, 1, 1, 1, 1, 1, 1, 1, 1, 1, 1, 1, 1, 1, 1, 1, 1, 1, 1, 1, 1, 1, 1, 1, 1, 1, 1, 2, 1, 1, 1, 1, 2, 1, 1, 1, 1, 2, 1, 1, 2, 2, 1, 2, 1, 2, 1, 1, 1, 1, 1, 2, 1, 1, 3, 3, 1, 1, 1, 1, 1, 1, 1, 1, 1, 1, 2, 1, 1, 2, 1, 2, 2, 1, 1, 1, 1, 1, 1, 1, 1, 1, 1, 1, 1, 1, 1, 1, 2, 1, 1, 2, 1, 1, 1, 1, 1, 1, 1, 2, 3, 1, 1, 1, 1, 1, 1, 1, 1, 1, 1, 1, 2, 1, 2, 1, 1, 1, 1, 1, 1, 2, 2, 2, 3, 1, 1, 1, 1, 1, 1, 1, 1, 1, 1, 2, 2, 1, 1, 1, 1, 1, 1, 2, 1, 1, 1, 1, 2, 1, 1, 1, 1, 2, 1, 2, 1, 1, 1, 2, 1, 1, 1, 1, 1, 1, 1, 1, 1, 1, 1, 1, 1, 1, 1, 1, 1, 1, 1, 1, 2, 2, 1, 1, 1, 2, 2, 1, 1, 1, 1, 2, 3, 1, 2, 1, 1, 2, 1, 1, 2, 1, 1, 2, 1, 2, 1, 1, 2, 1, 1, 1, 1, 1, 1, 1, 1, 1, 1, 1, 1, 1, 1, 3, 1, 1, 1, 1, 1, 1, 1, 1, 1, 1, 1, 1, 1, 1, 1, 2, 2, 1, 2, 1, 1, 1, 1, 1, 1, 1, 1, 1, 2, 2, 2, 1, 1, 1, 2, 2, 2, 1, 1, 1, 1, 1, 1, 1, 1, 1, 1, 1, 1, 2, 2, 1, 1, 2, 1, 1, 2, 1, 1, 1, 1, 2, 1, 1, 1, 1, 1, 1, 1, 1, 1, 1, 1, 1, 1, 1, 1, 1, 1, 1, 1, 1, 2, 2, 2, 3, 1, 2, 2, 2, 1, 1, 1, 1, 1, 1, 1, 1, 1, 1, 1, 1, 1, 1, 1, 1, 1, 1, 1, 1, 1, 2, 1, 1, 2, 1, 2, 1, 2, 1, 1, 1, 1, 2, 1, 1, 3, 1, 1, 1, 1, 1, 2, 2, 1, 1, 1, 2, 1, 2, 1, 2, 1, 1, 1, 1, 1, 1, 1, 1, 1, 1, 1, 1, 1, 1, 1, 1, 1, 1, 1, 1, 2, 1, 2, 1, 1, 2, 1, 1, 2, 1, 1, 1, 1, 1, 2, 3, 2, 1, 1, 1, 1, 1, 1, 3, 1, 1, 1, 1, 1, 1, 1, 1, 1, 2, 1, 1, 1, 1, 2, 1, 1, 1, 1, 1, 1, 1, 1, 1, 1, 1, 1, 1, 1, 1, 4, 1, 1, 1, 1, 1, 1, 1, 2, 2, 1, 1, 1, 1, 1, 1, 2, 1, 2, 2, 2, 1, 1, 1, 1, 1, 1, 1, 1, 2, 3, 1, 1, 1, 1, 2, 2, 1, 1, 1, 2, 1, 1, 1, 1, 1, 1, 1, 1, 1, 1, 1, 1, 1, 1, 1, 1, 1, 1, 1, 1, 1, 2, 1, 1, 1, 1, 1, 3, 2, 1, 1, 2, 2, 1, 3, 2, 2, 1, 1, 1, 1, 1, 1, 1, 1, 1, 1, 1, 1, 1, 1, 1, 1, 1, 1, 1, 1, 1, 1, 1, 1, 1, 1, 1, 1, 1, 1, 1, 1, 1, 1, 2, 1, 1, 1, 1, 1, 1, 2, 1, 2, 1, 1, 2, 1, 1, 1, 1, 1, 2, 2, 1, 1, 1, 1, 1, 1, 1, 1, 1, 1, 1, 1, 1, 1, 1, 1, 1, 1, 1, 1, 1, 1, 1, 1, 1, 1, 1, 1, 1, 1, 1, 2, 1, 2, 1, 2, 1, 1, 2, 3, 1, 2, 2, 1, 1, 1, 2, 1, 1, 1, 1, 1, 1, 1, 2, 1, 1, 2, 1, 2, 2, 1, 1, 1, 2, 2, 1, 1, 1, 1, 1, 1, 1, 2, 1, 2, 2, 1, 1, 1, 1, 1, 1, 1, 2, 1, 3, 1, 1, 2, 2, 1, 1, 1, 1, 1, 2, 1, 1, 1, 2, 1, 1, 1, 1, 1, 2, 1, 2, 1, 1, 2, 2, 1, 1, 1, 1, 1, 1, 1, 1, 1, 1, 1, 1, 1, 1, 1, 1, 1, 1, 1, 1, 2, 3, 1, 1, 1, 1, 1, 1, 1, 1, 3, 1, 1, 1, 1, 1, 2, 1, 1, 1, 1, 1, 1, 1, 2, 1, 1, 1, 1, 1, 1, 1, 1, 1, 1, 1, 1, 1, 1, 2, 1, 1, 1, 1, 1, 2, 1, 1, 1, 1, 1, 1, 1, 1, 1, 1, 1, 1, 1, 1, 1, 1, 1, 1, 1, 1, 1, 1, 1, 1, 1, 1, 1, 1, 1, 1, 1, 1, 1, 2, 1, 1, 1, 1, 1, 1, 1, 1, 1, 1, 1, 1, 1, 1, 1, 1, 1, 1, 1, 1, 1, 3, 1, 2, 2, 1, 2, 1, 1, 1, 2, 1, 1, 1, 2, 2, 2, 2, 1, 1, 1, 2, 2, 2, 1, 1, 1, 1, 1, 1, 1, 1, 1, 1, 1, 2, 1, 1, 2, 2, 1, 1, 1, 1, 2, 1, 1, 2, 1, 1, 1, 3, 1, 1, 1, 2, 1, 1, 1, 1, 1, 1, 1, 1, 1, 1, 1, 1, 1, 1, 1, 1, 1, 1, 1, 2, 1, 2, 2, 2, 1, 2, 1, 1, 1, 1, 1, 1, 1, 1, 1, 1, 2, 2, 1, 1, 1, 2, 1, 2, 1, 1, 1, 2, 2, 1, 1, 2, 1, 1, 1, 1, 1, 1, 1, 1, 1, 1, 1, 1, 1, 1, 1, 1, 2, 1, 1, 2, 1, 1, 1, 1, 2, 1, 2, 1, 2, 1, 1, 1, 1, 1, 2, 1, 1, 1, 1, 1, 1, 1, 1, 1, 1, 1, 1, 2, 1, 1, 1, 1, 2, 1, 1, 1, 1, 1, 1, 1, 2, 1, 2, 2, 2, 1, 1, 1, 1, 1, 1, 1, 2, 1, 1, 1, 1, 1, 1, 1, 1, 1, 2, 1, 1, 1, 1, 1, 1, 1, 2, 1, 1, 3, 1, 2, 2, 1, 2, 2, 2, 1, 1, 1, 2, 1, 1, 2, 1, 2, 2, 3, 1, 1, 1, 1, 1, 1, 1, 1, 1, 1, 1, 1, 1, 2, 1, 3, 1, 1, 2, 1, 2, 2, 2, 1, 1, 1, 2, 1, 1, 1, 1, 1, 1, 2, 2, 1, 3, 1, 1, 1, 1, 1, 1, 1, 1, 2, 1, 1, 1, 1, 1, 1, 1, 1, 2, 1, 1, 1, 2, 1, 1, 1, 1, 1, 1, 1, 1, 1, 2, 1, 3, 1, 1, 2, 1, 1, 1, 1, 1, 1, 1, 1, 1, 1, 1, 1, 1, 1, 1, 1, 1, 2, 1, 2, 1, 1, 1, 1, 1, 1, 1, 1, 1, 1, 1, 1, 1, 1, 1, 1, 1, 1, 1, 1, 1, 1, 1, 2, 1, 1, 1, 1, 1, 1, 1, 1, 1, 2, 1, 2, 1, 2, 1, 1, 1, 1, 1, 2, 1, 1, 2, 1, 1, 1, 1, 1, 1, 1, 3, 1, 2, 1, 1, 1, 2, 1, 1, 1, 1, 1, 1, 1, 1, 1, 1, 1, 1, 3, 1, 1, 1, 1, 1, 1, 1, 1, 1, 1, 1, 2, 2, 1, 1, 1, 1, 1, 1, 2, 1, 1, 1, 1, 1, 1, 1, 1, 1, 2, 1, 1, 1, 2, 1, 2, 1, 1, 2, 1, 1, 1, 1, 2, 1, 1, 1, 1, 1, 1, 1, 1, 1, 1, 1, 1, 1, 1, 1, 1, 1, 2, 1, 1, 2, 1, 1, 1, 2, 1, 1, 1, 2, 1, 2, 1, 1, 2, 1, 1, 1, 1, 2, 1, 1, 1, 1, 1, 1, 1, 1, 2, 1, 1, 1, 1, 1, 3, 1, 1, 2, 1, 1, 1, 1, 1, 1, 1, 1, 1, 1, 1, 1, 3, 2, 1, 2, 2, 2, 1, 2, 1, 1, 1, 2, 1, 1, 2, 1, 1, 1, 2, 1, 1, 1, 1, 3, 1, 1, 1, 2, 2, 1, 2, 1, 2, 1, 1, 2, 1, 1, 1, 1, 1, 1, 1, 1, 1, 1, 1, 1, 1, 1, 1, 1, 1, 1, 1, 1, 1, 1, 1, 1, 3, 2, 1, 1, 3, 1, 1, 1, 2, 2, 1, 1, 2, 2, 1, 1, 1, 1, 1, 1, 1, 1, 2, 1, 1, 1, 2, 2, 1, 2, 1, 2, 2, 1, 2, 2, 1, 2, 1, 1, 1, 1, 1, 1, 1, 1, 1, 1, 1, 1, 1, 1, 1, 1, 1, 1, 1, 1, 1, 2, 1, 3, 1, 1, 1, 2, 2, 1, 2, 1, 1, 1, 1, 1, 1, 2, 1, 1, 1, 1, 2, 1, 1, 1, 2, 2, 1, 1, 1, 1, 1, 1, 1, 1, 1, 1, 1, 2, 1, 1, 1, 1, 1, 1, 1, 2, 2, 1, 1, 2, 1, 1, 1, 2, 1, 1, 1, 1, 1, 2, 1, 1, 1, 1, 1, 2, 2, 2, 2, 1, 1, 2, 2, 2, 1, 1, 1, 1, 1, 1, 1, 1, 1, 1, 1, 1, 1, 1, 2, 1, 1, 1, 1, 1, 2, 1, 1, 1, 2, 1, 1, 2, 1, 1, 2, 1, 1, 1, 2, 1, 1, 1, 1, 1, 1, 2, 1, 2, 1, 2, 2, 1, 3, 2, 1, 1, 1, 2, 1, 1, 1, 1, 1, 1, 2, 2, 1, 1, 1, 1, 1, 1, 1, 1, 1, 1, 1, 1, 1, 1, 1, 1, 1, 1, 1, 1, 1, 2, 2, 1, 2, 1, 1, 1, 1, 2, 1, 1, 2, 2, 1, 1, 2, 1, 1, 2, 2, 2, 3, 1, 1, 1, 1, 1, 1, 1, 1, 1, 1, 1, 2, 1, 1, 1, 2, 2, 1, 2, 2, 1, 2, 1, 2, 2, 1, 1, 1, 1, 1, 1, 1, 1, 1, 1, 1, 2, 2, 1, 1, 1, 1, 1, 1, 1, 1, 1, 1, 2, 2, 2, 1, 1, 1, 1, 2, 1, 2, 1, 2, 1, 1, 1, 1, 1, 2, 1, 1, 1, 2, 1, 2, 1, 1, 1, 1, 1, 1, 1, 1, 1, 1, 2, 1, 1, 1, 1, 1, 1, 1, 2, 1, 2, 1, 1, 1, 1, 1, 2, 1, 2, 1, 2, 2, 2, 1, 1, 1, 2, 1, 1, 1, 2, 1, 2, 1, 1, 2, 1, 1, 2, 1, 1, 2, 2, 1, 1, 1, 2, 1, 1, 1, 1, 1, 1, 1, 1, 1, 2, 1, 1, 1, 1, 1, 1, 1, 1, 1, 1, 1, 1, 1, 1, 1, 2, 1, 1, 1, 1, 1, 1, 1, 1, 1, 2, 1, 2, 1, 1, 2, 2, 1, 1, 1, 1, 1, 1, 1, 1, 1, 1, 1, 1, 1, 1, 1, 3, 1, 2, 1, 1, 2, 1, 1, 2, 1, 1, 1, 1, 1, 1, 1, 2, 1, 2, 3, 1, 1, 1, 1, 3, 2, 1, 1, 1, 1, 1, 1, 1, 1, 1, 1, 1, 1, 1, 1, 1, 1, 1, 1, 2, 1, 1, 1, 2, 1, 1, 1, 1, 1, 1, 1, 1, 1, 1, 1, 1, 1, 2, 2, 1, 1, 1, 1, 2, 1, 1, 1, 2, 1, 1, 1, 1, 1, 1, 1, 1, 1, 1, 1, 1, 1, 1, 1, 1, 1, 1, 1, 1, 1, 1, 1, 3, 2, 1, 1, 1, 1, 1, 1, 1, 1, 1, 1, 1, 1, 1, 2, 1, 1, 1, 1, 1, 1, 1, 1, 2, 1, 2, 1, 1, 1, 2, 1, 1, 2, 1, 1, 1, 1, 1, 1, 1, 1, 1, 1, 1, 1, 1, 2, 1, 1, 1, 1, 1, 1, 1, 1, 2, 1, 1, 1, 1, 1, 1, 1, 1, 1, 3, 3, 1, 1, 2, 1, 1, 2, 2, 1, 1, 1, 1, 1, 1, 1, 1, 1, 1, 1, 1, 1, 1, 1, 1, 1, 1, 1, 2, 1, 1, 1, 1, 1, 1, 3, 1, 1, 1, 2, 1, 1, 2, 1, 1, 1, 1, 1, 1, 1, 1, 1, 1, 1, 1, 1, 1, 1, 1, 1, 1, 1, 1, 1, 1, 1, 1, 1, 2, 1, 1, 1, 1, 1, 1, 1, 1, 1, 1, 1, 1, 1, 3, 1, 1, 1, 2, 2, 1, 1, 1, 2, 1, 2, 1, 1, 1, 1, 1, 2, 1, 1, 1, 1, 1, 2, 1, 1, 1, 1, 1, 2, 2, 2, 1, 1, 2, 1, 2, 1, 1, 1, 1, 1, 1, 1, 1, 1, 1, 1, 1, 1, 1, 1, 1, 1, 1, 1, 1, 1, 1, 1, 1, 1, 1, 1, 1, 1, 1, 1, 1, 1, 1, 1, 2, 1, 1, 1, 1, 1, 1, 1, 1, 2, 1, 1, 1, 2, 1, 2, 1, 1, 1, 1, 1, 1, 1, 1, 2, 1, 2, 2, 1, 1, 1, 1, 1, 1, 1, 1, 1, 1, 1, 1, 1, 1, 1, 1, 1, 1, 1, 1, 1, 1, 1, 1, 1, 1, 1, 1, 1, 1, 1, 1, 1, 1, 1, 1, 1, 1, 1, 1, 2, 1, 1, 1, 1, 1, 2, 1, 1, 1, 1, 1, 1, 1, 1, 1, 1, 1, 1, 1, 1, 1, 1, 1, 3, 1, 1, 2, 1, 2, 2, 1, 1, 1, 1, 1, 1, 1, 1, 1, 1, 1, 1, 1, 1, 1, 1, 3, 1, 1, 2, 1, 1, 1, 1, 2, 1, 1, 1, 2, 1, 1, 1, 1, 1, 1, 1, 1, 1, 1, 1, 1, 1, 1, 1, 1, 2, 2, 1, 1, 1, 2, 1, 1, 1, 1, 1, 1, 1, 2, 1, 1, 2, 1, 2, 1, 1, 1, 1, 1, 1, 1, 1, 1, 1, 1, 1, 1, 1, 1, 1, 1, 1, 3, 1, 2, 1, 1, 1, 1, 1, 1, 1, 1, 1, 1, 1, 1, 2, 1, 2, 1, 2, 1, 2, 2, 2, 1, 1, 2, 1, 1, 1, 1, 1, 1, 1, 1, 1, 1, 2, 1, 1, 1, 1, 2, 2, 1, 2, 1, 2, 2, 2, 1, 1, 1, 1, 1, 2, 1, 1, 1, 1, 2, 2, 1, 2, 3, 2, 2, 2, 1, 1, 2, 1, 1, 1, 1, 1, 1, 1, 1, 1, 1, 1, 1, 1, 1, 1, 2, 1, 2, 4, 2, 2, 2, 2, 1, 1, 1, 1, 1, 1, 1, 2, 1, 2, 1, 1, 2, 1, 1, 1, 2, 2, 2, 2, 1, 2, 1, 1, 1, 1, 1, 1, 1, 1, 1, 1, 1, 1, 1, 1, 1, 1, 3, 2, 1, 1, 2, 1, 2, 1, 1, 1, 1, 1, 1, 1, 1, 1, 2, 1, 2, 1, 2, 2, 2, 2, 1, 1, 1, 1, 1, 1, 1, 1, 3, 2, 2, 2, 1, 2, 1, 1, 1, 1, 1, 1, 1, 1, 1, 1, 1, 1, 1, 1, 1, 1, 1, 1, 1, 1, 2, 2, 1, 1, 1, 1, 1, 1, 1, 1, 2, 1, 1, 2, 1, 1, 1, 2, 1, 1, 2, 1, 1, 1, 1, 1, 1, 1, 1, 1, 1, 1, 1, 1, 2, 1, 1, 2, 1, 1, 1, 1, 1, 1, 2, 2, 2, 2, 1, 2, 1, 2, 2, 2, 1, 1, 1, 1, 1, 1, 1, 1, 1, 1, 1, 1, 1, 1, 1, 1, 1, 1, 1, 1, 1, 1, 1, 1, 1, 1, 1, 1, 1, 2, 1, 1, 1, 1, 1, 1, 1, 1, 1, 1, 1, 1, 1, 2, 1, 1, 1, 2, 2, 2, 2, 1, 1, 3, 2, 1, 1, 1, 1, 2, 1, 1, 1, 1, 1, 1, 2, 1, 1, 2, 2, 1, 1, 1, 1, 1, 2, 1, 1, 1, 1, 1, 1, 1, 1, 1, 1, 1, 1, 1, 1, 1, 1, 1, 1, 1, 1, 1, 1, 1, 1, 1, 1, 1, 1, 1, 1, 1, 1, 2, 2, 1, 2, 2, 1, 1, 1, 1, 1, 1, 1, 1, 1, 1, 1, 1, 1, 1, 1, 1, 2, 1, 2, 1, 1, 1, 1, 2, 1, 1, 1, 1, 3, 1, 1, 1, 2, 3, 2, 1, 1, 1, 1, 1, 1, 1, 2, 1, 1, 1, 1, 1, 1, 1, 1, 2, 1, 1, 1, 1, 1, 1, 1, 1, 1, 1, 1, 1, 1, 2, 1, 1, 1, 1, 1, 1, 1, 1, 2, 2, 1, 1, 1, 1, 1, 1, 1, 1, 1, 1, 1, 1, 2, 1, 2, 1, 2, 2, 1, 1, 1, 1, 1, 1, 1, 2, 1, 2, 1, 1, 1, 1, 1, 1, 1, 1, 1, 1, 2, 1, 1, 1, 1, 1, 1, 1, 1, 2, 1, 1, 1, 2, 2, 1, 1, 1, 1, 1, 2, 1, 1, 1, 1, 1, 2, 1, 2, 1, 2, 1, 2, 2, 1, 1, 1, 3, 1, 1, 1, 2, 1, 1, 2, 1, 1, 1, 1, 1, 1, 1, 1, 1, 1, 1, 1, 1, 1, 1, 1, 1, 1, 1, 1, 2, 1, 1, 1, 1, 1, 1, 2, 1, 2, 1, 1, 1, 1, 1, 1, 1, 1, 1, 1, 2, 1, 2, 1, 1, 1, 1, 3, 1, 1, 1, 3, 3, 1, 1, 2, 2, 1, 1, 2, 2, 1, 1, 1, 1, 1, 1, 1, 1, 1, 1, 1, 3, 1, 1, 1, 1, 1, 2, 1, 2, 1, 1, 1, 1, 1, 1, 1, 1, 1, 1, 1, 1, 2, 1, 1, 2, 1, 1, 1, 1, 1, 2, 1, 1, 1, 1, 1, 2, 1, 1, 2, 1, 2, 1, 2, 2, 3, 1, 1, 2, 2, 2, 1, 1, 1, 1, 1, 2, 2, 2, 1, 1, 2, 1, 1, 1, 1, 1, 1, 1, 1, 1, 1, 1, 1, 1, 1, 1, 1, 1, 1, 1, 1, 1, 1, 1, 1, 1, 1, 1, 1, 1, 2, 3, 2, 2, 1, 2, 2, 2, 1, 1, 2, 1, 1, 1, 1, 1, 1, 1, 1, 2, 1, 2, 1, 1, 1, 1, 1, 1, 1, 1, 1, 2, 1, 2, 1, 1, 2, 2, 2, 1, 1, 1, 1, 2, 1, 1, 2, 1, 2, 1, 1, 1, 1, 1, 1, 1, 1, 1, 1, 1, 1, 1, 1, 1, 1, 1, 1, 1, 1, 1, 1, 1, 1, 1, 1, 1, 1, 1, 1, 1, 1, 1, 1, 1, 1, 1, 2, 1, 1, 1, 1, 1, 1, 1, 1, 1, 1, 1, 1, 1, 1, 1, 1, 1, 2, 1, 1, 1, 3, 1, 1, 1, 1, 2, 2, 1, 1, 1, 1, 1, 1, 1, 1, 1, 2, 2, 2, 2, 1, 1, 1, 1, 1, 1, 1, 1, 1, 1, 1, 1, 1, 1, 1, 1, 1, 1, 1, 1, 1, 1, 1, 1, 1, 1, 1, 1, 1, 1, 1, 1, 1, 1, 1, 1, 1, 1, 1, 1, 1, 1, 1, 1, 1, 1, 1, 1, 1, 1, 1, 2, 1, 2, 1, 1, 1, 1, 2, 2, 1, 3, 3, 3, 2, 1, 2, 2, 1, 1, 1, 1, 1, 1, 2, 1, 1, 1, 1, 1, 1, 1, 1, 1, 1, 1, 1, 1, 1, 1, 1, 1, 1, 1, 1, 1, 1, 1, 1, 1, 1, 1, 1, 1, 1, 1, 1, 1, 1, 1, 1, 1, 1, 1, 1, 1, 1, 1, 1, 1, 1, 1, 2, 1, 2, 1, 1, 1, 1, 3, 3, 2, 2, 1, 1, 1, 1, 2, 1, 3, 2, 2, 2, 1, 1, 1, 1, 2, 2, 2, 1, 1, 1, 1, 2, 1, 1, 1, 1, 1, 1, 1, 1, 1, 1, 1, 1, 1, 1, 2, 2, 1, 1, 2, 2, 2, 1, 3, 2, 1, 1, 1, 1, 2, 1, 1, 1, 1, 1, 1, 1, 1, 1, 2, 2, 1, 1, 1, 1, 1, 1, 1, 1, 1, 1, 1, 2, 1, 1, 1, 1, 1, 1, 2, 2, 1, 2, 1, 1, 1, 1, 2, 2, 2, 3, 1, 1, 1, 1, 1, 1, 1, 1, 1, 1, 2, 1, 2, 2, 2, 1, 2, 1, 1, 1, 1, 1, 1, 1, 1, 1, 1, 1, 1, 1, 1, 1, 1, 1, 1, 1, 1, 1, 1, 1, 1, 1, 1, 1, 1, 1, 1, 1, 1, 1, 1, 2, 1, 2, 3, 2, 1, 1, 1, 1, 1, 2, 2, 2, 1, 1, 2, 2, 1, 1, 2, 2, 1, 1, 2, 1, 1, 1, 1, 2, 1, 1, 1, 1, 1, 2, 1, 1, 1, 1, 2, 1, 1, 1, 1, 1, 1, 1, 1, 1, 1, 2, 1, 1, 1, 1, 1, 1, 1, 1, 1, 1, 1, 1, 1, 1, 1, 1, 1, 1, 1, 1, 1, 1, 1, 1, 1, 1, 1, 1, 1, 1, 1, 1, 1, 1, 1, 1, 1, 1, 2, 1, 2, 1, 2, 2, 1, 2, 2, 1, 2, 1, 2, 1, 1, 1, 3, 1, 2, 1, 1, 2, 2, 1, 1, 2, 1, 1, 1, 2, 2, 1, 1, 1, 1, 1, 1, 1, 1, 1, 1, 1, 1, 1, 1, 1, 1, 1, 2, 1, 2, 1, 1, 1, 1, 1, 1, 1, 1, 1, 1, 1, 1, 1, 1, 1, 1, 1, 1, 2, 1, 1, 2, 1, 1, 2, 1, 1, 1, 1, 1, 1, 1, 1, 2, 3, 2, 1, 2, 1, 1, 1, 1, 1, 2, 2, 1, 1, 2, 2, 2, 2, 1, 2, 1, 1, 1, 1, 1, 1, 1, 1, 1, 1, 1, 1, 1, 1, 1, 2, 1, 1, 2, 1, 1, 1, 1, 2, 1, 1, 1, 1, 1, 1, 2, 1, 1, 1, 2, 1, 1, 1, 1, 1, 1, 2, 2, 1, 1, 1, 1, 1, 1, 1, 1, 1, 1, 1, 1, 1, 2, 2, 1, 1, 1, 1, 2, 2, 2, 1, 1, 1, 1, 1, 1, 2, 1, 1, 1, 1, 1, 1, 1, 1, 1, 1, 1, 1, 1, 1, 1, 1, 1, 1, 2, 1, 1, 1, 1, 1, 1, 1, 1, 1, 1, 1, 1, 1, 1, 1, 1, 1, 1, 1, 1, 1, 1, 1, 3, 2, 1, 1, 1, 1, 1, 1, 1, 1, 1, 1, 1, 2, 1, 1, 2, 1, 1, 1, 1, 1, 2, 1, 1, 1, 1, 1, 1, 1, 1, 1, 1, 1, 1, 1, 1, 1, 1, 1, 1, 1, 1, 2, 1, 1, 1, 1, 1, 1, 1, 1, 1, 1, 1, 1, 1, 1, 1, 1, 1, 1, 1, 1, 1, 1, 1, 1, 1, 2, 2, 1, 1, 1, 1, 1, 2, 1, 1, 1, 1, 1, 1, 1, 1, 1, 1, 1, 1, 1, 2, 1, 1, 1, 1, 1, 1, 1, 1, 1, 1, 2, 1, 1, 2, 2, 1, 1, 1, 1, 1, 1, 1, 1, 2, 1, 1, 1, 1, 1, 1, 2, 1, 2, 1, 2, 1, 2, 1, 1, 2, 1, 1, 1, 2, 1, 1, 1, 2, 1, 1, 2, 1, 1, 1, 1, 3, 1, 1, 2, 2, 1, 1, 1, 1, 1, 1, 1, 1, 1, 1, 1, 2, 1, 2, 1, 1, 1, 1, 1, 1, 1, 1, 1, 1, 1, 1, 1, 1, 2, 1, 1, 1, 1, 1, 1, 1, 1, 1, 2, 1, 1, 1, 2, 2, 1, 2, 1, 1, 2, 2, 1, 1, 2, 1, 1, 1, 2, 1, 1, 1, 1, 1, 1, 1, 1, 1, 1, 1, 1, 1, 1, 1, 1, 1, 2, 2, 1, 1, 1, 1, 1, 1, 1, 2, 1, 1, 1, 1, 1, 1, 1, 1, 1, 1, 2, 1, 1, 1, 1, 1, 1, 1, 2, 1, 2, 1, 1, 1, 1, 1, 1, 1, 2, 1, 1, 1, 1, 1, 1, 1, 1, 1, 1, 1, 1, 1, 1, 2, 1, 1, 2, 1, 1, 2, 1, 2, 2, 1, 1, 1, 1, 1, 1, 1, 1, 1, 1, 1, 1, 1, 1, 2, 1, 2, 2, 1, 1, 1, 2, 1, 1, 1, 1, 1, 2, 1, 2, 1, 1, 1, 1, 1, 1, 1, 1, 1, 1, 1, 1, 1, 1, 1, 2, 1, 1, 2, 1, 1, 2, 1, 1, 2, 1, 2, 1, 1, 1, 1, 1, 2, 1, 1, 1, 1, 1, 1, 1, 1, 1, 1, 1, 1, 1, 1, 1, 1, 1, 1, 2, 1, 1, 2, 1, 1, 2, 1, 1, 1, 1, 1, 1, 1, 1, 1, 1, 2, 1, 1, 1, 2, 1, 2, 3, 1, 2, 1, 1, 1, 1, 1, 1, 2, 1, 2, 1, 1, 1, 1, 1, 1, 1, 1, 1, 1, 1, 1, 1, 1, 1, 1, 2, 1, 1, 1, 1, 1, 2, 1, 2, 1, 1, 1, 1, 1, 2, 1, 1, 1, 1, 1, 1, 1, 1, 2, 1, 2, 1, 1, 1, 1, 1, 1, 1, 1, 1, 1, 1, 1, 1, 1, 1, 1, 1, 2, 1, 2, 2, 1, 2, 1, 2, 1, 1, 1, 1, 1, 2, 2, 1, 1, 1, 1, 2, 1, 1, 1, 1, 1, 1, 2, 1, 1, 2, 1, 2, 1, 1, 1, 1, 1, 1, 1, 1, 1, 1, 1, 1, 1, 1, 1, 1, 1, 1, 1, 1, 2, 2, 1, 1, 2, 2, 1, 1, 2, 1, 1, 1, 1, 1, 1, 1, 1, 1, 1, 1, 1, 1, 1, 1, 1, 1, 1, 2, 2, 1, 2, 1, 1, 1, 1, 1, 1, 1, 1, 1, 1, 1, 2, 1, 1, 1, 1, 1, 2, 2, 2, 1, 1, 1, 1, 1, 1, 1, 1, 1, 1, 1, 1, 1, 1, 1, 2, 1, 1, 1, 1, 1, 1, 1, 1, 1, 1, 1, 1, 1, 1, 1, 1, 2, 1, 1, 1, 1, 2, 1, 1, 1, 2, 1, 1, 1, 1, 1, 1, 2, 1, 1, 1, 1, 1, 1, 2, 1, 1, 1, 2, 1, 3, 1, 1, 1, 1, 2, 2, 1, 1, 1, 1, 2, 1, 1, 1, 1, 1, 1, 1, 1, 1, 1, 1, 1, 2, 1, 1, 1, 1, 1, 1, 2, 1, 1, 2, 2, 2, 1, 2, 1, 2, 1, 2, 2, 1, 1, 1, 1, 1, 1, 1, 1, 2, 1, 1, 2, 1, 1, 1, 1, 1, 1, 1, 1, 1, 1, 1, 1, 2, 1, 2, 2, 1, 2, 1, 1, 1, 2, 1, 1, 1, 1, 1, 1, 1, 1, 1, 1, 1, 1, 1, 1, 1, 1, 1, 1, 1, 1, 1, 1, 2, 1, 2, 2, 1, 2, 2, 2, 1, 1, 1, 1, 1, 1, 1, 1, 1, 1, 1, 1, 3, 1, 1, 1, 2, 1, 2, 2, 1, 1, 2, 1, 1, 1, 1, 1, 1, 1, 1, 1, 1, 1, 1, 1, 1, 2, 1, 1, 1, 1, 2, 2, 1, 2, 2, 2, 1, 1, 1, 1, 2, 1, 1, 1, 1, 1, 1, 1, 1, 1, 1, 2, 1, 1, 1, 2, 1, 1, 1, 1, 1, 2, 2, 1, 1, 1, 1, 2, 1, 2, 2, 1, 1, 1, 2, 2, 1, 1, 1, 1, 1, 1, 1, 1, 1, 1, 1, 1, 1, 1, 2, 1, 1, 1, 1, 1, 1, 1, 1, 1, 2, 2, 1, 1, 1, 2, 1, 1, 1, 1, 1, 1, 1, 1, 1, 1, 1, 1, 1, 1, 1, 1, 1, 1, 1, 2, 1, 1, 1, 1, 2, 1, 1, 1, 1, 1, 3, 2, 1, 1, 1, 2, 1, 1, 1, 1, 1, 1, 1, 1, 1, 2, 1, 1, 1, 1, 1, 1, 1, 1, 1, 1, 1, 1, 1, 1, 1, 1, 1, 1, 1, 1, 1, 1, 1, 1, 1, 1, 1, 1, 1, 1, 1, 1, 1, 2, 3, 2, 1, 2, 2, 2, 1, 1, 1, 1, 1, 1, 2, 1, 2, 1, 2, 1, 1, 1, 1, 2, 1, 1, 1, 1, 1, 1, 1, 1, 1, 1, 1, 1, 1, 2, 2, 1, 1, 1, 1, 1, 1, 1, 1, 1, 1, 1, 1, 2, 2, 1, 1, 1, 1, 1, 1, 1, 1, 1, 1, 1, 1, 1, 1, 1, 1, 1, 2, 1, 1, 2, 1, 1, 1, 2, 1, 1, 1, 1, 1, 1, 1, 1, 1, 1, 1, 1, 1, 1, 1, 1, 1, 1, 1, 1, 1, 1, 1, 1, 1, 1, 2, 1, 1, 1, 1, 1, 1, 1, 1, 1, 1, 1, 1, 1, 1, 1, 1, 1, 1, 1, 2, 1, 1, 1, 1, 2, 2, 2, 1, 1, 1, 1, 1, 1, 1, 1, 1, 1, 1, 1, 1, 3, 1, 1, 1, 3, 2, 1, 1, 1, 1, 1, 2, 1, 1, 1, 1, 1, 1, 1, 1, 1, 1, 1, 1, 2, 1, 2, 1, 2, 1, 1, 1, 1, 1, 1, 1, 2, 1, 2, 2, 3, 1, 1, 1, 1, 1, 1, 1, 1, 1, 1, 1, 1, 1, 1, 1, 2, 2, 1, 2, 2, 1, 1, 1, 1, 1, 1, 1, 1, 1, 1, 1, 1, 1, 1, 1, 1, 1, 1, 2, 1, 1, 1, 1, 1, 1, 2, 1, 1, 2, 1, 1, 1, 1, 1, 1, 1, 1, 1, 1, 1, 1, 2, 1, 1, 2, 1, 2, 1, 1, 1, 1, 3, 2, 3, 1, 1, 2, 1, 1, 1, 1, 1, 1, 1, 1, 1, 1, 1, 1, 1, 1, 1, 2, 1, 2, 2, 1, 2, 2, 2, 1, 1, 1, 2, 1, 1, 1, 1, 1, 1, 1, 1, 1, 1, 1, 1, 1, 1, 1, 1, 1, 1, 1, 1, 1, 1, 1, 1, 1, 1, 1, 1, 1, 2, 1, 1, 1, 2, 2, 2, 1, 1, 1, 1, 1, 1, 1, 1, 1, 1, 1, 1, 1, 2, 2, 1, 1, 1, 1, 1, 1, 1, 1, 1, 1, 1, 1, 1, 2, 2, 1, 2, 1, 1, 1, 1, 1, 1, 1, 1, 1, 1, 1, 1, 1, 1, 1, 1, 1, 1, 1, 1, 2, 1, 1, 1, 1, 1, 1, 1, 1, 1, 1, 1, 1, 1, 1, 1, 1, 1, 1, 1, 2, 2, 1, 1, 1, 1, 2, 2, 2, 1, 2, 1, 1, 1, 1, 1, 1, 1, 1, 1, 1, 2, 1, 1, 1, 1, 1, 1, 1, 1, 1, 1, 2, 3, 1, 1, 1, 1, 1, 1, 1, 1, 1, 1, 1, 1, 1, 1, 1, 1, 1, 1, 1, 1, 2, 1, 1, 2, 1, 3, 1, 1, 2, 1, 1, 1, 1, 1, 1, 1, 1, 1, 1, 1, 1, 1, 1, 1, 1, 1, 1, 1, 2, 1, 1, 2, 1, 2, 1, 1, 1, 1, 1, 1, 1, 1, 1, 1, 1, 2, 1, 1, 1, 1, 1, 2, 1, 1, 1, 1, 1, 1, 1, 1, 1, 1, 1, 1, 1, 1, 1, 1, 1, 1, 1, 1, 2, 1, 1, 1, 2, 1, 1, 1, 1, 2, 2, 1, 1, 1, 2, 1, 1, 1, 1, 2, 1, 1, 2, 2, 2, 1, 1, 2, 1, 1, 1, 2, 1, 1, 1, 1, 1, 1, 1, 1, 1, 1, 1, 1, 1, 1, 1, 1, 2, 1, 1, 1, 1, 1, 1, 1, 1, 1, 1, 1, 1, 1, 1, 1, 1, 1, 1, 1, 2, 2, 1, 1, 2, 2, 2, 1, 1, 1, 1, 2, 2, 1, 1, 1, 1, 2, 2, 1, 1, 2, 1, 1, 1, 1, 1, 1, 1, 1, 1, 1, 1, 1, 1, 1, 1, 1, 1, 1, 1, 1, 1, 1, 1, 1, 1, 1, 1, 1, 1, 1, 1, 1, 1, 1, 1, 1, 1, 1, 1, 2, 1, 1, 1, 1, 1, 1, 1, 1, 1, 1, 1, 1, 1, 2, 2, 2, 1, 1, 1, 1, 1, 1, 1, 1, 1, 1, 1, 1, 1, 1, 1, 1, 2, 1, 1, 1, 1, 1, 1, 1, 1, 1, 1, 1, 1, 1, 1, 1, 1, 1, 1, 1, 1, 1, 1, 1, 1, 1, 1, 1, 2, 1, 1, 1, 1, 1, 1, 1, 1, 1, 1, 2, 1, 1, 1, 1, 1, 1, 1, 1, 1, 1, 1, 1, 2, 3, 1, 2, 1, 1, 1, 1, 1, 1, 1, 1, 1, 1, 1, 1, 1, 1, 1, 1, 1, 1, 1, 1, 1, 1, 1, 1, 1, 1, 1, 1, 1, 1, 3, 3, 1, 1, 1, 1, 2, 1, 1, 1, 1, 1, 1, 1, 1, 1, 1, 1, 1, 2, 1, 1, 1, 1, 1, 1, 1, 1, 2, 1, 1, 1, 1, 1, 2, 2, 1, 1, 1, 2, 1, 3, 1, 1, 2, 2, 2, 1, 1, 1, 1, 1, 1, 1, 1, 1, 1, 1, 1, 1, 1, 1, 1, 1, 1, 1, 1, 1, 1, 1, 1, 1, 1, 1, 1, 1, 1, 1, 1, 1, 1, 1, 1, 1, 1, 1, 1, 1, 1, 1, 1, 1, 1, 1, 1, 1, 1, 1, 1, 1, 1, 1, 1, 1, 1, 1, 1, 2, 1, 1, 2, 1, 1, 1, 1, 1, 1, 2, 1, 1, 1, 1, 2, 1, 1, 1, 1, 1, 1, 1, 1, 1, 1, 1, 1, 1, 1, 1, 1, 1, 1, 1, 1, 1, 1, 1, 1, 1, 1, 3, 1, 1, 1, 1, 1, 1, 1, 1, 1, 1, 2, 2, 1, 1, 3, 2, 1, 1, 1, 1, 1, 1, 1, 1, 1, 1, 1, 1, 1, 1, 2, 1, 1, 1, 1, 1, 1, 1, 1, 2, 2, 1, 1, 1, 1, 1, 1, 1, 1, 1, 1, 1, 1, 1, 1, 1, 1, 1, 1, 1, 2, 2, 1, 1, 1, 1, 1, 1, 1, 1, 1, 1, 1, 1, 1, 1, 1, 1, 2, 1, 1, 1, 1, 1, 2, 2, 1, 1, 2, 1, 2, 1, 1, 1, 1, 1, 1, 2, 2, 1, 1, 1, 1, 2, 1, 2, 1, 1, 1, 1, 2, 1, 1, 1, 1, 1, 1, 1, 3, 2, 2, 1, 1, 1, 1, 1, 1, 1, 1, 1, 1, 1, 3, 1, 1, 1, 1, 2, 1, 1, 1, 1, 1, 1, 1, 1, 1, 2, 1, 2, 1, 2, 1, 1, 1, 1, 1, 1, 1, 1, 1, 1, 1, 1, 1, 1, 2, 1, 1, 1, 1, 1, 1, 1, 1, 1, 1, 1, 1, 1, 1, 1, 2, 1, 2, 1, 1, 1, 2, 2, 1, 3, 1, 1, 1, 1, 1, 1, 1, 1, 1, 1, 1, 1, 1, 1, 2, 1, 1, 1, 1, 1, 1, 1, 1, 1, 1, 1, 1, 2, 1, 1, 1, 1, 1, 1, 1, 1, 1, 1, 1, 1, 1, 1, 1, 1, 1, 1, 3, 1, 2, 1, 1, 1, 1, 1, 1, 1, 1, 3, 1, 2, 2, 2, 1, 1, 1, 1, 1, 1, 1, 1, 2, 1, 1, 1, 1, 1, 1, 1, 1, 1, 1, 1, 1, 1, 1, 1, 1, 1, 1, 1, 1, 1, 1, 1, 1, 1, 1, 1, 1, 1, 1, 1, 1, 1, 1, 1, 1, 2, 1, 1, 1, 1, 1, 1, 1, 1, 1, 1, 1, 1, 1, 1, 1, 1, 1, 1, 1, 1, 1, 1, 1, 1, 1, 1, 1, 2, 1, 2, 2, 1, 1, 2, 1, 1, 1, 1, 1, 1, 1, 1, 1, 1, 1, 1, 1, 1, 1, 1, 1, 1, 2, 1, 1, 1, 1, 1, 1, 1, 1, 1, 1, 1, 1, 1, 1, 1, 1, 1, 1, 1, 1, 1, 1, 1, 1, 1, 1, 1, 1, 1, 1, 1, 1, 1, 1, 1, 1, 1, 1, 1, 1, 1, 1, 1, 1, 1, 1, 1, 1, 1, 1, 1, 1, 1, 1, 1, 1, 1, 1, 1, 1, 1, 1, 1, 1, 1, 1, 1, 1, 1, 2, 1, 1, 1, 1, 1, 1, 1, 1, 1, 1, 1, 1, 1, 1, 1, 1, 1, 1, 1, 1, 1, 2, 1, 1, 1, 1, 1, 1, 1, 1, 1, 1, 1, 1, 1, 1, 1, 1, 1, 1, 1, 1, 1, 1, 1, 1, 1, 1, 1, 1, 1, 1, 1, 1, 1, 1, 1, 1, 1, 1, 1, 2, 1, 1, 1, 1, 1, 1, 1, 1, 1, 1, 1, 1, 1, 1, 1, 1, 1, 1, 1, 1, 1, 1, 1, 1, 1, 1, 1, 1, 1, 1, 1, 2, 1, 1, 1, 1, 1, 1, 1, 1, 1, 1, 1, 1, 1, 1, 1, 1, 1, 1, 2, 2, 1, 2, 2, 2, 2, 2, 3, 1, 2, 1, 1, 1, 1, 1, 1, 1, 1]}],\n",
              "                        {\"plot_bgcolor\": \"rgba(0,0,0,0)\", \"template\": {\"data\": {\"bar\": [{\"error_x\": {\"color\": \"#2a3f5f\"}, \"error_y\": {\"color\": \"#2a3f5f\"}, \"marker\": {\"line\": {\"color\": \"#E5ECF6\", \"width\": 0.5}}, \"type\": \"bar\"}], \"barpolar\": [{\"marker\": {\"line\": {\"color\": \"#E5ECF6\", \"width\": 0.5}}, \"type\": \"barpolar\"}], \"carpet\": [{\"aaxis\": {\"endlinecolor\": \"#2a3f5f\", \"gridcolor\": \"white\", \"linecolor\": \"white\", \"minorgridcolor\": \"white\", \"startlinecolor\": \"#2a3f5f\"}, \"baxis\": {\"endlinecolor\": \"#2a3f5f\", \"gridcolor\": \"white\", \"linecolor\": \"white\", \"minorgridcolor\": \"white\", \"startlinecolor\": \"#2a3f5f\"}, \"type\": \"carpet\"}], \"choropleth\": [{\"colorbar\": {\"outlinewidth\": 0, \"ticks\": \"\"}, \"type\": \"choropleth\"}], \"contour\": [{\"colorbar\": {\"outlinewidth\": 0, \"ticks\": \"\"}, \"colorscale\": [[0.0, \"#0d0887\"], [0.1111111111111111, \"#46039f\"], [0.2222222222222222, \"#7201a8\"], [0.3333333333333333, \"#9c179e\"], [0.4444444444444444, \"#bd3786\"], [0.5555555555555556, \"#d8576b\"], [0.6666666666666666, \"#ed7953\"], [0.7777777777777778, \"#fb9f3a\"], [0.8888888888888888, \"#fdca26\"], [1.0, \"#f0f921\"]], \"type\": \"contour\"}], \"contourcarpet\": [{\"colorbar\": {\"outlinewidth\": 0, \"ticks\": \"\"}, \"type\": \"contourcarpet\"}], \"heatmap\": [{\"colorbar\": {\"outlinewidth\": 0, \"ticks\": \"\"}, \"colorscale\": [[0.0, \"#0d0887\"], [0.1111111111111111, \"#46039f\"], [0.2222222222222222, \"#7201a8\"], [0.3333333333333333, \"#9c179e\"], [0.4444444444444444, \"#bd3786\"], [0.5555555555555556, \"#d8576b\"], [0.6666666666666666, \"#ed7953\"], [0.7777777777777778, \"#fb9f3a\"], [0.8888888888888888, \"#fdca26\"], [1.0, \"#f0f921\"]], \"type\": \"heatmap\"}], \"heatmapgl\": [{\"colorbar\": {\"outlinewidth\": 0, \"ticks\": \"\"}, \"colorscale\": [[0.0, \"#0d0887\"], [0.1111111111111111, \"#46039f\"], [0.2222222222222222, \"#7201a8\"], [0.3333333333333333, \"#9c179e\"], [0.4444444444444444, \"#bd3786\"], [0.5555555555555556, \"#d8576b\"], [0.6666666666666666, \"#ed7953\"], [0.7777777777777778, \"#fb9f3a\"], [0.8888888888888888, \"#fdca26\"], [1.0, \"#f0f921\"]], \"type\": \"heatmapgl\"}], \"histogram\": [{\"marker\": {\"colorbar\": {\"outlinewidth\": 0, \"ticks\": \"\"}}, \"type\": \"histogram\"}], \"histogram2d\": [{\"colorbar\": {\"outlinewidth\": 0, \"ticks\": \"\"}, \"colorscale\": [[0.0, \"#0d0887\"], [0.1111111111111111, \"#46039f\"], [0.2222222222222222, \"#7201a8\"], [0.3333333333333333, \"#9c179e\"], [0.4444444444444444, \"#bd3786\"], [0.5555555555555556, \"#d8576b\"], [0.6666666666666666, \"#ed7953\"], [0.7777777777777778, \"#fb9f3a\"], [0.8888888888888888, \"#fdca26\"], [1.0, \"#f0f921\"]], \"type\": \"histogram2d\"}], \"histogram2dcontour\": [{\"colorbar\": {\"outlinewidth\": 0, \"ticks\": \"\"}, \"colorscale\": [[0.0, \"#0d0887\"], [0.1111111111111111, \"#46039f\"], [0.2222222222222222, \"#7201a8\"], [0.3333333333333333, \"#9c179e\"], [0.4444444444444444, \"#bd3786\"], [0.5555555555555556, \"#d8576b\"], [0.6666666666666666, \"#ed7953\"], [0.7777777777777778, \"#fb9f3a\"], [0.8888888888888888, \"#fdca26\"], [1.0, \"#f0f921\"]], \"type\": \"histogram2dcontour\"}], \"mesh3d\": [{\"colorbar\": {\"outlinewidth\": 0, \"ticks\": \"\"}, \"type\": \"mesh3d\"}], \"parcoords\": [{\"line\": {\"colorbar\": {\"outlinewidth\": 0, \"ticks\": \"\"}}, \"type\": \"parcoords\"}], \"pie\": [{\"automargin\": true, \"type\": \"pie\"}], \"scatter\": [{\"marker\": {\"colorbar\": {\"outlinewidth\": 0, \"ticks\": \"\"}}, \"type\": \"scatter\"}], \"scatter3d\": [{\"line\": {\"colorbar\": {\"outlinewidth\": 0, \"ticks\": \"\"}}, \"marker\": {\"colorbar\": {\"outlinewidth\": 0, \"ticks\": \"\"}}, \"type\": \"scatter3d\"}], \"scattercarpet\": [{\"marker\": {\"colorbar\": {\"outlinewidth\": 0, \"ticks\": \"\"}}, \"type\": \"scattercarpet\"}], \"scattergeo\": [{\"marker\": {\"colorbar\": {\"outlinewidth\": 0, \"ticks\": \"\"}}, \"type\": \"scattergeo\"}], \"scattergl\": [{\"marker\": {\"colorbar\": {\"outlinewidth\": 0, \"ticks\": \"\"}}, \"type\": \"scattergl\"}], \"scattermapbox\": [{\"marker\": {\"colorbar\": {\"outlinewidth\": 0, \"ticks\": \"\"}}, \"type\": \"scattermapbox\"}], \"scatterpolar\": [{\"marker\": {\"colorbar\": {\"outlinewidth\": 0, \"ticks\": \"\"}}, \"type\": \"scatterpolar\"}], \"scatterpolargl\": [{\"marker\": {\"colorbar\": {\"outlinewidth\": 0, \"ticks\": \"\"}}, \"type\": \"scatterpolargl\"}], \"scatterternary\": [{\"marker\": {\"colorbar\": {\"outlinewidth\": 0, \"ticks\": \"\"}}, \"type\": \"scatterternary\"}], \"surface\": [{\"colorbar\": {\"outlinewidth\": 0, \"ticks\": \"\"}, \"colorscale\": [[0.0, \"#0d0887\"], [0.1111111111111111, \"#46039f\"], [0.2222222222222222, \"#7201a8\"], [0.3333333333333333, \"#9c179e\"], [0.4444444444444444, \"#bd3786\"], [0.5555555555555556, \"#d8576b\"], [0.6666666666666666, \"#ed7953\"], [0.7777777777777778, \"#fb9f3a\"], [0.8888888888888888, \"#fdca26\"], [1.0, \"#f0f921\"]], \"type\": \"surface\"}], \"table\": [{\"cells\": {\"fill\": {\"color\": \"#EBF0F8\"}, \"line\": {\"color\": \"white\"}}, \"header\": {\"fill\": {\"color\": \"#C8D4E3\"}, \"line\": {\"color\": \"white\"}}, \"type\": \"table\"}]}, \"layout\": {\"annotationdefaults\": {\"arrowcolor\": \"#2a3f5f\", \"arrowhead\": 0, \"arrowwidth\": 1}, \"coloraxis\": {\"colorbar\": {\"outlinewidth\": 0, \"ticks\": \"\"}}, \"colorscale\": {\"diverging\": [[0, \"#8e0152\"], [0.1, \"#c51b7d\"], [0.2, \"#de77ae\"], [0.3, \"#f1b6da\"], [0.4, \"#fde0ef\"], [0.5, \"#f7f7f7\"], [0.6, \"#e6f5d0\"], [0.7, \"#b8e186\"], [0.8, \"#7fbc41\"], [0.9, \"#4d9221\"], [1, \"#276419\"]], \"sequential\": [[0.0, \"#0d0887\"], [0.1111111111111111, \"#46039f\"], [0.2222222222222222, \"#7201a8\"], [0.3333333333333333, \"#9c179e\"], [0.4444444444444444, \"#bd3786\"], [0.5555555555555556, \"#d8576b\"], [0.6666666666666666, \"#ed7953\"], [0.7777777777777778, \"#fb9f3a\"], [0.8888888888888888, \"#fdca26\"], [1.0, \"#f0f921\"]], \"sequentialminus\": [[0.0, \"#0d0887\"], [0.1111111111111111, \"#46039f\"], [0.2222222222222222, \"#7201a8\"], [0.3333333333333333, \"#9c179e\"], [0.4444444444444444, \"#bd3786\"], [0.5555555555555556, \"#d8576b\"], [0.6666666666666666, \"#ed7953\"], [0.7777777777777778, \"#fb9f3a\"], [0.8888888888888888, \"#fdca26\"], [1.0, \"#f0f921\"]]}, \"colorway\": [\"#636efa\", \"#EF553B\", \"#00cc96\", \"#ab63fa\", \"#FFA15A\", \"#19d3f3\", \"#FF6692\", \"#B6E880\", \"#FF97FF\", \"#FECB52\"], \"font\": {\"color\": \"#2a3f5f\"}, \"geo\": {\"bgcolor\": \"white\", \"lakecolor\": \"white\", \"landcolor\": \"#E5ECF6\", \"showlakes\": true, \"showland\": true, \"subunitcolor\": \"white\"}, \"hoverlabel\": {\"align\": \"left\"}, \"hovermode\": \"closest\", \"mapbox\": {\"style\": \"light\"}, \"paper_bgcolor\": \"white\", \"plot_bgcolor\": \"#E5ECF6\", \"polar\": {\"angularaxis\": {\"gridcolor\": \"white\", \"linecolor\": \"white\", \"ticks\": \"\"}, \"bgcolor\": \"#E5ECF6\", \"radialaxis\": {\"gridcolor\": \"white\", \"linecolor\": \"white\", \"ticks\": \"\"}}, \"scene\": {\"xaxis\": {\"backgroundcolor\": \"#E5ECF6\", \"gridcolor\": \"white\", \"gridwidth\": 2, \"linecolor\": \"white\", \"showbackground\": true, \"ticks\": \"\", \"zerolinecolor\": \"white\"}, \"yaxis\": {\"backgroundcolor\": \"#E5ECF6\", \"gridcolor\": \"white\", \"gridwidth\": 2, \"linecolor\": \"white\", \"showbackground\": true, \"ticks\": \"\", \"zerolinecolor\": \"white\"}, \"zaxis\": {\"backgroundcolor\": \"#E5ECF6\", \"gridcolor\": \"white\", \"gridwidth\": 2, \"linecolor\": \"white\", \"showbackground\": true, \"ticks\": \"\", \"zerolinecolor\": \"white\"}}, \"shapedefaults\": {\"line\": {\"color\": \"#2a3f5f\"}}, \"ternary\": {\"aaxis\": {\"gridcolor\": \"white\", \"linecolor\": \"white\", \"ticks\": \"\"}, \"baxis\": {\"gridcolor\": \"white\", \"linecolor\": \"white\", \"ticks\": \"\"}, \"bgcolor\": \"#E5ECF6\", \"caxis\": {\"gridcolor\": \"white\", \"linecolor\": \"white\", \"ticks\": \"\"}}, \"title\": {\"x\": 0.05}, \"xaxis\": {\"automargin\": true, \"gridcolor\": \"white\", \"linecolor\": \"white\", \"ticks\": \"\", \"title\": {\"standoff\": 15}, \"zerolinecolor\": \"white\", \"zerolinewidth\": 2}, \"yaxis\": {\"automargin\": true, \"gridcolor\": \"white\", \"linecolor\": \"white\", \"ticks\": \"\", \"title\": {\"standoff\": 15}, \"zerolinecolor\": \"white\", \"zerolinewidth\": 2}}}, \"title\": {\"text\": \"Day-wise\"}, \"xaxis\": {\"title\": {\"text\": \"Time\"}}, \"yaxis\": {\"title\": {\"text\": \"Count\"}}},\n",
              "                        {\"responsive\": true}\n",
              "                    ).then(function(){\n",
              "                            \n",
              "var gd = document.getElementById('b094f0c9-45a3-4701-bfc2-7e6ce45af843');\n",
              "var x = new MutationObserver(function (mutations, observer) {{\n",
              "        var display = window.getComputedStyle(gd).display;\n",
              "        if (!display || display === 'none') {{\n",
              "            console.log([gd, 'removed!']);\n",
              "            Plotly.purge(gd);\n",
              "            observer.disconnect();\n",
              "        }}\n",
              "}});\n",
              "\n",
              "// Listen for the removal of the full notebook cells\n",
              "var notebookContainer = gd.closest('#notebook-container');\n",
              "if (notebookContainer) {{\n",
              "    x.observe(notebookContainer, {childList: true});\n",
              "}}\n",
              "\n",
              "// Listen for the clearing of the current output cell\n",
              "var outputEl = gd.closest('.output');\n",
              "if (outputEl) {{\n",
              "    x.observe(outputEl, {childList: true});\n",
              "}}\n",
              "\n",
              "                        })\n",
              "                };\n",
              "                \n",
              "            </script>\n",
              "        </div>\n",
              "</body>\n",
              "</html>"
            ]
          },
          "metadata": {
            "tags": []
          }
        }
      ]
    },
    {
      "cell_type": "code",
      "metadata": {
        "trusted": true,
        "id": "cR8qSx5JRAJ0"
      },
      "source": [
        "from wordcloud import WordCloud, STOPWORDS "
      ],
      "execution_count": null,
      "outputs": []
    },
    {
      "cell_type": "markdown",
      "metadata": {
        "id": "eFBwgiG2RAJ0"
      },
      "source": [
        " tag cloud (word cloud or wordle or weighted list in visual design) is a novelty visual representation of text data, typically used to depict keyword metadata (tags) on websites, or to visualize free form text. Tags are usually single words, and the importance of each tag is shown with font size or color."
      ]
    },
    {
      "cell_type": "markdown",
      "metadata": {
        "id": "rO4Ii6uQRAJ0"
      },
      "source": [
        "Word Cloud for Fake news"
      ]
    },
    {
      "cell_type": "markdown",
      "metadata": {
        "id": "NINqssLtRAJ0"
      },
      "source": [
        "Word Cloud for Real News"
      ]
    },
    {
      "cell_type": "markdown",
      "metadata": {
        "id": "t6Tcvk4-RAJ1"
      },
      "source": [
        "Combining 'Subject', 'title' and 'text' into one column."
      ]
    },
    {
      "cell_type": "code",
      "metadata": {
        "trusted": true,
        "id": "UgIoAqYnRAJ1"
      },
      "source": [
        "df_['news']=df_['category']+' '+df_['headline']+' '+df_['content']"
      ],
      "execution_count": null,
      "outputs": []
    },
    {
      "cell_type": "code",
      "metadata": {
        "trusted": true,
        "id": "JHmhm0_0RAJ1"
      },
      "source": [
        "df_['news'] = df_.apply(lambda x: x['news'].lower(),axis=1)"
      ],
      "execution_count": null,
      "outputs": []
    },
    {
      "cell_type": "code",
      "metadata": {
        "trusted": true,
        "id": "YT-pHa_QRAJ1"
      },
      "source": [
        "df_[\"news\"] = df_['news'].str.replace(r'[\\u09E6-\\u09EF]','')"
      ],
      "execution_count": null,
      "outputs": []
    },
    {
      "cell_type": "code",
      "metadata": {
        "trusted": true,
        "id": "XUffYfHfRAJ1"
      },
      "source": [
        "all_news=pd.DataFrame(pd.Series(' '.join(df_['news']).split()).value_counts())"
      ],
      "execution_count": null,
      "outputs": []
    },
    {
      "cell_type": "code",
      "metadata": {
        "trusted": true,
        "id": "ORuXydEZRAJ2"
      },
      "source": [
        "allnews1=all_news.head(30)"
      ],
      "execution_count": null,
      "outputs": []
    },
    {
      "cell_type": "markdown",
      "metadata": {
        "id": "g4Cxx0RCRAJ2"
      },
      "source": [
        "Top 30 most frequently occuring words"
      ]
    },
    {
      "cell_type": "code",
      "metadata": {
        "trusted": true,
        "colab": {
          "base_uri": "https://localhost:8080/",
          "height": 542
        },
        "id": "-5L5LSD_RAJ2",
        "outputId": "4fd8581f-f570-4d05-959c-182deee5c3aa"
      },
      "source": [
        "plot_data = [\n",
        "    go.Bar(\n",
        "        x=allnews1.index,\n",
        "        y=allnews1[0],\n",
        "        name='True',\n",
        "        #x_axis=\"OTI\",\n",
        "        #y_axis=\"time\",\n",
        "        marker = dict(\n",
        "            color = allnews1[0]\n",
        "        )\n",
        "    )\n",
        "]\n",
        "plot_layout = go.Layout(\n",
        "        title='Top 30 words',\n",
        "        yaxis_title='Count',\n",
        "        xaxis_title='Word',\n",
        "        plot_bgcolor='rgba(0,0,0,0)'\n",
        "    )\n",
        "fig = go.Figure(data=plot_data, layout=plot_layout)\n",
        "pyoff.iplot(fig)"
      ],
      "execution_count": null,
      "outputs": [
        {
          "output_type": "display_data",
          "data": {
            "text/html": [
              "<html>\n",
              "<head><meta charset=\"utf-8\" /></head>\n",
              "<body>\n",
              "    <div>\n",
              "            <script src=\"https://cdnjs.cloudflare.com/ajax/libs/mathjax/2.7.5/MathJax.js?config=TeX-AMS-MML_SVG\"></script><script type=\"text/javascript\">if (window.MathJax) {MathJax.Hub.Config({SVG: {font: \"STIX-Web\"}});}</script>\n",
              "                <script type=\"text/javascript\">window.PlotlyConfig = {MathJaxConfig: 'local'};</script>\n",
              "        <script src=\"https://cdn.plot.ly/plotly-latest.min.js\"></script>    \n",
              "            <div id=\"e5e89d14-ca38-4108-81f1-6b736510451b\" class=\"plotly-graph-div\" style=\"height:525px; width:100%;\"></div>\n",
              "            <script type=\"text/javascript\">\n",
              "                \n",
              "                    window.PLOTLYENV=window.PLOTLYENV || {};\n",
              "                    \n",
              "                if (document.getElementById(\"e5e89d14-ca38-4108-81f1-6b736510451b\")) {\n",
              "                    Plotly.newPlot(\n",
              "                        'e5e89d14-ca38-4108-81f1-6b736510451b',\n",
              "                        [{\"marker\": {\"color\": [46522, 34128, 23908, 23180, 23153, 22256, 19131, 18902, 17827, 17593, 16872, 16488, 16153, 14078, 14068, 12949, 12296, 11700, 11699, 11668, 11641, 11373, 11287, 10848, 10745, 10221, 9730, 8868, 8760, 8730]}, \"name\": \"True\", \"type\": \"bar\", \"x\": [\"\\u0995\\u09b0\", \"\\u0993\", \"\\u09a5\\u0995\", \"\\u09a4\\u09b0\", \"\\u09b9\\u09df\", \"\\u09a8\", \"\\u098f\", \"\\u09a4\\u09a8\", \"\\u098f\\u0987\", \"\\u09aa\\u09b0\", \"\\u09ac\\u09b2\", \"\\u09ac\\u09b2\\u09a8\", \"\\u09a8\\u09df\", \"\\u09b9\\u09ac\", \"\\u09b9\\u09df\\u099b\", \"\\u098f\\u0995\\u099f\", \"\\u098f\\u09ac\", \"\\u099c\\u09a8\\u09af\", \"\\u0995\\u09b0\\u09a8\", \"\\u09a6\\u09df\", \"\\u0995\\u09a8\", \"\\u0995\\u09b0\\u09a4\", \"\\u0986\\u09ae\\u09b0\", \"\\u098f\\u0995\", \"\\u09ac\\u09b2\\u09a6\\u09b6\", \"\\u0986\\u09b0\", \"\\u0995\\u09b0\\u099b\", \"\\u09af\", \"\\u09b8\\u0999\\u0997\", \"\\u09a4\\u09a6\\u09b0\"], \"y\": [46522, 34128, 23908, 23180, 23153, 22256, 19131, 18902, 17827, 17593, 16872, 16488, 16153, 14078, 14068, 12949, 12296, 11700, 11699, 11668, 11641, 11373, 11287, 10848, 10745, 10221, 9730, 8868, 8760, 8730]}],\n",
              "                        {\"plot_bgcolor\": \"rgba(0,0,0,0)\", \"template\": {\"data\": {\"bar\": [{\"error_x\": {\"color\": \"#2a3f5f\"}, \"error_y\": {\"color\": \"#2a3f5f\"}, \"marker\": {\"line\": {\"color\": \"#E5ECF6\", \"width\": 0.5}}, \"type\": \"bar\"}], \"barpolar\": [{\"marker\": {\"line\": {\"color\": \"#E5ECF6\", \"width\": 0.5}}, \"type\": \"barpolar\"}], \"carpet\": [{\"aaxis\": {\"endlinecolor\": \"#2a3f5f\", \"gridcolor\": \"white\", \"linecolor\": \"white\", \"minorgridcolor\": \"white\", \"startlinecolor\": \"#2a3f5f\"}, \"baxis\": {\"endlinecolor\": \"#2a3f5f\", \"gridcolor\": \"white\", \"linecolor\": \"white\", \"minorgridcolor\": \"white\", \"startlinecolor\": \"#2a3f5f\"}, \"type\": \"carpet\"}], \"choropleth\": [{\"colorbar\": {\"outlinewidth\": 0, \"ticks\": \"\"}, \"type\": \"choropleth\"}], \"contour\": [{\"colorbar\": {\"outlinewidth\": 0, \"ticks\": \"\"}, \"colorscale\": [[0.0, \"#0d0887\"], [0.1111111111111111, \"#46039f\"], [0.2222222222222222, \"#7201a8\"], [0.3333333333333333, \"#9c179e\"], [0.4444444444444444, \"#bd3786\"], [0.5555555555555556, \"#d8576b\"], [0.6666666666666666, \"#ed7953\"], [0.7777777777777778, \"#fb9f3a\"], [0.8888888888888888, \"#fdca26\"], [1.0, \"#f0f921\"]], \"type\": \"contour\"}], \"contourcarpet\": [{\"colorbar\": {\"outlinewidth\": 0, \"ticks\": \"\"}, \"type\": \"contourcarpet\"}], \"heatmap\": [{\"colorbar\": {\"outlinewidth\": 0, \"ticks\": \"\"}, \"colorscale\": [[0.0, \"#0d0887\"], [0.1111111111111111, \"#46039f\"], [0.2222222222222222, \"#7201a8\"], [0.3333333333333333, \"#9c179e\"], [0.4444444444444444, \"#bd3786\"], [0.5555555555555556, \"#d8576b\"], [0.6666666666666666, \"#ed7953\"], [0.7777777777777778, \"#fb9f3a\"], [0.8888888888888888, \"#fdca26\"], [1.0, \"#f0f921\"]], \"type\": \"heatmap\"}], \"heatmapgl\": [{\"colorbar\": {\"outlinewidth\": 0, \"ticks\": \"\"}, \"colorscale\": [[0.0, \"#0d0887\"], [0.1111111111111111, \"#46039f\"], [0.2222222222222222, \"#7201a8\"], [0.3333333333333333, \"#9c179e\"], [0.4444444444444444, \"#bd3786\"], [0.5555555555555556, \"#d8576b\"], [0.6666666666666666, \"#ed7953\"], [0.7777777777777778, \"#fb9f3a\"], [0.8888888888888888, \"#fdca26\"], [1.0, \"#f0f921\"]], \"type\": \"heatmapgl\"}], \"histogram\": [{\"marker\": {\"colorbar\": {\"outlinewidth\": 0, \"ticks\": \"\"}}, \"type\": \"histogram\"}], \"histogram2d\": [{\"colorbar\": {\"outlinewidth\": 0, \"ticks\": \"\"}, \"colorscale\": [[0.0, \"#0d0887\"], [0.1111111111111111, \"#46039f\"], [0.2222222222222222, \"#7201a8\"], [0.3333333333333333, \"#9c179e\"], [0.4444444444444444, \"#bd3786\"], [0.5555555555555556, \"#d8576b\"], [0.6666666666666666, \"#ed7953\"], [0.7777777777777778, \"#fb9f3a\"], [0.8888888888888888, \"#fdca26\"], [1.0, \"#f0f921\"]], \"type\": \"histogram2d\"}], \"histogram2dcontour\": [{\"colorbar\": {\"outlinewidth\": 0, \"ticks\": \"\"}, \"colorscale\": [[0.0, \"#0d0887\"], [0.1111111111111111, \"#46039f\"], [0.2222222222222222, \"#7201a8\"], [0.3333333333333333, \"#9c179e\"], [0.4444444444444444, \"#bd3786\"], [0.5555555555555556, \"#d8576b\"], [0.6666666666666666, \"#ed7953\"], [0.7777777777777778, \"#fb9f3a\"], [0.8888888888888888, \"#fdca26\"], [1.0, \"#f0f921\"]], \"type\": \"histogram2dcontour\"}], \"mesh3d\": [{\"colorbar\": {\"outlinewidth\": 0, \"ticks\": \"\"}, \"type\": \"mesh3d\"}], \"parcoords\": [{\"line\": {\"colorbar\": {\"outlinewidth\": 0, \"ticks\": \"\"}}, \"type\": \"parcoords\"}], \"pie\": [{\"automargin\": true, \"type\": \"pie\"}], \"scatter\": [{\"marker\": {\"colorbar\": {\"outlinewidth\": 0, \"ticks\": \"\"}}, \"type\": \"scatter\"}], \"scatter3d\": [{\"line\": {\"colorbar\": {\"outlinewidth\": 0, \"ticks\": \"\"}}, \"marker\": {\"colorbar\": {\"outlinewidth\": 0, \"ticks\": \"\"}}, \"type\": \"scatter3d\"}], \"scattercarpet\": [{\"marker\": {\"colorbar\": {\"outlinewidth\": 0, \"ticks\": \"\"}}, \"type\": \"scattercarpet\"}], \"scattergeo\": [{\"marker\": {\"colorbar\": {\"outlinewidth\": 0, \"ticks\": \"\"}}, \"type\": \"scattergeo\"}], \"scattergl\": [{\"marker\": {\"colorbar\": {\"outlinewidth\": 0, \"ticks\": \"\"}}, \"type\": \"scattergl\"}], \"scattermapbox\": [{\"marker\": {\"colorbar\": {\"outlinewidth\": 0, \"ticks\": \"\"}}, \"type\": \"scattermapbox\"}], \"scatterpolar\": [{\"marker\": {\"colorbar\": {\"outlinewidth\": 0, \"ticks\": \"\"}}, \"type\": \"scatterpolar\"}], \"scatterpolargl\": [{\"marker\": {\"colorbar\": {\"outlinewidth\": 0, \"ticks\": \"\"}}, \"type\": \"scatterpolargl\"}], \"scatterternary\": [{\"marker\": {\"colorbar\": {\"outlinewidth\": 0, \"ticks\": \"\"}}, \"type\": \"scatterternary\"}], \"surface\": [{\"colorbar\": {\"outlinewidth\": 0, \"ticks\": \"\"}, \"colorscale\": [[0.0, \"#0d0887\"], [0.1111111111111111, \"#46039f\"], [0.2222222222222222, \"#7201a8\"], [0.3333333333333333, \"#9c179e\"], [0.4444444444444444, \"#bd3786\"], [0.5555555555555556, \"#d8576b\"], [0.6666666666666666, \"#ed7953\"], [0.7777777777777778, \"#fb9f3a\"], [0.8888888888888888, \"#fdca26\"], [1.0, \"#f0f921\"]], \"type\": \"surface\"}], \"table\": [{\"cells\": {\"fill\": {\"color\": \"#EBF0F8\"}, \"line\": {\"color\": \"white\"}}, \"header\": {\"fill\": {\"color\": \"#C8D4E3\"}, \"line\": {\"color\": \"white\"}}, \"type\": \"table\"}]}, \"layout\": {\"annotationdefaults\": {\"arrowcolor\": \"#2a3f5f\", \"arrowhead\": 0, \"arrowwidth\": 1}, \"coloraxis\": {\"colorbar\": {\"outlinewidth\": 0, \"ticks\": \"\"}}, \"colorscale\": {\"diverging\": [[0, \"#8e0152\"], [0.1, \"#c51b7d\"], [0.2, \"#de77ae\"], [0.3, \"#f1b6da\"], [0.4, \"#fde0ef\"], [0.5, \"#f7f7f7\"], [0.6, \"#e6f5d0\"], [0.7, \"#b8e186\"], [0.8, \"#7fbc41\"], [0.9, \"#4d9221\"], [1, \"#276419\"]], \"sequential\": [[0.0, \"#0d0887\"], [0.1111111111111111, \"#46039f\"], [0.2222222222222222, \"#7201a8\"], [0.3333333333333333, \"#9c179e\"], [0.4444444444444444, \"#bd3786\"], [0.5555555555555556, \"#d8576b\"], [0.6666666666666666, \"#ed7953\"], [0.7777777777777778, \"#fb9f3a\"], [0.8888888888888888, \"#fdca26\"], [1.0, \"#f0f921\"]], \"sequentialminus\": [[0.0, \"#0d0887\"], [0.1111111111111111, \"#46039f\"], [0.2222222222222222, \"#7201a8\"], [0.3333333333333333, \"#9c179e\"], [0.4444444444444444, \"#bd3786\"], [0.5555555555555556, \"#d8576b\"], [0.6666666666666666, \"#ed7953\"], [0.7777777777777778, \"#fb9f3a\"], [0.8888888888888888, \"#fdca26\"], [1.0, \"#f0f921\"]]}, \"colorway\": [\"#636efa\", \"#EF553B\", \"#00cc96\", \"#ab63fa\", \"#FFA15A\", \"#19d3f3\", \"#FF6692\", \"#B6E880\", \"#FF97FF\", \"#FECB52\"], \"font\": {\"color\": \"#2a3f5f\"}, \"geo\": {\"bgcolor\": \"white\", \"lakecolor\": \"white\", \"landcolor\": \"#E5ECF6\", \"showlakes\": true, \"showland\": true, \"subunitcolor\": \"white\"}, \"hoverlabel\": {\"align\": \"left\"}, \"hovermode\": \"closest\", \"mapbox\": {\"style\": \"light\"}, \"paper_bgcolor\": \"white\", \"plot_bgcolor\": \"#E5ECF6\", \"polar\": {\"angularaxis\": {\"gridcolor\": \"white\", \"linecolor\": \"white\", \"ticks\": \"\"}, \"bgcolor\": \"#E5ECF6\", \"radialaxis\": {\"gridcolor\": \"white\", \"linecolor\": \"white\", \"ticks\": \"\"}}, \"scene\": {\"xaxis\": {\"backgroundcolor\": \"#E5ECF6\", \"gridcolor\": \"white\", \"gridwidth\": 2, \"linecolor\": \"white\", \"showbackground\": true, \"ticks\": \"\", \"zerolinecolor\": \"white\"}, \"yaxis\": {\"backgroundcolor\": \"#E5ECF6\", \"gridcolor\": \"white\", \"gridwidth\": 2, \"linecolor\": \"white\", \"showbackground\": true, \"ticks\": \"\", \"zerolinecolor\": \"white\"}, \"zaxis\": {\"backgroundcolor\": \"#E5ECF6\", \"gridcolor\": \"white\", \"gridwidth\": 2, \"linecolor\": \"white\", \"showbackground\": true, \"ticks\": \"\", \"zerolinecolor\": \"white\"}}, \"shapedefaults\": {\"line\": {\"color\": \"#2a3f5f\"}}, \"ternary\": {\"aaxis\": {\"gridcolor\": \"white\", \"linecolor\": \"white\", \"ticks\": \"\"}, \"baxis\": {\"gridcolor\": \"white\", \"linecolor\": \"white\", \"ticks\": \"\"}, \"bgcolor\": \"#E5ECF6\", \"caxis\": {\"gridcolor\": \"white\", \"linecolor\": \"white\", \"ticks\": \"\"}}, \"title\": {\"x\": 0.05}, \"xaxis\": {\"automargin\": true, \"gridcolor\": \"white\", \"linecolor\": \"white\", \"ticks\": \"\", \"title\": {\"standoff\": 15}, \"zerolinecolor\": \"white\", \"zerolinewidth\": 2}, \"yaxis\": {\"automargin\": true, \"gridcolor\": \"white\", \"linecolor\": \"white\", \"ticks\": \"\", \"title\": {\"standoff\": 15}, \"zerolinecolor\": \"white\", \"zerolinewidth\": 2}}}, \"title\": {\"text\": \"Top 30 words\"}, \"xaxis\": {\"title\": {\"text\": \"Word\"}}, \"yaxis\": {\"title\": {\"text\": \"Count\"}}},\n",
              "                        {\"responsive\": true}\n",
              "                    ).then(function(){\n",
              "                            \n",
              "var gd = document.getElementById('e5e89d14-ca38-4108-81f1-6b736510451b');\n",
              "var x = new MutationObserver(function (mutations, observer) {{\n",
              "        var display = window.getComputedStyle(gd).display;\n",
              "        if (!display || display === 'none') {{\n",
              "            console.log([gd, 'removed!']);\n",
              "            Plotly.purge(gd);\n",
              "            observer.disconnect();\n",
              "        }}\n",
              "}});\n",
              "\n",
              "// Listen for the removal of the full notebook cells\n",
              "var notebookContainer = gd.closest('#notebook-container');\n",
              "if (notebookContainer) {{\n",
              "    x.observe(notebookContainer, {childList: true});\n",
              "}}\n",
              "\n",
              "// Listen for the clearing of the current output cell\n",
              "var outputEl = gd.closest('.output');\n",
              "if (outputEl) {{\n",
              "    x.observe(outputEl, {childList: true});\n",
              "}}\n",
              "\n",
              "                        })\n",
              "                };\n",
              "                \n",
              "            </script>\n",
              "        </div>\n",
              "</body>\n",
              "</html>"
            ]
          },
          "metadata": {
            "tags": []
          }
        }
      ]
    },
    {
      "cell_type": "code",
      "metadata": {
        "trusted": true,
        "id": "g7RwsfnBRAJ2"
      },
      "source": [
        "fake_news=pd.DataFrame(pd.Series(' '.join(df_[df_['label']==1]['news']).split()).value_counts())"
      ],
      "execution_count": null,
      "outputs": []
    },
    {
      "cell_type": "code",
      "metadata": {
        "trusted": true,
        "id": "ldiYAz0QRAJ3"
      },
      "source": [
        "fake_news30=fake_news.head(15)"
      ],
      "execution_count": null,
      "outputs": []
    },
    {
      "cell_type": "markdown",
      "metadata": {
        "id": "ey1-NuLLRAJ3"
      },
      "source": [
        "Top 30 most Frequently occuring words from Fake news"
      ]
    },
    {
      "cell_type": "code",
      "metadata": {
        "trusted": true,
        "colab": {
          "base_uri": "https://localhost:8080/",
          "height": 542
        },
        "id": "e_fEIFNPRAJ3",
        "outputId": "1199822f-da57-4e88-f78f-3f7b1b24e020"
      },
      "source": [
        "plot_data = [\n",
        "    go.Bar(\n",
        "        x=fake_news30.index,\n",
        "        y=fake_news30[0],\n",
        "        #name='True',\n",
        "        #x_axis=\"OTI\",\n",
        "        #y_axis=\"time\",\n",
        "        marker = dict(\n",
        "            color = fake_news30[0]\n",
        "        )\n",
        "    )\n",
        "]\n",
        "plot_layout = go.Layout(\n",
        "        title='Top 15 words from Fake news',\n",
        "        yaxis_title='Count',\n",
        "        xaxis_title='Word',\n",
        "        plot_bgcolor='rgba(0,0,0,0)'\n",
        "    )\n",
        "fig = go.Figure(data=plot_data, layout=plot_layout)\n",
        "pyoff.iplot(fig)"
      ],
      "execution_count": null,
      "outputs": [
        {
          "output_type": "display_data",
          "data": {
            "text/html": [
              "<html>\n",
              "<head><meta charset=\"utf-8\" /></head>\n",
              "<body>\n",
              "    <div>\n",
              "            <script src=\"https://cdnjs.cloudflare.com/ajax/libs/mathjax/2.7.5/MathJax.js?config=TeX-AMS-MML_SVG\"></script><script type=\"text/javascript\">if (window.MathJax) {MathJax.Hub.Config({SVG: {font: \"STIX-Web\"}});}</script>\n",
              "                <script type=\"text/javascript\">window.PlotlyConfig = {MathJaxConfig: 'local'};</script>\n",
              "        <script src=\"https://cdn.plot.ly/plotly-latest.min.js\"></script>    \n",
              "            <div id=\"a921ba4c-b575-4b12-8bc7-bab4b6d5ac78\" class=\"plotly-graph-div\" style=\"height:525px; width:100%;\"></div>\n",
              "            <script type=\"text/javascript\">\n",
              "                \n",
              "                    window.PLOTLYENV=window.PLOTLYENV || {};\n",
              "                    \n",
              "                if (document.getElementById(\"a921ba4c-b575-4b12-8bc7-bab4b6d5ac78\")) {\n",
              "                    Plotly.newPlot(\n",
              "                        'a921ba4c-b575-4b12-8bc7-bab4b6d5ac78',\n",
              "                        [{\"marker\": {\"color\": [40223, 31943, 20819, 20454, 19835, 17884, 17442, 16720, 14959, 14931, 14627, 14268, 14143, 13264, 12711]}, \"type\": \"bar\", \"x\": [\"\\u0995\\u09b0\", \"\\u0993\", \"\\u09a5\\u0995\", \"\\u09b9\\u09df\", \"\\u09a4\\u09b0\", \"\\u09a8\", \"\\u098f\", \"\\u09a4\\u09a8\", \"\\u09aa\\u09b0\", \"\\u09ac\\u09b2\", \"\\u098f\\u0987\", \"\\u09ac\\u09b2\\u09a8\", \"\\u09a8\\u09df\", \"\\u09b9\\u09df\\u099b\", \"\\u09b9\\u09ac\"], \"y\": [40223, 31943, 20819, 20454, 19835, 17884, 17442, 16720, 14959, 14931, 14627, 14268, 14143, 13264, 12711]}],\n",
              "                        {\"plot_bgcolor\": \"rgba(0,0,0,0)\", \"template\": {\"data\": {\"bar\": [{\"error_x\": {\"color\": \"#2a3f5f\"}, \"error_y\": {\"color\": \"#2a3f5f\"}, \"marker\": {\"line\": {\"color\": \"#E5ECF6\", \"width\": 0.5}}, \"type\": \"bar\"}], \"barpolar\": [{\"marker\": {\"line\": {\"color\": \"#E5ECF6\", \"width\": 0.5}}, \"type\": \"barpolar\"}], \"carpet\": [{\"aaxis\": {\"endlinecolor\": \"#2a3f5f\", \"gridcolor\": \"white\", \"linecolor\": \"white\", \"minorgridcolor\": \"white\", \"startlinecolor\": \"#2a3f5f\"}, \"baxis\": {\"endlinecolor\": \"#2a3f5f\", \"gridcolor\": \"white\", \"linecolor\": \"white\", \"minorgridcolor\": \"white\", \"startlinecolor\": \"#2a3f5f\"}, \"type\": \"carpet\"}], \"choropleth\": [{\"colorbar\": {\"outlinewidth\": 0, \"ticks\": \"\"}, \"type\": \"choropleth\"}], \"contour\": [{\"colorbar\": {\"outlinewidth\": 0, \"ticks\": \"\"}, \"colorscale\": [[0.0, \"#0d0887\"], [0.1111111111111111, \"#46039f\"], [0.2222222222222222, \"#7201a8\"], [0.3333333333333333, \"#9c179e\"], [0.4444444444444444, \"#bd3786\"], [0.5555555555555556, \"#d8576b\"], [0.6666666666666666, \"#ed7953\"], [0.7777777777777778, \"#fb9f3a\"], [0.8888888888888888, \"#fdca26\"], [1.0, \"#f0f921\"]], \"type\": \"contour\"}], \"contourcarpet\": [{\"colorbar\": {\"outlinewidth\": 0, \"ticks\": \"\"}, \"type\": \"contourcarpet\"}], \"heatmap\": [{\"colorbar\": {\"outlinewidth\": 0, \"ticks\": \"\"}, \"colorscale\": [[0.0, \"#0d0887\"], [0.1111111111111111, \"#46039f\"], [0.2222222222222222, \"#7201a8\"], [0.3333333333333333, \"#9c179e\"], [0.4444444444444444, \"#bd3786\"], [0.5555555555555556, \"#d8576b\"], [0.6666666666666666, \"#ed7953\"], [0.7777777777777778, \"#fb9f3a\"], [0.8888888888888888, \"#fdca26\"], [1.0, \"#f0f921\"]], \"type\": \"heatmap\"}], \"heatmapgl\": [{\"colorbar\": {\"outlinewidth\": 0, \"ticks\": \"\"}, \"colorscale\": [[0.0, \"#0d0887\"], [0.1111111111111111, \"#46039f\"], [0.2222222222222222, \"#7201a8\"], [0.3333333333333333, \"#9c179e\"], [0.4444444444444444, \"#bd3786\"], [0.5555555555555556, \"#d8576b\"], [0.6666666666666666, \"#ed7953\"], [0.7777777777777778, \"#fb9f3a\"], [0.8888888888888888, \"#fdca26\"], [1.0, \"#f0f921\"]], \"type\": \"heatmapgl\"}], \"histogram\": [{\"marker\": {\"colorbar\": {\"outlinewidth\": 0, \"ticks\": \"\"}}, \"type\": \"histogram\"}], \"histogram2d\": [{\"colorbar\": {\"outlinewidth\": 0, \"ticks\": \"\"}, \"colorscale\": [[0.0, \"#0d0887\"], [0.1111111111111111, \"#46039f\"], [0.2222222222222222, \"#7201a8\"], [0.3333333333333333, \"#9c179e\"], [0.4444444444444444, \"#bd3786\"], [0.5555555555555556, \"#d8576b\"], [0.6666666666666666, \"#ed7953\"], [0.7777777777777778, \"#fb9f3a\"], [0.8888888888888888, \"#fdca26\"], [1.0, \"#f0f921\"]], \"type\": \"histogram2d\"}], \"histogram2dcontour\": [{\"colorbar\": {\"outlinewidth\": 0, \"ticks\": \"\"}, \"colorscale\": [[0.0, \"#0d0887\"], [0.1111111111111111, \"#46039f\"], [0.2222222222222222, \"#7201a8\"], [0.3333333333333333, \"#9c179e\"], [0.4444444444444444, \"#bd3786\"], [0.5555555555555556, \"#d8576b\"], [0.6666666666666666, \"#ed7953\"], [0.7777777777777778, \"#fb9f3a\"], [0.8888888888888888, \"#fdca26\"], [1.0, \"#f0f921\"]], \"type\": \"histogram2dcontour\"}], \"mesh3d\": [{\"colorbar\": {\"outlinewidth\": 0, \"ticks\": \"\"}, \"type\": \"mesh3d\"}], \"parcoords\": [{\"line\": {\"colorbar\": {\"outlinewidth\": 0, \"ticks\": \"\"}}, \"type\": \"parcoords\"}], \"pie\": [{\"automargin\": true, \"type\": \"pie\"}], \"scatter\": [{\"marker\": {\"colorbar\": {\"outlinewidth\": 0, \"ticks\": \"\"}}, \"type\": \"scatter\"}], \"scatter3d\": [{\"line\": {\"colorbar\": {\"outlinewidth\": 0, \"ticks\": \"\"}}, \"marker\": {\"colorbar\": {\"outlinewidth\": 0, \"ticks\": \"\"}}, \"type\": \"scatter3d\"}], \"scattercarpet\": [{\"marker\": {\"colorbar\": {\"outlinewidth\": 0, \"ticks\": \"\"}}, \"type\": \"scattercarpet\"}], \"scattergeo\": [{\"marker\": {\"colorbar\": {\"outlinewidth\": 0, \"ticks\": \"\"}}, \"type\": \"scattergeo\"}], \"scattergl\": [{\"marker\": {\"colorbar\": {\"outlinewidth\": 0, \"ticks\": \"\"}}, \"type\": \"scattergl\"}], \"scattermapbox\": [{\"marker\": {\"colorbar\": {\"outlinewidth\": 0, \"ticks\": \"\"}}, \"type\": \"scattermapbox\"}], \"scatterpolar\": [{\"marker\": {\"colorbar\": {\"outlinewidth\": 0, \"ticks\": \"\"}}, \"type\": \"scatterpolar\"}], \"scatterpolargl\": [{\"marker\": {\"colorbar\": {\"outlinewidth\": 0, \"ticks\": \"\"}}, \"type\": \"scatterpolargl\"}], \"scatterternary\": [{\"marker\": {\"colorbar\": {\"outlinewidth\": 0, \"ticks\": \"\"}}, \"type\": \"scatterternary\"}], \"surface\": [{\"colorbar\": {\"outlinewidth\": 0, \"ticks\": \"\"}, \"colorscale\": [[0.0, \"#0d0887\"], [0.1111111111111111, \"#46039f\"], [0.2222222222222222, \"#7201a8\"], [0.3333333333333333, \"#9c179e\"], [0.4444444444444444, \"#bd3786\"], [0.5555555555555556, \"#d8576b\"], [0.6666666666666666, \"#ed7953\"], [0.7777777777777778, \"#fb9f3a\"], [0.8888888888888888, \"#fdca26\"], [1.0, \"#f0f921\"]], \"type\": \"surface\"}], \"table\": [{\"cells\": {\"fill\": {\"color\": \"#EBF0F8\"}, \"line\": {\"color\": \"white\"}}, \"header\": {\"fill\": {\"color\": \"#C8D4E3\"}, \"line\": {\"color\": \"white\"}}, \"type\": \"table\"}]}, \"layout\": {\"annotationdefaults\": {\"arrowcolor\": \"#2a3f5f\", \"arrowhead\": 0, \"arrowwidth\": 1}, \"coloraxis\": {\"colorbar\": {\"outlinewidth\": 0, \"ticks\": \"\"}}, \"colorscale\": {\"diverging\": [[0, \"#8e0152\"], [0.1, \"#c51b7d\"], [0.2, \"#de77ae\"], [0.3, \"#f1b6da\"], [0.4, \"#fde0ef\"], [0.5, \"#f7f7f7\"], [0.6, \"#e6f5d0\"], [0.7, \"#b8e186\"], [0.8, \"#7fbc41\"], [0.9, \"#4d9221\"], [1, \"#276419\"]], \"sequential\": [[0.0, \"#0d0887\"], [0.1111111111111111, \"#46039f\"], [0.2222222222222222, \"#7201a8\"], [0.3333333333333333, \"#9c179e\"], [0.4444444444444444, \"#bd3786\"], [0.5555555555555556, \"#d8576b\"], [0.6666666666666666, \"#ed7953\"], [0.7777777777777778, \"#fb9f3a\"], [0.8888888888888888, \"#fdca26\"], [1.0, \"#f0f921\"]], \"sequentialminus\": [[0.0, \"#0d0887\"], [0.1111111111111111, \"#46039f\"], [0.2222222222222222, \"#7201a8\"], [0.3333333333333333, \"#9c179e\"], [0.4444444444444444, \"#bd3786\"], [0.5555555555555556, \"#d8576b\"], [0.6666666666666666, \"#ed7953\"], [0.7777777777777778, \"#fb9f3a\"], [0.8888888888888888, \"#fdca26\"], [1.0, \"#f0f921\"]]}, \"colorway\": [\"#636efa\", \"#EF553B\", \"#00cc96\", \"#ab63fa\", \"#FFA15A\", \"#19d3f3\", \"#FF6692\", \"#B6E880\", \"#FF97FF\", \"#FECB52\"], \"font\": {\"color\": \"#2a3f5f\"}, \"geo\": {\"bgcolor\": \"white\", \"lakecolor\": \"white\", \"landcolor\": \"#E5ECF6\", \"showlakes\": true, \"showland\": true, \"subunitcolor\": \"white\"}, \"hoverlabel\": {\"align\": \"left\"}, \"hovermode\": \"closest\", \"mapbox\": {\"style\": \"light\"}, \"paper_bgcolor\": \"white\", \"plot_bgcolor\": \"#E5ECF6\", \"polar\": {\"angularaxis\": {\"gridcolor\": \"white\", \"linecolor\": \"white\", \"ticks\": \"\"}, \"bgcolor\": \"#E5ECF6\", \"radialaxis\": {\"gridcolor\": \"white\", \"linecolor\": \"white\", \"ticks\": \"\"}}, \"scene\": {\"xaxis\": {\"backgroundcolor\": \"#E5ECF6\", \"gridcolor\": \"white\", \"gridwidth\": 2, \"linecolor\": \"white\", \"showbackground\": true, \"ticks\": \"\", \"zerolinecolor\": \"white\"}, \"yaxis\": {\"backgroundcolor\": \"#E5ECF6\", \"gridcolor\": \"white\", \"gridwidth\": 2, \"linecolor\": \"white\", \"showbackground\": true, \"ticks\": \"\", \"zerolinecolor\": \"white\"}, \"zaxis\": {\"backgroundcolor\": \"#E5ECF6\", \"gridcolor\": \"white\", \"gridwidth\": 2, \"linecolor\": \"white\", \"showbackground\": true, \"ticks\": \"\", \"zerolinecolor\": \"white\"}}, \"shapedefaults\": {\"line\": {\"color\": \"#2a3f5f\"}}, \"ternary\": {\"aaxis\": {\"gridcolor\": \"white\", \"linecolor\": \"white\", \"ticks\": \"\"}, \"baxis\": {\"gridcolor\": \"white\", \"linecolor\": \"white\", \"ticks\": \"\"}, \"bgcolor\": \"#E5ECF6\", \"caxis\": {\"gridcolor\": \"white\", \"linecolor\": \"white\", \"ticks\": \"\"}}, \"title\": {\"x\": 0.05}, \"xaxis\": {\"automargin\": true, \"gridcolor\": \"white\", \"linecolor\": \"white\", \"ticks\": \"\", \"title\": {\"standoff\": 15}, \"zerolinecolor\": \"white\", \"zerolinewidth\": 2}, \"yaxis\": {\"automargin\": true, \"gridcolor\": \"white\", \"linecolor\": \"white\", \"ticks\": \"\", \"title\": {\"standoff\": 15}, \"zerolinecolor\": \"white\", \"zerolinewidth\": 2}}}, \"title\": {\"text\": \"Top 15 words from Fake news\"}, \"xaxis\": {\"title\": {\"text\": \"Word\"}}, \"yaxis\": {\"title\": {\"text\": \"Count\"}}},\n",
              "                        {\"responsive\": true}\n",
              "                    ).then(function(){\n",
              "                            \n",
              "var gd = document.getElementById('a921ba4c-b575-4b12-8bc7-bab4b6d5ac78');\n",
              "var x = new MutationObserver(function (mutations, observer) {{\n",
              "        var display = window.getComputedStyle(gd).display;\n",
              "        if (!display || display === 'none') {{\n",
              "            console.log([gd, 'removed!']);\n",
              "            Plotly.purge(gd);\n",
              "            observer.disconnect();\n",
              "        }}\n",
              "}});\n",
              "\n",
              "// Listen for the removal of the full notebook cells\n",
              "var notebookContainer = gd.closest('#notebook-container');\n",
              "if (notebookContainer) {{\n",
              "    x.observe(notebookContainer, {childList: true});\n",
              "}}\n",
              "\n",
              "// Listen for the clearing of the current output cell\n",
              "var outputEl = gd.closest('.output');\n",
              "if (outputEl) {{\n",
              "    x.observe(outputEl, {childList: true});\n",
              "}}\n",
              "\n",
              "                        })\n",
              "                };\n",
              "                \n",
              "            </script>\n",
              "        </div>\n",
              "</body>\n",
              "</html>"
            ]
          },
          "metadata": {
            "tags": []
          }
        }
      ]
    },
    {
      "cell_type": "markdown",
      "metadata": {
        "id": "MPilDSpzRAJ3"
      },
      "source": [
        "Top 30 most Frequently occuring words from True news"
      ]
    },
    {
      "cell_type": "code",
      "metadata": {
        "trusted": true,
        "id": "NANtxd5ERAJ3"
      },
      "source": [
        "real_news=pd.DataFrame(pd.Series(' '.join(df_[df_['label']==0]['news']).split()).value_counts())"
      ],
      "execution_count": null,
      "outputs": []
    },
    {
      "cell_type": "code",
      "metadata": {
        "trusted": true,
        "id": "TgG-XlQyRAJ3"
      },
      "source": [
        "real_news30=real_news.head(15)"
      ],
      "execution_count": null,
      "outputs": []
    },
    {
      "cell_type": "code",
      "metadata": {
        "trusted": true,
        "colab": {
          "base_uri": "https://localhost:8080/",
          "height": 542
        },
        "id": "yBGz9Hp2RAJ4",
        "outputId": "ef7acc90-0032-468b-a504-fc99a47ad881"
      },
      "source": [
        "plot_data = [\n",
        "    go.Bar(\n",
        "        x=real_news30.index,\n",
        "        y=real_news30[0],\n",
        "        #name='True',\n",
        "        #x_axis=\"OTI\",\n",
        "        #y_axis=\"time\",\n",
        "        marker = dict(\n",
        "            color = real_news30[0]\n",
        "        )\n",
        "    )\n",
        "]\n",
        "plot_layout = go.Layout(\n",
        "        title='Top 15 words from Real news',\n",
        "        yaxis_title='Count',\n",
        "        xaxis_title='Word',\n",
        "        plot_bgcolor='rgba(0,0,0,0)'\n",
        "    )\n",
        "fig = go.Figure(data=plot_data, layout=plot_layout)\n",
        "pyoff.iplot(fig)"
      ],
      "execution_count": null,
      "outputs": [
        {
          "output_type": "display_data",
          "data": {
            "text/html": [
              "<html>\n",
              "<head><meta charset=\"utf-8\" /></head>\n",
              "<body>\n",
              "    <div>\n",
              "            <script src=\"https://cdnjs.cloudflare.com/ajax/libs/mathjax/2.7.5/MathJax.js?config=TeX-AMS-MML_SVG\"></script><script type=\"text/javascript\">if (window.MathJax) {MathJax.Hub.Config({SVG: {font: \"STIX-Web\"}});}</script>\n",
              "                <script type=\"text/javascript\">window.PlotlyConfig = {MathJaxConfig: 'local'};</script>\n",
              "        <script src=\"https://cdn.plot.ly/plotly-latest.min.js\"></script>    \n",
              "            <div id=\"7a824ca2-3728-477e-a289-35a83c051a76\" class=\"plotly-graph-div\" style=\"height:525px; width:100%;\"></div>\n",
              "            <script type=\"text/javascript\">\n",
              "                \n",
              "                    window.PLOTLYENV=window.PLOTLYENV || {};\n",
              "                    \n",
              "                if (document.getElementById(\"7a824ca2-3728-477e-a289-35a83c051a76\")) {\n",
              "                    Plotly.newPlot(\n",
              "                        '7a824ca2-3728-477e-a289-35a83c051a76',\n",
              "                        [{\"marker\": {\"color\": [6299, 4372, 3345, 3200, 3089, 2699, 2677, 2634, 2466, 2279, 2220, 2185, 2184, 2182, 2084]}, \"type\": \"bar\", \"x\": [\"\\u0995\\u09b0\", \"\\u09a8\", \"\\u09a4\\u09b0\", \"\\u098f\\u0987\", \"\\u09a5\\u0995\", \"\\u09b9\\u09df\", \"\\u0986\\u09ae\\u09b0\", \"\\u09aa\\u09b0\", \"\\u0995\\u09a8\", \"\\u098f\\u0995\\u099f\", \"\\u09ac\\u09b2\\u09a8\", \"\\u0993\", \"\\u0986\\u09b0\", \"\\u09a4\\u09a8\", \"\\u098f\\u0995\"], \"y\": [6299, 4372, 3345, 3200, 3089, 2699, 2677, 2634, 2466, 2279, 2220, 2185, 2184, 2182, 2084]}],\n",
              "                        {\"plot_bgcolor\": \"rgba(0,0,0,0)\", \"template\": {\"data\": {\"bar\": [{\"error_x\": {\"color\": \"#2a3f5f\"}, \"error_y\": {\"color\": \"#2a3f5f\"}, \"marker\": {\"line\": {\"color\": \"#E5ECF6\", \"width\": 0.5}}, \"type\": \"bar\"}], \"barpolar\": [{\"marker\": {\"line\": {\"color\": \"#E5ECF6\", \"width\": 0.5}}, \"type\": \"barpolar\"}], \"carpet\": [{\"aaxis\": {\"endlinecolor\": \"#2a3f5f\", \"gridcolor\": \"white\", \"linecolor\": \"white\", \"minorgridcolor\": \"white\", \"startlinecolor\": \"#2a3f5f\"}, \"baxis\": {\"endlinecolor\": \"#2a3f5f\", \"gridcolor\": \"white\", \"linecolor\": \"white\", \"minorgridcolor\": \"white\", \"startlinecolor\": \"#2a3f5f\"}, \"type\": \"carpet\"}], \"choropleth\": [{\"colorbar\": {\"outlinewidth\": 0, \"ticks\": \"\"}, \"type\": \"choropleth\"}], \"contour\": [{\"colorbar\": {\"outlinewidth\": 0, \"ticks\": \"\"}, \"colorscale\": [[0.0, \"#0d0887\"], [0.1111111111111111, \"#46039f\"], [0.2222222222222222, \"#7201a8\"], [0.3333333333333333, \"#9c179e\"], [0.4444444444444444, \"#bd3786\"], [0.5555555555555556, \"#d8576b\"], [0.6666666666666666, \"#ed7953\"], [0.7777777777777778, \"#fb9f3a\"], [0.8888888888888888, \"#fdca26\"], [1.0, \"#f0f921\"]], \"type\": \"contour\"}], \"contourcarpet\": [{\"colorbar\": {\"outlinewidth\": 0, \"ticks\": \"\"}, \"type\": \"contourcarpet\"}], \"heatmap\": [{\"colorbar\": {\"outlinewidth\": 0, \"ticks\": \"\"}, \"colorscale\": [[0.0, \"#0d0887\"], [0.1111111111111111, \"#46039f\"], [0.2222222222222222, \"#7201a8\"], [0.3333333333333333, \"#9c179e\"], [0.4444444444444444, \"#bd3786\"], [0.5555555555555556, \"#d8576b\"], [0.6666666666666666, \"#ed7953\"], [0.7777777777777778, \"#fb9f3a\"], [0.8888888888888888, \"#fdca26\"], [1.0, \"#f0f921\"]], \"type\": \"heatmap\"}], \"heatmapgl\": [{\"colorbar\": {\"outlinewidth\": 0, \"ticks\": \"\"}, \"colorscale\": [[0.0, \"#0d0887\"], [0.1111111111111111, \"#46039f\"], [0.2222222222222222, \"#7201a8\"], [0.3333333333333333, \"#9c179e\"], [0.4444444444444444, \"#bd3786\"], [0.5555555555555556, \"#d8576b\"], [0.6666666666666666, \"#ed7953\"], [0.7777777777777778, \"#fb9f3a\"], [0.8888888888888888, \"#fdca26\"], [1.0, \"#f0f921\"]], \"type\": \"heatmapgl\"}], \"histogram\": [{\"marker\": {\"colorbar\": {\"outlinewidth\": 0, \"ticks\": \"\"}}, \"type\": \"histogram\"}], \"histogram2d\": [{\"colorbar\": {\"outlinewidth\": 0, \"ticks\": \"\"}, \"colorscale\": [[0.0, \"#0d0887\"], [0.1111111111111111, \"#46039f\"], [0.2222222222222222, \"#7201a8\"], [0.3333333333333333, \"#9c179e\"], [0.4444444444444444, \"#bd3786\"], [0.5555555555555556, \"#d8576b\"], [0.6666666666666666, \"#ed7953\"], [0.7777777777777778, \"#fb9f3a\"], [0.8888888888888888, \"#fdca26\"], [1.0, \"#f0f921\"]], \"type\": \"histogram2d\"}], \"histogram2dcontour\": [{\"colorbar\": {\"outlinewidth\": 0, \"ticks\": \"\"}, \"colorscale\": [[0.0, \"#0d0887\"], [0.1111111111111111, \"#46039f\"], [0.2222222222222222, \"#7201a8\"], [0.3333333333333333, \"#9c179e\"], [0.4444444444444444, \"#bd3786\"], [0.5555555555555556, \"#d8576b\"], [0.6666666666666666, \"#ed7953\"], [0.7777777777777778, \"#fb9f3a\"], [0.8888888888888888, \"#fdca26\"], [1.0, \"#f0f921\"]], \"type\": \"histogram2dcontour\"}], \"mesh3d\": [{\"colorbar\": {\"outlinewidth\": 0, \"ticks\": \"\"}, \"type\": \"mesh3d\"}], \"parcoords\": [{\"line\": {\"colorbar\": {\"outlinewidth\": 0, \"ticks\": \"\"}}, \"type\": \"parcoords\"}], \"pie\": [{\"automargin\": true, \"type\": \"pie\"}], \"scatter\": [{\"marker\": {\"colorbar\": {\"outlinewidth\": 0, \"ticks\": \"\"}}, \"type\": \"scatter\"}], \"scatter3d\": [{\"line\": {\"colorbar\": {\"outlinewidth\": 0, \"ticks\": \"\"}}, \"marker\": {\"colorbar\": {\"outlinewidth\": 0, \"ticks\": \"\"}}, \"type\": \"scatter3d\"}], \"scattercarpet\": [{\"marker\": {\"colorbar\": {\"outlinewidth\": 0, \"ticks\": \"\"}}, \"type\": \"scattercarpet\"}], \"scattergeo\": [{\"marker\": {\"colorbar\": {\"outlinewidth\": 0, \"ticks\": \"\"}}, \"type\": \"scattergeo\"}], \"scattergl\": [{\"marker\": {\"colorbar\": {\"outlinewidth\": 0, \"ticks\": \"\"}}, \"type\": \"scattergl\"}], \"scattermapbox\": [{\"marker\": {\"colorbar\": {\"outlinewidth\": 0, \"ticks\": \"\"}}, \"type\": \"scattermapbox\"}], \"scatterpolar\": [{\"marker\": {\"colorbar\": {\"outlinewidth\": 0, \"ticks\": \"\"}}, \"type\": \"scatterpolar\"}], \"scatterpolargl\": [{\"marker\": {\"colorbar\": {\"outlinewidth\": 0, \"ticks\": \"\"}}, \"type\": \"scatterpolargl\"}], \"scatterternary\": [{\"marker\": {\"colorbar\": {\"outlinewidth\": 0, \"ticks\": \"\"}}, \"type\": \"scatterternary\"}], \"surface\": [{\"colorbar\": {\"outlinewidth\": 0, \"ticks\": \"\"}, \"colorscale\": [[0.0, \"#0d0887\"], [0.1111111111111111, \"#46039f\"], [0.2222222222222222, \"#7201a8\"], [0.3333333333333333, \"#9c179e\"], [0.4444444444444444, \"#bd3786\"], [0.5555555555555556, \"#d8576b\"], [0.6666666666666666, \"#ed7953\"], [0.7777777777777778, \"#fb9f3a\"], [0.8888888888888888, \"#fdca26\"], [1.0, \"#f0f921\"]], \"type\": \"surface\"}], \"table\": [{\"cells\": {\"fill\": {\"color\": \"#EBF0F8\"}, \"line\": {\"color\": \"white\"}}, \"header\": {\"fill\": {\"color\": \"#C8D4E3\"}, \"line\": {\"color\": \"white\"}}, \"type\": \"table\"}]}, \"layout\": {\"annotationdefaults\": {\"arrowcolor\": \"#2a3f5f\", \"arrowhead\": 0, \"arrowwidth\": 1}, \"coloraxis\": {\"colorbar\": {\"outlinewidth\": 0, \"ticks\": \"\"}}, \"colorscale\": {\"diverging\": [[0, \"#8e0152\"], [0.1, \"#c51b7d\"], [0.2, \"#de77ae\"], [0.3, \"#f1b6da\"], [0.4, \"#fde0ef\"], [0.5, \"#f7f7f7\"], [0.6, \"#e6f5d0\"], [0.7, \"#b8e186\"], [0.8, \"#7fbc41\"], [0.9, \"#4d9221\"], [1, \"#276419\"]], \"sequential\": [[0.0, \"#0d0887\"], [0.1111111111111111, \"#46039f\"], [0.2222222222222222, \"#7201a8\"], [0.3333333333333333, \"#9c179e\"], [0.4444444444444444, \"#bd3786\"], [0.5555555555555556, \"#d8576b\"], [0.6666666666666666, \"#ed7953\"], [0.7777777777777778, \"#fb9f3a\"], [0.8888888888888888, \"#fdca26\"], [1.0, \"#f0f921\"]], \"sequentialminus\": [[0.0, \"#0d0887\"], [0.1111111111111111, \"#46039f\"], [0.2222222222222222, \"#7201a8\"], [0.3333333333333333, \"#9c179e\"], [0.4444444444444444, \"#bd3786\"], [0.5555555555555556, \"#d8576b\"], [0.6666666666666666, \"#ed7953\"], [0.7777777777777778, \"#fb9f3a\"], [0.8888888888888888, \"#fdca26\"], [1.0, \"#f0f921\"]]}, \"colorway\": [\"#636efa\", \"#EF553B\", \"#00cc96\", \"#ab63fa\", \"#FFA15A\", \"#19d3f3\", \"#FF6692\", \"#B6E880\", \"#FF97FF\", \"#FECB52\"], \"font\": {\"color\": \"#2a3f5f\"}, \"geo\": {\"bgcolor\": \"white\", \"lakecolor\": \"white\", \"landcolor\": \"#E5ECF6\", \"showlakes\": true, \"showland\": true, \"subunitcolor\": \"white\"}, \"hoverlabel\": {\"align\": \"left\"}, \"hovermode\": \"closest\", \"mapbox\": {\"style\": \"light\"}, \"paper_bgcolor\": \"white\", \"plot_bgcolor\": \"#E5ECF6\", \"polar\": {\"angularaxis\": {\"gridcolor\": \"white\", \"linecolor\": \"white\", \"ticks\": \"\"}, \"bgcolor\": \"#E5ECF6\", \"radialaxis\": {\"gridcolor\": \"white\", \"linecolor\": \"white\", \"ticks\": \"\"}}, \"scene\": {\"xaxis\": {\"backgroundcolor\": \"#E5ECF6\", \"gridcolor\": \"white\", \"gridwidth\": 2, \"linecolor\": \"white\", \"showbackground\": true, \"ticks\": \"\", \"zerolinecolor\": \"white\"}, \"yaxis\": {\"backgroundcolor\": \"#E5ECF6\", \"gridcolor\": \"white\", \"gridwidth\": 2, \"linecolor\": \"white\", \"showbackground\": true, \"ticks\": \"\", \"zerolinecolor\": \"white\"}, \"zaxis\": {\"backgroundcolor\": \"#E5ECF6\", \"gridcolor\": \"white\", \"gridwidth\": 2, \"linecolor\": \"white\", \"showbackground\": true, \"ticks\": \"\", \"zerolinecolor\": \"white\"}}, \"shapedefaults\": {\"line\": {\"color\": \"#2a3f5f\"}}, \"ternary\": {\"aaxis\": {\"gridcolor\": \"white\", \"linecolor\": \"white\", \"ticks\": \"\"}, \"baxis\": {\"gridcolor\": \"white\", \"linecolor\": \"white\", \"ticks\": \"\"}, \"bgcolor\": \"#E5ECF6\", \"caxis\": {\"gridcolor\": \"white\", \"linecolor\": \"white\", \"ticks\": \"\"}}, \"title\": {\"x\": 0.05}, \"xaxis\": {\"automargin\": true, \"gridcolor\": \"white\", \"linecolor\": \"white\", \"ticks\": \"\", \"title\": {\"standoff\": 15}, \"zerolinecolor\": \"white\", \"zerolinewidth\": 2}, \"yaxis\": {\"automargin\": true, \"gridcolor\": \"white\", \"linecolor\": \"white\", \"ticks\": \"\", \"title\": {\"standoff\": 15}, \"zerolinecolor\": \"white\", \"zerolinewidth\": 2}}}, \"title\": {\"text\": \"Top 15 words from Real news\"}, \"xaxis\": {\"title\": {\"text\": \"Word\"}}, \"yaxis\": {\"title\": {\"text\": \"Count\"}}},\n",
              "                        {\"responsive\": true}\n",
              "                    ).then(function(){\n",
              "                            \n",
              "var gd = document.getElementById('7a824ca2-3728-477e-a289-35a83c051a76');\n",
              "var x = new MutationObserver(function (mutations, observer) {{\n",
              "        var display = window.getComputedStyle(gd).display;\n",
              "        if (!display || display === 'none') {{\n",
              "            console.log([gd, 'removed!']);\n",
              "            Plotly.purge(gd);\n",
              "            observer.disconnect();\n",
              "        }}\n",
              "}});\n",
              "\n",
              "// Listen for the removal of the full notebook cells\n",
              "var notebookContainer = gd.closest('#notebook-container');\n",
              "if (notebookContainer) {{\n",
              "    x.observe(notebookContainer, {childList: true});\n",
              "}}\n",
              "\n",
              "// Listen for the clearing of the current output cell\n",
              "var outputEl = gd.closest('.output');\n",
              "if (outputEl) {{\n",
              "    x.observe(outputEl, {childList: true});\n",
              "}}\n",
              "\n",
              "                        })\n",
              "                };\n",
              "                \n",
              "            </script>\n",
              "        </div>\n",
              "</body>\n",
              "</html>"
            ]
          },
          "metadata": {
            "tags": []
          }
        }
      ]
    },
    {
      "cell_type": "code",
      "metadata": {
        "trusted": true,
        "id": "CgoqT-jbRAJ4"
      },
      "source": [
        "import nltk, re, string, collections\n",
        "from nltk.util import ngrams"
      ],
      "execution_count": null,
      "outputs": []
    },
    {
      "cell_type": "code",
      "metadata": {
        "trusted": true,
        "id": "D3UUMIchRAJ4"
      },
      "source": [
        "import re\n",
        "import unicodedata\n",
        "import nltk\n",
        "from nltk.corpus import stopwords"
      ],
      "execution_count": null,
      "outputs": []
    },
    {
      "cell_type": "markdown",
      "metadata": {
        "id": "GRAFfxc8RAJ4"
      },
      "source": [
        "Finding N-grams:"
      ]
    },
    {
      "cell_type": "markdown",
      "metadata": {
        "id": "oxq1eTR7RAJ4"
      },
      "source": [
        "In the fields of computational linguistics and probability, an n-gram is a contiguous sequence of n items from a given sample of text or speech. The items can be phonemes, syllables, letters, words or base pairs according to the application. The n-grams typically are collected from a text or speech corpus."
      ]
    },
    {
      "cell_type": "code",
      "metadata": {
        "colab": {
          "base_uri": "https://localhost:8080/"
        },
        "id": "GPQKZjP5TCDB",
        "outputId": "a8987b8c-6daf-4f8b-97c3-a070d00e4f14"
      },
      "source": [
        "import nltk\n",
        "nltk.download('stopwords')\n",
        "stopWords = []\n",
        "with open('/content/drive/MyDrive/research/bengali', 'r', encoding=\"utf8\") as f:\n",
        "    for row in f:  # iterate over the rows in the file\n",
        "        row = row.replace(\"\\n\", \"\")\n",
        "        stopWords.append(row)"
      ],
      "execution_count": null,
      "outputs": [
        {
          "output_type": "stream",
          "text": [
            "[nltk_data] Downloading package stopwords to /root/nltk_data...\n",
            "[nltk_data]   Unzipping corpora/stopwords.zip.\n"
          ],
          "name": "stdout"
        }
      ]
    },
    {
      "cell_type": "code",
      "metadata": {
        "colab": {
          "base_uri": "https://localhost:8080/"
        },
        "id": "W_3Gf1A-L0IA",
        "outputId": "3590ef95-3f46-4ad4-9796-ca5b542dae44"
      },
      "source": [
        "!pip install bnltk"
      ],
      "execution_count": null,
      "outputs": [
        {
          "output_type": "stream",
          "text": [
            "Collecting bnltk\n",
            "  Downloading https://files.pythonhosted.org/packages/0e/47/567ba84a5918c5b48cf61b205fd3ec60fa8cde228e18a3e7ba3c4ffbb8da/bnltk-0.7.6-py3-none-any.whl\n",
            "Requirement already satisfied: tensorflow in /usr/local/lib/python3.7/dist-packages (from bnltk) (2.5.0)\n",
            "Requirement already satisfied: keras in /usr/local/lib/python3.7/dist-packages (from bnltk) (2.4.3)\n",
            "Requirement already satisfied: numpy in /usr/local/lib/python3.7/dist-packages (from bnltk) (1.19.5)\n",
            "Requirement already satisfied: sklearn in /usr/local/lib/python3.7/dist-packages (from bnltk) (0.0)\n",
            "Requirement already satisfied: requests in /usr/local/lib/python3.7/dist-packages (from bnltk) (2.23.0)\n",
            "Requirement already satisfied: astunparse~=1.6.3 in /usr/local/lib/python3.7/dist-packages (from tensorflow->bnltk) (1.6.3)\n",
            "Requirement already satisfied: keras-preprocessing~=1.1.2 in /usr/local/lib/python3.7/dist-packages (from tensorflow->bnltk) (1.1.2)\n",
            "Requirement already satisfied: tensorboard~=2.5 in /usr/local/lib/python3.7/dist-packages (from tensorflow->bnltk) (2.5.0)\n",
            "Requirement already satisfied: protobuf>=3.9.2 in /usr/local/lib/python3.7/dist-packages (from tensorflow->bnltk) (3.12.4)\n",
            "Requirement already satisfied: grpcio~=1.34.0 in /usr/local/lib/python3.7/dist-packages (from tensorflow->bnltk) (1.34.1)\n",
            "Requirement already satisfied: termcolor~=1.1.0 in /usr/local/lib/python3.7/dist-packages (from tensorflow->bnltk) (1.1.0)\n",
            "Requirement already satisfied: absl-py~=0.10 in /usr/local/lib/python3.7/dist-packages (from tensorflow->bnltk) (0.12.0)\n",
            "Requirement already satisfied: opt-einsum~=3.3.0 in /usr/local/lib/python3.7/dist-packages (from tensorflow->bnltk) (3.3.0)\n",
            "Requirement already satisfied: wrapt~=1.12.1 in /usr/local/lib/python3.7/dist-packages (from tensorflow->bnltk) (1.12.1)\n",
            "Requirement already satisfied: google-pasta~=0.2 in /usr/local/lib/python3.7/dist-packages (from tensorflow->bnltk) (0.2.0)\n",
            "Requirement already satisfied: wheel~=0.35 in /usr/local/lib/python3.7/dist-packages (from tensorflow->bnltk) (0.36.2)\n",
            "Requirement already satisfied: gast==0.4.0 in /usr/local/lib/python3.7/dist-packages (from tensorflow->bnltk) (0.4.0)\n",
            "Requirement already satisfied: typing-extensions~=3.7.4 in /usr/local/lib/python3.7/dist-packages (from tensorflow->bnltk) (3.7.4.3)\n",
            "Requirement already satisfied: flatbuffers~=1.12.0 in /usr/local/lib/python3.7/dist-packages (from tensorflow->bnltk) (1.12)\n",
            "Requirement already satisfied: six~=1.15.0 in /usr/local/lib/python3.7/dist-packages (from tensorflow->bnltk) (1.15.0)\n",
            "Requirement already satisfied: h5py~=3.1.0 in /usr/local/lib/python3.7/dist-packages (from tensorflow->bnltk) (3.1.0)\n",
            "Requirement already satisfied: tensorflow-estimator<2.6.0,>=2.5.0rc0 in /usr/local/lib/python3.7/dist-packages (from tensorflow->bnltk) (2.5.0)\n",
            "Requirement already satisfied: keras-nightly~=2.5.0.dev in /usr/local/lib/python3.7/dist-packages (from tensorflow->bnltk) (2.5.0.dev2021032900)\n",
            "Requirement already satisfied: scipy>=0.14 in /usr/local/lib/python3.7/dist-packages (from keras->bnltk) (1.4.1)\n",
            "Requirement already satisfied: pyyaml in /usr/local/lib/python3.7/dist-packages (from keras->bnltk) (3.13)\n",
            "Requirement already satisfied: scikit-learn in /usr/local/lib/python3.7/dist-packages (from sklearn->bnltk) (0.22.2.post1)\n",
            "Requirement already satisfied: idna<3,>=2.5 in /usr/local/lib/python3.7/dist-packages (from requests->bnltk) (2.10)\n",
            "Requirement already satisfied: certifi>=2017.4.17 in /usr/local/lib/python3.7/dist-packages (from requests->bnltk) (2021.5.30)\n",
            "Requirement already satisfied: urllib3!=1.25.0,!=1.25.1,<1.26,>=1.21.1 in /usr/local/lib/python3.7/dist-packages (from requests->bnltk) (1.24.3)\n",
            "Requirement already satisfied: chardet<4,>=3.0.2 in /usr/local/lib/python3.7/dist-packages (from requests->bnltk) (3.0.4)\n",
            "Requirement already satisfied: markdown>=2.6.8 in /usr/local/lib/python3.7/dist-packages (from tensorboard~=2.5->tensorflow->bnltk) (3.3.4)\n",
            "Requirement already satisfied: setuptools>=41.0.0 in /usr/local/lib/python3.7/dist-packages (from tensorboard~=2.5->tensorflow->bnltk) (57.0.0)\n",
            "Requirement already satisfied: google-auth<2,>=1.6.3 in /usr/local/lib/python3.7/dist-packages (from tensorboard~=2.5->tensorflow->bnltk) (1.31.0)\n",
            "Requirement already satisfied: werkzeug>=0.11.15 in /usr/local/lib/python3.7/dist-packages (from tensorboard~=2.5->tensorflow->bnltk) (1.0.1)\n",
            "Requirement already satisfied: tensorboard-data-server<0.7.0,>=0.6.0 in /usr/local/lib/python3.7/dist-packages (from tensorboard~=2.5->tensorflow->bnltk) (0.6.1)\n",
            "Requirement already satisfied: google-auth-oauthlib<0.5,>=0.4.1 in /usr/local/lib/python3.7/dist-packages (from tensorboard~=2.5->tensorflow->bnltk) (0.4.4)\n",
            "Requirement already satisfied: tensorboard-plugin-wit>=1.6.0 in /usr/local/lib/python3.7/dist-packages (from tensorboard~=2.5->tensorflow->bnltk) (1.8.0)\n",
            "Requirement already satisfied: cached-property; python_version < \"3.8\" in /usr/local/lib/python3.7/dist-packages (from h5py~=3.1.0->tensorflow->bnltk) (1.5.2)\n",
            "Requirement already satisfied: joblib>=0.11 in /usr/local/lib/python3.7/dist-packages (from scikit-learn->sklearn->bnltk) (1.0.1)\n",
            "Requirement already satisfied: importlib-metadata; python_version < \"3.8\" in /usr/local/lib/python3.7/dist-packages (from markdown>=2.6.8->tensorboard~=2.5->tensorflow->bnltk) (4.5.0)\n",
            "Requirement already satisfied: cachetools<5.0,>=2.0.0 in /usr/local/lib/python3.7/dist-packages (from google-auth<2,>=1.6.3->tensorboard~=2.5->tensorflow->bnltk) (4.2.2)\n",
            "Requirement already satisfied: pyasn1-modules>=0.2.1 in /usr/local/lib/python3.7/dist-packages (from google-auth<2,>=1.6.3->tensorboard~=2.5->tensorflow->bnltk) (0.2.8)\n",
            "Requirement already satisfied: rsa<5,>=3.1.4; python_version >= \"3.6\" in /usr/local/lib/python3.7/dist-packages (from google-auth<2,>=1.6.3->tensorboard~=2.5->tensorflow->bnltk) (4.7.2)\n",
            "Requirement already satisfied: requests-oauthlib>=0.7.0 in /usr/local/lib/python3.7/dist-packages (from google-auth-oauthlib<0.5,>=0.4.1->tensorboard~=2.5->tensorflow->bnltk) (1.3.0)\n",
            "Requirement already satisfied: zipp>=0.5 in /usr/local/lib/python3.7/dist-packages (from importlib-metadata; python_version < \"3.8\"->markdown>=2.6.8->tensorboard~=2.5->tensorflow->bnltk) (3.4.1)\n",
            "Requirement already satisfied: pyasn1<0.5.0,>=0.4.6 in /usr/local/lib/python3.7/dist-packages (from pyasn1-modules>=0.2.1->google-auth<2,>=1.6.3->tensorboard~=2.5->tensorflow->bnltk) (0.4.8)\n",
            "Requirement already satisfied: oauthlib>=3.0.0 in /usr/local/lib/python3.7/dist-packages (from requests-oauthlib>=0.7.0->google-auth-oauthlib<0.5,>=0.4.1->tensorboard~=2.5->tensorflow->bnltk) (3.1.1)\n",
            "Installing collected packages: bnltk\n",
            "Successfully installed bnltk-0.7.6\n"
          ],
          "name": "stdout"
        }
      ]
    },
    {
      "cell_type": "code",
      "metadata": {
        "colab": {
          "base_uri": "https://localhost:8080/"
        },
        "id": "9t8N_CoTMHSb",
        "outputId": "1e963ea0-8dc2-4ced-8af0-e093da7a574e"
      },
      "source": [
        "!pip install git+https://github.com/banglakit/lemmatizer.git#egg=banglakit-lemmatizer"
      ],
      "execution_count": null,
      "outputs": [
        {
          "output_type": "stream",
          "text": [
            "Collecting banglakit-lemmatizer\n",
            "  Cloning https://github.com/banglakit/lemmatizer.git to /tmp/pip-install-h0bpgz_s/banglakit-lemmatizer\n",
            "  Running command git clone -q https://github.com/banglakit/lemmatizer.git /tmp/pip-install-h0bpgz_s/banglakit-lemmatizer\n",
            "Building wheels for collected packages: banglakit-lemmatizer\n",
            "  Building wheel for banglakit-lemmatizer (setup.py) ... \u001b[?25l\u001b[?25hdone\n",
            "  Created wheel for banglakit-lemmatizer: filename=banglakit_lemmatizer-0.0.1-cp37-none-any.whl size=117717 sha256=07df18d5519d5560117cb34b4f8aa9610fdb1855dff21d6d2a21ca5de333e1a3\n",
            "  Stored in directory: /tmp/pip-ephem-wheel-cache-yblbvnh2/wheels/55/76/fb/67135871b310a3abeb998cd696c64d8e9c495f2f33ce2e2e59\n",
            "Successfully built banglakit-lemmatizer\n",
            "Installing collected packages: banglakit-lemmatizer\n",
            "Successfully installed banglakit-lemmatizer-0.0.1\n"
          ],
          "name": "stdout"
        }
      ]
    },
    {
      "cell_type": "code",
      "metadata": {
        "id": "vC40Lu3TMK5t"
      },
      "source": [
        "from bnltk.stemmer import BanglaStemmer\n",
        "from banglakit.lemmatizer import BengaliLemmatizer"
      ],
      "execution_count": null,
      "outputs": []
    },
    {
      "cell_type": "code",
      "metadata": {
        "trusted": true,
        "id": "K2Zoz9ssRAJ4"
      },
      "source": [
        "def basic_clean(text):\n",
        "  \"\"\"\n",
        "  A simple function to clean up the data. All the words that\n",
        "  are not designated as a stop word is then lemmatized after\n",
        "  encoding and basic regex parsing are performed.\n",
        "  \"\"\"\n",
        " # wnl = nltk.stem.WordNetLemmatizer()\n",
        "  lemmatizer = BengaliLemmatizer()\n",
        "  #stopwords = nltk.corpus.stopwords.words('english')\n",
        "  words = re.sub(r'[\\u09E6-\\u09EF]', '', text).split()\n",
        "  return [lemmatizer.lemmatize(word) for word in words if word not in stopWords]"
      ],
      "execution_count": null,
      "outputs": []
    },
    {
      "cell_type": "code",
      "metadata": {
        "colab": {
          "base_uri": "https://localhost:8080/"
        },
        "id": "Jxpt0zFLTstX",
        "outputId": "f3b99078-d0de-416c-d3ea-e2d735f485b3"
      },
      "source": [
        "import nltk\n",
        "nltk.download('wordnet')"
      ],
      "execution_count": null,
      "outputs": [
        {
          "output_type": "stream",
          "text": [
            "[nltk_data] Downloading package wordnet to /root/nltk_data...\n",
            "[nltk_data]   Unzipping corpora/wordnet.zip.\n"
          ],
          "name": "stdout"
        },
        {
          "output_type": "execute_result",
          "data": {
            "text/plain": [
              "True"
            ]
          },
          "metadata": {
            "tags": []
          },
          "execution_count": 51
        }
      ]
    },
    {
      "cell_type": "code",
      "metadata": {
        "trusted": true,
        "id": "N7bhUdtrRAJ5"
      },
      "source": [
        "words = basic_clean(''.join(str(df_['news'].tolist())))"
      ],
      "execution_count": null,
      "outputs": []
    },
    {
      "cell_type": "markdown",
      "metadata": {
        "id": "5cSl2VA5RAJ5"
      },
      "source": [
        "Bi-grams for news"
      ]
    },
    {
      "cell_type": "markdown",
      "metadata": {
        "id": "gHg__VMNRAJ5"
      },
      "source": [
        "Finding top 30 most frequent Bi-grams"
      ]
    },
    {
      "cell_type": "code",
      "metadata": {
        "trusted": true,
        "id": "IUgrMhwWRAJ5"
      },
      "source": [
        "bigram_all=(pd.Series(nltk.ngrams(words, 2)).value_counts())[:30]"
      ],
      "execution_count": null,
      "outputs": []
    },
    {
      "cell_type": "code",
      "metadata": {
        "trusted": true,
        "colab": {
          "base_uri": "https://localhost:8080/",
          "height": 979
        },
        "id": "8mZwsINLRAJ5",
        "outputId": "37111f4b-cb4b-43d5-e16a-4b4843ef897a"
      },
      "source": [
        "bigram_all=pd.DataFrame(bigram_all)\n",
        "bigram_all"
      ],
      "execution_count": null,
      "outputs": [
        {
          "output_type": "execute_result",
          "data": {
            "text/html": [
              "<div>\n",
              "<style scoped>\n",
              "    .dataframe tbody tr th:only-of-type {\n",
              "        vertical-align: middle;\n",
              "    }\n",
              "\n",
              "    .dataframe tbody tr th {\n",
              "        vertical-align: top;\n",
              "    }\n",
              "\n",
              "    .dataframe thead th {\n",
              "        text-align: right;\n",
              "    }\n",
              "</style>\n",
              "<table border=\"1\" class=\"dataframe\">\n",
              "  <thead>\n",
              "    <tr style=\"text-align: right;\">\n",
              "      <th></th>\n",
              "      <th>0</th>\n",
              "    </tr>\n",
              "  </thead>\n",
              "  <tbody>\n",
              "    <tr>\n",
              "      <th>(কর, হয়ছ)</th>\n",
              "      <td>3741</td>\n",
              "    </tr>\n",
              "    <tr>\n",
              "      <th>(তন, বলন)</th>\n",
              "      <td>3394</td>\n",
              "    </tr>\n",
              "    <tr>\n",
              "      <th>(কর, হব)</th>\n",
              "      <td>2929</td>\n",
              "    </tr>\n",
              "    <tr>\n",
              "      <th>(আওয়ম, লগর)</th>\n",
              "      <td>2691</td>\n",
              "    </tr>\n",
              "    <tr>\n",
              "      <th>(সধরণ, সমপদক)</th>\n",
              "      <td>2055</td>\n",
              "    </tr>\n",
              "    <tr>\n",
              "      <th>(উদধর, কর)</th>\n",
              "      <td>1951</td>\n",
              "    </tr>\n",
              "    <tr>\n",
              "      <th>(শর, কর)</th>\n",
              "      <td>1706</td>\n",
              "    </tr>\n",
              "    <tr>\n",
              "      <th>(আওয়ম, লগ)</th>\n",
              "      <td>1590</td>\n",
              "    </tr>\n",
              "    <tr>\n",
              "      <th>(কজ, কর)</th>\n",
              "      <td>1521</td>\n",
              "    </tr>\n",
              "    <tr>\n",
              "      <th>(শখ, হসন)</th>\n",
              "      <td>1430</td>\n",
              "    </tr>\n",
              "    <tr>\n",
              "      <th>(কর, ন)</th>\n",
              "      <td>1381</td>\n",
              "    </tr>\n",
              "    <tr>\n",
              "      <th>(টর, দক)</th>\n",
              "      <td>1284</td>\n",
              "    </tr>\n",
              "    <tr>\n",
              "      <th>(জতয়, ঐকয)</th>\n",
              "      <td>1215</td>\n",
              "    </tr>\n",
              "    <tr>\n",
              "      <th>(পরধনমনতর, শখ)</th>\n",
              "      <td>1200</td>\n",
              "    </tr>\n",
              "    <tr>\n",
              "      <th>(হব, ন)</th>\n",
              "      <td>1125</td>\n",
              "    </tr>\n",
              "    <tr>\n",
              "      <th>(উপসথত, ছলন)</th>\n",
              "      <td>1096</td>\n",
              "    </tr>\n",
              "    <tr>\n",
              "      <th>(বলদশ, সময়)</th>\n",
              "      <td>1088</td>\n",
              "    </tr>\n",
              "    <tr>\n",
              "      <th>(আটক, কর)</th>\n",
              "      <td>1082</td>\n",
              "    </tr>\n",
              "    <tr>\n",
              "      <th>(কর, হচছ)</th>\n",
              "      <td>1075</td>\n",
              "    </tr>\n",
              "    <tr>\n",
              "      <th>(কথ, বল)</th>\n",
              "      <td>1060</td>\n",
              "    </tr>\n",
              "    <tr>\n",
              "      <th>(কছ, থক)</th>\n",
              "      <td>979</td>\n",
              "    </tr>\n",
              "    <tr>\n",
              "      <th>(বযবহর, কর)</th>\n",
              "      <td>975</td>\n",
              "    </tr>\n",
              "    <tr>\n",
              "      <th>(চষট, কর)</th>\n",
              "      <td>952</td>\n",
              "    </tr>\n",
              "    <tr>\n",
              "      <th>(কথ, বলন)</th>\n",
              "      <td>946</td>\n",
              "    </tr>\n",
              "    <tr>\n",
              "      <th>(এশয়, কপর)</th>\n",
              "      <td>945</td>\n",
              "    </tr>\n",
              "    <tr>\n",
              "      <th>(খলদ, জয়র)</th>\n",
              "      <td>943</td>\n",
              "    </tr>\n",
              "    <tr>\n",
              "      <th>(রন, কর)</th>\n",
              "      <td>931</td>\n",
              "    </tr>\n",
              "    <tr>\n",
              "      <th>(কর, তর)</th>\n",
              "      <td>923</td>\n",
              "    </tr>\n",
              "    <tr>\n",
              "      <th>(পরকশ, কর)</th>\n",
              "      <td>920</td>\n",
              "    </tr>\n",
              "    <tr>\n",
              "      <th>(এশয়, কপ)</th>\n",
              "      <td>918</td>\n",
              "    </tr>\n",
              "  </tbody>\n",
              "</table>\n",
              "</div>"
            ],
            "text/plain": [
              "                   0\n",
              "(কর, হয়ছ)       3741\n",
              "(তন, বলন)       3394\n",
              "(কর, হব)        2929\n",
              "(আওয়ম, লগর)     2691\n",
              "(সধরণ, সমপদক)   2055\n",
              "(উদধর, কর)      1951\n",
              "(শর, কর)        1706\n",
              "(আওয়ম, লগ)      1590\n",
              "(কজ, কর)        1521\n",
              "(শখ, হসন)       1430\n",
              "(কর, ন)         1381\n",
              "(টর, দক)        1284\n",
              "(জতয়, ঐকয)      1215\n",
              "(পরধনমনতর, শখ)  1200\n",
              "(হব, ন)         1125\n",
              "(উপসথত, ছলন)    1096\n",
              "(বলদশ, সময়)     1088\n",
              "(আটক, কর)       1082\n",
              "(কর, হচছ)       1075\n",
              "(কথ, বল)        1060\n",
              "(কছ, থক)         979\n",
              "(বযবহর, কর)      975\n",
              "(চষট, কর)        952\n",
              "(কথ, বলন)        946\n",
              "(এশয়, কপর)       945\n",
              "(খলদ, জয়র)       943\n",
              "(রন, কর)         931\n",
              "(কর, তর)         923\n",
              "(পরকশ, কর)       920\n",
              "(এশয়, কপ)        918"
            ]
          },
          "metadata": {
            "tags": []
          },
          "execution_count": 54
        }
      ]
    },
    {
      "cell_type": "code",
      "metadata": {
        "trusted": true,
        "id": "rRSevejqRAJ5"
      },
      "source": [
        "bg_a=bigram_all.copy()"
      ],
      "execution_count": null,
      "outputs": []
    },
    {
      "cell_type": "code",
      "metadata": {
        "trusted": true,
        "id": "RB5F3cS6RAJ5"
      },
      "source": [
        "bg_a['in']=bg_a.index"
      ],
      "execution_count": null,
      "outputs": []
    },
    {
      "cell_type": "code",
      "metadata": {
        "trusted": true,
        "id": "dZwWPRugRAJ5"
      },
      "source": [
        "bg_a['in'] = bg_a.apply(lambda x: '('+x['in'][0]+', '+x['in'][1]+')',axis=1)"
      ],
      "execution_count": null,
      "outputs": []
    },
    {
      "cell_type": "code",
      "metadata": {
        "trusted": true,
        "colab": {
          "base_uri": "https://localhost:8080/",
          "height": 542
        },
        "id": "8IgY1MSrRAJ5",
        "outputId": "379545dd-414d-4249-9ecb-5656fd6c9121"
      },
      "source": [
        "plot_data = [\n",
        "    go.Bar(\n",
        "        x=bg_a['in'],\n",
        "        y=bg_a[0],\n",
        "        #name='True',\n",
        "        #x_axis=\"OTI\",\n",
        "        #y_axis=\"time\",\n",
        "        marker = dict(\n",
        "            color = 'blue'\n",
        "        )\n",
        "    )\n",
        "]\n",
        "plot_layout = go.Layout(\n",
        "        title='Top 30 bigrams from News',\n",
        "        yaxis_title='Count',\n",
        "        xaxis_title='Word',\n",
        "        plot_bgcolor='rgba(0,0,0,0)'\n",
        "    )\n",
        "fig = go.Figure(data=plot_data, layout=plot_layout)\n",
        "pyoff.iplot(fig)"
      ],
      "execution_count": null,
      "outputs": [
        {
          "output_type": "display_data",
          "data": {
            "text/html": [
              "<html>\n",
              "<head><meta charset=\"utf-8\" /></head>\n",
              "<body>\n",
              "    <div>\n",
              "            <script src=\"https://cdnjs.cloudflare.com/ajax/libs/mathjax/2.7.5/MathJax.js?config=TeX-AMS-MML_SVG\"></script><script type=\"text/javascript\">if (window.MathJax) {MathJax.Hub.Config({SVG: {font: \"STIX-Web\"}});}</script>\n",
              "                <script type=\"text/javascript\">window.PlotlyConfig = {MathJaxConfig: 'local'};</script>\n",
              "        <script src=\"https://cdn.plot.ly/plotly-latest.min.js\"></script>    \n",
              "            <div id=\"ee3eaecf-7c94-4033-8085-d31112567c3c\" class=\"plotly-graph-div\" style=\"height:525px; width:100%;\"></div>\n",
              "            <script type=\"text/javascript\">\n",
              "                \n",
              "                    window.PLOTLYENV=window.PLOTLYENV || {};\n",
              "                    \n",
              "                if (document.getElementById(\"ee3eaecf-7c94-4033-8085-d31112567c3c\")) {\n",
              "                    Plotly.newPlot(\n",
              "                        'ee3eaecf-7c94-4033-8085-d31112567c3c',\n",
              "                        [{\"marker\": {\"color\": \"blue\"}, \"type\": \"bar\", \"x\": [\"(\\u0995\\u09b0, \\u09b9\\u09df\\u099b)\", \"(\\u09a4\\u09a8, \\u09ac\\u09b2\\u09a8)\", \"(\\u0995\\u09b0, \\u09b9\\u09ac)\", \"(\\u0986\\u0993\\u09df\\u09ae, \\u09b2\\u0997\\u09b0)\", \"(\\u09b8\\u09a7\\u09b0\\u09a3, \\u09b8\\u09ae\\u09aa\\u09a6\\u0995)\", \"(\\u0989\\u09a6\\u09a7\\u09b0, \\u0995\\u09b0)\", \"(\\u09b6\\u09b0, \\u0995\\u09b0)\", \"(\\u0986\\u0993\\u09df\\u09ae, \\u09b2\\u0997)\", \"(\\u0995\\u099c, \\u0995\\u09b0)\", \"(\\u09b6\\u0996, \\u09b9\\u09b8\\u09a8)\", \"(\\u0995\\u09b0, \\u09a8)\", \"(\\u099f\\u09b0, \\u09a6\\u0995)\", \"(\\u099c\\u09a4\\u09df, \\u0990\\u0995\\u09af)\", \"(\\u09aa\\u09b0\\u09a7\\u09a8\\u09ae\\u09a8\\u09a4\\u09b0, \\u09b6\\u0996)\", \"(\\u09b9\\u09ac, \\u09a8)\", \"(\\u0989\\u09aa\\u09b8\\u09a5\\u09a4, \\u099b\\u09b2\\u09a8)\", \"(\\u09ac\\u09b2\\u09a6\\u09b6, \\u09b8\\u09ae\\u09df)\", \"(\\u0986\\u099f\\u0995, \\u0995\\u09b0)\", \"(\\u0995\\u09b0, \\u09b9\\u099a\\u099b)\", \"(\\u0995\\u09a5, \\u09ac\\u09b2)\", \"(\\u0995\\u099b, \\u09a5\\u0995)\", \"(\\u09ac\\u09af\\u09ac\\u09b9\\u09b0, \\u0995\\u09b0)\", \"(\\u099a\\u09b7\\u099f, \\u0995\\u09b0)\", \"(\\u0995\\u09a5, \\u09ac\\u09b2\\u09a8)\", \"(\\u098f\\u09b6\\u09df, \\u0995\\u09aa\\u09b0)\", \"(\\u0996\\u09b2\\u09a6, \\u099c\\u09df\\u09b0)\", \"(\\u09b0\\u09a8, \\u0995\\u09b0)\", \"(\\u0995\\u09b0, \\u09a4\\u09b0)\", \"(\\u09aa\\u09b0\\u0995\\u09b6, \\u0995\\u09b0)\", \"(\\u098f\\u09b6\\u09df, \\u0995\\u09aa)\"], \"y\": [3741, 3394, 2929, 2691, 2055, 1951, 1706, 1590, 1521, 1430, 1381, 1284, 1215, 1200, 1125, 1096, 1088, 1082, 1075, 1060, 979, 975, 952, 946, 945, 943, 931, 923, 920, 918]}],\n",
              "                        {\"plot_bgcolor\": \"rgba(0,0,0,0)\", \"template\": {\"data\": {\"bar\": [{\"error_x\": {\"color\": \"#2a3f5f\"}, \"error_y\": {\"color\": \"#2a3f5f\"}, \"marker\": {\"line\": {\"color\": \"#E5ECF6\", \"width\": 0.5}}, \"type\": \"bar\"}], \"barpolar\": [{\"marker\": {\"line\": {\"color\": \"#E5ECF6\", \"width\": 0.5}}, \"type\": \"barpolar\"}], \"carpet\": [{\"aaxis\": {\"endlinecolor\": \"#2a3f5f\", \"gridcolor\": \"white\", \"linecolor\": \"white\", \"minorgridcolor\": \"white\", \"startlinecolor\": \"#2a3f5f\"}, \"baxis\": {\"endlinecolor\": \"#2a3f5f\", \"gridcolor\": \"white\", \"linecolor\": \"white\", \"minorgridcolor\": \"white\", \"startlinecolor\": \"#2a3f5f\"}, \"type\": \"carpet\"}], \"choropleth\": [{\"colorbar\": {\"outlinewidth\": 0, \"ticks\": \"\"}, \"type\": \"choropleth\"}], \"contour\": [{\"colorbar\": {\"outlinewidth\": 0, \"ticks\": \"\"}, \"colorscale\": [[0.0, \"#0d0887\"], [0.1111111111111111, \"#46039f\"], [0.2222222222222222, \"#7201a8\"], [0.3333333333333333, \"#9c179e\"], [0.4444444444444444, \"#bd3786\"], [0.5555555555555556, \"#d8576b\"], [0.6666666666666666, \"#ed7953\"], [0.7777777777777778, \"#fb9f3a\"], [0.8888888888888888, \"#fdca26\"], [1.0, \"#f0f921\"]], \"type\": \"contour\"}], \"contourcarpet\": [{\"colorbar\": {\"outlinewidth\": 0, \"ticks\": \"\"}, \"type\": \"contourcarpet\"}], \"heatmap\": [{\"colorbar\": {\"outlinewidth\": 0, \"ticks\": \"\"}, \"colorscale\": [[0.0, \"#0d0887\"], [0.1111111111111111, \"#46039f\"], [0.2222222222222222, \"#7201a8\"], [0.3333333333333333, \"#9c179e\"], [0.4444444444444444, \"#bd3786\"], [0.5555555555555556, \"#d8576b\"], [0.6666666666666666, \"#ed7953\"], [0.7777777777777778, \"#fb9f3a\"], [0.8888888888888888, \"#fdca26\"], [1.0, \"#f0f921\"]], \"type\": \"heatmap\"}], \"heatmapgl\": [{\"colorbar\": {\"outlinewidth\": 0, \"ticks\": \"\"}, \"colorscale\": [[0.0, \"#0d0887\"], [0.1111111111111111, \"#46039f\"], [0.2222222222222222, \"#7201a8\"], [0.3333333333333333, \"#9c179e\"], [0.4444444444444444, \"#bd3786\"], [0.5555555555555556, \"#d8576b\"], [0.6666666666666666, \"#ed7953\"], [0.7777777777777778, \"#fb9f3a\"], [0.8888888888888888, \"#fdca26\"], [1.0, \"#f0f921\"]], \"type\": \"heatmapgl\"}], \"histogram\": [{\"marker\": {\"colorbar\": {\"outlinewidth\": 0, \"ticks\": \"\"}}, \"type\": \"histogram\"}], \"histogram2d\": [{\"colorbar\": {\"outlinewidth\": 0, \"ticks\": \"\"}, \"colorscale\": [[0.0, \"#0d0887\"], [0.1111111111111111, \"#46039f\"], [0.2222222222222222, \"#7201a8\"], [0.3333333333333333, \"#9c179e\"], [0.4444444444444444, \"#bd3786\"], [0.5555555555555556, \"#d8576b\"], [0.6666666666666666, \"#ed7953\"], [0.7777777777777778, \"#fb9f3a\"], [0.8888888888888888, \"#fdca26\"], [1.0, \"#f0f921\"]], \"type\": \"histogram2d\"}], \"histogram2dcontour\": [{\"colorbar\": {\"outlinewidth\": 0, \"ticks\": \"\"}, \"colorscale\": [[0.0, \"#0d0887\"], [0.1111111111111111, \"#46039f\"], [0.2222222222222222, \"#7201a8\"], [0.3333333333333333, \"#9c179e\"], [0.4444444444444444, \"#bd3786\"], [0.5555555555555556, \"#d8576b\"], [0.6666666666666666, \"#ed7953\"], [0.7777777777777778, \"#fb9f3a\"], [0.8888888888888888, \"#fdca26\"], [1.0, \"#f0f921\"]], \"type\": \"histogram2dcontour\"}], \"mesh3d\": [{\"colorbar\": {\"outlinewidth\": 0, \"ticks\": \"\"}, \"type\": \"mesh3d\"}], \"parcoords\": [{\"line\": {\"colorbar\": {\"outlinewidth\": 0, \"ticks\": \"\"}}, \"type\": \"parcoords\"}], \"pie\": [{\"automargin\": true, \"type\": \"pie\"}], \"scatter\": [{\"marker\": {\"colorbar\": {\"outlinewidth\": 0, \"ticks\": \"\"}}, \"type\": \"scatter\"}], \"scatter3d\": [{\"line\": {\"colorbar\": {\"outlinewidth\": 0, \"ticks\": \"\"}}, \"marker\": {\"colorbar\": {\"outlinewidth\": 0, \"ticks\": \"\"}}, \"type\": \"scatter3d\"}], \"scattercarpet\": [{\"marker\": {\"colorbar\": {\"outlinewidth\": 0, \"ticks\": \"\"}}, \"type\": \"scattercarpet\"}], \"scattergeo\": [{\"marker\": {\"colorbar\": {\"outlinewidth\": 0, \"ticks\": \"\"}}, \"type\": \"scattergeo\"}], \"scattergl\": [{\"marker\": {\"colorbar\": {\"outlinewidth\": 0, \"ticks\": \"\"}}, \"type\": \"scattergl\"}], \"scattermapbox\": [{\"marker\": {\"colorbar\": {\"outlinewidth\": 0, \"ticks\": \"\"}}, \"type\": \"scattermapbox\"}], \"scatterpolar\": [{\"marker\": {\"colorbar\": {\"outlinewidth\": 0, \"ticks\": \"\"}}, \"type\": \"scatterpolar\"}], \"scatterpolargl\": [{\"marker\": {\"colorbar\": {\"outlinewidth\": 0, \"ticks\": \"\"}}, \"type\": \"scatterpolargl\"}], \"scatterternary\": [{\"marker\": {\"colorbar\": {\"outlinewidth\": 0, \"ticks\": \"\"}}, \"type\": \"scatterternary\"}], \"surface\": [{\"colorbar\": {\"outlinewidth\": 0, \"ticks\": \"\"}, \"colorscale\": [[0.0, \"#0d0887\"], [0.1111111111111111, \"#46039f\"], [0.2222222222222222, \"#7201a8\"], [0.3333333333333333, \"#9c179e\"], [0.4444444444444444, \"#bd3786\"], [0.5555555555555556, \"#d8576b\"], [0.6666666666666666, \"#ed7953\"], [0.7777777777777778, \"#fb9f3a\"], [0.8888888888888888, \"#fdca26\"], [1.0, \"#f0f921\"]], \"type\": \"surface\"}], \"table\": [{\"cells\": {\"fill\": {\"color\": \"#EBF0F8\"}, \"line\": {\"color\": \"white\"}}, \"header\": {\"fill\": {\"color\": \"#C8D4E3\"}, \"line\": {\"color\": \"white\"}}, \"type\": \"table\"}]}, \"layout\": {\"annotationdefaults\": {\"arrowcolor\": \"#2a3f5f\", \"arrowhead\": 0, \"arrowwidth\": 1}, \"coloraxis\": {\"colorbar\": {\"outlinewidth\": 0, \"ticks\": \"\"}}, \"colorscale\": {\"diverging\": [[0, \"#8e0152\"], [0.1, \"#c51b7d\"], [0.2, \"#de77ae\"], [0.3, \"#f1b6da\"], [0.4, \"#fde0ef\"], [0.5, \"#f7f7f7\"], [0.6, \"#e6f5d0\"], [0.7, \"#b8e186\"], [0.8, \"#7fbc41\"], [0.9, \"#4d9221\"], [1, \"#276419\"]], \"sequential\": [[0.0, \"#0d0887\"], [0.1111111111111111, \"#46039f\"], [0.2222222222222222, \"#7201a8\"], [0.3333333333333333, \"#9c179e\"], [0.4444444444444444, \"#bd3786\"], [0.5555555555555556, \"#d8576b\"], [0.6666666666666666, \"#ed7953\"], [0.7777777777777778, \"#fb9f3a\"], [0.8888888888888888, \"#fdca26\"], [1.0, \"#f0f921\"]], \"sequentialminus\": [[0.0, \"#0d0887\"], [0.1111111111111111, \"#46039f\"], [0.2222222222222222, \"#7201a8\"], [0.3333333333333333, \"#9c179e\"], [0.4444444444444444, \"#bd3786\"], [0.5555555555555556, \"#d8576b\"], [0.6666666666666666, \"#ed7953\"], [0.7777777777777778, \"#fb9f3a\"], [0.8888888888888888, \"#fdca26\"], [1.0, \"#f0f921\"]]}, \"colorway\": [\"#636efa\", \"#EF553B\", \"#00cc96\", \"#ab63fa\", \"#FFA15A\", \"#19d3f3\", \"#FF6692\", \"#B6E880\", \"#FF97FF\", \"#FECB52\"], \"font\": {\"color\": \"#2a3f5f\"}, \"geo\": {\"bgcolor\": \"white\", \"lakecolor\": \"white\", \"landcolor\": \"#E5ECF6\", \"showlakes\": true, \"showland\": true, \"subunitcolor\": \"white\"}, \"hoverlabel\": {\"align\": \"left\"}, \"hovermode\": \"closest\", \"mapbox\": {\"style\": \"light\"}, \"paper_bgcolor\": \"white\", \"plot_bgcolor\": \"#E5ECF6\", \"polar\": {\"angularaxis\": {\"gridcolor\": \"white\", \"linecolor\": \"white\", \"ticks\": \"\"}, \"bgcolor\": \"#E5ECF6\", \"radialaxis\": {\"gridcolor\": \"white\", \"linecolor\": \"white\", \"ticks\": \"\"}}, \"scene\": {\"xaxis\": {\"backgroundcolor\": \"#E5ECF6\", \"gridcolor\": \"white\", \"gridwidth\": 2, \"linecolor\": \"white\", \"showbackground\": true, \"ticks\": \"\", \"zerolinecolor\": \"white\"}, \"yaxis\": {\"backgroundcolor\": \"#E5ECF6\", \"gridcolor\": \"white\", \"gridwidth\": 2, \"linecolor\": \"white\", \"showbackground\": true, \"ticks\": \"\", \"zerolinecolor\": \"white\"}, \"zaxis\": {\"backgroundcolor\": \"#E5ECF6\", \"gridcolor\": \"white\", \"gridwidth\": 2, \"linecolor\": \"white\", \"showbackground\": true, \"ticks\": \"\", \"zerolinecolor\": \"white\"}}, \"shapedefaults\": {\"line\": {\"color\": \"#2a3f5f\"}}, \"ternary\": {\"aaxis\": {\"gridcolor\": \"white\", \"linecolor\": \"white\", \"ticks\": \"\"}, \"baxis\": {\"gridcolor\": \"white\", \"linecolor\": \"white\", \"ticks\": \"\"}, \"bgcolor\": \"#E5ECF6\", \"caxis\": {\"gridcolor\": \"white\", \"linecolor\": \"white\", \"ticks\": \"\"}}, \"title\": {\"x\": 0.05}, \"xaxis\": {\"automargin\": true, \"gridcolor\": \"white\", \"linecolor\": \"white\", \"ticks\": \"\", \"title\": {\"standoff\": 15}, \"zerolinecolor\": \"white\", \"zerolinewidth\": 2}, \"yaxis\": {\"automargin\": true, \"gridcolor\": \"white\", \"linecolor\": \"white\", \"ticks\": \"\", \"title\": {\"standoff\": 15}, \"zerolinecolor\": \"white\", \"zerolinewidth\": 2}}}, \"title\": {\"text\": \"Top 30 bigrams from News\"}, \"xaxis\": {\"title\": {\"text\": \"Word\"}}, \"yaxis\": {\"title\": {\"text\": \"Count\"}}},\n",
              "                        {\"responsive\": true}\n",
              "                    ).then(function(){\n",
              "                            \n",
              "var gd = document.getElementById('ee3eaecf-7c94-4033-8085-d31112567c3c');\n",
              "var x = new MutationObserver(function (mutations, observer) {{\n",
              "        var display = window.getComputedStyle(gd).display;\n",
              "        if (!display || display === 'none') {{\n",
              "            console.log([gd, 'removed!']);\n",
              "            Plotly.purge(gd);\n",
              "            observer.disconnect();\n",
              "        }}\n",
              "}});\n",
              "\n",
              "// Listen for the removal of the full notebook cells\n",
              "var notebookContainer = gd.closest('#notebook-container');\n",
              "if (notebookContainer) {{\n",
              "    x.observe(notebookContainer, {childList: true});\n",
              "}}\n",
              "\n",
              "// Listen for the clearing of the current output cell\n",
              "var outputEl = gd.closest('.output');\n",
              "if (outputEl) {{\n",
              "    x.observe(outputEl, {childList: true});\n",
              "}}\n",
              "\n",
              "                        })\n",
              "                };\n",
              "                \n",
              "            </script>\n",
              "        </div>\n",
              "</body>\n",
              "</html>"
            ]
          },
          "metadata": {
            "tags": []
          }
        }
      ]
    },
    {
      "cell_type": "markdown",
      "metadata": {
        "id": "qCrYmvuxRAJ6"
      },
      "source": [
        "Finding top 30 most frequent Tri-grams"
      ]
    },
    {
      "cell_type": "code",
      "metadata": {
        "trusted": true,
        "id": "vZ_6BP32RAJ6"
      },
      "source": [
        "trigram_all=(pd.Series(nltk.ngrams(words, 3)).value_counts())[:30]"
      ],
      "execution_count": null,
      "outputs": []
    },
    {
      "cell_type": "code",
      "metadata": {
        "trusted": true,
        "id": "XSGw33MIRAJ6"
      },
      "source": [
        "trigram_all=pd.DataFrame(trigram_all)"
      ],
      "execution_count": null,
      "outputs": []
    },
    {
      "cell_type": "code",
      "metadata": {
        "trusted": true,
        "colab": {
          "base_uri": "https://localhost:8080/",
          "height": 979
        },
        "id": "eXxEt2MRRAJ6",
        "outputId": "5d6bf258-a8fa-46e2-c4b9-0722ba7c4975"
      },
      "source": [
        "trigram_all"
      ],
      "execution_count": null,
      "outputs": [
        {
          "output_type": "execute_result",
          "data": {
            "text/html": [
              "<div>\n",
              "<style scoped>\n",
              "    .dataframe tbody tr th:only-of-type {\n",
              "        vertical-align: middle;\n",
              "    }\n",
              "\n",
              "    .dataframe tbody tr th {\n",
              "        vertical-align: top;\n",
              "    }\n",
              "\n",
              "    .dataframe thead th {\n",
              "        text-align: right;\n",
              "    }\n",
              "</style>\n",
              "<table border=\"1\" class=\"dataframe\">\n",
              "  <thead>\n",
              "    <tr style=\"text-align: right;\">\n",
              "      <th></th>\n",
              "      <th>0</th>\n",
              "    </tr>\n",
              "  </thead>\n",
              "  <tbody>\n",
              "    <tr>\n",
              "      <th>(পরধনমনতর, শখ, হসন)</th>\n",
              "      <td>774</td>\n",
              "    </tr>\n",
              "    <tr>\n",
              "      <th>(বলদশ, সময়, ঘণট)</th>\n",
              "      <td>752</td>\n",
              "    </tr>\n",
              "    <tr>\n",
              "      <th>(সময়, ঘণট, সপটমবর)</th>\n",
              "      <td>748</td>\n",
              "    </tr>\n",
              "    <tr>\n",
              "      <th>(সকব, আল, হসন)</th>\n",
              "      <td>657</td>\n",
              "    </tr>\n",
              "    <tr>\n",
              "      <th>(নজমল, হসন, শনত)</th>\n",
              "      <td>535</td>\n",
              "    </tr>\n",
              "    <tr>\n",
              "      <th>(লগর, সধরণ, সমপদক)</th>\n",
              "      <td>507</td>\n",
              "    </tr>\n",
              "    <tr>\n",
              "      <th>(আওয়ম, লগর, সধরণ)</th>\n",
              "      <td>452</td>\n",
              "    </tr>\n",
              "    <tr>\n",
              "      <th>(জতয়, ঐকয, পরকরয়র)</th>\n",
              "      <td>438</td>\n",
              "    </tr>\n",
              "    <tr>\n",
              "      <th>(এসব, কথ, বলন)</th>\n",
              "      <td>434</td>\n",
              "    </tr>\n",
              "    <tr>\n",
              "      <th>(থনর, ভরপরপত, করমকরত)</th>\n",
              "      <td>428</td>\n",
              "    </tr>\n",
              "    <tr>\n",
              "      <th>(ভরপরপত, করমকরত, ওস)</th>\n",
              "      <td>417</td>\n",
              "    </tr>\n",
              "    <tr>\n",
              "      <th>(আব, হয়দর, রন)</th>\n",
              "      <td>384</td>\n",
              "    </tr>\n",
              "    <tr>\n",
              "      <th>(সড়, টর, দক)</th>\n",
              "      <td>370</td>\n",
              "    </tr>\n",
              "    <tr>\n",
              "      <th>(কর, তন, বলন)</th>\n",
              "      <td>368</td>\n",
              "    </tr>\n",
              "    <tr>\n",
              "      <th>(ড, কমল, হসন)</th>\n",
              "      <td>364</td>\n",
              "    </tr>\n",
              "    <tr>\n",
              "      <th>(মরজ, ফখরল, ইসলম)</th>\n",
              "      <td>351</td>\n",
              "    </tr>\n",
              "    <tr>\n",
              "      <th>(\\xa0, \\xa0, \\xa0)</th>\n",
              "      <td>339</td>\n",
              "    </tr>\n",
              "    <tr>\n",
              "      <th>(ড, কমল, হসনর)</th>\n",
              "      <td>321</td>\n",
              "    </tr>\n",
              "    <tr>\n",
              "      <th>(ডজটল, নরপতত, আইন)</th>\n",
              "      <td>318</td>\n",
              "    </tr>\n",
              "    <tr>\n",
              "      <th>(পরধন, অতথর, বকতবয)</th>\n",
              "      <td>318</td>\n",
              "    </tr>\n",
              "    <tr>\n",
              "      <th>(লশ, উদধর, কর)</th>\n",
              "      <td>317</td>\n",
              "    </tr>\n",
              "    <tr>\n",
              "      <th>(আওয়ম, লগর, সভপত)</th>\n",
              "      <td>308</td>\n",
              "    </tr>\n",
              "    <tr>\n",
              "      <th>(জল, আওয়ম, লগর)</th>\n",
              "      <td>297</td>\n",
              "    </tr>\n",
              "    <tr>\n",
              "      <th>(মডকল, কলজ, হসপতল)</th>\n",
              "      <td>295</td>\n",
              "    </tr>\n",
              "    <tr>\n",
              "      <th>(পরধনমনতর, শখ, হসনর)</th>\n",
              "      <td>291</td>\n",
              "    </tr>\n",
              "    <tr>\n",
              "      <th>(মহসচব, মরজ, ফখরল)</th>\n",
              "      <td>285</td>\n",
              "    </tr>\n",
              "    <tr>\n",
              "      <th>(জতয়, সসদ, নরবচন)</th>\n",
              "      <td>281</td>\n",
              "    </tr>\n",
              "    <tr>\n",
              "      <th>(মহদ, হসন, মরজ)</th>\n",
              "      <td>278</td>\n",
              "    </tr>\n",
              "    <tr>\n",
              "      <th>(রত, টর, দক)</th>\n",
              "      <td>276</td>\n",
              "    </tr>\n",
              "    <tr>\n",
              "      <th>(সবক, পরধন, বচরপত)</th>\n",
              "      <td>261</td>\n",
              "    </tr>\n",
              "  </tbody>\n",
              "</table>\n",
              "</div>"
            ],
            "text/plain": [
              "                         0\n",
              "(পরধনমনতর, শখ, হসন)    774\n",
              "(বলদশ, সময়, ঘণট)       752\n",
              "(সময়, ঘণট, সপটমবর)     748\n",
              "(সকব, আল, হসন)         657\n",
              "(নজমল, হসন, শনত)       535\n",
              "(লগর, সধরণ, সমপদক)     507\n",
              "(আওয়ম, লগর, সধরণ)      452\n",
              "(জতয়, ঐকয, পরকরয়র)     438\n",
              "(এসব, কথ, বলন)         434\n",
              "(থনর, ভরপরপত, করমকরত)  428\n",
              "(ভরপরপত, করমকরত, ওস)   417\n",
              "(আব, হয়দর, রন)         384\n",
              "(সড়, টর, দক)           370\n",
              "(কর, তন, বলন)          368\n",
              "(ড, কমল, হসন)          364\n",
              "(মরজ, ফখরল, ইসলম)      351\n",
              "(\\xa0, \\xa0, \\xa0)     339\n",
              "(ড, কমল, হসনর)         321\n",
              "(ডজটল, নরপতত, আইন)     318\n",
              "(পরধন, অতথর, বকতবয)    318\n",
              "(লশ, উদধর, কর)         317\n",
              "(আওয়ম, লগর, সভপত)      308\n",
              "(জল, আওয়ম, লগর)        297\n",
              "(মডকল, কলজ, হসপতল)     295\n",
              "(পরধনমনতর, শখ, হসনর)   291\n",
              "(মহসচব, মরজ, ফখরল)     285\n",
              "(জতয়, সসদ, নরবচন)      281\n",
              "(মহদ, হসন, মরজ)        278\n",
              "(রত, টর, দক)           276\n",
              "(সবক, পরধন, বচরপত)     261"
            ]
          },
          "metadata": {
            "tags": []
          },
          "execution_count": 61
        }
      ]
    },
    {
      "cell_type": "code",
      "metadata": {
        "trusted": true,
        "id": "YXZb7fbrRAJ7"
      },
      "source": [
        "trigram_all['in']=trigram_all.index"
      ],
      "execution_count": null,
      "outputs": []
    },
    {
      "cell_type": "code",
      "metadata": {
        "trusted": true,
        "id": "fHioAis2RAJ7"
      },
      "source": [
        "trigram_all['in'] = trigram_all.apply(lambda x: '('+x['in'][0]+', '+x['in'][1]+', '+x['in'][2]+')',axis=1)"
      ],
      "execution_count": null,
      "outputs": []
    },
    {
      "cell_type": "code",
      "metadata": {
        "trusted": true,
        "colab": {
          "base_uri": "https://localhost:8080/",
          "height": 979
        },
        "id": "ZZAKZgqZRAJ7",
        "outputId": "f89f2ece-d5b0-4485-8bdc-7eefbe75e74b"
      },
      "source": [
        "trigram_all"
      ],
      "execution_count": null,
      "outputs": [
        {
          "output_type": "execute_result",
          "data": {
            "text/html": [
              "<div>\n",
              "<style scoped>\n",
              "    .dataframe tbody tr th:only-of-type {\n",
              "        vertical-align: middle;\n",
              "    }\n",
              "\n",
              "    .dataframe tbody tr th {\n",
              "        vertical-align: top;\n",
              "    }\n",
              "\n",
              "    .dataframe thead th {\n",
              "        text-align: right;\n",
              "    }\n",
              "</style>\n",
              "<table border=\"1\" class=\"dataframe\">\n",
              "  <thead>\n",
              "    <tr style=\"text-align: right;\">\n",
              "      <th></th>\n",
              "      <th>0</th>\n",
              "      <th>in</th>\n",
              "    </tr>\n",
              "  </thead>\n",
              "  <tbody>\n",
              "    <tr>\n",
              "      <th>(পরধনমনতর, শখ, হসন)</th>\n",
              "      <td>774</td>\n",
              "      <td>(পরধনমনতর, শখ, হসন)</td>\n",
              "    </tr>\n",
              "    <tr>\n",
              "      <th>(বলদশ, সময়, ঘণট)</th>\n",
              "      <td>752</td>\n",
              "      <td>(বলদশ, সময়, ঘণট)</td>\n",
              "    </tr>\n",
              "    <tr>\n",
              "      <th>(সময়, ঘণট, সপটমবর)</th>\n",
              "      <td>748</td>\n",
              "      <td>(সময়, ঘণট, সপটমবর)</td>\n",
              "    </tr>\n",
              "    <tr>\n",
              "      <th>(সকব, আল, হসন)</th>\n",
              "      <td>657</td>\n",
              "      <td>(সকব, আল, হসন)</td>\n",
              "    </tr>\n",
              "    <tr>\n",
              "      <th>(নজমল, হসন, শনত)</th>\n",
              "      <td>535</td>\n",
              "      <td>(নজমল, হসন, শনত)</td>\n",
              "    </tr>\n",
              "    <tr>\n",
              "      <th>(লগর, সধরণ, সমপদক)</th>\n",
              "      <td>507</td>\n",
              "      <td>(লগর, সধরণ, সমপদক)</td>\n",
              "    </tr>\n",
              "    <tr>\n",
              "      <th>(আওয়ম, লগর, সধরণ)</th>\n",
              "      <td>452</td>\n",
              "      <td>(আওয়ম, লগর, সধরণ)</td>\n",
              "    </tr>\n",
              "    <tr>\n",
              "      <th>(জতয়, ঐকয, পরকরয়র)</th>\n",
              "      <td>438</td>\n",
              "      <td>(জতয়, ঐকয, পরকরয়র)</td>\n",
              "    </tr>\n",
              "    <tr>\n",
              "      <th>(এসব, কথ, বলন)</th>\n",
              "      <td>434</td>\n",
              "      <td>(এসব, কথ, বলন)</td>\n",
              "    </tr>\n",
              "    <tr>\n",
              "      <th>(থনর, ভরপরপত, করমকরত)</th>\n",
              "      <td>428</td>\n",
              "      <td>(থনর, ভরপরপত, করমকরত)</td>\n",
              "    </tr>\n",
              "    <tr>\n",
              "      <th>(ভরপরপত, করমকরত, ওস)</th>\n",
              "      <td>417</td>\n",
              "      <td>(ভরপরপত, করমকরত, ওস)</td>\n",
              "    </tr>\n",
              "    <tr>\n",
              "      <th>(আব, হয়দর, রন)</th>\n",
              "      <td>384</td>\n",
              "      <td>(আব, হয়দর, রন)</td>\n",
              "    </tr>\n",
              "    <tr>\n",
              "      <th>(সড়, টর, দক)</th>\n",
              "      <td>370</td>\n",
              "      <td>(সড়, টর, দক)</td>\n",
              "    </tr>\n",
              "    <tr>\n",
              "      <th>(কর, তন, বলন)</th>\n",
              "      <td>368</td>\n",
              "      <td>(কর, তন, বলন)</td>\n",
              "    </tr>\n",
              "    <tr>\n",
              "      <th>(ড, কমল, হসন)</th>\n",
              "      <td>364</td>\n",
              "      <td>(ড, কমল, হসন)</td>\n",
              "    </tr>\n",
              "    <tr>\n",
              "      <th>(মরজ, ফখরল, ইসলম)</th>\n",
              "      <td>351</td>\n",
              "      <td>(মরজ, ফখরল, ইসলম)</td>\n",
              "    </tr>\n",
              "    <tr>\n",
              "      <th>(\\xa0, \\xa0, \\xa0)</th>\n",
              "      <td>339</td>\n",
              "      <td>(\\xa0, \\xa0, \\xa0)</td>\n",
              "    </tr>\n",
              "    <tr>\n",
              "      <th>(ড, কমল, হসনর)</th>\n",
              "      <td>321</td>\n",
              "      <td>(ড, কমল, হসনর)</td>\n",
              "    </tr>\n",
              "    <tr>\n",
              "      <th>(ডজটল, নরপতত, আইন)</th>\n",
              "      <td>318</td>\n",
              "      <td>(ডজটল, নরপতত, আইন)</td>\n",
              "    </tr>\n",
              "    <tr>\n",
              "      <th>(পরধন, অতথর, বকতবয)</th>\n",
              "      <td>318</td>\n",
              "      <td>(পরধন, অতথর, বকতবয)</td>\n",
              "    </tr>\n",
              "    <tr>\n",
              "      <th>(লশ, উদধর, কর)</th>\n",
              "      <td>317</td>\n",
              "      <td>(লশ, উদধর, কর)</td>\n",
              "    </tr>\n",
              "    <tr>\n",
              "      <th>(আওয়ম, লগর, সভপত)</th>\n",
              "      <td>308</td>\n",
              "      <td>(আওয়ম, লগর, সভপত)</td>\n",
              "    </tr>\n",
              "    <tr>\n",
              "      <th>(জল, আওয়ম, লগর)</th>\n",
              "      <td>297</td>\n",
              "      <td>(জল, আওয়ম, লগর)</td>\n",
              "    </tr>\n",
              "    <tr>\n",
              "      <th>(মডকল, কলজ, হসপতল)</th>\n",
              "      <td>295</td>\n",
              "      <td>(মডকল, কলজ, হসপতল)</td>\n",
              "    </tr>\n",
              "    <tr>\n",
              "      <th>(পরধনমনতর, শখ, হসনর)</th>\n",
              "      <td>291</td>\n",
              "      <td>(পরধনমনতর, শখ, হসনর)</td>\n",
              "    </tr>\n",
              "    <tr>\n",
              "      <th>(মহসচব, মরজ, ফখরল)</th>\n",
              "      <td>285</td>\n",
              "      <td>(মহসচব, মরজ, ফখরল)</td>\n",
              "    </tr>\n",
              "    <tr>\n",
              "      <th>(জতয়, সসদ, নরবচন)</th>\n",
              "      <td>281</td>\n",
              "      <td>(জতয়, সসদ, নরবচন)</td>\n",
              "    </tr>\n",
              "    <tr>\n",
              "      <th>(মহদ, হসন, মরজ)</th>\n",
              "      <td>278</td>\n",
              "      <td>(মহদ, হসন, মরজ)</td>\n",
              "    </tr>\n",
              "    <tr>\n",
              "      <th>(রত, টর, দক)</th>\n",
              "      <td>276</td>\n",
              "      <td>(রত, টর, দক)</td>\n",
              "    </tr>\n",
              "    <tr>\n",
              "      <th>(সবক, পরধন, বচরপত)</th>\n",
              "      <td>261</td>\n",
              "      <td>(সবক, পরধন, বচরপত)</td>\n",
              "    </tr>\n",
              "  </tbody>\n",
              "</table>\n",
              "</div>"
            ],
            "text/plain": [
              "                         0                     in\n",
              "(পরধনমনতর, শখ, হসন)    774    (পরধনমনতর, শখ, হসন)\n",
              "(বলদশ, সময়, ঘণট)       752       (বলদশ, সময়, ঘণট)\n",
              "(সময়, ঘণট, সপটমবর)     748     (সময়, ঘণট, সপটমবর)\n",
              "(সকব, আল, হসন)         657         (সকব, আল, হসন)\n",
              "(নজমল, হসন, শনত)       535       (নজমল, হসন, শনত)\n",
              "(লগর, সধরণ, সমপদক)     507     (লগর, সধরণ, সমপদক)\n",
              "(আওয়ম, লগর, সধরণ)      452      (আওয়ম, লগর, সধরণ)\n",
              "(জতয়, ঐকয, পরকরয়র)     438     (জতয়, ঐকয, পরকরয়র)\n",
              "(এসব, কথ, বলন)         434         (এসব, কথ, বলন)\n",
              "(থনর, ভরপরপত, করমকরত)  428  (থনর, ভরপরপত, করমকরত)\n",
              "(ভরপরপত, করমকরত, ওস)   417   (ভরপরপত, করমকরত, ওস)\n",
              "(আব, হয়দর, রন)         384         (আব, হয়দর, রন)\n",
              "(সড়, টর, দক)           370           (সড়, টর, দক)\n",
              "(কর, তন, বলন)          368          (কর, তন, বলন)\n",
              "(ড, কমল, হসন)          364          (ড, কমল, হসন)\n",
              "(মরজ, ফখরল, ইসলম)      351      (মরজ, ফখরল, ইসলম)\n",
              "(\\xa0, \\xa0, \\xa0)     339     (\\xa0, \\xa0, \\xa0)\n",
              "(ড, কমল, হসনর)         321         (ড, কমল, হসনর)\n",
              "(ডজটল, নরপতত, আইন)     318     (ডজটল, নরপতত, আইন)\n",
              "(পরধন, অতথর, বকতবয)    318    (পরধন, অতথর, বকতবয)\n",
              "(লশ, উদধর, কর)         317         (লশ, উদধর, কর)\n",
              "(আওয়ম, লগর, সভপত)      308      (আওয়ম, লগর, সভপত)\n",
              "(জল, আওয়ম, লগর)        297        (জল, আওয়ম, লগর)\n",
              "(মডকল, কলজ, হসপতল)     295     (মডকল, কলজ, হসপতল)\n",
              "(পরধনমনতর, শখ, হসনর)   291   (পরধনমনতর, শখ, হসনর)\n",
              "(মহসচব, মরজ, ফখরল)     285     (মহসচব, মরজ, ফখরল)\n",
              "(জতয়, সসদ, নরবচন)      281      (জতয়, সসদ, নরবচন)\n",
              "(মহদ, হসন, মরজ)        278        (মহদ, হসন, মরজ)\n",
              "(রত, টর, দক)           276           (রত, টর, দক)\n",
              "(সবক, পরধন, বচরপত)     261     (সবক, পরধন, বচরপত)"
            ]
          },
          "metadata": {
            "tags": []
          },
          "execution_count": 64
        }
      ]
    },
    {
      "cell_type": "code",
      "metadata": {
        "trusted": true,
        "colab": {
          "base_uri": "https://localhost:8080/",
          "height": 542
        },
        "id": "FFzjhbuaRAJ7",
        "outputId": "92051251-03f1-488a-afe7-cc8aad95843a"
      },
      "source": [
        "plot_data = [\n",
        "    go.Bar(\n",
        "        x=trigram_all['in'],\n",
        "        y=trigram_all[0],\n",
        "        #name='True',\n",
        "        #x_axis=\"OTI\",\n",
        "        #y_axis=\"time\",\n",
        "        marker = dict(\n",
        "            color = 'blue'\n",
        "        )\n",
        "    )\n",
        "]\n",
        "plot_layout = go.Layout(\n",
        "        title='Top 30 trigrams from News',\n",
        "        yaxis_title='Count',\n",
        "        xaxis_title='tri-gram',\n",
        "        plot_bgcolor='rgba(0,0,0,0)'\n",
        "    )\n",
        "fig = go.Figure(data=plot_data, layout=plot_layout)\n",
        "pyoff.iplot(fig)"
      ],
      "execution_count": null,
      "outputs": [
        {
          "output_type": "display_data",
          "data": {
            "text/html": [
              "<html>\n",
              "<head><meta charset=\"utf-8\" /></head>\n",
              "<body>\n",
              "    <div>\n",
              "            <script src=\"https://cdnjs.cloudflare.com/ajax/libs/mathjax/2.7.5/MathJax.js?config=TeX-AMS-MML_SVG\"></script><script type=\"text/javascript\">if (window.MathJax) {MathJax.Hub.Config({SVG: {font: \"STIX-Web\"}});}</script>\n",
              "                <script type=\"text/javascript\">window.PlotlyConfig = {MathJaxConfig: 'local'};</script>\n",
              "        <script src=\"https://cdn.plot.ly/plotly-latest.min.js\"></script>    \n",
              "            <div id=\"41cac719-c4fc-4489-9ca1-d25ff2d5eefa\" class=\"plotly-graph-div\" style=\"height:525px; width:100%;\"></div>\n",
              "            <script type=\"text/javascript\">\n",
              "                \n",
              "                    window.PLOTLYENV=window.PLOTLYENV || {};\n",
              "                    \n",
              "                if (document.getElementById(\"41cac719-c4fc-4489-9ca1-d25ff2d5eefa\")) {\n",
              "                    Plotly.newPlot(\n",
              "                        '41cac719-c4fc-4489-9ca1-d25ff2d5eefa',\n",
              "                        [{\"marker\": {\"color\": \"blue\"}, \"type\": \"bar\", \"x\": [\"(\\u09aa\\u09b0\\u09a7\\u09a8\\u09ae\\u09a8\\u09a4\\u09b0, \\u09b6\\u0996, \\u09b9\\u09b8\\u09a8)\", \"(\\u09ac\\u09b2\\u09a6\\u09b6, \\u09b8\\u09ae\\u09df, \\u0998\\u09a3\\u099f)\", \"(\\u09b8\\u09ae\\u09df, \\u0998\\u09a3\\u099f, \\u09b8\\u09aa\\u099f\\u09ae\\u09ac\\u09b0)\", \"(\\u09b8\\u0995\\u09ac, \\u0986\\u09b2, \\u09b9\\u09b8\\u09a8)\", \"(\\u09a8\\u099c\\u09ae\\u09b2, \\u09b9\\u09b8\\u09a8, \\u09b6\\u09a8\\u09a4)\", \"(\\u09b2\\u0997\\u09b0, \\u09b8\\u09a7\\u09b0\\u09a3, \\u09b8\\u09ae\\u09aa\\u09a6\\u0995)\", \"(\\u0986\\u0993\\u09df\\u09ae, \\u09b2\\u0997\\u09b0, \\u09b8\\u09a7\\u09b0\\u09a3)\", \"(\\u099c\\u09a4\\u09df, \\u0990\\u0995\\u09af, \\u09aa\\u09b0\\u0995\\u09b0\\u09df\\u09b0)\", \"(\\u098f\\u09b8\\u09ac, \\u0995\\u09a5, \\u09ac\\u09b2\\u09a8)\", \"(\\u09a5\\u09a8\\u09b0, \\u09ad\\u09b0\\u09aa\\u09b0\\u09aa\\u09a4, \\u0995\\u09b0\\u09ae\\u0995\\u09b0\\u09a4)\", \"(\\u09ad\\u09b0\\u09aa\\u09b0\\u09aa\\u09a4, \\u0995\\u09b0\\u09ae\\u0995\\u09b0\\u09a4, \\u0993\\u09b8)\", \"(\\u0986\\u09ac, \\u09b9\\u09df\\u09a6\\u09b0, \\u09b0\\u09a8)\", \"(\\u09b8\\u09dc, \\u099f\\u09b0, \\u09a6\\u0995)\", \"(\\u0995\\u09b0, \\u09a4\\u09a8, \\u09ac\\u09b2\\u09a8)\", \"(\\u09a1, \\u0995\\u09ae\\u09b2, \\u09b9\\u09b8\\u09a8)\", \"(\\u09ae\\u09b0\\u099c, \\u09ab\\u0996\\u09b0\\u09b2, \\u0987\\u09b8\\u09b2\\u09ae)\", \"(\\\\xa0, \\\\xa0, \\\\xa0)\", \"(\\u09a1, \\u0995\\u09ae\\u09b2, \\u09b9\\u09b8\\u09a8\\u09b0)\", \"(\\u09a1\\u099c\\u099f\\u09b2, \\u09a8\\u09b0\\u09aa\\u09a4\\u09a4, \\u0986\\u0987\\u09a8)\", \"(\\u09aa\\u09b0\\u09a7\\u09a8, \\u0985\\u09a4\\u09a5\\u09b0, \\u09ac\\u0995\\u09a4\\u09ac\\u09af)\", \"(\\u09b2\\u09b6, \\u0989\\u09a6\\u09a7\\u09b0, \\u0995\\u09b0)\", \"(\\u0986\\u0993\\u09df\\u09ae, \\u09b2\\u0997\\u09b0, \\u09b8\\u09ad\\u09aa\\u09a4)\", \"(\\u099c\\u09b2, \\u0986\\u0993\\u09df\\u09ae, \\u09b2\\u0997\\u09b0)\", \"(\\u09ae\\u09a1\\u0995\\u09b2, \\u0995\\u09b2\\u099c, \\u09b9\\u09b8\\u09aa\\u09a4\\u09b2)\", \"(\\u09aa\\u09b0\\u09a7\\u09a8\\u09ae\\u09a8\\u09a4\\u09b0, \\u09b6\\u0996, \\u09b9\\u09b8\\u09a8\\u09b0)\", \"(\\u09ae\\u09b9\\u09b8\\u099a\\u09ac, \\u09ae\\u09b0\\u099c, \\u09ab\\u0996\\u09b0\\u09b2)\", \"(\\u099c\\u09a4\\u09df, \\u09b8\\u09b8\\u09a6, \\u09a8\\u09b0\\u09ac\\u099a\\u09a8)\", \"(\\u09ae\\u09b9\\u09a6, \\u09b9\\u09b8\\u09a8, \\u09ae\\u09b0\\u099c)\", \"(\\u09b0\\u09a4, \\u099f\\u09b0, \\u09a6\\u0995)\", \"(\\u09b8\\u09ac\\u0995, \\u09aa\\u09b0\\u09a7\\u09a8, \\u09ac\\u099a\\u09b0\\u09aa\\u09a4)\"], \"y\": [774, 752, 748, 657, 535, 507, 452, 438, 434, 428, 417, 384, 370, 368, 364, 351, 339, 321, 318, 318, 317, 308, 297, 295, 291, 285, 281, 278, 276, 261]}],\n",
              "                        {\"plot_bgcolor\": \"rgba(0,0,0,0)\", \"template\": {\"data\": {\"bar\": [{\"error_x\": {\"color\": \"#2a3f5f\"}, \"error_y\": {\"color\": \"#2a3f5f\"}, \"marker\": {\"line\": {\"color\": \"#E5ECF6\", \"width\": 0.5}}, \"type\": \"bar\"}], \"barpolar\": [{\"marker\": {\"line\": {\"color\": \"#E5ECF6\", \"width\": 0.5}}, \"type\": \"barpolar\"}], \"carpet\": [{\"aaxis\": {\"endlinecolor\": \"#2a3f5f\", \"gridcolor\": \"white\", \"linecolor\": \"white\", \"minorgridcolor\": \"white\", \"startlinecolor\": \"#2a3f5f\"}, \"baxis\": {\"endlinecolor\": \"#2a3f5f\", \"gridcolor\": \"white\", \"linecolor\": \"white\", \"minorgridcolor\": \"white\", \"startlinecolor\": \"#2a3f5f\"}, \"type\": \"carpet\"}], \"choropleth\": [{\"colorbar\": {\"outlinewidth\": 0, \"ticks\": \"\"}, \"type\": \"choropleth\"}], \"contour\": [{\"colorbar\": {\"outlinewidth\": 0, \"ticks\": \"\"}, \"colorscale\": [[0.0, \"#0d0887\"], [0.1111111111111111, \"#46039f\"], [0.2222222222222222, \"#7201a8\"], [0.3333333333333333, \"#9c179e\"], [0.4444444444444444, \"#bd3786\"], [0.5555555555555556, \"#d8576b\"], [0.6666666666666666, \"#ed7953\"], [0.7777777777777778, \"#fb9f3a\"], [0.8888888888888888, \"#fdca26\"], [1.0, \"#f0f921\"]], \"type\": \"contour\"}], \"contourcarpet\": [{\"colorbar\": {\"outlinewidth\": 0, \"ticks\": \"\"}, \"type\": \"contourcarpet\"}], \"heatmap\": [{\"colorbar\": {\"outlinewidth\": 0, \"ticks\": \"\"}, \"colorscale\": [[0.0, \"#0d0887\"], [0.1111111111111111, \"#46039f\"], [0.2222222222222222, \"#7201a8\"], [0.3333333333333333, \"#9c179e\"], [0.4444444444444444, \"#bd3786\"], [0.5555555555555556, \"#d8576b\"], [0.6666666666666666, \"#ed7953\"], [0.7777777777777778, \"#fb9f3a\"], [0.8888888888888888, \"#fdca26\"], [1.0, \"#f0f921\"]], \"type\": \"heatmap\"}], \"heatmapgl\": [{\"colorbar\": {\"outlinewidth\": 0, \"ticks\": \"\"}, \"colorscale\": [[0.0, \"#0d0887\"], [0.1111111111111111, \"#46039f\"], [0.2222222222222222, \"#7201a8\"], [0.3333333333333333, \"#9c179e\"], [0.4444444444444444, \"#bd3786\"], [0.5555555555555556, \"#d8576b\"], [0.6666666666666666, \"#ed7953\"], [0.7777777777777778, \"#fb9f3a\"], [0.8888888888888888, \"#fdca26\"], [1.0, \"#f0f921\"]], \"type\": \"heatmapgl\"}], \"histogram\": [{\"marker\": {\"colorbar\": {\"outlinewidth\": 0, \"ticks\": \"\"}}, \"type\": \"histogram\"}], \"histogram2d\": [{\"colorbar\": {\"outlinewidth\": 0, \"ticks\": \"\"}, \"colorscale\": [[0.0, \"#0d0887\"], [0.1111111111111111, \"#46039f\"], [0.2222222222222222, \"#7201a8\"], [0.3333333333333333, \"#9c179e\"], [0.4444444444444444, \"#bd3786\"], [0.5555555555555556, \"#d8576b\"], [0.6666666666666666, \"#ed7953\"], [0.7777777777777778, \"#fb9f3a\"], [0.8888888888888888, \"#fdca26\"], [1.0, \"#f0f921\"]], \"type\": \"histogram2d\"}], \"histogram2dcontour\": [{\"colorbar\": {\"outlinewidth\": 0, \"ticks\": \"\"}, \"colorscale\": [[0.0, \"#0d0887\"], [0.1111111111111111, \"#46039f\"], [0.2222222222222222, \"#7201a8\"], [0.3333333333333333, \"#9c179e\"], [0.4444444444444444, \"#bd3786\"], [0.5555555555555556, \"#d8576b\"], [0.6666666666666666, \"#ed7953\"], [0.7777777777777778, \"#fb9f3a\"], [0.8888888888888888, \"#fdca26\"], [1.0, \"#f0f921\"]], \"type\": \"histogram2dcontour\"}], \"mesh3d\": [{\"colorbar\": {\"outlinewidth\": 0, \"ticks\": \"\"}, \"type\": \"mesh3d\"}], \"parcoords\": [{\"line\": {\"colorbar\": {\"outlinewidth\": 0, \"ticks\": \"\"}}, \"type\": \"parcoords\"}], \"pie\": [{\"automargin\": true, \"type\": \"pie\"}], \"scatter\": [{\"marker\": {\"colorbar\": {\"outlinewidth\": 0, \"ticks\": \"\"}}, \"type\": \"scatter\"}], \"scatter3d\": [{\"line\": {\"colorbar\": {\"outlinewidth\": 0, \"ticks\": \"\"}}, \"marker\": {\"colorbar\": {\"outlinewidth\": 0, \"ticks\": \"\"}}, \"type\": \"scatter3d\"}], \"scattercarpet\": [{\"marker\": {\"colorbar\": {\"outlinewidth\": 0, \"ticks\": \"\"}}, \"type\": \"scattercarpet\"}], \"scattergeo\": [{\"marker\": {\"colorbar\": {\"outlinewidth\": 0, \"ticks\": \"\"}}, \"type\": \"scattergeo\"}], \"scattergl\": [{\"marker\": {\"colorbar\": {\"outlinewidth\": 0, \"ticks\": \"\"}}, \"type\": \"scattergl\"}], \"scattermapbox\": [{\"marker\": {\"colorbar\": {\"outlinewidth\": 0, \"ticks\": \"\"}}, \"type\": \"scattermapbox\"}], \"scatterpolar\": [{\"marker\": {\"colorbar\": {\"outlinewidth\": 0, \"ticks\": \"\"}}, \"type\": \"scatterpolar\"}], \"scatterpolargl\": [{\"marker\": {\"colorbar\": {\"outlinewidth\": 0, \"ticks\": \"\"}}, \"type\": \"scatterpolargl\"}], \"scatterternary\": [{\"marker\": {\"colorbar\": {\"outlinewidth\": 0, \"ticks\": \"\"}}, \"type\": \"scatterternary\"}], \"surface\": [{\"colorbar\": {\"outlinewidth\": 0, \"ticks\": \"\"}, \"colorscale\": [[0.0, \"#0d0887\"], [0.1111111111111111, \"#46039f\"], [0.2222222222222222, \"#7201a8\"], [0.3333333333333333, \"#9c179e\"], [0.4444444444444444, \"#bd3786\"], [0.5555555555555556, \"#d8576b\"], [0.6666666666666666, \"#ed7953\"], [0.7777777777777778, \"#fb9f3a\"], [0.8888888888888888, \"#fdca26\"], [1.0, \"#f0f921\"]], \"type\": \"surface\"}], \"table\": [{\"cells\": {\"fill\": {\"color\": \"#EBF0F8\"}, \"line\": {\"color\": \"white\"}}, \"header\": {\"fill\": {\"color\": \"#C8D4E3\"}, \"line\": {\"color\": \"white\"}}, \"type\": \"table\"}]}, \"layout\": {\"annotationdefaults\": {\"arrowcolor\": \"#2a3f5f\", \"arrowhead\": 0, \"arrowwidth\": 1}, \"coloraxis\": {\"colorbar\": {\"outlinewidth\": 0, \"ticks\": \"\"}}, \"colorscale\": {\"diverging\": [[0, \"#8e0152\"], [0.1, \"#c51b7d\"], [0.2, \"#de77ae\"], [0.3, \"#f1b6da\"], [0.4, \"#fde0ef\"], [0.5, \"#f7f7f7\"], [0.6, \"#e6f5d0\"], [0.7, \"#b8e186\"], [0.8, \"#7fbc41\"], [0.9, \"#4d9221\"], [1, \"#276419\"]], \"sequential\": [[0.0, \"#0d0887\"], [0.1111111111111111, \"#46039f\"], [0.2222222222222222, \"#7201a8\"], [0.3333333333333333, \"#9c179e\"], [0.4444444444444444, \"#bd3786\"], [0.5555555555555556, \"#d8576b\"], [0.6666666666666666, \"#ed7953\"], [0.7777777777777778, \"#fb9f3a\"], [0.8888888888888888, \"#fdca26\"], [1.0, \"#f0f921\"]], \"sequentialminus\": [[0.0, \"#0d0887\"], [0.1111111111111111, \"#46039f\"], [0.2222222222222222, \"#7201a8\"], [0.3333333333333333, \"#9c179e\"], [0.4444444444444444, \"#bd3786\"], [0.5555555555555556, \"#d8576b\"], [0.6666666666666666, \"#ed7953\"], [0.7777777777777778, \"#fb9f3a\"], [0.8888888888888888, \"#fdca26\"], [1.0, \"#f0f921\"]]}, \"colorway\": [\"#636efa\", \"#EF553B\", \"#00cc96\", \"#ab63fa\", \"#FFA15A\", \"#19d3f3\", \"#FF6692\", \"#B6E880\", \"#FF97FF\", \"#FECB52\"], \"font\": {\"color\": \"#2a3f5f\"}, \"geo\": {\"bgcolor\": \"white\", \"lakecolor\": \"white\", \"landcolor\": \"#E5ECF6\", \"showlakes\": true, \"showland\": true, \"subunitcolor\": \"white\"}, \"hoverlabel\": {\"align\": \"left\"}, \"hovermode\": \"closest\", \"mapbox\": {\"style\": \"light\"}, \"paper_bgcolor\": \"white\", \"plot_bgcolor\": \"#E5ECF6\", \"polar\": {\"angularaxis\": {\"gridcolor\": \"white\", \"linecolor\": \"white\", \"ticks\": \"\"}, \"bgcolor\": \"#E5ECF6\", \"radialaxis\": {\"gridcolor\": \"white\", \"linecolor\": \"white\", \"ticks\": \"\"}}, \"scene\": {\"xaxis\": {\"backgroundcolor\": \"#E5ECF6\", \"gridcolor\": \"white\", \"gridwidth\": 2, \"linecolor\": \"white\", \"showbackground\": true, \"ticks\": \"\", \"zerolinecolor\": \"white\"}, \"yaxis\": {\"backgroundcolor\": \"#E5ECF6\", \"gridcolor\": \"white\", \"gridwidth\": 2, \"linecolor\": \"white\", \"showbackground\": true, \"ticks\": \"\", \"zerolinecolor\": \"white\"}, \"zaxis\": {\"backgroundcolor\": \"#E5ECF6\", \"gridcolor\": \"white\", \"gridwidth\": 2, \"linecolor\": \"white\", \"showbackground\": true, \"ticks\": \"\", \"zerolinecolor\": \"white\"}}, \"shapedefaults\": {\"line\": {\"color\": \"#2a3f5f\"}}, \"ternary\": {\"aaxis\": {\"gridcolor\": \"white\", \"linecolor\": \"white\", \"ticks\": \"\"}, \"baxis\": {\"gridcolor\": \"white\", \"linecolor\": \"white\", \"ticks\": \"\"}, \"bgcolor\": \"#E5ECF6\", \"caxis\": {\"gridcolor\": \"white\", \"linecolor\": \"white\", \"ticks\": \"\"}}, \"title\": {\"x\": 0.05}, \"xaxis\": {\"automargin\": true, \"gridcolor\": \"white\", \"linecolor\": \"white\", \"ticks\": \"\", \"title\": {\"standoff\": 15}, \"zerolinecolor\": \"white\", \"zerolinewidth\": 2}, \"yaxis\": {\"automargin\": true, \"gridcolor\": \"white\", \"linecolor\": \"white\", \"ticks\": \"\", \"title\": {\"standoff\": 15}, \"zerolinecolor\": \"white\", \"zerolinewidth\": 2}}}, \"title\": {\"text\": \"Top 30 trigrams from News\"}, \"xaxis\": {\"title\": {\"text\": \"tri-gram\"}}, \"yaxis\": {\"title\": {\"text\": \"Count\"}}},\n",
              "                        {\"responsive\": true}\n",
              "                    ).then(function(){\n",
              "                            \n",
              "var gd = document.getElementById('41cac719-c4fc-4489-9ca1-d25ff2d5eefa');\n",
              "var x = new MutationObserver(function (mutations, observer) {{\n",
              "        var display = window.getComputedStyle(gd).display;\n",
              "        if (!display || display === 'none') {{\n",
              "            console.log([gd, 'removed!']);\n",
              "            Plotly.purge(gd);\n",
              "            observer.disconnect();\n",
              "        }}\n",
              "}});\n",
              "\n",
              "// Listen for the removal of the full notebook cells\n",
              "var notebookContainer = gd.closest('#notebook-container');\n",
              "if (notebookContainer) {{\n",
              "    x.observe(notebookContainer, {childList: true});\n",
              "}}\n",
              "\n",
              "// Listen for the clearing of the current output cell\n",
              "var outputEl = gd.closest('.output');\n",
              "if (outputEl) {{\n",
              "    x.observe(outputEl, {childList: true});\n",
              "}}\n",
              "\n",
              "                        })\n",
              "                };\n",
              "                \n",
              "            </script>\n",
              "        </div>\n",
              "</body>\n",
              "</html>"
            ]
          },
          "metadata": {
            "tags": []
          }
        }
      ]
    },
    {
      "cell_type": "code",
      "metadata": {
        "trusted": true,
        "id": "rZJoRp6QRAJ7"
      },
      "source": [
        "fake_words = basic_clean(''.join(str(df_[df_['label']==1]['news'].tolist())))"
      ],
      "execution_count": null,
      "outputs": []
    },
    {
      "cell_type": "markdown",
      "metadata": {
        "id": "qfqddHZwRAJ7"
      },
      "source": [
        "Finding top 30 most frequent Bi-grams from Fake News"
      ]
    },
    {
      "cell_type": "code",
      "metadata": {
        "trusted": true,
        "id": "S5t73_36RAJ8"
      },
      "source": [
        "bigram_fake=(pd.Series(nltk.ngrams(fake_words, 2)).value_counts())[:30]"
      ],
      "execution_count": null,
      "outputs": []
    },
    {
      "cell_type": "code",
      "metadata": {
        "trusted": true,
        "id": "ZJRLmSMNRAJ8"
      },
      "source": [
        "bigram_fake=pd.DataFrame(bigram_fake)"
      ],
      "execution_count": null,
      "outputs": []
    },
    {
      "cell_type": "code",
      "metadata": {
        "trusted": true,
        "colab": {
          "base_uri": "https://localhost:8080/",
          "height": 979
        },
        "id": "UTCXYVgoRAJ8",
        "outputId": "1c53bdf0-a906-4b6b-e60a-0724936885ae"
      },
      "source": [
        "bigram_fake"
      ],
      "execution_count": null,
      "outputs": [
        {
          "output_type": "execute_result",
          "data": {
            "text/html": [
              "<div>\n",
              "<style scoped>\n",
              "    .dataframe tbody tr th:only-of-type {\n",
              "        vertical-align: middle;\n",
              "    }\n",
              "\n",
              "    .dataframe tbody tr th {\n",
              "        vertical-align: top;\n",
              "    }\n",
              "\n",
              "    .dataframe thead th {\n",
              "        text-align: right;\n",
              "    }\n",
              "</style>\n",
              "<table border=\"1\" class=\"dataframe\">\n",
              "  <thead>\n",
              "    <tr style=\"text-align: right;\">\n",
              "      <th></th>\n",
              "      <th>0</th>\n",
              "    </tr>\n",
              "  </thead>\n",
              "  <tbody>\n",
              "    <tr>\n",
              "      <th>(কর, হয়ছ)</th>\n",
              "      <td>3595</td>\n",
              "    </tr>\n",
              "    <tr>\n",
              "      <th>(তন, বলন)</th>\n",
              "      <td>3064</td>\n",
              "    </tr>\n",
              "    <tr>\n",
              "      <th>(কর, হব)</th>\n",
              "      <td>2699</td>\n",
              "    </tr>\n",
              "    <tr>\n",
              "      <th>(আওয়ম, লগর)</th>\n",
              "      <td>2652</td>\n",
              "    </tr>\n",
              "    <tr>\n",
              "      <th>(সধরণ, সমপদক)</th>\n",
              "      <td>2027</td>\n",
              "    </tr>\n",
              "    <tr>\n",
              "      <th>(উদধর, কর)</th>\n",
              "      <td>1904</td>\n",
              "    </tr>\n",
              "    <tr>\n",
              "      <th>(আওয়ম, লগ)</th>\n",
              "      <td>1559</td>\n",
              "    </tr>\n",
              "    <tr>\n",
              "      <th>(শর, কর)</th>\n",
              "      <td>1448</td>\n",
              "    </tr>\n",
              "    <tr>\n",
              "      <th>(কজ, কর)</th>\n",
              "      <td>1333</td>\n",
              "    </tr>\n",
              "    <tr>\n",
              "      <th>(টর, দক)</th>\n",
              "      <td>1264</td>\n",
              "    </tr>\n",
              "    <tr>\n",
              "      <th>(শখ, হসন)</th>\n",
              "      <td>1263</td>\n",
              "    </tr>\n",
              "    <tr>\n",
              "      <th>(জতয়, ঐকয)</th>\n",
              "      <td>1215</td>\n",
              "    </tr>\n",
              "    <tr>\n",
              "      <th>(কর, ন)</th>\n",
              "      <td>1215</td>\n",
              "    </tr>\n",
              "    <tr>\n",
              "      <th>(বলদশ, সময়)</th>\n",
              "      <td>1082</td>\n",
              "    </tr>\n",
              "    <tr>\n",
              "      <th>(উপসথত, ছলন)</th>\n",
              "      <td>1075</td>\n",
              "    </tr>\n",
              "    <tr>\n",
              "      <th>(পরধনমনতর, শখ)</th>\n",
              "      <td>1073</td>\n",
              "    </tr>\n",
              "    <tr>\n",
              "      <th>(আটক, কর)</th>\n",
              "      <td>1048</td>\n",
              "    </tr>\n",
              "    <tr>\n",
              "      <th>(কর, হচছ)</th>\n",
              "      <td>1011</td>\n",
              "    </tr>\n",
              "    <tr>\n",
              "      <th>(হব, ন)</th>\n",
              "      <td>997</td>\n",
              "    </tr>\n",
              "    <tr>\n",
              "      <th>(এশয়, কপর)</th>\n",
              "      <td>943</td>\n",
              "    </tr>\n",
              "    <tr>\n",
              "      <th>(খলদ, জয়র)</th>\n",
              "      <td>934</td>\n",
              "    </tr>\n",
              "    <tr>\n",
              "      <th>(রন, কর)</th>\n",
              "      <td>920</td>\n",
              "    </tr>\n",
              "    <tr>\n",
              "      <th>(এশয়, কপ)</th>\n",
              "      <td>909</td>\n",
              "    </tr>\n",
              "    <tr>\n",
              "      <th>(আফগনসতনর, বপকষ)</th>\n",
              "      <td>902</td>\n",
              "    </tr>\n",
              "    <tr>\n",
              "      <th>(কথ, বলন)</th>\n",
              "      <td>895</td>\n",
              "    </tr>\n",
              "    <tr>\n",
              "      <th>(ড, কমল)</th>\n",
              "      <td>880</td>\n",
              "    </tr>\n",
              "    <tr>\n",
              "      <th>(কছ, থক)</th>\n",
              "      <td>877</td>\n",
              "    </tr>\n",
              "    <tr>\n",
              "      <th>(নশচত, কর)</th>\n",
              "      <td>877</td>\n",
              "    </tr>\n",
              "    <tr>\n",
              "      <th>(চষট, কর)</th>\n",
              "      <td>851</td>\n",
              "    </tr>\n",
              "    <tr>\n",
              "      <th>(কথ, বল)</th>\n",
              "      <td>851</td>\n",
              "    </tr>\n",
              "  </tbody>\n",
              "</table>\n",
              "</div>"
            ],
            "text/plain": [
              "                     0\n",
              "(কর, হয়ছ)         3595\n",
              "(তন, বলন)         3064\n",
              "(কর, হব)          2699\n",
              "(আওয়ম, লগর)       2652\n",
              "(সধরণ, সমপদক)     2027\n",
              "(উদধর, কর)        1904\n",
              "(আওয়ম, লগ)        1559\n",
              "(শর, কর)          1448\n",
              "(কজ, কর)          1333\n",
              "(টর, দক)          1264\n",
              "(শখ, হসন)         1263\n",
              "(জতয়, ঐকয)        1215\n",
              "(কর, ন)           1215\n",
              "(বলদশ, সময়)       1082\n",
              "(উপসথত, ছলন)      1075\n",
              "(পরধনমনতর, শখ)    1073\n",
              "(আটক, কর)         1048\n",
              "(কর, হচছ)         1011\n",
              "(হব, ন)            997\n",
              "(এশয়, কপর)         943\n",
              "(খলদ, জয়র)         934\n",
              "(রন, কর)           920\n",
              "(এশয়, কপ)          909\n",
              "(আফগনসতনর, বপকষ)   902\n",
              "(কথ, বলন)          895\n",
              "(ড, কমল)           880\n",
              "(কছ, থক)           877\n",
              "(নশচত, কর)         877\n",
              "(চষট, কর)          851\n",
              "(কথ, বল)           851"
            ]
          },
          "metadata": {
            "tags": []
          },
          "execution_count": 70
        }
      ]
    },
    {
      "cell_type": "code",
      "metadata": {
        "trusted": true,
        "id": "itPSAJ0dRAJ8"
      },
      "source": [
        "bigram_fake['in']=bigram_fake.index"
      ],
      "execution_count": null,
      "outputs": []
    },
    {
      "cell_type": "code",
      "metadata": {
        "trusted": true,
        "id": "0zvmmF5NRAJ8"
      },
      "source": [
        "bigram_fake['in'] = bigram_fake.apply(lambda x: '('+x['in'][0]+', '+x['in'][1]+')',axis=1)"
      ],
      "execution_count": null,
      "outputs": []
    },
    {
      "cell_type": "code",
      "metadata": {
        "trusted": true,
        "colab": {
          "base_uri": "https://localhost:8080/",
          "height": 542
        },
        "id": "zZuFCPhcRAJ8",
        "outputId": "917b734c-936c-4286-fadc-2be6976a23fc"
      },
      "source": [
        "plot_data = [\n",
        "    go.Bar(\n",
        "        x=bigram_fake['in'],\n",
        "        y=bigram_fake[0],\n",
        "        #name='True',\n",
        "        #x_axis=\"OTI\",\n",
        "        #y_axis=\"time\",\n",
        "        marker = dict(\n",
        "            color = 'Red'\n",
        "        )\n",
        "    )\n",
        "]\n",
        "plot_layout = go.Layout(\n",
        "        title='Top 30 bi-grams from Fake News',\n",
        "        yaxis_title='Count',\n",
        "        xaxis_title='bi-gram',\n",
        "        plot_bgcolor='rgba(0,0,0,0)'\n",
        "    )\n",
        "fig = go.Figure(data=plot_data, layout=plot_layout)\n",
        "pyoff.iplot(fig)"
      ],
      "execution_count": null,
      "outputs": [
        {
          "output_type": "display_data",
          "data": {
            "text/html": [
              "<html>\n",
              "<head><meta charset=\"utf-8\" /></head>\n",
              "<body>\n",
              "    <div>\n",
              "            <script src=\"https://cdnjs.cloudflare.com/ajax/libs/mathjax/2.7.5/MathJax.js?config=TeX-AMS-MML_SVG\"></script><script type=\"text/javascript\">if (window.MathJax) {MathJax.Hub.Config({SVG: {font: \"STIX-Web\"}});}</script>\n",
              "                <script type=\"text/javascript\">window.PlotlyConfig = {MathJaxConfig: 'local'};</script>\n",
              "        <script src=\"https://cdn.plot.ly/plotly-latest.min.js\"></script>    \n",
              "            <div id=\"9e4e5092-225f-413f-aaf4-696aaeca6c4a\" class=\"plotly-graph-div\" style=\"height:525px; width:100%;\"></div>\n",
              "            <script type=\"text/javascript\">\n",
              "                \n",
              "                    window.PLOTLYENV=window.PLOTLYENV || {};\n",
              "                    \n",
              "                if (document.getElementById(\"9e4e5092-225f-413f-aaf4-696aaeca6c4a\")) {\n",
              "                    Plotly.newPlot(\n",
              "                        '9e4e5092-225f-413f-aaf4-696aaeca6c4a',\n",
              "                        [{\"marker\": {\"color\": \"Red\"}, \"type\": \"bar\", \"x\": [\"(\\u0995\\u09b0, \\u09b9\\u09df\\u099b)\", \"(\\u09a4\\u09a8, \\u09ac\\u09b2\\u09a8)\", \"(\\u0995\\u09b0, \\u09b9\\u09ac)\", \"(\\u0986\\u0993\\u09df\\u09ae, \\u09b2\\u0997\\u09b0)\", \"(\\u09b8\\u09a7\\u09b0\\u09a3, \\u09b8\\u09ae\\u09aa\\u09a6\\u0995)\", \"(\\u0989\\u09a6\\u09a7\\u09b0, \\u0995\\u09b0)\", \"(\\u0986\\u0993\\u09df\\u09ae, \\u09b2\\u0997)\", \"(\\u09b6\\u09b0, \\u0995\\u09b0)\", \"(\\u0995\\u099c, \\u0995\\u09b0)\", \"(\\u099f\\u09b0, \\u09a6\\u0995)\", \"(\\u09b6\\u0996, \\u09b9\\u09b8\\u09a8)\", \"(\\u099c\\u09a4\\u09df, \\u0990\\u0995\\u09af)\", \"(\\u0995\\u09b0, \\u09a8)\", \"(\\u09ac\\u09b2\\u09a6\\u09b6, \\u09b8\\u09ae\\u09df)\", \"(\\u0989\\u09aa\\u09b8\\u09a5\\u09a4, \\u099b\\u09b2\\u09a8)\", \"(\\u09aa\\u09b0\\u09a7\\u09a8\\u09ae\\u09a8\\u09a4\\u09b0, \\u09b6\\u0996)\", \"(\\u0986\\u099f\\u0995, \\u0995\\u09b0)\", \"(\\u0995\\u09b0, \\u09b9\\u099a\\u099b)\", \"(\\u09b9\\u09ac, \\u09a8)\", \"(\\u098f\\u09b6\\u09df, \\u0995\\u09aa\\u09b0)\", \"(\\u0996\\u09b2\\u09a6, \\u099c\\u09df\\u09b0)\", \"(\\u09b0\\u09a8, \\u0995\\u09b0)\", \"(\\u098f\\u09b6\\u09df, \\u0995\\u09aa)\", \"(\\u0986\\u09ab\\u0997\\u09a8\\u09b8\\u09a4\\u09a8\\u09b0, \\u09ac\\u09aa\\u0995\\u09b7)\", \"(\\u0995\\u09a5, \\u09ac\\u09b2\\u09a8)\", \"(\\u09a1, \\u0995\\u09ae\\u09b2)\", \"(\\u0995\\u099b, \\u09a5\\u0995)\", \"(\\u09a8\\u09b6\\u099a\\u09a4, \\u0995\\u09b0)\", \"(\\u099a\\u09b7\\u099f, \\u0995\\u09b0)\", \"(\\u0995\\u09a5, \\u09ac\\u09b2)\"], \"y\": [3595, 3064, 2699, 2652, 2027, 1904, 1559, 1448, 1333, 1264, 1263, 1215, 1215, 1082, 1075, 1073, 1048, 1011, 997, 943, 934, 920, 909, 902, 895, 880, 877, 877, 851, 851]}],\n",
              "                        {\"plot_bgcolor\": \"rgba(0,0,0,0)\", \"template\": {\"data\": {\"bar\": [{\"error_x\": {\"color\": \"#2a3f5f\"}, \"error_y\": {\"color\": \"#2a3f5f\"}, \"marker\": {\"line\": {\"color\": \"#E5ECF6\", \"width\": 0.5}}, \"type\": \"bar\"}], \"barpolar\": [{\"marker\": {\"line\": {\"color\": \"#E5ECF6\", \"width\": 0.5}}, \"type\": \"barpolar\"}], \"carpet\": [{\"aaxis\": {\"endlinecolor\": \"#2a3f5f\", \"gridcolor\": \"white\", \"linecolor\": \"white\", \"minorgridcolor\": \"white\", \"startlinecolor\": \"#2a3f5f\"}, \"baxis\": {\"endlinecolor\": \"#2a3f5f\", \"gridcolor\": \"white\", \"linecolor\": \"white\", \"minorgridcolor\": \"white\", \"startlinecolor\": \"#2a3f5f\"}, \"type\": \"carpet\"}], \"choropleth\": [{\"colorbar\": {\"outlinewidth\": 0, \"ticks\": \"\"}, \"type\": \"choropleth\"}], \"contour\": [{\"colorbar\": {\"outlinewidth\": 0, \"ticks\": \"\"}, \"colorscale\": [[0.0, \"#0d0887\"], [0.1111111111111111, \"#46039f\"], [0.2222222222222222, \"#7201a8\"], [0.3333333333333333, \"#9c179e\"], [0.4444444444444444, \"#bd3786\"], [0.5555555555555556, \"#d8576b\"], [0.6666666666666666, \"#ed7953\"], [0.7777777777777778, \"#fb9f3a\"], [0.8888888888888888, \"#fdca26\"], [1.0, \"#f0f921\"]], \"type\": \"contour\"}], \"contourcarpet\": [{\"colorbar\": {\"outlinewidth\": 0, \"ticks\": \"\"}, \"type\": \"contourcarpet\"}], \"heatmap\": [{\"colorbar\": {\"outlinewidth\": 0, \"ticks\": \"\"}, \"colorscale\": [[0.0, \"#0d0887\"], [0.1111111111111111, \"#46039f\"], [0.2222222222222222, \"#7201a8\"], [0.3333333333333333, \"#9c179e\"], [0.4444444444444444, \"#bd3786\"], [0.5555555555555556, \"#d8576b\"], [0.6666666666666666, \"#ed7953\"], [0.7777777777777778, \"#fb9f3a\"], [0.8888888888888888, \"#fdca26\"], [1.0, \"#f0f921\"]], \"type\": \"heatmap\"}], \"heatmapgl\": [{\"colorbar\": {\"outlinewidth\": 0, \"ticks\": \"\"}, \"colorscale\": [[0.0, \"#0d0887\"], [0.1111111111111111, \"#46039f\"], [0.2222222222222222, \"#7201a8\"], [0.3333333333333333, \"#9c179e\"], [0.4444444444444444, \"#bd3786\"], [0.5555555555555556, \"#d8576b\"], [0.6666666666666666, \"#ed7953\"], [0.7777777777777778, \"#fb9f3a\"], [0.8888888888888888, \"#fdca26\"], [1.0, \"#f0f921\"]], \"type\": \"heatmapgl\"}], \"histogram\": [{\"marker\": {\"colorbar\": {\"outlinewidth\": 0, \"ticks\": \"\"}}, \"type\": \"histogram\"}], \"histogram2d\": [{\"colorbar\": {\"outlinewidth\": 0, \"ticks\": \"\"}, \"colorscale\": [[0.0, \"#0d0887\"], [0.1111111111111111, \"#46039f\"], [0.2222222222222222, \"#7201a8\"], [0.3333333333333333, \"#9c179e\"], [0.4444444444444444, \"#bd3786\"], [0.5555555555555556, \"#d8576b\"], [0.6666666666666666, \"#ed7953\"], [0.7777777777777778, \"#fb9f3a\"], [0.8888888888888888, \"#fdca26\"], [1.0, \"#f0f921\"]], \"type\": \"histogram2d\"}], \"histogram2dcontour\": [{\"colorbar\": {\"outlinewidth\": 0, \"ticks\": \"\"}, \"colorscale\": [[0.0, \"#0d0887\"], [0.1111111111111111, \"#46039f\"], [0.2222222222222222, \"#7201a8\"], [0.3333333333333333, \"#9c179e\"], [0.4444444444444444, \"#bd3786\"], [0.5555555555555556, \"#d8576b\"], [0.6666666666666666, \"#ed7953\"], [0.7777777777777778, \"#fb9f3a\"], [0.8888888888888888, \"#fdca26\"], [1.0, \"#f0f921\"]], \"type\": \"histogram2dcontour\"}], \"mesh3d\": [{\"colorbar\": {\"outlinewidth\": 0, \"ticks\": \"\"}, \"type\": \"mesh3d\"}], \"parcoords\": [{\"line\": {\"colorbar\": {\"outlinewidth\": 0, \"ticks\": \"\"}}, \"type\": \"parcoords\"}], \"pie\": [{\"automargin\": true, \"type\": \"pie\"}], \"scatter\": [{\"marker\": {\"colorbar\": {\"outlinewidth\": 0, \"ticks\": \"\"}}, \"type\": \"scatter\"}], \"scatter3d\": [{\"line\": {\"colorbar\": {\"outlinewidth\": 0, \"ticks\": \"\"}}, \"marker\": {\"colorbar\": {\"outlinewidth\": 0, \"ticks\": \"\"}}, \"type\": \"scatter3d\"}], \"scattercarpet\": [{\"marker\": {\"colorbar\": {\"outlinewidth\": 0, \"ticks\": \"\"}}, \"type\": \"scattercarpet\"}], \"scattergeo\": [{\"marker\": {\"colorbar\": {\"outlinewidth\": 0, \"ticks\": \"\"}}, \"type\": \"scattergeo\"}], \"scattergl\": [{\"marker\": {\"colorbar\": {\"outlinewidth\": 0, \"ticks\": \"\"}}, \"type\": \"scattergl\"}], \"scattermapbox\": [{\"marker\": {\"colorbar\": {\"outlinewidth\": 0, \"ticks\": \"\"}}, \"type\": \"scattermapbox\"}], \"scatterpolar\": [{\"marker\": {\"colorbar\": {\"outlinewidth\": 0, \"ticks\": \"\"}}, \"type\": \"scatterpolar\"}], \"scatterpolargl\": [{\"marker\": {\"colorbar\": {\"outlinewidth\": 0, \"ticks\": \"\"}}, \"type\": \"scatterpolargl\"}], \"scatterternary\": [{\"marker\": {\"colorbar\": {\"outlinewidth\": 0, \"ticks\": \"\"}}, \"type\": \"scatterternary\"}], \"surface\": [{\"colorbar\": {\"outlinewidth\": 0, \"ticks\": \"\"}, \"colorscale\": [[0.0, \"#0d0887\"], [0.1111111111111111, \"#46039f\"], [0.2222222222222222, \"#7201a8\"], [0.3333333333333333, \"#9c179e\"], [0.4444444444444444, \"#bd3786\"], [0.5555555555555556, \"#d8576b\"], [0.6666666666666666, \"#ed7953\"], [0.7777777777777778, \"#fb9f3a\"], [0.8888888888888888, \"#fdca26\"], [1.0, \"#f0f921\"]], \"type\": \"surface\"}], \"table\": [{\"cells\": {\"fill\": {\"color\": \"#EBF0F8\"}, \"line\": {\"color\": \"white\"}}, \"header\": {\"fill\": {\"color\": \"#C8D4E3\"}, \"line\": {\"color\": \"white\"}}, \"type\": \"table\"}]}, \"layout\": {\"annotationdefaults\": {\"arrowcolor\": \"#2a3f5f\", \"arrowhead\": 0, \"arrowwidth\": 1}, \"coloraxis\": {\"colorbar\": {\"outlinewidth\": 0, \"ticks\": \"\"}}, \"colorscale\": {\"diverging\": [[0, \"#8e0152\"], [0.1, \"#c51b7d\"], [0.2, \"#de77ae\"], [0.3, \"#f1b6da\"], [0.4, \"#fde0ef\"], [0.5, \"#f7f7f7\"], [0.6, \"#e6f5d0\"], [0.7, \"#b8e186\"], [0.8, \"#7fbc41\"], [0.9, \"#4d9221\"], [1, \"#276419\"]], \"sequential\": [[0.0, \"#0d0887\"], [0.1111111111111111, \"#46039f\"], [0.2222222222222222, \"#7201a8\"], [0.3333333333333333, \"#9c179e\"], [0.4444444444444444, \"#bd3786\"], [0.5555555555555556, \"#d8576b\"], [0.6666666666666666, \"#ed7953\"], [0.7777777777777778, \"#fb9f3a\"], [0.8888888888888888, \"#fdca26\"], [1.0, \"#f0f921\"]], \"sequentialminus\": [[0.0, \"#0d0887\"], [0.1111111111111111, \"#46039f\"], [0.2222222222222222, \"#7201a8\"], [0.3333333333333333, \"#9c179e\"], [0.4444444444444444, \"#bd3786\"], [0.5555555555555556, \"#d8576b\"], [0.6666666666666666, \"#ed7953\"], [0.7777777777777778, \"#fb9f3a\"], [0.8888888888888888, \"#fdca26\"], [1.0, \"#f0f921\"]]}, \"colorway\": [\"#636efa\", \"#EF553B\", \"#00cc96\", \"#ab63fa\", \"#FFA15A\", \"#19d3f3\", \"#FF6692\", \"#B6E880\", \"#FF97FF\", \"#FECB52\"], \"font\": {\"color\": \"#2a3f5f\"}, \"geo\": {\"bgcolor\": \"white\", \"lakecolor\": \"white\", \"landcolor\": \"#E5ECF6\", \"showlakes\": true, \"showland\": true, \"subunitcolor\": \"white\"}, \"hoverlabel\": {\"align\": \"left\"}, \"hovermode\": \"closest\", \"mapbox\": {\"style\": \"light\"}, \"paper_bgcolor\": \"white\", \"plot_bgcolor\": \"#E5ECF6\", \"polar\": {\"angularaxis\": {\"gridcolor\": \"white\", \"linecolor\": \"white\", \"ticks\": \"\"}, \"bgcolor\": \"#E5ECF6\", \"radialaxis\": {\"gridcolor\": \"white\", \"linecolor\": \"white\", \"ticks\": \"\"}}, \"scene\": {\"xaxis\": {\"backgroundcolor\": \"#E5ECF6\", \"gridcolor\": \"white\", \"gridwidth\": 2, \"linecolor\": \"white\", \"showbackground\": true, \"ticks\": \"\", \"zerolinecolor\": \"white\"}, \"yaxis\": {\"backgroundcolor\": \"#E5ECF6\", \"gridcolor\": \"white\", \"gridwidth\": 2, \"linecolor\": \"white\", \"showbackground\": true, \"ticks\": \"\", \"zerolinecolor\": \"white\"}, \"zaxis\": {\"backgroundcolor\": \"#E5ECF6\", \"gridcolor\": \"white\", \"gridwidth\": 2, \"linecolor\": \"white\", \"showbackground\": true, \"ticks\": \"\", \"zerolinecolor\": \"white\"}}, \"shapedefaults\": {\"line\": {\"color\": \"#2a3f5f\"}}, \"ternary\": {\"aaxis\": {\"gridcolor\": \"white\", \"linecolor\": \"white\", \"ticks\": \"\"}, \"baxis\": {\"gridcolor\": \"white\", \"linecolor\": \"white\", \"ticks\": \"\"}, \"bgcolor\": \"#E5ECF6\", \"caxis\": {\"gridcolor\": \"white\", \"linecolor\": \"white\", \"ticks\": \"\"}}, \"title\": {\"x\": 0.05}, \"xaxis\": {\"automargin\": true, \"gridcolor\": \"white\", \"linecolor\": \"white\", \"ticks\": \"\", \"title\": {\"standoff\": 15}, \"zerolinecolor\": \"white\", \"zerolinewidth\": 2}, \"yaxis\": {\"automargin\": true, \"gridcolor\": \"white\", \"linecolor\": \"white\", \"ticks\": \"\", \"title\": {\"standoff\": 15}, \"zerolinecolor\": \"white\", \"zerolinewidth\": 2}}}, \"title\": {\"text\": \"Top 30 bi-grams from Fake News\"}, \"xaxis\": {\"title\": {\"text\": \"bi-gram\"}}, \"yaxis\": {\"title\": {\"text\": \"Count\"}}},\n",
              "                        {\"responsive\": true}\n",
              "                    ).then(function(){\n",
              "                            \n",
              "var gd = document.getElementById('9e4e5092-225f-413f-aaf4-696aaeca6c4a');\n",
              "var x = new MutationObserver(function (mutations, observer) {{\n",
              "        var display = window.getComputedStyle(gd).display;\n",
              "        if (!display || display === 'none') {{\n",
              "            console.log([gd, 'removed!']);\n",
              "            Plotly.purge(gd);\n",
              "            observer.disconnect();\n",
              "        }}\n",
              "}});\n",
              "\n",
              "// Listen for the removal of the full notebook cells\n",
              "var notebookContainer = gd.closest('#notebook-container');\n",
              "if (notebookContainer) {{\n",
              "    x.observe(notebookContainer, {childList: true});\n",
              "}}\n",
              "\n",
              "// Listen for the clearing of the current output cell\n",
              "var outputEl = gd.closest('.output');\n",
              "if (outputEl) {{\n",
              "    x.observe(outputEl, {childList: true});\n",
              "}}\n",
              "\n",
              "                        })\n",
              "                };\n",
              "                \n",
              "            </script>\n",
              "        </div>\n",
              "</body>\n",
              "</html>"
            ]
          },
          "metadata": {
            "tags": []
          }
        }
      ]
    },
    {
      "cell_type": "markdown",
      "metadata": {
        "id": "ydwMWkhLRAJ8"
      },
      "source": [
        "Finding top 30 most frequent Tri-grams from Fake News"
      ]
    },
    {
      "cell_type": "code",
      "metadata": {
        "trusted": true,
        "id": "BUbWWJtvRAJ9"
      },
      "source": [
        "trigram_fake=(pd.Series(nltk.ngrams(fake_words, 3)).value_counts())[:30]"
      ],
      "execution_count": null,
      "outputs": []
    },
    {
      "cell_type": "code",
      "metadata": {
        "trusted": true,
        "colab": {
          "base_uri": "https://localhost:8080/",
          "height": 979
        },
        "id": "URHCpbSjRAJ9",
        "outputId": "bff20463-cbc8-4bf3-d2f6-b3f930216f8c"
      },
      "source": [
        "trigram_fake=pd.DataFrame(trigram_fake)\n",
        "trigram_fake"
      ],
      "execution_count": null,
      "outputs": [
        {
          "output_type": "execute_result",
          "data": {
            "text/html": [
              "<div>\n",
              "<style scoped>\n",
              "    .dataframe tbody tr th:only-of-type {\n",
              "        vertical-align: middle;\n",
              "    }\n",
              "\n",
              "    .dataframe tbody tr th {\n",
              "        vertical-align: top;\n",
              "    }\n",
              "\n",
              "    .dataframe thead th {\n",
              "        text-align: right;\n",
              "    }\n",
              "</style>\n",
              "<table border=\"1\" class=\"dataframe\">\n",
              "  <thead>\n",
              "    <tr style=\"text-align: right;\">\n",
              "      <th></th>\n",
              "      <th>0</th>\n",
              "    </tr>\n",
              "  </thead>\n",
              "  <tbody>\n",
              "    <tr>\n",
              "      <th>(বলদশ, সময়, ঘণট)</th>\n",
              "      <td>752</td>\n",
              "    </tr>\n",
              "    <tr>\n",
              "      <th>(সময়, ঘণট, সপটমবর)</th>\n",
              "      <td>748</td>\n",
              "    </tr>\n",
              "    <tr>\n",
              "      <th>(পরধনমনতর, শখ, হসন)</th>\n",
              "      <td>711</td>\n",
              "    </tr>\n",
              "    <tr>\n",
              "      <th>(সকব, আল, হসন)</th>\n",
              "      <td>646</td>\n",
              "    </tr>\n",
              "    <tr>\n",
              "      <th>(নজমল, হসন, শনত)</th>\n",
              "      <td>535</td>\n",
              "    </tr>\n",
              "    <tr>\n",
              "      <th>(লগর, সধরণ, সমপদক)</th>\n",
              "      <td>503</td>\n",
              "    </tr>\n",
              "    <tr>\n",
              "      <th>(আওয়ম, লগর, সধরণ)</th>\n",
              "      <td>450</td>\n",
              "    </tr>\n",
              "    <tr>\n",
              "      <th>(জতয়, ঐকয, পরকরয়র)</th>\n",
              "      <td>438</td>\n",
              "    </tr>\n",
              "    <tr>\n",
              "      <th>(এসব, কথ, বলন)</th>\n",
              "      <td>428</td>\n",
              "    </tr>\n",
              "    <tr>\n",
              "      <th>(থনর, ভরপরপত, করমকরত)</th>\n",
              "      <td>414</td>\n",
              "    </tr>\n",
              "    <tr>\n",
              "      <th>(ভরপরপত, করমকরত, ওস)</th>\n",
              "      <td>402</td>\n",
              "    </tr>\n",
              "    <tr>\n",
              "      <th>(আব, হয়দর, রন)</th>\n",
              "      <td>384</td>\n",
              "    </tr>\n",
              "    <tr>\n",
              "      <th>(সড়, টর, দক)</th>\n",
              "      <td>368</td>\n",
              "    </tr>\n",
              "    <tr>\n",
              "      <th>(ড, কমল, হসন)</th>\n",
              "      <td>363</td>\n",
              "    </tr>\n",
              "    <tr>\n",
              "      <th>(\\xa0, \\xa0, \\xa0)</th>\n",
              "      <td>339</td>\n",
              "    </tr>\n",
              "    <tr>\n",
              "      <th>(ড, কমল, হসনর)</th>\n",
              "      <td>321</td>\n",
              "    </tr>\n",
              "    <tr>\n",
              "      <th>(মরজ, ফখরল, ইসলম)</th>\n",
              "      <td>320</td>\n",
              "    </tr>\n",
              "    <tr>\n",
              "      <th>(লশ, উদধর, কর)</th>\n",
              "      <td>317</td>\n",
              "    </tr>\n",
              "    <tr>\n",
              "      <th>(ডজটল, নরপতত, আইন)</th>\n",
              "      <td>314</td>\n",
              "    </tr>\n",
              "    <tr>\n",
              "      <th>(পরধন, অতথর, বকতবয)</th>\n",
              "      <td>311</td>\n",
              "    </tr>\n",
              "    <tr>\n",
              "      <th>(আওয়ম, লগর, সভপত)</th>\n",
              "      <td>304</td>\n",
              "    </tr>\n",
              "    <tr>\n",
              "      <th>(কর, তন, বলন)</th>\n",
              "      <td>303</td>\n",
              "    </tr>\n",
              "    <tr>\n",
              "      <th>(মডকল, কলজ, হসপতল)</th>\n",
              "      <td>293</td>\n",
              "    </tr>\n",
              "    <tr>\n",
              "      <th>(জল, আওয়ম, লগর)</th>\n",
              "      <td>293</td>\n",
              "    </tr>\n",
              "    <tr>\n",
              "      <th>(মহসচব, মরজ, ফখরল)</th>\n",
              "      <td>280</td>\n",
              "    </tr>\n",
              "    <tr>\n",
              "      <th>(মহদ, হসন, মরজ)</th>\n",
              "      <td>278</td>\n",
              "    </tr>\n",
              "    <tr>\n",
              "      <th>(রত, টর, দক)</th>\n",
              "      <td>267</td>\n",
              "    </tr>\n",
              "    <tr>\n",
              "      <th>(জতয়, সসদ, নরবচন)</th>\n",
              "      <td>263</td>\n",
              "    </tr>\n",
              "    <tr>\n",
              "      <th>(সবক, পরধন, বচরপত)</th>\n",
              "      <td>261</td>\n",
              "    </tr>\n",
              "    <tr>\n",
              "      <th>(পরধনমনতর, শখ, হসনর)</th>\n",
              "      <td>256</td>\n",
              "    </tr>\n",
              "  </tbody>\n",
              "</table>\n",
              "</div>"
            ],
            "text/plain": [
              "                         0\n",
              "(বলদশ, সময়, ঘণট)       752\n",
              "(সময়, ঘণট, সপটমবর)     748\n",
              "(পরধনমনতর, শখ, হসন)    711\n",
              "(সকব, আল, হসন)         646\n",
              "(নজমল, হসন, শনত)       535\n",
              "(লগর, সধরণ, সমপদক)     503\n",
              "(আওয়ম, লগর, সধরণ)      450\n",
              "(জতয়, ঐকয, পরকরয়র)     438\n",
              "(এসব, কথ, বলন)         428\n",
              "(থনর, ভরপরপত, করমকরত)  414\n",
              "(ভরপরপত, করমকরত, ওস)   402\n",
              "(আব, হয়দর, রন)         384\n",
              "(সড়, টর, দক)           368\n",
              "(ড, কমল, হসন)          363\n",
              "(\\xa0, \\xa0, \\xa0)     339\n",
              "(ড, কমল, হসনর)         321\n",
              "(মরজ, ফখরল, ইসলম)      320\n",
              "(লশ, উদধর, কর)         317\n",
              "(ডজটল, নরপতত, আইন)     314\n",
              "(পরধন, অতথর, বকতবয)    311\n",
              "(আওয়ম, লগর, সভপত)      304\n",
              "(কর, তন, বলন)          303\n",
              "(মডকল, কলজ, হসপতল)     293\n",
              "(জল, আওয়ম, লগর)        293\n",
              "(মহসচব, মরজ, ফখরল)     280\n",
              "(মহদ, হসন, মরজ)        278\n",
              "(রত, টর, দক)           267\n",
              "(জতয়, সসদ, নরবচন)      263\n",
              "(সবক, পরধন, বচরপত)     261\n",
              "(পরধনমনতর, শখ, হসনর)   256"
            ]
          },
          "metadata": {
            "tags": []
          },
          "execution_count": 76
        }
      ]
    },
    {
      "cell_type": "code",
      "metadata": {
        "trusted": true,
        "id": "XEXyo7oERAJ9"
      },
      "source": [
        "trigram_fake['in']=trigram_fake.index"
      ],
      "execution_count": null,
      "outputs": []
    },
    {
      "cell_type": "code",
      "metadata": {
        "trusted": true,
        "id": "Kr_VjANcRAJ9"
      },
      "source": [
        "trigram_fake['in'] = trigram_fake.apply(lambda x: '('+x['in'][0]+', '+x['in'][1]+', '+x['in'][2]+')',axis=1)"
      ],
      "execution_count": null,
      "outputs": []
    },
    {
      "cell_type": "code",
      "metadata": {
        "trusted": true,
        "colab": {
          "base_uri": "https://localhost:8080/",
          "height": 542
        },
        "id": "iz_gINjqRAJ9",
        "outputId": "73297036-77a2-4e00-bee9-61b77eabb4e8"
      },
      "source": [
        "plot_data = [\n",
        "    go.Bar(\n",
        "        x=trigram_fake['in'],\n",
        "        y=trigram_fake[0],\n",
        "        #name='True',\n",
        "        #x_axis=\"OTI\",\n",
        "        #y_axis=\"time\",\n",
        "        marker = dict(\n",
        "            color = 'Red'\n",
        "        )\n",
        "    )\n",
        "]\n",
        "plot_layout = go.Layout(\n",
        "        title='Top 30 tri-grams from Fake News',\n",
        "        yaxis_title='Count',\n",
        "        xaxis_title='tri-gram',\n",
        "        plot_bgcolor='rgba(0,0,0,0)'\n",
        "    )\n",
        "fig = go.Figure(data=plot_data, layout=plot_layout)\n",
        "pyoff.iplot(fig)"
      ],
      "execution_count": null,
      "outputs": [
        {
          "output_type": "display_data",
          "data": {
            "text/html": [
              "<html>\n",
              "<head><meta charset=\"utf-8\" /></head>\n",
              "<body>\n",
              "    <div>\n",
              "            <script src=\"https://cdnjs.cloudflare.com/ajax/libs/mathjax/2.7.5/MathJax.js?config=TeX-AMS-MML_SVG\"></script><script type=\"text/javascript\">if (window.MathJax) {MathJax.Hub.Config({SVG: {font: \"STIX-Web\"}});}</script>\n",
              "                <script type=\"text/javascript\">window.PlotlyConfig = {MathJaxConfig: 'local'};</script>\n",
              "        <script src=\"https://cdn.plot.ly/plotly-latest.min.js\"></script>    \n",
              "            <div id=\"630c91f6-2211-4105-9966-ab2daec4e214\" class=\"plotly-graph-div\" style=\"height:525px; width:100%;\"></div>\n",
              "            <script type=\"text/javascript\">\n",
              "                \n",
              "                    window.PLOTLYENV=window.PLOTLYENV || {};\n",
              "                    \n",
              "                if (document.getElementById(\"630c91f6-2211-4105-9966-ab2daec4e214\")) {\n",
              "                    Plotly.newPlot(\n",
              "                        '630c91f6-2211-4105-9966-ab2daec4e214',\n",
              "                        [{\"marker\": {\"color\": \"Red\"}, \"type\": \"bar\", \"x\": [\"(\\u09ac\\u09b2\\u09a6\\u09b6, \\u09b8\\u09ae\\u09df, \\u0998\\u09a3\\u099f)\", \"(\\u09b8\\u09ae\\u09df, \\u0998\\u09a3\\u099f, \\u09b8\\u09aa\\u099f\\u09ae\\u09ac\\u09b0)\", \"(\\u09aa\\u09b0\\u09a7\\u09a8\\u09ae\\u09a8\\u09a4\\u09b0, \\u09b6\\u0996, \\u09b9\\u09b8\\u09a8)\", \"(\\u09b8\\u0995\\u09ac, \\u0986\\u09b2, \\u09b9\\u09b8\\u09a8)\", \"(\\u09a8\\u099c\\u09ae\\u09b2, \\u09b9\\u09b8\\u09a8, \\u09b6\\u09a8\\u09a4)\", \"(\\u09b2\\u0997\\u09b0, \\u09b8\\u09a7\\u09b0\\u09a3, \\u09b8\\u09ae\\u09aa\\u09a6\\u0995)\", \"(\\u0986\\u0993\\u09df\\u09ae, \\u09b2\\u0997\\u09b0, \\u09b8\\u09a7\\u09b0\\u09a3)\", \"(\\u099c\\u09a4\\u09df, \\u0990\\u0995\\u09af, \\u09aa\\u09b0\\u0995\\u09b0\\u09df\\u09b0)\", \"(\\u098f\\u09b8\\u09ac, \\u0995\\u09a5, \\u09ac\\u09b2\\u09a8)\", \"(\\u09a5\\u09a8\\u09b0, \\u09ad\\u09b0\\u09aa\\u09b0\\u09aa\\u09a4, \\u0995\\u09b0\\u09ae\\u0995\\u09b0\\u09a4)\", \"(\\u09ad\\u09b0\\u09aa\\u09b0\\u09aa\\u09a4, \\u0995\\u09b0\\u09ae\\u0995\\u09b0\\u09a4, \\u0993\\u09b8)\", \"(\\u0986\\u09ac, \\u09b9\\u09df\\u09a6\\u09b0, \\u09b0\\u09a8)\", \"(\\u09b8\\u09dc, \\u099f\\u09b0, \\u09a6\\u0995)\", \"(\\u09a1, \\u0995\\u09ae\\u09b2, \\u09b9\\u09b8\\u09a8)\", \"(\\\\xa0, \\\\xa0, \\\\xa0)\", \"(\\u09a1, \\u0995\\u09ae\\u09b2, \\u09b9\\u09b8\\u09a8\\u09b0)\", \"(\\u09ae\\u09b0\\u099c, \\u09ab\\u0996\\u09b0\\u09b2, \\u0987\\u09b8\\u09b2\\u09ae)\", \"(\\u09b2\\u09b6, \\u0989\\u09a6\\u09a7\\u09b0, \\u0995\\u09b0)\", \"(\\u09a1\\u099c\\u099f\\u09b2, \\u09a8\\u09b0\\u09aa\\u09a4\\u09a4, \\u0986\\u0987\\u09a8)\", \"(\\u09aa\\u09b0\\u09a7\\u09a8, \\u0985\\u09a4\\u09a5\\u09b0, \\u09ac\\u0995\\u09a4\\u09ac\\u09af)\", \"(\\u0986\\u0993\\u09df\\u09ae, \\u09b2\\u0997\\u09b0, \\u09b8\\u09ad\\u09aa\\u09a4)\", \"(\\u0995\\u09b0, \\u09a4\\u09a8, \\u09ac\\u09b2\\u09a8)\", \"(\\u09ae\\u09a1\\u0995\\u09b2, \\u0995\\u09b2\\u099c, \\u09b9\\u09b8\\u09aa\\u09a4\\u09b2)\", \"(\\u099c\\u09b2, \\u0986\\u0993\\u09df\\u09ae, \\u09b2\\u0997\\u09b0)\", \"(\\u09ae\\u09b9\\u09b8\\u099a\\u09ac, \\u09ae\\u09b0\\u099c, \\u09ab\\u0996\\u09b0\\u09b2)\", \"(\\u09ae\\u09b9\\u09a6, \\u09b9\\u09b8\\u09a8, \\u09ae\\u09b0\\u099c)\", \"(\\u09b0\\u09a4, \\u099f\\u09b0, \\u09a6\\u0995)\", \"(\\u099c\\u09a4\\u09df, \\u09b8\\u09b8\\u09a6, \\u09a8\\u09b0\\u09ac\\u099a\\u09a8)\", \"(\\u09b8\\u09ac\\u0995, \\u09aa\\u09b0\\u09a7\\u09a8, \\u09ac\\u099a\\u09b0\\u09aa\\u09a4)\", \"(\\u09aa\\u09b0\\u09a7\\u09a8\\u09ae\\u09a8\\u09a4\\u09b0, \\u09b6\\u0996, \\u09b9\\u09b8\\u09a8\\u09b0)\"], \"y\": [752, 748, 711, 646, 535, 503, 450, 438, 428, 414, 402, 384, 368, 363, 339, 321, 320, 317, 314, 311, 304, 303, 293, 293, 280, 278, 267, 263, 261, 256]}],\n",
              "                        {\"plot_bgcolor\": \"rgba(0,0,0,0)\", \"template\": {\"data\": {\"bar\": [{\"error_x\": {\"color\": \"#2a3f5f\"}, \"error_y\": {\"color\": \"#2a3f5f\"}, \"marker\": {\"line\": {\"color\": \"#E5ECF6\", \"width\": 0.5}}, \"type\": \"bar\"}], \"barpolar\": [{\"marker\": {\"line\": {\"color\": \"#E5ECF6\", \"width\": 0.5}}, \"type\": \"barpolar\"}], \"carpet\": [{\"aaxis\": {\"endlinecolor\": \"#2a3f5f\", \"gridcolor\": \"white\", \"linecolor\": \"white\", \"minorgridcolor\": \"white\", \"startlinecolor\": \"#2a3f5f\"}, \"baxis\": {\"endlinecolor\": \"#2a3f5f\", \"gridcolor\": \"white\", \"linecolor\": \"white\", \"minorgridcolor\": \"white\", \"startlinecolor\": \"#2a3f5f\"}, \"type\": \"carpet\"}], \"choropleth\": [{\"colorbar\": {\"outlinewidth\": 0, \"ticks\": \"\"}, \"type\": \"choropleth\"}], \"contour\": [{\"colorbar\": {\"outlinewidth\": 0, \"ticks\": \"\"}, \"colorscale\": [[0.0, \"#0d0887\"], [0.1111111111111111, \"#46039f\"], [0.2222222222222222, \"#7201a8\"], [0.3333333333333333, \"#9c179e\"], [0.4444444444444444, \"#bd3786\"], [0.5555555555555556, \"#d8576b\"], [0.6666666666666666, \"#ed7953\"], [0.7777777777777778, \"#fb9f3a\"], [0.8888888888888888, \"#fdca26\"], [1.0, \"#f0f921\"]], \"type\": \"contour\"}], \"contourcarpet\": [{\"colorbar\": {\"outlinewidth\": 0, \"ticks\": \"\"}, \"type\": \"contourcarpet\"}], \"heatmap\": [{\"colorbar\": {\"outlinewidth\": 0, \"ticks\": \"\"}, \"colorscale\": [[0.0, \"#0d0887\"], [0.1111111111111111, \"#46039f\"], [0.2222222222222222, \"#7201a8\"], [0.3333333333333333, \"#9c179e\"], [0.4444444444444444, \"#bd3786\"], [0.5555555555555556, \"#d8576b\"], [0.6666666666666666, \"#ed7953\"], [0.7777777777777778, \"#fb9f3a\"], [0.8888888888888888, \"#fdca26\"], [1.0, \"#f0f921\"]], \"type\": \"heatmap\"}], \"heatmapgl\": [{\"colorbar\": {\"outlinewidth\": 0, \"ticks\": \"\"}, \"colorscale\": [[0.0, \"#0d0887\"], [0.1111111111111111, \"#46039f\"], [0.2222222222222222, \"#7201a8\"], [0.3333333333333333, \"#9c179e\"], [0.4444444444444444, \"#bd3786\"], [0.5555555555555556, \"#d8576b\"], [0.6666666666666666, \"#ed7953\"], [0.7777777777777778, \"#fb9f3a\"], [0.8888888888888888, \"#fdca26\"], [1.0, \"#f0f921\"]], \"type\": \"heatmapgl\"}], \"histogram\": [{\"marker\": {\"colorbar\": {\"outlinewidth\": 0, \"ticks\": \"\"}}, \"type\": \"histogram\"}], \"histogram2d\": [{\"colorbar\": {\"outlinewidth\": 0, \"ticks\": \"\"}, \"colorscale\": [[0.0, \"#0d0887\"], [0.1111111111111111, \"#46039f\"], [0.2222222222222222, \"#7201a8\"], [0.3333333333333333, \"#9c179e\"], [0.4444444444444444, \"#bd3786\"], [0.5555555555555556, \"#d8576b\"], [0.6666666666666666, \"#ed7953\"], [0.7777777777777778, \"#fb9f3a\"], [0.8888888888888888, \"#fdca26\"], [1.0, \"#f0f921\"]], \"type\": \"histogram2d\"}], \"histogram2dcontour\": [{\"colorbar\": {\"outlinewidth\": 0, \"ticks\": \"\"}, \"colorscale\": [[0.0, \"#0d0887\"], [0.1111111111111111, \"#46039f\"], [0.2222222222222222, \"#7201a8\"], [0.3333333333333333, \"#9c179e\"], [0.4444444444444444, \"#bd3786\"], [0.5555555555555556, \"#d8576b\"], [0.6666666666666666, \"#ed7953\"], [0.7777777777777778, \"#fb9f3a\"], [0.8888888888888888, \"#fdca26\"], [1.0, \"#f0f921\"]], \"type\": \"histogram2dcontour\"}], \"mesh3d\": [{\"colorbar\": {\"outlinewidth\": 0, \"ticks\": \"\"}, \"type\": \"mesh3d\"}], \"parcoords\": [{\"line\": {\"colorbar\": {\"outlinewidth\": 0, \"ticks\": \"\"}}, \"type\": \"parcoords\"}], \"pie\": [{\"automargin\": true, \"type\": \"pie\"}], \"scatter\": [{\"marker\": {\"colorbar\": {\"outlinewidth\": 0, \"ticks\": \"\"}}, \"type\": \"scatter\"}], \"scatter3d\": [{\"line\": {\"colorbar\": {\"outlinewidth\": 0, \"ticks\": \"\"}}, \"marker\": {\"colorbar\": {\"outlinewidth\": 0, \"ticks\": \"\"}}, \"type\": \"scatter3d\"}], \"scattercarpet\": [{\"marker\": {\"colorbar\": {\"outlinewidth\": 0, \"ticks\": \"\"}}, \"type\": \"scattercarpet\"}], \"scattergeo\": [{\"marker\": {\"colorbar\": {\"outlinewidth\": 0, \"ticks\": \"\"}}, \"type\": \"scattergeo\"}], \"scattergl\": [{\"marker\": {\"colorbar\": {\"outlinewidth\": 0, \"ticks\": \"\"}}, \"type\": \"scattergl\"}], \"scattermapbox\": [{\"marker\": {\"colorbar\": {\"outlinewidth\": 0, \"ticks\": \"\"}}, \"type\": \"scattermapbox\"}], \"scatterpolar\": [{\"marker\": {\"colorbar\": {\"outlinewidth\": 0, \"ticks\": \"\"}}, \"type\": \"scatterpolar\"}], \"scatterpolargl\": [{\"marker\": {\"colorbar\": {\"outlinewidth\": 0, \"ticks\": \"\"}}, \"type\": \"scatterpolargl\"}], \"scatterternary\": [{\"marker\": {\"colorbar\": {\"outlinewidth\": 0, \"ticks\": \"\"}}, \"type\": \"scatterternary\"}], \"surface\": [{\"colorbar\": {\"outlinewidth\": 0, \"ticks\": \"\"}, \"colorscale\": [[0.0, \"#0d0887\"], [0.1111111111111111, \"#46039f\"], [0.2222222222222222, \"#7201a8\"], [0.3333333333333333, \"#9c179e\"], [0.4444444444444444, \"#bd3786\"], [0.5555555555555556, \"#d8576b\"], [0.6666666666666666, \"#ed7953\"], [0.7777777777777778, \"#fb9f3a\"], [0.8888888888888888, \"#fdca26\"], [1.0, \"#f0f921\"]], \"type\": \"surface\"}], \"table\": [{\"cells\": {\"fill\": {\"color\": \"#EBF0F8\"}, \"line\": {\"color\": \"white\"}}, \"header\": {\"fill\": {\"color\": \"#C8D4E3\"}, \"line\": {\"color\": \"white\"}}, \"type\": \"table\"}]}, \"layout\": {\"annotationdefaults\": {\"arrowcolor\": \"#2a3f5f\", \"arrowhead\": 0, \"arrowwidth\": 1}, \"coloraxis\": {\"colorbar\": {\"outlinewidth\": 0, \"ticks\": \"\"}}, \"colorscale\": {\"diverging\": [[0, \"#8e0152\"], [0.1, \"#c51b7d\"], [0.2, \"#de77ae\"], [0.3, \"#f1b6da\"], [0.4, \"#fde0ef\"], [0.5, \"#f7f7f7\"], [0.6, \"#e6f5d0\"], [0.7, \"#b8e186\"], [0.8, \"#7fbc41\"], [0.9, \"#4d9221\"], [1, \"#276419\"]], \"sequential\": [[0.0, \"#0d0887\"], [0.1111111111111111, \"#46039f\"], [0.2222222222222222, \"#7201a8\"], [0.3333333333333333, \"#9c179e\"], [0.4444444444444444, \"#bd3786\"], [0.5555555555555556, \"#d8576b\"], [0.6666666666666666, \"#ed7953\"], [0.7777777777777778, \"#fb9f3a\"], [0.8888888888888888, \"#fdca26\"], [1.0, \"#f0f921\"]], \"sequentialminus\": [[0.0, \"#0d0887\"], [0.1111111111111111, \"#46039f\"], [0.2222222222222222, \"#7201a8\"], [0.3333333333333333, \"#9c179e\"], [0.4444444444444444, \"#bd3786\"], [0.5555555555555556, \"#d8576b\"], [0.6666666666666666, \"#ed7953\"], [0.7777777777777778, \"#fb9f3a\"], [0.8888888888888888, \"#fdca26\"], [1.0, \"#f0f921\"]]}, \"colorway\": [\"#636efa\", \"#EF553B\", \"#00cc96\", \"#ab63fa\", \"#FFA15A\", \"#19d3f3\", \"#FF6692\", \"#B6E880\", \"#FF97FF\", \"#FECB52\"], \"font\": {\"color\": \"#2a3f5f\"}, \"geo\": {\"bgcolor\": \"white\", \"lakecolor\": \"white\", \"landcolor\": \"#E5ECF6\", \"showlakes\": true, \"showland\": true, \"subunitcolor\": \"white\"}, \"hoverlabel\": {\"align\": \"left\"}, \"hovermode\": \"closest\", \"mapbox\": {\"style\": \"light\"}, \"paper_bgcolor\": \"white\", \"plot_bgcolor\": \"#E5ECF6\", \"polar\": {\"angularaxis\": {\"gridcolor\": \"white\", \"linecolor\": \"white\", \"ticks\": \"\"}, \"bgcolor\": \"#E5ECF6\", \"radialaxis\": {\"gridcolor\": \"white\", \"linecolor\": \"white\", \"ticks\": \"\"}}, \"scene\": {\"xaxis\": {\"backgroundcolor\": \"#E5ECF6\", \"gridcolor\": \"white\", \"gridwidth\": 2, \"linecolor\": \"white\", \"showbackground\": true, \"ticks\": \"\", \"zerolinecolor\": \"white\"}, \"yaxis\": {\"backgroundcolor\": \"#E5ECF6\", \"gridcolor\": \"white\", \"gridwidth\": 2, \"linecolor\": \"white\", \"showbackground\": true, \"ticks\": \"\", \"zerolinecolor\": \"white\"}, \"zaxis\": {\"backgroundcolor\": \"#E5ECF6\", \"gridcolor\": \"white\", \"gridwidth\": 2, \"linecolor\": \"white\", \"showbackground\": true, \"ticks\": \"\", \"zerolinecolor\": \"white\"}}, \"shapedefaults\": {\"line\": {\"color\": \"#2a3f5f\"}}, \"ternary\": {\"aaxis\": {\"gridcolor\": \"white\", \"linecolor\": \"white\", \"ticks\": \"\"}, \"baxis\": {\"gridcolor\": \"white\", \"linecolor\": \"white\", \"ticks\": \"\"}, \"bgcolor\": \"#E5ECF6\", \"caxis\": {\"gridcolor\": \"white\", \"linecolor\": \"white\", \"ticks\": \"\"}}, \"title\": {\"x\": 0.05}, \"xaxis\": {\"automargin\": true, \"gridcolor\": \"white\", \"linecolor\": \"white\", \"ticks\": \"\", \"title\": {\"standoff\": 15}, \"zerolinecolor\": \"white\", \"zerolinewidth\": 2}, \"yaxis\": {\"automargin\": true, \"gridcolor\": \"white\", \"linecolor\": \"white\", \"ticks\": \"\", \"title\": {\"standoff\": 15}, \"zerolinecolor\": \"white\", \"zerolinewidth\": 2}}}, \"title\": {\"text\": \"Top 30 tri-grams from Fake News\"}, \"xaxis\": {\"title\": {\"text\": \"tri-gram\"}}, \"yaxis\": {\"title\": {\"text\": \"Count\"}}},\n",
              "                        {\"responsive\": true}\n",
              "                    ).then(function(){\n",
              "                            \n",
              "var gd = document.getElementById('630c91f6-2211-4105-9966-ab2daec4e214');\n",
              "var x = new MutationObserver(function (mutations, observer) {{\n",
              "        var display = window.getComputedStyle(gd).display;\n",
              "        if (!display || display === 'none') {{\n",
              "            console.log([gd, 'removed!']);\n",
              "            Plotly.purge(gd);\n",
              "            observer.disconnect();\n",
              "        }}\n",
              "}});\n",
              "\n",
              "// Listen for the removal of the full notebook cells\n",
              "var notebookContainer = gd.closest('#notebook-container');\n",
              "if (notebookContainer) {{\n",
              "    x.observe(notebookContainer, {childList: true});\n",
              "}}\n",
              "\n",
              "// Listen for the clearing of the current output cell\n",
              "var outputEl = gd.closest('.output');\n",
              "if (outputEl) {{\n",
              "    x.observe(outputEl, {childList: true});\n",
              "}}\n",
              "\n",
              "                        })\n",
              "                };\n",
              "                \n",
              "            </script>\n",
              "        </div>\n",
              "</body>\n",
              "</html>"
            ]
          },
          "metadata": {
            "tags": []
          }
        }
      ]
    },
    {
      "cell_type": "code",
      "metadata": {
        "trusted": true,
        "id": "N3fgpYKARAJ9"
      },
      "source": [
        "true_words = basic_clean(''.join(str(df_[df_['label']==0]['news'].tolist())))"
      ],
      "execution_count": null,
      "outputs": []
    },
    {
      "cell_type": "markdown",
      "metadata": {
        "id": "waB0WTgzRAJ9"
      },
      "source": [
        "Finding top 30 most frequent Bi-grams from True News"
      ]
    },
    {
      "cell_type": "code",
      "metadata": {
        "trusted": true,
        "id": "zDmbVCHRRAJ9"
      },
      "source": [
        "bigram_true=(pd.Series(nltk.ngrams(true_words, 2)).value_counts())[:30]"
      ],
      "execution_count": null,
      "outputs": []
    },
    {
      "cell_type": "code",
      "metadata": {
        "trusted": true,
        "id": "FJMGmwItRAJ-"
      },
      "source": [
        "bigram_true=pd.DataFrame(bigram_true)"
      ],
      "execution_count": null,
      "outputs": []
    },
    {
      "cell_type": "code",
      "metadata": {
        "trusted": true,
        "colab": {
          "base_uri": "https://localhost:8080/",
          "height": 979
        },
        "id": "IkET40rRRAJ-",
        "outputId": "fab40f14-18c0-42e3-ae35-c614927aa09c"
      },
      "source": [
        "bigram_true"
      ],
      "execution_count": null,
      "outputs": [
        {
          "output_type": "execute_result",
          "data": {
            "text/html": [
              "<div>\n",
              "<style scoped>\n",
              "    .dataframe tbody tr th:only-of-type {\n",
              "        vertical-align: middle;\n",
              "    }\n",
              "\n",
              "    .dataframe tbody tr th {\n",
              "        vertical-align: top;\n",
              "    }\n",
              "\n",
              "    .dataframe thead th {\n",
              "        text-align: right;\n",
              "    }\n",
              "</style>\n",
              "<table border=\"1\" class=\"dataframe\">\n",
              "  <thead>\n",
              "    <tr style=\"text-align: right;\">\n",
              "      <th></th>\n",
              "      <th>0</th>\n",
              "    </tr>\n",
              "  </thead>\n",
              "  <tbody>\n",
              "    <tr>\n",
              "      <th>(তন, বলন)</th>\n",
              "      <td>330</td>\n",
              "    </tr>\n",
              "    <tr>\n",
              "      <th>(শর, কর)</th>\n",
              "      <td>258</td>\n",
              "    </tr>\n",
              "    <tr>\n",
              "      <th>(কর, হব)</th>\n",
              "      <td>230</td>\n",
              "    </tr>\n",
              "    <tr>\n",
              "      <th>(কথ, বল)</th>\n",
              "      <td>209</td>\n",
              "    </tr>\n",
              "    <tr>\n",
              "      <th>(দনক, মতকণঠ)</th>\n",
              "      <td>192</td>\n",
              "    </tr>\n",
              "    <tr>\n",
              "      <th>(কজ, কর)</th>\n",
              "      <td>188</td>\n",
              "    </tr>\n",
              "    <tr>\n",
              "      <th>(bengal, beats)</th>\n",
              "      <td>181</td>\n",
              "    </tr>\n",
              "    <tr>\n",
              "      <th>(ন, কর)</th>\n",
              "      <td>170</td>\n",
              "    </tr>\n",
              "    <tr>\n",
              "      <th>(শখ, হসন)</th>\n",
              "      <td>167</td>\n",
              "    </tr>\n",
              "    <tr>\n",
              "      <th>(কর, তন)</th>\n",
              "      <td>167</td>\n",
              "    </tr>\n",
              "    <tr>\n",
              "      <th>(কর, ন)</th>\n",
              "      <td>166</td>\n",
              "    </tr>\n",
              "    <tr>\n",
              "      <th>(বএনপ, শখর)</th>\n",
              "      <td>160</td>\n",
              "    </tr>\n",
              "    <tr>\n",
              "      <th>(দখ, যয়)</th>\n",
              "      <td>152</td>\n",
              "    </tr>\n",
              "    <tr>\n",
              "      <th>(পরকশ, কর)</th>\n",
              "      <td>147</td>\n",
              "    </tr>\n",
              "    <tr>\n",
              "      <th>(কর, হয়ছ)</th>\n",
              "      <td>146</td>\n",
              "    </tr>\n",
              "    <tr>\n",
              "      <th>(বযবহর, কর)</th>\n",
              "      <td>144</td>\n",
              "    </tr>\n",
              "    <tr>\n",
              "      <th>(বলন, আম)</th>\n",
              "      <td>143</td>\n",
              "    </tr>\n",
              "    <tr>\n",
              "      <th>(সবদ, সমমলন)</th>\n",
              "      <td>141</td>\n",
              "    </tr>\n",
              "    <tr>\n",
              "      <th>(হব, ন)</th>\n",
              "      <td>128</td>\n",
              "    </tr>\n",
              "    <tr>\n",
              "      <th>(পরধনমনতর, শখ)</th>\n",
              "      <td>127</td>\n",
              "    </tr>\n",
              "    <tr>\n",
              "      <th>(কর, তর)</th>\n",
              "      <td>127</td>\n",
              "    </tr>\n",
              "    <tr>\n",
              "      <th>(ক, কর)</th>\n",
              "      <td>125</td>\n",
              "    </tr>\n",
              "    <tr>\n",
              "      <th>(পর, ন)</th>\n",
              "      <td>121</td>\n",
              "    </tr>\n",
              "    <tr>\n",
              "      <th>(বর, কর)</th>\n",
              "      <td>119</td>\n",
              "    </tr>\n",
              "    <tr>\n",
              "      <th>(বলন, আমর)</th>\n",
              "      <td>116</td>\n",
              "    </tr>\n",
              "    <tr>\n",
              "      <th>(জনত, চইল)</th>\n",
              "      <td>114</td>\n",
              "    </tr>\n",
              "    <tr>\n",
              "      <th>(মন, করন)</th>\n",
              "      <td>113</td>\n",
              "    </tr>\n",
              "    <tr>\n",
              "      <th>(মতকণঠ, নজসব)</th>\n",
              "      <td>105</td>\n",
              "    </tr>\n",
              "    <tr>\n",
              "      <th>(কর, পরন)</th>\n",
              "      <td>104</td>\n",
              "    </tr>\n",
              "    <tr>\n",
              "      <th>(কছ, থক)</th>\n",
              "      <td>102</td>\n",
              "    </tr>\n",
              "  </tbody>\n",
              "</table>\n",
              "</div>"
            ],
            "text/plain": [
              "                   0\n",
              "(তন, বলন)        330\n",
              "(শর, কর)         258\n",
              "(কর, হব)         230\n",
              "(কথ, বল)         209\n",
              "(দনক, মতকণঠ)     192\n",
              "(কজ, কর)         188\n",
              "(bengal, beats)  181\n",
              "(ন, কর)          170\n",
              "(শখ, হসন)        167\n",
              "(কর, তন)         167\n",
              "(কর, ন)          166\n",
              "(বএনপ, শখর)      160\n",
              "(দখ, যয়)         152\n",
              "(পরকশ, কর)       147\n",
              "(কর, হয়ছ)        146\n",
              "(বযবহর, কর)      144\n",
              "(বলন, আম)        143\n",
              "(সবদ, সমমলন)     141\n",
              "(হব, ন)          128\n",
              "(পরধনমনতর, শখ)   127\n",
              "(কর, তর)         127\n",
              "(ক, কর)          125\n",
              "(পর, ন)          121\n",
              "(বর, কর)         119\n",
              "(বলন, আমর)       116\n",
              "(জনত, চইল)       114\n",
              "(মন, করন)        113\n",
              "(মতকণঠ, নজসব)    105\n",
              "(কর, পরন)        104\n",
              "(কছ, থক)         102"
            ]
          },
          "metadata": {
            "tags": []
          },
          "execution_count": 84
        }
      ]
    },
    {
      "cell_type": "code",
      "metadata": {
        "trusted": true,
        "id": "F8BhW0aORAJ-"
      },
      "source": [
        "bigram_true['in']=bigram_true.index"
      ],
      "execution_count": null,
      "outputs": []
    },
    {
      "cell_type": "code",
      "metadata": {
        "trusted": true,
        "id": "J3hwx1W0RAJ-"
      },
      "source": [
        "bigram_true['in'] = bigram_true.apply(lambda x: '('+x['in'][0]+', '+x['in'][1]+')',axis=1)"
      ],
      "execution_count": null,
      "outputs": []
    },
    {
      "cell_type": "code",
      "metadata": {
        "trusted": true,
        "colab": {
          "base_uri": "https://localhost:8080/",
          "height": 542
        },
        "id": "wbjiaghsRAJ-",
        "outputId": "57184d86-6928-44a3-c600-6c6b08bd7f70"
      },
      "source": [
        "plot_data = [\n",
        "    go.Bar(\n",
        "        x=bigram_true['in'],\n",
        "        y=bigram_true[0],\n",
        "        #name='True',\n",
        "        #x_axis=\"OTI\",\n",
        "        #y_axis=\"time\",\n",
        "        marker = dict(\n",
        "            color = 'Green'\n",
        "        )\n",
        "    )\n",
        "]\n",
        "plot_layout = go.Layout(\n",
        "        title='Top 30 bi-grams from True News',\n",
        "        yaxis_title='Count',\n",
        "        xaxis_title='bi-gram',\n",
        "        plot_bgcolor='rgba(0,0,0,0)'\n",
        "    )\n",
        "fig = go.Figure(data=plot_data, layout=plot_layout)\n",
        "pyoff.iplot(fig)"
      ],
      "execution_count": null,
      "outputs": [
        {
          "output_type": "display_data",
          "data": {
            "text/html": [
              "<html>\n",
              "<head><meta charset=\"utf-8\" /></head>\n",
              "<body>\n",
              "    <div>\n",
              "            <script src=\"https://cdnjs.cloudflare.com/ajax/libs/mathjax/2.7.5/MathJax.js?config=TeX-AMS-MML_SVG\"></script><script type=\"text/javascript\">if (window.MathJax) {MathJax.Hub.Config({SVG: {font: \"STIX-Web\"}});}</script>\n",
              "                <script type=\"text/javascript\">window.PlotlyConfig = {MathJaxConfig: 'local'};</script>\n",
              "        <script src=\"https://cdn.plot.ly/plotly-latest.min.js\"></script>    \n",
              "            <div id=\"3dab200e-3efd-4b16-8a1d-dad238dce9e5\" class=\"plotly-graph-div\" style=\"height:525px; width:100%;\"></div>\n",
              "            <script type=\"text/javascript\">\n",
              "                \n",
              "                    window.PLOTLYENV=window.PLOTLYENV || {};\n",
              "                    \n",
              "                if (document.getElementById(\"3dab200e-3efd-4b16-8a1d-dad238dce9e5\")) {\n",
              "                    Plotly.newPlot(\n",
              "                        '3dab200e-3efd-4b16-8a1d-dad238dce9e5',\n",
              "                        [{\"marker\": {\"color\": \"Green\"}, \"type\": \"bar\", \"x\": [\"(\\u09a4\\u09a8, \\u09ac\\u09b2\\u09a8)\", \"(\\u09b6\\u09b0, \\u0995\\u09b0)\", \"(\\u0995\\u09b0, \\u09b9\\u09ac)\", \"(\\u0995\\u09a5, \\u09ac\\u09b2)\", \"(\\u09a6\\u09a8\\u0995, \\u09ae\\u09a4\\u0995\\u09a3\\u09a0)\", \"(\\u0995\\u099c, \\u0995\\u09b0)\", \"(bengal, beats)\", \"(\\u09a8, \\u0995\\u09b0)\", \"(\\u09b6\\u0996, \\u09b9\\u09b8\\u09a8)\", \"(\\u0995\\u09b0, \\u09a4\\u09a8)\", \"(\\u0995\\u09b0, \\u09a8)\", \"(\\u09ac\\u098f\\u09a8\\u09aa, \\u09b6\\u0996\\u09b0)\", \"(\\u09a6\\u0996, \\u09af\\u09df)\", \"(\\u09aa\\u09b0\\u0995\\u09b6, \\u0995\\u09b0)\", \"(\\u0995\\u09b0, \\u09b9\\u09df\\u099b)\", \"(\\u09ac\\u09af\\u09ac\\u09b9\\u09b0, \\u0995\\u09b0)\", \"(\\u09ac\\u09b2\\u09a8, \\u0986\\u09ae)\", \"(\\u09b8\\u09ac\\u09a6, \\u09b8\\u09ae\\u09ae\\u09b2\\u09a8)\", \"(\\u09b9\\u09ac, \\u09a8)\", \"(\\u09aa\\u09b0\\u09a7\\u09a8\\u09ae\\u09a8\\u09a4\\u09b0, \\u09b6\\u0996)\", \"(\\u0995\\u09b0, \\u09a4\\u09b0)\", \"(\\u0995, \\u0995\\u09b0)\", \"(\\u09aa\\u09b0, \\u09a8)\", \"(\\u09ac\\u09b0, \\u0995\\u09b0)\", \"(\\u09ac\\u09b2\\u09a8, \\u0986\\u09ae\\u09b0)\", \"(\\u099c\\u09a8\\u09a4, \\u099a\\u0987\\u09b2)\", \"(\\u09ae\\u09a8, \\u0995\\u09b0\\u09a8)\", \"(\\u09ae\\u09a4\\u0995\\u09a3\\u09a0, \\u09a8\\u099c\\u09b8\\u09ac)\", \"(\\u0995\\u09b0, \\u09aa\\u09b0\\u09a8)\", \"(\\u0995\\u099b, \\u09a5\\u0995)\"], \"y\": [330, 258, 230, 209, 192, 188, 181, 170, 167, 167, 166, 160, 152, 147, 146, 144, 143, 141, 128, 127, 127, 125, 121, 119, 116, 114, 113, 105, 104, 102]}],\n",
              "                        {\"plot_bgcolor\": \"rgba(0,0,0,0)\", \"template\": {\"data\": {\"bar\": [{\"error_x\": {\"color\": \"#2a3f5f\"}, \"error_y\": {\"color\": \"#2a3f5f\"}, \"marker\": {\"line\": {\"color\": \"#E5ECF6\", \"width\": 0.5}}, \"type\": \"bar\"}], \"barpolar\": [{\"marker\": {\"line\": {\"color\": \"#E5ECF6\", \"width\": 0.5}}, \"type\": \"barpolar\"}], \"carpet\": [{\"aaxis\": {\"endlinecolor\": \"#2a3f5f\", \"gridcolor\": \"white\", \"linecolor\": \"white\", \"minorgridcolor\": \"white\", \"startlinecolor\": \"#2a3f5f\"}, \"baxis\": {\"endlinecolor\": \"#2a3f5f\", \"gridcolor\": \"white\", \"linecolor\": \"white\", \"minorgridcolor\": \"white\", \"startlinecolor\": \"#2a3f5f\"}, \"type\": \"carpet\"}], \"choropleth\": [{\"colorbar\": {\"outlinewidth\": 0, \"ticks\": \"\"}, \"type\": \"choropleth\"}], \"contour\": [{\"colorbar\": {\"outlinewidth\": 0, \"ticks\": \"\"}, \"colorscale\": [[0.0, \"#0d0887\"], [0.1111111111111111, \"#46039f\"], [0.2222222222222222, \"#7201a8\"], [0.3333333333333333, \"#9c179e\"], [0.4444444444444444, \"#bd3786\"], [0.5555555555555556, \"#d8576b\"], [0.6666666666666666, \"#ed7953\"], [0.7777777777777778, \"#fb9f3a\"], [0.8888888888888888, \"#fdca26\"], [1.0, \"#f0f921\"]], \"type\": \"contour\"}], \"contourcarpet\": [{\"colorbar\": {\"outlinewidth\": 0, \"ticks\": \"\"}, \"type\": \"contourcarpet\"}], \"heatmap\": [{\"colorbar\": {\"outlinewidth\": 0, \"ticks\": \"\"}, \"colorscale\": [[0.0, \"#0d0887\"], [0.1111111111111111, \"#46039f\"], [0.2222222222222222, \"#7201a8\"], [0.3333333333333333, \"#9c179e\"], [0.4444444444444444, \"#bd3786\"], [0.5555555555555556, \"#d8576b\"], [0.6666666666666666, \"#ed7953\"], [0.7777777777777778, \"#fb9f3a\"], [0.8888888888888888, \"#fdca26\"], [1.0, \"#f0f921\"]], \"type\": \"heatmap\"}], \"heatmapgl\": [{\"colorbar\": {\"outlinewidth\": 0, \"ticks\": \"\"}, \"colorscale\": [[0.0, \"#0d0887\"], [0.1111111111111111, \"#46039f\"], [0.2222222222222222, \"#7201a8\"], [0.3333333333333333, \"#9c179e\"], [0.4444444444444444, \"#bd3786\"], [0.5555555555555556, \"#d8576b\"], [0.6666666666666666, \"#ed7953\"], [0.7777777777777778, \"#fb9f3a\"], [0.8888888888888888, \"#fdca26\"], [1.0, \"#f0f921\"]], \"type\": \"heatmapgl\"}], \"histogram\": [{\"marker\": {\"colorbar\": {\"outlinewidth\": 0, \"ticks\": \"\"}}, \"type\": \"histogram\"}], \"histogram2d\": [{\"colorbar\": {\"outlinewidth\": 0, \"ticks\": \"\"}, \"colorscale\": [[0.0, \"#0d0887\"], [0.1111111111111111, \"#46039f\"], [0.2222222222222222, \"#7201a8\"], [0.3333333333333333, \"#9c179e\"], [0.4444444444444444, \"#bd3786\"], [0.5555555555555556, \"#d8576b\"], [0.6666666666666666, \"#ed7953\"], [0.7777777777777778, \"#fb9f3a\"], [0.8888888888888888, \"#fdca26\"], [1.0, \"#f0f921\"]], \"type\": \"histogram2d\"}], \"histogram2dcontour\": [{\"colorbar\": {\"outlinewidth\": 0, \"ticks\": \"\"}, \"colorscale\": [[0.0, \"#0d0887\"], [0.1111111111111111, \"#46039f\"], [0.2222222222222222, \"#7201a8\"], [0.3333333333333333, \"#9c179e\"], [0.4444444444444444, \"#bd3786\"], [0.5555555555555556, \"#d8576b\"], [0.6666666666666666, \"#ed7953\"], [0.7777777777777778, \"#fb9f3a\"], [0.8888888888888888, \"#fdca26\"], [1.0, \"#f0f921\"]], \"type\": \"histogram2dcontour\"}], \"mesh3d\": [{\"colorbar\": {\"outlinewidth\": 0, \"ticks\": \"\"}, \"type\": \"mesh3d\"}], \"parcoords\": [{\"line\": {\"colorbar\": {\"outlinewidth\": 0, \"ticks\": \"\"}}, \"type\": \"parcoords\"}], \"pie\": [{\"automargin\": true, \"type\": \"pie\"}], \"scatter\": [{\"marker\": {\"colorbar\": {\"outlinewidth\": 0, \"ticks\": \"\"}}, \"type\": \"scatter\"}], \"scatter3d\": [{\"line\": {\"colorbar\": {\"outlinewidth\": 0, \"ticks\": \"\"}}, \"marker\": {\"colorbar\": {\"outlinewidth\": 0, \"ticks\": \"\"}}, \"type\": \"scatter3d\"}], \"scattercarpet\": [{\"marker\": {\"colorbar\": {\"outlinewidth\": 0, \"ticks\": \"\"}}, \"type\": \"scattercarpet\"}], \"scattergeo\": [{\"marker\": {\"colorbar\": {\"outlinewidth\": 0, \"ticks\": \"\"}}, \"type\": \"scattergeo\"}], \"scattergl\": [{\"marker\": {\"colorbar\": {\"outlinewidth\": 0, \"ticks\": \"\"}}, \"type\": \"scattergl\"}], \"scattermapbox\": [{\"marker\": {\"colorbar\": {\"outlinewidth\": 0, \"ticks\": \"\"}}, \"type\": \"scattermapbox\"}], \"scatterpolar\": [{\"marker\": {\"colorbar\": {\"outlinewidth\": 0, \"ticks\": \"\"}}, \"type\": \"scatterpolar\"}], \"scatterpolargl\": [{\"marker\": {\"colorbar\": {\"outlinewidth\": 0, \"ticks\": \"\"}}, \"type\": \"scatterpolargl\"}], \"scatterternary\": [{\"marker\": {\"colorbar\": {\"outlinewidth\": 0, \"ticks\": \"\"}}, \"type\": \"scatterternary\"}], \"surface\": [{\"colorbar\": {\"outlinewidth\": 0, \"ticks\": \"\"}, \"colorscale\": [[0.0, \"#0d0887\"], [0.1111111111111111, \"#46039f\"], [0.2222222222222222, \"#7201a8\"], [0.3333333333333333, \"#9c179e\"], [0.4444444444444444, \"#bd3786\"], [0.5555555555555556, \"#d8576b\"], [0.6666666666666666, \"#ed7953\"], [0.7777777777777778, \"#fb9f3a\"], [0.8888888888888888, \"#fdca26\"], [1.0, \"#f0f921\"]], \"type\": \"surface\"}], \"table\": [{\"cells\": {\"fill\": {\"color\": \"#EBF0F8\"}, \"line\": {\"color\": \"white\"}}, \"header\": {\"fill\": {\"color\": \"#C8D4E3\"}, \"line\": {\"color\": \"white\"}}, \"type\": \"table\"}]}, \"layout\": {\"annotationdefaults\": {\"arrowcolor\": \"#2a3f5f\", \"arrowhead\": 0, \"arrowwidth\": 1}, \"coloraxis\": {\"colorbar\": {\"outlinewidth\": 0, \"ticks\": \"\"}}, \"colorscale\": {\"diverging\": [[0, \"#8e0152\"], [0.1, \"#c51b7d\"], [0.2, \"#de77ae\"], [0.3, \"#f1b6da\"], [0.4, \"#fde0ef\"], [0.5, \"#f7f7f7\"], [0.6, \"#e6f5d0\"], [0.7, \"#b8e186\"], [0.8, \"#7fbc41\"], [0.9, \"#4d9221\"], [1, \"#276419\"]], \"sequential\": [[0.0, \"#0d0887\"], [0.1111111111111111, \"#46039f\"], [0.2222222222222222, \"#7201a8\"], [0.3333333333333333, \"#9c179e\"], [0.4444444444444444, \"#bd3786\"], [0.5555555555555556, \"#d8576b\"], [0.6666666666666666, \"#ed7953\"], [0.7777777777777778, \"#fb9f3a\"], [0.8888888888888888, \"#fdca26\"], [1.0, \"#f0f921\"]], \"sequentialminus\": [[0.0, \"#0d0887\"], [0.1111111111111111, \"#46039f\"], [0.2222222222222222, \"#7201a8\"], [0.3333333333333333, \"#9c179e\"], [0.4444444444444444, \"#bd3786\"], [0.5555555555555556, \"#d8576b\"], [0.6666666666666666, \"#ed7953\"], [0.7777777777777778, \"#fb9f3a\"], [0.8888888888888888, \"#fdca26\"], [1.0, \"#f0f921\"]]}, \"colorway\": [\"#636efa\", \"#EF553B\", \"#00cc96\", \"#ab63fa\", \"#FFA15A\", \"#19d3f3\", \"#FF6692\", \"#B6E880\", \"#FF97FF\", \"#FECB52\"], \"font\": {\"color\": \"#2a3f5f\"}, \"geo\": {\"bgcolor\": \"white\", \"lakecolor\": \"white\", \"landcolor\": \"#E5ECF6\", \"showlakes\": true, \"showland\": true, \"subunitcolor\": \"white\"}, \"hoverlabel\": {\"align\": \"left\"}, \"hovermode\": \"closest\", \"mapbox\": {\"style\": \"light\"}, \"paper_bgcolor\": \"white\", \"plot_bgcolor\": \"#E5ECF6\", \"polar\": {\"angularaxis\": {\"gridcolor\": \"white\", \"linecolor\": \"white\", \"ticks\": \"\"}, \"bgcolor\": \"#E5ECF6\", \"radialaxis\": {\"gridcolor\": \"white\", \"linecolor\": \"white\", \"ticks\": \"\"}}, \"scene\": {\"xaxis\": {\"backgroundcolor\": \"#E5ECF6\", \"gridcolor\": \"white\", \"gridwidth\": 2, \"linecolor\": \"white\", \"showbackground\": true, \"ticks\": \"\", \"zerolinecolor\": \"white\"}, \"yaxis\": {\"backgroundcolor\": \"#E5ECF6\", \"gridcolor\": \"white\", \"gridwidth\": 2, \"linecolor\": \"white\", \"showbackground\": true, \"ticks\": \"\", \"zerolinecolor\": \"white\"}, \"zaxis\": {\"backgroundcolor\": \"#E5ECF6\", \"gridcolor\": \"white\", \"gridwidth\": 2, \"linecolor\": \"white\", \"showbackground\": true, \"ticks\": \"\", \"zerolinecolor\": \"white\"}}, \"shapedefaults\": {\"line\": {\"color\": \"#2a3f5f\"}}, \"ternary\": {\"aaxis\": {\"gridcolor\": \"white\", \"linecolor\": \"white\", \"ticks\": \"\"}, \"baxis\": {\"gridcolor\": \"white\", \"linecolor\": \"white\", \"ticks\": \"\"}, \"bgcolor\": \"#E5ECF6\", \"caxis\": {\"gridcolor\": \"white\", \"linecolor\": \"white\", \"ticks\": \"\"}}, \"title\": {\"x\": 0.05}, \"xaxis\": {\"automargin\": true, \"gridcolor\": \"white\", \"linecolor\": \"white\", \"ticks\": \"\", \"title\": {\"standoff\": 15}, \"zerolinecolor\": \"white\", \"zerolinewidth\": 2}, \"yaxis\": {\"automargin\": true, \"gridcolor\": \"white\", \"linecolor\": \"white\", \"ticks\": \"\", \"title\": {\"standoff\": 15}, \"zerolinecolor\": \"white\", \"zerolinewidth\": 2}}}, \"title\": {\"text\": \"Top 30 bi-grams from True News\"}, \"xaxis\": {\"title\": {\"text\": \"bi-gram\"}}, \"yaxis\": {\"title\": {\"text\": \"Count\"}}},\n",
              "                        {\"responsive\": true}\n",
              "                    ).then(function(){\n",
              "                            \n",
              "var gd = document.getElementById('3dab200e-3efd-4b16-8a1d-dad238dce9e5');\n",
              "var x = new MutationObserver(function (mutations, observer) {{\n",
              "        var display = window.getComputedStyle(gd).display;\n",
              "        if (!display || display === 'none') {{\n",
              "            console.log([gd, 'removed!']);\n",
              "            Plotly.purge(gd);\n",
              "            observer.disconnect();\n",
              "        }}\n",
              "}});\n",
              "\n",
              "// Listen for the removal of the full notebook cells\n",
              "var notebookContainer = gd.closest('#notebook-container');\n",
              "if (notebookContainer) {{\n",
              "    x.observe(notebookContainer, {childList: true});\n",
              "}}\n",
              "\n",
              "// Listen for the clearing of the current output cell\n",
              "var outputEl = gd.closest('.output');\n",
              "if (outputEl) {{\n",
              "    x.observe(outputEl, {childList: true});\n",
              "}}\n",
              "\n",
              "                        })\n",
              "                };\n",
              "                \n",
              "            </script>\n",
              "        </div>\n",
              "</body>\n",
              "</html>"
            ]
          },
          "metadata": {
            "tags": []
          }
        }
      ]
    },
    {
      "cell_type": "markdown",
      "metadata": {
        "id": "JgVYR26CRAJ-"
      },
      "source": [
        "Finding top 30 most frequent Tri-grams from Fake News"
      ]
    },
    {
      "cell_type": "code",
      "metadata": {
        "trusted": true,
        "id": "gBgAaBGMRAJ-"
      },
      "source": [
        "trigram_true=(pd.Series(nltk.ngrams(true_words, 3)).value_counts())[:30]"
      ],
      "execution_count": null,
      "outputs": []
    },
    {
      "cell_type": "code",
      "metadata": {
        "trusted": true,
        "id": "p32qSNX_RAJ_"
      },
      "source": [
        "trigram_true=pd.DataFrame(trigram_true)"
      ],
      "execution_count": null,
      "outputs": []
    },
    {
      "cell_type": "code",
      "metadata": {
        "trusted": true,
        "colab": {
          "base_uri": "https://localhost:8080/",
          "height": 979
        },
        "id": "WM8yxAFeRAJ_",
        "outputId": "ee5345c2-eaa4-4b50-db29-0e74d9719424"
      },
      "source": [
        "trigram_true"
      ],
      "execution_count": null,
      "outputs": [
        {
          "output_type": "execute_result",
          "data": {
            "text/html": [
              "<div>\n",
              "<style scoped>\n",
              "    .dataframe tbody tr th:only-of-type {\n",
              "        vertical-align: middle;\n",
              "    }\n",
              "\n",
              "    .dataframe tbody tr th {\n",
              "        vertical-align: top;\n",
              "    }\n",
              "\n",
              "    .dataframe thead th {\n",
              "        text-align: right;\n",
              "    }\n",
              "</style>\n",
              "<table border=\"1\" class=\"dataframe\">\n",
              "  <thead>\n",
              "    <tr style=\"text-align: right;\">\n",
              "      <th></th>\n",
              "      <th>0</th>\n",
              "    </tr>\n",
              "  </thead>\n",
              "  <tbody>\n",
              "    <tr>\n",
              "      <th>(দনক, মতকণঠ, নজসব)</th>\n",
              "      <td>105</td>\n",
              "    </tr>\n",
              "    <tr>\n",
              "      <th>(এক, সবদ, সমমলন)</th>\n",
              "      <td>80</td>\n",
              "    </tr>\n",
              "    <tr>\n",
              "      <th>(ইসলমর, বএনপ, শখর)</th>\n",
              "      <td>78</td>\n",
              "    </tr>\n",
              "    <tr>\n",
              "      <th>(কর, তন, বলন)</th>\n",
              "      <td>65</td>\n",
              "    </tr>\n",
              "    <tr>\n",
              "      <th>(পরধনমনতর, শখ, হসন)</th>\n",
              "      <td>63</td>\n",
              "    </tr>\n",
              "    <tr>\n",
              "      <th>(বহততর, জময়ত, ইসলমর)</th>\n",
              "      <td>60</td>\n",
              "    </tr>\n",
              "    <tr>\n",
              "      <th>(থক, শর, কর)</th>\n",
              "      <td>58</td>\n",
              "    </tr>\n",
              "    <tr>\n",
              "      <th>(সথ, কথ, বল)</th>\n",
              "      <td>57</td>\n",
              "    </tr>\n",
              "    <tr>\n",
              "      <th>(দবতয়, সর, পরধনমনতর)</th>\n",
              "      <td>54</td>\n",
              "    </tr>\n",
              "    <tr>\n",
              "      <th>(বশবর, দবতয়, সর)</th>\n",
              "      <td>52</td>\n",
              "    </tr>\n",
              "    <tr>\n",
              "      <th>(যগযগ, কর, তন)</th>\n",
              "      <td>48</td>\n",
              "    </tr>\n",
              "    <tr>\n",
              "      <th>(জময়ত, ইসলমর, বএনপ)</th>\n",
              "      <td>48</td>\n",
              "    </tr>\n",
              "    <tr>\n",
              "      <th>(আমর, জতয়তবদ, শকতর)</th>\n",
              "      <td>44</td>\n",
              "    </tr>\n",
              "    <tr>\n",
              "      <th>(সমজক, যগযগ, মধযম)</th>\n",
              "      <td>44</td>\n",
              "    </tr>\n",
              "    <tr>\n",
              "      <th>(সথ, যগযগ, কর)</th>\n",
              "      <td>44</td>\n",
              "    </tr>\n",
              "    <tr>\n",
              "      <th>(বহততর, জমযত, ইসলমর)</th>\n",
              "      <td>43</td>\n",
              "    </tr>\n",
              "    <tr>\n",
              "      <th>(জনত, চইল, তন)</th>\n",
              "      <td>40</td>\n",
              "    </tr>\n",
              "    <tr>\n",
              "      <th>(নবল, শনত, পরসকর)</th>\n",
              "      <td>39</td>\n",
              "    </tr>\n",
              "    <tr>\n",
              "      <th>(বল, মন, করন)</th>\n",
              "      <td>37</td>\n",
              "    </tr>\n",
              "    <tr>\n",
              "      <th>(বএনপ, শখর, মহল)</th>\n",
              "      <td>35</td>\n",
              "    </tr>\n",
              "    <tr>\n",
              "      <th>(পরধনমনতর, শখ, হসনর)</th>\n",
              "      <td>35</td>\n",
              "    </tr>\n",
              "    <tr>\n",
              "      <th>(কট, লখ, টক)</th>\n",
              "      <td>35</td>\n",
              "    </tr>\n",
              "    <tr>\n",
              "      <th>(শখর, মহল, আমর)</th>\n",
              "      <td>34</td>\n",
              "    </tr>\n",
              "    <tr>\n",
              "      <th>(পরকশ, ন, করর)</th>\n",
              "      <td>34</td>\n",
              "    </tr>\n",
              "    <tr>\n",
              "      <th>(ন, করর, শরত)</th>\n",
              "      <td>34</td>\n",
              "    </tr>\n",
              "    <tr>\n",
              "      <th>(জমযত, ইসলমর, বএনপ)</th>\n",
              "      <td>33</td>\n",
              "    </tr>\n",
              "    <tr>\n",
              "      <th>(নম, পরকশ, অনচছক)</th>\n",
              "      <td>33</td>\n",
              "    </tr>\n",
              "    <tr>\n",
              "      <th>(কর, পর, ন)</th>\n",
              "      <td>31</td>\n",
              "    </tr>\n",
              "    <tr>\n",
              "      <th>(মরজ, ফখরল, ইসলম)</th>\n",
              "      <td>31</td>\n",
              "    </tr>\n",
              "    <tr>\n",
              "      <th>(কথ, বল, গল)</th>\n",
              "      <td>29</td>\n",
              "    </tr>\n",
              "  </tbody>\n",
              "</table>\n",
              "</div>"
            ],
            "text/plain": [
              "                        0\n",
              "(দনক, মতকণঠ, নজসব)    105\n",
              "(এক, সবদ, সমমলন)       80\n",
              "(ইসলমর, বএনপ, শখর)     78\n",
              "(কর, তন, বলন)          65\n",
              "(পরধনমনতর, শখ, হসন)    63\n",
              "(বহততর, জময়ত, ইসলমর)   60\n",
              "(থক, শর, কর)           58\n",
              "(সথ, কথ, বল)           57\n",
              "(দবতয়, সর, পরধনমনতর)   54\n",
              "(বশবর, দবতয়, সর)       52\n",
              "(যগযগ, কর, তন)         48\n",
              "(জময়ত, ইসলমর, বএনপ)    48\n",
              "(আমর, জতয়তবদ, শকতর)    44\n",
              "(সমজক, যগযগ, মধযম)     44\n",
              "(সথ, যগযগ, কর)         44\n",
              "(বহততর, জমযত, ইসলমর)   43\n",
              "(জনত, চইল, তন)         40\n",
              "(নবল, শনত, পরসকর)      39\n",
              "(বল, মন, করন)          37\n",
              "(বএনপ, শখর, মহল)       35\n",
              "(পরধনমনতর, শখ, হসনর)   35\n",
              "(কট, লখ, টক)           35\n",
              "(শখর, মহল, আমর)        34\n",
              "(পরকশ, ন, করর)         34\n",
              "(ন, করর, শরত)          34\n",
              "(জমযত, ইসলমর, বএনপ)    33\n",
              "(নম, পরকশ, অনচছক)      33\n",
              "(কর, পর, ন)            31\n",
              "(মরজ, ফখরল, ইসলম)      31\n",
              "(কথ, বল, গল)           29"
            ]
          },
          "metadata": {
            "tags": []
          },
          "execution_count": 90
        }
      ]
    },
    {
      "cell_type": "code",
      "metadata": {
        "trusted": true,
        "id": "ge56nmicRAJ_"
      },
      "source": [
        "trigram_true['in']=trigram_true.index"
      ],
      "execution_count": null,
      "outputs": []
    },
    {
      "cell_type": "code",
      "metadata": {
        "trusted": true,
        "id": "eglTl-86RAJ_"
      },
      "source": [
        "trigram_true['in'] = trigram_true.apply(lambda x: '('+x['in'][0]+', '+x['in'][1]+', '+x['in'][2]+')',axis=1)"
      ],
      "execution_count": null,
      "outputs": []
    },
    {
      "cell_type": "code",
      "metadata": {
        "trusted": true,
        "colab": {
          "base_uri": "https://localhost:8080/",
          "height": 542
        },
        "id": "Lh2B4O8GRAJ_",
        "outputId": "aab55b25-10d0-49dd-f4b6-16b69bb115fc"
      },
      "source": [
        "plot_data = [\n",
        "    go.Bar(\n",
        "        x=trigram_true['in'],\n",
        "        y=trigram_true[0],\n",
        "        #name='True',\n",
        "        #x_axis=\"OTI\",\n",
        "        #y_axis=\"time\",\n",
        "        marker = dict(\n",
        "            color = 'Green'\n",
        "        )\n",
        "    )\n",
        "]\n",
        "plot_layout = go.Layout(\n",
        "        title='Top 30 tri-grams from True News',\n",
        "        yaxis_title='Count',\n",
        "        xaxis_title='tri-gram',\n",
        "        plot_bgcolor='rgba(0,0,0,0)'\n",
        "    )\n",
        "fig = go.Figure(data=plot_data, layout=plot_layout)\n",
        "pyoff.iplot(fig)"
      ],
      "execution_count": null,
      "outputs": [
        {
          "output_type": "display_data",
          "data": {
            "text/html": [
              "<html>\n",
              "<head><meta charset=\"utf-8\" /></head>\n",
              "<body>\n",
              "    <div>\n",
              "            <script src=\"https://cdnjs.cloudflare.com/ajax/libs/mathjax/2.7.5/MathJax.js?config=TeX-AMS-MML_SVG\"></script><script type=\"text/javascript\">if (window.MathJax) {MathJax.Hub.Config({SVG: {font: \"STIX-Web\"}});}</script>\n",
              "                <script type=\"text/javascript\">window.PlotlyConfig = {MathJaxConfig: 'local'};</script>\n",
              "        <script src=\"https://cdn.plot.ly/plotly-latest.min.js\"></script>    \n",
              "            <div id=\"655a58ff-d63e-4273-8344-571646442a7d\" class=\"plotly-graph-div\" style=\"height:525px; width:100%;\"></div>\n",
              "            <script type=\"text/javascript\">\n",
              "                \n",
              "                    window.PLOTLYENV=window.PLOTLYENV || {};\n",
              "                    \n",
              "                if (document.getElementById(\"655a58ff-d63e-4273-8344-571646442a7d\")) {\n",
              "                    Plotly.newPlot(\n",
              "                        '655a58ff-d63e-4273-8344-571646442a7d',\n",
              "                        [{\"marker\": {\"color\": \"Green\"}, \"type\": \"bar\", \"x\": [\"(\\u09a6\\u09a8\\u0995, \\u09ae\\u09a4\\u0995\\u09a3\\u09a0, \\u09a8\\u099c\\u09b8\\u09ac)\", \"(\\u098f\\u0995, \\u09b8\\u09ac\\u09a6, \\u09b8\\u09ae\\u09ae\\u09b2\\u09a8)\", \"(\\u0987\\u09b8\\u09b2\\u09ae\\u09b0, \\u09ac\\u098f\\u09a8\\u09aa, \\u09b6\\u0996\\u09b0)\", \"(\\u0995\\u09b0, \\u09a4\\u09a8, \\u09ac\\u09b2\\u09a8)\", \"(\\u09aa\\u09b0\\u09a7\\u09a8\\u09ae\\u09a8\\u09a4\\u09b0, \\u09b6\\u0996, \\u09b9\\u09b8\\u09a8)\", \"(\\u09ac\\u09b9\\u09a4\\u09a4\\u09b0, \\u099c\\u09ae\\u09df\\u09a4, \\u0987\\u09b8\\u09b2\\u09ae\\u09b0)\", \"(\\u09a5\\u0995, \\u09b6\\u09b0, \\u0995\\u09b0)\", \"(\\u09b8\\u09a5, \\u0995\\u09a5, \\u09ac\\u09b2)\", \"(\\u09a6\\u09ac\\u09a4\\u09df, \\u09b8\\u09b0, \\u09aa\\u09b0\\u09a7\\u09a8\\u09ae\\u09a8\\u09a4\\u09b0)\", \"(\\u09ac\\u09b6\\u09ac\\u09b0, \\u09a6\\u09ac\\u09a4\\u09df, \\u09b8\\u09b0)\", \"(\\u09af\\u0997\\u09af\\u0997, \\u0995\\u09b0, \\u09a4\\u09a8)\", \"(\\u099c\\u09ae\\u09df\\u09a4, \\u0987\\u09b8\\u09b2\\u09ae\\u09b0, \\u09ac\\u098f\\u09a8\\u09aa)\", \"(\\u0986\\u09ae\\u09b0, \\u099c\\u09a4\\u09df\\u09a4\\u09ac\\u09a6, \\u09b6\\u0995\\u09a4\\u09b0)\", \"(\\u09b8\\u09ae\\u099c\\u0995, \\u09af\\u0997\\u09af\\u0997, \\u09ae\\u09a7\\u09af\\u09ae)\", \"(\\u09b8\\u09a5, \\u09af\\u0997\\u09af\\u0997, \\u0995\\u09b0)\", \"(\\u09ac\\u09b9\\u09a4\\u09a4\\u09b0, \\u099c\\u09ae\\u09af\\u09a4, \\u0987\\u09b8\\u09b2\\u09ae\\u09b0)\", \"(\\u099c\\u09a8\\u09a4, \\u099a\\u0987\\u09b2, \\u09a4\\u09a8)\", \"(\\u09a8\\u09ac\\u09b2, \\u09b6\\u09a8\\u09a4, \\u09aa\\u09b0\\u09b8\\u0995\\u09b0)\", \"(\\u09ac\\u09b2, \\u09ae\\u09a8, \\u0995\\u09b0\\u09a8)\", \"(\\u09ac\\u098f\\u09a8\\u09aa, \\u09b6\\u0996\\u09b0, \\u09ae\\u09b9\\u09b2)\", \"(\\u09aa\\u09b0\\u09a7\\u09a8\\u09ae\\u09a8\\u09a4\\u09b0, \\u09b6\\u0996, \\u09b9\\u09b8\\u09a8\\u09b0)\", \"(\\u0995\\u099f, \\u09b2\\u0996, \\u099f\\u0995)\", \"(\\u09b6\\u0996\\u09b0, \\u09ae\\u09b9\\u09b2, \\u0986\\u09ae\\u09b0)\", \"(\\u09aa\\u09b0\\u0995\\u09b6, \\u09a8, \\u0995\\u09b0\\u09b0)\", \"(\\u09a8, \\u0995\\u09b0\\u09b0, \\u09b6\\u09b0\\u09a4)\", \"(\\u099c\\u09ae\\u09af\\u09a4, \\u0987\\u09b8\\u09b2\\u09ae\\u09b0, \\u09ac\\u098f\\u09a8\\u09aa)\", \"(\\u09a8\\u09ae, \\u09aa\\u09b0\\u0995\\u09b6, \\u0985\\u09a8\\u099a\\u099b\\u0995)\", \"(\\u0995\\u09b0, \\u09aa\\u09b0, \\u09a8)\", \"(\\u09ae\\u09b0\\u099c, \\u09ab\\u0996\\u09b0\\u09b2, \\u0987\\u09b8\\u09b2\\u09ae)\", \"(\\u0995\\u09a5, \\u09ac\\u09b2, \\u0997\\u09b2)\"], \"y\": [105, 80, 78, 65, 63, 60, 58, 57, 54, 52, 48, 48, 44, 44, 44, 43, 40, 39, 37, 35, 35, 35, 34, 34, 34, 33, 33, 31, 31, 29]}],\n",
              "                        {\"plot_bgcolor\": \"rgba(0,0,0,0)\", \"template\": {\"data\": {\"bar\": [{\"error_x\": {\"color\": \"#2a3f5f\"}, \"error_y\": {\"color\": \"#2a3f5f\"}, \"marker\": {\"line\": {\"color\": \"#E5ECF6\", \"width\": 0.5}}, \"type\": \"bar\"}], \"barpolar\": [{\"marker\": {\"line\": {\"color\": \"#E5ECF6\", \"width\": 0.5}}, \"type\": \"barpolar\"}], \"carpet\": [{\"aaxis\": {\"endlinecolor\": \"#2a3f5f\", \"gridcolor\": \"white\", \"linecolor\": \"white\", \"minorgridcolor\": \"white\", \"startlinecolor\": \"#2a3f5f\"}, \"baxis\": {\"endlinecolor\": \"#2a3f5f\", \"gridcolor\": \"white\", \"linecolor\": \"white\", \"minorgridcolor\": \"white\", \"startlinecolor\": \"#2a3f5f\"}, \"type\": \"carpet\"}], \"choropleth\": [{\"colorbar\": {\"outlinewidth\": 0, \"ticks\": \"\"}, \"type\": \"choropleth\"}], \"contour\": [{\"colorbar\": {\"outlinewidth\": 0, \"ticks\": \"\"}, \"colorscale\": [[0.0, \"#0d0887\"], [0.1111111111111111, \"#46039f\"], [0.2222222222222222, \"#7201a8\"], [0.3333333333333333, \"#9c179e\"], [0.4444444444444444, \"#bd3786\"], [0.5555555555555556, \"#d8576b\"], [0.6666666666666666, \"#ed7953\"], [0.7777777777777778, \"#fb9f3a\"], [0.8888888888888888, \"#fdca26\"], [1.0, \"#f0f921\"]], \"type\": \"contour\"}], \"contourcarpet\": [{\"colorbar\": {\"outlinewidth\": 0, \"ticks\": \"\"}, \"type\": \"contourcarpet\"}], \"heatmap\": [{\"colorbar\": {\"outlinewidth\": 0, \"ticks\": \"\"}, \"colorscale\": [[0.0, \"#0d0887\"], [0.1111111111111111, \"#46039f\"], [0.2222222222222222, \"#7201a8\"], [0.3333333333333333, \"#9c179e\"], [0.4444444444444444, \"#bd3786\"], [0.5555555555555556, \"#d8576b\"], [0.6666666666666666, \"#ed7953\"], [0.7777777777777778, \"#fb9f3a\"], [0.8888888888888888, \"#fdca26\"], [1.0, \"#f0f921\"]], \"type\": \"heatmap\"}], \"heatmapgl\": [{\"colorbar\": {\"outlinewidth\": 0, \"ticks\": \"\"}, \"colorscale\": [[0.0, \"#0d0887\"], [0.1111111111111111, \"#46039f\"], [0.2222222222222222, \"#7201a8\"], [0.3333333333333333, \"#9c179e\"], [0.4444444444444444, \"#bd3786\"], [0.5555555555555556, \"#d8576b\"], [0.6666666666666666, \"#ed7953\"], [0.7777777777777778, \"#fb9f3a\"], [0.8888888888888888, \"#fdca26\"], [1.0, \"#f0f921\"]], \"type\": \"heatmapgl\"}], \"histogram\": [{\"marker\": {\"colorbar\": {\"outlinewidth\": 0, \"ticks\": \"\"}}, \"type\": \"histogram\"}], \"histogram2d\": [{\"colorbar\": {\"outlinewidth\": 0, \"ticks\": \"\"}, \"colorscale\": [[0.0, \"#0d0887\"], [0.1111111111111111, \"#46039f\"], [0.2222222222222222, \"#7201a8\"], [0.3333333333333333, \"#9c179e\"], [0.4444444444444444, \"#bd3786\"], [0.5555555555555556, \"#d8576b\"], [0.6666666666666666, \"#ed7953\"], [0.7777777777777778, \"#fb9f3a\"], [0.8888888888888888, \"#fdca26\"], [1.0, \"#f0f921\"]], \"type\": \"histogram2d\"}], \"histogram2dcontour\": [{\"colorbar\": {\"outlinewidth\": 0, \"ticks\": \"\"}, \"colorscale\": [[0.0, \"#0d0887\"], [0.1111111111111111, \"#46039f\"], [0.2222222222222222, \"#7201a8\"], [0.3333333333333333, \"#9c179e\"], [0.4444444444444444, \"#bd3786\"], [0.5555555555555556, \"#d8576b\"], [0.6666666666666666, \"#ed7953\"], [0.7777777777777778, \"#fb9f3a\"], [0.8888888888888888, \"#fdca26\"], [1.0, \"#f0f921\"]], \"type\": \"histogram2dcontour\"}], \"mesh3d\": [{\"colorbar\": {\"outlinewidth\": 0, \"ticks\": \"\"}, \"type\": \"mesh3d\"}], \"parcoords\": [{\"line\": {\"colorbar\": {\"outlinewidth\": 0, \"ticks\": \"\"}}, \"type\": \"parcoords\"}], \"pie\": [{\"automargin\": true, \"type\": \"pie\"}], \"scatter\": [{\"marker\": {\"colorbar\": {\"outlinewidth\": 0, \"ticks\": \"\"}}, \"type\": \"scatter\"}], \"scatter3d\": [{\"line\": {\"colorbar\": {\"outlinewidth\": 0, \"ticks\": \"\"}}, \"marker\": {\"colorbar\": {\"outlinewidth\": 0, \"ticks\": \"\"}}, \"type\": \"scatter3d\"}], \"scattercarpet\": [{\"marker\": {\"colorbar\": {\"outlinewidth\": 0, \"ticks\": \"\"}}, \"type\": \"scattercarpet\"}], \"scattergeo\": [{\"marker\": {\"colorbar\": {\"outlinewidth\": 0, \"ticks\": \"\"}}, \"type\": \"scattergeo\"}], \"scattergl\": [{\"marker\": {\"colorbar\": {\"outlinewidth\": 0, \"ticks\": \"\"}}, \"type\": \"scattergl\"}], \"scattermapbox\": [{\"marker\": {\"colorbar\": {\"outlinewidth\": 0, \"ticks\": \"\"}}, \"type\": \"scattermapbox\"}], \"scatterpolar\": [{\"marker\": {\"colorbar\": {\"outlinewidth\": 0, \"ticks\": \"\"}}, \"type\": \"scatterpolar\"}], \"scatterpolargl\": [{\"marker\": {\"colorbar\": {\"outlinewidth\": 0, \"ticks\": \"\"}}, \"type\": \"scatterpolargl\"}], \"scatterternary\": [{\"marker\": {\"colorbar\": {\"outlinewidth\": 0, \"ticks\": \"\"}}, \"type\": \"scatterternary\"}], \"surface\": [{\"colorbar\": {\"outlinewidth\": 0, \"ticks\": \"\"}, \"colorscale\": [[0.0, \"#0d0887\"], [0.1111111111111111, \"#46039f\"], [0.2222222222222222, \"#7201a8\"], [0.3333333333333333, \"#9c179e\"], [0.4444444444444444, \"#bd3786\"], [0.5555555555555556, \"#d8576b\"], [0.6666666666666666, \"#ed7953\"], [0.7777777777777778, \"#fb9f3a\"], [0.8888888888888888, \"#fdca26\"], [1.0, \"#f0f921\"]], \"type\": \"surface\"}], \"table\": [{\"cells\": {\"fill\": {\"color\": \"#EBF0F8\"}, \"line\": {\"color\": \"white\"}}, \"header\": {\"fill\": {\"color\": \"#C8D4E3\"}, \"line\": {\"color\": \"white\"}}, \"type\": \"table\"}]}, \"layout\": {\"annotationdefaults\": {\"arrowcolor\": \"#2a3f5f\", \"arrowhead\": 0, \"arrowwidth\": 1}, \"coloraxis\": {\"colorbar\": {\"outlinewidth\": 0, \"ticks\": \"\"}}, \"colorscale\": {\"diverging\": [[0, \"#8e0152\"], [0.1, \"#c51b7d\"], [0.2, \"#de77ae\"], [0.3, \"#f1b6da\"], [0.4, \"#fde0ef\"], [0.5, \"#f7f7f7\"], [0.6, \"#e6f5d0\"], [0.7, \"#b8e186\"], [0.8, \"#7fbc41\"], [0.9, \"#4d9221\"], [1, \"#276419\"]], \"sequential\": [[0.0, \"#0d0887\"], [0.1111111111111111, \"#46039f\"], [0.2222222222222222, \"#7201a8\"], [0.3333333333333333, \"#9c179e\"], [0.4444444444444444, \"#bd3786\"], [0.5555555555555556, \"#d8576b\"], [0.6666666666666666, \"#ed7953\"], [0.7777777777777778, \"#fb9f3a\"], [0.8888888888888888, \"#fdca26\"], [1.0, \"#f0f921\"]], \"sequentialminus\": [[0.0, \"#0d0887\"], [0.1111111111111111, \"#46039f\"], [0.2222222222222222, \"#7201a8\"], [0.3333333333333333, \"#9c179e\"], [0.4444444444444444, \"#bd3786\"], [0.5555555555555556, \"#d8576b\"], [0.6666666666666666, \"#ed7953\"], [0.7777777777777778, \"#fb9f3a\"], [0.8888888888888888, \"#fdca26\"], [1.0, \"#f0f921\"]]}, \"colorway\": [\"#636efa\", \"#EF553B\", \"#00cc96\", \"#ab63fa\", \"#FFA15A\", \"#19d3f3\", \"#FF6692\", \"#B6E880\", \"#FF97FF\", \"#FECB52\"], \"font\": {\"color\": \"#2a3f5f\"}, \"geo\": {\"bgcolor\": \"white\", \"lakecolor\": \"white\", \"landcolor\": \"#E5ECF6\", \"showlakes\": true, \"showland\": true, \"subunitcolor\": \"white\"}, \"hoverlabel\": {\"align\": \"left\"}, \"hovermode\": \"closest\", \"mapbox\": {\"style\": \"light\"}, \"paper_bgcolor\": \"white\", \"plot_bgcolor\": \"#E5ECF6\", \"polar\": {\"angularaxis\": {\"gridcolor\": \"white\", \"linecolor\": \"white\", \"ticks\": \"\"}, \"bgcolor\": \"#E5ECF6\", \"radialaxis\": {\"gridcolor\": \"white\", \"linecolor\": \"white\", \"ticks\": \"\"}}, \"scene\": {\"xaxis\": {\"backgroundcolor\": \"#E5ECF6\", \"gridcolor\": \"white\", \"gridwidth\": 2, \"linecolor\": \"white\", \"showbackground\": true, \"ticks\": \"\", \"zerolinecolor\": \"white\"}, \"yaxis\": {\"backgroundcolor\": \"#E5ECF6\", \"gridcolor\": \"white\", \"gridwidth\": 2, \"linecolor\": \"white\", \"showbackground\": true, \"ticks\": \"\", \"zerolinecolor\": \"white\"}, \"zaxis\": {\"backgroundcolor\": \"#E5ECF6\", \"gridcolor\": \"white\", \"gridwidth\": 2, \"linecolor\": \"white\", \"showbackground\": true, \"ticks\": \"\", \"zerolinecolor\": \"white\"}}, \"shapedefaults\": {\"line\": {\"color\": \"#2a3f5f\"}}, \"ternary\": {\"aaxis\": {\"gridcolor\": \"white\", \"linecolor\": \"white\", \"ticks\": \"\"}, \"baxis\": {\"gridcolor\": \"white\", \"linecolor\": \"white\", \"ticks\": \"\"}, \"bgcolor\": \"#E5ECF6\", \"caxis\": {\"gridcolor\": \"white\", \"linecolor\": \"white\", \"ticks\": \"\"}}, \"title\": {\"x\": 0.05}, \"xaxis\": {\"automargin\": true, \"gridcolor\": \"white\", \"linecolor\": \"white\", \"ticks\": \"\", \"title\": {\"standoff\": 15}, \"zerolinecolor\": \"white\", \"zerolinewidth\": 2}, \"yaxis\": {\"automargin\": true, \"gridcolor\": \"white\", \"linecolor\": \"white\", \"ticks\": \"\", \"title\": {\"standoff\": 15}, \"zerolinecolor\": \"white\", \"zerolinewidth\": 2}}}, \"title\": {\"text\": \"Top 30 tri-grams from True News\"}, \"xaxis\": {\"title\": {\"text\": \"tri-gram\"}}, \"yaxis\": {\"title\": {\"text\": \"Count\"}}},\n",
              "                        {\"responsive\": true}\n",
              "                    ).then(function(){\n",
              "                            \n",
              "var gd = document.getElementById('655a58ff-d63e-4273-8344-571646442a7d');\n",
              "var x = new MutationObserver(function (mutations, observer) {{\n",
              "        var display = window.getComputedStyle(gd).display;\n",
              "        if (!display || display === 'none') {{\n",
              "            console.log([gd, 'removed!']);\n",
              "            Plotly.purge(gd);\n",
              "            observer.disconnect();\n",
              "        }}\n",
              "}});\n",
              "\n",
              "// Listen for the removal of the full notebook cells\n",
              "var notebookContainer = gd.closest('#notebook-container');\n",
              "if (notebookContainer) {{\n",
              "    x.observe(notebookContainer, {childList: true});\n",
              "}}\n",
              "\n",
              "// Listen for the clearing of the current output cell\n",
              "var outputEl = gd.closest('.output');\n",
              "if (outputEl) {{\n",
              "    x.observe(outputEl, {childList: true});\n",
              "}}\n",
              "\n",
              "                        })\n",
              "                };\n",
              "                \n",
              "            </script>\n",
              "        </div>\n",
              "</body>\n",
              "</html>"
            ]
          },
          "metadata": {
            "tags": []
          }
        }
      ]
    },
    {
      "cell_type": "markdown",
      "metadata": {
        "id": "S7Q8OdK7RAKA"
      },
      "source": [
        "word2vec:\n",
        "1. Word2vec is a two-layer neural net that processes text by “vectorizing” words. Its input is a text corpus and its output is a set of vectors: feature vectors that represent words in that corpus. While Word2vec is not a deep neural network, it turns text into a numerical form that deep neural networks can understand."
      ]
    },
    {
      "cell_type": "code",
      "metadata": {
        "colab": {
          "base_uri": "https://localhost:8080/"
        },
        "id": "Cfs9et6IV4ip",
        "outputId": "644e9ab5-fd9f-4518-8acd-889a50fecfc6"
      },
      "source": [
        "import nltk\n",
        "nltk.download('punkt')"
      ],
      "execution_count": null,
      "outputs": [
        {
          "output_type": "stream",
          "text": [
            "[nltk_data] Downloading package punkt to /root/nltk_data...\n",
            "[nltk_data]   Unzipping tokenizers/punkt.zip.\n"
          ],
          "name": "stdout"
        },
        {
          "output_type": "execute_result",
          "data": {
            "text/plain": [
              "True"
            ]
          },
          "metadata": {
            "tags": []
          },
          "execution_count": 294
        }
      ]
    },
    {
      "cell_type": "code",
      "metadata": {
        "trusted": true,
        "id": "5J9E_xunRAKA"
      },
      "source": [
        "y = df_['Target'].values\n",
        "#Converting X to format acceptable by gensim, removing annd punctuation stopwords in the process\n",
        "X = []\n",
        "stop_words = set(nltk.corpus.stopwords.words(\"english\"))\n",
        "tokenizer = nltk.tokenize.RegexpTokenizer(r'\\w+')\n",
        "for par in df_[\"news\"].values:\n",
        "    tmp = []\n",
        "    sentences = nltk.sent_tokenize(par)\n",
        "    for sent in sentences:\n",
        "        sent = sent.lower()\n",
        "        tokens = tokenizer.tokenize(sent)\n",
        "        filtered_words = [w.strip() for w in tokens if w not in stop_words and len(w) > 1]\n",
        "        tmp.extend(filtered_words)\n",
        "    X.append(tmp)\n",
        "\n",
        "#del data"
      ],
      "execution_count": null,
      "outputs": []
    },
    {
      "cell_type": "code",
      "metadata": {
        "trusted": true,
        "id": "2v0qc6ivRAKA"
      },
      "source": [
        "import gensim"
      ],
      "execution_count": null,
      "outputs": []
    },
    {
      "cell_type": "code",
      "metadata": {
        "trusted": true,
        "id": "I0pjGQoXRAKA"
      },
      "source": [
        "#Dimension of vectors we are generating\n",
        "EMBEDDING_DIM = 100\n",
        "\n",
        "#Creating Word Vectors by Word2Vec Method (takes time...)\n",
        "w2v_model = gensim.models.Word2Vec(sentences=X, size=EMBEDDING_DIM, window=5, min_count=1)"
      ],
      "execution_count": null,
      "outputs": []
    },
    {
      "cell_type": "code",
      "metadata": {
        "trusted": true,
        "colab": {
          "base_uri": "https://localhost:8080/"
        },
        "id": "NqiRo02PRAKA",
        "outputId": "465c80f8-90a9-48d7-ff44-ed2c74db03eb"
      },
      "source": [
        "len(w2v_model.wv.vocab)"
      ],
      "execution_count": null,
      "outputs": [
        {
          "output_type": "execute_result",
          "data": {
            "text/plain": [
              "231254"
            ]
          },
          "metadata": {
            "tags": []
          },
          "execution_count": 298
        }
      ]
    },
    {
      "cell_type": "code",
      "metadata": {
        "trusted": true,
        "colab": {
          "base_uri": "https://localhost:8080/"
        },
        "id": "HgihocXZRAKA",
        "outputId": "760a70b4-5877-4abf-8d86-dd331c304f62"
      },
      "source": [
        "w2v_model[\"trump\"]"
      ],
      "execution_count": null,
      "outputs": [
        {
          "output_type": "stream",
          "text": [
            "/usr/local/lib/python3.7/dist-packages/ipykernel_launcher.py:1: DeprecationWarning:\n",
            "\n",
            "Call to deprecated `__getitem__` (Method will be removed in 4.0.0, use self.wv.__getitem__() instead).\n",
            "\n"
          ],
          "name": "stderr"
        },
        {
          "output_type": "execute_result",
          "data": {
            "text/plain": [
              "array([ 2.05531   , -2.9617028 , -0.7854825 , -0.36760744,  2.5336046 ,\n",
              "       -1.3119483 , -0.7589394 ,  3.2057965 ,  0.1616122 ,  0.9899191 ,\n",
              "       -1.139112  , -0.6119352 ,  1.4914436 ,  0.44842985, -0.38352597,\n",
              "       -0.87395966,  0.49283966,  1.1461942 , -0.33340964,  2.4295132 ,\n",
              "       -1.3891916 ,  1.3449106 ,  3.0899277 ,  0.5718505 , -3.1736355 ,\n",
              "       -1.090971  , -0.6791416 ,  2.7994847 , -2.6523933 ,  0.5865085 ,\n",
              "        1.7795277 ,  3.2398965 , -0.14617823,  1.2354126 ,  0.9874784 ,\n",
              "       -2.6415813 ,  0.3468768 ,  4.6719813 , -0.79333   ,  0.2865809 ,\n",
              "        2.8682742 , -1.4315444 ,  3.194748  , -0.8396188 , -1.218459  ,\n",
              "        2.3892548 , -0.75866735,  0.15856436, -0.00538783,  2.499257  ,\n",
              "       -0.20314474,  2.6480231 ,  0.293052  , -0.771929  ,  1.9668466 ,\n",
              "       -1.4990216 ,  1.0806785 ,  0.7811126 ,  1.8484061 , -2.917542  ,\n",
              "       -0.6708054 , -2.2725556 , -0.06927612, -0.24091387, -1.9859134 ,\n",
              "        0.59784406, -0.812095  ,  1.4159677 , -0.265973  , -0.22959283,\n",
              "       -2.0996404 ,  0.8156368 , -0.01036448, -1.0245982 , -2.0395372 ,\n",
              "       -4.10945   ,  0.39357516,  0.34105375,  1.6616672 , -1.6256679 ,\n",
              "       -2.1302514 , -0.19436818, -1.5803449 , -1.145015  , -0.18668923,\n",
              "        0.8256065 , -1.9259412 , -0.65018266,  0.12849973, -1.5355058 ,\n",
              "        0.24499533,  3.5982819 ,  0.9456815 ,  0.32793462, -2.1944728 ,\n",
              "        2.1983213 ,  2.182877  , -2.0083725 ,  0.49967605, -1.1460953 ],\n",
              "      dtype=float32)"
            ]
          },
          "metadata": {
            "tags": []
          },
          "execution_count": 299
        }
      ]
    },
    {
      "cell_type": "markdown",
      "metadata": {
        "id": "oMnsnl2LRAKA"
      },
      "source": [
        "Finding most similar words using word2vec"
      ]
    },
    {
      "cell_type": "code",
      "metadata": {
        "trusted": true,
        "colab": {
          "base_uri": "https://localhost:8080/"
        },
        "id": "nzsipewgRAKA",
        "outputId": "9a3d0b8e-8dd1-4e99-db48-0d01f55a1197"
      },
      "source": [
        "w2v_model.wv.most_similar(\"trump\")"
      ],
      "execution_count": null,
      "outputs": [
        {
          "output_type": "execute_result",
          "data": {
            "text/plain": [
              "[('trumps', 0.8000591993331909),\n",
              " ('presidentelect', 0.6066080331802368),\n",
              " ('laughterhe', 0.5507999658584595),\n",
              " ('obama', 0.534212589263916),\n",
              " ('trumpit', 0.5314359664916992),\n",
              " ('trumptrump', 0.5156477689743042),\n",
              " ('trumpcorum', 0.5091930627822876),\n",
              " ('course', 0.5083441734313965),\n",
              " ('expectit', 0.5014913082122803),\n",
              " ('rumsfeldfeatured', 0.5005301237106323)]"
            ]
          },
          "metadata": {
            "tags": []
          },
          "execution_count": 300
        }
      ]
    },
    {
      "cell_type": "code",
      "metadata": {
        "trusted": true,
        "colab": {
          "base_uri": "https://localhost:8080/"
        },
        "id": "IWWeNs4IRAKB",
        "outputId": "c5748826-89c5-406e-d083-c49bdc09ccb6"
      },
      "source": [
        "w2v_model.wv.most_similar(\"obama\")"
      ],
      "execution_count": null,
      "outputs": [
        {
          "output_type": "execute_result",
          "data": {
            "text/plain": [
              "[('obamas', 0.8376255631446838),\n",
              " ('obamathe', 0.7918360233306885),\n",
              " ('obamadespite', 0.7455167174339294),\n",
              " ('obama1', 0.7390596866607666),\n",
              " ('protesterswas', 0.7383507490158081),\n",
              " ('obamamaher', 0.7325221300125122),\n",
              " ('obamawe', 0.7289390563964844),\n",
              " ('obamaof', 0.7069481611251831),\n",
              " ('checkhouser', 0.7064477801322937),\n",
              " ('obamaking', 0.7022935152053833)]"
            ]
          },
          "metadata": {
            "tags": []
          },
          "execution_count": 301
        }
      ]
    },
    {
      "cell_type": "code",
      "metadata": {
        "trusted": true,
        "colab": {
          "base_uri": "https://localhost:8080/"
        },
        "id": "fclYXnaARAKB",
        "outputId": "a12aa099-7f9f-4557-fbb0-5f2ab41b1ffc"
      },
      "source": [
        "w2v_model.wv.most_similar(\"news\")"
      ],
      "execution_count": null,
      "outputs": [
        {
          "output_type": "execute_result",
          "data": {
            "text/plain": [
              "[('newshaving', 0.6766164302825928),\n",
              " ('newswatch', 0.6709648370742798),\n",
              " ('newsthe', 0.6664431691169739),\n",
              " ('staci', 0.66457200050354),\n",
              " ('newsmeanwhile', 0.6431114673614502),\n",
              " ('newsjames', 0.6362629532814026),\n",
              " ('newssorry', 0.6233739852905273),\n",
              " ('newstrump', 0.6186249256134033),\n",
              " ('nr4n1i601l', 0.6179841756820679),\n",
              " ('detroitimage', 0.6153886318206787)]"
            ]
          },
          "metadata": {
            "tags": []
          },
          "execution_count": 302
        }
      ]
    },
    {
      "cell_type": "markdown",
      "metadata": {
        "id": "Y2vrDcs_RAKB"
      },
      "source": [
        "Modeling (To Detect Fake news)"
      ]
    },
    {
      "cell_type": "code",
      "metadata": {
        "trusted": true,
        "id": "xxGxYKwcRAKB"
      },
      "source": [
        "from sklearn.model_selection import train_test_split\n",
        "\n",
        "\n",
        "X_train, X_test, y_train, y_test = train_test_split(df_['news'], \n",
        "                                                    df_['Target'], \n",
        "                                                    random_state=0)"
      ],
      "execution_count": null,
      "outputs": []
    },
    {
      "cell_type": "markdown",
      "metadata": {
        "id": "Esimg_tERAKB"
      },
      "source": [
        "Using CountVectorizer"
      ]
    },
    {
      "cell_type": "code",
      "metadata": {
        "trusted": true,
        "id": "d6gzRh_gRAKB"
      },
      "source": [
        "from sklearn.feature_extraction.text import CountVectorizer\n",
        "\n",
        "# Fit the CountVectorizer to the training data\n",
        "vect = CountVectorizer().fit(X_train)"
      ],
      "execution_count": null,
      "outputs": []
    },
    {
      "cell_type": "code",
      "metadata": {
        "trusted": true,
        "colab": {
          "base_uri": "https://localhost:8080/"
        },
        "id": "7XE8zQ00RAKB",
        "outputId": "d6b4b52f-f57d-4041-9260-a0bee57828bf"
      },
      "source": [
        "X_train_vectorized = vect.transform(X_train)\n",
        "\n",
        "X_train_vectorized"
      ],
      "execution_count": null,
      "outputs": [
        {
          "output_type": "execute_result",
          "data": {
            "text/plain": [
              "<33666x200716 sparse matrix of type '<class 'numpy.int64'>'\n",
              "\twith 7219466 stored elements in Compressed Sparse Row format>"
            ]
          },
          "metadata": {
            "tags": []
          },
          "execution_count": 305
        }
      ]
    },
    {
      "cell_type": "markdown",
      "metadata": {
        "id": "Q8868jeCRAKC"
      },
      "source": [
        "Logistic Regression"
      ]
    },
    {
      "cell_type": "code",
      "metadata": {
        "trusted": true,
        "colab": {
          "base_uri": "https://localhost:8080/"
        },
        "id": "tvNG_8HBRAKC",
        "outputId": "b8d5159b-a38c-4537-d185-003a4cac8caf"
      },
      "source": [
        "from sklearn.linear_model import LogisticRegression\n",
        "\n",
        "# Train the model\n",
        "model = LogisticRegression()\n",
        "model.fit(X_train_vectorized, y_train)"
      ],
      "execution_count": null,
      "outputs": [
        {
          "output_type": "stream",
          "text": [
            "/usr/local/lib/python3.7/dist-packages/sklearn/linear_model/_logistic.py:940: ConvergenceWarning:\n",
            "\n",
            "lbfgs failed to converge (status=1):\n",
            "STOP: TOTAL NO. of ITERATIONS REACHED LIMIT.\n",
            "\n",
            "Increase the number of iterations (max_iter) or scale the data as shown in:\n",
            "    https://scikit-learn.org/stable/modules/preprocessing.html\n",
            "Please also refer to the documentation for alternative solver options:\n",
            "    https://scikit-learn.org/stable/modules/linear_model.html#logistic-regression\n",
            "\n"
          ],
          "name": "stderr"
        },
        {
          "output_type": "execute_result",
          "data": {
            "text/plain": [
              "LogisticRegression(C=1.0, class_weight=None, dual=False, fit_intercept=True,\n",
              "                   intercept_scaling=1, l1_ratio=None, max_iter=100,\n",
              "                   multi_class='auto', n_jobs=None, penalty='l2',\n",
              "                   random_state=None, solver='lbfgs', tol=0.0001, verbose=0,\n",
              "                   warm_start=False)"
            ]
          },
          "metadata": {
            "tags": []
          },
          "execution_count": 306
        }
      ]
    },
    {
      "cell_type": "code",
      "metadata": {
        "trusted": true,
        "colab": {
          "base_uri": "https://localhost:8080/"
        },
        "id": "xYrjKlA1RAKC",
        "outputId": "684754f3-1ffe-4221-d3c6-27463eb1d583"
      },
      "source": [
        "from sklearn.metrics import roc_auc_score\n",
        "\n",
        "# Predict the transformed test documents\n",
        "predictions = model.predict(vect.transform(X_test))\n",
        "\n",
        "print('AUC: ', roc_auc_score(y_test, predictions))"
      ],
      "execution_count": null,
      "outputs": [
        {
          "output_type": "stream",
          "text": [
            "AUC:  0.9984860149632885\n"
          ],
          "name": "stdout"
        }
      ]
    },
    {
      "cell_type": "markdown",
      "metadata": {
        "id": "4JUYy_DwRAKC"
      },
      "source": [
        "AUC is 0.9984 which means this model is a good fit."
      ]
    },
    {
      "cell_type": "code",
      "metadata": {
        "trusted": true,
        "colab": {
          "base_uri": "https://localhost:8080/"
        },
        "id": "3tNz8K9WRAKC",
        "outputId": "0a26f71b-b747-4f59-8c8e-8b17ee5cc44d"
      },
      "source": [
        "from sklearn import metrics\n",
        "print(metrics.confusion_matrix(y_test, predictions, labels=[0, 1]))\n",
        "# Printing the precision and recall, among other metrics\n",
        "print(metrics.classification_report(y_test, predictions, labels=[0, 1]))"
      ],
      "execution_count": null,
      "outputs": [
        {
          "output_type": "stream",
          "text": [
            "[[5345    8]\n",
            " [   9 5860]]\n",
            "              precision    recall  f1-score   support\n",
            "\n",
            "           0       1.00      1.00      1.00      5353\n",
            "           1       1.00      1.00      1.00      5869\n",
            "\n",
            "    accuracy                           1.00     11222\n",
            "   macro avg       1.00      1.00      1.00     11222\n",
            "weighted avg       1.00      1.00      1.00     11222\n",
            "\n"
          ],
          "name": "stdout"
        }
      ]
    },
    {
      "cell_type": "code",
      "metadata": {
        "trusted": true,
        "id": "wARZ7U06RAKC"
      },
      "source": [
        "from sklearn.metrics import confusion_matrix\n",
        "cm = confusion_matrix(y_test, predictions , labels=[0, 1])"
      ],
      "execution_count": null,
      "outputs": []
    },
    {
      "cell_type": "markdown",
      "metadata": {
        "id": "Q51nfV5dRAKC"
      },
      "source": [
        "Confusion Matrix"
      ]
    },
    {
      "cell_type": "code",
      "metadata": {
        "trusted": true,
        "colab": {
          "base_uri": "https://localhost:8080/",
          "height": 296
        },
        "id": "gn4NlF8DRAKD",
        "outputId": "0aef6105-482d-4ef0-e7fa-d04d1e5a72f7"
      },
      "source": [
        "ax= plt.subplot()\n",
        "sns.heatmap(cm, annot=True, ax= ax)\n",
        "ax.set_ylabel('y_test')\n",
        "ax.set_xlabel('predictions')"
      ],
      "execution_count": null,
      "outputs": [
        {
          "output_type": "execute_result",
          "data": {
            "text/plain": [
              "Text(0.5, 15.0, 'predictions')"
            ]
          },
          "metadata": {
            "tags": []
          },
          "execution_count": 310
        },
        {
          "output_type": "display_data",
          "data": {
            "image/png": "[encoded data removed]",
            "text/plain": [
              "<Figure size 432x288 with 2 Axes>"
            ]
          },
          "metadata": {
            "tags": [],
            "needs_background": "light"
          }
        }
      ]
    },
    {
      "cell_type": "code",
      "metadata": {
        "trusted": true,
        "colab": {
          "base_uri": "https://localhost:8080/"
        },
        "id": "R3EiHOJoRAKD",
        "outputId": "8122ac36-43eb-4322-f741-f0585526a1ae"
      },
      "source": [
        "# get the feature names as numpy array\n",
        "feature_names = np.array(vect.get_feature_names())\n",
        "\n",
        "# Sort the coefficients from the model\n",
        "sorted_coef_index = model.coef_[0].argsort()\n",
        "\n",
        "# Find the 10 smallest and 10 largest coefficients\n",
        "# The 10 largest coefficients are being indexed using [:-11:-1] \n",
        "# so the list returned is in order of largest to smallest\n",
        "print('Smallest Coefs:\\n{}\\n'.format(feature_names[sorted_coef_index[:10]]))\n",
        "print('Largest Coefs: \\n{}'.format(feature_names[sorted_coef_index[:-11:-1]]))"
      ],
      "execution_count": null,
      "outputs": [
        {
          "output_type": "stream",
          "text": [
            "Smallest Coefs:\n",
            "['reuters' 'politicsnews' 'worldnews' 'trumps' 'said' 'washington'\n",
            " 'thursday' 'wednesday' 'saying' 'im']\n",
            "\n",
            "Largest Coefs: \n",
            "['politics' 'leftnews' 'video' 'via' 'news' 'breaking' 're' 'image' 'just'\n",
            " 'wire']\n"
          ],
          "name": "stdout"
        }
      ]
    },
    {
      "cell_type": "markdown",
      "metadata": {
        "id": "qgoiacqpRAKD"
      },
      "source": [
        "Multinomial Naive Bayes"
      ]
    },
    {
      "cell_type": "code",
      "metadata": {
        "trusted": true,
        "id": "z4ngItZIRAKD"
      },
      "source": [
        "from sklearn.naive_bayes import MultinomialNB \n",
        "vectorizer = CountVectorizer() \n",
        "X_train_transformed = vectorizer.fit_transform(X_train) \n",
        "X_test_transformed = vectorizer.transform(X_test)\n",
        "\n",
        "clf = MultinomialNB(alpha=0.1) \n",
        "clf.fit(X_train_transformed, y_train)\n",
        "\n",
        "y_predicted = clf.predict(X_test_transformed)"
      ],
      "execution_count": null,
      "outputs": []
    },
    {
      "cell_type": "code",
      "metadata": {
        "trusted": true,
        "colab": {
          "base_uri": "https://localhost:8080/"
        },
        "id": "l_-1GVpfRAKD",
        "outputId": "4cacd493-f872-4ac0-9507-420217cc1b1b"
      },
      "source": [
        "print('AUC: ', roc_auc_score(y_test, y_predicted))"
      ],
      "execution_count": null,
      "outputs": [
        {
          "output_type": "stream",
          "text": [
            "AUC:  0.9740169553464733\n"
          ],
          "name": "stdout"
        }
      ]
    },
    {
      "cell_type": "markdown",
      "metadata": {
        "id": "wBAEJ-0MRAKD"
      },
      "source": [
        "Confusion Matrix"
      ]
    },
    {
      "cell_type": "code",
      "metadata": {
        "trusted": true,
        "colab": {
          "base_uri": "https://localhost:8080/"
        },
        "id": "1ydnHko9RAKD",
        "outputId": "441edd38-579c-4e74-e3ab-202be52f6a74"
      },
      "source": [
        "from sklearn import metrics\n",
        "print(metrics.confusion_matrix(y_test, y_predicted, labels=[0, 1]))\n",
        "# Printing the precision and recall, among other metrics\n",
        "print(metrics.classification_report(y_test, y_predicted, labels=[0, 1]))"
      ],
      "execution_count": null,
      "outputs": [
        {
          "output_type": "stream",
          "text": [
            "[[5239  114]\n",
            " [ 180 5689]]\n",
            "              precision    recall  f1-score   support\n",
            "\n",
            "           0       0.97      0.98      0.97      5353\n",
            "           1       0.98      0.97      0.97      5869\n",
            "\n",
            "    accuracy                           0.97     11222\n",
            "   macro avg       0.97      0.97      0.97     11222\n",
            "weighted avg       0.97      0.97      0.97     11222\n",
            "\n"
          ],
          "name": "stdout"
        }
      ]
    },
    {
      "cell_type": "code",
      "metadata": {
        "trusted": true,
        "colab": {
          "base_uri": "https://localhost:8080/",
          "height": 296
        },
        "id": "hxkwBSJ-RAKE",
        "outputId": "3c0858d0-c55f-4edd-c77c-7ab5b4bca0c6"
      },
      "source": [
        "ax= plt.subplot()\n",
        "sns.heatmap(cm, annot=True, ax= ax)\n",
        "ax.set_ylabel('y_test')\n",
        "ax.set_xlabel('predictions')"
      ],
      "execution_count": null,
      "outputs": [
        {
          "output_type": "execute_result",
          "data": {
            "text/plain": [
              "Text(0.5, 15.0, 'predictions')"
            ]
          },
          "metadata": {
            "tags": []
          },
          "execution_count": 315
        },
        {
          "output_type": "display_data",
          "data": {
            "image/png": "[encoded data removed]",
            "text/plain": [
              "<Figure size 432x288 with 2 Axes>"
            ]
          },
          "metadata": {
            "tags": [],
            "needs_background": "light"
          }
        }
      ]
    },
    {
      "cell_type": "markdown",
      "metadata": {
        "id": "89rDrqakRAKE"
      },
      "source": [
        "Using TfidfVectorizer"
      ]
    },
    {
      "cell_type": "code",
      "metadata": {
        "trusted": true,
        "colab": {
          "base_uri": "https://localhost:8080/"
        },
        "id": "h5sEs08PRAKE",
        "outputId": "8926e965-3d81-4da1-84f6-638940178b0b"
      },
      "source": [
        "from sklearn.feature_extraction.text import TfidfVectorizer\n",
        "\n",
        "# Fit the TfidfVectorizer to the training data specifiying a minimum document frequency of 5\n",
        "vect = TfidfVectorizer(min_df=5).fit(X_train)\n",
        "len(vect.get_feature_names())"
      ],
      "execution_count": null,
      "outputs": [
        {
          "output_type": "execute_result",
          "data": {
            "text/plain": [
              "41313"
            ]
          },
          "metadata": {
            "tags": []
          },
          "execution_count": 316
        }
      ]
    },
    {
      "cell_type": "markdown",
      "metadata": {
        "id": "OX9ndWE4RAKE"
      },
      "source": [
        "Logistic Regression"
      ]
    },
    {
      "cell_type": "code",
      "metadata": {
        "trusted": true,
        "colab": {
          "base_uri": "https://localhost:8080/"
        },
        "id": "Bwuw-fbkRAKE",
        "outputId": "7ed481d6-88f1-43fc-da48-a72d8b1fb95d"
      },
      "source": [
        "X_train_vectorized = vect.transform(X_train)\n",
        "\n",
        "model = LogisticRegression()\n",
        "model.fit(X_train_vectorized, y_train)\n",
        "\n",
        "predictions = model.predict(vect.transform(X_test))\n",
        "\n",
        "print('AUC: ', roc_auc_score(y_test, predictions))"
      ],
      "execution_count": null,
      "outputs": [
        {
          "output_type": "stream",
          "text": [
            "AUC:  0.9922925367503718\n"
          ],
          "name": "stdout"
        }
      ]
    },
    {
      "cell_type": "code",
      "metadata": {
        "trusted": true,
        "colab": {
          "base_uri": "https://localhost:8080/"
        },
        "id": "0t2kkBYYRAKE",
        "outputId": "5607b241-9a11-42d0-a00b-659497e4088d"
      },
      "source": [
        "from sklearn import metrics\n",
        "print(metrics.confusion_matrix(y_test, predictions, labels=[0, 1]))\n",
        "# Printing the precision and recall, among other metrics\n",
        "print(metrics.classification_report(y_test, predictions, labels=[0, 1]))"
      ],
      "execution_count": null,
      "outputs": [
        {
          "output_type": "stream",
          "text": [
            "[[5317   36]\n",
            " [  51 5818]]\n",
            "              precision    recall  f1-score   support\n",
            "\n",
            "           0       0.99      0.99      0.99      5353\n",
            "           1       0.99      0.99      0.99      5869\n",
            "\n",
            "    accuracy                           0.99     11222\n",
            "   macro avg       0.99      0.99      0.99     11222\n",
            "weighted avg       0.99      0.99      0.99     11222\n",
            "\n"
          ],
          "name": "stdout"
        }
      ]
    },
    {
      "cell_type": "markdown",
      "metadata": {
        "id": "KQUwsETMRAKF"
      },
      "source": [
        "Confsion Matrix"
      ]
    },
    {
      "cell_type": "code",
      "metadata": {
        "trusted": true,
        "id": "HAYCo28nRAKF"
      },
      "source": [
        "cm = confusion_matrix(y_test, predictions , labels=[0, 1])"
      ],
      "execution_count": null,
      "outputs": []
    },
    {
      "cell_type": "code",
      "metadata": {
        "trusted": true,
        "colab": {
          "base_uri": "https://localhost:8080/",
          "height": 296
        },
        "id": "GnhVFeS6RAKF",
        "outputId": "505189dc-d53f-487f-d23f-9f0d9bd20bc0"
      },
      "source": [
        "ax= plt.subplot()\n",
        "sns.heatmap(cm, annot=True, ax= ax)\n",
        "ax.set_ylabel('y_test')\n",
        "ax.set_xlabel('predictions')"
      ],
      "execution_count": null,
      "outputs": [
        {
          "output_type": "execute_result",
          "data": {
            "text/plain": [
              "Text(0.5, 15.0, 'predictions')"
            ]
          },
          "metadata": {
            "tags": []
          },
          "execution_count": 320
        },
        {
          "output_type": "display_data",
          "data": {
            "image/png": "[encoded data removed]",
            "text/plain": [
              "<Figure size 432x288 with 2 Axes>"
            ]
          },
          "metadata": {
            "tags": [],
            "needs_background": "light"
          }
        }
      ]
    },
    {
      "cell_type": "code",
      "metadata": {
        "trusted": true,
        "colab": {
          "base_uri": "https://localhost:8080/"
        },
        "id": "4DLC1rLxRAKF",
        "outputId": "f7aa9d2a-7ba4-4a20-b5c4-d81ad3bfdc14"
      },
      "source": [
        "feature_names = np.array(vect.get_feature_names())\n",
        "\n",
        "sorted_tfidf_index = X_train_vectorized.max(0).toarray()[0].argsort()\n",
        "\n",
        "print('Smallest tfidf:\\n{}\\n'.format(feature_names[sorted_tfidf_index[:10]]))\n",
        "print('Largest tfidf: \\n{}'.format(feature_names[sorted_tfidf_index[:-11:-1]]))"
      ],
      "execution_count": null,
      "outputs": [
        {
          "output_type": "stream",
          "text": [
            "Smallest tfidf:\n",
            "['grafting' 'mcx' 'afghaniamerican' 'vicars' 'purists' 'revolverthe'\n",
            " 'beghal' 'djamel' 'benghalem' 'amimour']\n",
            "\n",
            "Largest tfidf: \n",
            "['county' 'scotusblog' 'npr' 'na' 'merriamwebster' 'steyn' 'igorvolsky'\n",
            " 'morneau' 'hastert' 'electors']\n"
          ],
          "name": "stdout"
        }
      ]
    },
    {
      "cell_type": "code",
      "metadata": {
        "trusted": true,
        "colab": {
          "base_uri": "https://localhost:8080/"
        },
        "id": "tyB1z7RURAKF",
        "outputId": "5159fc60-9c3f-4e7e-bd3f-5d8a6d2be3ae"
      },
      "source": [
        "\n",
        "sorted_coef_index = model.coef_[0].argsort()\n",
        "\n",
        "print('Smallest Coefs:\\n{}\\n'.format(feature_names[sorted_coef_index[:10]]))\n",
        "print('Largest Coefs: \\n{}'.format(feature_names[sorted_coef_index[:-11:-1]]))"
      ],
      "execution_count": null,
      "outputs": [
        {
          "output_type": "stream",
          "text": [
            "Smallest Coefs:\n",
            "['said' 'reuters' 'politicsnews' 'worldnews' 'on' 'trumps' 'in' 'us' 'its'\n",
            " 'republican']\n",
            "\n",
            "Largest Coefs: \n",
            "['politics' 'video' 'leftnews' 'news' 'via' 'this' 'that' 'is' 'just'\n",
            " 'obama']\n"
          ],
          "name": "stdout"
        }
      ]
    },
    {
      "cell_type": "markdown",
      "metadata": {
        "id": "oOLp2PNPRAKF"
      },
      "source": [
        "Multinomial Naive Bayes"
      ]
    },
    {
      "cell_type": "code",
      "metadata": {
        "trusted": true,
        "id": "7lnj3qVdRAKF"
      },
      "source": [
        "vectorizer = TfidfVectorizer(min_df=3)\n",
        "X_train_transformed = vectorizer.fit_transform(X_train)\n",
        "X_test_transformed = vectorizer.transform(X_test)\n",
        "\n",
        "clf = MultinomialNB(alpha=0.1)\n",
        "clf.fit(X_train_transformed, y_train)\n",
        "\n",
        "# y_predicted_prob = clf.predict_proba(X_test_transformed)[:, 1]\n",
        "y_predicted = clf.predict(X_test_transformed)"
      ],
      "execution_count": null,
      "outputs": []
    },
    {
      "cell_type": "code",
      "metadata": {
        "trusted": true,
        "colab": {
          "base_uri": "https://localhost:8080/"
        },
        "id": "3hL9jpcPRAKF",
        "outputId": "e883bd9a-a232-4e79-aa70-25db4f9105a7"
      },
      "source": [
        "print('AUC: ', roc_auc_score(y_test, y_predicted))"
      ],
      "execution_count": null,
      "outputs": [
        {
          "output_type": "stream",
          "text": [
            "AUC:  0.9550946808418196\n"
          ],
          "name": "stdout"
        }
      ]
    },
    {
      "cell_type": "code",
      "metadata": {
        "trusted": true,
        "colab": {
          "base_uri": "https://localhost:8080/"
        },
        "id": "gCYdbtexRAKG",
        "outputId": "58bd54da-6aa9-484c-950f-506500667100"
      },
      "source": [
        "print(metrics.confusion_matrix(y_test, y_predicted, labels=[0, 1]))\n",
        "# Printing the precision and recall, among other metrics\n",
        "print(metrics.classification_report(y_test, y_predicted, labels=[0, 1]))"
      ],
      "execution_count": null,
      "outputs": [
        {
          "output_type": "stream",
          "text": [
            "[[5103  250]\n",
            " [ 253 5616]]\n",
            "              precision    recall  f1-score   support\n",
            "\n",
            "           0       0.95      0.95      0.95      5353\n",
            "           1       0.96      0.96      0.96      5869\n",
            "\n",
            "    accuracy                           0.96     11222\n",
            "   macro avg       0.96      0.96      0.96     11222\n",
            "weighted avg       0.96      0.96      0.96     11222\n",
            "\n"
          ],
          "name": "stdout"
        }
      ]
    },
    {
      "cell_type": "code",
      "metadata": {
        "trusted": true,
        "id": "kfmb2Lt3RAKG"
      },
      "source": [
        "cm = confusion_matrix(y_test, y_predicted , labels=[0, 1])"
      ],
      "execution_count": null,
      "outputs": []
    },
    {
      "cell_type": "code",
      "metadata": {
        "trusted": true,
        "colab": {
          "base_uri": "https://localhost:8080/",
          "height": 296
        },
        "id": "ELpX6pRFRAKG",
        "outputId": "7cc97895-fba5-4590-cce5-d58f07f556ce"
      },
      "source": [
        "ax= plt.subplot()\n",
        "sns.heatmap(cm, annot=True, ax= ax)\n",
        "ax.set_ylabel('y_test')\n",
        "ax.set_xlabel('predictions')"
      ],
      "execution_count": null,
      "outputs": [
        {
          "output_type": "execute_result",
          "data": {
            "text/plain": [
              "Text(0.5, 15.0, 'predictions')"
            ]
          },
          "metadata": {
            "tags": []
          },
          "execution_count": 327
        },
        {
          "output_type": "display_data",
          "data": {
            "image/png": "[encoded data removed]",
            "text/plain": [
              "<Figure size 432x288 with 2 Axes>"
            ]
          },
          "metadata": {
            "tags": [],
            "needs_background": "light"
          }
        }
      ]
    },
    {
      "cell_type": "markdown",
      "metadata": {
        "id": "nz15ky-NRAKG"
      },
      "source": [
        "N-gram Analysis"
      ]
    },
    {
      "cell_type": "code",
      "metadata": {
        "trusted": true,
        "colab": {
          "base_uri": "https://localhost:8080/"
        },
        "id": "_2pw9fPNRAKG",
        "outputId": "e17a7c54-ce2c-4547-e0c1-6eaea7cc7eba"
      },
      "source": [
        "#ngrams\n",
        "# Fit the CountVectorizer to the training data specifiying a minimum \n",
        "# document frequency of 5 and extracting 1-grams and 2-grams\n",
        "vect = CountVectorizer(min_df=5, ngram_range=(1,2)).fit(X_train)\n",
        "\n",
        "X_train_vectorized = vect.transform(X_train)\n",
        "\n",
        "len(vect.get_feature_names())"
      ],
      "execution_count": null,
      "outputs": [
        {
          "output_type": "execute_result",
          "data": {
            "text/plain": [
              "347894"
            ]
          },
          "metadata": {
            "tags": []
          },
          "execution_count": 328
        }
      ]
    },
    {
      "cell_type": "markdown",
      "metadata": {
        "id": "dJuUvbyoRAKG"
      },
      "source": [
        "Logistic Regression"
      ]
    },
    {
      "cell_type": "code",
      "metadata": {
        "trusted": true,
        "colab": {
          "base_uri": "https://localhost:8080/"
        },
        "id": "ekVK3hGHRAKH",
        "outputId": "10c001c6-e95e-48ab-bb1d-69ef2395d8d7"
      },
      "source": [
        "\n",
        "model = LogisticRegression()\n",
        "model.fit(X_train_vectorized, y_train)\n",
        "\n",
        "predictions = model.predict(vect.transform(X_test))\n",
        "\n",
        "print('AUC: ', roc_auc_score(y_test, predictions))"
      ],
      "execution_count": null,
      "outputs": [
        {
          "output_type": "stream",
          "text": [
            "/usr/local/lib/python3.7/dist-packages/sklearn/linear_model/_logistic.py:940: ConvergenceWarning:\n",
            "\n",
            "lbfgs failed to converge (status=1):\n",
            "STOP: TOTAL NO. of ITERATIONS REACHED LIMIT.\n",
            "\n",
            "Increase the number of iterations (max_iter) or scale the data as shown in:\n",
            "    https://scikit-learn.org/stable/modules/preprocessing.html\n",
            "Please also refer to the documentation for alternative solver options:\n",
            "    https://scikit-learn.org/stable/modules/linear_model.html#logistic-regression\n",
            "\n"
          ],
          "name": "stderr"
        },
        {
          "output_type": "stream",
          "text": [
            "AUC:  0.9985547839963239\n"
          ],
          "name": "stdout"
        }
      ]
    },
    {
      "cell_type": "code",
      "metadata": {
        "trusted": true,
        "colab": {
          "base_uri": "https://localhost:8080/"
        },
        "id": "fP1KI8kQRAKH",
        "outputId": "549871ef-ca8d-4d2a-a044-ccbaeae5511d"
      },
      "source": [
        "print(metrics.confusion_matrix(y_test, predictions, labels=[0, 1]))\n",
        "# Printing the precision and recall, among other metrics\n",
        "print(metrics.classification_report(y_test, predictions, labels=[0, 1]))"
      ],
      "execution_count": null,
      "outputs": [
        {
          "output_type": "stream",
          "text": [
            "[[5343   10]\n",
            " [   6 5863]]\n",
            "              precision    recall  f1-score   support\n",
            "\n",
            "           0       1.00      1.00      1.00      5353\n",
            "           1       1.00      1.00      1.00      5869\n",
            "\n",
            "    accuracy                           1.00     11222\n",
            "   macro avg       1.00      1.00      1.00     11222\n",
            "weighted avg       1.00      1.00      1.00     11222\n",
            "\n"
          ],
          "name": "stdout"
        }
      ]
    },
    {
      "cell_type": "code",
      "metadata": {
        "trusted": true,
        "id": "0U6b5JnPRAKH"
      },
      "source": [
        "cm = confusion_matrix(y_test, predictions , labels=[0, 1])"
      ],
      "execution_count": null,
      "outputs": []
    },
    {
      "cell_type": "code",
      "metadata": {
        "trusted": true,
        "colab": {
          "base_uri": "https://localhost:8080/",
          "height": 296
        },
        "id": "CTMhXvYQRAKH",
        "outputId": "0ec073cf-6c1f-4904-a742-7e147ecc0c9f"
      },
      "source": [
        "ax= plt.subplot()\n",
        "sns.heatmap(cm, annot=True, ax= ax)\n",
        "ax.set_ylabel('y_test')\n",
        "ax.set_xlabel('predictions')"
      ],
      "execution_count": null,
      "outputs": [
        {
          "output_type": "execute_result",
          "data": {
            "text/plain": [
              "Text(0.5, 15.0, 'predictions')"
            ]
          },
          "metadata": {
            "tags": []
          },
          "execution_count": 332
        },
        {
          "output_type": "display_data",
          "data": {
            "image/png": "[encoded data removed]",
            "text/plain": [
              "<Figure size 432x288 with 2 Axes>"
            ]
          },
          "metadata": {
            "tags": [],
            "needs_background": "light"
          }
        }
      ]
    },
    {
      "cell_type": "code",
      "metadata": {
        "trusted": true,
        "colab": {
          "base_uri": "https://localhost:8080/"
        },
        "id": "aK9CT9u9RAKH",
        "outputId": "a808f403-f77e-4c31-c5e1-28f4440b9f3b"
      },
      "source": [
        "feature_names = np.array(vect.get_feature_names())\n",
        "\n",
        "sorted_coef_index = model.coef_[0].argsort()\n",
        "\n",
        "print('Smallest Coefs:\\n{}\\n'.format(feature_names[sorted_coef_index[:10]]))\n",
        "print('Largest Coefs: \\n{}'.format(feature_names[sorted_coef_index[:-11:-1]]))"
      ],
      "execution_count": null,
      "outputs": [
        {
          "output_type": "stream",
          "text": [
            "Smallest Coefs:\n",
            "['reuters' 'politicsnews' 'worldnews' 'washington reuters' 'said'\n",
            " 'reuters the' 'said on' 'trumps' 'on tuesday' 'on wednesday']\n",
            "\n",
            "Largest Coefs: \n",
            "['politics' 'leftnews' 'video' 'government news' 'via' 'news' 'breaking'\n",
            " 'just' 'hillary' 'watch']\n"
          ],
          "name": "stdout"
        }
      ]
    },
    {
      "cell_type": "markdown",
      "metadata": {
        "id": "UGwU8Hb5RAKH"
      },
      "source": [
        "Now the winner is Logistic Regression with n-gram range 1, 2 for the detection of fake news."
      ]
    }
  ]
}