{
  "nbformat": 4,
  "nbformat_minor": 0,
  "metadata": {
    "colab": {
      "name": "03 LSTM for bangla fake news.ipynb",
      "provenance": [],
      "collapsed_sections": []
    },
    "kernelspec": {
      "display_name": "Python 3",
      "language": "python",
      "name": "python3"
    },
    "language_info": {
      "codemirror_mode": {
        "name": "ipython",
        "version": 3
      },
      "file_extension": ".py",
      "mimetype": "text/x-python",
      "name": "python",
      "nbconvert_exporter": "python",
      "pygments_lexer": "ipython3",
      "version": "3.7.6"
    },
    "accelerator": "GPU"
  },
  "cells": [
    {
      "cell_type": "markdown",
      "metadata": {
        "id": "uWlZCqFFRWdb"
      },
      "source": [
        "\n",
        "<div align='center'><font size=\"6\" color=\"red\"> Misinformation is one of the biggest issues in today's society</font></div>\n",
        "<div align='center'><font size=\"4\" color=\"red\">And Fake news is a real problem\n"
      ]
    },
    {
      "cell_type": "code",
      "metadata": {
        "id": "qfk3tmfwReVE",
        "colab": {
          "base_uri": "https://localhost:8080/"
        },
        "outputId": "b9a55485-17c2-470c-e2de-e05d01da599e"
      },
      "source": [
        "from google.colab import drive\n",
        "drive.mount('/content/drive')"
      ],
      "execution_count": null,
      "outputs": [
        {
          "output_type": "stream",
          "text": [
            "Drive already mounted at /content/drive; to attempt to forcibly remount, call drive.mount(\"/content/drive\", force_remount=True).\n"
          ],
          "name": "stdout"
        }
      ]
    },
    {
      "cell_type": "markdown",
      "metadata": {
        "id": "hvanZoKcRWdg"
      },
      "source": [
        "<hr>"
      ]
    },
    {
      "cell_type": "markdown",
      "metadata": {
        "id": "2VHJd_VHRWdh"
      },
      "source": [
        "# Problem Statement\n",
        "\n",
        "We have 2 datasets with Real News data and Fake News data. Each dataset has around 22000 articles. As we merge both, we have around 45000 articles of real and fake. The aim is to build a model to correctly predict if a news is real or fake."
      ]
    },
    {
      "cell_type": "markdown",
      "metadata": {
        "id": "IM-KS9hYRWdi"
      },
      "source": [
        "# Table of Contents\n",
        "\n",
        "1. [Import Packages](#import-packages)\n",
        "2. [Read Data](#read-data)\n",
        "    * [Create Target based on Real and Fake data](#create-target)\n",
        "    * [Concat both real and fake data](#concat-data)\n",
        "3. [Data Analysis](#data-analysis)\n",
        "    * [Missing value Treatment](#treat-missing-value)\n",
        "    * [Merge Title and Text data](#merge-title-text)\n",
        "4. [Data Cleaning](#data-cleaning)\n",
        "    * [Preprocessing Text to get Stemmed and Lemmatized Corpus](#Preprocess-text)\n",
        "    * [WordCloud for label=1 -- Real News](#word-cloud-label-1)\n",
        "    * [WordCloud for label=0 -- Fake News](#word-cloud-label-0)\n",
        "5. [Classification models using CountVectorizer and TFIDF Vectorizer](#create-models)\n",
        "    * [Using CountVectorizer and TFIDF Vectorizer with stemmed text](#counttfidf-stemmed)\n",
        "    * [Using CountVectorizer and TFIDF Vectorizer with lemmatized text](#counttfidf-lemmatized)\n",
        "6. [LSTM model using One Hot vector](#one-hot-vector-lstm)\n",
        "    * [Using One hot representation and Stemmed Text](#one-hot-stemmed)\n",
        "    * [Evaluate model](#stemmed-evaluate)\n",
        "    * [Using One hot representation and Lemmatized Text](#one-hot-lemmatized)\n",
        "    * [Evaluate model](#lemmatized-evaluate)\n",
        "7. [Conclusion](#conclusion)\n",
        "\n"
      ]
    },
    {
      "cell_type": "markdown",
      "metadata": {
        "id": "rjgyNPfZRWdm"
      },
      "source": [
        "# Import Packages\n",
        "<a id = \"import-packages\"></a>"
      ]
    },
    {
      "cell_type": "code",
      "metadata": {
        "id": "xmrddaZbRWdm"
      },
      "source": [
        "import pandas as pd\n",
        "import numpy as np\n",
        "import matplotlib.pyplot as plt\n",
        "import seaborn as sns\n",
        "import itertools\n",
        "\n",
        "import nltk\n",
        "import re\n",
        "from nltk.stem import PorterStemmer, WordNetLemmatizer\n",
        "from nltk.corpus import stopwords\n",
        "from nltk.tokenize import word_tokenize, sent_tokenize\n",
        "\n",
        "from sklearn.pipeline import Pipeline\n",
        "from sklearn.linear_model import LogisticRegression, SGDClassifier\n",
        "from sklearn.naive_bayes import GaussianNB, MultinomialNB, BernoulliNB\n",
        "from sklearn.neighbors import KNeighborsClassifier\n",
        "from sklearn.svm import LinearSVC\n",
        "from sklearn.tree import DecisionTreeClassifier\n",
        "from sklearn.ensemble import GradientBoostingClassifier, RandomForestClassifier\n",
        "from xgboost import XGBClassifier\n",
        "from sklearn.linear_model import PassiveAggressiveClassifier\n",
        "from sklearn.neural_network import MLPClassifier\n",
        "from sklearn.model_selection import train_test_split\n",
        "from sklearn.metrics import accuracy_score, confusion_matrix, classification_report\n",
        "from sklearn.feature_extraction.text import CountVectorizer, TfidfVectorizer\n",
        "\n",
        "import tensorflow as tf\n",
        "from tensorflow.keras.preprocessing import text, sequence\n",
        "from tensorflow.keras.preprocessing.text import one_hot\n",
        "from tensorflow.keras.preprocessing.sequence import pad_sequences\n",
        "from tensorflow.keras.models import Sequential\n",
        "from tensorflow.keras.layers import Embedding, Dense, LSTM, Dropout\n",
        "from tensorflow.keras.callbacks import Callback, ReduceLROnPlateau, EarlyStopping\n",
        "from tensorflow.keras.callbacks import History\n",
        "\n",
        "from wordcloud import WordCloud, STOPWORDS"
      ],
      "execution_count": null,
      "outputs": []
    },
    {
      "cell_type": "markdown",
      "metadata": {
        "id": "q6j4IqRORWdo"
      },
      "source": [
        "# Read Data\n",
        "<a id = \"read-data\"></a>"
      ]
    },
    {
      "cell_type": "code",
      "metadata": {
        "colab": {
          "base_uri": "https://localhost:8080/",
          "height": 204
        },
        "id": "YZVEWFKfRvnh",
        "outputId": "7cda5f25-1664-4164-e126-0f17b1ce7652"
      },
      "source": [
        "#Bengali Dataset\n",
        "dataset = pd.read_csv(\"/content/drive/MyDrive/research/totaldata.csv\")\n",
        "dataset.head()"
      ],
      "execution_count": null,
      "outputs": [
        {
          "output_type": "execute_result",
          "data": {
            "text/html": [
              "<div>\n",
              "<style scoped>\n",
              "    .dataframe tbody tr th:only-of-type {\n",
              "        vertical-align: middle;\n",
              "    }\n",
              "\n",
              "    .dataframe tbody tr th {\n",
              "        vertical-align: top;\n",
              "    }\n",
              "\n",
              "    .dataframe thead th {\n",
              "        text-align: right;\n",
              "    }\n",
              "</style>\n",
              "<table border=\"1\" class=\"dataframe\">\n",
              "  <thead>\n",
              "    <tr style=\"text-align: right;\">\n",
              "      <th></th>\n",
              "      <th>Unnamed: 0</th>\n",
              "      <th>articleID</th>\n",
              "      <th>content</th>\n",
              "      <th>headline</th>\n",
              "      <th>label</th>\n",
              "    </tr>\n",
              "  </thead>\n",
              "  <tbody>\n",
              "    <tr>\n",
              "      <th>0</th>\n",
              "      <td>0</td>\n",
              "      <td>1</td>\n",
              "      <td>গত ১৭ সেপ্টেম্বর বাংলাদেশ কৃষি বিশ্ববিদ্যালয়ে ...</td>\n",
              "      <td>হট্টগোল করায় বাকৃবিতে দুইজন বরখাস্ত, ৬ জনকে শোকজ</td>\n",
              "      <td>1</td>\n",
              "    </tr>\n",
              "    <tr>\n",
              "      <th>1</th>\n",
              "      <td>1</td>\n",
              "      <td>2</td>\n",
              "      <td>বাংলাদেশের বৃহৎ শ্রমবাজার মালয়েশিয়ায় আবার শ্রম...</td>\n",
              "      <td>মালয়েশিয়ায় কর্মী পাঠানোর ব্যবস্থা নেয়ার সুপারিশ</td>\n",
              "      <td>1</td>\n",
              "    </tr>\n",
              "    <tr>\n",
              "      <th>2</th>\n",
              "      <td>2</td>\n",
              "      <td>3</td>\n",
              "      <td>নরসিংদীর মনোহরদীতে প্রেমের প্রস্তাবে রাজি না হ...</td>\n",
              "      <td>প্রেমের প্রস্তাবে রাজি না হওয়ায় স্কুলছাত্রীকে ...</td>\n",
              "      <td>1</td>\n",
              "    </tr>\n",
              "    <tr>\n",
              "      <th>3</th>\n",
              "      <td>3</td>\n",
              "      <td>4</td>\n",
              "      <td>সুপ্রিম কোর্টের হাইকোর্ট বিভাগের বিচারপতি আহমে...</td>\n",
              "      <td>মেডিয়েশনই মামলাজট নিরসনের পথ : বিচারপতি আহমেদ ...</td>\n",
              "      <td>1</td>\n",
              "    </tr>\n",
              "    <tr>\n",
              "      <th>4</th>\n",
              "      <td>4</td>\n",
              "      <td>5</td>\n",
              "      <td>মাদারীপুর সদরের উপজেলার লেকেরপাড়ে একটি বেসরকার...</td>\n",
              "      <td>টকশোতে বক্তব্য দিতে গিয়ে জাপা নেতার মৃত্যু</td>\n",
              "      <td>1</td>\n",
              "    </tr>\n",
              "  </tbody>\n",
              "</table>\n",
              "</div>"
            ],
            "text/plain": [
              "   Unnamed: 0  ...  label\n",
              "0           0  ...      1\n",
              "1           1  ...      1\n",
              "2           2  ...      1\n",
              "3           3  ...      1\n",
              "4           4  ...      1\n",
              "\n",
              "[5 rows x 5 columns]"
            ]
          },
          "metadata": {
            "tags": []
          },
          "execution_count": 54
        }
      ]
    },
    {
      "cell_type": "code",
      "metadata": {
        "id": "AWU8eqOKRWdp"
      },
      "source": [
        "#real = pd.read_csv(\"/content/drive/MyDrive/DDD   Dataset/Fake News English dataset/True.csv\")\n",
        "#real.head()"
      ],
      "execution_count": null,
      "outputs": []
    },
    {
      "cell_type": "code",
      "metadata": {
        "id": "s7pDfuWNRWds"
      },
      "source": [
        "#fake = pd.read_csv(\"/content/drive/MyDrive/DDD   Dataset/Fake News English dataset/Fake.csv\")\n",
        "#fake.head()"
      ],
      "execution_count": null,
      "outputs": []
    },
    {
      "cell_type": "markdown",
      "metadata": {
        "id": "wRCefhmbRWdu"
      },
      "source": [
        "**Create Target based on Real and Fake data**\n",
        "<a id=\"create-target\"></a>"
      ]
    },
    {
      "cell_type": "code",
      "metadata": {
        "id": "CsgJrr5WRWdu"
      },
      "source": [
        "#real['Category'] = 1\n",
        "#fake['Category'] = 0"
      ],
      "execution_count": null,
      "outputs": []
    },
    {
      "cell_type": "code",
      "metadata": {
        "id": "qoe4UBfoRWdv"
      },
      "source": [
        "#print(real.shape)\n",
        "#real.head()"
      ],
      "execution_count": null,
      "outputs": []
    },
    {
      "cell_type": "code",
      "metadata": {
        "id": "nVVBW_SbRWdw"
      },
      "source": [
        "#print(fake.shape)\n",
        "#fake.head()"
      ],
      "execution_count": null,
      "outputs": []
    },
    {
      "cell_type": "markdown",
      "metadata": {
        "id": "j5W0tTRgRWdy"
      },
      "source": [
        "**Concat both real and fake data**\n",
        "<a id = \"concat-data\"></a>"
      ]
    },
    {
      "cell_type": "code",
      "metadata": {
        "id": "oo7x6G-DRWdy"
      },
      "source": [
        "#dataset = pd.concat([real, fake]).reset_index(drop=True)"
      ],
      "execution_count": null,
      "outputs": []
    },
    {
      "cell_type": "code",
      "metadata": {
        "id": "LfrHcBkTRWdz",
        "colab": {
          "base_uri": "https://localhost:8080/",
          "height": 221
        },
        "outputId": "cb2e5074-e8b8-4db2-f2ef-99f2429d9e19"
      },
      "source": [
        "print(dataset.shape)\n",
        "dataset.head()"
      ],
      "execution_count": null,
      "outputs": [
        {
          "output_type": "stream",
          "text": [
            "(11434, 5)\n"
          ],
          "name": "stdout"
        },
        {
          "output_type": "execute_result",
          "data": {
            "text/html": [
              "<div>\n",
              "<style scoped>\n",
              "    .dataframe tbody tr th:only-of-type {\n",
              "        vertical-align: middle;\n",
              "    }\n",
              "\n",
              "    .dataframe tbody tr th {\n",
              "        vertical-align: top;\n",
              "    }\n",
              "\n",
              "    .dataframe thead th {\n",
              "        text-align: right;\n",
              "    }\n",
              "</style>\n",
              "<table border=\"1\" class=\"dataframe\">\n",
              "  <thead>\n",
              "    <tr style=\"text-align: right;\">\n",
              "      <th></th>\n",
              "      <th>Unnamed: 0</th>\n",
              "      <th>articleID</th>\n",
              "      <th>content</th>\n",
              "      <th>headline</th>\n",
              "      <th>label</th>\n",
              "    </tr>\n",
              "  </thead>\n",
              "  <tbody>\n",
              "    <tr>\n",
              "      <th>0</th>\n",
              "      <td>0</td>\n",
              "      <td>1</td>\n",
              "      <td>গত ১৭ সেপ্টেম্বর বাংলাদেশ কৃষি বিশ্ববিদ্যালয়ে ...</td>\n",
              "      <td>হট্টগোল করায় বাকৃবিতে দুইজন বরখাস্ত, ৬ জনকে শোকজ</td>\n",
              "      <td>1</td>\n",
              "    </tr>\n",
              "    <tr>\n",
              "      <th>1</th>\n",
              "      <td>1</td>\n",
              "      <td>2</td>\n",
              "      <td>বাংলাদেশের বৃহৎ শ্রমবাজার মালয়েশিয়ায় আবার শ্রম...</td>\n",
              "      <td>মালয়েশিয়ায় কর্মী পাঠানোর ব্যবস্থা নেয়ার সুপারিশ</td>\n",
              "      <td>1</td>\n",
              "    </tr>\n",
              "    <tr>\n",
              "      <th>2</th>\n",
              "      <td>2</td>\n",
              "      <td>3</td>\n",
              "      <td>নরসিংদীর মনোহরদীতে প্রেমের প্রস্তাবে রাজি না হ...</td>\n",
              "      <td>প্রেমের প্রস্তাবে রাজি না হওয়ায় স্কুলছাত্রীকে ...</td>\n",
              "      <td>1</td>\n",
              "    </tr>\n",
              "    <tr>\n",
              "      <th>3</th>\n",
              "      <td>3</td>\n",
              "      <td>4</td>\n",
              "      <td>সুপ্রিম কোর্টের হাইকোর্ট বিভাগের বিচারপতি আহমে...</td>\n",
              "      <td>মেডিয়েশনই মামলাজট নিরসনের পথ : বিচারপতি আহমেদ ...</td>\n",
              "      <td>1</td>\n",
              "    </tr>\n",
              "    <tr>\n",
              "      <th>4</th>\n",
              "      <td>4</td>\n",
              "      <td>5</td>\n",
              "      <td>মাদারীপুর সদরের উপজেলার লেকেরপাড়ে একটি বেসরকার...</td>\n",
              "      <td>টকশোতে বক্তব্য দিতে গিয়ে জাপা নেতার মৃত্যু</td>\n",
              "      <td>1</td>\n",
              "    </tr>\n",
              "  </tbody>\n",
              "</table>\n",
              "</div>"
            ],
            "text/plain": [
              "   Unnamed: 0  ...  label\n",
              "0           0  ...      1\n",
              "1           1  ...      1\n",
              "2           2  ...      1\n",
              "3           3  ...      1\n",
              "4           4  ...      1\n",
              "\n",
              "[5 rows x 5 columns]"
            ]
          },
          "metadata": {
            "tags": []
          },
          "execution_count": 61
        }
      ]
    },
    {
      "cell_type": "markdown",
      "metadata": {
        "id": "MC9KAUvSRWd0"
      },
      "source": [
        "# Data Analysis\n",
        "<a id = \"data-analysis\"></a>"
      ]
    },
    {
      "cell_type": "markdown",
      "metadata": {
        "id": "RUEhW_AoRWd0"
      },
      "source": [
        "**Missing value Treatment**\n",
        "<a id = \"treat-missing-value\"></a>"
      ]
    },
    {
      "cell_type": "code",
      "metadata": {
        "id": "L3qsZ1HDRWd0",
        "colab": {
          "base_uri": "https://localhost:8080/"
        },
        "outputId": "92cb826b-1129-4f38-d689-33280ee998be"
      },
      "source": [
        "dataset.isnull().sum()"
      ],
      "execution_count": null,
      "outputs": [
        {
          "output_type": "execute_result",
          "data": {
            "text/plain": [
              "Unnamed: 0    0\n",
              "articleID     0\n",
              "content       0\n",
              "headline      0\n",
              "label         0\n",
              "dtype: int64"
            ]
          },
          "metadata": {
            "tags": []
          },
          "execution_count": 62
        }
      ]
    },
    {
      "cell_type": "markdown",
      "metadata": {
        "id": "HmxAyIzRRWd1"
      },
      "source": [
        "As there is no missing value in the dataset, so we we can work directly on title and text columns"
      ]
    },
    {
      "cell_type": "markdown",
      "metadata": {
        "id": "6jN-AJYVRWd2"
      },
      "source": [
        "**Merge Title and Text data**\n",
        "<a id = \"merge-title-text\"></a>"
      ]
    },
    {
      "cell_type": "code",
      "metadata": {
        "id": "KaBESf6GRWd3",
        "colab": {
          "base_uri": "https://localhost:8080/"
        },
        "outputId": "0ba5419d-3743-4562-81ec-296d84100d4f"
      },
      "source": [
        "dataset['final_text'] = dataset['headline'] + dataset['content']\n",
        "dataset['final_text'].head()"
      ],
      "execution_count": null,
      "outputs": [
        {
          "output_type": "execute_result",
          "data": {
            "text/plain": [
              "0    হট্টগোল করায় বাকৃবিতে দুইজন বরখাস্ত, ৬ জনকে শো...\n",
              "1    মালয়েশিয়ায় কর্মী পাঠানোর ব্যবস্থা নেয়ার সুপারি...\n",
              "2    প্রেমের প্রস্তাবে রাজি না হওয়ায় স্কুলছাত্রীকে ...\n",
              "3    মেডিয়েশনই মামলাজট নিরসনের পথ : বিচারপতি আহমেদ ...\n",
              "4    টকশোতে বক্তব্য দিতে গিয়ে জাপা নেতার মৃত্যুমাদা...\n",
              "Name: final_text, dtype: object"
            ]
          },
          "metadata": {
            "tags": []
          },
          "execution_count": 63
        }
      ]
    },
    {
      "cell_type": "code",
      "metadata": {
        "id": "ZMX0NZANRWd3"
      },
      "source": [
        "#dataset['Category'].value_counts()"
      ],
      "execution_count": null,
      "outputs": []
    },
    {
      "cell_type": "code",
      "metadata": {
        "id": "auXPVr54RWd5"
      },
      "source": [
        "#dataset[['Category','subject','final_text']].groupby(['Category','subject']).count()"
      ],
      "execution_count": null,
      "outputs": []
    },
    {
      "cell_type": "code",
      "metadata": {
        "id": "OSun5lsiRWd5"
      },
      "source": [
        "#plt.figure(figsize=(10,5))\n",
        "#sns.countplot(x= \"subject\", hue = \"Category\", data=dataset)"
      ],
      "execution_count": null,
      "outputs": []
    },
    {
      "cell_type": "markdown",
      "metadata": {
        "id": "psnYPONrRWd6"
      },
      "source": [
        "# Data Cleaning\n",
        "<a id = \"data-cleaning\"></a>"
      ]
    },
    {
      "cell_type": "markdown",
      "metadata": {
        "id": "_ry1zGnnRWd7"
      },
      "source": [
        "**Preprocessing Text to get Stemmed and Lemmatized Corpus**\n",
        "<a id = \"Preprocess-text\"></a>\n",
        "\n",
        "In this step we will clean the data that will be used for training. The cleaning will involve these steps-\n",
        "1. Removing all the extra information like brackets, any kind of puctuations - commas, apostrophes, quotes, question marks, and more.\n",
        "2. Remove all the numeric text, urls\n",
        "3. Remove all the stop words like - just, and, or, but, if\n",
        "4. Convert all the remaining text in the lower case, separated by space\n",
        "5. Generate stemmed text\n",
        "6. Generate lemmatized text"
      ]
    },
    {
      "cell_type": "code",
      "metadata": {
        "colab": {
          "base_uri": "https://localhost:8080/"
        },
        "id": "Y4cCbSinS25n",
        "outputId": "f27c1ba1-f59a-4240-c804-bda45506a19b"
      },
      "source": [
        "!pip install bnltk"
      ],
      "execution_count": null,
      "outputs": [
        {
          "output_type": "stream",
          "text": [
            "Requirement already satisfied: bnltk in /usr/local/lib/python3.7/dist-packages (0.7.6)\n",
            "Requirement already satisfied: tensorflow in /usr/local/lib/python3.7/dist-packages (from bnltk) (2.5.0)\n",
            "Requirement already satisfied: keras in /usr/local/lib/python3.7/dist-packages (from bnltk) (2.4.3)\n",
            "Requirement already satisfied: sklearn in /usr/local/lib/python3.7/dist-packages (from bnltk) (0.0)\n",
            "Requirement already satisfied: numpy in /usr/local/lib/python3.7/dist-packages (from bnltk) (1.19.5)\n",
            "Requirement already satisfied: requests in /usr/local/lib/python3.7/dist-packages (from bnltk) (2.23.0)\n",
            "Requirement already satisfied: gast==0.4.0 in /usr/local/lib/python3.7/dist-packages (from tensorflow->bnltk) (0.4.0)\n",
            "Requirement already satisfied: wheel~=0.35 in /usr/local/lib/python3.7/dist-packages (from tensorflow->bnltk) (0.36.2)\n",
            "Requirement already satisfied: keras-nightly~=2.5.0.dev in /usr/local/lib/python3.7/dist-packages (from tensorflow->bnltk) (2.5.0.dev2021032900)\n",
            "Requirement already satisfied: flatbuffers~=1.12.0 in /usr/local/lib/python3.7/dist-packages (from tensorflow->bnltk) (1.12)\n",
            "Requirement already satisfied: termcolor~=1.1.0 in /usr/local/lib/python3.7/dist-packages (from tensorflow->bnltk) (1.1.0)\n",
            "Requirement already satisfied: six~=1.15.0 in /usr/local/lib/python3.7/dist-packages (from tensorflow->bnltk) (1.15.0)\n",
            "Requirement already satisfied: h5py~=3.1.0 in /usr/local/lib/python3.7/dist-packages (from tensorflow->bnltk) (3.1.0)\n",
            "Requirement already satisfied: grpcio~=1.34.0 in /usr/local/lib/python3.7/dist-packages (from tensorflow->bnltk) (1.34.1)\n",
            "Requirement already satisfied: wrapt~=1.12.1 in /usr/local/lib/python3.7/dist-packages (from tensorflow->bnltk) (1.12.1)\n",
            "Requirement already satisfied: tensorflow-estimator<2.6.0,>=2.5.0rc0 in /usr/local/lib/python3.7/dist-packages (from tensorflow->bnltk) (2.5.0)\n",
            "Requirement already satisfied: google-pasta~=0.2 in /usr/local/lib/python3.7/dist-packages (from tensorflow->bnltk) (0.2.0)\n",
            "Requirement already satisfied: keras-preprocessing~=1.1.2 in /usr/local/lib/python3.7/dist-packages (from tensorflow->bnltk) (1.1.2)\n",
            "Requirement already satisfied: astunparse~=1.6.3 in /usr/local/lib/python3.7/dist-packages (from tensorflow->bnltk) (1.6.3)\n",
            "Requirement already satisfied: protobuf>=3.9.2 in /usr/local/lib/python3.7/dist-packages (from tensorflow->bnltk) (3.12.4)\n",
            "Requirement already satisfied: absl-py~=0.10 in /usr/local/lib/python3.7/dist-packages (from tensorflow->bnltk) (0.12.0)\n",
            "Requirement already satisfied: tensorboard~=2.5 in /usr/local/lib/python3.7/dist-packages (from tensorflow->bnltk) (2.5.0)\n",
            "Requirement already satisfied: typing-extensions~=3.7.4 in /usr/local/lib/python3.7/dist-packages (from tensorflow->bnltk) (3.7.4.3)\n",
            "Requirement already satisfied: opt-einsum~=3.3.0 in /usr/local/lib/python3.7/dist-packages (from tensorflow->bnltk) (3.3.0)\n",
            "Requirement already satisfied: scipy>=0.14 in /usr/local/lib/python3.7/dist-packages (from keras->bnltk) (1.4.1)\n",
            "Requirement already satisfied: pyyaml in /usr/local/lib/python3.7/dist-packages (from keras->bnltk) (3.13)\n",
            "Requirement already satisfied: scikit-learn in /usr/local/lib/python3.7/dist-packages (from sklearn->bnltk) (0.22.2.post1)\n",
            "Requirement already satisfied: certifi>=2017.4.17 in /usr/local/lib/python3.7/dist-packages (from requests->bnltk) (2021.5.30)\n",
            "Requirement already satisfied: idna<3,>=2.5 in /usr/local/lib/python3.7/dist-packages (from requests->bnltk) (2.10)\n",
            "Requirement already satisfied: urllib3!=1.25.0,!=1.25.1,<1.26,>=1.21.1 in /usr/local/lib/python3.7/dist-packages (from requests->bnltk) (1.24.3)\n",
            "Requirement already satisfied: chardet<4,>=3.0.2 in /usr/local/lib/python3.7/dist-packages (from requests->bnltk) (3.0.4)\n",
            "Requirement already satisfied: cached-property; python_version < \"3.8\" in /usr/local/lib/python3.7/dist-packages (from h5py~=3.1.0->tensorflow->bnltk) (1.5.2)\n",
            "Requirement already satisfied: setuptools in /usr/local/lib/python3.7/dist-packages (from protobuf>=3.9.2->tensorflow->bnltk) (57.0.0)\n",
            "Requirement already satisfied: tensorboard-plugin-wit>=1.6.0 in /usr/local/lib/python3.7/dist-packages (from tensorboard~=2.5->tensorflow->bnltk) (1.8.0)\n",
            "Requirement already satisfied: werkzeug>=0.11.15 in /usr/local/lib/python3.7/dist-packages (from tensorboard~=2.5->tensorflow->bnltk) (1.0.1)\n",
            "Requirement already satisfied: google-auth<2,>=1.6.3 in /usr/local/lib/python3.7/dist-packages (from tensorboard~=2.5->tensorflow->bnltk) (1.31.0)\n",
            "Requirement already satisfied: tensorboard-data-server<0.7.0,>=0.6.0 in /usr/local/lib/python3.7/dist-packages (from tensorboard~=2.5->tensorflow->bnltk) (0.6.1)\n",
            "Requirement already satisfied: markdown>=2.6.8 in /usr/local/lib/python3.7/dist-packages (from tensorboard~=2.5->tensorflow->bnltk) (3.3.4)\n",
            "Requirement already satisfied: google-auth-oauthlib<0.5,>=0.4.1 in /usr/local/lib/python3.7/dist-packages (from tensorboard~=2.5->tensorflow->bnltk) (0.4.4)\n",
            "Requirement already satisfied: joblib>=0.11 in /usr/local/lib/python3.7/dist-packages (from scikit-learn->sklearn->bnltk) (1.0.1)\n",
            "Requirement already satisfied: rsa<5,>=3.1.4; python_version >= \"3.6\" in /usr/local/lib/python3.7/dist-packages (from google-auth<2,>=1.6.3->tensorboard~=2.5->tensorflow->bnltk) (4.7.2)\n",
            "Requirement already satisfied: pyasn1-modules>=0.2.1 in /usr/local/lib/python3.7/dist-packages (from google-auth<2,>=1.6.3->tensorboard~=2.5->tensorflow->bnltk) (0.2.8)\n",
            "Requirement already satisfied: cachetools<5.0,>=2.0.0 in /usr/local/lib/python3.7/dist-packages (from google-auth<2,>=1.6.3->tensorboard~=2.5->tensorflow->bnltk) (4.2.2)\n",
            "Requirement already satisfied: importlib-metadata; python_version < \"3.8\" in /usr/local/lib/python3.7/dist-packages (from markdown>=2.6.8->tensorboard~=2.5->tensorflow->bnltk) (4.5.0)\n",
            "Requirement already satisfied: requests-oauthlib>=0.7.0 in /usr/local/lib/python3.7/dist-packages (from google-auth-oauthlib<0.5,>=0.4.1->tensorboard~=2.5->tensorflow->bnltk) (1.3.0)\n",
            "Requirement already satisfied: pyasn1>=0.1.3 in /usr/local/lib/python3.7/dist-packages (from rsa<5,>=3.1.4; python_version >= \"3.6\"->google-auth<2,>=1.6.3->tensorboard~=2.5->tensorflow->bnltk) (0.4.8)\n",
            "Requirement already satisfied: zipp>=0.5 in /usr/local/lib/python3.7/dist-packages (from importlib-metadata; python_version < \"3.8\"->markdown>=2.6.8->tensorboard~=2.5->tensorflow->bnltk) (3.4.1)\n",
            "Requirement already satisfied: oauthlib>=3.0.0 in /usr/local/lib/python3.7/dist-packages (from requests-oauthlib>=0.7.0->google-auth-oauthlib<0.5,>=0.4.1->tensorboard~=2.5->tensorflow->bnltk) (3.1.1)\n"
          ],
          "name": "stdout"
        }
      ]
    },
    {
      "cell_type": "code",
      "metadata": {
        "colab": {
          "base_uri": "https://localhost:8080/"
        },
        "id": "EVSAVsLZTKbp",
        "outputId": "532dd641-be1e-4353-f69e-ba792eb756ed"
      },
      "source": [
        "!pip install git+https://github.com/banglakit/lemmatizer.git#egg=banglakit-lemmatizer"
      ],
      "execution_count": null,
      "outputs": [
        {
          "output_type": "stream",
          "text": [
            "Requirement already satisfied: banglakit-lemmatizer from git+https://github.com/banglakit/lemmatizer.git#egg=banglakit-lemmatizer in /usr/local/lib/python3.7/dist-packages (0.0.1)\n"
          ],
          "name": "stdout"
        }
      ]
    },
    {
      "cell_type": "code",
      "metadata": {
        "id": "3s7EG3aPTRX6"
      },
      "source": [
        "from bnltk.stemmer import BanglaStemmer\n",
        "from banglakit.lemmatizer import BengaliLemmatizer"
      ],
      "execution_count": null,
      "outputs": []
    },
    {
      "cell_type": "code",
      "metadata": {
        "id": "sl-WUV8-RWd8"
      },
      "source": [
        "#porter_stemmer = PorterStemmer()\n",
        "stemmer = BanglaStemmer()\n",
        "#lemmatizer = WordNetLemmatizer()\n",
        "lemmatizer = BengaliLemmatizer()"
      ],
      "execution_count": null,
      "outputs": []
    },
    {
      "cell_type": "code",
      "metadata": {
        "id": "m-bQKx7_Sq55"
      },
      "source": [
        "#import nltk\n",
        "#nltk.download('stopwords')\n",
        "stopWords = []\n",
        "with open('/content/drive/MyDrive/research/bengali', 'r', encoding=\"utf8\") as f:\n",
        "    for row in f:  # iterate over the rows in the file\n",
        "        row = row.replace(\"\\n\", \"\")\n",
        "        stopWords.append(row)"
      ],
      "execution_count": null,
      "outputs": []
    },
    {
      "cell_type": "code",
      "metadata": {
        "id": "ePkRPwDSTL1p"
      },
      "source": [
        "#import nltk\n",
        "#nltk.download('wordnet')"
      ],
      "execution_count": null,
      "outputs": []
    },
    {
      "cell_type": "code",
      "metadata": {
        "id": "0yIWsNRzRWd8"
      },
      "source": [
        "stemmed_text = []\n",
        "lemmatized_text = []\n",
        "final_text_result = []\n",
        "for text in dataset['final_text']:\n",
        "    result = re.sub(r'[\\u09E6-\\u09EF]', ' ', text)\n",
        "    result = result.split()\n",
        "    result = [r for r in result if r not in set(stopWords)]\n",
        "    stemmed_result = [stemmer.stem(r) for r in result]\n",
        "    stemmed_text.append(\" \".join(stemmed_result))\n",
        "    lemmatized_result = [lemmatizer.lemmatize(r) for r in result]\n",
        "    lemmatized_text.append(\" \".join(lemmatized_result))"
      ],
      "execution_count": null,
      "outputs": []
    },
    {
      "cell_type": "code",
      "metadata": {
        "id": "KUvJb_ugRWd9",
        "colab": {
          "base_uri": "https://localhost:8080/"
        },
        "outputId": "2f21e700-d387-4722-b0a2-8bbab4f3ec6f"
      },
      "source": [
        "print(len(stemmed_text))\n",
        "print(len(lemmatized_text))"
      ],
      "execution_count": null,
      "outputs": [
        {
          "output_type": "stream",
          "text": [
            "11434\n",
            "11434\n"
          ],
          "name": "stdout"
        }
      ]
    },
    {
      "cell_type": "markdown",
      "metadata": {
        "id": "K_84_wbbRWd-"
      },
      "source": [
        "**WordCloud for label=1 -- Real News**\n",
        "<a id = \"word-cloud-label-1\"></a>"
      ]
    },
    {
      "cell_type": "code",
      "metadata": {
        "id": "Zai1chsaRWd-"
      },
      "source": [
        "#plt.figure(figsize=(15,15))\n",
        "#wc=WordCloud(max_words=2000, width=1600, height=700, stopwords=stopWords).generate(\"\".join(dataset[dataset.label==1].final_text))\n",
        "#plt.imshow(wc, interpolation=\"bilinear\")"
      ],
      "execution_count": null,
      "outputs": []
    },
    {
      "cell_type": "markdown",
      "metadata": {
        "id": "ztCRs4s6RWd_"
      },
      "source": [
        "**WordCloud for label=0 -- Fake News**\n",
        "<a id = \"word-cloud-label-0\"></a>"
      ]
    },
    {
      "cell_type": "code",
      "metadata": {
        "id": "Ekq_hakHRWd_"
      },
      "source": [
        "#plt.figure(figsize=(15,15))\n",
        "#wc=WordCloud(max_words=2000, width=1600, height=700, stopwords=STOPWORDS).generate(\"\".join(dataset[dataset.Category==0].final_text))\n",
        "#plt.imshow(wc, interpolation=\"bilinear\")"
      ],
      "execution_count": null,
      "outputs": []
    },
    {
      "cell_type": "markdown",
      "metadata": {
        "id": "EgYF2zjYRWeA"
      },
      "source": [
        "# Classification models using CountVectorizer and TFIDF Vectorizer\n",
        "<a id = \"create-models\"></a>\n"
      ]
    },
    {
      "cell_type": "code",
      "metadata": {
        "id": "eVPyyGikuB4b"
      },
      "source": [
        "def plot_confusion_matrix(cm,classes,normalize=False,title='Confusion Matrix', cmap = plt.cm.Greens):\n",
        "    plt.imshow(cm,interpolation = 'nearest',cmap = cmap)\n",
        "    plt.title(title)\n",
        "    plt.colorbar()\n",
        "    tick_marks = np.arange(len(classes))\n",
        "    plt.xticks(tick_marks,classes,rotation=45)\n",
        "    plt.yticks(tick_marks, classes)\n",
        "    \n",
        "    if normalize:\n",
        "        cm = cm.astype('float') / cm.sum(axis = 1)[:, np.newaxis]\n",
        "        print(\"Normalized CM\")\n",
        "    else:\n",
        "        print(\"CM not normalized\")\n",
        "        \n",
        "    thresh = cm.max() / 2.\n",
        "    for i, j in itertools.product(range(cm.shape[0]), range(cm.shape[1])):\n",
        "        plt.text(j, i, cm[i, j],\n",
        "                 horizontalalignment=\"center\",\n",
        "                 color=\"white\" if cm[i, j] > thresh else \"black\")\n",
        "\n",
        "    plt.tight_layout()\n",
        "    plt.ylabel('True label')\n",
        "    plt.xlabel('Predicted label')"
      ],
      "execution_count": null,
      "outputs": []
    },
    {
      "cell_type": "code",
      "metadata": {
        "id": "DC8ppsgWRWeA"
      },
      "source": [
        "def get_prediction(vectorizer, classifier, X_train, X_test, y_train, y_test):\n",
        "    pipe = Pipeline([('vector', vectorizer),\n",
        "                    ('model', classifier)])\n",
        "    model = pipe.fit(X_train, y_train)\n",
        "    y_pred = model.predict(X_test)\n",
        "    print(\"Accuarcy: {}\".format(round(accuracy_score(y_test, y_pred)*100,2)))\n",
        "    cm = confusion_matrix(y_test, y_pred)\n",
        "    print(\"Confusion Matrix: \\n\", cm)\n",
        "    #plot_confusion_matrix(cm,classes = ['Fake','Real'])\n",
        "    print(\"Classification Report: \\n\", classification_report(y_test, y_pred))"
      ],
      "execution_count": null,
      "outputs": []
    },
    {
      "cell_type": "markdown",
      "metadata": {
        "id": "EQQ1-2jYRWeA"
      },
      "source": [
        "Below I am creating classification models in 2 steps-\n",
        "1. Using stemmed text and both Count Vectorizer and TFIDF Vectorizer\n",
        "1. Using lemmatized text and both Count Vectorizer and TFIDF Vectorizer"
      ]
    },
    {
      "cell_type": "markdown",
      "metadata": {
        "id": "Eoxb87JxRWeA"
      },
      "source": [
        "**Using CountVectorizer and TFIDF Vectorizer with stemmed text**\n",
        "<a id=\"counttfidf-stemmed\"></a>"
      ]
    },
    {
      "cell_type": "code",
      "metadata": {
        "id": "fuB30f3NRWeB",
        "colab": {
          "base_uri": "https://localhost:8080/",
          "height": 1000
        },
        "outputId": "6f6dab35-9387-483c-81af-806874919dcb"
      },
      "source": [
        "print(\"******USING STEMMED TEXT********\")\n",
        "X_train, X_test, y_train, y_test = train_test_split(stemmed_text, dataset['label'], test_size = 0.3, random_state= 0)\n",
        "classifiers = [LogisticRegression(), SGDClassifier(), MultinomialNB(alpha = 0.01), PassiveAggressiveClassifier(max_iter=10), MLPClassifier(hidden_layer_sizes=(33,),max_iter=500), LinearSVC(C=100), \n",
        "               RandomForestClassifier(criterion='entropy', max_depth=400, random_state=0), XGBClassifier()]\n",
        "for classifier in classifiers:\n",
        "    print(\"\\n\\n\", classifier)\n",
        "    print(\"***********Usng Count Vectorizer****************\")\n",
        "    get_prediction(CountVectorizer(), classifier, X_train, X_test, y_train, y_test)\n",
        "    print(\"***********Usng TFIDF Vectorizer****************\")\n",
        "    get_prediction(TfidfVectorizer(), classifier, X_train, X_test, y_train, y_test)"
      ],
      "execution_count": null,
      "outputs": [
        {
          "output_type": "stream",
          "text": [
            "******USING STEMMED TEXT********\n",
            "\n",
            "\n",
            " LogisticRegression(C=1.0, class_weight=None, dual=False, fit_intercept=True,\n",
            "                   intercept_scaling=1, l1_ratio=None, max_iter=100,\n",
            "                   multi_class='auto', n_jobs=None, penalty='l2',\n",
            "                   random_state=None, solver='lbfgs', tol=0.0001, verbose=0,\n",
            "                   warm_start=False)\n",
            "***********Usng Count Vectorizer****************\n"
          ],
          "name": "stdout"
        },
        {
          "output_type": "stream",
          "text": [
            "/usr/local/lib/python3.7/dist-packages/sklearn/linear_model/_logistic.py:940: ConvergenceWarning: lbfgs failed to converge (status=1):\n",
            "STOP: TOTAL NO. of ITERATIONS REACHED LIMIT.\n",
            "\n",
            "Increase the number of iterations (max_iter) or scale the data as shown in:\n",
            "    https://scikit-learn.org/stable/modules/preprocessing.html\n",
            "Please also refer to the documentation for alternative solver options:\n",
            "    https://scikit-learn.org/stable/modules/linear_model.html#logistic-regression\n",
            "  extra_warning_msg=_LOGISTIC_SOLVER_CONVERGENCE_MSG)\n"
          ],
          "name": "stderr"
        },
        {
          "output_type": "stream",
          "text": [
            "Accuarcy: 94.4\n",
            "Confusion Matrix: \n",
            " [[ 309  111]\n",
            " [  81 2930]]\n",
            "CM not normalized\n",
            "Classification Report: \n",
            "               precision    recall  f1-score   support\n",
            "\n",
            "           0       0.79      0.74      0.76       420\n",
            "           1       0.96      0.97      0.97      3011\n",
            "\n",
            "    accuracy                           0.94      3431\n",
            "   macro avg       0.88      0.85      0.87      3431\n",
            "weighted avg       0.94      0.94      0.94      3431\n",
            "\n",
            "***********Usng TFIDF Vectorizer****************\n",
            "Accuarcy: 93.15\n",
            "Confusion Matrix: \n",
            " [[ 223  197]\n",
            " [  38 2973]]\n",
            "CM not normalized\n",
            "Classification Report: \n",
            "               precision    recall  f1-score   support\n",
            "\n",
            "           0       0.85      0.53      0.65       420\n",
            "           1       0.94      0.99      0.96      3011\n",
            "\n",
            "    accuracy                           0.93      3431\n",
            "   macro avg       0.90      0.76      0.81      3431\n",
            "weighted avg       0.93      0.93      0.92      3431\n",
            "\n",
            "\n",
            "\n",
            " SGDClassifier(alpha=0.0001, average=False, class_weight=None,\n",
            "              early_stopping=False, epsilon=0.1, eta0=0.0, fit_intercept=True,\n",
            "              l1_ratio=0.15, learning_rate='optimal', loss='hinge',\n",
            "              max_iter=1000, n_iter_no_change=5, n_jobs=None, penalty='l2',\n",
            "              power_t=0.5, random_state=None, shuffle=True, tol=0.001,\n",
            "              validation_fraction=0.1, verbose=0, warm_start=False)\n",
            "***********Usng Count Vectorizer****************\n",
            "Accuarcy: 94.32\n",
            "Confusion Matrix: \n",
            " [[ 333   87]\n",
            " [ 108 2903]]\n",
            "CM not normalized\n",
            "Classification Report: \n",
            "               precision    recall  f1-score   support\n",
            "\n",
            "           0       0.76      0.79      0.77       420\n",
            "           1       0.97      0.96      0.97      3011\n",
            "\n",
            "    accuracy                           0.94      3431\n",
            "   macro avg       0.86      0.88      0.87      3431\n",
            "weighted avg       0.94      0.94      0.94      3431\n",
            "\n",
            "***********Usng TFIDF Vectorizer****************\n",
            "Accuarcy: 94.84\n",
            "Confusion Matrix: \n",
            " [[ 294  126]\n",
            " [  51 2960]]\n",
            "CM not normalized\n",
            "Classification Report: \n",
            "               precision    recall  f1-score   support\n",
            "\n",
            "           0       0.85      0.70      0.77       420\n",
            "           1       0.96      0.98      0.97      3011\n",
            "\n",
            "    accuracy                           0.95      3431\n",
            "   macro avg       0.91      0.84      0.87      3431\n",
            "weighted avg       0.95      0.95      0.95      3431\n",
            "\n",
            "\n",
            "\n",
            " MultinomialNB(alpha=0.01, class_prior=None, fit_prior=True)\n",
            "***********Usng Count Vectorizer****************\n",
            "Accuarcy: 92.36\n",
            "Confusion Matrix: \n",
            " [[ 353   67]\n",
            " [ 195 2816]]\n",
            "CM not normalized\n",
            "Classification Report: \n",
            "               precision    recall  f1-score   support\n",
            "\n",
            "           0       0.64      0.84      0.73       420\n",
            "           1       0.98      0.94      0.96      3011\n",
            "\n",
            "    accuracy                           0.92      3431\n",
            "   macro avg       0.81      0.89      0.84      3431\n",
            "weighted avg       0.94      0.92      0.93      3431\n",
            "\n",
            "***********Usng TFIDF Vectorizer****************\n",
            "Accuarcy: 94.08\n",
            "Confusion Matrix: \n",
            " [[ 251  169]\n",
            " [  34 2977]]\n",
            "CM not normalized\n",
            "Classification Report: \n",
            "               precision    recall  f1-score   support\n",
            "\n",
            "           0       0.88      0.60      0.71       420\n",
            "           1       0.95      0.99      0.97      3011\n",
            "\n",
            "    accuracy                           0.94      3431\n",
            "   macro avg       0.91      0.79      0.84      3431\n",
            "weighted avg       0.94      0.94      0.94      3431\n",
            "\n",
            "\n",
            "\n",
            " PassiveAggressiveClassifier(C=1.0, average=False, class_weight=None,\n",
            "                            early_stopping=False, fit_intercept=True,\n",
            "                            loss='hinge', max_iter=10, n_iter_no_change=5,\n",
            "                            n_jobs=None, random_state=None, shuffle=True,\n",
            "                            tol=0.001, validation_fraction=0.1, verbose=0,\n",
            "                            warm_start=False)\n",
            "***********Usng Count Vectorizer****************\n"
          ],
          "name": "stdout"
        },
        {
          "output_type": "stream",
          "text": [
            "/usr/local/lib/python3.7/dist-packages/sklearn/linear_model/_stochastic_gradient.py:557: ConvergenceWarning: Maximum number of iteration reached before convergence. Consider increasing max_iter to improve the fit.\n",
            "  ConvergenceWarning)\n"
          ],
          "name": "stderr"
        },
        {
          "output_type": "stream",
          "text": [
            "Accuarcy: 93.24\n",
            "Confusion Matrix: \n",
            " [[ 322   98]\n",
            " [ 134 2877]]\n",
            "CM not normalized\n",
            "Classification Report: \n",
            "               precision    recall  f1-score   support\n",
            "\n",
            "           0       0.71      0.77      0.74       420\n",
            "           1       0.97      0.96      0.96      3011\n",
            "\n",
            "    accuracy                           0.93      3431\n",
            "   macro avg       0.84      0.86      0.85      3431\n",
            "weighted avg       0.94      0.93      0.93      3431\n",
            "\n",
            "***********Usng TFIDF Vectorizer****************\n"
          ],
          "name": "stdout"
        },
        {
          "output_type": "stream",
          "text": [
            "/usr/local/lib/python3.7/dist-packages/sklearn/linear_model/_stochastic_gradient.py:557: ConvergenceWarning: Maximum number of iteration reached before convergence. Consider increasing max_iter to improve the fit.\n",
            "  ConvergenceWarning)\n"
          ],
          "name": "stderr"
        },
        {
          "output_type": "stream",
          "text": [
            "Accuarcy: 95.16\n",
            "Confusion Matrix: \n",
            " [[ 327   93]\n",
            " [  73 2938]]\n",
            "CM not normalized\n",
            "Classification Report: \n",
            "               precision    recall  f1-score   support\n",
            "\n",
            "           0       0.82      0.78      0.80       420\n",
            "           1       0.97      0.98      0.97      3011\n",
            "\n",
            "    accuracy                           0.95      3431\n",
            "   macro avg       0.89      0.88      0.89      3431\n",
            "weighted avg       0.95      0.95      0.95      3431\n",
            "\n",
            "\n",
            "\n",
            " MLPClassifier(activation='relu', alpha=0.0001, batch_size='auto', beta_1=0.9,\n",
            "              beta_2=0.999, early_stopping=False, epsilon=1e-08,\n",
            "              hidden_layer_sizes=(33,), learning_rate='constant',\n",
            "              learning_rate_init=0.001, max_fun=15000, max_iter=500,\n",
            "              momentum=0.9, n_iter_no_change=10, nesterovs_momentum=True,\n",
            "              power_t=0.5, random_state=None, shuffle=True, solver='adam',\n",
            "              tol=0.0001, validation_fraction=0.1, verbose=False,\n",
            "              warm_start=False)\n",
            "***********Usng Count Vectorizer****************\n",
            "Accuarcy: 95.54\n",
            "Confusion Matrix: \n",
            " [[ 329   91]\n",
            " [  62 2949]]\n",
            "CM not normalized\n",
            "Classification Report: \n",
            "               precision    recall  f1-score   support\n",
            "\n",
            "           0       0.84      0.78      0.81       420\n",
            "           1       0.97      0.98      0.97      3011\n",
            "\n",
            "    accuracy                           0.96      3431\n",
            "   macro avg       0.91      0.88      0.89      3431\n",
            "weighted avg       0.95      0.96      0.95      3431\n",
            "\n",
            "***********Usng TFIDF Vectorizer****************\n",
            "Accuarcy: 95.8\n",
            "Confusion Matrix: \n",
            " [[ 333   87]\n",
            " [  57 2954]]\n",
            "CM not normalized\n",
            "Classification Report: \n",
            "               precision    recall  f1-score   support\n",
            "\n",
            "           0       0.85      0.79      0.82       420\n",
            "           1       0.97      0.98      0.98      3011\n",
            "\n",
            "    accuracy                           0.96      3431\n",
            "   macro avg       0.91      0.89      0.90      3431\n",
            "weighted avg       0.96      0.96      0.96      3431\n",
            "\n",
            "\n",
            "\n",
            " LinearSVC(C=100, class_weight=None, dual=True, fit_intercept=True,\n",
            "          intercept_scaling=1, loss='squared_hinge', max_iter=1000,\n",
            "          multi_class='ovr', penalty='l2', random_state=None, tol=0.0001,\n",
            "          verbose=0)\n",
            "***********Usng Count Vectorizer****************\n"
          ],
          "name": "stdout"
        },
        {
          "output_type": "stream",
          "text": [
            "/usr/local/lib/python3.7/dist-packages/sklearn/svm/_base.py:947: ConvergenceWarning: Liblinear failed to converge, increase the number of iterations.\n",
            "  \"the number of iterations.\", ConvergenceWarning)\n"
          ],
          "name": "stderr"
        },
        {
          "output_type": "stream",
          "text": [
            "Accuarcy: 93.79\n",
            "Confusion Matrix: \n",
            " [[ 307  113]\n",
            " [ 100 2911]]\n",
            "CM not normalized\n",
            "Classification Report: \n",
            "               precision    recall  f1-score   support\n",
            "\n",
            "           0       0.75      0.73      0.74       420\n",
            "           1       0.96      0.97      0.96      3011\n",
            "\n",
            "    accuracy                           0.94      3431\n",
            "   macro avg       0.86      0.85      0.85      3431\n",
            "weighted avg       0.94      0.94      0.94      3431\n",
            "\n",
            "***********Usng TFIDF Vectorizer****************\n"
          ],
          "name": "stdout"
        },
        {
          "output_type": "stream",
          "text": [
            "/usr/local/lib/python3.7/dist-packages/sklearn/svm/_base.py:947: ConvergenceWarning: Liblinear failed to converge, increase the number of iterations.\n",
            "  \"the number of iterations.\", ConvergenceWarning)\n"
          ],
          "name": "stderr"
        },
        {
          "output_type": "stream",
          "text": [
            "Accuarcy: 95.02\n",
            "Confusion Matrix: \n",
            " [[ 331   89]\n",
            " [  82 2929]]\n",
            "CM not normalized\n",
            "Classification Report: \n",
            "               precision    recall  f1-score   support\n",
            "\n",
            "           0       0.80      0.79      0.79       420\n",
            "           1       0.97      0.97      0.97      3011\n",
            "\n",
            "    accuracy                           0.95      3431\n",
            "   macro avg       0.89      0.88      0.88      3431\n",
            "weighted avg       0.95      0.95      0.95      3431\n",
            "\n",
            "\n",
            "\n",
            " RandomForestClassifier(bootstrap=True, ccp_alpha=0.0, class_weight=None,\n",
            "                       criterion='entropy', max_depth=400, max_features='auto',\n",
            "                       max_leaf_nodes=None, max_samples=None,\n",
            "                       min_impurity_decrease=0.0, min_impurity_split=None,\n",
            "                       min_samples_leaf=1, min_samples_split=2,\n",
            "                       min_weight_fraction_leaf=0.0, n_estimators=100,\n",
            "                       n_jobs=None, oob_score=False, random_state=0, verbose=0,\n",
            "                       warm_start=False)\n",
            "***********Usng Count Vectorizer****************\n",
            "Accuarcy: 93.0\n",
            "Confusion Matrix: \n",
            " [[ 182  238]\n",
            " [   2 3009]]\n",
            "CM not normalized\n",
            "Classification Report: \n",
            "               precision    recall  f1-score   support\n",
            "\n",
            "           0       0.99      0.43      0.60       420\n",
            "           1       0.93      1.00      0.96      3011\n",
            "\n",
            "    accuracy                           0.93      3431\n",
            "   macro avg       0.96      0.72      0.78      3431\n",
            "weighted avg       0.93      0.93      0.92      3431\n",
            "\n",
            "***********Usng TFIDF Vectorizer****************\n",
            "Accuarcy: 93.0\n",
            "Confusion Matrix: \n",
            " [[ 181  239]\n",
            " [   1 3010]]\n",
            "CM not normalized\n",
            "Classification Report: \n",
            "               precision    recall  f1-score   support\n",
            "\n",
            "           0       0.99      0.43      0.60       420\n",
            "           1       0.93      1.00      0.96      3011\n",
            "\n",
            "    accuracy                           0.93      3431\n",
            "   macro avg       0.96      0.72      0.78      3431\n",
            "weighted avg       0.93      0.93      0.92      3431\n",
            "\n",
            "\n",
            "\n",
            " XGBClassifier(base_score=0.5, booster='gbtree', colsample_bylevel=1,\n",
            "              colsample_bynode=1, colsample_bytree=1, gamma=0,\n",
            "              learning_rate=0.1, max_delta_step=0, max_depth=3,\n",
            "              min_child_weight=1, missing=None, n_estimators=100, n_jobs=1,\n",
            "              nthread=None, objective='binary:logistic', random_state=0,\n",
            "              reg_alpha=0, reg_lambda=1, scale_pos_weight=1, seed=None,\n",
            "              silent=None, subsample=1, verbosity=1)\n",
            "***********Usng Count Vectorizer****************\n",
            "Accuarcy: 93.97\n",
            "Confusion Matrix: \n",
            " [[ 227  193]\n",
            " [  14 2997]]\n",
            "CM not normalized\n",
            "Classification Report: \n",
            "               precision    recall  f1-score   support\n",
            "\n",
            "           0       0.94      0.54      0.69       420\n",
            "           1       0.94      1.00      0.97      3011\n",
            "\n",
            "    accuracy                           0.94      3431\n",
            "   macro avg       0.94      0.77      0.83      3431\n",
            "weighted avg       0.94      0.94      0.93      3431\n",
            "\n",
            "***********Usng TFIDF Vectorizer****************\n",
            "Accuarcy: 94.2\n",
            "Confusion Matrix: \n",
            " [[ 236  184]\n",
            " [  15 2996]]\n",
            "CM not normalized\n",
            "Classification Report: \n",
            "               precision    recall  f1-score   support\n",
            "\n",
            "           0       0.94      0.56      0.70       420\n",
            "           1       0.94      1.00      0.97      3011\n",
            "\n",
            "    accuracy                           0.94      3431\n",
            "   macro avg       0.94      0.78      0.84      3431\n",
            "weighted avg       0.94      0.94      0.94      3431\n",
            "\n"
          ],
          "name": "stdout"
        },
        {
          "output_type": "display_data",
          "data": {
            "image/png": "[encoded data removed]",
            "text/plain": [
              "<Figure size 432x288 with 17 Axes>"
            ]
          },
          "metadata": {
            "tags": [],
            "needs_background": "light"
          }
        }
      ]
    },
    {
      "cell_type": "markdown",
      "metadata": {
        "id": "su6yoxWxRWeB"
      },
      "source": [
        "**Using CountVectorizer and TFIDF Vectorizer with lemmatized text**\n",
        "<a id=\"counttfidf-lemmatized\"></a>"
      ]
    },
    {
      "cell_type": "code",
      "metadata": {
        "id": "v3_tk2LING6y"
      },
      "source": [
        "from sklearn.model_selection import train_test_split"
      ],
      "execution_count": null,
      "outputs": []
    },
    {
      "cell_type": "code",
      "metadata": {
        "id": "4R2B_PngRWeC",
        "colab": {
          "base_uri": "https://localhost:8080/",
          "height": 1000
        },
        "outputId": "baf375b0-f4a5-4cd3-86b7-ed1aaaf7dc7b"
      },
      "source": [
        "print(\"******USING LEMMATIZED TEXT********\")\n",
        "X_train, X_test, y_train, y_test = train_test_split(lemmatized_text, dataset['label'], test_size = 0.3, random_state= 0)\n",
        "classifiers = [LogisticRegression(), SGDClassifier(), MultinomialNB(alpha = 0.01), PassiveAggressiveClassifier(max_iter=10), MLPClassifier(hidden_layer_sizes=(33,),max_iter=500), LinearSVC(C=100), \n",
        "               RandomForestClassifier(criterion='entropy', max_depth=400, random_state=0), XGBClassifier()]\n",
        "for classifier in classifiers:\n",
        "    print(\"\\n\\n\", classifier)\n",
        "    print(\"***********Usng Count Vectorizer****************\")\n",
        "    get_prediction(CountVectorizer(), classifier, X_train, X_test, y_train, y_test)\n",
        "    print(\"***********Usng TFIDF Vectorizer****************\")\n",
        "    get_prediction(TfidfVectorizer(), classifier, X_train, X_test, y_train, y_test)"
      ],
      "execution_count": null,
      "outputs": [
        {
          "output_type": "stream",
          "text": [
            "******USING LEMMATIZED TEXT********\n",
            "\n",
            "\n",
            " LogisticRegression(C=1.0, class_weight=None, dual=False, fit_intercept=True,\n",
            "                   intercept_scaling=1, l1_ratio=None, max_iter=100,\n",
            "                   multi_class='auto', n_jobs=None, penalty='l2',\n",
            "                   random_state=None, solver='lbfgs', tol=0.0001, verbose=0,\n",
            "                   warm_start=False)\n",
            "***********Usng Count Vectorizer****************\n"
          ],
          "name": "stdout"
        },
        {
          "output_type": "stream",
          "text": [
            "/usr/local/lib/python3.7/dist-packages/sklearn/linear_model/_logistic.py:940: ConvergenceWarning: lbfgs failed to converge (status=1):\n",
            "STOP: TOTAL NO. of ITERATIONS REACHED LIMIT.\n",
            "\n",
            "Increase the number of iterations (max_iter) or scale the data as shown in:\n",
            "    https://scikit-learn.org/stable/modules/preprocessing.html\n",
            "Please also refer to the documentation for alternative solver options:\n",
            "    https://scikit-learn.org/stable/modules/linear_model.html#logistic-regression\n",
            "  extra_warning_msg=_LOGISTIC_SOLVER_CONVERGENCE_MSG)\n"
          ],
          "name": "stderr"
        },
        {
          "output_type": "stream",
          "text": [
            "Accuarcy: 94.46\n",
            "Confusion Matrix: \n",
            " [[ 310  110]\n",
            " [  80 2931]]\n",
            "CM not normalized\n",
            "Classification Report: \n",
            "               precision    recall  f1-score   support\n",
            "\n",
            "           0       0.79      0.74      0.77       420\n",
            "           1       0.96      0.97      0.97      3011\n",
            "\n",
            "    accuracy                           0.94      3431\n",
            "   macro avg       0.88      0.86      0.87      3431\n",
            "weighted avg       0.94      0.94      0.94      3431\n",
            "\n",
            "CM not normalized\n",
            "***********Usng TFIDF Vectorizer****************\n",
            "Accuarcy: 92.95\n",
            "Confusion Matrix: \n",
            " [[ 215  205]\n",
            " [  37 2974]]\n",
            "CM not normalized\n",
            "Classification Report: \n",
            "               precision    recall  f1-score   support\n",
            "\n",
            "           0       0.85      0.51      0.64       420\n",
            "           1       0.94      0.99      0.96      3011\n",
            "\n",
            "    accuracy                           0.93      3431\n",
            "   macro avg       0.89      0.75      0.80      3431\n",
            "weighted avg       0.93      0.93      0.92      3431\n",
            "\n",
            "CM not normalized\n",
            "\n",
            "\n",
            " SGDClassifier(alpha=0.0001, average=False, class_weight=None,\n",
            "              early_stopping=False, epsilon=0.1, eta0=0.0, fit_intercept=True,\n",
            "              l1_ratio=0.15, learning_rate='optimal', loss='hinge',\n",
            "              max_iter=1000, n_iter_no_change=5, n_jobs=None, penalty='l2',\n",
            "              power_t=0.5, random_state=None, shuffle=True, tol=0.001,\n",
            "              validation_fraction=0.1, verbose=0, warm_start=False)\n",
            "***********Usng Count Vectorizer****************\n",
            "Accuarcy: 94.23\n",
            "Confusion Matrix: \n",
            " [[ 339   81]\n",
            " [ 117 2894]]\n",
            "CM not normalized\n",
            "Classification Report: \n",
            "               precision    recall  f1-score   support\n",
            "\n",
            "           0       0.74      0.81      0.77       420\n",
            "           1       0.97      0.96      0.97      3011\n",
            "\n",
            "    accuracy                           0.94      3431\n",
            "   macro avg       0.86      0.88      0.87      3431\n",
            "weighted avg       0.94      0.94      0.94      3431\n",
            "\n",
            "CM not normalized\n",
            "***********Usng TFIDF Vectorizer****************\n",
            "Accuarcy: 94.72\n",
            "Confusion Matrix: \n",
            " [[ 291  129]\n",
            " [  52 2959]]\n",
            "CM not normalized\n",
            "Classification Report: \n",
            "               precision    recall  f1-score   support\n",
            "\n",
            "           0       0.85      0.69      0.76       420\n",
            "           1       0.96      0.98      0.97      3011\n",
            "\n",
            "    accuracy                           0.95      3431\n",
            "   macro avg       0.90      0.84      0.87      3431\n",
            "weighted avg       0.94      0.95      0.94      3431\n",
            "\n",
            "CM not normalized\n",
            "\n",
            "\n",
            " MultinomialNB(alpha=0.01, class_prior=None, fit_prior=True)\n",
            "***********Usng Count Vectorizer****************\n",
            "Accuarcy: 92.25\n",
            "Confusion Matrix: \n",
            " [[ 350   70]\n",
            " [ 196 2815]]\n",
            "CM not normalized\n",
            "Classification Report: \n",
            "               precision    recall  f1-score   support\n",
            "\n",
            "           0       0.64      0.83      0.72       420\n",
            "           1       0.98      0.93      0.95      3011\n",
            "\n",
            "    accuracy                           0.92      3431\n",
            "   macro avg       0.81      0.88      0.84      3431\n",
            "weighted avg       0.93      0.92      0.93      3431\n",
            "\n",
            "CM not normalized\n",
            "***********Usng TFIDF Vectorizer****************\n",
            "Accuarcy: 94.17\n",
            "Confusion Matrix: \n",
            " [[ 256  164]\n",
            " [  36 2975]]\n",
            "CM not normalized\n",
            "Classification Report: \n",
            "               precision    recall  f1-score   support\n",
            "\n",
            "           0       0.88      0.61      0.72       420\n",
            "           1       0.95      0.99      0.97      3011\n",
            "\n",
            "    accuracy                           0.94      3431\n",
            "   macro avg       0.91      0.80      0.84      3431\n",
            "weighted avg       0.94      0.94      0.94      3431\n",
            "\n",
            "CM not normalized\n",
            "\n",
            "\n",
            " PassiveAggressiveClassifier(C=1.0, average=False, class_weight=None,\n",
            "                            early_stopping=False, fit_intercept=True,\n",
            "                            loss='hinge', max_iter=10, n_iter_no_change=5,\n",
            "                            n_jobs=None, random_state=None, shuffle=True,\n",
            "                            tol=0.001, validation_fraction=0.1, verbose=0,\n",
            "                            warm_start=False)\n",
            "***********Usng Count Vectorizer****************\n"
          ],
          "name": "stdout"
        },
        {
          "output_type": "stream",
          "text": [
            "/usr/local/lib/python3.7/dist-packages/sklearn/linear_model/_stochastic_gradient.py:557: ConvergenceWarning: Maximum number of iteration reached before convergence. Consider increasing max_iter to improve the fit.\n",
            "  ConvergenceWarning)\n"
          ],
          "name": "stderr"
        },
        {
          "output_type": "stream",
          "text": [
            "Accuarcy: 94.14\n",
            "Confusion Matrix: \n",
            " [[ 308  112]\n",
            " [  89 2922]]\n",
            "CM not normalized\n",
            "Classification Report: \n",
            "               precision    recall  f1-score   support\n",
            "\n",
            "           0       0.78      0.73      0.75       420\n",
            "           1       0.96      0.97      0.97      3011\n",
            "\n",
            "    accuracy                           0.94      3431\n",
            "   macro avg       0.87      0.85      0.86      3431\n",
            "weighted avg       0.94      0.94      0.94      3431\n",
            "\n",
            "CM not normalized\n",
            "***********Usng TFIDF Vectorizer****************\n"
          ],
          "name": "stdout"
        },
        {
          "output_type": "stream",
          "text": [
            "/usr/local/lib/python3.7/dist-packages/sklearn/linear_model/_stochastic_gradient.py:557: ConvergenceWarning: Maximum number of iteration reached before convergence. Consider increasing max_iter to improve the fit.\n",
            "  ConvergenceWarning)\n"
          ],
          "name": "stderr"
        },
        {
          "output_type": "stream",
          "text": [
            "Accuarcy: 95.31\n",
            "Confusion Matrix: \n",
            " [[ 324   96]\n",
            " [  65 2946]]\n",
            "CM not normalized\n",
            "Classification Report: \n",
            "               precision    recall  f1-score   support\n",
            "\n",
            "           0       0.83      0.77      0.80       420\n",
            "           1       0.97      0.98      0.97      3011\n",
            "\n",
            "    accuracy                           0.95      3431\n",
            "   macro avg       0.90      0.87      0.89      3431\n",
            "weighted avg       0.95      0.95      0.95      3431\n",
            "\n",
            "CM not normalized\n",
            "\n",
            "\n",
            " MLPClassifier(activation='relu', alpha=0.0001, batch_size='auto', beta_1=0.9,\n",
            "              beta_2=0.999, early_stopping=False, epsilon=1e-08,\n",
            "              hidden_layer_sizes=(33,), learning_rate='constant',\n",
            "              learning_rate_init=0.001, max_fun=15000, max_iter=500,\n",
            "              momentum=0.9, n_iter_no_change=10, nesterovs_momentum=True,\n",
            "              power_t=0.5, random_state=None, shuffle=True, solver='adam',\n",
            "              tol=0.0001, validation_fraction=0.1, verbose=False,\n",
            "              warm_start=False)\n",
            "***********Usng Count Vectorizer****************\n"
          ],
          "name": "stdout"
        },
        {
          "output_type": "stream",
          "text": [
            "/usr/local/lib/python3.7/dist-packages/sklearn/neural_network/_multilayer_perceptron.py:573: UserWarning: Training interrupted by user.\n",
            "  warnings.warn(\"Training interrupted by user.\")\n"
          ],
          "name": "stderr"
        },
        {
          "output_type": "stream",
          "text": [
            "Accuarcy: 95.51\n",
            "Confusion Matrix: \n",
            " [[ 318  102]\n",
            " [  52 2959]]\n",
            "CM not normalized\n",
            "Classification Report: \n",
            "               precision    recall  f1-score   support\n",
            "\n",
            "           0       0.86      0.76      0.81       420\n",
            "           1       0.97      0.98      0.97      3011\n",
            "\n",
            "    accuracy                           0.96      3431\n",
            "   macro avg       0.91      0.87      0.89      3431\n",
            "weighted avg       0.95      0.96      0.95      3431\n",
            "\n",
            "CM not normalized\n",
            "***********Usng TFIDF Vectorizer****************\n"
          ],
          "name": "stdout"
        },
        {
          "output_type": "stream",
          "text": [
            "/usr/local/lib/python3.7/dist-packages/sklearn/neural_network/_multilayer_perceptron.py:573: UserWarning: Training interrupted by user.\n",
            "  warnings.warn(\"Training interrupted by user.\")\n"
          ],
          "name": "stderr"
        },
        {
          "output_type": "stream",
          "text": [
            "Accuarcy: 95.66\n",
            "Confusion Matrix: \n",
            " [[ 323   97]\n",
            " [  52 2959]]\n",
            "CM not normalized\n",
            "Classification Report: \n",
            "               precision    recall  f1-score   support\n",
            "\n",
            "           0       0.86      0.77      0.81       420\n",
            "           1       0.97      0.98      0.98      3011\n",
            "\n",
            "    accuracy                           0.96      3431\n",
            "   macro avg       0.91      0.88      0.89      3431\n",
            "weighted avg       0.96      0.96      0.96      3431\n",
            "\n",
            "CM not normalized\n",
            "\n",
            "\n",
            " LinearSVC(C=100, class_weight=None, dual=True, fit_intercept=True,\n",
            "          intercept_scaling=1, loss='squared_hinge', max_iter=1000,\n",
            "          multi_class='ovr', penalty='l2', random_state=None, tol=0.0001,\n",
            "          verbose=0)\n",
            "***********Usng Count Vectorizer****************\n"
          ],
          "name": "stdout"
        },
        {
          "output_type": "stream",
          "text": [
            "/usr/local/lib/python3.7/dist-packages/sklearn/svm/_base.py:947: ConvergenceWarning: Liblinear failed to converge, increase the number of iterations.\n",
            "  \"the number of iterations.\", ConvergenceWarning)\n"
          ],
          "name": "stderr"
        },
        {
          "output_type": "stream",
          "text": [
            "Accuarcy: 94.17\n",
            "Confusion Matrix: \n",
            " [[ 314  106]\n",
            " [  94 2917]]\n",
            "CM not normalized\n",
            "Classification Report: \n",
            "               precision    recall  f1-score   support\n",
            "\n",
            "           0       0.77      0.75      0.76       420\n",
            "           1       0.96      0.97      0.97      3011\n",
            "\n",
            "    accuracy                           0.94      3431\n",
            "   macro avg       0.87      0.86      0.86      3431\n",
            "weighted avg       0.94      0.94      0.94      3431\n",
            "\n",
            "CM not normalized\n",
            "***********Usng TFIDF Vectorizer****************\n"
          ],
          "name": "stdout"
        },
        {
          "output_type": "stream",
          "text": [
            "/usr/local/lib/python3.7/dist-packages/sklearn/svm/_base.py:947: ConvergenceWarning: Liblinear failed to converge, increase the number of iterations.\n",
            "  \"the number of iterations.\", ConvergenceWarning)\n"
          ],
          "name": "stderr"
        },
        {
          "output_type": "stream",
          "text": [
            "Accuarcy: 95.1\n",
            "Confusion Matrix: \n",
            " [[ 327   93]\n",
            " [  75 2936]]\n",
            "CM not normalized\n",
            "Classification Report: \n",
            "               precision    recall  f1-score   support\n",
            "\n",
            "           0       0.81      0.78      0.80       420\n",
            "           1       0.97      0.98      0.97      3011\n",
            "\n",
            "    accuracy                           0.95      3431\n",
            "   macro avg       0.89      0.88      0.88      3431\n",
            "weighted avg       0.95      0.95      0.95      3431\n",
            "\n",
            "CM not normalized\n",
            "\n",
            "\n",
            " RandomForestClassifier(bootstrap=True, ccp_alpha=0.0, class_weight=None,\n",
            "                       criterion='entropy', max_depth=400, max_features='auto',\n",
            "                       max_leaf_nodes=None, max_samples=None,\n",
            "                       min_impurity_decrease=0.0, min_impurity_split=None,\n",
            "                       min_samples_leaf=1, min_samples_split=2,\n",
            "                       min_weight_fraction_leaf=0.0, n_estimators=100,\n",
            "                       n_jobs=None, oob_score=False, random_state=0, verbose=0,\n",
            "                       warm_start=False)\n",
            "***********Usng Count Vectorizer****************\n",
            "Accuarcy: 93.21\n",
            "Confusion Matrix: \n",
            " [[ 188  232]\n",
            " [   1 3010]]\n",
            "CM not normalized\n",
            "Classification Report: \n",
            "               precision    recall  f1-score   support\n",
            "\n",
            "           0       0.99      0.45      0.62       420\n",
            "           1       0.93      1.00      0.96      3011\n",
            "\n",
            "    accuracy                           0.93      3431\n",
            "   macro avg       0.96      0.72      0.79      3431\n",
            "weighted avg       0.94      0.93      0.92      3431\n",
            "\n",
            "CM not normalized\n",
            "***********Usng TFIDF Vectorizer****************\n",
            "Accuarcy: 92.8\n",
            "Confusion Matrix: \n",
            " [[ 175  245]\n",
            " [   2 3009]]\n",
            "CM not normalized\n",
            "Classification Report: \n",
            "               precision    recall  f1-score   support\n",
            "\n",
            "           0       0.99      0.42      0.59       420\n",
            "           1       0.92      1.00      0.96      3011\n",
            "\n",
            "    accuracy                           0.93      3431\n",
            "   macro avg       0.96      0.71      0.77      3431\n",
            "weighted avg       0.93      0.93      0.91      3431\n",
            "\n",
            "CM not normalized\n",
            "\n",
            "\n",
            " XGBClassifier(base_score=0.5, booster='gbtree', colsample_bylevel=1,\n",
            "              colsample_bynode=1, colsample_bytree=1, gamma=0,\n",
            "              learning_rate=0.1, max_delta_step=0, max_depth=3,\n",
            "              min_child_weight=1, missing=None, n_estimators=100, n_jobs=1,\n",
            "              nthread=None, objective='binary:logistic', random_state=0,\n",
            "              reg_alpha=0, reg_lambda=1, scale_pos_weight=1, seed=None,\n",
            "              silent=None, subsample=1, verbosity=1)\n",
            "***********Usng Count Vectorizer****************\n",
            "Accuarcy: 93.94\n",
            "Confusion Matrix: \n",
            " [[ 228  192]\n",
            " [  16 2995]]\n",
            "CM not normalized\n",
            "Classification Report: \n",
            "               precision    recall  f1-score   support\n",
            "\n",
            "           0       0.93      0.54      0.69       420\n",
            "           1       0.94      0.99      0.97      3011\n",
            "\n",
            "    accuracy                           0.94      3431\n",
            "   macro avg       0.94      0.77      0.83      3431\n",
            "weighted avg       0.94      0.94      0.93      3431\n",
            "\n",
            "CM not normalized\n",
            "***********Usng TFIDF Vectorizer****************\n",
            "Accuarcy: 93.88\n",
            "Confusion Matrix: \n",
            " [[ 228  192]\n",
            " [  18 2993]]\n",
            "CM not normalized\n",
            "Classification Report: \n",
            "               precision    recall  f1-score   support\n",
            "\n",
            "           0       0.93      0.54      0.68       420\n",
            "           1       0.94      0.99      0.97      3011\n",
            "\n",
            "    accuracy                           0.94      3431\n",
            "   macro avg       0.93      0.77      0.83      3431\n",
            "weighted avg       0.94      0.94      0.93      3431\n",
            "\n",
            "CM not normalized\n"
          ],
          "name": "stdout"
        },
        {
          "output_type": "display_data",
          "data": {
            "image/png": "[encoded data removed]",
            "text/plain": [
              "<Figure size 432x288 with 33 Axes>"
            ]
          },
          "metadata": {
            "tags": [],
            "needs_background": "light"
          }
        }
      ]
    },
    {
      "cell_type": "markdown",
      "metadata": {
        "id": "8VnhuucIRWeC"
      },
      "source": [
        "After doing Predictive analysis above using both stemmed text and lemmatized text with Count Vectorizer and TFIDF Vectorizer, we see that the XGB Classifier is giving best results with lemmatized texts and Count Vectorizer with accuracy score of 99.78%"
      ]
    },
    {
      "cell_type": "markdown",
      "metadata": {
        "id": "dnKts05bRWeC"
      },
      "source": [
        "# LSTM model using One Hot vector \n",
        "<a id =\"one-hot-vector-lstm\"></a>"
      ]
    },
    {
      "cell_type": "code",
      "metadata": {
        "id": "bcgfB5aBRWeD",
        "colab": {
          "base_uri": "https://localhost:8080/"
        },
        "outputId": "6232e9a2-6153-40f0-b328-c81b491d9e04"
      },
      "source": [
        "import tensorflow as tf\n",
        "print(tf.__version__)"
      ],
      "execution_count": null,
      "outputs": [
        {
          "output_type": "stream",
          "text": [
            "2.5.0\n"
          ],
          "name": "stdout"
        }
      ]
    },
    {
      "cell_type": "markdown",
      "metadata": {
        "id": "K08bulWfRWeD"
      },
      "source": [
        "**Using One hot representation and Stemmed Text**\n",
        "<a id = \"one-hot-stemmed\"></a>"
      ]
    },
    {
      "cell_type": "code",
      "metadata": {
        "id": "f7eBL7S3RWeD",
        "colab": {
          "base_uri": "https://localhost:8080/"
        },
        "outputId": "47745293-afd9-4aef-b7cb-b03f75d920a0"
      },
      "source": [
        "voc_size = 5000\n",
        "onehot_stemmed_text = [one_hot(word, voc_size) for word in stemmed_text]\n",
        "print(len(onehot_stemmed_text))\n",
        "onehot_stemmed_text[0]"
      ],
      "execution_count": null,
      "outputs": [
        {
          "output_type": "stream",
          "text": [
            "11434\n"
          ],
          "name": "stdout"
        },
        {
          "output_type": "execute_result",
          "data": {
            "text/plain": [
              "[2494,\n",
              " 282,\n",
              " 4253,\n",
              " 2313,\n",
              " 2505,\n",
              " 4334,\n",
              " 3133,\n",
              " 698,\n",
              " 4539,\n",
              " 1189,\n",
              " 4253,\n",
              " 2841,\n",
              " 3923,\n",
              " 2494,\n",
              " 465,\n",
              " 2313,\n",
              " 3024,\n",
              " 2505,\n",
              " 2875,\n",
              " 698,\n",
              " 1189,\n",
              " 3055,\n",
              " 4284,\n",
              " 1189,\n",
              " 3484,\n",
              " 3913,\n",
              " 3633,\n",
              " 2658,\n",
              " 115,\n",
              " 1104,\n",
              " 4821,\n",
              " 3392,\n",
              " 3881,\n",
              " 4731,\n",
              " 3482,\n",
              " 4148,\n",
              " 3864,\n",
              " 2410,\n",
              " 465,\n",
              " 4065,\n",
              " 4192,\n",
              " 2335,\n",
              " 282,\n",
              " 1047,\n",
              " 776,\n",
              " 2601,\n",
              " 2299,\n",
              " 996,\n",
              " 3454,\n",
              " 3398,\n",
              " 3672,\n",
              " 435,\n",
              " 3304,\n",
              " 1980,\n",
              " 3024,\n",
              " 2505,\n",
              " 3934,\n",
              " 3018,\n",
              " 4416,\n",
              " 3025,\n",
              " 996,\n",
              " 1739,\n",
              " 3672,\n",
              " 3758,\n",
              " 2649,\n",
              " 348,\n",
              " 1806,\n",
              " 3454,\n",
              " 2861,\n",
              " 3672,\n",
              " 2950,\n",
              " 4858,\n",
              " 4373,\n",
              " 4165,\n",
              " 1189,\n",
              " 3792,\n",
              " 3489,\n",
              " 3798,\n",
              " 415,\n",
              " 694,\n",
              " 4941,\n",
              " 2396,\n",
              " 3213,\n",
              " 3377,\n",
              " 4124,\n",
              " 3758,\n",
              " 323,\n",
              " 1031,\n",
              " 1637,\n",
              " 3758,\n",
              " 76,\n",
              " 4332,\n",
              " 2086,\n",
              " 2274,\n",
              " 461,\n",
              " 694,\n",
              " 4976,\n",
              " 1457,\n",
              " 4482,\n",
              " 2051,\n",
              " 3025,\n",
              " 3798,\n",
              " 3913,\n",
              " 694,\n",
              " 4082,\n",
              " 1031,\n",
              " 1367,\n",
              " 1348,\n",
              " 1193,\n",
              " 3025,\n",
              " 968,\n",
              " 3913,\n",
              " 4098,\n",
              " 3758,\n",
              " 1109,\n",
              " 2587,\n",
              " 1154,\n",
              " 4821,\n",
              " 4515,\n",
              " 3055,\n",
              " 4821,\n",
              " 1915,\n",
              " 3363,\n",
              " 2231,\n",
              " 1088,\n",
              " 3910,\n",
              " 4998,\n",
              " 2841,\n",
              " 3419,\n",
              " 394,\n",
              " 566,\n",
              " 2841,\n",
              " 3923,\n",
              " 2389,\n",
              " 1937,\n",
              " 4416,\n",
              " 2554,\n",
              " 4249,\n",
              " 2605,\n",
              " 2725,\n",
              " 2509,\n",
              " 3913,\n",
              " 4721,\n",
              " 2841,\n",
              " 3396,\n",
              " 2841,\n",
              " 840,\n",
              " 4540,\n",
              " 1627,\n",
              " 1954,\n",
              " 2998,\n",
              " 1955,\n",
              " 4171,\n",
              " 4687,\n",
              " 2647,\n",
              " 755,\n",
              " 1133,\n",
              " 1173,\n",
              " 1330,\n",
              " 3129,\n",
              " 2841,\n",
              " 274,\n",
              " 2647,\n",
              " 2786,\n",
              " 2732,\n",
              " 4422,\n",
              " 4940,\n",
              " 3225,\n",
              " 4135,\n",
              " 2410,\n",
              " 2343,\n",
              " 1154,\n",
              " 4821,\n",
              " 4206,\n",
              " 3049,\n",
              " 3454,\n",
              " 1547,\n",
              " 966,\n",
              " 1715,\n",
              " 4528,\n",
              " 4323,\n",
              " 3079,\n",
              " 4323,\n",
              " 3891,\n",
              " 1900,\n",
              " 4323,\n",
              " 2272,\n",
              " 4698,\n",
              " 1376,\n",
              " 2343,\n",
              " 2212,\n",
              " 4941,\n",
              " 908,\n",
              " 1521,\n",
              " 2272,\n",
              " 2651,\n",
              " 3365,\n",
              " 1806,\n",
              " 4192,\n",
              " 2335,\n",
              " 1464,\n",
              " 592,\n",
              " 966,\n",
              " 4687,\n",
              " 2861,\n",
              " 2343,\n",
              " 579,\n",
              " 2391,\n",
              " 1088,\n",
              " 1129,\n",
              " 2410,\n",
              " 2299,\n",
              " 996,\n",
              " 3454,\n",
              " 3663,\n",
              " 4065,\n",
              " 4192,\n",
              " 2335,\n",
              " 282,\n",
              " 2786,\n",
              " 4217,\n",
              " 1739,\n",
              " 2083,\n",
              " 4346,\n",
              " 2299,\n",
              " 996,\n",
              " 3454,\n",
              " 3398,\n",
              " 3758,\n",
              " 76,\n",
              " 4721,\n",
              " 1995,\n",
              " 430,\n",
              " 250,\n",
              " 189,\n",
              " 2689,\n",
              " 2231,\n",
              " 3133,\n",
              " 2936,\n",
              " 1739,\n",
              " 3672,\n",
              " 3758,\n",
              " 2649,\n",
              " 348,\n",
              " 1806,\n",
              " 3769,\n",
              " 4802,\n",
              " 3554,\n",
              " 1947,\n",
              " 3739,\n",
              " 4687,\n",
              " 4898,\n",
              " 1189,\n",
              " 698,\n",
              " 412,\n",
              " 3330,\n",
              " 4065,\n",
              " 401,\n",
              " 4889,\n",
              " 391,\n",
              " 1662,\n",
              " 3449,\n",
              " 3564,\n",
              " 412,\n",
              " 2786,\n",
              " 469,\n",
              " 3737,\n",
              " 1795,\n",
              " 465,\n",
              " 412,\n",
              " 3672,\n",
              " 3989,\n",
              " 3404,\n",
              " 2889,\n",
              " 2601,\n",
              " 2307,\n",
              " 958,\n",
              " 435,\n",
              " 3304,\n",
              " 2515,\n",
              " 3758,\n",
              " 3995,\n",
              " 2672,\n",
              " 4424,\n",
              " 1448]"
            ]
          },
          "metadata": {
            "tags": []
          },
          "execution_count": 85
        }
      ]
    },
    {
      "cell_type": "code",
      "metadata": {
        "id": "yCocBsT0RWeE",
        "colab": {
          "base_uri": "https://localhost:8080/"
        },
        "outputId": "12cda7c4-0b09-4d05-fe9e-82b2c50e7c8a"
      },
      "source": [
        "sent_length = 400\n",
        "embedded_text = pad_sequences(onehot_stemmed_text, padding='pre', maxlen=sent_length)\n",
        "print(embedded_text)"
      ],
      "execution_count": null,
      "outputs": [
        {
          "output_type": "stream",
          "text": [
            "[[   0    0    0 ... 2672 4424 1448]\n",
            " [   0    0    0 ...  188 4444 2503]\n",
            " [   0    0    0 ... 2735 2039  111]\n",
            " ...\n",
            " [   0    0    0 ... 3506 1199 3679]\n",
            " [   0    0    0 ... 4290 4463 3146]\n",
            " [   0    0    0 ... 1791 4315  551]]\n"
          ],
          "name": "stdout"
        }
      ]
    },
    {
      "cell_type": "code",
      "metadata": {
        "id": "zcJhsMp2RWeE",
        "colab": {
          "base_uri": "https://localhost:8080/"
        },
        "outputId": "10ad7a1f-a226-4e35-ab32-b6b4281037ca"
      },
      "source": [
        "embedding_vector_features = 600\n",
        "model1 = Sequential()\n",
        "model1.add(Embedding(voc_size, embedding_vector_features, input_length=sent_length))\n",
        "model1.add(LSTM(100))\n",
        "model1.add(Dense(1, activation='sigmoid'))\n",
        "model1.compile(loss='binary_crossentropy', optimizer = 'adam', metrics = ['accuracy'])\n",
        "model1.summary()"
      ],
      "execution_count": null,
      "outputs": [
        {
          "output_type": "stream",
          "text": [
            "Model: \"sequential_1\"\n",
            "_________________________________________________________________\n",
            "Layer (type)                 Output Shape              Param #   \n",
            "=================================================================\n",
            "embedding_1 (Embedding)      (None, 400, 600)          3000000   \n",
            "_________________________________________________________________\n",
            "lstm_1 (LSTM)                (None, 100)               280400    \n",
            "_________________________________________________________________\n",
            "dense_1 (Dense)              (None, 1)                 101       \n",
            "=================================================================\n",
            "Total params: 3,280,501\n",
            "Trainable params: 3,280,501\n",
            "Non-trainable params: 0\n",
            "_________________________________________________________________\n"
          ],
          "name": "stdout"
        }
      ]
    },
    {
      "cell_type": "code",
      "metadata": {
        "id": "v5WsEVyCRWeF"
      },
      "source": [
        "X_final = np.array(embedded_text)\n",
        "y_final = dataset['label']"
      ],
      "execution_count": null,
      "outputs": []
    },
    {
      "cell_type": "code",
      "metadata": {
        "id": "SDXgvFseRWeG",
        "colab": {
          "base_uri": "https://localhost:8080/"
        },
        "outputId": "6cba167b-2d88-4ef8-dd3d-7053fa8be8ff"
      },
      "source": [
        "X_final.shape,y_final.shape"
      ],
      "execution_count": null,
      "outputs": [
        {
          "output_type": "execute_result",
          "data": {
            "text/plain": [
              "((11434, 400), (11434,))"
            ]
          },
          "metadata": {
            "tags": []
          },
          "execution_count": 89
        }
      ]
    },
    {
      "cell_type": "code",
      "metadata": {
        "id": "W_1TuQaERWeG"
      },
      "source": [
        "X_train, X_test, y_train, y_test = train_test_split(X_final, y_final, test_size = 0.3, random_state = 0)"
      ],
      "execution_count": null,
      "outputs": []
    },
    {
      "cell_type": "code",
      "metadata": {
        "id": "L5o0tkoxRWeH"
      },
      "source": [
        "reduce_lr = ReduceLROnPlateau(monitor='val_loss', factor=0.1, patience=5, min_lr=1e-6, verbose=1)\n",
        "early_stop = EarlyStopping(monitor='val_loss', min_delta=0, patience=10, mode='auto')"
      ],
      "execution_count": null,
      "outputs": []
    },
    {
      "cell_type": "code",
      "metadata": {
        "id": "kc8KWaGrRWeH",
        "colab": {
          "base_uri": "https://localhost:8080/"
        },
        "outputId": "763218b5-be0f-43f8-8c2f-9c1ffdb64f38"
      },
      "source": [
        "model1.fit(X_train, y_train, validation_data=(X_test, y_test), epochs=20, batch_size = 256, callbacks=([reduce_lr, early_stop]))"
      ],
      "execution_count": null,
      "outputs": [
        {
          "output_type": "stream",
          "text": [
            "Epoch 1/20\n",
            "32/32 [==============================] - 15s 407ms/step - loss: 0.3796 - accuracy: 0.8633 - val_loss: 0.2206 - val_accuracy: 0.8983\n",
            "Epoch 2/20\n",
            "32/32 [==============================] - 12s 386ms/step - loss: 0.1381 - accuracy: 0.9468 - val_loss: 0.1803 - val_accuracy: 0.9344\n",
            "Epoch 3/20\n",
            "32/32 [==============================] - 12s 387ms/step - loss: 0.0528 - accuracy: 0.9858 - val_loss: 0.1919 - val_accuracy: 0.9359\n",
            "Epoch 4/20\n",
            "32/32 [==============================] - 12s 381ms/step - loss: 0.0207 - accuracy: 0.9958 - val_loss: 0.2125 - val_accuracy: 0.9338\n",
            "Epoch 5/20\n",
            "32/32 [==============================] - 12s 385ms/step - loss: 0.0083 - accuracy: 0.9983 - val_loss: 0.2405 - val_accuracy: 0.9382\n",
            "Epoch 6/20\n",
            "32/32 [==============================] - 12s 387ms/step - loss: 0.0044 - accuracy: 0.9995 - val_loss: 0.2640 - val_accuracy: 0.9356\n",
            "Epoch 7/20\n",
            "32/32 [==============================] - 12s 386ms/step - loss: 0.0018 - accuracy: 0.9998 - val_loss: 0.2824 - val_accuracy: 0.9335\n",
            "\n",
            "Epoch 00007: ReduceLROnPlateau reducing learning rate to 0.00010000000474974513.\n",
            "Epoch 8/20\n",
            "32/32 [==============================] - 12s 383ms/step - loss: 8.4418e-04 - accuracy: 1.0000 - val_loss: 0.2869 - val_accuracy: 0.9335\n",
            "Epoch 9/20\n",
            "32/32 [==============================] - 12s 385ms/step - loss: 7.1317e-04 - accuracy: 1.0000 - val_loss: 0.2912 - val_accuracy: 0.9365\n",
            "Epoch 10/20\n",
            "32/32 [==============================] - 12s 386ms/step - loss: 6.4909e-04 - accuracy: 1.0000 - val_loss: 0.2943 - val_accuracy: 0.9365\n",
            "Epoch 11/20\n",
            "32/32 [==============================] - 12s 391ms/step - loss: 6.0045e-04 - accuracy: 1.0000 - val_loss: 0.2965 - val_accuracy: 0.9353\n",
            "Epoch 12/20\n",
            "32/32 [==============================] - 12s 392ms/step - loss: 5.6093e-04 - accuracy: 1.0000 - val_loss: 0.2990 - val_accuracy: 0.9350\n",
            "\n",
            "Epoch 00012: ReduceLROnPlateau reducing learning rate to 1.0000000474974514e-05.\n"
          ],
          "name": "stdout"
        },
        {
          "output_type": "execute_result",
          "data": {
            "text/plain": [
              "<tensorflow.python.keras.callbacks.History at 0x7f2930758790>"
            ]
          },
          "metadata": {
            "tags": []
          },
          "execution_count": 92
        }
      ]
    },
    {
      "cell_type": "markdown",
      "metadata": {
        "id": "ZsYMv3SmRWeI"
      },
      "source": [
        "**Evaluate model**\n",
        "<a id = \"stemmed-evaluate\"></a>"
      ]
    },
    {
      "cell_type": "code",
      "metadata": {
        "id": "nv7sWlipRWeI",
        "colab": {
          "base_uri": "https://localhost:8080/"
        },
        "outputId": "992e3669-9192-48d9-8503-8eec6fdfc002"
      },
      "source": [
        "y_pred = model1.predict_classes(X_test)\n",
        "print(\"Accuarcy: {}\".format(round(accuracy_score(y_test, y_pred)*100,2)))"
      ],
      "execution_count": null,
      "outputs": [
        {
          "output_type": "stream",
          "text": [
            "/usr/local/lib/python3.7/dist-packages/tensorflow/python/keras/engine/sequential.py:455: UserWarning: `model.predict_classes()` is deprecated and will be removed after 2021-01-01. Please use instead:* `np.argmax(model.predict(x), axis=-1)`,   if your model does multi-class classification   (e.g. if it uses a `softmax` last-layer activation).* `(model.predict(x) > 0.5).astype(\"int32\")`,   if your model does binary classification   (e.g. if it uses a `sigmoid` last-layer activation).\n",
            "  warnings.warn('`model.predict_classes()` is deprecated and '\n"
          ],
          "name": "stderr"
        },
        {
          "output_type": "stream",
          "text": [
            "Accuarcy: 93.5\n"
          ],
          "name": "stdout"
        }
      ]
    },
    {
      "cell_type": "code",
      "metadata": {
        "id": "inHpEwZqRWeJ",
        "colab": {
          "base_uri": "https://localhost:8080/"
        },
        "outputId": "b1a09e6b-0f25-404f-8fc9-41daa60e538d"
      },
      "source": [
        "cm = confusion_matrix(y_test, y_pred)\n",
        "print(\"Confusion Matrix: \\n\", cm)"
      ],
      "execution_count": null,
      "outputs": [
        {
          "output_type": "stream",
          "text": [
            "Confusion Matrix: \n",
            " [[ 285  135]\n",
            " [  88 2923]]\n"
          ],
          "name": "stdout"
        }
      ]
    },
    {
      "cell_type": "code",
      "metadata": {
        "id": "hENUC0OjRWeJ",
        "colab": {
          "base_uri": "https://localhost:8080/"
        },
        "outputId": "f24ef11a-b914-4f74-c86c-7ea6ed0a5d34"
      },
      "source": [
        "print(\"Classification Report: \\n\", classification_report(y_test, y_pred))"
      ],
      "execution_count": null,
      "outputs": [
        {
          "output_type": "stream",
          "text": [
            "Classification Report: \n",
            "               precision    recall  f1-score   support\n",
            "\n",
            "           0       0.76      0.68      0.72       420\n",
            "           1       0.96      0.97      0.96      3011\n",
            "\n",
            "    accuracy                           0.94      3431\n",
            "   macro avg       0.86      0.82      0.84      3431\n",
            "weighted avg       0.93      0.94      0.93      3431\n",
            "\n"
          ],
          "name": "stdout"
        }
      ]
    },
    {
      "cell_type": "code",
      "metadata": {
        "colab": {
          "base_uri": "https://localhost:8080/",
          "height": 328
        },
        "id": "QaixhwXgpmXU",
        "outputId": "6cca2a6d-b77b-4f11-ae07-b0bf51f071d9"
      },
      "source": [
        "# Plot Confusion Matrix\n",
        "plot_confusion_matrix(cm,classes = ['Fake','Real'])"
      ],
      "execution_count": null,
      "outputs": [
        {
          "output_type": "stream",
          "text": [
            "CM not normalized\n"
          ],
          "name": "stdout"
        },
        {
          "output_type": "display_data",
          "data": {
            "image/png": "[encoded data removed]",
            "text/plain": [
              "<Figure size 432x288 with 2 Axes>"
            ]
          },
          "metadata": {
            "tags": [],
            "needs_background": "light"
          }
        }
      ]
    },
    {
      "cell_type": "markdown",
      "metadata": {
        "id": "lSM31QXcRWeJ"
      },
      "source": [
        "**Using One hot representation and Lemmatized Text**\n",
        "<a id = \"one-hot-lemmatized\"></a>"
      ]
    },
    {
      "cell_type": "code",
      "metadata": {
        "id": "hEK0EMztRWeJ",
        "colab": {
          "base_uri": "https://localhost:8080/"
        },
        "outputId": "dc59b922-5198-4379-e3cb-18b186f28c91"
      },
      "source": [
        "voc_size = 5000\n",
        "onehot_lemmatized_text = [one_hot(word, voc_size) for word in lemmatized_text]\n",
        "print(len(onehot_lemmatized_text))\n",
        "onehot_lemmatized_text[0]"
      ],
      "execution_count": null,
      "outputs": [
        {
          "output_type": "stream",
          "text": [
            "11434\n"
          ],
          "name": "stdout"
        },
        {
          "output_type": "execute_result",
          "data": {
            "text/plain": [
              "[2494,\n",
              " 132,\n",
              " 603,\n",
              " 2313,\n",
              " 2505,\n",
              " 4334,\n",
              " 3133,\n",
              " 698,\n",
              " 4539,\n",
              " 3818,\n",
              " 4253,\n",
              " 4858,\n",
              " 441,\n",
              " 1040,\n",
              " 1682,\n",
              " 3566,\n",
              " 3024,\n",
              " 2505,\n",
              " 549,\n",
              " 698,\n",
              " 2647,\n",
              " 3055,\n",
              " 1575,\n",
              " 2647,\n",
              " 4253,\n",
              " 3769,\n",
              " 3633,\n",
              " 2658,\n",
              " 115,\n",
              " 1104,\n",
              " 2400,\n",
              " 4292,\n",
              " 3881,\n",
              " 3388,\n",
              " 3482,\n",
              " 4148,\n",
              " 3864,\n",
              " 2169,\n",
              " 1682,\n",
              " 2572,\n",
              " 4192,\n",
              " 2335,\n",
              " 132,\n",
              " 4035,\n",
              " 1412,\n",
              " 2913,\n",
              " 2299,\n",
              " 996,\n",
              " 797,\n",
              " 3398,\n",
              " 3672,\n",
              " 896,\n",
              " 3304,\n",
              " 1980,\n",
              " 3024,\n",
              " 1276,\n",
              " 3934,\n",
              " 3018,\n",
              " 4416,\n",
              " 4309,\n",
              " 996,\n",
              " 3762,\n",
              " 1739,\n",
              " 3672,\n",
              " 3758,\n",
              " 2649,\n",
              " 1377,\n",
              " 1806,\n",
              " 797,\n",
              " 2861,\n",
              " 3672,\n",
              " 2950,\n",
              " 4858,\n",
              " 4373,\n",
              " 4165,\n",
              " 2647,\n",
              " 3792,\n",
              " 729,\n",
              " 3798,\n",
              " 415,\n",
              " 694,\n",
              " 4941,\n",
              " 149,\n",
              " 3213,\n",
              " 411,\n",
              " 4124,\n",
              " 3758,\n",
              " 323,\n",
              " 1031,\n",
              " 1637,\n",
              " 3758,\n",
              " 76,\n",
              " 4332,\n",
              " 2086,\n",
              " 2274,\n",
              " 3930,\n",
              " 694,\n",
              " 4976,\n",
              " 1457,\n",
              " 4482,\n",
              " 2051,\n",
              " 4309,\n",
              " 3798,\n",
              " 3769,\n",
              " 694,\n",
              " 4082,\n",
              " 1031,\n",
              " 1367,\n",
              " 3474,\n",
              " 1193,\n",
              " 4309,\n",
              " 968,\n",
              " 3769,\n",
              " 4098,\n",
              " 3758,\n",
              " 1109,\n",
              " 2592,\n",
              " 1154,\n",
              " 4821,\n",
              " 4731,\n",
              " 3055,\n",
              " 2400,\n",
              " 1915,\n",
              " 3363,\n",
              " 2231,\n",
              " 2059,\n",
              " 4002,\n",
              " 4998,\n",
              " 1997,\n",
              " 4858,\n",
              " 3419,\n",
              " 4076,\n",
              " 566,\n",
              " 4858,\n",
              " 441,\n",
              " 2389,\n",
              " 1937,\n",
              " 4416,\n",
              " 2554,\n",
              " 4249,\n",
              " 2605,\n",
              " 2787,\n",
              " 2509,\n",
              " 3769,\n",
              " 739,\n",
              " 2841,\n",
              " 3396,\n",
              " 4113,\n",
              " 840,\n",
              " 4540,\n",
              " 226,\n",
              " 1954,\n",
              " 2998,\n",
              " 1955,\n",
              " 4171,\n",
              " 4687,\n",
              " 4577,\n",
              " 755,\n",
              " 3065,\n",
              " 1173,\n",
              " 1330,\n",
              " 3129,\n",
              " 4858,\n",
              " 2666,\n",
              " 774,\n",
              " 2786,\n",
              " 2732,\n",
              " 4422,\n",
              " 4940,\n",
              " 3225,\n",
              " 4135,\n",
              " 2169,\n",
              " 3721,\n",
              " 1154,\n",
              " 4821,\n",
              " 2920,\n",
              " 808,\n",
              " 797,\n",
              " 3683,\n",
              " 966,\n",
              " 1715,\n",
              " 4528,\n",
              " 4323,\n",
              " 3079,\n",
              " 4323,\n",
              " 3891,\n",
              " 1900,\n",
              " 169,\n",
              " 2272,\n",
              " 2604,\n",
              " 1376,\n",
              " 2343,\n",
              " 4793,\n",
              " 4941,\n",
              " 908,\n",
              " 631,\n",
              " 2272,\n",
              " 2651,\n",
              " 3365,\n",
              " 1661,\n",
              " 4192,\n",
              " 2335,\n",
              " 4245,\n",
              " 4559,\n",
              " 966,\n",
              " 4687,\n",
              " 1576,\n",
              " 3721,\n",
              " 4893,\n",
              " 3032,\n",
              " 1088,\n",
              " 1129,\n",
              " 2169,\n",
              " 2299,\n",
              " 996,\n",
              " 797,\n",
              " 3663,\n",
              " 1373,\n",
              " 4192,\n",
              " 2335,\n",
              " 132,\n",
              " 2786,\n",
              " 3762,\n",
              " 4217,\n",
              " 1739,\n",
              " 2083,\n",
              " 970,\n",
              " 2299,\n",
              " 996,\n",
              " 797,\n",
              " 3398,\n",
              " 3758,\n",
              " 76,\n",
              " 4721,\n",
              " 1995,\n",
              " 430,\n",
              " 535,\n",
              " 189,\n",
              " 2689,\n",
              " 2231,\n",
              " 3133,\n",
              " 608,\n",
              " 3762,\n",
              " 1739,\n",
              " 3672,\n",
              " 3758,\n",
              " 2649,\n",
              " 1377,\n",
              " 1661,\n",
              " 3769,\n",
              " 333,\n",
              " 1818,\n",
              " 1947,\n",
              " 2748,\n",
              " 4687,\n",
              " 4804,\n",
              " 2647,\n",
              " 698,\n",
              " 4567,\n",
              " 571,\n",
              " 1373,\n",
              " 401,\n",
              " 4889,\n",
              " 2921,\n",
              " 3762,\n",
              " 1662,\n",
              " 3449,\n",
              " 3564,\n",
              " 2059,\n",
              " 2786,\n",
              " 469,\n",
              " 2451,\n",
              " 1795,\n",
              " 1682,\n",
              " 4567,\n",
              " 3672,\n",
              " 3989,\n",
              " 3404,\n",
              " 2889,\n",
              " 2913,\n",
              " 2911,\n",
              " 958,\n",
              " 896,\n",
              " 3304,\n",
              " 2515,\n",
              " 3758,\n",
              " 3995,\n",
              " 2672,\n",
              " 4424,\n",
              " 1448]"
            ]
          },
          "metadata": {
            "tags": []
          },
          "execution_count": 97
        }
      ]
    },
    {
      "cell_type": "code",
      "metadata": {
        "id": "2MMvfha4RWeK",
        "colab": {
          "base_uri": "https://localhost:8080/"
        },
        "outputId": "8a9faafe-13cc-4441-9dec-acd84930c497"
      },
      "source": [
        "sent_length = 400\n",
        "embedded_text = pad_sequences(onehot_lemmatized_text, padding='pre', maxlen=sent_length)\n",
        "print(embedded_text)"
      ],
      "execution_count": null,
      "outputs": [
        {
          "output_type": "stream",
          "text": [
            "[[   0    0    0 ... 2672 4424 1448]\n",
            " [   0    0    0 ...  188 4444 2503]\n",
            " [   0    0    0 ... 2735 2039  111]\n",
            " ...\n",
            " [   0    0    0 ... 3348 1199 3679]\n",
            " [   0    0    0 ... 4290 4275 3146]\n",
            " [   0    0    0 ... 2862 4315  551]]\n"
          ],
          "name": "stdout"
        }
      ]
    },
    {
      "cell_type": "code",
      "metadata": {
        "id": "Oz7dJVjnRWeK",
        "colab": {
          "base_uri": "https://localhost:8080/"
        },
        "outputId": "974c037e-2ca4-41c4-87cd-4140746a846f"
      },
      "source": [
        "embedding_vector_features = 600\n",
        "model2 = Sequential()\n",
        "model2.add(Embedding(voc_size, embedding_vector_features, input_length=sent_length))\n",
        "model2.add(LSTM(100))\n",
        "model2.add(Dense(1, activation='sigmoid'))\n",
        "model2.compile(loss='binary_crossentropy', optimizer = 'adam', metrics = ['accuracy'])\n",
        "model2.summary()"
      ],
      "execution_count": null,
      "outputs": [
        {
          "output_type": "stream",
          "text": [
            "Model: \"sequential_2\"\n",
            "_________________________________________________________________\n",
            "Layer (type)                 Output Shape              Param #   \n",
            "=================================================================\n",
            "embedding_2 (Embedding)      (None, 400, 600)          3000000   \n",
            "_________________________________________________________________\n",
            "lstm_2 (LSTM)                (None, 100)               280400    \n",
            "_________________________________________________________________\n",
            "dense_2 (Dense)              (None, 1)                 101       \n",
            "=================================================================\n",
            "Total params: 3,280,501\n",
            "Trainable params: 3,280,501\n",
            "Non-trainable params: 0\n",
            "_________________________________________________________________\n"
          ],
          "name": "stdout"
        }
      ]
    },
    {
      "cell_type": "code",
      "metadata": {
        "id": "VQcKI8phRWeK"
      },
      "source": [
        "X_final = np.array(embedded_text)\n",
        "y_final = dataset['label']"
      ],
      "execution_count": null,
      "outputs": []
    },
    {
      "cell_type": "code",
      "metadata": {
        "id": "4j_eo2EtRWeL"
      },
      "source": [
        "X_train, X_test, y_train, y_test = train_test_split(X_final, y_final, test_size = 0.3, random_state = 0)"
      ],
      "execution_count": null,
      "outputs": []
    },
    {
      "cell_type": "code",
      "metadata": {
        "id": "vS6yQtRARWeL",
        "colab": {
          "base_uri": "https://localhost:8080/"
        },
        "outputId": "abd3a231-ffeb-4382-f36a-cdd886b021ba"
      },
      "source": [
        "model2.fit(X_train, y_train, validation_data=(X_test, y_test), epochs=20, batch_size = 256, callbacks=([reduce_lr, early_stop]))"
      ],
      "execution_count": null,
      "outputs": [
        {
          "output_type": "stream",
          "text": [
            "Epoch 1/20\n",
            "32/32 [==============================] - 15s 400ms/step - loss: 0.3862 - accuracy: 0.8627 - val_loss: 0.2244 - val_accuracy: 0.8965\n",
            "Epoch 2/20\n",
            "32/32 [==============================] - 12s 384ms/step - loss: 0.1437 - accuracy: 0.9414 - val_loss: 0.1924 - val_accuracy: 0.9242\n",
            "Epoch 3/20\n",
            "32/32 [==============================] - 12s 388ms/step - loss: 0.0598 - accuracy: 0.9840 - val_loss: 0.2077 - val_accuracy: 0.9306\n",
            "Epoch 4/20\n",
            "32/32 [==============================] - 12s 388ms/step - loss: 0.0210 - accuracy: 0.9968 - val_loss: 0.2369 - val_accuracy: 0.9373\n",
            "Epoch 5/20\n",
            "32/32 [==============================] - 12s 388ms/step - loss: 0.0067 - accuracy: 0.9991 - val_loss: 0.2629 - val_accuracy: 0.9391\n",
            "Epoch 6/20\n",
            "32/32 [==============================] - 12s 388ms/step - loss: 0.0024 - accuracy: 0.9998 - val_loss: 0.2852 - val_accuracy: 0.9408\n",
            "Epoch 7/20\n",
            "32/32 [==============================] - 13s 393ms/step - loss: 7.5613e-04 - accuracy: 1.0000 - val_loss: 0.3000 - val_accuracy: 0.9403\n",
            "\n",
            "Epoch 00007: ReduceLROnPlateau reducing learning rate to 0.00010000000474974513.\n",
            "Epoch 8/20\n",
            "32/32 [==============================] - 12s 392ms/step - loss: 4.6170e-04 - accuracy: 1.0000 - val_loss: 0.3015 - val_accuracy: 0.9408\n",
            "Epoch 9/20\n",
            "32/32 [==============================] - 12s 391ms/step - loss: 4.3136e-04 - accuracy: 1.0000 - val_loss: 0.3029 - val_accuracy: 0.9408\n",
            "Epoch 10/20\n",
            "32/32 [==============================] - 12s 389ms/step - loss: 4.0809e-04 - accuracy: 1.0000 - val_loss: 0.3045 - val_accuracy: 0.9408\n",
            "Epoch 11/20\n",
            "32/32 [==============================] - 12s 389ms/step - loss: 3.8826e-04 - accuracy: 1.0000 - val_loss: 0.3060 - val_accuracy: 0.9417\n",
            "Epoch 12/20\n",
            "32/32 [==============================] - 12s 388ms/step - loss: 3.6962e-04 - accuracy: 1.0000 - val_loss: 0.3076 - val_accuracy: 0.9411\n",
            "\n",
            "Epoch 00012: ReduceLROnPlateau reducing learning rate to 1.0000000474974514e-05.\n"
          ],
          "name": "stdout"
        },
        {
          "output_type": "execute_result",
          "data": {
            "text/plain": [
              "<tensorflow.python.keras.callbacks.History at 0x7f28bd648250>"
            ]
          },
          "metadata": {
            "tags": []
          },
          "execution_count": 102
        }
      ]
    },
    {
      "cell_type": "markdown",
      "metadata": {
        "id": "xW_Xu9ofRWeL"
      },
      "source": [
        "**Evaluate model**\n",
        "<a id = \"lemmatized-evaluate\"></a>"
      ]
    },
    {
      "cell_type": "code",
      "metadata": {
        "id": "s-EEv_UJRWeM",
        "colab": {
          "base_uri": "https://localhost:8080/"
        },
        "outputId": "eda3234c-232b-476f-a963-99ba4128a729"
      },
      "source": [
        "y_pred = model2.predict_classes(X_test)\n",
        "print(\"Accuarcy: {}\".format(round(accuracy_score(y_test, y_pred)*100,2)))"
      ],
      "execution_count": null,
      "outputs": [
        {
          "output_type": "stream",
          "text": [
            "/usr/local/lib/python3.7/dist-packages/tensorflow/python/keras/engine/sequential.py:455: UserWarning: `model.predict_classes()` is deprecated and will be removed after 2021-01-01. Please use instead:* `np.argmax(model.predict(x), axis=-1)`,   if your model does multi-class classification   (e.g. if it uses a `softmax` last-layer activation).* `(model.predict(x) > 0.5).astype(\"int32\")`,   if your model does binary classification   (e.g. if it uses a `sigmoid` last-layer activation).\n",
            "  warnings.warn('`model.predict_classes()` is deprecated and '\n"
          ],
          "name": "stderr"
        },
        {
          "output_type": "stream",
          "text": [
            "Accuarcy: 94.11\n"
          ],
          "name": "stdout"
        }
      ]
    },
    {
      "cell_type": "code",
      "metadata": {
        "id": "hKmkr7gnRWeM",
        "colab": {
          "base_uri": "https://localhost:8080/"
        },
        "outputId": "422a6ce0-8c66-458a-fb87-9236aecef3bf"
      },
      "source": [
        "cm = confusion_matrix(y_test, y_pred)\n",
        "print(\"Confusion Matrix: \\n\", cm)"
      ],
      "execution_count": null,
      "outputs": [
        {
          "output_type": "stream",
          "text": [
            "Confusion Matrix: \n",
            " [[ 294  126]\n",
            " [  76 2935]]\n"
          ],
          "name": "stdout"
        }
      ]
    },
    {
      "cell_type": "code",
      "metadata": {
        "id": "y3Amcen9RWeN",
        "colab": {
          "base_uri": "https://localhost:8080/"
        },
        "outputId": "8f9d74e1-272e-4aae-e716-21a63ac76427"
      },
      "source": [
        "print(\"Classification Report: \\n\", classification_report(y_test, y_pred))"
      ],
      "execution_count": null,
      "outputs": [
        {
          "output_type": "stream",
          "text": [
            "Classification Report: \n",
            "               precision    recall  f1-score   support\n",
            "\n",
            "           0       0.79      0.70      0.74       420\n",
            "           1       0.96      0.97      0.97      3011\n",
            "\n",
            "    accuracy                           0.94      3431\n",
            "   macro avg       0.88      0.84      0.86      3431\n",
            "weighted avg       0.94      0.94      0.94      3431\n",
            "\n"
          ],
          "name": "stdout"
        }
      ]
    },
    {
      "cell_type": "code",
      "metadata": {
        "colab": {
          "base_uri": "https://localhost:8080/",
          "height": 328
        },
        "id": "E6CT6hpvptsV",
        "outputId": "0cb2cd64-4788-4380-ae3e-84011d7fba66"
      },
      "source": [
        "# Plot Confusion Matrix\n",
        "plot_confusion_matrix(cm,classes = ['Fake','Real'])"
      ],
      "execution_count": null,
      "outputs": [
        {
          "output_type": "stream",
          "text": [
            "CM not normalized\n"
          ],
          "name": "stdout"
        },
        {
          "output_type": "display_data",
          "data": {
            "image/png": "[encoded data removed]",
            "text/plain": [
              "<Figure size 432x288 with 2 Axes>"
            ]
          },
          "metadata": {
            "tags": [],
            "needs_background": "light"
          }
        }
      ]
    },
    {
      "cell_type": "markdown",
      "metadata": {
        "id": "whvc-VBsRWeN"
      },
      "source": [
        "With One hot vector and stemmed text LSTM model is giving 98.7 % accuracy."
      ]
    },
    {
      "cell_type": "markdown",
      "metadata": {
        "id": "MSQH3aUVRWeN"
      },
      "source": [
        "# Conclusion\n",
        "<a id=\"conclusion\"></a>\n",
        "\n",
        "Till this point, we are not getting any benefit in accuracy using LSTM model with Onehot vector. And XGBClassifier with CountVectorizer was giving better results.<br>\n",
        "I will create another version of this dataset, where I will use the glove vector and bert."
      ]
    },
    {
      "cell_type": "markdown",
      "metadata": {
        "id": "BcUyMWrURWeN"
      },
      "source": [
        "**If you like the kernel please upvote.\n",
        "If you have any questions/feedback feel free to comment and I will be happy to answer.\n",
        "**"
      ]
    },
    {
      "cell_type": "code",
      "metadata": {
        "id": "-oDIOeg8RWeO"
      },
      "source": [
        ""
      ],
      "execution_count": null,
      "outputs": []
    }
  ]
}