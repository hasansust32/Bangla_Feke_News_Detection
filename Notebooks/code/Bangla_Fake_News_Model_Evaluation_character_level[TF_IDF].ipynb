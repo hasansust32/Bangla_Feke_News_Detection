{
  "nbformat": 4,
  "nbformat_minor": 0,
  "metadata": {
    "colab": {
      "name": "Bangla Fake News Model Evaluation [TF-IDF]",
      "provenance": [],
      "collapsed_sections": []
    },
    "kernelspec": {
      "display_name": "Python 3",
      "language": "python",
      "name": "python3"
    },
    "language_info": {
      "codemirror_mode": {
        "name": "ipython",
        "version": 3
      },
      "file_extension": ".py",
      "mimetype": "text/x-python",
      "name": "python",
      "nbconvert_exporter": "python",
      "pygments_lexer": "ipython3",
      "version": "3.7.4"
    }
  },
  "cells": [
    {
      "cell_type": "code",
      "metadata": {
        "colab": {
          "base_uri": "https://localhost:8080/"
        },
        "id": "zdOO4jQIGvzs",
        "outputId": "55bbad1b-f20b-4ace-ff87-d6933abd97bd"
      },
      "source": [
        "!pip install catboost"
      ],
      "execution_count": null,
      "outputs": [
        {
          "output_type": "stream",
          "text": [
            "Requirement already satisfied: catboost in /usr/local/lib/python3.7/dist-packages (0.26)\n",
            "Requirement already satisfied: matplotlib in /usr/local/lib/python3.7/dist-packages (from catboost) (3.2.2)\n",
            "Requirement already satisfied: six in /usr/local/lib/python3.7/dist-packages (from catboost) (1.15.0)\n",
            "Requirement already satisfied: pandas>=0.24.0 in /usr/local/lib/python3.7/dist-packages (from catboost) (1.1.5)\n",
            "Requirement already satisfied: numpy>=1.16.0 in /usr/local/lib/python3.7/dist-packages (from catboost) (1.19.5)\n",
            "Requirement already satisfied: scipy in /usr/local/lib/python3.7/dist-packages (from catboost) (1.4.1)\n",
            "Requirement already satisfied: plotly in /usr/local/lib/python3.7/dist-packages (from catboost) (4.4.1)\n",
            "Requirement already satisfied: graphviz in /usr/local/lib/python3.7/dist-packages (from catboost) (0.10.1)\n",
            "Requirement already satisfied: pyparsing!=2.0.4,!=2.1.2,!=2.1.6,>=2.0.1 in /usr/local/lib/python3.7/dist-packages (from matplotlib->catboost) (2.4.7)\n",
            "Requirement already satisfied: kiwisolver>=1.0.1 in /usr/local/lib/python3.7/dist-packages (from matplotlib->catboost) (1.3.1)\n",
            "Requirement already satisfied: cycler>=0.10 in /usr/local/lib/python3.7/dist-packages (from matplotlib->catboost) (0.10.0)\n",
            "Requirement already satisfied: python-dateutil>=2.1 in /usr/local/lib/python3.7/dist-packages (from matplotlib->catboost) (2.8.1)\n",
            "Requirement already satisfied: pytz>=2017.2 in /usr/local/lib/python3.7/dist-packages (from pandas>=0.24.0->catboost) (2018.9)\n",
            "Requirement already satisfied: retrying>=1.3.3 in /usr/local/lib/python3.7/dist-packages (from plotly->catboost) (1.3.3)\n"
          ],
          "name": "stdout"
        }
      ]
    },
    {
      "cell_type": "code",
      "metadata": {
        "colab": {
          "base_uri": "https://localhost:8080/",
          "height": 35
        },
        "id": "3rW8juwozWIa",
        "outputId": "e72dab05-22f3-4c94-906f-8a60877aa89f"
      },
      "source": [
        "import sklearn\n",
        "sklearn.__version__"
      ],
      "execution_count": null,
      "outputs": [
        {
          "output_type": "execute_result",
          "data": {
            "application/vnd.google.colaboratory.intrinsic+json": {
              "type": "string"
            },
            "text/plain": [
              "'0.22.2.post1'"
            ]
          },
          "metadata": {
            "tags": []
          },
          "execution_count": 36
        }
      ]
    },
    {
      "cell_type": "code",
      "metadata": {
        "id": "yzOl3svoeSns"
      },
      "source": [
        "import os\n",
        "import time\n",
        "import pandas as pd\n",
        "import re\n",
        "import numpy as np\n",
        "from nltk.util import ngrams\n",
        "from sklearn.feature_extraction.text import CountVectorizer, TfidfVectorizer\n",
        "from sklearn.model_selection import train_test_split\n",
        "from sklearn import metrics\n",
        "#from sklearn.metrics import plot_confusion_matrix\n",
        "from sklearn.metrics import plot_precision_recall_curve\n",
        "from sklearn.metrics import roc_curve\n",
        "from sklearn import svm\n",
        "from nltk.corpus import stopwords\n",
        "from scipy import sparse, hstack, vstack\n",
        "from sklearn.linear_model import LogisticRegression\n",
        "from sklearn.neural_network import MLPClassifier\n",
        "from sklearn.neighbors import KNeighborsClassifier\n",
        "from sklearn.ensemble import RandomForestClassifier\n",
        "from sklearn.naive_bayes import MultinomialNB\n",
        "from sklearn.linear_model import PassiveAggressiveClassifier\n",
        "from xgboost import XGBClassifier\n",
        "from sklearn.linear_model import PassiveAggressiveClassifier\n",
        "from sklearn.ensemble import AdaBoostClassifier\n",
        "from catboost import CatBoostClassifier\n",
        "import matplotlib.pyplot as plt\n",
        "import seaborn as sns\n",
        "import pickle\n",
        "import string\n",
        "import itertools"
      ],
      "execution_count": null,
      "outputs": []
    },
    {
      "cell_type": "code",
      "metadata": {
        "colab": {
          "base_uri": "https://localhost:8080/"
        },
        "id": "zN-uYLIUB5px",
        "outputId": "e86e0c14-79bd-44ee-e0cc-9b184149ae5f"
      },
      "source": [
        "#Mounting google drive\n",
        "from google.colab import drive\n",
        "drive.mount('/content/drive')"
      ],
      "execution_count": null,
      "outputs": [
        {
          "output_type": "stream",
          "text": [
            "Drive already mounted at /content/drive; to attempt to forcibly remount, call drive.mount(\"/content/drive\", force_remount=True).\n"
          ],
          "name": "stdout"
        }
      ]
    },
    {
      "cell_type": "code",
      "metadata": {
        "id": "ljLl8hmVeSnw"
      },
      "source": [
        "#importing stopwords\n",
        "#STOP_WORDS = stopwords.words('bengali')\n",
        "stopWords = []\n",
        "with open('/content/drive/MyDrive/research/bengali', 'r', encoding=\"utf8\") as f:\n",
        "    for row in f:  # iterate over the rows in the file\n",
        "        row = row.replace(\"\\n\", \"\")\n",
        "        stopWords.append(row)"
      ],
      "execution_count": null,
      "outputs": []
    },
    {
      "cell_type": "code",
      "metadata": {
        "id": "l_v6G33zeSny"
      },
      "source": [
        "#striping punctuations\n",
        "puncList = [\"।\", \"”\", \"“\", \"’\"]\n",
        "for p in string.punctuation.lstrip():\n",
        "    puncList.append(p)"
      ],
      "execution_count": null,
      "outputs": []
    },
    {
      "cell_type": "code",
      "metadata": {
        "id": "KVTplsuneSnz"
      },
      "source": [
        "#word tokenizer\n",
        "def tokenizer(doc):\n",
        "    # remove punctuation\n",
        "    tokens = []\n",
        "    def cleanword(word):\n",
        "        for p in puncList:\n",
        "            word = word.replace(p, \"\")\n",
        "        word = re.sub(r'[\\u09E6-\\u09EF]', \"\", word, re.DEBUG)  # replace digits\n",
        "\n",
        "        return word\n",
        "\n",
        "    for word in doc.split(\" \"):\n",
        "        word = cleanword(word)\n",
        "        if word != \"\":\n",
        "            tokens.append(word)\n",
        "\n",
        "    return tokens"
      ],
      "execution_count": null,
      "outputs": []
    },
    {
      "cell_type": "code",
      "metadata": {
        "id": "so1BJbns6nrc"
      },
      "source": [
        "def plot_confusion_matrix(cm,classes,normalize=False,title='Confusion Matrix', cmap = plt.cm.Greens):\n",
        "    plt.imshow(cm,interpolation = 'nearest',cmap = cmap)\n",
        "    plt.title(title)\n",
        "    plt.colorbar()\n",
        "    tick_marks = np.arange(len(classes))\n",
        "    plt.xticks(tick_marks,classes,rotation=45)\n",
        "    plt.yticks(tick_marks, classes)\n",
        "    \n",
        "    if normalize:\n",
        "        cm = cm.astype('float') / cm.sum(axis = 1)[:, np.newaxis]\n",
        "        print(\"Normalized CM\")\n",
        "    else:\n",
        "        print(\"CM not normalized\")\n",
        "        \n",
        "    thresh = cm.max() / 2.\n",
        "    for i, j in itertools.product(range(cm.shape[0]), range(cm.shape[1])):\n",
        "        plt.text(j, i, cm[i, j],\n",
        "                 horizontalalignment=\"center\",\n",
        "                 color=\"white\" if cm[i, j] > thresh else \"black\")\n",
        "\n",
        "    plt.tight_layout()\n",
        "    plt.ylabel('True label')\n",
        "    plt.xlabel('Predicted label')"
      ],
      "execution_count": null,
      "outputs": []
    },
    {
      "cell_type": "code",
      "metadata": {
        "colab": {
          "base_uri": "https://localhost:8080/"
        },
        "id": "miPdj4NIeSn0",
        "outputId": "543d3aab-89fc-4650-e006-ce9d65c065e5"
      },
      "source": [
        "#importing dataset\n",
        "\n",
        "df = pd.read_csv(\"/content/drive/MyDrive/research/totaldata.csv\")\n",
        "#df = pd.read_csv(\"/content/drive/MyDrive/research/TrainTest.csv\")\n",
        "df = df[df[\"articleID\"] != 27753]\n",
        "consistentID = set(df[\"articleID\"])\n",
        "print(df.shape)\n",
        "head = list(df)"
      ],
      "execution_count": null,
      "outputs": [
        {
          "output_type": "stream",
          "text": [
            "(11434, 5)\n"
          ],
          "name": "stdout"
        }
      ]
    },
    {
      "cell_type": "code",
      "metadata": {
        "colab": {
          "base_uri": "https://localhost:8080/",
          "height": 272
        },
        "id": "5csmJ0UjJcRE",
        "outputId": "fc049f40-3f1d-4b2a-96d5-fc682f9d9067"
      },
      "source": [
        "df.head()"
      ],
      "execution_count": null,
      "outputs": [
        {
          "output_type": "execute_result",
          "data": {
            "text/html": [
              "<div>\n",
              "<style scoped>\n",
              "    .dataframe tbody tr th:only-of-type {\n",
              "        vertical-align: middle;\n",
              "    }\n",
              "\n",
              "    .dataframe tbody tr th {\n",
              "        vertical-align: top;\n",
              "    }\n",
              "\n",
              "    .dataframe thead th {\n",
              "        text-align: right;\n",
              "    }\n",
              "</style>\n",
              "<table border=\"1\" class=\"dataframe\">\n",
              "  <thead>\n",
              "    <tr style=\"text-align: right;\">\n",
              "      <th></th>\n",
              "      <th>Unnamed: 0</th>\n",
              "      <th>articleID</th>\n",
              "      <th>content</th>\n",
              "      <th>headline</th>\n",
              "      <th>label</th>\n",
              "    </tr>\n",
              "  </thead>\n",
              "  <tbody>\n",
              "    <tr>\n",
              "      <th>0</th>\n",
              "      <td>0</td>\n",
              "      <td>1</td>\n",
              "      <td>গত ১৭ সেপ্টেম্বর বাংলাদেশ কৃষি বিশ্ববিদ্যালয়ে ...</td>\n",
              "      <td>হট্টগোল করায় বাকৃবিতে দুইজন বরখাস্ত, ৬ জনকে শোকজ</td>\n",
              "      <td>1</td>\n",
              "    </tr>\n",
              "    <tr>\n",
              "      <th>1</th>\n",
              "      <td>1</td>\n",
              "      <td>2</td>\n",
              "      <td>বাংলাদেশের বৃহৎ শ্রমবাজার মালয়েশিয়ায় আবার শ্রম...</td>\n",
              "      <td>মালয়েশিয়ায় কর্মী পাঠানোর ব্যবস্থা নেয়ার সুপারিশ</td>\n",
              "      <td>1</td>\n",
              "    </tr>\n",
              "    <tr>\n",
              "      <th>2</th>\n",
              "      <td>2</td>\n",
              "      <td>3</td>\n",
              "      <td>নরসিংদীর মনোহরদীতে প্রেমের প্রস্তাবে রাজি না হ...</td>\n",
              "      <td>প্রেমের প্রস্তাবে রাজি না হওয়ায় স্কুলছাত্রীকে ...</td>\n",
              "      <td>1</td>\n",
              "    </tr>\n",
              "    <tr>\n",
              "      <th>3</th>\n",
              "      <td>3</td>\n",
              "      <td>4</td>\n",
              "      <td>সুপ্রিম কোর্টের হাইকোর্ট বিভাগের বিচারপতি আহমে...</td>\n",
              "      <td>মেডিয়েশনই মামলাজট নিরসনের পথ : বিচারপতি আহমেদ ...</td>\n",
              "      <td>1</td>\n",
              "    </tr>\n",
              "    <tr>\n",
              "      <th>4</th>\n",
              "      <td>4</td>\n",
              "      <td>5</td>\n",
              "      <td>মাদারীপুর সদরের উপজেলার লেকেরপাড়ে একটি বেসরকার...</td>\n",
              "      <td>টকশোতে বক্তব্য দিতে গিয়ে জাপা নেতার মৃত্যু</td>\n",
              "      <td>1</td>\n",
              "    </tr>\n",
              "  </tbody>\n",
              "</table>\n",
              "</div>"
            ],
            "text/plain": [
              "   Unnamed: 0  ...  label\n",
              "0           0  ...      1\n",
              "1           1  ...      1\n",
              "2           2  ...      1\n",
              "3           3  ...      1\n",
              "4           4  ...      1\n",
              "\n",
              "[5 rows x 5 columns]"
            ]
          },
          "metadata": {
            "tags": []
          },
          "execution_count": 44
        }
      ]
    },
    {
      "cell_type": "code",
      "metadata": {
        "colab": {
          "base_uri": "https://localhost:8080/"
        },
        "id": "EUKzkxsTJfjC",
        "outputId": "87f72313-72ab-4404-ed1c-451bba18ac9f"
      },
      "source": [
        "df.info()"
      ],
      "execution_count": null,
      "outputs": [
        {
          "output_type": "stream",
          "text": [
            "<class 'pandas.core.frame.DataFrame'>\n",
            "Int64Index: 11434 entries, 0 to 11433\n",
            "Data columns (total 5 columns):\n",
            " #   Column      Non-Null Count  Dtype \n",
            "---  ------      --------------  ----- \n",
            " 0   Unnamed: 0  11434 non-null  int64 \n",
            " 1   articleID   11434 non-null  int64 \n",
            " 2   content     11434 non-null  object\n",
            " 3   headline    11434 non-null  object\n",
            " 4   label       11434 non-null  int64 \n",
            "dtypes: int64(3), object(2)\n",
            "memory usage: 536.0+ KB\n"
          ],
          "name": "stdout"
        }
      ]
    },
    {
      "cell_type": "code",
      "metadata": {
        "colab": {
          "base_uri": "https://localhost:8080/",
          "height": 306
        },
        "id": "klIR_BUlJicT",
        "outputId": "5424062b-e3f6-44b6-faa1-708181f850df"
      },
      "source": [
        "# Create a column with all the data available\n",
        "df['total']=df['headline']+' '+df['content']\n",
        "df.head()"
      ],
      "execution_count": null,
      "outputs": [
        {
          "output_type": "execute_result",
          "data": {
            "text/html": [
              "<div>\n",
              "<style scoped>\n",
              "    .dataframe tbody tr th:only-of-type {\n",
              "        vertical-align: middle;\n",
              "    }\n",
              "\n",
              "    .dataframe tbody tr th {\n",
              "        vertical-align: top;\n",
              "    }\n",
              "\n",
              "    .dataframe thead th {\n",
              "        text-align: right;\n",
              "    }\n",
              "</style>\n",
              "<table border=\"1\" class=\"dataframe\">\n",
              "  <thead>\n",
              "    <tr style=\"text-align: right;\">\n",
              "      <th></th>\n",
              "      <th>Unnamed: 0</th>\n",
              "      <th>articleID</th>\n",
              "      <th>content</th>\n",
              "      <th>headline</th>\n",
              "      <th>label</th>\n",
              "      <th>total</th>\n",
              "    </tr>\n",
              "  </thead>\n",
              "  <tbody>\n",
              "    <tr>\n",
              "      <th>0</th>\n",
              "      <td>0</td>\n",
              "      <td>1</td>\n",
              "      <td>গত ১৭ সেপ্টেম্বর বাংলাদেশ কৃষি বিশ্ববিদ্যালয়ে ...</td>\n",
              "      <td>হট্টগোল করায় বাকৃবিতে দুইজন বরখাস্ত, ৬ জনকে শোকজ</td>\n",
              "      <td>1</td>\n",
              "      <td>হট্টগোল করায় বাকৃবিতে দুইজন বরখাস্ত, ৬ জনকে শো...</td>\n",
              "    </tr>\n",
              "    <tr>\n",
              "      <th>1</th>\n",
              "      <td>1</td>\n",
              "      <td>2</td>\n",
              "      <td>বাংলাদেশের বৃহৎ শ্রমবাজার মালয়েশিয়ায় আবার শ্রম...</td>\n",
              "      <td>মালয়েশিয়ায় কর্মী পাঠানোর ব্যবস্থা নেয়ার সুপারিশ</td>\n",
              "      <td>1</td>\n",
              "      <td>মালয়েশিয়ায় কর্মী পাঠানোর ব্যবস্থা নেয়ার সুপারি...</td>\n",
              "    </tr>\n",
              "    <tr>\n",
              "      <th>2</th>\n",
              "      <td>2</td>\n",
              "      <td>3</td>\n",
              "      <td>নরসিংদীর মনোহরদীতে প্রেমের প্রস্তাবে রাজি না হ...</td>\n",
              "      <td>প্রেমের প্রস্তাবে রাজি না হওয়ায় স্কুলছাত্রীকে ...</td>\n",
              "      <td>1</td>\n",
              "      <td>প্রেমের প্রস্তাবে রাজি না হওয়ায় স্কুলছাত্রীকে ...</td>\n",
              "    </tr>\n",
              "    <tr>\n",
              "      <th>3</th>\n",
              "      <td>3</td>\n",
              "      <td>4</td>\n",
              "      <td>সুপ্রিম কোর্টের হাইকোর্ট বিভাগের বিচারপতি আহমে...</td>\n",
              "      <td>মেডিয়েশনই মামলাজট নিরসনের পথ : বিচারপতি আহমেদ ...</td>\n",
              "      <td>1</td>\n",
              "      <td>মেডিয়েশনই মামলাজট নিরসনের পথ : বিচারপতি আহমেদ ...</td>\n",
              "    </tr>\n",
              "    <tr>\n",
              "      <th>4</th>\n",
              "      <td>4</td>\n",
              "      <td>5</td>\n",
              "      <td>মাদারীপুর সদরের উপজেলার লেকেরপাড়ে একটি বেসরকার...</td>\n",
              "      <td>টকশোতে বক্তব্য দিতে গিয়ে জাপা নেতার মৃত্যু</td>\n",
              "      <td>1</td>\n",
              "      <td>টকশোতে বক্তব্য দিতে গিয়ে জাপা নেতার মৃত্যু মাদ...</td>\n",
              "    </tr>\n",
              "  </tbody>\n",
              "</table>\n",
              "</div>"
            ],
            "text/plain": [
              "   Unnamed: 0  ...                                              total\n",
              "0           0  ...  হট্টগোল করায় বাকৃবিতে দুইজন বরখাস্ত, ৬ জনকে শো...\n",
              "1           1  ...  মালয়েশিয়ায় কর্মী পাঠানোর ব্যবস্থা নেয়ার সুপারি...\n",
              "2           2  ...  প্রেমের প্রস্তাবে রাজি না হওয়ায় স্কুলছাত্রীকে ...\n",
              "3           3  ...  মেডিয়েশনই মামলাজট নিরসনের পথ : বিচারপতি আহমেদ ...\n",
              "4           4  ...  টকশোতে বক্তব্য দিতে গিয়ে জাপা নেতার মৃত্যু মাদ...\n",
              "\n",
              "[5 rows x 6 columns]"
            ]
          },
          "metadata": {
            "tags": []
          },
          "execution_count": 46
        }
      ]
    },
    {
      "cell_type": "code",
      "metadata": {
        "colab": {
          "base_uri": "https://localhost:8080/"
        },
        "id": "oejcqeDCJrur",
        "outputId": "1e73e165-bd32-4271-bed0-7c6418245513"
      },
      "source": [
        "df['label'].value_counts()"
      ],
      "execution_count": null,
      "outputs": [
        {
          "output_type": "execute_result",
          "data": {
            "text/plain": [
              "1    10000\n",
              "0     1434\n",
              "Name: label, dtype: int64"
            ]
          },
          "metadata": {
            "tags": []
          },
          "execution_count": 47
        }
      ]
    },
    {
      "cell_type": "code",
      "metadata": {
        "colab": {
          "base_uri": "https://localhost:8080/",
          "height": 350
        },
        "id": "6Fo2OuQsJtIP",
        "outputId": "e56e5cfb-cc5e-48b9-b703-754c5b321936"
      },
      "source": [
        "sns.countplot(df['label'])"
      ],
      "execution_count": null,
      "outputs": [
        {
          "output_type": "stream",
          "text": [
            "/usr/local/lib/python3.7/dist-packages/seaborn/_decorators.py:43: FutureWarning: Pass the following variable as a keyword arg: x. From version 0.12, the only valid positional argument will be `data`, and passing other arguments without an explicit keyword will result in an error or misinterpretation.\n",
            "  FutureWarning\n"
          ],
          "name": "stderr"
        },
        {
          "output_type": "execute_result",
          "data": {
            "text/plain": [
              "<matplotlib.axes._subplots.AxesSubplot at 0x7fb2fb8c4b90>"
            ]
          },
          "metadata": {
            "tags": []
          },
          "execution_count": 48
        },
        {
          "output_type": "display_data",
          "data": {
            "image/png": "[encoded data removed]",
            "text/plain": [
              "<Figure size 432x288 with 1 Axes>"
            ]
          },
          "metadata": {
            "tags": [],
            "needs_background": "light"
          }
        }
      ]
    },
    {
      "cell_type": "code",
      "metadata": {
        "colab": {
          "base_uri": "https://localhost:8080/"
        },
        "id": "kyWRcfKQJ0IO",
        "outputId": "4afb2d66-7542-4919-ad7c-b690d09a2f4d"
      },
      "source": [
        "data = df.content\n",
        "data"
      ],
      "execution_count": null,
      "outputs": [
        {
          "output_type": "execute_result",
          "data": {
            "text/plain": [
              "0        গত ১৭ সেপ্টেম্বর বাংলাদেশ কৃষি বিশ্ববিদ্যালয়ে ...\n",
              "1        বাংলাদেশের বৃহৎ শ্রমবাজার মালয়েশিয়ায় আবার শ্রম...\n",
              "2        নরসিংদীর মনোহরদীতে প্রেমের প্রস্তাবে রাজি না হ...\n",
              "3        সুপ্রিম কোর্টের হাইকোর্ট বিভাগের বিচারপতি আহমে...\n",
              "4        মাদারীপুর সদরের উপজেলার লেকেরপাড়ে একটি বেসরকার...\n",
              "                               ...                        \n",
              "11429    এটিকে আর্মি অব ইসলাম বা ‘ইসলামি আর্মি’ নামে অভ...\n",
              "11430    বিশ্ব মুসলিমদের প্রধান শত্রু ইহুদিবাদী সন্ত্রা...\n",
              "11431    ইসলামী মূল্যবোধের উন্নয়ন এবং ইসলামী সংস্কৃতি ব...\n",
              "11432    ভারতের বিনোদন জগতে গত কয়েক দিন সবচেয়ে উচ্চারিত...\n",
              "11433    রোনাভাইরাসের কোনো প্রতিষেধক আবিষ্কার না হলেও এ...\n",
              "Name: content, Length: 11434, dtype: object"
            ]
          },
          "metadata": {
            "tags": []
          },
          "execution_count": 49
        }
      ]
    },
    {
      "cell_type": "code",
      "metadata": {
        "id": "mQCUQLWiJ4nL"
      },
      "source": [
        "#tf-idf vectorizer\n",
        "#tfidf_word = TfidfVectorizer(sublinear_tf=True, min_df=5, norm='l2', ngram_range=(1, 1),\n",
        "#                                 stop_words=stopWords, decode_error='replace',\n",
        "#                                 encoding='utf-8', analyzer='word', tokenizer=tokenizer)\n",
        "\n",
        "\n",
        "#x_word = tfidf_word.fit_transform(data.values.astype('U'))\n",
        "#outfile = open(\"tfidf_word_pkl\", 'wb')\n",
        "#pickle.dump(x_word, outfile)\n",
        "#outfile.close()"
      ],
      "execution_count": null,
      "outputs": []
    },
    {
      "cell_type": "code",
      "metadata": {
        "colab": {
          "base_uri": "https://localhost:8080/"
        },
        "id": "j73-J0AFiDN_",
        "outputId": "f88f77b9-40d5-4d56-b019-6ec903a81226"
      },
      "source": [
        "#tf-idf char vectorizer\n",
        "tfidf_char = TfidfVectorizer(sublinear_tf=True, min_df=5, norm='l2', ngram_range=(3, 3), stop_words=stopWords,\n",
        "                                 decode_error='replace', encoding='utf-8', analyzer='char')\n",
        "\n",
        "tfidf_char.fit(data.values.astype('U'))\n",
        "x_char = tfidf_char.transform(data.values.astype('U'))\n",
        "#outfile = open(\"tfidf_char_pkl\", 'wb')\n",
        "#pickle.dump(tfidf_char, outfile)\n",
        "#outfile.close()"
      ],
      "execution_count": null,
      "outputs": [
        {
          "output_type": "stream",
          "text": [
            "/usr/local/lib/python3.7/dist-packages/sklearn/feature_extraction/text.py:520: UserWarning: The parameter 'stop_words' will not be used since 'analyzer' != 'word'\n",
            "  warnings.warn(\"The parameter 'stop_words' will not be used\"\n"
          ],
          "name": "stderr"
        }
      ]
    },
    {
      "cell_type": "code",
      "metadata": {
        "id": "Go_lVcISKeni"
      },
      "source": [
        "#tfidf_word.get_feature_names()[:10]"
      ],
      "execution_count": null,
      "outputs": []
    },
    {
      "cell_type": "code",
      "metadata": {
        "id": "L4qx_zkONHjJ"
      },
      "source": [
        "#tfidf_word.get_params()"
      ],
      "execution_count": null,
      "outputs": []
    },
    {
      "cell_type": "code",
      "metadata": {
        "colab": {
          "base_uri": "https://localhost:8080/"
        },
        "id": "bWE4rX7qeSn1",
        "outputId": "c561ad2f-71fa-48c4-e457-1fc8413a7f42"
      },
      "source": [
        "#calling tf-idf vectorizer\n",
        "#X = x_word\n",
        "X = x_char\n",
        "Y = df[[\"label\"]]\n",
        "print(X.shape)\n",
        "print(Y.shape)\n",
        "X_train, X_test, y_train, y_test = train_test_split(X, Y.values.ravel(), test_size=0.3, random_state=109)"
      ],
      "execution_count": null,
      "outputs": [
        {
          "output_type": "stream",
          "text": [
            "(11434, 30925)\n",
            "(11434, 1)\n"
          ],
          "name": "stdout"
        }
      ]
    },
    {
      "cell_type": "markdown",
      "metadata": {
        "id": "WXJwXKrJeSn2"
      },
      "source": [
        "## SVM with TF-IDF"
      ]
    },
    {
      "cell_type": "code",
      "metadata": {
        "colab": {
          "base_uri": "https://localhost:8080/",
          "height": 862
        },
        "id": "KHaeG-KYeSn2",
        "outputId": "36e6cea3-57d0-4439-ac1b-15c51ab52339"
      },
      "source": [
        "# Creating SVM Classifier\n",
        "start = time.time()\n",
        "clf = svm.SVC(kernel='linear', C=100, cache_size=7000)\n",
        "\n",
        "clf.fit(X_train, y_train)\n",
        "\n",
        "#Save Model\n",
        "outfile = open(\"model\", 'wb')\n",
        "pickle.dump(clf, outfile)\n",
        "outfile.close()\n",
        "\n",
        "y_pred = clf.predict(X_test)\n",
        "end = time.time()\n",
        "svc_time = end - start\n",
        "print(\"Accuracy:\", metrics.accuracy_score(y_test, y_pred))\n",
        "svc_acc = round((100 * metrics.accuracy_score(y_test, y_pred)), 2)\n",
        "print(\"Precision:\", metrics.precision_score(y_test, y_pred))\n",
        "print(\"Recall:\", metrics.recall_score(y_test, y_pred))\n",
        "print(\"F1-Score:\", metrics.f1_score(y_test, y_pred))\n",
        "sv_fp, sv_tp, thresh = roc_curve(y_test, y_pred)\n",
        "print(\"Confusion Matrix:\", metrics.confusion_matrix(y_test, y_pred))\n",
        "cm = metrics.confusion_matrix(y_test, y_pred)\n",
        "print(metrics.classification_report(y_test, y_pred))\n",
        "#plot_confusion_matrix(clf, X_test, y_test, display_labels=['FAKE', 'REAL'], cmap='Greens', values_format=\"d\")\n",
        "plot_confusion_matrix(cm,classes = ['Fake','Real'])\n",
        "plot_precision_recall_curve(clf, X_test, y_test, name='Precision-Recall Curve')"
      ],
      "execution_count": null,
      "outputs": [
        {
          "output_type": "stream",
          "text": [
            "Accuracy: 0.9845526085689303\n",
            "Precision: 0.986737400530504\n",
            "Recall: 0.9956507193041151\n",
            "F1-Score: 0.9911740216486261\n",
            "Confusion Matrix: [[ 402   40]\n",
            " [  13 2976]]\n",
            "              precision    recall  f1-score   support\n",
            "\n",
            "           0       0.97      0.91      0.94       442\n",
            "           1       0.99      1.00      0.99      2989\n",
            "\n",
            "    accuracy                           0.98      3431\n",
            "   macro avg       0.98      0.95      0.96      3431\n",
            "weighted avg       0.98      0.98      0.98      3431\n",
            "\n",
            "CM not normalized\n"
          ],
          "name": "stdout"
        },
        {
          "output_type": "execute_result",
          "data": {
            "text/plain": [
              "<sklearn.metrics._plot.precision_recall_curve.PrecisionRecallDisplay at 0x7fb2fb81e490>"
            ]
          },
          "metadata": {
            "tags": []
          },
          "execution_count": 55
        },
        {
          "output_type": "display_data",
          "data": {
            "image/png": "[encoded data removed]",
            "text/plain": [
              "<Figure size 432x288 with 2 Axes>"
            ]
          },
          "metadata": {
            "tags": [],
            "needs_background": "light"
          }
        },
        {
          "output_type": "display_data",
          "data": {
            "image/png": "[encoded data removed]",
            "text/plain": [
              "<Figure size 432x288 with 1 Axes>"
            ]
          },
          "metadata": {
            "tags": [],
            "needs_background": "light"
          }
        }
      ]
    },
    {
      "cell_type": "markdown",
      "metadata": {
        "id": "NCVceTf2eSn3"
      },
      "source": [
        "## LR with TF-IDF "
      ]
    },
    {
      "cell_type": "code",
      "metadata": {
        "colab": {
          "base_uri": "https://localhost:8080/",
          "height": 862
        },
        "id": "beFAmxgYeSn4",
        "outputId": "93c2edad-e86e-4c95-91e6-5aaef1a6872d"
      },
      "source": [
        "# Logistic Regression\n",
        "start = time.time()\n",
        "lrclf = LogisticRegression()\n",
        "\n",
        "lrclf.fit(X_train, y_train)\n",
        "\n",
        "y_pred = lrclf.predict(X_test)\n",
        "end = time.time()\n",
        "lr_time = end - start\n",
        "print(\"Accuracy:\", metrics.accuracy_score(y_test, y_pred))\n",
        "lr_acc = round((100 * metrics.accuracy_score(y_test, y_pred)), 2)\n",
        "print(\"Precision:\", metrics.precision_score(y_test, y_pred))\n",
        "print(\"Recall:\", metrics.recall_score(y_test, y_pred))\n",
        "print(\"F1-Score:\", metrics.f1_score(y_test, y_pred))\n",
        "print(\"Confusion Matrix:\", metrics.confusion_matrix(y_test, y_pred))\n",
        "cm = metrics.confusion_matrix(y_test, y_pred)\n",
        "print(metrics.classification_report(y_test, y_pred))\n",
        "lr_fp, lr_tp, thresh = roc_curve(y_test, y_pred)\n",
        "plot_confusion_matrix(cm,classes = ['Fake','Real'])\n",
        "#plot_confusion_matrix(lrclf, X_test, y_test, display_labels=['FAKE', 'REAL'], cmap='Greens', values_format=\"d\")\n",
        "plot_precision_recall_curve(lrclf, X_test, y_test, name='Precision-Recall Curve')"
      ],
      "execution_count": null,
      "outputs": [
        {
          "output_type": "stream",
          "text": [
            "Accuracy: 0.9487030020402215\n",
            "Precision: 0.9486443381180223\n",
            "Recall: 0.9949815991970559\n",
            "F1-Score: 0.9712606139777923\n",
            "Confusion Matrix: [[ 281  161]\n",
            " [  15 2974]]\n",
            "              precision    recall  f1-score   support\n",
            "\n",
            "           0       0.95      0.64      0.76       442\n",
            "           1       0.95      0.99      0.97      2989\n",
            "\n",
            "    accuracy                           0.95      3431\n",
            "   macro avg       0.95      0.82      0.87      3431\n",
            "weighted avg       0.95      0.95      0.94      3431\n",
            "\n",
            "CM not normalized\n"
          ],
          "name": "stdout"
        },
        {
          "output_type": "execute_result",
          "data": {
            "text/plain": [
              "<sklearn.metrics._plot.precision_recall_curve.PrecisionRecallDisplay at 0x7fb306d0c450>"
            ]
          },
          "metadata": {
            "tags": []
          },
          "execution_count": 57
        },
        {
          "output_type": "display_data",
          "data": {
            "image/png": "[encoded data removed]",
            "text/plain": [
              "<Figure size 432x288 with 2 Axes>"
            ]
          },
          "metadata": {
            "tags": [],
            "needs_background": "light"
          }
        },
        {
          "output_type": "display_data",
          "data": {
            "image/png": "[encoded data removed]",
            "text/plain": [
              "<Figure size 432x288 with 1 Axes>"
            ]
          },
          "metadata": {
            "tags": [],
            "needs_background": "light"
          }
        }
      ]
    },
    {
      "cell_type": "markdown",
      "metadata": {
        "id": "Aczmfpa0eSn4"
      },
      "source": [
        "## MNB with TF-IDF "
      ]
    },
    {
      "cell_type": "code",
      "metadata": {
        "id": "tzfoPCGGeSn5"
      },
      "source": [
        "# tune the hyperparameter alpha for the naive bayes classifier\n",
        "#for alpha in np.arange(0,1,.05):\n",
        "#    mnb_classifier_tune = MultinomialNB(alpha=alpha)\n",
        "#    mnb_classifier_tune.fit(X_train, y_train)\n",
        "#    pred_tune = mnb_classifier_tune.predict(X_test)\n",
        "#    score = metrics.accuracy_score(y_test, y_pred)\n",
        "#    print(\"Alpha: {:.2f} Score: {:.5f}\".format(alpha, score))"
      ],
      "execution_count": null,
      "outputs": []
    },
    {
      "cell_type": "code",
      "metadata": {
        "id": "a5eAdZH9LaNC"
      },
      "source": [
        "# Multinomial Naive Bayes Classifier\n",
        "#mnbclftune = MultinomialNB(alpha = 0.10)\n",
        "\n",
        "#mnbclftune.fit(X_train, y_train)\n",
        "\n",
        "#y_pred = mnbclftune.predict(X_test)\n",
        "#print(\"Accuracy:\", metrics.accuracy_score(y_test, y_pred))\n",
        "print(round((100 * metrics.accuracy_score(y_test, y_pred)), 2))"
      ],
      "execution_count": null,
      "outputs": []
    },
    {
      "cell_type": "code",
      "metadata": {
        "colab": {
          "base_uri": "https://localhost:8080/",
          "height": 862
        },
        "id": "NFN44kx_eSn5",
        "outputId": "42cc6a5c-c10e-447f-b8ae-7e2bedd7b025"
      },
      "source": [
        "# Multinomial Naive Bayes Classifier\n",
        "start = time.time()\n",
        "mnbclf = MultinomialNB(alpha = 0.01)\n",
        "\n",
        "mnbclf.fit(X_train, y_train)\n",
        "\n",
        "y_pred = mnbclf.predict(X_test)\n",
        "end = time.time()\n",
        "mnb_time = end - start\n",
        "print(\"Accuracy:\", metrics.accuracy_score(y_test, y_pred))\n",
        "mnb_acc = round((100 * metrics.accuracy_score(y_test, y_pred)), 2)\n",
        "print(\"Precision:\", metrics.precision_score(y_test, y_pred))\n",
        "print(\"Recall:\", metrics.recall_score(y_test, y_pred))\n",
        "print(\"F1-Score:\", metrics.f1_score(y_test, y_pred))\n",
        "print(\"Confusion Matrix:\", metrics.confusion_matrix(y_test, y_pred))\n",
        "cm = metrics.confusion_matrix(y_test, y_pred)\n",
        "print(metrics.classification_report(y_test, y_pred))\n",
        "mnb_fp, mnb_tp, thresh = roc_curve(y_test, y_pred)\n",
        "plot_confusion_matrix(cm,classes = ['Fake','Real'])\n",
        "#plot_confusion_matrix(mnbclf, X_test, y_test, display_labels=['FAKE', 'REAL'], cmap='Greens', values_format=\"d\")\n",
        "plot_precision_recall_curve(mnbclf, X_test, y_test, name='Precision-Recall Curve')"
      ],
      "execution_count": null,
      "outputs": [
        {
          "output_type": "stream",
          "text": [
            "Accuracy: 0.9513261439813465\n",
            "Precision: 0.9763673193787981\n",
            "Recall: 0.9675476748076279\n",
            "F1-Score: 0.9719374894975634\n",
            "Confusion Matrix: [[ 372   70]\n",
            " [  97 2892]]\n",
            "              precision    recall  f1-score   support\n",
            "\n",
            "           0       0.79      0.84      0.82       442\n",
            "           1       0.98      0.97      0.97      2989\n",
            "\n",
            "    accuracy                           0.95      3431\n",
            "   macro avg       0.88      0.90      0.89      3431\n",
            "weighted avg       0.95      0.95      0.95      3431\n",
            "\n",
            "CM not normalized\n"
          ],
          "name": "stdout"
        },
        {
          "output_type": "execute_result",
          "data": {
            "text/plain": [
              "<sklearn.metrics._plot.precision_recall_curve.PrecisionRecallDisplay at 0x7fb2fb7cd290>"
            ]
          },
          "metadata": {
            "tags": []
          },
          "execution_count": 58
        },
        {
          "output_type": "display_data",
          "data": {
            "image/png": "[encoded data removed]",
            "text/plain": [
              "<Figure size 432x288 with 2 Axes>"
            ]
          },
          "metadata": {
            "tags": [],
            "needs_background": "light"
          }
        },
        {
          "output_type": "display_data",
          "data": {
            "image/png": "[encoded data removed]",
            "text/plain": [
              "<Figure size 432x288 with 1 Axes>"
            ]
          },
          "metadata": {
            "tags": [],
            "needs_background": "light"
          }
        }
      ]
    },
    {
      "cell_type": "markdown",
      "metadata": {
        "id": "HVa1HEyEeSn6"
      },
      "source": [
        "## Passive Agressive Classifier With TF-IDF Vectorizer "
      ]
    },
    {
      "cell_type": "code",
      "metadata": {
        "colab": {
          "base_uri": "https://localhost:8080/",
          "height": 916
        },
        "id": "5isdmRs6eSn7",
        "outputId": "a28b75a7-3221-4d47-a96d-a4b4f1a647e2"
      },
      "source": [
        "# Passive Agressive Classifier\n",
        "start = time.time()\n",
        "linearclf = PassiveAggressiveClassifier(max_iter=10)\n",
        "\n",
        "linearclf.fit(X_train, y_train)\n",
        "\n",
        "y_pred = linearclf.predict(X_test)\n",
        "end = time.time()\n",
        "passive_time = end - start\n",
        "print(\"Accuracy:\", metrics.accuracy_score(y_test, y_pred))\n",
        "passive_acc = round((100 * metrics.accuracy_score(y_test, y_pred)), 2)\n",
        "print(\"Precision:\", metrics.precision_score(y_test, y_pred))\n",
        "print(\"Recall:\", metrics.recall_score(y_test, y_pred))\n",
        "print(\"F1-Score:\", metrics.f1_score(y_test, y_pred))\n",
        "print(\"Confusion Matrix:\", metrics.confusion_matrix(y_test, y_pred))\n",
        "cm = metrics.confusion_matrix(y_test, y_pred)\n",
        "print(metrics.classification_report(y_test, y_pred))\n",
        "passive_fp, passive_tp, thresh = roc_curve(y_test, y_pred)\n",
        "plot_confusion_matrix(cm,classes = ['Fake','Real'])\n",
        "#plot_confusion_matrix(linearclf, X_test, y_test, display_labels=['FAKE', 'REAL'], cmap='Greens', values_format=\"d\")\n",
        "plot_precision_recall_curve(linearclf, X_test, y_test, name='Precision-Recall Curve')"
      ],
      "execution_count": null,
      "outputs": [
        {
          "output_type": "stream",
          "text": [
            "Accuracy: 0.9839696881375692\n",
            "Precision: 0.9860834990059643\n",
            "Recall: 0.9956507193041151\n",
            "F1-Score: 0.9908440153154654\n",
            "Confusion Matrix: [[ 400   42]\n",
            " [  13 2976]]\n",
            "              precision    recall  f1-score   support\n",
            "\n",
            "           0       0.97      0.90      0.94       442\n",
            "           1       0.99      1.00      0.99      2989\n",
            "\n",
            "    accuracy                           0.98      3431\n",
            "   macro avg       0.98      0.95      0.96      3431\n",
            "weighted avg       0.98      0.98      0.98      3431\n",
            "\n",
            "CM not normalized\n"
          ],
          "name": "stdout"
        },
        {
          "output_type": "stream",
          "text": [
            "/usr/local/lib/python3.7/dist-packages/sklearn/linear_model/_stochastic_gradient.py:557: ConvergenceWarning: Maximum number of iteration reached before convergence. Consider increasing max_iter to improve the fit.\n",
            "  ConvergenceWarning)\n"
          ],
          "name": "stderr"
        },
        {
          "output_type": "execute_result",
          "data": {
            "text/plain": [
              "<sklearn.metrics._plot.precision_recall_curve.PrecisionRecallDisplay at 0x7fb307a4f310>"
            ]
          },
          "metadata": {
            "tags": []
          },
          "execution_count": 59
        },
        {
          "output_type": "display_data",
          "data": {
            "image/png": "[encoded data removed]",
            "text/plain": [
              "<Figure size 432x288 with 2 Axes>"
            ]
          },
          "metadata": {
            "tags": [],
            "needs_background": "light"
          }
        },
        {
          "output_type": "display_data",
          "data": {
            "image/png": "[encoded data removed]",
            "text/plain": [
              "<Figure size 432x288 with 1 Axes>"
            ]
          },
          "metadata": {
            "tags": [],
            "needs_background": "light"
          }
        }
      ]
    },
    {
      "cell_type": "markdown",
      "metadata": {
        "id": "k2mAy7AgaPz9"
      },
      "source": [
        "## Random Forest with TF-IDF"
      ]
    },
    {
      "cell_type": "code",
      "metadata": {
        "colab": {
          "base_uri": "https://localhost:8080/",
          "height": 862
        },
        "id": "4ueXpUb-akWu",
        "outputId": "288f736e-5bb2-4462-a831-b2d430ab8f69"
      },
      "source": [
        "# Random Forest Classifier\n",
        "start = time.time()\n",
        "forestclf = RandomForestClassifier(criterion='entropy', max_depth=400, random_state=0)\n",
        "\n",
        "forestclf.fit(X_train, y_train)\n",
        "\n",
        "y_pred = forestclf.predict(X_test)\n",
        "end = time.time()\n",
        "random_time = end - start\n",
        "print(\"Accuracy:\", metrics.accuracy_score(y_test, y_pred))\n",
        "random_acc = round((100 * metrics.accuracy_score(y_test, y_pred)), 2)\n",
        "print(\"Precision:\", metrics.precision_score(y_test, y_pred))\n",
        "print(\"Recall:\", metrics.recall_score(y_test, y_pred))\n",
        "print(\"F1-Score:\", metrics.f1_score(y_test, y_pred))\n",
        "print(\"Confusion Matrix:\", metrics.confusion_matrix(y_test, y_pred))\n",
        "cm = metrics.confusion_matrix(y_test, y_pred)\n",
        "print(metrics.classification_report(y_test, y_pred))\n",
        "random_fp, random_tp, thresh = roc_curve(y_test, y_pred)\n",
        "plot_confusion_matrix(cm,classes = ['Fake','Real'])\n",
        "#plot_confusion_matrix(forestclf, X_test, y_test, display_labels=['FAKE', 'REAL'], cmap='Greens', values_format=\"d\")\n",
        "plot_precision_recall_curve(forestclf, X_test, y_test, name='Precision-Recall Curve')"
      ],
      "execution_count": null,
      "outputs": [
        {
          "output_type": "stream",
          "text": [
            "Accuracy: 0.9387933547070825\n",
            "Precision: 0.9359899592092877\n",
            "Recall: 0.9979926396788223\n",
            "F1-Score: 0.9659974093264249\n",
            "Confusion Matrix: [[ 238  204]\n",
            " [   6 2983]]\n",
            "              precision    recall  f1-score   support\n",
            "\n",
            "           0       0.98      0.54      0.69       442\n",
            "           1       0.94      1.00      0.97      2989\n",
            "\n",
            "    accuracy                           0.94      3431\n",
            "   macro avg       0.96      0.77      0.83      3431\n",
            "weighted avg       0.94      0.94      0.93      3431\n",
            "\n",
            "CM not normalized\n"
          ],
          "name": "stdout"
        },
        {
          "output_type": "execute_result",
          "data": {
            "text/plain": [
              "<sklearn.metrics._plot.precision_recall_curve.PrecisionRecallDisplay at 0x7fb2fb540110>"
            ]
          },
          "metadata": {
            "tags": []
          },
          "execution_count": 60
        },
        {
          "output_type": "display_data",
          "data": {
            "image/png": "[encoded data removed]",
            "text/plain": [
              "<Figure size 432x288 with 2 Axes>"
            ]
          },
          "metadata": {
            "tags": [],
            "needs_background": "light"
          }
        },
        {
          "output_type": "display_data",
          "data": {
            "image/png": "[encoded data removed]",
            "text/plain": [
              "<Figure size 432x288 with 1 Axes>"
            ]
          },
          "metadata": {
            "tags": [],
            "needs_background": "light"
          }
        }
      ]
    },
    {
      "cell_type": "code",
      "metadata": {
        "id": "guyAhnvBqARM"
      },
      "source": [
        "# tune the hyperparameter alpha for the naive bayes classifier\n",
        "#for depth in np.arange(10,200,10):\n",
        "#    random_classifier_tune = RandomForestClassifier(criterion='entropy', max_depth=depth, random_state=0)\n",
        "#    random_classifier_tune.fit(X_train, y_train)\n",
        "#    pred_tune = random_classifier_tune.predict(X_test)\n",
        "#    score = metrics.accuracy_score(y_test, pred_tune)\n",
        "#    print(\"Alpha: {:.2f} Score: {:.5f}\".format(depth, score))"
      ],
      "execution_count": null,
      "outputs": []
    },
    {
      "cell_type": "markdown",
      "metadata": {
        "id": "pbobTaARbYbq"
      },
      "source": [
        "## Neural Network with TF-IDF"
      ]
    },
    {
      "cell_type": "code",
      "metadata": {
        "colab": {
          "base_uri": "https://localhost:8080/",
          "height": 862
        },
        "id": "0iFTLcekbc7D",
        "outputId": "daac7d88-3d5a-40d4-942f-0963f21702f8"
      },
      "source": [
        "#Neural Network MLP Classifier\n",
        "start = time.time()\n",
        "neuralclf=MLPClassifier(hidden_layer_sizes=(33,),max_iter=500)\n",
        "\n",
        "neuralclf.fit(X_train, y_train)\n",
        "\n",
        "y_pred = neuralclf.predict(X_test)\n",
        "end = time.time()\n",
        "nn_time = end - start\n",
        "print(\"Accuracy:\", metrics.accuracy_score(y_test, y_pred))\n",
        "nn_acc = round((100 * metrics.accuracy_score(y_test, y_pred)), 2)\n",
        "print(\"Precision:\", metrics.precision_score(y_test, y_pred))\n",
        "print(\"Recall:\", metrics.recall_score(y_test, y_pred))\n",
        "print(\"F1-Score:\", metrics.f1_score(y_test, y_pred))\n",
        "print(\"Confusion Matrix:\", metrics.confusion_matrix(y_test, y_pred))\n",
        "cm = metrics.confusion_matrix(y_test, y_pred)\n",
        "print(metrics.classification_report(y_test, y_pred))\n",
        "nn_fp, nn_tp, thresh = roc_curve(y_test, y_pred)\n",
        "plot_confusion_matrix(cm,classes = ['Fake','Real'])\n",
        "#plot_confusion_matrix(neuralclf, X_test, y_test, display_labels=['FAKE', 'REAL'], cmap='Greens', values_format=\"d\")\n",
        "plot_precision_recall_curve(neuralclf, X_test, y_test, name='Precision-Recall Curve')"
      ],
      "execution_count": null,
      "outputs": [
        {
          "output_type": "stream",
          "text": [
            "Accuracy: 0.980763625765083\n",
            "Precision: 0.9812314784326638\n",
            "Recall: 0.9969889595182335\n",
            "F1-Score: 0.9890474610023233\n",
            "Confusion Matrix: [[ 385   57]\n",
            " [   9 2980]]\n",
            "              precision    recall  f1-score   support\n",
            "\n",
            "           0       0.98      0.87      0.92       442\n",
            "           1       0.98      1.00      0.99      2989\n",
            "\n",
            "    accuracy                           0.98      3431\n",
            "   macro avg       0.98      0.93      0.96      3431\n",
            "weighted avg       0.98      0.98      0.98      3431\n",
            "\n",
            "CM not normalized\n"
          ],
          "name": "stdout"
        },
        {
          "output_type": "execute_result",
          "data": {
            "text/plain": [
              "<sklearn.metrics._plot.precision_recall_curve.PrecisionRecallDisplay at 0x7fb2fafbb710>"
            ]
          },
          "metadata": {
            "tags": []
          },
          "execution_count": 61
        },
        {
          "output_type": "display_data",
          "data": {
            "image/png": "[encoded data removed]",
            "text/plain": [
              "<Figure size 432x288 with 2 Axes>"
            ]
          },
          "metadata": {
            "tags": [],
            "needs_background": "light"
          }
        },
        {
          "output_type": "display_data",
          "data": {
            "image/png": "[encoded data removed]",
            "text/plain": [
              "<Figure size 432x288 with 1 Axes>"
            ]
          },
          "metadata": {
            "tags": [],
            "needs_background": "light"
          }
        }
      ]
    },
    {
      "cell_type": "markdown",
      "metadata": {
        "id": "LIxM-Y01cNk1"
      },
      "source": [
        "## KNN with TF-IDF"
      ]
    },
    {
      "cell_type": "code",
      "metadata": {
        "colab": {
          "base_uri": "https://localhost:8080/",
          "height": 862
        },
        "id": "uCNaUMF8cQ-6",
        "outputId": "d4f2005f-6b2f-477f-ef46-32b2af12802b"
      },
      "source": [
        "# K-NearestNeighbour Classifier\n",
        "start = time.time()\n",
        "knnclf = KNeighborsClassifier(7)\n",
        "\n",
        "knnclf.fit(X_train, y_train)\n",
        "\n",
        "y_pred = knnclf.predict(X_test)\n",
        "end = time.time()\n",
        "knn_time = end - start\n",
        "print(\"Accuracy:\", metrics.accuracy_score(y_test, y_pred))\n",
        "knn_acc = round((100 * metrics.accuracy_score(y_test, y_pred)), 2)\n",
        "print(\"Precision:\", metrics.precision_score(y_test, y_pred))\n",
        "print(\"Recall:\", metrics.recall_score(y_test, y_pred))\n",
        "print(\"F1-Score:\", metrics.f1_score(y_test, y_pred))\n",
        "print(\"Confusion Matrix:\", metrics.confusion_matrix(y_test, y_pred))\n",
        "cm = metrics.confusion_matrix(y_test, y_pred)\n",
        "print(metrics.classification_report(y_test, y_pred))\n",
        "knn_fp, knn_tp, thresh = roc_curve(y_test, y_pred)\n",
        "plot_confusion_matrix(cm,classes = ['Fake','Real'])\n",
        "#plot_confusion_matrix(knnclf, X_test, y_test, display_labels=['FAKE', 'REAL'], cmap='Greens', values_format=\"d\")\n",
        "plot_precision_recall_curve(knnclf, X_test, y_test, name='Precision-Recall Curve')"
      ],
      "execution_count": null,
      "outputs": [
        {
          "output_type": "stream",
          "text": [
            "Accuracy: 0.9271349460798601\n",
            "Precision: 0.923338485316847\n",
            "Recall: 0.9993308798929408\n",
            "F1-Score: 0.9598329048843188\n",
            "Confusion Matrix: [[ 194  248]\n",
            " [   2 2987]]\n",
            "              precision    recall  f1-score   support\n",
            "\n",
            "           0       0.99      0.44      0.61       442\n",
            "           1       0.92      1.00      0.96      2989\n",
            "\n",
            "    accuracy                           0.93      3431\n",
            "   macro avg       0.96      0.72      0.78      3431\n",
            "weighted avg       0.93      0.93      0.91      3431\n",
            "\n",
            "CM not normalized\n"
          ],
          "name": "stdout"
        },
        {
          "output_type": "execute_result",
          "data": {
            "text/plain": [
              "<sklearn.metrics._plot.precision_recall_curve.PrecisionRecallDisplay at 0x7fb2fb4c6190>"
            ]
          },
          "metadata": {
            "tags": []
          },
          "execution_count": 62
        },
        {
          "output_type": "display_data",
          "data": {
            "image/png": "[encoded data removed]",
            "text/plain": [
              "<Figure size 432x288 with 2 Axes>"
            ]
          },
          "metadata": {
            "tags": [],
            "needs_background": "light"
          }
        },
        {
          "output_type": "display_data",
          "data": {
            "image/png": "[encoded data removed]",
            "text/plain": [
              "<Figure size 432x288 with 1 Axes>"
            ]
          },
          "metadata": {
            "tags": [],
            "needs_background": "light"
          }
        }
      ]
    },
    {
      "cell_type": "markdown",
      "metadata": {
        "id": "sfVYsaUfeSn8"
      },
      "source": [
        "## XGBoost Classifier With TF-IDF Vectorizer"
      ]
    },
    {
      "cell_type": "code",
      "metadata": {
        "colab": {
          "base_uri": "https://localhost:8080/",
          "height": 862
        },
        "id": "GPUdwnM8eSn9",
        "scrolled": false,
        "outputId": "326bee9d-6e94-4815-dfdc-fccf127a3ec5"
      },
      "source": [
        "# XGBoost Classifier\n",
        "start = time.time()\n",
        "xgbclf = XGBClassifier()\n",
        "\n",
        "xgbclf.fit(X_train, y_train)\n",
        "\n",
        "y_pred = xgbclf.predict(X_test)\n",
        "end = time.time()\n",
        "xgb_time = end - start\n",
        "print(\"Accuracy:\", metrics.accuracy_score(y_test, y_pred))\n",
        "xgb_acc = round((100 * metrics.accuracy_score(y_test, y_pred)), 2)\n",
        "print(\"Precision:\", metrics.precision_score(y_test, y_pred))\n",
        "print(\"Recall:\", metrics.recall_score(y_test, y_pred))\n",
        "print(\"F1-Score:\", metrics.f1_score(y_test, y_pred))\n",
        "print(\"Confusion Matrix:\", metrics.confusion_matrix(y_test, y_pred))\n",
        "cm = metrics.confusion_matrix(y_test, y_pred)\n",
        "print(metrics.classification_report(y_test, y_pred))\n",
        "xgb_fp, xgb_tp, thresh = roc_curve(y_test, y_pred)\n",
        "plot_confusion_matrix(cm,classes = ['Fake','Real'])\n",
        "#plot_confusion_matrix(xgbclf, X_test, y_test, display_labels=['FAKE', 'REAL'], cmap='Greens', values_format=\"d\")\n",
        "plot_precision_recall_curve(xgbclf, X_test, y_test, name='Precision-Recall Curve')"
      ],
      "execution_count": null,
      "outputs": [
        {
          "output_type": "stream",
          "text": [
            "Accuracy: 0.9522005246283882\n",
            "Precision: 0.9528695094581596\n",
            "Recall: 0.9943124790899966\n",
            "F1-Score: 0.9731499672560576\n",
            "Confusion Matrix: [[ 295  147]\n",
            " [  17 2972]]\n",
            "              precision    recall  f1-score   support\n",
            "\n",
            "           0       0.95      0.67      0.78       442\n",
            "           1       0.95      0.99      0.97      2989\n",
            "\n",
            "    accuracy                           0.95      3431\n",
            "   macro avg       0.95      0.83      0.88      3431\n",
            "weighted avg       0.95      0.95      0.95      3431\n",
            "\n",
            "CM not normalized\n"
          ],
          "name": "stdout"
        },
        {
          "output_type": "execute_result",
          "data": {
            "text/plain": [
              "<sklearn.metrics._plot.precision_recall_curve.PrecisionRecallDisplay at 0x7fb2fb291bd0>"
            ]
          },
          "metadata": {
            "tags": []
          },
          "execution_count": 63
        },
        {
          "output_type": "display_data",
          "data": {
            "image/png": "[encoded data removed]",
            "text/plain": [
              "<Figure size 432x288 with 2 Axes>"
            ]
          },
          "metadata": {
            "tags": [],
            "needs_background": "light"
          }
        },
        {
          "output_type": "display_data",
          "data": {
            "image/png": "[encoded data removed]",
            "text/plain": [
              "<Figure size 432x288 with 1 Axes>"
            ]
          },
          "metadata": {
            "tags": [],
            "needs_background": "light"
          }
        }
      ]
    },
    {
      "cell_type": "markdown",
      "metadata": {
        "id": "uqEP5kGBeSn-"
      },
      "source": [
        "## CatBoost Classifier With TF-IDF Vectorizer "
      ]
    },
    {
      "cell_type": "code",
      "metadata": {
        "colab": {
          "base_uri": "https://localhost:8080/",
          "height": 862
        },
        "id": "XMrEVIA7eSn-",
        "outputId": "65f8c0b2-41bc-474e-f0ae-677d87c44ae5"
      },
      "source": [
        "#CatBoost Classifier\n",
        "start = time.time()\n",
        "catclf = CatBoostClassifier(verbose=0, n_estimators=100)\n",
        "\n",
        "catclf.fit(X_train, y_train)\n",
        "\n",
        "y_pred = catclf.predict(X_test)\n",
        "end = time.time()\n",
        "cat_time = end - start\n",
        "print(\"Accuracy:\", metrics.accuracy_score(y_test, y_pred))\n",
        "cat_acc = round((100 * metrics.accuracy_score(y_test, y_pred)), 2)\n",
        "print(\"Precision:\", metrics.precision_score(y_test, y_pred))\n",
        "print(\"Recall:\", metrics.recall_score(y_test, y_pred))\n",
        "print(\"F1-Score:\", metrics.f1_score(y_test, y_pred))\n",
        "print(\"Confusion Matrix:\", metrics.confusion_matrix(y_test, y_pred))\n",
        "cm = metrics.confusion_matrix(y_test, y_pred)\n",
        "print(metrics.classification_report(y_test, y_pred))\n",
        "cat_fp, cat_tp, thresh = roc_curve(y_test, y_pred)\n",
        "plot_confusion_matrix(cm,classes = ['Fake','Real'])\n",
        "#plot_confusion_matrix(catclf, X_test, y_test, display_labels=['FAKE', 'REAL'], cmap='Greens', values_format=\"d\")\n",
        "plot_precision_recall_curve(catclf, X_test, y_test, name='Precision-Recall Curve')"
      ],
      "execution_count": null,
      "outputs": [
        {
          "output_type": "stream",
          "text": [
            "Accuracy: 0.9641503934712912\n",
            "Precision: 0.9631544925662573\n",
            "Recall: 0.9969889595182335\n",
            "F1-Score: 0.9797797139569293\n",
            "Confusion Matrix: [[ 328  114]\n",
            " [   9 2980]]\n",
            "              precision    recall  f1-score   support\n",
            "\n",
            "           0       0.97      0.74      0.84       442\n",
            "           1       0.96      1.00      0.98      2989\n",
            "\n",
            "    accuracy                           0.96      3431\n",
            "   macro avg       0.97      0.87      0.91      3431\n",
            "weighted avg       0.96      0.96      0.96      3431\n",
            "\n",
            "CM not normalized\n"
          ],
          "name": "stdout"
        },
        {
          "output_type": "execute_result",
          "data": {
            "text/plain": [
              "<sklearn.metrics._plot.precision_recall_curve.PrecisionRecallDisplay at 0x7fb307a1efd0>"
            ]
          },
          "metadata": {
            "tags": []
          },
          "execution_count": 64
        },
        {
          "output_type": "display_data",
          "data": {
            "image/png": "[encoded data removed]",
            "text/plain": [
              "<Figure size 432x288 with 2 Axes>"
            ]
          },
          "metadata": {
            "tags": [],
            "needs_background": "light"
          }
        },
        {
          "output_type": "display_data",
          "data": {
            "image/png": "[encoded data removed]",
            "text/plain": [
              "<Figure size 432x288 with 1 Axes>"
            ]
          },
          "metadata": {
            "tags": [],
            "needs_background": "light"
          }
        }
      ]
    },
    {
      "cell_type": "markdown",
      "metadata": {
        "id": "H-eoqlV5eSn_"
      },
      "source": [
        "## AdaBoost Classifier With TF-IDF Vectorizer "
      ]
    },
    {
      "cell_type": "code",
      "metadata": {
        "colab": {
          "base_uri": "https://localhost:8080/",
          "height": 862
        },
        "id": "Q6fX424AeSn_",
        "outputId": "d45f7b48-bad7-4861-be6c-23cc42d0f184"
      },
      "source": [
        "# AdaBoost Classifier\n",
        "start = time.time()\n",
        "adaclf = AdaBoostClassifier()\n",
        "\n",
        "adaclf.fit(X_train, y_train)\n",
        "\n",
        "y_pred = adaclf.predict(X_test)\n",
        "end = time.time()\n",
        "ada_time = end - start\n",
        "print(\"Accuracy:\", metrics.accuracy_score(y_test, y_pred))\n",
        "ada_acc = round((100 * metrics.accuracy_score(y_test, y_pred)), 2)\n",
        "print(\"Precision:\", metrics.precision_score(y_test, y_pred))\n",
        "print(\"Recall:\", metrics.recall_score(y_test, y_pred))\n",
        "print(\"F1-Score:\", metrics.f1_score(y_test, y_pred))\n",
        "print(\"Confusion Matrix:\", metrics.confusion_matrix(y_test, y_pred))\n",
        "cm = metrics.confusion_matrix(y_test, y_pred)\n",
        "print(metrics.classification_report(y_test, y_pred))\n",
        "ada_fp, ada_tp, thresh = roc_curve(y_test, y_pred)\n",
        "plot_confusion_matrix(cm,classes = ['Fake','Real'])\n",
        "#plot_confusion_matrix(adaclf, X_test, y_test, display_labels=['FAKE', 'REAL'], cmap='Greens', values_format=\"d\")\n",
        "plot_precision_recall_curve(adaclf, X_test, y_test, name='Precision-Recall Curve')"
      ],
      "execution_count": null,
      "outputs": [
        {
          "output_type": "stream",
          "text": [
            "Accuracy: 0.9475371611774993\n",
            "Precision: 0.9582381729200653\n",
            "Recall: 0.9826028772164603\n",
            "F1-Score: 0.9702675916749256\n",
            "Confusion Matrix: [[ 314  128]\n",
            " [  52 2937]]\n",
            "              precision    recall  f1-score   support\n",
            "\n",
            "           0       0.86      0.71      0.78       442\n",
            "           1       0.96      0.98      0.97      2989\n",
            "\n",
            "    accuracy                           0.95      3431\n",
            "   macro avg       0.91      0.85      0.87      3431\n",
            "weighted avg       0.95      0.95      0.95      3431\n",
            "\n",
            "CM not normalized\n"
          ],
          "name": "stdout"
        },
        {
          "output_type": "execute_result",
          "data": {
            "text/plain": [
              "<sklearn.metrics._plot.precision_recall_curve.PrecisionRecallDisplay at 0x7fb2fb2da810>"
            ]
          },
          "metadata": {
            "tags": []
          },
          "execution_count": 65
        },
        {
          "output_type": "display_data",
          "data": {
            "image/png": "[encoded data removed]",
            "text/plain": [
              "<Figure size 432x288 with 2 Axes>"
            ]
          },
          "metadata": {
            "tags": [],
            "needs_background": "light"
          }
        },
        {
          "output_type": "display_data",
          "data": {
            "image/png": "[encoded data removed]",
            "text/plain": [
              "<Figure size 432x288 with 1 Axes>"
            ]
          },
          "metadata": {
            "tags": [],
            "needs_background": "light"
          }
        }
      ]
    },
    {
      "cell_type": "markdown",
      "metadata": {
        "id": "Kin0pu5ZdpyI"
      },
      "source": [
        "## Plotting Barchart of the Model Accuracies"
      ]
    },
    {
      "cell_type": "code",
      "metadata": {
        "id": "TLVS5MpGdx0M"
      },
      "source": [
        "accuracies={\"SVM\": svc_acc,\n",
        "            \"Logistic Regression\": lr_acc,\n",
        "            \"MNB\": mnb_acc,\n",
        "            \"Passive Agressive\": passive_acc,\n",
        "            \"Random Forest\": random_acc,\n",
        "            \"KNN\": knn_acc,\n",
        "            \"Neural Network\": nn_acc,\n",
        "            \"XGBoost\": xgb_acc,\n",
        "            \"CatBoost\": cat_acc,\n",
        "            \"AdaBoost\": ada_acc}\n",
        "\n",
        "acc_list=accuracies.items()\n",
        "k,v = zip(*acc_list) \n",
        "temp=pd.DataFrame(index=k,data=v,columns=[\"Accuracy\"])\n",
        "temp.sort_values(by=[\"Accuracy\"],ascending=False,inplace=True)\n",
        "\n",
        "#Plot accuracy for different models\n",
        "plt.figure(figsize=(20,7))\n",
        "ACC=sns.barplot(y=temp.index,x=temp[\"Accuracy\"],label=\"Accuracy\",edgecolor=\"white\",linewidth=3,orient=\"h\",palette=\"twilight_r\")\n",
        "plt.ylabel(\"Accuracy (%)\")\n",
        "plt.title(\"Accuracy Comparison\")\n",
        "plt.xlim(95,100)\n",
        "\n",
        "ACC.spines['left'].set_linewidth(3)\n",
        "for w in ['right', 'top', 'bottom']:\n",
        "    ACC.spines[w].set_visible(False)\n",
        "    \n",
        "#Write text on barplots\n",
        "k=0\n",
        "for ACC in ACC.patches:\n",
        "    width = ACC.get_width()\n",
        "    plt.text(width+0.1, (ACC.get_y() + ACC.get_height()-0.3),s=\"{}%\".format(temp[\"Accuracy\"][k]),fontname = 'monospace', fontsize = 14, color = 'black') \n",
        "    k+=1\n",
        "    \n",
        "plt.legend(loc=\"lower right\")\n",
        "plt.tight_layout()\n",
        "plt.show()"
      ],
      "execution_count": null,
      "outputs": []
    },
    {
      "cell_type": "markdown",
      "metadata": {
        "id": "fIVyfVSugZAa"
      },
      "source": [
        "## Plotting BarChart of Execution Time of the Models"
      ]
    },
    {
      "cell_type": "code",
      "metadata": {
        "id": "6ZSdmVZigeEk"
      },
      "source": [
        "exe_time={\"SVM\": svc_time,\n",
        "            \"Logistic Regression\": lr_time,\n",
        "            \"MNB\": mnb_acc,\n",
        "            \"Passive Agressive\": passive_time,\n",
        "            \"Random Forest\": random_time,\n",
        "            \"KNN\": knn_time,\n",
        "            \"Neural Network\": nn_time,\n",
        "            \"XGBoost\": xgb_time,\n",
        "            \"CatBoost\": cat_time,\n",
        "            \"AdaBoost\": ada_time}\n",
        "\n",
        "time_list=exe_time.items()\n",
        "k,v = zip(*time_list) \n",
        "temp1=pd.DataFrame(index=k,data=v,columns=[\"Time\"])\n",
        "temp1.sort_values(by=[\"Time\"],ascending=False,inplace=True)\n",
        "\n",
        "#Plot accuracy for different models\n",
        "plt.figure(figsize=(20,7))\n",
        "ET=sns.barplot(y=temp1.index,x=temp1[\"Time\"],label=\"Time\",edgecolor=\"white\",linewidth=3,orient=\"h\",palette=\"twilight_r\")\n",
        "plt.ylabel(\"Model\")\n",
        "plt.title(\"Execution Time Comparison\")\n",
        "ET.spines['left'].set_linewidth(3)\n",
        "for w in ['right', 'top', 'bottom']:\n",
        "    ET.spines[w].set_visible(False)\n",
        "\n",
        "#Write text on barplots\n",
        "k=0\n",
        "for ET in ET.patches:\n",
        "    width = ET.get_width()\n",
        "    plt.text(width+0.01, (ET.get_y() + ET.get_height()-0.3),s=\"{}s\".format(round((temp1[\"Time\"][k]),3)),fontname = 'monospace', fontsize = 14, color = 'black') \n",
        "    k+=1\n",
        "\n",
        "plt.legend(loc=\"lower right\")\n",
        "plt.tight_layout()\n",
        "plt.show()"
      ],
      "execution_count": null,
      "outputs": []
    },
    {
      "cell_type": "markdown",
      "metadata": {
        "id": "qgoyuqdElPBR"
      },
      "source": [
        "## Plotting ROC Curves of the Models"
      ]
    },
    {
      "cell_type": "code",
      "metadata": {
        "id": "yNM0vT9_lStw"
      },
      "source": [
        "plt.figure(figsize=(8,6))\n",
        "plt.plot(sv_fp,sv_tp,'orange',label = 'SVM')\n",
        "plt.plot(lr_fp,lr_tp,'red',label = 'Logistic Regression')\n",
        "plt.plot(mnb_fp,mnb_tp,'purple',label = 'MNB')\n",
        "plt.plot(passive_fp,passive_tp,'blue',label = 'Passive Agressive')\n",
        "plt.plot(random_fp,random_tp,'yellow',label = 'Random Forests')\n",
        "plt.plot(knn_fp,knn_tp,'brown',label = 'KNN')\n",
        "plt.plot(nn_fp,nn_tp,'green',label = 'Neural Network')\n",
        "plt.plot(xgb_fp,xgb_tp,'pink',label = 'XGBoost')\n",
        "plt.plot(cat_fp,cat_tp,'magenta',label = 'CatBoost')\n",
        "plt.plot(ada_fp,ada_tp,'cyan',label = 'AdaBoost')\n",
        "\n",
        "plt.legend(\"SVM\", loc='lower right')\n",
        "plt.legend(\"Logistic Regression\", loc='lower right')\n",
        "plt.legend(\"MNB\", loc='lower right')\n",
        "plt.legend(\"Passive Agressive\", loc='lower right')\n",
        "plt.legend(\"Random Forests\", loc='lower right')\n",
        "plt.legend(\"KNN\", loc='lower right')\n",
        "plt.legend(\"Neural Network\", loc='lower right')\n",
        "plt.legend(\"XGBoost\", loc='lower right')\n",
        "plt.legend(\"CatBoost\", loc='lower right')\n",
        "plt.legend(\"AdaBoost\", loc='lower right')\n",
        "plt.legend(loc='lower right')\n",
        "\n",
        "plt.xlabel(\"False positive rate\")\n",
        "plt.ylabel(\"True positive rate\")\n",
        "plt.title('ROC Curve of The Models')\n",
        "plt.show()"
      ],
      "execution_count": null,
      "outputs": []
    },
    {
      "cell_type": "code",
      "metadata": {
        "id": "mwjqU_-AVFtj"
      },
      "source": [
        "plt.figure(figsize=(8,6))\n",
        "plt.plot(sv_fp,sv_tp,'orange',label = 'SVM')\n",
        "plt.plot(lr_fp,lr_tp,'red',label = 'Logistic Regression')\n",
        "plt.plot(mnb_fp,mnb_tp,'purple',label = 'MNB')\n",
        "plt.plot(random_fp,random_tp,'yellow',label = 'Random Forests')\n",
        "plt.plot(knn_fp,knn_tp,'brown',label = 'KNN')\n",
        "plt.plot(ada_fp,ada_tp,'cyan',label = 'AdaBoost')\n",
        "\n",
        "plt.legend(\"SVM\", loc='lower right')\n",
        "plt.legend(\"Logistic Regression\", loc='lower right')\n",
        "plt.legend(\"MNB\", loc='lower right')\n",
        "plt.legend(\"Random Forests\", loc='lower right')\n",
        "plt.legend(\"KNN\", loc='lower right')\n",
        "plt.legend(\"AdaBoost\", loc='lower right')\n",
        "plt.legend(loc='lower right')\n",
        "\n",
        "plt.xlabel(\"False positive rate\")\n",
        "plt.ylabel(\"True positive rate\")\n",
        "plt.title('ROC Curve of The Models')\n",
        "plt.show()"
      ],
      "execution_count": null,
      "outputs": []
    }
  ]
}