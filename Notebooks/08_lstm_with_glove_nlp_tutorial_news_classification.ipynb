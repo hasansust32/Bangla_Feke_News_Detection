{
  "nbformat": 4,
  "nbformat_minor": 0,
  "metadata": {
    "kernelspec": {
      "name": "python3",
      "display_name": "Python 3",
      "language": "python"
    },
    "language_info": {
      "name": "python",
      "version": "3.7.6",
      "mimetype": "text/x-python",
      "codemirror_mode": {
        "name": "ipython",
        "version": 3
      },
      "pygments_lexer": "ipython3",
      "nbconvert_exporter": "python",
      "file_extension": ".py"
    },
    "colab": {
      "name": "08. lstm-with-glove-nlp-tutorial-news-classification.ipynb",
      "provenance": []
    }
  },
  "cells": [
    {
      "cell_type": "markdown",
      "metadata": {
        "id": "THFQGzCdGpEx"
      },
      "source": [
        "# Loading the dataset"
      ]
    },
    {
      "cell_type": "code",
      "metadata": {
        "_uuid": "8f2839f25d086af736a60e9eeb907d3b93b6e0e5",
        "_cell_guid": "b1076dfc-b9ad-4769-8c92-a6c4dae69d19",
        "trusted": true,
        "id": "JxCvsgdhGpEy"
      },
      "source": [
        "import numpy as np # linear algebra\n",
        "import pandas as pd # data processing, CSV file I/O (e.g. pd.read_csv)\n",
        "from sklearn.metrics import accuracy_score, confusion_matrix, precision_score, recall_score, classification_report\n",
        "import itertools"
      ],
      "execution_count": null,
      "outputs": []
    },
    {
      "cell_type": "code",
      "metadata": {
        "trusted": true,
        "id": "aMWZ2q9lGpE0"
      },
      "source": [
        "import seaborn as sns\n",
        "import matplotlib.pyplot as plt\n",
        "\"\"\n",
        "%matplotlib inline\n",
        "sns.set_style(\"darkgrid\")"
      ],
      "execution_count": null,
      "outputs": []
    },
    {
      "cell_type": "code",
      "metadata": {
        "colab": {
          "base_uri": "https://localhost:8080/"
        },
        "id": "P_zvpJuQKxuA",
        "outputId": "e336d952-9d7d-41a0-fc47-dbb9ef7d17c0"
      },
      "source": [
        "from google.colab import drive\n",
        "drive.mount('/content/drive')"
      ],
      "execution_count": null,
      "outputs": [
        {
          "output_type": "stream",
          "text": [
            "Mounted at /content/drive\n"
          ],
          "name": "stdout"
        }
      ]
    },
    {
      "cell_type": "code",
      "metadata": {
        "_uuid": "d629ff2d2480ee46fbb7e2d37f6b5fab8052498a",
        "_cell_guid": "79c7e3d0-c299-4dcb-8224-4455121ee9b0",
        "trusted": true,
        "id": "tGYsWAGzGpE1"
      },
      "source": [
        "news = pd.read_csv(\"/content/drive/MyDrive/research/totaldata.csv\")"
      ],
      "execution_count": null,
      "outputs": []
    },
    {
      "cell_type": "code",
      "metadata": {
        "trusted": true,
        "colab": {
          "base_uri": "https://localhost:8080/",
          "height": 272
        },
        "id": "ly_0PxaJGpE5",
        "outputId": "59151f9b-7816-43a7-8be9-17ec2134fe97"
      },
      "source": [
        "news.head()"
      ],
      "execution_count": null,
      "outputs": [
        {
          "output_type": "execute_result",
          "data": {
            "text/html": [
              "<div>\n",
              "<style scoped>\n",
              "    .dataframe tbody tr th:only-of-type {\n",
              "        vertical-align: middle;\n",
              "    }\n",
              "\n",
              "    .dataframe tbody tr th {\n",
              "        vertical-align: top;\n",
              "    }\n",
              "\n",
              "    .dataframe thead th {\n",
              "        text-align: right;\n",
              "    }\n",
              "</style>\n",
              "<table border=\"1\" class=\"dataframe\">\n",
              "  <thead>\n",
              "    <tr style=\"text-align: right;\">\n",
              "      <th></th>\n",
              "      <th>Unnamed: 0</th>\n",
              "      <th>articleID</th>\n",
              "      <th>content</th>\n",
              "      <th>headline</th>\n",
              "      <th>label</th>\n",
              "    </tr>\n",
              "  </thead>\n",
              "  <tbody>\n",
              "    <tr>\n",
              "      <th>0</th>\n",
              "      <td>0</td>\n",
              "      <td>1</td>\n",
              "      <td>গত ১৭ সেপ্টেম্বর বাংলাদেশ কৃষি বিশ্ববিদ্যালয়ে ...</td>\n",
              "      <td>হট্টগোল করায় বাকৃবিতে দুইজন বরখাস্ত, ৬ জনকে শোকজ</td>\n",
              "      <td>1</td>\n",
              "    </tr>\n",
              "    <tr>\n",
              "      <th>1</th>\n",
              "      <td>1</td>\n",
              "      <td>2</td>\n",
              "      <td>বাংলাদেশের বৃহৎ শ্রমবাজার মালয়েশিয়ায় আবার শ্রম...</td>\n",
              "      <td>মালয়েশিয়ায় কর্মী পাঠানোর ব্যবস্থা নেয়ার সুপারিশ</td>\n",
              "      <td>1</td>\n",
              "    </tr>\n",
              "    <tr>\n",
              "      <th>2</th>\n",
              "      <td>2</td>\n",
              "      <td>3</td>\n",
              "      <td>নরসিংদীর মনোহরদীতে প্রেমের প্রস্তাবে রাজি না হ...</td>\n",
              "      <td>প্রেমের প্রস্তাবে রাজি না হওয়ায় স্কুলছাত্রীকে ...</td>\n",
              "      <td>1</td>\n",
              "    </tr>\n",
              "    <tr>\n",
              "      <th>3</th>\n",
              "      <td>3</td>\n",
              "      <td>4</td>\n",
              "      <td>সুপ্রিম কোর্টের হাইকোর্ট বিভাগের বিচারপতি আহমে...</td>\n",
              "      <td>মেডিয়েশনই মামলাজট নিরসনের পথ : বিচারপতি আহমেদ ...</td>\n",
              "      <td>1</td>\n",
              "    </tr>\n",
              "    <tr>\n",
              "      <th>4</th>\n",
              "      <td>4</td>\n",
              "      <td>5</td>\n",
              "      <td>মাদারীপুর সদরের উপজেলার লেকেরপাড়ে একটি বেসরকার...</td>\n",
              "      <td>টকশোতে বক্তব্য দিতে গিয়ে জাপা নেতার মৃত্যু</td>\n",
              "      <td>1</td>\n",
              "    </tr>\n",
              "  </tbody>\n",
              "</table>\n",
              "</div>"
            ],
            "text/plain": [
              "   Unnamed: 0  ...  label\n",
              "0           0  ...      1\n",
              "1           1  ...      1\n",
              "2           2  ...      1\n",
              "3           3  ...      1\n",
              "4           4  ...      1\n",
              "\n",
              "[5 rows x 5 columns]"
            ]
          },
          "metadata": {
            "tags": []
          },
          "execution_count": 7
        }
      ]
    },
    {
      "cell_type": "code",
      "metadata": {
        "trusted": true,
        "colab": {
          "base_uri": "https://localhost:8080/",
          "height": 606
        },
        "id": "9DZ5bJI-GpE6",
        "outputId": "6b916547-d028-4ed0-e486-2984c1f57f97"
      },
      "source": [
        "news['text'] = news['headline'] + \" \" + news['content']\n",
        "news"
      ],
      "execution_count": null,
      "outputs": [
        {
          "output_type": "execute_result",
          "data": {
            "text/html": [
              "<div>\n",
              "<style scoped>\n",
              "    .dataframe tbody tr th:only-of-type {\n",
              "        vertical-align: middle;\n",
              "    }\n",
              "\n",
              "    .dataframe tbody tr th {\n",
              "        vertical-align: top;\n",
              "    }\n",
              "\n",
              "    .dataframe thead th {\n",
              "        text-align: right;\n",
              "    }\n",
              "</style>\n",
              "<table border=\"1\" class=\"dataframe\">\n",
              "  <thead>\n",
              "    <tr style=\"text-align: right;\">\n",
              "      <th></th>\n",
              "      <th>Unnamed: 0</th>\n",
              "      <th>articleID</th>\n",
              "      <th>content</th>\n",
              "      <th>headline</th>\n",
              "      <th>label</th>\n",
              "      <th>text</th>\n",
              "    </tr>\n",
              "  </thead>\n",
              "  <tbody>\n",
              "    <tr>\n",
              "      <th>0</th>\n",
              "      <td>0</td>\n",
              "      <td>1</td>\n",
              "      <td>গত ১৭ সেপ্টেম্বর বাংলাদেশ কৃষি বিশ্ববিদ্যালয়ে ...</td>\n",
              "      <td>হট্টগোল করায় বাকৃবিতে দুইজন বরখাস্ত, ৬ জনকে শোকজ</td>\n",
              "      <td>1</td>\n",
              "      <td>হট্টগোল করায় বাকৃবিতে দুইজন বরখাস্ত, ৬ জনকে শো...</td>\n",
              "    </tr>\n",
              "    <tr>\n",
              "      <th>1</th>\n",
              "      <td>1</td>\n",
              "      <td>2</td>\n",
              "      <td>বাংলাদেশের বৃহৎ শ্রমবাজার মালয়েশিয়ায় আবার শ্রম...</td>\n",
              "      <td>মালয়েশিয়ায় কর্মী পাঠানোর ব্যবস্থা নেয়ার সুপারিশ</td>\n",
              "      <td>1</td>\n",
              "      <td>মালয়েশিয়ায় কর্মী পাঠানোর ব্যবস্থা নেয়ার সুপারি...</td>\n",
              "    </tr>\n",
              "    <tr>\n",
              "      <th>2</th>\n",
              "      <td>2</td>\n",
              "      <td>3</td>\n",
              "      <td>নরসিংদীর মনোহরদীতে প্রেমের প্রস্তাবে রাজি না হ...</td>\n",
              "      <td>প্রেমের প্রস্তাবে রাজি না হওয়ায় স্কুলছাত্রীকে ...</td>\n",
              "      <td>1</td>\n",
              "      <td>প্রেমের প্রস্তাবে রাজি না হওয়ায় স্কুলছাত্রীকে ...</td>\n",
              "    </tr>\n",
              "    <tr>\n",
              "      <th>3</th>\n",
              "      <td>3</td>\n",
              "      <td>4</td>\n",
              "      <td>সুপ্রিম কোর্টের হাইকোর্ট বিভাগের বিচারপতি আহমে...</td>\n",
              "      <td>মেডিয়েশনই মামলাজট নিরসনের পথ : বিচারপতি আহমেদ ...</td>\n",
              "      <td>1</td>\n",
              "      <td>মেডিয়েশনই মামলাজট নিরসনের পথ : বিচারপতি আহমেদ ...</td>\n",
              "    </tr>\n",
              "    <tr>\n",
              "      <th>4</th>\n",
              "      <td>4</td>\n",
              "      <td>5</td>\n",
              "      <td>মাদারীপুর সদরের উপজেলার লেকেরপাড়ে একটি বেসরকার...</td>\n",
              "      <td>টকশোতে বক্তব্য দিতে গিয়ে জাপা নেতার মৃত্যু</td>\n",
              "      <td>1</td>\n",
              "      <td>টকশোতে বক্তব্য দিতে গিয়ে জাপা নেতার মৃত্যু মাদ...</td>\n",
              "    </tr>\n",
              "    <tr>\n",
              "      <th>...</th>\n",
              "      <td>...</td>\n",
              "      <td>...</td>\n",
              "      <td>...</td>\n",
              "      <td>...</td>\n",
              "      <td>...</td>\n",
              "      <td>...</td>\n",
              "    </tr>\n",
              "    <tr>\n",
              "      <th>11429</th>\n",
              "      <td>1429</td>\n",
              "      <td>142</td>\n",
              "      <td>এটিকে আর্মি অব ইসলাম বা ‘ইসলামি আর্মি’ নামে অভ...</td>\n",
              "      <td>৫৭টি মুসলিম দেশকে নিয়ে ইসলামি সেনাবাহিনী গঠন</td>\n",
              "      <td>0</td>\n",
              "      <td>৫৭টি মুসলিম দেশকে নিয়ে ইসলামি সেনাবাহিনী গঠন এ...</td>\n",
              "    </tr>\n",
              "    <tr>\n",
              "      <th>11430</th>\n",
              "      <td>1430</td>\n",
              "      <td>143</td>\n",
              "      <td>বিশ্ব মুসলিমদের প্রধান শত্রু ইহুদিবাদী সন্ত্রা...</td>\n",
              "      <td>ইসরাইল প্রতিরোধে আসছে এরদোগানের ‘ইসলামিক আর্মি’</td>\n",
              "      <td>0</td>\n",
              "      <td>ইসরাইল প্রতিরোধে আসছে এরদোগানের ‘ইসলামিক আর্মি...</td>\n",
              "    </tr>\n",
              "    <tr>\n",
              "      <th>11431</th>\n",
              "      <td>1431</td>\n",
              "      <td>144</td>\n",
              "      <td>ইসলামী মূল্যবোধের উন্নয়ন এবং ইসলামী সংস্কৃতি ব...</td>\n",
              "      <td>৫৬০ মডেল মসজিদ নির্মাণ করবে সরকার</td>\n",
              "      <td>0</td>\n",
              "      <td>৫৬০ মডেল মসজিদ নির্মাণ করবে সরকার ইসলামী মূল্য...</td>\n",
              "    </tr>\n",
              "    <tr>\n",
              "      <th>11432</th>\n",
              "      <td>1432</td>\n",
              "      <td>145</td>\n",
              "      <td>ভারতের বিনোদন জগতে গত কয়েক দিন সবচেয়ে উচ্চারিত...</td>\n",
              "      <td>রানুকে বাড়ি উপহার দিলেন সালমান</td>\n",
              "      <td>0</td>\n",
              "      <td>রানুকে বাড়ি উপহার দিলেন সালমান ভারতের বিনোদন জ...</td>\n",
              "    </tr>\n",
              "    <tr>\n",
              "      <th>11433</th>\n",
              "      <td>1433</td>\n",
              "      <td>146</td>\n",
              "      <td>রোনাভাইরাসের কোনো প্রতিষেধক আবিষ্কার না হলেও এ...</td>\n",
              "      <td>লেবুতেই ধ্বংস হবে করোনাভাইরাস</td>\n",
              "      <td>0</td>\n",
              "      <td>লেবুতেই ধ্বংস হবে করোনাভাইরাস রোনাভাইরাসের কোন...</td>\n",
              "    </tr>\n",
              "  </tbody>\n",
              "</table>\n",
              "<p>11434 rows × 6 columns</p>\n",
              "</div>"
            ],
            "text/plain": [
              "       Unnamed: 0  ...                                               text\n",
              "0               0  ...  হট্টগোল করায় বাকৃবিতে দুইজন বরখাস্ত, ৬ জনকে শো...\n",
              "1               1  ...  মালয়েশিয়ায় কর্মী পাঠানোর ব্যবস্থা নেয়ার সুপারি...\n",
              "2               2  ...  প্রেমের প্রস্তাবে রাজি না হওয়ায় স্কুলছাত্রীকে ...\n",
              "3               3  ...  মেডিয়েশনই মামলাজট নিরসনের পথ : বিচারপতি আহমেদ ...\n",
              "4               4  ...  টকশোতে বক্তব্য দিতে গিয়ে জাপা নেতার মৃত্যু মাদ...\n",
              "...           ...  ...                                                ...\n",
              "11429        1429  ...  ৫৭টি মুসলিম দেশকে নিয়ে ইসলামি সেনাবাহিনী গঠন এ...\n",
              "11430        1430  ...  ইসরাইল প্রতিরোধে আসছে এরদোগানের ‘ইসলামিক আর্মি...\n",
              "11431        1431  ...  ৫৬০ মডেল মসজিদ নির্মাণ করবে সরকার ইসলামী মূল্য...\n",
              "11432        1432  ...  রানুকে বাড়ি উপহার দিলেন সালমান ভারতের বিনোদন জ...\n",
              "11433        1433  ...  লেবুতেই ধ্বংস হবে করোনাভাইরাস রোনাভাইরাসের কোন...\n",
              "\n",
              "[11434 rows x 6 columns]"
            ]
          },
          "metadata": {
            "tags": []
          },
          "execution_count": 23
        }
      ]
    },
    {
      "cell_type": "code",
      "metadata": {
        "trusted": true,
        "id": "oVwSqHmNGpE6"
      },
      "source": [
        "df=news.drop([\"headline\",\"Unnamed: 0\",\"articleID\", \"content\"],axis=1)"
      ],
      "execution_count": null,
      "outputs": []
    },
    {
      "cell_type": "code",
      "metadata": {
        "trusted": true,
        "colab": {
          "base_uri": "https://localhost:8080/",
          "height": 419
        },
        "id": "9nRSW7meGpE7",
        "outputId": "f478ad2f-cc25-4512-8c95-662e4a64e621"
      },
      "source": [
        "df"
      ],
      "execution_count": null,
      "outputs": [
        {
          "output_type": "execute_result",
          "data": {
            "text/html": [
              "<div>\n",
              "<style scoped>\n",
              "    .dataframe tbody tr th:only-of-type {\n",
              "        vertical-align: middle;\n",
              "    }\n",
              "\n",
              "    .dataframe tbody tr th {\n",
              "        vertical-align: top;\n",
              "    }\n",
              "\n",
              "    .dataframe thead th {\n",
              "        text-align: right;\n",
              "    }\n",
              "</style>\n",
              "<table border=\"1\" class=\"dataframe\">\n",
              "  <thead>\n",
              "    <tr style=\"text-align: right;\">\n",
              "      <th></th>\n",
              "      <th>label</th>\n",
              "      <th>text</th>\n",
              "    </tr>\n",
              "  </thead>\n",
              "  <tbody>\n",
              "    <tr>\n",
              "      <th>0</th>\n",
              "      <td>1</td>\n",
              "      <td>হট্টগোল করায় বাকৃবিতে দুইজন বরখাস্ত, ৬ জনকে শো...</td>\n",
              "    </tr>\n",
              "    <tr>\n",
              "      <th>1</th>\n",
              "      <td>1</td>\n",
              "      <td>মালয়েশিয়ায় কর্মী পাঠানোর ব্যবস্থা নেয়ার সুপারি...</td>\n",
              "    </tr>\n",
              "    <tr>\n",
              "      <th>2</th>\n",
              "      <td>1</td>\n",
              "      <td>প্রেমের প্রস্তাবে রাজি না হওয়ায় স্কুলছাত্রীকে ...</td>\n",
              "    </tr>\n",
              "    <tr>\n",
              "      <th>3</th>\n",
              "      <td>1</td>\n",
              "      <td>মেডিয়েশনই মামলাজট নিরসনের পথ : বিচারপতি আহমেদ ...</td>\n",
              "    </tr>\n",
              "    <tr>\n",
              "      <th>4</th>\n",
              "      <td>1</td>\n",
              "      <td>টকশোতে বক্তব্য দিতে গিয়ে জাপা নেতার মৃত্যু মাদ...</td>\n",
              "    </tr>\n",
              "    <tr>\n",
              "      <th>...</th>\n",
              "      <td>...</td>\n",
              "      <td>...</td>\n",
              "    </tr>\n",
              "    <tr>\n",
              "      <th>11429</th>\n",
              "      <td>0</td>\n",
              "      <td>৫৭টি মুসলিম দেশকে নিয়ে ইসলামি সেনাবাহিনী গঠন এ...</td>\n",
              "    </tr>\n",
              "    <tr>\n",
              "      <th>11430</th>\n",
              "      <td>0</td>\n",
              "      <td>ইসরাইল প্রতিরোধে আসছে এরদোগানের ‘ইসলামিক আর্মি...</td>\n",
              "    </tr>\n",
              "    <tr>\n",
              "      <th>11431</th>\n",
              "      <td>0</td>\n",
              "      <td>৫৬০ মডেল মসজিদ নির্মাণ করবে সরকার ইসলামী মূল্য...</td>\n",
              "    </tr>\n",
              "    <tr>\n",
              "      <th>11432</th>\n",
              "      <td>0</td>\n",
              "      <td>রানুকে বাড়ি উপহার দিলেন সালমান ভারতের বিনোদন জ...</td>\n",
              "    </tr>\n",
              "    <tr>\n",
              "      <th>11433</th>\n",
              "      <td>0</td>\n",
              "      <td>লেবুতেই ধ্বংস হবে করোনাভাইরাস রোনাভাইরাসের কোন...</td>\n",
              "    </tr>\n",
              "  </tbody>\n",
              "</table>\n",
              "<p>11434 rows × 2 columns</p>\n",
              "</div>"
            ],
            "text/plain": [
              "       label                                               text\n",
              "0          1  হট্টগোল করায় বাকৃবিতে দুইজন বরখাস্ত, ৬ জনকে শো...\n",
              "1          1  মালয়েশিয়ায় কর্মী পাঠানোর ব্যবস্থা নেয়ার সুপারি...\n",
              "2          1  প্রেমের প্রস্তাবে রাজি না হওয়ায় স্কুলছাত্রীকে ...\n",
              "3          1  মেডিয়েশনই মামলাজট নিরসনের পথ : বিচারপতি আহমেদ ...\n",
              "4          1  টকশোতে বক্তব্য দিতে গিয়ে জাপা নেতার মৃত্যু মাদ...\n",
              "...      ...                                                ...\n",
              "11429      0  ৫৭টি মুসলিম দেশকে নিয়ে ইসলামি সেনাবাহিনী গঠন এ...\n",
              "11430      0  ইসরাইল প্রতিরোধে আসছে এরদোগানের ‘ইসলামিক আর্মি...\n",
              "11431      0  ৫৬০ মডেল মসজিদ নির্মাণ করবে সরকার ইসলামী মূল্য...\n",
              "11432      0  রানুকে বাড়ি উপহার দিলেন সালমান ভারতের বিনোদন জ...\n",
              "11433      0  লেবুতেই ধ্বংস হবে করোনাভাইরাস রোনাভাইরাসের কোন...\n",
              "\n",
              "[11434 rows x 2 columns]"
            ]
          },
          "metadata": {
            "tags": []
          },
          "execution_count": 25
        }
      ]
    },
    {
      "cell_type": "markdown",
      "metadata": {
        "id": "OI5zaMYWGpE9"
      },
      "source": [
        "# data Preproccessing\n",
        "We have to convert the raw messages (sequence of characters) into vectors (sequences of numbers).before that we need to do the following:\n",
        "1. Remove punctuation\n",
        "2. Remove numbers\n",
        "3. Remove tags\n",
        "4. Remove urls\n",
        "5. Remove stepwords\n",
        "6. Change the news to lower case\n",
        "7. Lemmatisation "
      ]
    },
    {
      "cell_type": "code",
      "metadata": {
        "trusted": true,
        "id": "zEhv65E2GpE9"
      },
      "source": [
        "import nltk\n",
        "import string\n",
        "from nltk.corpus import stopwords\n",
        "import re"
      ],
      "execution_count": null,
      "outputs": []
    },
    {
      "cell_type": "markdown",
      "metadata": {
        "id": "dCrnV9WLGpE9"
      },
      "source": [
        "The following 4 functions will help as to remove punctions (<,.'':, etc),numbers,tags and urls"
      ]
    },
    {
      "cell_type": "code",
      "metadata": {
        "colab": {
          "base_uri": "https://localhost:8080/"
        },
        "id": "DHORE3VhQudI",
        "outputId": "bace99f7-28d7-4578-f4ba-4a90a547d7c8"
      },
      "source": [
        "!pip install git+https://github.com/banglakit/lemmatizer.git#egg=banglakit-lemmatizer"
      ],
      "execution_count": null,
      "outputs": [
        {
          "output_type": "stream",
          "text": [
            "Collecting banglakit-lemmatizer\n",
            "  Cloning https://github.com/banglakit/lemmatizer.git to /tmp/pip-install-0raw498p/banglakit-lemmatizer\n",
            "  Running command git clone -q https://github.com/banglakit/lemmatizer.git /tmp/pip-install-0raw498p/banglakit-lemmatizer\n",
            "Building wheels for collected packages: banglakit-lemmatizer\n",
            "  Building wheel for banglakit-lemmatizer (setup.py) ... \u001b[?25l\u001b[?25hdone\n",
            "  Created wheel for banglakit-lemmatizer: filename=banglakit_lemmatizer-0.0.1-cp37-none-any.whl size=117717 sha256=74fbe24750ec6b31ae92c7d9559948560113a2df4e789edd2d908b6433081b7e\n",
            "  Stored in directory: /tmp/pip-ephem-wheel-cache-o_5cjpf2/wheels/55/76/fb/67135871b310a3abeb998cd696c64d8e9c495f2f33ce2e2e59\n",
            "Successfully built banglakit-lemmatizer\n",
            "Installing collected packages: banglakit-lemmatizer\n",
            "Successfully installed banglakit-lemmatizer-0.0.1\n"
          ],
          "name": "stdout"
        }
      ]
    },
    {
      "cell_type": "code",
      "metadata": {
        "id": "siwRajNcQ0BB"
      },
      "source": [
        "from banglakit.lemmatizer import BengaliLemmatizer"
      ],
      "execution_count": null,
      "outputs": []
    },
    {
      "cell_type": "code",
      "metadata": {
        "trusted": true,
        "id": "ILsjKsZFGpE-"
      },
      "source": [
        "#def rem_punctuation(text):\n",
        "#  return text.translate(str.maketrans('','',string.punctuation))\n",
        "#\n",
        "#def rem_tags(text):\n",
        "#  return re.sub('<.*?>',\" \",text)\n"
      ],
      "execution_count": null,
      "outputs": []
    },
    {
      "cell_type": "code",
      "metadata": {
        "id": "J3e-ezUpQ8jH"
      },
      "source": [
        "#striping punctuations\n",
        "puncList = [\"।\", \"”\", \"“\", \"’\"]\n",
        "for p in string.punctuation.lstrip():\n",
        "    puncList.append(p)"
      ],
      "execution_count": null,
      "outputs": []
    },
    {
      "cell_type": "code",
      "metadata": {
        "id": "DyiB_vC6REoU"
      },
      "source": [
        "\n",
        "#word tokenizer\n",
        "def word_tokenize(doc):\n",
        "    # remove punctuation\n",
        "    tokens = []\n",
        "    def cleanword(word):\n",
        "        for p in puncList:\n",
        "            word = word.replace(p, \"\")\n",
        "        word = re.sub(r'[\\u09E6-\\u09EF]', \"\", word, re.DEBUG)  # replace digits\n",
        "\n",
        "        return word\n",
        "\n",
        "    for word in doc.split(\" \"):\n",
        "        word = cleanword(word)\n",
        "        if word != \"\":\n",
        "            tokens.append(word)\n",
        "\n",
        "    return tokens"
      ],
      "execution_count": null,
      "outputs": []
    },
    {
      "cell_type": "code",
      "metadata": {
        "trusted": true,
        "colab": {
          "base_uri": "https://localhost:8080/"
        },
        "id": "7KbomGYvGpE-",
        "outputId": "6421001b-affc-4fa5-d050-bef854bd9d09"
      },
      "source": [
        "#df['text'].apply(rem_punctuation)"
      ],
      "execution_count": null,
      "outputs": [
        {
          "output_type": "execute_result",
          "data": {
            "text/plain": [
              "0        হট্টগোল করায় বাকৃবিতে দুইজন বরখাস্ত ৬ জনকে শোক...\n",
              "1        মালয়েশিয়ায় কর্মী পাঠানোর ব্যবস্থা নেয়ার সুপারি...\n",
              "2        প্রেমের প্রস্তাবে রাজি না হওয়ায় স্কুলছাত্রীকে ...\n",
              "3        মেডিয়েশনই মামলাজট নিরসনের পথ  বিচারপতি আহমেদ স...\n",
              "4        টকশোতে বক্তব্য দিতে গিয়ে জাপা নেতার মৃত্যু মাদ...\n",
              "                               ...                        \n",
              "11429    ৫৭টি মুসলিম দেশকে নিয়ে ইসলামি সেনাবাহিনী গঠন এ...\n",
              "11430    ইসরাইল প্রতিরোধে আসছে এরদোগানের ‘ইসলামিক আর্মি...\n",
              "11431    ৫৬০ মডেল মসজিদ নির্মাণ করবে সরকার ইসলামী মূল্য...\n",
              "11432    রানুকে বাড়ি উপহার দিলেন সালমান ভারতের বিনোদন জ...\n",
              "11433    লেবুতেই ধ্বংস হবে করোনাভাইরাস রোনাভাইরাসের কোন...\n",
              "Name: text, Length: 11434, dtype: object"
            ]
          },
          "metadata": {
            "tags": []
          },
          "execution_count": 28
        }
      ]
    },
    {
      "cell_type": "code",
      "metadata": {
        "id": "aVD5uireMKtu"
      },
      "source": [
        "stopWords = []\n",
        "with open('/content/drive/MyDrive/research/bengali', 'r', encoding=\"utf8\") as f:\n",
        "    for row in f:  # iterate over the rows in the file\n",
        "        row = row.replace(\"\\n\", \"\")\n",
        "        stopWords.append(row)"
      ],
      "execution_count": null,
      "outputs": []
    },
    {
      "cell_type": "markdown",
      "metadata": {
        "id": "SsEUvTi0GpE_"
      },
      "source": [
        "rem_stopwords() is the function for removing stopwords and for converting the words to lower case"
      ]
    },
    {
      "cell_type": "code",
      "metadata": {
        "trusted": true,
        "id": "s2RBFnwaGpE_"
      },
      "source": [
        "#def rem_stopwords(df_news):\n",
        "    \n",
        "#    #words = [ch for ch in df_news if ch not in stopWords]\n",
        "#    #words= \"\".join(words).split()\n",
        "#    df_news = remove_stopwords(df_news, stopwords)\n",
        "#    return df_news"
      ],
      "execution_count": null,
      "outputs": []
    },
    {
      "cell_type": "code",
      "metadata": {
        "id": "8slFMuoORPCB"
      },
      "source": [
        "import re\n",
        "import string\n",
        "\n",
        "# from nltk.corpus import stopwords\n",
        "\n",
        "def clean_text(text):\n",
        "    \"\"\"Process text function.\n",
        "    Input:\n",
        "        tweet: a string containing a tweet\n",
        "    Output:\n",
        "        tweets_clean: a list of words containing the processed tweet\n",
        "    \"\"\"\n",
        "    lemmatizer = BengaliLemmatizer()\n",
        "    # stopwords_english = stopwords.words('english')\n",
        "\n",
        "    stopWords_Bangla= stopWords\n",
        "\n",
        "\n",
        "    #text= re.sub('\\[[^]]*\\]', '', text)\n",
        "    # remove stock market tickers like $GE\n",
        "    #text = re.sub(r'\\$\\w*', '', text)\n",
        "    #removal of html tags\n",
        "    #review =re.sub(r'<.*?>',' ',text) \n",
        "    # remove old style retweet text \"RT\"\n",
        "    #text = re.sub(r'^RT[\\s]+', '', text)\n",
        "    # remove hyperlinks\n",
        "    #text = re.sub(r'https?:\\/\\/.*[\\r\\n]*', '', text)\n",
        "    # remove hashtags\n",
        "    # only removing the hash # sign from the word\n",
        "    #text = re.sub(r'#', '', text)\n",
        "    text = re.sub(\"[\"\n",
        "                           u\"\\U0001F600-\\U0001F64F\"  # removal of emoticons\n",
        "                           u\"\\U0001F300-\\U0001F5FF\"  # symbols & pictographs\n",
        "                           u\"\\U0001F680-\\U0001F6FF\"  # transport & map symbols\n",
        "                           u\"\\U0001F1E0-\\U0001F1FF\"  # flags (iOS)\n",
        "                           u\"\\U00002702-\\U000027B0\"\n",
        "                           u\"\\U000024C2-\\U0001F251\"\n",
        "                           \"]+\",' ',text)\n",
        "    text = re.sub('[\\u09E6-\\u09EF]',' ',text) \n",
        "    # text = text.lower()\n",
        "    text_tokens =word_tokenize(text)\n",
        "\n",
        "    text_clean = []\n",
        "    for word in  text_tokens:\n",
        "        if (word not in stopWords_Bangla and  # remove stopwords\n",
        "                word not in string.punctuation):  # remove punctuation\n",
        "            lem_word =lemmatizer.lemmatize(word)  # lemmitiging word\n",
        "            text_clean.append(lem_word)\n",
        "    text_mod=[i for i in text_clean if len(i)>2]\n",
        "    text_clean=' '.join(text_mod)\n",
        "    return  text_clean"
      ],
      "execution_count": null,
      "outputs": []
    },
    {
      "cell_type": "code",
      "metadata": {
        "trusted": true,
        "id": "CzjMOOpGGpFA"
      },
      "source": [
        "#df['text'].apply(rem_stopwords)\n",
        "df['clean_text']=df['text'].apply(lambda x: clean_text(x))"
      ],
      "execution_count": null,
      "outputs": []
    },
    {
      "cell_type": "code",
      "metadata": {
        "colab": {
          "base_uri": "https://localhost:8080/"
        },
        "id": "GefFZfZRR_w2",
        "outputId": "7d2577da-9d08-441f-8f67-07381f0853fc"
      },
      "source": [
        "df.clean_text"
      ],
      "execution_count": null,
      "outputs": [
        {
          "output_type": "execute_result",
          "data": {
            "text/plain": [
              "0        হট্টগোল বাকৃবিতে দুইজন বরখাস্ত শোকজ সেপ্টেম্বর...\n",
              "1        মালয়েশিয়ায় কর্মী পাঠানোর ব্যবস্থা নেয়ার সুপারি...\n",
              "2        প্রেমের প্রস্তাবে রাজি হওয়ায় স্কুলছাত্রীকে কুপ...\n",
              "3        মেডিয়েশনই মামলাজট নিরসনের বিচারপতি আহমেদ সোহেল...\n",
              "4        টকশোতে জাপা নেতার মৃত্যু মাদারীপুর সদরের উপজেল...\n",
              "                               ...                        \n",
              "11429    মুসলিম দেশকে ইসলামি সেনাবাহিনী গঠন এটিকে আর্মি...\n",
              "11430    ইসরাইল প্রতিরোধে আসছে এরদোগানের ‘ইসলামিক আর্মি...\n",
              "11431    মডেল মসজিদ নির্মাণ সরকার ইসলামী মূল্যবোধের উন্...\n",
              "11432    রানুকে বাড়ি উপহার সালমান ভারতের বিনোদন জগতে সব...\n",
              "11433    লেবুতেই ধ্বংস করোনাভাইরাস রোনাভাইরাসের প্রতিষে...\n",
              "Name: clean_text, Length: 11434, dtype: object"
            ]
          },
          "metadata": {
            "tags": []
          },
          "execution_count": 38
        }
      ]
    },
    {
      "cell_type": "markdown",
      "metadata": {
        "id": "Xwk6KEJKGpFA"
      },
      "source": [
        "* **Lemmatization** \n",
        "performs vocabulary and morphological analysis of the word and is normally aimed at removing **inflectional endings** only.That isconvert the words to their base or root form eg in \"plays\" it is converted to \"play\" by removing \"s\""
      ]
    },
    {
      "cell_type": "code",
      "metadata": {
        "trusted": true,
        "id": "7Q8zOTuQGpFA"
      },
      "source": [
        "#from nltk.stem import WordNetLemmatizer\n",
        "#from banglakit.lemmatizer import BengaliLemmatizer\n",
        "#nltk.download('wordnet')\n",
        "#lemmatizer = BengaliLemmatizer()\n",
        "\n",
        "#def lemmatize_words(text):\n",
        "#  lemmas = []\n",
        "#  for word in text.split():\n",
        "#    lemmas.append(lemmatizer.lemmatize(word))\n",
        "#  return \" \".join(lemmas)"
      ],
      "execution_count": null,
      "outputs": []
    },
    {
      "cell_type": "code",
      "metadata": {
        "trusted": true,
        "id": "e7UIrnyFGpFB",
        "outputId": "8a14ca2c-bf00-40c2-c056-8bd8552eedf2"
      },
      "source": [
        "#df['text'].apply(lemmatize_words)\n"
      ],
      "execution_count": null,
      "outputs": [
        {
          "output_type": "execute_result",
          "data": {
            "text/plain": [
              "0        WASHINGTON (Reuters) - The head of a conservat...\n",
              "1        WASHINGTON (Reuters) - Transgender people will...\n",
              "2        WASHINGTON (Reuters) - The special counsel inv...\n",
              "3        WASHINGTON (Reuters) - Trump campaign adviser ...\n",
              "4        SEATTLE/WASHINGTON (Reuters) - President Donal...\n",
              "                               ...                        \n",
              "23476    21st Century Wire say As 21WIRE reported earli...\n",
              "23477    21st Century Wire say It s a familiar theme. W...\n",
              "23478    Patrick Henningsen 21st Century WireRemember w...\n",
              "23479    21st Century Wire say Al Jazeera America will ...\n",
              "23480    21st Century Wire say As 21WIRE predicted in i...\n",
              "Name: text, Length: 44898, dtype: object"
            ]
          },
          "metadata": {
            "tags": []
          },
          "execution_count": 19
        }
      ]
    },
    {
      "cell_type": "markdown",
      "metadata": {
        "id": "UL_0haPrGpFB"
      },
      "source": [
        "# Tokenizing & Padding\n",
        "\n",
        "* **Tokenizing**\n",
        "is the process of breaking down a text into words. Tokenization can happen on any character, however the most common way of tokenization is to do it on space character.\n",
        "\n",
        "* **Padding**\n",
        "Naturally, some of the sentences are longer or shorter. We need to have the inputs with the same size, for this we use padding"
      ]
    },
    {
      "cell_type": "code",
      "metadata": {
        "trusted": true,
        "id": "4btkhIppGpFC"
      },
      "source": [
        "from keras.preprocessing.text import Tokenizer\n",
        "\n",
        "from tensorflow.keras.utils import to_categorical\n"
      ],
      "execution_count": null,
      "outputs": []
    },
    {
      "cell_type": "code",
      "metadata": {
        "trusted": true,
        "id": "-qdJYie5GpFC"
      },
      "source": [
        "x = df['clean_text'].values\n",
        "y= df['label'].values"
      ],
      "execution_count": null,
      "outputs": []
    },
    {
      "cell_type": "code",
      "metadata": {
        "trusted": true,
        "id": "lnqwA_ICGpFD"
      },
      "source": [
        "tokenizer = Tokenizer()\n",
        "tokenizer.fit_on_texts(x)\n",
        "word_to_index = tokenizer.word_index\n",
        "x = tokenizer.texts_to_sequences(x)"
      ],
      "execution_count": null,
      "outputs": []
    },
    {
      "cell_type": "code",
      "metadata": {
        "trusted": true,
        "id": "LFPwcCO2GpFD"
      },
      "source": [
        "vocab_size =  len(word_to_index)\n",
        "oov_tok = \"<OOV>\"\n",
        "max_length = 250\n",
        "embedding_dim = 100"
      ],
      "execution_count": null,
      "outputs": []
    },
    {
      "cell_type": "code",
      "metadata": {
        "trusted": true,
        "id": "sAEk4JzjGpFD"
      },
      "source": [
        "from keras.preprocessing.sequence import pad_sequences\n",
        "\n",
        "x = pad_sequences(x, maxlen=max_length)"
      ],
      "execution_count": null,
      "outputs": []
    },
    {
      "cell_type": "markdown",
      "metadata": {
        "id": "gxxoJ1IDGpFE"
      },
      "source": [
        "# Vectorization\n",
        " Word vectorization is a methodology in NLP to map words or phrases from vocabulary to a corresponding vector of real numbers \n",
        " There are many  method for doing vectorization including  Bag of words,TFIDF or prettrained method such as Word2Vec ,Glove etc\n",
        " \n",
        " we are using **GloVe** learning algorithm for obtaining vector representations for words devolped by Stanford\n",
        " "
      ]
    },
    {
      "cell_type": "code",
      "metadata": {
        "trusted": true,
        "id": "stRJ5hLaGpFE"
      },
      "source": [
        "embeddings_index = {};\n",
        "with open('/content/drive/MyDrive/research/bn_glove.39M.100d.txt') as f:\n",
        "    for line in f:\n",
        "        values = line.split();\n",
        "        word = values[0];\n",
        "        coefs = np.asarray(values[1:], dtype='float32');\n",
        "        embeddings_index[word] = coefs;\n",
        "\n",
        "embeddings_matrix = np.zeros((vocab_size+1, embedding_dim));\n",
        "for word, i in word_to_index.items():\n",
        "    embedding_vector = embeddings_index.get(word);\n",
        "    if embedding_vector is not None:\n",
        "        embeddings_matrix[i] = embedding_vector;"
      ],
      "execution_count": null,
      "outputs": []
    },
    {
      "cell_type": "code",
      "metadata": {
        "trusted": true,
        "id": "xrsIEio5GpFF"
      },
      "source": [
        "from sklearn.model_selection import train_test_split\n",
        "X_train,X_test,y_train,y_test = train_test_split(x,y,test_size=0.30,random_state=1)\n"
      ],
      "execution_count": null,
      "outputs": []
    },
    {
      "cell_type": "code",
      "metadata": {
        "trusted": true,
        "colab": {
          "base_uri": "https://localhost:8080/"
        },
        "id": "dgSodMyPGpFG",
        "outputId": "05954781-d208-4e6b-fd78-bb756c46381d"
      },
      "source": [
        "import tensorflow as tf\n",
        "\n",
        "model = tf.keras.Sequential([\n",
        "    tf.keras.layers.Embedding(vocab_size+1, embedding_dim, input_length=max_length, weights=[embeddings_matrix], trainable=False),\n",
        "    tf.keras.layers.LSTM(64,return_sequences=True),\n",
        "    tf.keras.layers.Dropout(0.2),\n",
        "    tf.keras.layers.LSTM(32),\n",
        "    tf.keras.layers.Dropout(0.2),\n",
        "    tf.keras.layers.Dense(24, activation='relu'),\n",
        "    tf.keras.layers.Dense(1, activation='sigmoid')\n",
        "\n",
        "   \n",
        "])\n",
        "model.compile(loss='binary_crossentropy',optimizer='adam',metrics=['accuracy'])\n",
        "model.summary()"
      ],
      "execution_count": null,
      "outputs": [
        {
          "output_type": "stream",
          "text": [
            "Model: \"sequential\"\n",
            "_________________________________________________________________\n",
            "Layer (type)                 Output Shape              Param #   \n",
            "=================================================================\n",
            "embedding (Embedding)        (None, 250, 100)          13347600  \n",
            "_________________________________________________________________\n",
            "lstm (LSTM)                  (None, 250, 64)           42240     \n",
            "_________________________________________________________________\n",
            "dropout (Dropout)            (None, 250, 64)           0         \n",
            "_________________________________________________________________\n",
            "lstm_1 (LSTM)                (None, 32)                12416     \n",
            "_________________________________________________________________\n",
            "dropout_1 (Dropout)          (None, 32)                0         \n",
            "_________________________________________________________________\n",
            "dense (Dense)                (None, 24)                792       \n",
            "_________________________________________________________________\n",
            "dense_1 (Dense)              (None, 1)                 25        \n",
            "=================================================================\n",
            "Total params: 13,403,073\n",
            "Trainable params: 55,473\n",
            "Non-trainable params: 13,347,600\n",
            "_________________________________________________________________\n"
          ],
          "name": "stdout"
        }
      ]
    },
    {
      "cell_type": "code",
      "metadata": {
        "trusted": true,
        "colab": {
          "base_uri": "https://localhost:8080/"
        },
        "id": "hzBdre-GGpFG",
        "outputId": "91eaf04a-bb27-4530-c4c6-362727dd0446"
      },
      "source": [
        "epochs = 10\n",
        "history = model.fit(X_train,y_train,epochs=epochs,validation_data=(X_test,y_test),batch_size=128)"
      ],
      "execution_count": null,
      "outputs": [
        {
          "output_type": "stream",
          "text": [
            "Epoch 1/10\n",
            "63/63 [==============================] - 42s 604ms/step - loss: 0.3618 - accuracy: 0.8559 - val_loss: 0.2510 - val_accuracy: 0.9015\n",
            "Epoch 2/10\n",
            "63/63 [==============================] - 37s 593ms/step - loss: 0.2372 - accuracy: 0.9060 - val_loss: 0.2058 - val_accuracy: 0.9260\n",
            "Epoch 3/10\n",
            "63/63 [==============================] - 37s 594ms/step - loss: 0.2099 - accuracy: 0.9197 - val_loss: 0.1914 - val_accuracy: 0.9309\n",
            "Epoch 4/10\n",
            "63/63 [==============================] - 37s 588ms/step - loss: 0.1879 - accuracy: 0.9323 - val_loss: 0.1816 - val_accuracy: 0.9338\n",
            "Epoch 5/10\n",
            "63/63 [==============================] - 37s 593ms/step - loss: 0.1802 - accuracy: 0.9334 - val_loss: 0.1608 - val_accuracy: 0.9432\n",
            "Epoch 6/10\n",
            "63/63 [==============================] - 37s 590ms/step - loss: 0.1582 - accuracy: 0.9416 - val_loss: 0.1568 - val_accuracy: 0.9455\n",
            "Epoch 7/10\n",
            "63/63 [==============================] - 37s 588ms/step - loss: 0.1461 - accuracy: 0.9470 - val_loss: 0.1541 - val_accuracy: 0.9449\n",
            "Epoch 8/10\n",
            "63/63 [==============================] - 37s 588ms/step - loss: 0.1390 - accuracy: 0.9491 - val_loss: 0.1492 - val_accuracy: 0.9443\n",
            "Epoch 9/10\n",
            "63/63 [==============================] - 37s 589ms/step - loss: 0.1214 - accuracy: 0.9571 - val_loss: 0.1562 - val_accuracy: 0.9440\n",
            "Epoch 10/10\n",
            "63/63 [==============================] - 37s 588ms/step - loss: 0.1046 - accuracy: 0.9633 - val_loss: 0.1554 - val_accuracy: 0.9449\n"
          ],
          "name": "stdout"
        }
      ]
    },
    {
      "cell_type": "code",
      "metadata": {
        "trusted": true,
        "colab": {
          "base_uri": "https://localhost:8080/"
        },
        "id": "MlqX6ApJGpFH",
        "outputId": "64e05cb6-7ff4-4e12-a9ed-35a1aa5c1693"
      },
      "source": [
        "result = model.evaluate(X_test, y_test)\n",
        "# extract those\n",
        "loss = result[0]\n",
        "accuracy = result[1]\n",
        "\n",
        "\n",
        "print(f\"[+] Accuracy: {accuracy*100:.2f}%\")"
      ],
      "execution_count": null,
      "outputs": [
        {
          "output_type": "stream",
          "text": [
            "108/108 [==============================] - 6s 57ms/step - loss: 0.1554 - accuracy: 0.9449\n",
            "[+] Accuracy: 94.49%\n"
          ],
          "name": "stdout"
        }
      ]
    },
    {
      "cell_type": "code",
      "metadata": {
        "id": "WTXFfOL9U9EK"
      },
      "source": [
        "pred = model.predict(X_test)\n",
        "predictions = []\n",
        "\n",
        "for i in pred:\n",
        "    if i >= 0.5:\n",
        "        predictions.append(1)\n",
        "    else:\n",
        "        predictions.append(0) "
      ],
      "execution_count": null,
      "outputs": []
    },
    {
      "cell_type": "code",
      "metadata": {
        "colab": {
          "base_uri": "https://localhost:8080/"
        },
        "id": "UgMKKviqUjq-",
        "outputId": "9e84576f-a803-4c7c-91e1-bac8beb24854"
      },
      "source": [
        "print('Accuracy on testing set:', accuracy_score(predictions, y_test))\n",
        "print('Precision on testing set:', precision_score(predictions, y_test))\n",
        "print('Recall on testing set:', recall_score(predictions, y_test))\n",
        "print('Classification Report: \\n', classification_report(predictions, y_test))"
      ],
      "execution_count": null,
      "outputs": [
        {
          "output_type": "stream",
          "text": [
            "Accuracy on testing set: 0.9449140192363742\n",
            "Precision on testing set: 0.9867241951543312\n",
            "Recall on testing set: 0.9522741832158873\n",
            "Classification Report: \n",
            "               precision    recall  f1-score   support\n",
            "\n",
            "           0       0.64      0.87      0.74       309\n",
            "           1       0.99      0.95      0.97      3122\n",
            "\n",
            "    accuracy                           0.94      3431\n",
            "   macro avg       0.82      0.91      0.85      3431\n",
            "weighted avg       0.96      0.94      0.95      3431\n",
            "\n"
          ],
          "name": "stdout"
        }
      ]
    },
    {
      "cell_type": "code",
      "metadata": {
        "id": "5NfrTEhAVgDA"
      },
      "source": [
        "def plot_confusion_matrix(cm,classes,normalize=False,title='Confusion Matrix', cmap = plt.cm.Greens):\n",
        "    plt.imshow(cm,interpolation = 'nearest',cmap = cmap)\n",
        "    plt.title(title)\n",
        "    plt.colorbar()\n",
        "    tick_marks = np.arange(len(classes))\n",
        "    plt.xticks(tick_marks,classes,rotation=45)\n",
        "    plt.yticks(tick_marks, classes)\n",
        "    \n",
        "    if normalize:\n",
        "        cm = cm.astype('float') / cm.sum(axis = 1)[:, np.newaxis]\n",
        "        print(\"Normalized CM\")\n",
        "    else:\n",
        "        print(\"CM not normalized\")\n",
        "        \n",
        "    thresh = cm.max() / 2.\n",
        "    for i, j in itertools.product(range(cm.shape[0]), range(cm.shape[1])):\n",
        "        plt.text(j, i, cm[i, j],\n",
        "                 horizontalalignment=\"center\",\n",
        "                 color=\"white\" if cm[i, j] > thresh else \"black\")\n",
        "\n",
        "    plt.tight_layout()\n",
        "    plt.ylabel('True label')\n",
        "    plt.xlabel('Predicted label')"
      ],
      "execution_count": null,
      "outputs": []
    },
    {
      "cell_type": "code",
      "metadata": {
        "id": "RkEpRBYQV9Yh"
      },
      "source": [
        "cm = confusion_matrix(predictions, y_test)"
      ],
      "execution_count": null,
      "outputs": []
    },
    {
      "cell_type": "code",
      "metadata": {
        "colab": {
          "base_uri": "https://localhost:8080/",
          "height": 328
        },
        "id": "MGnjcairV8wz",
        "outputId": "fd74bba1-252c-41fc-e772-615568ed72dd"
      },
      "source": [
        "# Plot Confusion Matrix\n",
        "plot_confusion_matrix(cm,classes = ['Fake','Real'])"
      ],
      "execution_count": null,
      "outputs": [
        {
          "output_type": "stream",
          "text": [
            "CM not normalized\n"
          ],
          "name": "stdout"
        },
        {
          "output_type": "display_data",
          "data": {
            "image/png": "[encoded data removed]",
            "text/plain": [
              "<Figure size 432x288 with 2 Axes>"
            ]
          },
          "metadata": {
            "tags": []
          }
        }
      ]
    },
    {
      "cell_type": "code",
      "metadata": {
        "id": "iCNYCZjMWDTF"
      },
      "source": [
        ""
      ],
      "execution_count": null,
      "outputs": []
    }
  ]
}